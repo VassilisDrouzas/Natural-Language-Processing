{
 "cells": [
  {
   "cell_type": "markdown",
   "id": "0fcf7fbe-a216-4b97-8063-7fdc9f9ae91f",
   "metadata": {},
   "source": [
    "# Text Analytics: 2nd Assignment (Part 1: Exercise 9)\n",
    "## MSc in Data Science (2023/2024)"
   ]
  },
  {
   "cell_type": "markdown",
   "id": "b5bfb9c9-35fe-4522-af77-5c7f9502ae64",
   "metadata": {
    "id": "b5bfb9c9-35fe-4522-af77-5c7f9502ae64"
   },
   "source": [
    "## Dataset : Cornell Movie Review Data"
   ]
  },
  {
   "cell_type": "code",
   "execution_count": 1,
   "id": "a8acb39d-9baf-479f-99a7-feb46f97bbb4",
   "metadata": {
    "colab": {
     "base_uri": "https://localhost:8080/"
    },
    "id": "a8acb39d-9baf-479f-99a7-feb46f97bbb4",
    "outputId": "5b3460a8-8516-4f39-d5b3-d1c967b0fc53"
   },
   "outputs": [
    {
     "name": "stderr",
     "output_type": "stream",
     "text": [
      "2024-02-14 12:11:23.602159: E external/local_xla/xla/stream_executor/cuda/cuda_dnn.cc:9261] Unable to register cuDNN factory: Attempting to register factory for plugin cuDNN when one has already been registered\n",
      "2024-02-14 12:11:23.602246: E external/local_xla/xla/stream_executor/cuda/cuda_fft.cc:607] Unable to register cuFFT factory: Attempting to register factory for plugin cuFFT when one has already been registered\n",
      "2024-02-14 12:11:23.679850: E external/local_xla/xla/stream_executor/cuda/cuda_blas.cc:1515] Unable to register cuBLAS factory: Attempting to register factory for plugin cuBLAS when one has already been registered\n",
      "2024-02-14 12:11:23.826620: I tensorflow/core/platform/cpu_feature_guard.cc:182] This TensorFlow binary is optimized to use available CPU instructions in performance-critical operations.\n",
      "To enable the following instructions: AVX2 FMA, in other operations, rebuild TensorFlow with the appropriate compiler flags.\n",
      "2024-02-14 12:11:25.403907: W tensorflow/compiler/tf2tensorrt/utils/py_utils.cc:38] TF-TRT Warning: Could not find TensorRT\n"
     ]
    }
   ],
   "source": [
    "import nltk\n",
    "from nltk.corpus import stopwords\n",
    "from nltk.stem import WordNetLemmatizer\n",
    "from nltk.tokenize import word_tokenize\n",
    "import string\n",
    "import re\n",
    "from tqdm.auto import tqdm\n",
    "import random\n",
    "import math\n",
    "from sklearn.feature_extraction.text import TfidfVectorizer\n",
    "from sklearn.decomposition import TruncatedSVD\n",
    "from sklearn.model_selection import GridSearchCV\n",
    "from sklearn.linear_model import LogisticRegression\n",
    "from sklearn.metrics import classification_report\n",
    "from sklearn.model_selection import train_test_split\n",
    "from sklearn.dummy import DummyClassifier\n",
    "from sklearn.preprocessing import LabelBinarizer\n",
    "import numpy as np\n",
    "import os\n",
    "from sklearn.metrics import f1_score, recall_score, precision_score\n",
    "import time\n",
    "import tensorflow as tf\n",
    "from tensorflow.keras.callbacks import ModelCheckpoint\n",
    "from tensorflow.keras.models import Sequential\n",
    "from tensorflow.keras.layers import Dense, Dropout\n",
    "from tensorflow.keras.optimizers import Adam, SGD\n",
    "from sklearn.model_selection import ParameterGrid\n",
    "from sklearn.metrics import accuracy_score\n",
    "from itertools import product\n",
    "%matplotlib inline\n",
    "import matplotlib.pyplot as plt\n",
    "from collections import Counter\n",
    "from itertools import product"
   ]
  },
  {
   "cell_type": "code",
   "execution_count": 2,
   "id": "d0c053ed-f5b9-4174-95a2-7db9ff3ff4c0",
   "metadata": {},
   "outputs": [],
   "source": [
    "os.environ['TF_CPP_MIN_LOG_LEVEL'] = '3'"
   ]
  },
  {
   "cell_type": "code",
   "execution_count": 3,
   "id": "4d0f63bc-8b9f-445d-8ae6-c3363e436d66",
   "metadata": {},
   "outputs": [
    {
     "name": "stderr",
     "output_type": "stream",
     "text": [
      "[nltk_data] Downloading package stopwords to /home/dimits/nltk_data...\n",
      "[nltk_data]   Package stopwords is already up-to-date!\n",
      "[nltk_data] Downloading package wordnet to /home/dimits/nltk_data...\n",
      "[nltk_data]   Package wordnet is already up-to-date!\n",
      "[nltk_data] Downloading package punkt to /home/dimits/nltk_data...\n",
      "[nltk_data]   Package punkt is already up-to-date!\n"
     ]
    },
    {
     "data": {
      "text/plain": [
       "True"
      ]
     },
     "execution_count": 3,
     "metadata": {},
     "output_type": "execute_result"
    }
   ],
   "source": [
    "nltk.download('stopwords')\n",
    "nltk.download('wordnet')\n",
    "nltk.download('punkt')"
   ]
  },
  {
   "cell_type": "code",
   "execution_count": 4,
   "id": "b124fd8c-1035-48e7-9dc2-2fc1b599d94d",
   "metadata": {
    "colab": {
     "base_uri": "https://localhost:8080/"
    },
    "id": "b124fd8c-1035-48e7-9dc2-2fc1b599d94d",
    "outputId": "4b958a6d-7a90-4616-a73d-b10f05387769"
   },
   "outputs": [
    {
     "name": "stdout",
     "output_type": "stream",
     "text": [
      "--2024-02-14 12:11:28--  https://www.cs.cornell.edu/people/pabo/movie-review-data/review_polarity.tar.gz\n",
      "Resolving www.cs.cornell.edu (www.cs.cornell.edu)... 132.236.207.36\n",
      "Connecting to www.cs.cornell.edu (www.cs.cornell.edu)|132.236.207.36|:443... connected.\n",
      "HTTP request sent, awaiting response... 200 OK\n",
      "Length: 3127238 (3,0M) [application/x-gzip]\n",
      "Saving to: ‘review_polarity.tar.gz.10’\n",
      "\n",
      "review_polarity.tar 100%[===================>]   2,98M   342KB/s    in 8,5s    \n",
      "\n",
      "2024-02-14 12:11:38 (360 KB/s) - ‘review_polarity.tar.gz.10’ saved [3127238/3127238]\n",
      "\n"
     ]
    }
   ],
   "source": [
    "!wget https://www.cs.cornell.edu/people/pabo/movie-review-data/review_polarity.tar.gz"
   ]
  },
  {
   "cell_type": "code",
   "execution_count": 5,
   "id": "91a9d448-2512-4a32-bb8d-4ddafcdc3c55",
   "metadata": {
    "colab": {
     "base_uri": "https://localhost:8080/"
    },
    "id": "91a9d448-2512-4a32-bb8d-4ddafcdc3c55",
    "outputId": "5f68a591-8f3b-449a-e423-6ff62f130543",
    "scrolled": true
   },
   "outputs": [],
   "source": [
    "%%capture\n",
    "!tar xvzf review_polarity.tar.gz"
   ]
  },
  {
   "cell_type": "code",
   "execution_count": 6,
   "id": "d414c1e2-e967-4384-8d3e-3981c7815862",
   "metadata": {
    "id": "d414c1e2-e967-4384-8d3e-3981c7815862"
   },
   "outputs": [],
   "source": [
    "import os\n",
    "from sklearn.datasets import load_files\n",
    "\n",
    "\n",
    "dataset_path = 'txt_sentoken'\n",
    "movie_reviews = load_files(container_path = dataset_path, encoding = 'utf-8')\n",
    "\n",
    "\n",
    "x = movie_reviews.data            #the data\n",
    "y = movie_reviews.target          #the labels\n",
    "z = movie_reviews.target_names    #the names of labels"
   ]
  },
  {
   "cell_type": "code",
   "execution_count": 7,
   "id": "7a309b1c-5b50-4b6c-bb0b-27392f5949f8",
   "metadata": {
    "colab": {
     "base_uri": "https://localhost:8080/"
    },
    "id": "7a309b1c-5b50-4b6c-bb0b-27392f5949f8",
    "outputId": "d78d1457-8ddb-49ff-b6f4-368af64db59c"
   },
   "outputs": [
    {
     "data": {
      "text/plain": [
       "[\"arnold schwarzenegger has been an icon for action enthusiasts , since the late 80's , but lately his films have been very sloppy and the one-liners are getting worse . \\nit's hard seeing arnold as mr . freeze in batman and robin , especially when he says tons of ice jokes , but hey he got 15 million , what's it matter to him ? \\nonce again arnold has signed to do another expensive blockbuster , that can't compare with the likes of the terminator series , true lies and even eraser . \\nin this so called dark thriller , the devil ( gabriel byrne ) has come upon earth , to impregnate a woman ( robin tunney ) which happens every 1000 years , and basically destroy the world , but apparently god has chosen one man , and that one man is jericho cane ( arnold himself ) . \\nwith the help of a trusty sidekick ( kevin pollack ) , they will stop at nothing to let the devil take over the world ! \\nparts of this are actually so absurd , that they would fit right in with dogma . \\nyes , the film is that weak , but it's better than the other blockbuster right now ( sleepy hollow ) , but it makes the world is not enough look like a 4 star film . \\nanyway , this definitely doesn't seem like an arnold movie . \\nit just wasn't the type of film you can see him doing . \\nsure he gave us a few chuckles with his well known one-liners , but he seemed confused as to where his character and the film was going . \\nit's understandable , especially when the ending had to be changed according to some sources . \\naside form that , he still walked through it , much like he has in the past few films . \\ni'm sorry to say this arnold but maybe these are the end of your action days . \\nspeaking of action , where was it in this film ? \\nthere was hardly any explosions or fights . \\nthe devil made a few places explode , but arnold wasn't kicking some devil butt . \\nthe ending was changed to make it more spiritual , which undoubtedly ruined the film . \\ni was at least hoping for a cool ending if nothing else occurred , but once again i was let down . \\ni also don't know why the film took so long and cost so much . \\nthere was really no super affects at all , unless you consider an invisible devil , who was in it for 5 minutes tops , worth the overpriced budget . \\nthe budget should have gone into a better script , where at least audiences could be somewhat entertained instead of facing boredom . \\nit's pitiful to see how scripts like these get bought and made into a movie . \\ndo they even read these things anymore ? \\nit sure doesn't seem like it . \\nthankfully gabriel's performance gave some light to this poor film . \\nwhen he walks down the street searching for robin tunney , you can't help but feel that he looked like a devil . \\nthe guy is creepy looking anyway ! \\nwhen it's all over , you're just glad it's the end of the movie . \\ndon't bother to see this , if you're expecting a solid action flick , because it's neither solid nor does it have action . \\nit's just another movie that we are suckered in to seeing , due to a strategic marketing campaign . \\nsave your money and see the world is not enough for an entertaining experience . \\n\"]"
      ]
     },
     "execution_count": 7,
     "metadata": {},
     "output_type": "execute_result"
    }
   ],
   "source": [
    "x[:1]"
   ]
  },
  {
   "cell_type": "code",
   "execution_count": 8,
   "id": "090e57a5-8c4d-4887-ace5-8dfc8e8ed3a6",
   "metadata": {
    "colab": {
     "base_uri": "https://localhost:8080/"
    },
    "id": "090e57a5-8c4d-4887-ace5-8dfc8e8ed3a6",
    "outputId": "8dd5fc4b-63f0-4976-b2be-1d90a9ee55e5"
   },
   "outputs": [
    {
     "data": {
      "text/plain": [
       "array([0, 1, 1, ..., 1, 0, 0])"
      ]
     },
     "execution_count": 8,
     "metadata": {},
     "output_type": "execute_result"
    }
   ],
   "source": [
    "y"
   ]
  },
  {
   "cell_type": "code",
   "execution_count": 9,
   "id": "cf9c8b3c-195a-4956-b387-1f514bed48e0",
   "metadata": {
    "colab": {
     "base_uri": "https://localhost:8080/"
    },
    "id": "cf9c8b3c-195a-4956-b387-1f514bed48e0",
    "outputId": "232a6a6f-e772-42b2-f9ab-956897aa65f6"
   },
   "outputs": [
    {
     "data": {
      "text/plain": [
       "['neg', 'pos']"
      ]
     },
     "execution_count": 9,
     "metadata": {},
     "output_type": "execute_result"
    }
   ],
   "source": [
    "z"
   ]
  },
  {
   "cell_type": "markdown",
   "id": "84c3d968-7410-4763-b9df-afee4286e36d",
   "metadata": {
    "id": "84c3d968-7410-4763-b9df-afee4286e36d"
   },
   "source": [
    "## Average Document Length"
   ]
  },
  {
   "cell_type": "code",
   "execution_count": 10,
   "id": "5f4c8cdd-6239-4c5f-b430-acbc6b6bffae",
   "metadata": {
    "colab": {
     "base_uri": "https://localhost:8080/"
    },
    "id": "5f4c8cdd-6239-4c5f-b430-acbc6b6bffae",
    "outputId": "2209597a-ca3e-4248-856b-04a17b9f066a"
   },
   "outputs": [
    {
     "data": {
      "text/plain": [
       "2000"
      ]
     },
     "execution_count": 10,
     "metadata": {},
     "output_type": "execute_result"
    }
   ],
   "source": [
    "len(x)"
   ]
  },
  {
   "cell_type": "code",
   "execution_count": 11,
   "id": "6c6f2807-7676-448e-b3aa-01ca9b61cda2",
   "metadata": {
    "colab": {
     "base_uri": "https://localhost:8080/"
    },
    "id": "6c6f2807-7676-448e-b3aa-01ca9b61cda2",
    "outputId": "9490ad5b-1b97-4465-aa42-30e18ef30192"
   },
   "outputs": [
    {
     "data": {
      "text/plain": [
       "3126"
      ]
     },
     "execution_count": 11,
     "metadata": {},
     "output_type": "execute_result"
    }
   ],
   "source": [
    "len(x[0])"
   ]
  },
  {
   "cell_type": "code",
   "execution_count": 12,
   "id": "wDNKEYR67iEF",
   "metadata": {
    "id": "wDNKEYR67iEF"
   },
   "outputs": [],
   "source": [
    "def average_doc_length(corpus):\n",
    "    ''' Takes as input a whole corpus\n",
    "      Returns the average number of words and chars per document '''\n",
    "\n",
    "    document_word_lengths = [len(doc.split()) for doc in corpus]                            #length of each doc (in words)\n",
    "    average_doc_length_words = sum(document_word_lengths) / len(document_word_lengths)      #average doc length (in words)\n",
    "\n",
    "    document_char_lengths = [len(doc) for doc in corpus]                                    #length of each doc (in characters)\n",
    "    average_doc_length_chars = sum(document_char_lengths) / len(document_char_lengths)      #average doc length (in characters)\n",
    "\n",
    "    return average_doc_length_words, average_doc_length_chars"
   ]
  },
  {
   "cell_type": "code",
   "execution_count": 13,
   "id": "639a1e2f-8f79-4d85-8289-1bf47238f10e",
   "metadata": {
    "colab": {
     "base_uri": "https://localhost:8080/"
    },
    "id": "639a1e2f-8f79-4d85-8289-1bf47238f10e",
    "outputId": "3aa3c643-9a8a-4d0a-f1de-9385af3d494b"
   },
   "outputs": [
    {
     "name": "stdout",
     "output_type": "stream",
     "text": [
      "---Before preprocessing---\n",
      "Average Document Length (in words): 746.3405\n",
      "Average Document Length (in characters): 3893.002\n"
     ]
    }
   ],
   "source": [
    "#from common import average_doc_length\n",
    "print(\"---Before preprocessing---\")\n",
    "avg_length_words, avg_length_chars = average_doc_length(x)\n",
    "print(\"Average Document Length (in words):\", avg_length_words)\n",
    "print(\"Average Document Length (in characters):\", avg_length_chars)"
   ]
  },
  {
   "cell_type": "markdown",
   "id": "fb82d229-1baa-4e0a-a331-b3b093f6db93",
   "metadata": {
    "id": "fb82d229-1baa-4e0a-a331-b3b093f6db93"
   },
   "source": [
    "## Pre processing"
   ]
  },
  {
   "cell_type": "markdown",
   "id": "ByZOdhlYIrmH",
   "metadata": {
    "id": "ByZOdhlYIrmH"
   },
   "source": [
    "Let's take a look at the 100 most frequent words:"
   ]
  },
  {
   "cell_type": "code",
   "execution_count": 14,
   "id": "0HwWtwMf6hVH",
   "metadata": {
    "colab": {
     "base_uri": "https://localhost:8080/"
    },
    "id": "0HwWtwMf6hVH",
    "outputId": "67b16fa2-0dab-42ef-cf03-89480324cf9f",
    "scrolled": true
   },
   "outputs": [
    {
     "name": "stdout",
     "output_type": "stream",
     "text": [
      ",: 77717 occurrences\n",
      "the: 76276 occurrences\n",
      ".: 65876 occurrences\n",
      "a: 37995 occurrences\n",
      "and: 35404 occurrences\n",
      "of: 33972 occurrences\n",
      "to: 31772 occurrences\n",
      "is: 26054 occurrences\n",
      "in: 21611 occurrences\n",
      "'s: 18128 occurrences\n",
      "``: 17625 occurrences\n",
      "it: 16059 occurrences\n",
      "that: 15912 occurrences\n",
      "): 11781 occurrences\n",
      "(: 11664 occurrences\n",
      "as: 11349 occurrences\n",
      "with: 10782 occurrences\n",
      "for: 9918 occurrences\n",
      "this: 9573 occurrences\n",
      "his: 9569 occurrences\n",
      "film: 9443 occurrences\n",
      "i: 8850 occurrences\n",
      "he: 8840 occurrences\n",
      "but: 8604 occurrences\n",
      "on: 7249 occurrences\n",
      "are: 7204 occurrences\n",
      "by: 6218 occurrences\n",
      "n't: 6217 occurrences\n",
      "be: 6083 occurrences\n",
      "an: 5742 occurrences\n",
      "who: 5680 occurrences\n",
      "not: 5672 occurrences\n",
      "movie: 5671 occurrences\n",
      "one: 5582 occurrences\n",
      "you: 5286 occurrences\n",
      "was: 5225 occurrences\n",
      "have: 5046 occurrences\n",
      "from: 4987 occurrences\n",
      "at: 4972 occurrences\n",
      "they: 4815 occurrences\n",
      "has: 4811 occurrences\n",
      "her: 4508 occurrences\n",
      "all: 4259 occurrences\n",
      "?: 3771 occurrences\n",
      "there: 3758 occurrences\n",
      "so: 3585 occurrences\n",
      "like: 3547 occurrences\n",
      "about: 3518 occurrences\n",
      "out: 3442 occurrences\n",
      "more: 3342 occurrences\n",
      "what: 3310 occurrences\n",
      "when: 3255 occurrences\n",
      "which: 3160 occurrences\n",
      "she: 3129 occurrences\n",
      "their: 3117 occurrences\n",
      "up: 3108 occurrences\n",
      "or: 3106 occurrences\n",
      "do: 3090 occurrences\n",
      ":: 3042 occurrences\n",
      "some: 2981 occurrences\n",
      "just: 2901 occurrences\n",
      "does: 2834 occurrences\n",
      "if: 2792 occurrences\n",
      "we: 2761 occurrences\n",
      "him: 2631 occurrences\n",
      "into: 2618 occurrences\n",
      "even: 2556 occurrences\n",
      "only: 2485 occurrences\n",
      "than: 2438 occurrences\n",
      "no: 2408 occurrences\n",
      "can: 2379 occurrences\n",
      "good: 2316 occurrences\n",
      "most: 2302 occurrences\n",
      "time: 2282 occurrences\n",
      "its: 2268 occurrences\n",
      "would: 2264 occurrences\n",
      "will: 2213 occurrences\n",
      "story: 2146 occurrences\n",
      "--: 2055 occurrences\n",
      "been: 2045 occurrences\n",
      "much: 2024 occurrences\n",
      "character: 1996 occurrences\n",
      "also: 1965 occurrences\n",
      "other: 1944 occurrences\n",
      "get: 1925 occurrences\n",
      "': 1885 occurrences\n",
      "them: 1877 occurrences\n",
      "very: 1862 occurrences\n",
      "characters: 1858 occurrences\n",
      ";: 1850 occurrences\n",
      "two: 1827 occurrences\n",
      "first: 1769 occurrences\n",
      "after: 1755 occurrences\n",
      "see: 1731 occurrences\n",
      "!: 1713 occurrences\n",
      "because: 1682 occurrences\n",
      "way: 1669 occurrences\n",
      "well: 1656 occurrences\n",
      "could: 1609 occurrences\n",
      "make: 1593 occurrences\n"
     ]
    }
   ],
   "source": [
    "text = ' '.join(x)\n",
    "tokens = word_tokenize(text.lower())              #convert to lowercase to treat words case-insensitively\n",
    "#tokens = [token.lower() for token in x]\n",
    "word_counts = Counter(tokens)\n",
    "top_100_words = word_counts.most_common(100)\n",
    "\n",
    "for word, count in top_100_words:\n",
    "  print(f\"{word}: {count} occurrences\")"
   ]
  },
  {
   "cell_type": "markdown",
   "id": "kN30flXUIy1J",
   "metadata": {
    "id": "kN30flXUIy1J"
   },
   "source": [
    "The english stopwords is a package of 179 words that in general, would not help in a sentiment analysis problem. But, since they include terms that are negative, removing them could prove harmful for our case.\n",
    "\n",
    "e.g. imagine the phrase \"I didn't like the film\" to end up \"like film\".\n",
    "\n",
    "So, the plan is to remove all the stop words that include negative meaning before the preprocessing."
   ]
  },
  {
   "cell_type": "code",
   "execution_count": 15,
   "id": "EW31ByWhG80h",
   "metadata": {
    "colab": {
     "base_uri": "https://localhost:8080/"
    },
    "id": "EW31ByWhG80h",
    "outputId": "b46c0bf7-7ebd-4c67-bb7c-ef29b0d6af89",
    "scrolled": true
   },
   "outputs": [
    {
     "data": {
      "text/plain": [
       "['i',\n",
       " 'me',\n",
       " 'my',\n",
       " 'myself',\n",
       " 'we',\n",
       " 'our',\n",
       " 'ours',\n",
       " 'ourselves',\n",
       " 'you',\n",
       " \"you're\",\n",
       " \"you've\",\n",
       " \"you'll\",\n",
       " \"you'd\",\n",
       " 'your',\n",
       " 'yours',\n",
       " 'yourself',\n",
       " 'yourselves',\n",
       " 'he',\n",
       " 'him',\n",
       " 'his',\n",
       " 'himself',\n",
       " 'she',\n",
       " \"she's\",\n",
       " 'her',\n",
       " 'hers',\n",
       " 'herself',\n",
       " 'it',\n",
       " \"it's\",\n",
       " 'its',\n",
       " 'itself',\n",
       " 'they',\n",
       " 'them',\n",
       " 'their',\n",
       " 'theirs',\n",
       " 'themselves',\n",
       " 'what',\n",
       " 'which',\n",
       " 'who',\n",
       " 'whom',\n",
       " 'this',\n",
       " 'that',\n",
       " \"that'll\",\n",
       " 'these',\n",
       " 'those',\n",
       " 'am',\n",
       " 'is',\n",
       " 'are',\n",
       " 'was',\n",
       " 'were',\n",
       " 'be',\n",
       " 'been',\n",
       " 'being',\n",
       " 'have',\n",
       " 'has',\n",
       " 'had',\n",
       " 'having',\n",
       " 'do',\n",
       " 'does',\n",
       " 'did',\n",
       " 'doing',\n",
       " 'a',\n",
       " 'an',\n",
       " 'the',\n",
       " 'and',\n",
       " 'but',\n",
       " 'if',\n",
       " 'or',\n",
       " 'because',\n",
       " 'as',\n",
       " 'until',\n",
       " 'while',\n",
       " 'of',\n",
       " 'at',\n",
       " 'by',\n",
       " 'for',\n",
       " 'with',\n",
       " 'about',\n",
       " 'against',\n",
       " 'between',\n",
       " 'into',\n",
       " 'through',\n",
       " 'during',\n",
       " 'before',\n",
       " 'after',\n",
       " 'above',\n",
       " 'below',\n",
       " 'to',\n",
       " 'from',\n",
       " 'up',\n",
       " 'down',\n",
       " 'in',\n",
       " 'out',\n",
       " 'on',\n",
       " 'off',\n",
       " 'over',\n",
       " 'under',\n",
       " 'again',\n",
       " 'further',\n",
       " 'then',\n",
       " 'once',\n",
       " 'here',\n",
       " 'there',\n",
       " 'when',\n",
       " 'where',\n",
       " 'why',\n",
       " 'how',\n",
       " 'all',\n",
       " 'any',\n",
       " 'both',\n",
       " 'each',\n",
       " 'few',\n",
       " 'more',\n",
       " 'most',\n",
       " 'other',\n",
       " 'some',\n",
       " 'such',\n",
       " 'no',\n",
       " 'nor',\n",
       " 'not',\n",
       " 'only',\n",
       " 'own',\n",
       " 'same',\n",
       " 'so',\n",
       " 'than',\n",
       " 'too',\n",
       " 'very',\n",
       " 's',\n",
       " 't',\n",
       " 'can',\n",
       " 'will',\n",
       " 'just',\n",
       " 'don',\n",
       " \"don't\",\n",
       " 'should',\n",
       " \"should've\",\n",
       " 'now',\n",
       " 'd',\n",
       " 'll',\n",
       " 'm',\n",
       " 'o',\n",
       " 're',\n",
       " 've',\n",
       " 'y',\n",
       " 'ain',\n",
       " 'aren',\n",
       " \"aren't\",\n",
       " 'couldn',\n",
       " \"couldn't\",\n",
       " 'didn',\n",
       " \"didn't\",\n",
       " 'doesn',\n",
       " \"doesn't\",\n",
       " 'hadn',\n",
       " \"hadn't\",\n",
       " 'hasn',\n",
       " \"hasn't\",\n",
       " 'haven',\n",
       " \"haven't\",\n",
       " 'isn',\n",
       " \"isn't\",\n",
       " 'ma',\n",
       " 'mightn',\n",
       " \"mightn't\",\n",
       " 'mustn',\n",
       " \"mustn't\",\n",
       " 'needn',\n",
       " \"needn't\",\n",
       " 'shan',\n",
       " \"shan't\",\n",
       " 'shouldn',\n",
       " \"shouldn't\",\n",
       " 'wasn',\n",
       " \"wasn't\",\n",
       " 'weren',\n",
       " \"weren't\",\n",
       " 'won',\n",
       " \"won't\",\n",
       " 'wouldn',\n",
       " \"wouldn't\"]"
      ]
     },
     "execution_count": 15,
     "metadata": {},
     "output_type": "execute_result"
    }
   ],
   "source": [
    "stopwords.words('english')"
   ]
  },
  {
   "cell_type": "markdown",
   "id": "oOXMvNL1_x94",
   "metadata": {
    "id": "oOXMvNL1_x94"
   },
   "source": [
    " From these words, we will decide which ones to keep because in fact they have a meaningful impact in our sentiment analysis problem, as we stated earlier."
   ]
  },
  {
   "cell_type": "code",
   "execution_count": 16,
   "id": "q4JeOUnaDu_J",
   "metadata": {
    "colab": {
     "base_uri": "https://localhost:8080/"
    },
    "id": "q4JeOUnaDu_J",
    "outputId": "029ee37a-8f0c-4367-c165-729589698117"
   },
   "outputs": [
    {
     "data": {
      "text/plain": [
       "['not',\n",
       " \"don't\",\n",
       " \"aren't\",\n",
       " \"couldn't\",\n",
       " \"didn't\",\n",
       " \"doesn't\",\n",
       " \"hadn't\",\n",
       " \"hasn't\",\n",
       " \"shouldn't\",\n",
       " \"haven't\",\n",
       " \"wasn't\",\n",
       " \"weren't\",\n",
       " \"isn't\",\n",
       " 'doesn']"
      ]
     },
     "execution_count": 16,
     "metadata": {},
     "output_type": "execute_result"
    }
   ],
   "source": [
    "set_stop_words = set(stopwords.words('english'))\n",
    "set_x = set(tokens)\n",
    "to_keep_words = ['not', \"don't\", \"aren't\", \"couldn't\", \"didn't\", \"doesn't\", \"hadn't\", \"hasn't\" , \"shouldn't\", \"haven't\", \"wasn't\", \"weren't\",  \"isn't\", \"doesn\"]\n",
    "to_keep_words"
   ]
  },
  {
   "cell_type": "code",
   "execution_count": 17,
   "id": "rWeLNvZcHwvC",
   "metadata": {
    "colab": {
     "base_uri": "https://localhost:8080/"
    },
    "id": "rWeLNvZcHwvC",
    "outputId": "740261f0-ff46-47c7-8836-0489f72f0c20"
   },
   "outputs": [
    {
     "name": "stdout",
     "output_type": "stream",
     "text": [
      "179\n",
      "14\n",
      "165\n"
     ]
    }
   ],
   "source": [
    "stopwords_updated = set(stopwords.words('english')) - set(to_keep_words)\n",
    "print(len(stopwords.words('english')))\n",
    "print(len(to_keep_words))\n",
    "print(len(stopwords_updated))"
   ]
  },
  {
   "cell_type": "code",
   "execution_count": 18,
   "id": "03b5d72f-a3d8-4504-ae30-8a5216ff038d",
   "metadata": {
    "id": "03b5d72f-a3d8-4504-ae30-8a5216ff038d"
   },
   "outputs": [],
   "source": [
    "def pre_process_text(text):\n",
    "    ''' Function to preprocess text.\n",
    "     input: initial text\n",
    "     output: processed text\n",
    "     Performs pre-processing methods:\n",
    "        1. Combination to a single document.\n",
    "        2. Convertion to lowercase.\n",
    "        3. Lemmatization and stop words extraction\n",
    "        4. Punctuation removal\n",
    "        5. Number removal\n",
    "        6. Single characters removal\n",
    "        7. Converting multiple spaces to single ones\n",
    "        '''\n",
    "    lemmatizer = WordNetLemmatizer()\n",
    "    all_docs = []\n",
    "\n",
    "    single_char = re.compile(r'\\s+[a-z]\\s+')                                          #6. Remove single characters\n",
    "    multiple_space= re.compile(r'\\s+')                                                 #7. Replace multiple space with a single one\n",
    "\n",
    "    stopwords_updated = set(stopwords.words('english')) - set(to_keep_words)\n",
    "    for document in tqdm(x):\n",
    "\n",
    "        combined_text = ' '.join(text)            #1.Combine in one single document\n",
    "\n",
    "        combined_text = combined_text.lower()    #2. Convert to lowercase\n",
    "        combined_text = [lemmatizer.lemmatize(word) for word in document.split() if word not in stopwords_updated]  # 3.Lemmatize and remove stop words\n",
    "\n",
    "\n",
    "        combined_text = ' '.join(combined_text)\n",
    "\n",
    "        combined_text = ''.join([char for char in combined_text if char not in string.punctuation])   #4.remove punctuation\n",
    "        combined_text = ''.join([char for char in combined_text if not char.isdigit()])     #5.remove numbers\n",
    "\n",
    "        res = single_char.sub(combined_text, '')\n",
    "        res2 = multiple_space.sub(combined_text, ' ')\n",
    "        all_docs.append(combined_text)\n",
    "\n",
    "    return all_docs"
   ]
  },
  {
   "cell_type": "code",
   "execution_count": 19,
   "id": "03cecf2b-efb5-487b-94d0-de2666c5b724",
   "metadata": {
    "colab": {
     "base_uri": "https://localhost:8080/",
     "height": 240,
     "referenced_widgets": [
      "e96a0b2a46fd473990de8c5f87b31a01",
      "d2d7380c6e704837876fc2f30f42009c",
      "5d15fe45547d45c4b6cc9b664924aa39",
      "7f08a1824484455792e002f0660d5603",
      "0dab64552a7e4750a493c0d3ef1032af",
      "3f863b17990d4068aa8c26abe1b71138",
      "4ca44ac30ca94cfe94c0706eb80331bd",
      "a4f9128b50fe432abcefb68ec5bab9f9",
      "54b2c37a1c93470f9051f1c373b42ede",
      "cde303249cba45b6808fd3c81217b777",
      "aeef2a393830476398b6a6b9bde7b2c9"
     ]
    },
    "id": "03cecf2b-efb5-487b-94d0-de2666c5b724",
    "outputId": "d3d7c659-0b09-44ec-ff4c-0db4d11aa05b"
   },
   "outputs": [
    {
     "data": {
      "application/vnd.jupyter.widget-view+json": {
       "model_id": "a7c010c0e6b34f6c9d91efec81db15d5",
       "version_major": 2,
       "version_minor": 0
      },
      "text/plain": [
       "  0%|          | 0/2000 [00:00<?, ?it/s]"
      ]
     },
     "metadata": {},
     "output_type": "display_data"
    },
    {
     "data": {
      "text/plain": [
       "['arnold schwarzenegger icon action enthusiast  since late s  lately film sloppy oneliner getting worse  hard seeing arnold mr  freeze batman robin  especially say ton ice joke  hey got  million  whats matter  arnold signed another expensive blockbuster  cant compare like terminator series  true lie even eraser  called dark thriller  devil  gabriel byrne  come upon earth  impregnate woman  robin tunney  happens every  year  basically destroy world  apparently god chosen one man  one man jericho cane  arnold   help trusty sidekick  kevin pollack   stop nothing let devil take world  part actually absurd  would fit right dogma  yes  film weak  better blockbuster right  sleepy hollow   make world not enough look like  star film  anyway  definitely doesnt seem like arnold movie  wasnt type film see  sure gave u chuckle well known oneliner  seemed confused character film going  understandable  especially ending changed according source  aside form  still walked  much like past film  im sorry say arnold maybe end action day  speaking action  film  hardly explosion fight  devil made place explode  arnold wasnt kicking devil butt  ending changed make spiritual  undoubtedly ruined film  least hoping cool ending nothing else occurred  let  also dont know film took long cost much  really super affect  unless consider invisible devil   minute top  worth overpriced budget  budget gone better script  least audience could somewhat entertained instead facing boredom  pitiful see script like get bought made movie  even read thing anymore  sure doesnt seem like  thankfully gabriels performance gave light poor film  walk street searching robin tunney  cant help feel looked like devil  guy creepy looking anyway   glad end movie  dont bother see  expecting solid action flick  neither solid action  another movie suckered seeing  due strategic marketing campaign  save money see world not enough entertaining experience ']"
      ]
     },
     "execution_count": 19,
     "metadata": {},
     "output_type": "execute_result"
    }
   ],
   "source": [
    "processed_text = pre_process_text(x)\n",
    "\n",
    "processed_text[:1]"
   ]
  },
  {
   "cell_type": "code",
   "execution_count": 20,
   "id": "tXfE8DYjnbQF",
   "metadata": {
    "colab": {
     "base_uri": "https://localhost:8080/",
     "height": 472
    },
    "id": "tXfE8DYjnbQF",
    "outputId": "e164a294-755f-4145-ce88-da71c6a7899e"
   },
   "outputs": [
    {
     "data": {
      "image/png": "[encoded data removed]",
      "text/plain": [
       "<Figure size 640x480 with 1 Axes>"
      ]
     },
     "metadata": {},
     "output_type": "display_data"
    }
   ],
   "source": [
    "word_counts = [len(doc.split()) for doc in x]\n",
    "\n",
    "# Plotting\n",
    "plt.bar(range(len(word_counts)), word_counts, color='blue')\n",
    "plt.xlabel('Document Index')\n",
    "plt.ylabel('Number of Words')\n",
    "plt.title('Number of Words in Each Document')\n",
    "plt.xticks(range(len(word_counts)), range(1, len(word_counts)+1))\n",
    "plt.show()"
   ]
  },
  {
   "cell_type": "markdown",
   "id": "c02f5f7f-c35e-4598-a662-0201cad098bf",
   "metadata": {
    "id": "c02f5f7f-c35e-4598-a662-0201cad098bf"
   },
   "source": [
    "## Splitting into training set (70%), development set (15%) and test set (15%)"
   ]
  },
  {
   "cell_type": "code",
   "execution_count": 21,
   "id": "b4c7b5bf-67cd-4b64-9aa6-397553e4e2dc",
   "metadata": {
    "id": "b4c7b5bf-67cd-4b64-9aa6-397553e4e2dc"
   },
   "outputs": [],
   "source": [
    "X_train, X_temp, y_train, y_temp = train_test_split(processed_text, y, test_size=0.3, random_state=17)\n",
    "X_dev, X_test, y_dev, y_test = train_test_split(X_temp, y_temp, test_size=0.5, random_state=25)\n",
    "\n",
    "training_text = ' '.join(X_train)                    #Flatten into a single string\n",
    "development_text = ' '.join(X_dev)\n",
    "test_text = ' '.join(X_test)\n",
    "\n",
    "training_words = training_text.split()\n",
    "development_words = development_text.split()\n",
    "test_words = test_text.split()\n",
    "\n",
    "training_vocab = set(training_words)\n",
    "development_vocab = set(development_words)\n",
    "test_vocab = set(test_words)"
   ]
  },
  {
   "cell_type": "code",
   "execution_count": 22,
   "id": "6ddd1654-381d-465d-a938-25a278114bcd",
   "metadata": {
    "colab": {
     "base_uri": "https://localhost:8080/"
    },
    "id": "6ddd1654-381d-465d-a938-25a278114bcd",
    "outputId": "78c985bf-7a71-42e5-ced5-09aa46ec4ddd"
   },
   "outputs": [
    {
     "name": "stdout",
     "output_type": "stream",
     "text": [
      "Training set size (in documents):  1400\n",
      "Development set size (in documents):  300\n",
      "Test set size (in documents):  300\n",
      "Full size (sanity check):  2000\n",
      "---------------------------------\n",
      "Training vocabulary size (in words):  36624\n",
      "Development vocabulary size (in words):  16948\n",
      "Test vocabulary size (in words):  16780\n",
      "Full vocabulary size (in words):  70352\n"
     ]
    }
   ],
   "source": [
    "print(\"Training set size (in documents): \", len(y_train))\n",
    "print(\"Development set size (in documents): \", len(y_dev))\n",
    "print(\"Test set size (in documents): \", len(y_test))\n",
    "print(\"Full size (sanity check): \", len(y_train) + len(y_dev) + len(y_test))\n",
    "print(\"---------------------------------\")\n",
    "print(\"Training vocabulary size (in words): \" , len(training_vocab))\n",
    "print(\"Development vocabulary size (in words): \", len(development_vocab))\n",
    "print(\"Test vocabulary size (in words): \", len(test_vocab))\n",
    "print(\"Full vocabulary size (in words): \", len(training_vocab) + len(development_vocab) + len(test_vocab))"
   ]
  },
  {
   "cell_type": "code",
   "execution_count": 23,
   "id": "e7506630-3bcd-484b-a332-9b24e40952a8",
   "metadata": {
    "colab": {
     "base_uri": "https://localhost:8080/"
    },
    "id": "e7506630-3bcd-484b-a332-9b24e40952a8",
    "outputId": "81c1de9d-dd83-4668-cdfe-2db407d1797c"
   },
   "outputs": [
    {
     "name": "stdout",
     "output_type": "stream",
     "text": [
      "Shape (training data):  (1400, 5000)\n",
      "Shape (development data):  (300, 5000)\n",
      "Shape (test data):  (300, 5000)\n"
     ]
    }
   ],
   "source": [
    "from sklearn.feature_extraction.text import TfidfVectorizer\n",
    "\n",
    "vectorizer = TfidfVectorizer(ngram_range=(1, 2),                                        #Using unigram and bigram tf-idf features\n",
    "                             max_features = 5000, sublinear_tf=True)\n",
    "\n",
    "X_train_tfidf = vectorizer.fit_transform(X_train)\n",
    "X_dev_tfidf = vectorizer.transform(X_dev)\n",
    "X_test_tfidf = vectorizer.transform(X_test)\n",
    "\n",
    "print(\"Shape (training data): \", X_train_tfidf.shape)\n",
    "print(\"Shape (development data): \", X_dev_tfidf.shape)\n",
    "print(\"Shape (test data): \", X_test_tfidf.shape)"
   ]
  },
  {
   "cell_type": "markdown",
   "id": "cee1bea4-7deb-4317-b2e4-73bab9cf2d89",
   "metadata": {
    "id": "cee1bea4-7deb-4317-b2e4-73bab9cf2d89"
   },
   "source": [
    "Below we can see that X_test_tfidf is a sparse array, keeping only the non-zero elements. We demonstrate all the elements in the first document with their corresponding TFIDF weights."
   ]
  },
  {
   "cell_type": "code",
   "execution_count": 24,
   "id": "06cbf1eb-2aa8-4f98-af50-1c5fbd030a67",
   "metadata": {
    "colab": {
     "base_uri": "https://localhost:8080/"
    },
    "id": "06cbf1eb-2aa8-4f98-af50-1c5fbd030a67",
    "outputId": "c811b0a8-2388-428f-f415-bf7dfbdbbf37"
   },
   "outputs": [
    {
     "name": "stdout",
     "output_type": "stream",
     "text": [
      "(#Doc,col index)     weight\n",
      "--------------------------------------------\n",
      "  (0, 4988)\t0.04369979111445381\n",
      "  (0, 4984)\t0.04509572589709288\n",
      "  (0, 4949)\t0.029438259695493924\n",
      "  (0, 4944)\t0.056137163964358784\n",
      "  (0, 4824)\t0.05057974628634809\n",
      "  (0, 4818)\t0.04691105533946471\n",
      "  (0, 4813)\t0.044492208704761484\n",
      "  (0, 4809)\t0.05686119775889408\n",
      "  (0, 4752)\t0.05958423412364823\n",
      "  (0, 4745)\t0.0545816762790642\n",
      "  (0, 4738)\t0.055935407908133075\n",
      "  (0, 4602)\t0.04369979111445381\n",
      "  (0, 4547)\t0.059221065124916185\n",
      "  (0, 4503)\t0.08881260047092368\n",
      "  (0, 4501)\t0.06533835593131196\n",
      "  (0, 4494)\t0.08320647266960984\n",
      "  (0, 4483)\t0.05583535077757744\n",
      "  (0, 4468)\t0.03918145513118411\n",
      "  (0, 4397)\t0.11107231660960269\n",
      "  (0, 4360)\t0.03126951709001394\n",
      "  (0, 4306)\t0.10415507060882424\n",
      "  (0, 4231)\t0.09278366310364763\n",
      "  (0, 4229)\t0.049964847720078163\n",
      "  (0, 4217)\t0.0896171685791907\n",
      "  (0, 4202)\t0.09205962930911232\n",
      "  :\t:\n",
      "  (0, 513)\t0.060849146279275595\n",
      "  (0, 489)\t0.08036077475459913\n",
      "  (0, 488)\t0.053672108305792124\n",
      "  (0, 442)\t0.08410716327055671\n",
      "  (0, 380)\t0.0960023130040499\n",
      "  (0, 377)\t0.05467514734151401\n",
      "  (0, 376)\t0.0699762476960985\n",
      "  (0, 332)\t0.06413650390552839\n",
      "  (0, 331)\t0.07225822256092695\n",
      "  (0, 302)\t0.09884801091906062\n",
      "  (0, 301)\t0.03675692747000289\n",
      "  (0, 274)\t0.03811953647139697\n",
      "  (0, 272)\t0.08710734322007006\n",
      "  (0, 224)\t0.03838903754087644\n",
      "  (0, 188)\t0.043855576810225616\n",
      "  (0, 187)\t0.09784990322980708\n",
      "  (0, 186)\t0.04983898276858567\n",
      "  (0, 172)\t0.06461190774122398\n",
      "  (0, 143)\t0.06234860813888304\n",
      "  (0, 127)\t0.0426935204821557\n",
      "  (0, 124)\t0.06289809001901348\n",
      "  (0, 67)\t0.06367303616411338\n",
      "  (0, 53)\t0.07789571909603248\n",
      "  (0, 41)\t0.09690300360499679\n",
      "  (0, 38)\t0.04056821918397283\n"
     ]
    }
   ],
   "source": [
    "print(\"(#Doc,col index)     weight\")\n",
    "print(\"--------------------------------------------\")\n",
    "print(X_test_tfidf[0, :])"
   ]
  },
  {
   "cell_type": "code",
   "execution_count": 25,
   "id": "70bdae24-6855-4d76-9e12-e9b21644b7d9",
   "metadata": {
    "id": "70bdae24-6855-4d76-9e12-e9b21644b7d9"
   },
   "outputs": [],
   "source": [
    "x_train_tfidf_array = X_train_tfidf.toarray()                   #from sparse to dense\n",
    "x_dev_tfidf_array = X_dev_tfidf.toarray()\n",
    "x_test_tfidf_array = X_test_tfidf.toarray()\n"
   ]
  },
  {
   "cell_type": "markdown",
   "id": "d1db2561-957a-4242-872a-8869b1ba9b21",
   "metadata": {
    "id": "d1db2561-957a-4242-872a-8869b1ba9b21"
   },
   "source": [
    "## Reducing dimensionality using SVD (from 5000 ---> 500 features)"
   ]
  },
  {
   "cell_type": "code",
   "execution_count": 26,
   "id": "d70f7f63-650d-4267-b54a-6a21551e9255",
   "metadata": {
    "colab": {
     "base_uri": "https://localhost:8080/"
    },
    "id": "d70f7f63-650d-4267-b54a-6a21551e9255",
    "outputId": "aca0627c-0540-41ad-e8b7-5f8c8b3551b8"
   },
   "outputs": [
    {
     "name": "stdout",
     "output_type": "stream",
     "text": [
      "Shape (training data) after SVD:  (1400, 500)\n",
      "Shape (development data) after SVD:  (300, 500)\n",
      "Shape (test data) after SVD:  (300, 500)\n"
     ]
    }
   ],
   "source": [
    "svd = TruncatedSVD(n_components=500, random_state=4321)\n",
    "X_train_svd = svd.fit_transform(x_train_tfidf_array)\n",
    "X_dev_svd = svd.transform(x_dev_tfidf_array)\n",
    "X_test_svd = svd.transform(x_test_tfidf_array)\n",
    "\n",
    "print(\"Shape (training data) after SVD: \", X_train_svd.shape)\n",
    "print(\"Shape (development data) after SVD: \", X_dev_svd.shape)\n",
    "print(\"Shape (test data) after SVD: \", X_test_svd.shape)"
   ]
  },
  {
   "cell_type": "code",
   "execution_count": 27,
   "id": "ca401852-4cc8-423f-ba64-83be90733a6c",
   "metadata": {
    "colab": {
     "base_uri": "https://localhost:8080/"
    },
    "id": "ca401852-4cc8-423f-ba64-83be90733a6c",
    "outputId": "767c9c82-4826-4539-b911-617d38026bce"
   },
   "outputs": [
    {
     "data": {
      "text/plain": [
       "True"
      ]
     },
     "execution_count": 27,
     "metadata": {},
     "output_type": "execute_result"
    }
   ],
   "source": [
    "len(X_test_svd[0,:]) == 500     #Sanity check if the dimension is 500"
   ]
  },
  {
   "cell_type": "markdown",
   "id": "669ffd59-8a38-4897-b273-04fee1b71f09",
   "metadata": {
    "id": "669ffd59-8a38-4897-b273-04fee1b71f09"
   },
   "source": [
    "## Dummy Classifier"
   ]
  },
  {
   "cell_type": "code",
   "execution_count": 28,
   "id": "d6eba716-a996-4b15-8704-aa6963a1ed69",
   "metadata": {
    "colab": {
     "base_uri": "https://localhost:8080/"
    },
    "id": "d6eba716-a996-4b15-8704-aa6963a1ed69",
    "outputId": "806033a1-fcd9-4cd6-9573-71957fddac85"
   },
   "outputs": [
    {
     "name": "stdout",
     "output_type": "stream",
     "text": [
      "Classification Report on Development Set:\n",
      "              precision    recall  f1-score   support\n",
      "\n",
      "         neg       0.00      0.00      0.00       157\n",
      "         pos       0.48      1.00      0.65       143\n",
      "\n",
      "    accuracy                           0.48       300\n",
      "   macro avg       0.24      0.50      0.32       300\n",
      "weighted avg       0.23      0.48      0.31       300\n",
      "\n",
      "-----------------------------------------------------\n",
      "Classification Report on Training Set:\n",
      "              precision    recall  f1-score   support\n",
      "\n",
      "         neg       0.00      0.00      0.00       690\n",
      "         pos       0.51      1.00      0.67       710\n",
      "\n",
      "    accuracy                           0.51      1400\n",
      "   macro avg       0.25      0.50      0.34      1400\n",
      "weighted avg       0.26      0.51      0.34      1400\n",
      "\n",
      "-----------------------------------------------------\n",
      "Classification Report on Test Set:\n",
      "              precision    recall  f1-score   support\n",
      "\n",
      "         neg       0.00      0.00      0.00       153\n",
      "         pos       0.49      1.00      0.66       147\n",
      "\n",
      "    accuracy                           0.49       300\n",
      "   macro avg       0.24      0.50      0.33       300\n",
      "weighted avg       0.24      0.49      0.32       300\n",
      "\n"
     ]
    },
    {
     "name": "stderr",
     "output_type": "stream",
     "text": [
      "/home/dimits/anaconda3/envs/tf/lib/python3.9/site-packages/sklearn/metrics/_classification.py:1469: UndefinedMetricWarning: Precision and F-score are ill-defined and being set to 0.0 in labels with no predicted samples. Use `zero_division` parameter to control this behavior.\n",
      "  _warn_prf(average, modifier, msg_start, len(result))\n",
      "/home/dimits/anaconda3/envs/tf/lib/python3.9/site-packages/sklearn/metrics/_classification.py:1469: UndefinedMetricWarning: Precision and F-score are ill-defined and being set to 0.0 in labels with no predicted samples. Use `zero_division` parameter to control this behavior.\n",
      "  _warn_prf(average, modifier, msg_start, len(result))\n",
      "/home/dimits/anaconda3/envs/tf/lib/python3.9/site-packages/sklearn/metrics/_classification.py:1469: UndefinedMetricWarning: Precision and F-score are ill-defined and being set to 0.0 in labels with no predicted samples. Use `zero_division` parameter to control this behavior.\n",
      "  _warn_prf(average, modifier, msg_start, len(result))\n",
      "/home/dimits/anaconda3/envs/tf/lib/python3.9/site-packages/sklearn/metrics/_classification.py:1469: UndefinedMetricWarning: Precision and F-score are ill-defined and being set to 0.0 in labels with no predicted samples. Use `zero_division` parameter to control this behavior.\n",
      "  _warn_prf(average, modifier, msg_start, len(result))\n",
      "/home/dimits/anaconda3/envs/tf/lib/python3.9/site-packages/sklearn/metrics/_classification.py:1469: UndefinedMetricWarning: Precision and F-score are ill-defined and being set to 0.0 in labels with no predicted samples. Use `zero_division` parameter to control this behavior.\n",
      "  _warn_prf(average, modifier, msg_start, len(result))\n",
      "/home/dimits/anaconda3/envs/tf/lib/python3.9/site-packages/sklearn/metrics/_classification.py:1469: UndefinedMetricWarning: Precision and F-score are ill-defined and being set to 0.0 in labels with no predicted samples. Use `zero_division` parameter to control this behavior.\n",
      "  _warn_prf(average, modifier, msg_start, len(result))\n",
      "/home/dimits/anaconda3/envs/tf/lib/python3.9/site-packages/sklearn/metrics/_classification.py:1469: UndefinedMetricWarning: Precision and F-score are ill-defined and being set to 0.0 in labels with no predicted samples. Use `zero_division` parameter to control this behavior.\n",
      "  _warn_prf(average, modifier, msg_start, len(result))\n",
      "/home/dimits/anaconda3/envs/tf/lib/python3.9/site-packages/sklearn/metrics/_classification.py:1469: UndefinedMetricWarning: Precision and F-score are ill-defined and being set to 0.0 in labels with no predicted samples. Use `zero_division` parameter to control this behavior.\n",
      "  _warn_prf(average, modifier, msg_start, len(result))\n",
      "/home/dimits/anaconda3/envs/tf/lib/python3.9/site-packages/sklearn/metrics/_classification.py:1469: UndefinedMetricWarning: Precision and F-score are ill-defined and being set to 0.0 in labels with no predicted samples. Use `zero_division` parameter to control this behavior.\n",
      "  _warn_prf(average, modifier, msg_start, len(result))\n"
     ]
    }
   ],
   "source": [
    "dummy_clf = DummyClassifier(strategy=\"most_frequent\") #assigns the most frequent class\n",
    "dummy_clf.fit(X_train_svd, y_train)\n",
    "\n",
    "\n",
    "y_dev_pred = dummy_clf.predict(X_dev_svd)\n",
    "\n",
    "#classification report -- Development set\n",
    "print(\"Classification Report on Development Set:\")\n",
    "print(classification_report(y_dev, y_dev_pred, target_names=z))\n",
    "\n",
    "print(\"-----------------------------------------------------\")\n",
    "\n",
    "#classification report -- Training set\n",
    "y_train_pred = dummy_clf.predict(X_train_svd)\n",
    "print(\"Classification Report on Training Set:\")\n",
    "print(classification_report(y_train, y_train_pred, target_names=z))\n",
    "\n",
    "print(\"-----------------------------------------------------\")\n",
    "\n",
    "#classification report -- Test set\n",
    "y_test_pred = dummy_clf.predict(X_test_svd)\n",
    "print(\"Classification Report on Test Set:\")\n",
    "print(classification_report(y_test, y_test_pred, target_names=z))"
   ]
  },
  {
   "cell_type": "markdown",
   "id": "7502b238-433a-47e7-9b6a-cab5c0dba2b7",
   "metadata": {
    "id": "7502b238-433a-47e7-9b6a-cab5c0dba2b7"
   },
   "source": [
    "## Logistic Regression"
   ]
  },
  {
   "cell_type": "code",
   "execution_count": 29,
   "id": "8d4185b7-57fc-47bc-b27d-3a4bc2e6f8d1",
   "metadata": {
    "colab": {
     "base_uri": "https://localhost:8080/"
    },
    "id": "8d4185b7-57fc-47bc-b27d-3a4bc2e6f8d1",
    "outputId": "ad544749-4c01-41f1-f0c2-7b031c432817"
   },
   "outputs": [
    {
     "name": "stdout",
     "output_type": "stream",
     "text": [
      "Fitting 5 folds for each of 30 candidates, totalling 150 fits\n"
     ]
    },
    {
     "name": "stderr",
     "output_type": "stream",
     "text": [
      "/home/dimits/anaconda3/envs/tf/lib/python3.9/site-packages/sklearn/linear_model/_sag.py:350: ConvergenceWarning: The max_iter was reached which means the coef_ did not converge\n",
      "  warnings.warn(\n",
      "/home/dimits/anaconda3/envs/tf/lib/python3.9/site-packages/sklearn/linear_model/_sag.py:350: ConvergenceWarning: The max_iter was reached which means the coef_ did not converge\n",
      "  warnings.warn(\n",
      "/home/dimits/anaconda3/envs/tf/lib/python3.9/site-packages/sklearn/linear_model/_sag.py:350: ConvergenceWarning: The max_iter was reached which means the coef_ did not converge\n",
      "  warnings.warn(\n",
      "/home/dimits/anaconda3/envs/tf/lib/python3.9/site-packages/sklearn/linear_model/_sag.py:350: ConvergenceWarning: The max_iter was reached which means the coef_ did not converge\n",
      "  warnings.warn(\n",
      "/home/dimits/anaconda3/envs/tf/lib/python3.9/site-packages/sklearn/linear_model/_sag.py:350: ConvergenceWarning: The max_iter was reached which means the coef_ did not converge\n",
      "  warnings.warn(\n"
     ]
    },
    {
     "name": "stdout",
     "output_type": "stream",
     "text": [
      "Best hyperparameters: {'C': 1, 'penalty': 'l2', 'solver': 'liblinear'}\n"
     ]
    },
    {
     "name": "stderr",
     "output_type": "stream",
     "text": [
      "/home/dimits/anaconda3/envs/tf/lib/python3.9/site-packages/sklearn/model_selection/_validation.py:425: FitFailedWarning: \n",
      "50 fits failed out of a total of 150.\n",
      "The score on these train-test partitions for these parameters will be set to nan.\n",
      "If these failures are not expected, you can try to debug them by setting error_score='raise'.\n",
      "\n",
      "Below are more details about the failures:\n",
      "--------------------------------------------------------------------------------\n",
      "25 fits failed with the following error:\n",
      "Traceback (most recent call last):\n",
      "  File \"/home/dimits/anaconda3/envs/tf/lib/python3.9/site-packages/sklearn/model_selection/_validation.py\", line 732, in _fit_and_score\n",
      "    estimator.fit(X_train, y_train, **fit_params)\n",
      "  File \"/home/dimits/anaconda3/envs/tf/lib/python3.9/site-packages/sklearn/base.py\", line 1151, in wrapper\n",
      "    return fit_method(estimator, *args, **kwargs)\n",
      "  File \"/home/dimits/anaconda3/envs/tf/lib/python3.9/site-packages/sklearn/linear_model/_logistic.py\", line 1168, in fit\n",
      "    solver = _check_solver(self.solver, self.penalty, self.dual)\n",
      "  File \"/home/dimits/anaconda3/envs/tf/lib/python3.9/site-packages/sklearn/linear_model/_logistic.py\", line 66, in _check_solver\n",
      "    raise ValueError(\n",
      "ValueError: Only 'saga' solver supports elasticnet penalty, got solver=liblinear.\n",
      "\n",
      "--------------------------------------------------------------------------------\n",
      "25 fits failed with the following error:\n",
      "Traceback (most recent call last):\n",
      "  File \"/home/dimits/anaconda3/envs/tf/lib/python3.9/site-packages/sklearn/model_selection/_validation.py\", line 732, in _fit_and_score\n",
      "    estimator.fit(X_train, y_train, **fit_params)\n",
      "  File \"/home/dimits/anaconda3/envs/tf/lib/python3.9/site-packages/sklearn/base.py\", line 1151, in wrapper\n",
      "    return fit_method(estimator, *args, **kwargs)\n",
      "  File \"/home/dimits/anaconda3/envs/tf/lib/python3.9/site-packages/sklearn/linear_model/_logistic.py\", line 1178, in fit\n",
      "    raise ValueError(\"l1_ratio must be specified when penalty is elasticnet.\")\n",
      "ValueError: l1_ratio must be specified when penalty is elasticnet.\n",
      "\n",
      "  warnings.warn(some_fits_failed_message, FitFailedWarning)\n",
      "/home/dimits/anaconda3/envs/tf/lib/python3.9/site-packages/sklearn/model_selection/_search.py:976: UserWarning: One or more of the test scores are non-finite: [0.49285714 0.49857143 0.50714286 0.50714286        nan        nan\n",
      " 0.49285714 0.50428571 0.54642857 0.51642857        nan        nan\n",
      " 0.67857143 0.67928571 0.82428571 0.82428571        nan        nan\n",
      " 0.845      0.84571429 0.84785714 0.84714286        nan        nan\n",
      " 0.83857143 0.84       0.83928571 0.83928571        nan        nan]\n",
      "  warnings.warn(\n"
     ]
    }
   ],
   "source": [
    "parameters = {\n",
    "    'solver': ['liblinear', 'saga'],  #solvers to try\n",
    "    'penalty': ['l1', 'l2', 'elasticnet'],  #reguralization penalties\n",
    "    'C': [0.001, 0.01, 0.1, 1, 10],  #inverse of regularization strength\n",
    "}\n",
    "\n",
    "log_clf = LogisticRegression()\n",
    "log_grid_clf = GridSearchCV(log_clf, parameters, cv=5, scoring='accuracy', verbose=1)\n",
    "\n",
    "log_grid_clf.fit(X_train_svd, y_train)\n",
    "print(\"Best hyperparameters:\", log_grid_clf.best_params_)"
   ]
  },
  {
   "cell_type": "code",
   "execution_count": 30,
   "id": "6831ebc0-25a7-40da-a5d4-7aecc5db151d",
   "metadata": {
    "colab": {
     "base_uri": "https://localhost:8080/",
     "height": 75
    },
    "id": "6831ebc0-25a7-40da-a5d4-7aecc5db151d",
    "outputId": "505420bb-6add-404f-840b-de960bf67d28"
   },
   "outputs": [
    {
     "data": {
      "text/html": [
       "<style>#sk-container-id-1 {color: black;}#sk-container-id-1 pre{padding: 0;}#sk-container-id-1 div.sk-toggleable {background-color: white;}#sk-container-id-1 label.sk-toggleable__label {cursor: pointer;display: block;width: 100%;margin-bottom: 0;padding: 0.3em;box-sizing: border-box;text-align: center;}#sk-container-id-1 label.sk-toggleable__label-arrow:before {content: \"▸\";float: left;margin-right: 0.25em;color: #696969;}#sk-container-id-1 label.sk-toggleable__label-arrow:hover:before {color: black;}#sk-container-id-1 div.sk-estimator:hover label.sk-toggleable__label-arrow:before {color: black;}#sk-container-id-1 div.sk-toggleable__content {max-height: 0;max-width: 0;overflow: hidden;text-align: left;background-color: #f0f8ff;}#sk-container-id-1 div.sk-toggleable__content pre {margin: 0.2em;color: black;border-radius: 0.25em;background-color: #f0f8ff;}#sk-container-id-1 input.sk-toggleable__control:checked~div.sk-toggleable__content {max-height: 200px;max-width: 100%;overflow: auto;}#sk-container-id-1 input.sk-toggleable__control:checked~label.sk-toggleable__label-arrow:before {content: \"▾\";}#sk-container-id-1 div.sk-estimator input.sk-toggleable__control:checked~label.sk-toggleable__label {background-color: #d4ebff;}#sk-container-id-1 div.sk-label input.sk-toggleable__control:checked~label.sk-toggleable__label {background-color: #d4ebff;}#sk-container-id-1 input.sk-hidden--visually {border: 0;clip: rect(1px 1px 1px 1px);clip: rect(1px, 1px, 1px, 1px);height: 1px;margin: -1px;overflow: hidden;padding: 0;position: absolute;width: 1px;}#sk-container-id-1 div.sk-estimator {font-family: monospace;background-color: #f0f8ff;border: 1px dotted black;border-radius: 0.25em;box-sizing: border-box;margin-bottom: 0.5em;}#sk-container-id-1 div.sk-estimator:hover {background-color: #d4ebff;}#sk-container-id-1 div.sk-parallel-item::after {content: \"\";width: 100%;border-bottom: 1px solid gray;flex-grow: 1;}#sk-container-id-1 div.sk-label:hover label.sk-toggleable__label {background-color: #d4ebff;}#sk-container-id-1 div.sk-serial::before {content: \"\";position: absolute;border-left: 1px solid gray;box-sizing: border-box;top: 0;bottom: 0;left: 50%;z-index: 0;}#sk-container-id-1 div.sk-serial {display: flex;flex-direction: column;align-items: center;background-color: white;padding-right: 0.2em;padding-left: 0.2em;position: relative;}#sk-container-id-1 div.sk-item {position: relative;z-index: 1;}#sk-container-id-1 div.sk-parallel {display: flex;align-items: stretch;justify-content: center;background-color: white;position: relative;}#sk-container-id-1 div.sk-item::before, #sk-container-id-1 div.sk-parallel-item::before {content: \"\";position: absolute;border-left: 1px solid gray;box-sizing: border-box;top: 0;bottom: 0;left: 50%;z-index: -1;}#sk-container-id-1 div.sk-parallel-item {display: flex;flex-direction: column;z-index: 1;position: relative;background-color: white;}#sk-container-id-1 div.sk-parallel-item:first-child::after {align-self: flex-end;width: 50%;}#sk-container-id-1 div.sk-parallel-item:last-child::after {align-self: flex-start;width: 50%;}#sk-container-id-1 div.sk-parallel-item:only-child::after {width: 0;}#sk-container-id-1 div.sk-dashed-wrapped {border: 1px dashed gray;margin: 0 0.4em 0.5em 0.4em;box-sizing: border-box;padding-bottom: 0.4em;background-color: white;}#sk-container-id-1 div.sk-label label {font-family: monospace;font-weight: bold;display: inline-block;line-height: 1.2em;}#sk-container-id-1 div.sk-label-container {text-align: center;}#sk-container-id-1 div.sk-container {/* jupyter's `normalize.less` sets `[hidden] { display: none; }` but bootstrap.min.css set `[hidden] { display: none !important; }` so we also need the `!important` here to be able to override the default hidden behavior on the sphinx rendered scikit-learn.org. See: https://github.com/scikit-learn/scikit-learn/issues/21755 */display: inline-block !important;position: relative;}#sk-container-id-1 div.sk-text-repr-fallback {display: none;}</style><div id=\"sk-container-id-1\" class=\"sk-top-container\"><div class=\"sk-text-repr-fallback\"><pre>LogisticRegression(C=1, solver=&#x27;liblinear&#x27;)</pre><b>In a Jupyter environment, please rerun this cell to show the HTML representation or trust the notebook. <br />On GitHub, the HTML representation is unable to render, please try loading this page with nbviewer.org.</b></div><div class=\"sk-container\" hidden><div class=\"sk-item\"><div class=\"sk-estimator sk-toggleable\"><input class=\"sk-toggleable__control sk-hidden--visually\" id=\"sk-estimator-id-1\" type=\"checkbox\" checked><label for=\"sk-estimator-id-1\" class=\"sk-toggleable__label sk-toggleable__label-arrow\">LogisticRegression</label><div class=\"sk-toggleable__content\"><pre>LogisticRegression(C=1, solver=&#x27;liblinear&#x27;)</pre></div></div></div></div></div>"
      ],
      "text/plain": [
       "LogisticRegression(C=1, solver='liblinear')"
      ]
     },
     "execution_count": 30,
     "metadata": {},
     "output_type": "execute_result"
    }
   ],
   "source": [
    "best_clf = log_grid_clf.best_estimator_\n",
    "best_clf"
   ]
  },
  {
   "cell_type": "code",
   "execution_count": 31,
   "id": "045cc7ce-8889-4f41-9776-b35454ba7453",
   "metadata": {
    "colab": {
     "base_uri": "https://localhost:8080/"
    },
    "id": "045cc7ce-8889-4f41-9776-b35454ba7453",
    "outputId": "c3462dab-9bfc-42c1-9a73-bc4024fcca49"
   },
   "outputs": [
    {
     "name": "stdout",
     "output_type": "stream",
     "text": [
      "Classification Report on Training Set:\n",
      "              precision    recall  f1-score   support\n",
      "\n",
      "         neg       0.94      0.92      0.93       690\n",
      "         pos       0.92      0.94      0.93       710\n",
      "\n",
      "    accuracy                           0.93      1400\n",
      "   macro avg       0.93      0.93      0.93      1400\n",
      "weighted avg       0.93      0.93      0.93      1400\n",
      "\n",
      "-----------------------------------------------------\n",
      "\n",
      "Classification Report on Development Set:\n",
      "              precision    recall  f1-score   support\n",
      "\n",
      "         neg       0.90      0.82      0.85       157\n",
      "         pos       0.82      0.90      0.85       143\n",
      "\n",
      "    accuracy                           0.85       300\n",
      "   macro avg       0.86      0.86      0.85       300\n",
      "weighted avg       0.86      0.85      0.85       300\n",
      "\n",
      "-----------------------------------------------------\n",
      "Classification Report on Test Set:\n",
      "              precision    recall  f1-score   support\n",
      "\n",
      "         neg       0.88      0.81      0.84       153\n",
      "         pos       0.82      0.88      0.85       147\n",
      "\n",
      "    accuracy                           0.85       300\n",
      "   macro avg       0.85      0.85      0.85       300\n",
      "weighted avg       0.85      0.85      0.85       300\n",
      "\n"
     ]
    }
   ],
   "source": [
    "best_clf.fit(X_train_svd, y_train)\n",
    "\n",
    "#classification report -- Training set\n",
    "y_train_pred = best_clf.predict(X_train_svd)\n",
    "print(\"Classification Report on Training Set:\")\n",
    "print(classification_report(y_train, y_train_pred, target_names=z))\n",
    "\n",
    "print(\"-----------------------------------------------------\")\n",
    "\n",
    "#classification report -- Development set\n",
    "y_dev_pred = best_clf.predict(X_dev_svd)\n",
    "print(\"\\nClassification Report on Development Set:\")\n",
    "print(classification_report(y_dev, y_dev_pred, target_names=z))\n",
    "\n",
    "print(\"-----------------------------------------------------\")\n",
    "\n",
    "#classification report -- Test set\n",
    "y_test_pred = best_clf.predict(X_test_svd)\n",
    "print(\"Classification Report on Test Set:\")\n",
    "print(classification_report(y_test, y_test_pred, target_names=z))"
   ]
  },
  {
   "cell_type": "markdown",
   "id": "85fcff45-3931-45c3-b2c8-4e5d0faa5447",
   "metadata": {
    "id": "85fcff45-3931-45c3-b2c8-4e5d0faa5447"
   },
   "source": [
    "## Creating one-hot vectors"
   ]
  },
  {
   "cell_type": "code",
   "execution_count": 32,
   "id": "7853e3b0-502d-490f-abf3-c3903a5a7339",
   "metadata": {
    "colab": {
     "base_uri": "https://localhost:8080/"
    },
    "id": "7853e3b0-502d-490f-abf3-c3903a5a7339",
    "outputId": "209167f0-0474-4ef8-9086-68b75208b955"
   },
   "outputs": [],
   "source": [
    "lb = LabelBinarizer()\n",
    "target_list = z\n",
    "\n",
    "y_train_1_hot = lb.fit_transform([target_list[x] for x in y_train])\n",
    "y_dev_1_hot = lb.transform([target_list[x] for x in y_dev])"
   ]
  },
  {
   "cell_type": "code",
   "execution_count": 33,
   "id": "L7-NHGvBM_hq",
   "metadata": {
    "id": "L7-NHGvBM_hq"
   },
   "outputs": [],
   "source": [
    "class Metrics(tf.keras.callbacks.Callback):\n",
    "    def __init__(self, valid_data):\n",
    "        super(Metrics, self).__init__()\n",
    "        self.validation_data = valid_data\n",
    "\n",
    "    def on_epoch_end(self, epoch, logs=None):\n",
    "        logs = logs or {}\n",
    "        val_predict = np.argmax(self.model.predict(self.validation_data[0]), -1)\n",
    "        val_targ = self.validation_data[1]\n",
    "\n",
    "        if len(val_targ.shape) == 2 and val_targ.shape[1] != 1:\n",
    "            val_targ = np.argmax(val_targ, -1)\n",
    "        val_targ = tf.cast(val_targ,dtype=tf.float32)\n",
    "\n",
    "        _val_f1 = f1_score(val_targ, val_predict,average=\"weighted\")\n",
    "        _val_recall = recall_score(val_targ, val_predict,average=\"weighted\")\n",
    "        _val_precision = precision_score(val_targ, val_predict,average=\"weighted\")\n",
    "\n",
    "        logs['val_f1'] = _val_f1\n",
    "        logs['val_recall'] = _val_recall\n",
    "        logs['val_precision'] = _val_precision\n",
    "        print(\" — val_f1: %f — val_precision: %f — val_recall: %f\" % (_val_f1, _val_precision, _val_recall))\n",
    "        return"
   ]
  },
  {
   "cell_type": "markdown",
   "id": "lz0V9CnkJlay",
   "metadata": {
    "id": "lz0V9CnkJlay"
   },
   "source": [
    "## Setting our MLP model"
   ]
  },
  {
   "cell_type": "code",
   "execution_count": 34,
   "id": "8TlC0crDwzp6",
   "metadata": {
    "id": "8TlC0crDwzp6"
   },
   "outputs": [],
   "source": [
    "def MLP(input_size, num_hid_layers, hid_layers_size, drop_prob, batch_size, learn_rate):\n",
    "\n",
    "\n",
    "  model = Sequential()\n",
    "  model.add(Dense(input_size, input_dim=X_train_svd.shape[1] , activation='relu'))\n",
    "  model.add(Dropout(drop_prob))\n",
    "\n",
    "  for i in range(num_hid_layers):\n",
    "    model.add(Dense(hid_layers_size, activation = 'relu'))\n",
    "    model.add(Dropout(drop_prob))\n",
    "\n",
    "  model.add(Dense(1,  activation='sigmoid'))\n",
    "\n",
    "  # print(model.summary())\n",
    "\n",
    "  model.compile(\n",
    "    loss='binary_crossentropy',\n",
    "    optimizer=SGD(learning_rate=learn_rate),\n",
    "    metrics=[\"accuracy\"]\n",
    "    )\n",
    "\n",
    "  if not os.path.exists('./checkpoints'):\n",
    "    os.makedirs('./checkpoints')\n",
    "\n",
    "  checkpoint = ModelCheckpoint(\n",
    "    'checkpoints/weights.hdf5',\n",
    "    monitor='val_accuracy',\n",
    "    mode='max',\n",
    "    verbose=2,\n",
    "    save_best_only=True,\n",
    "    save_weights_only=True\n",
    "    )\n",
    "\n",
    "  start_training_time = time.time()\n",
    "  history = model.fit(\n",
    "      X_train_svd,\n",
    "      y_train_1_hot,\n",
    "      validation_data=(X_dev_svd, y_dev_1_hot),\n",
    "      batch_size=batch_size,\n",
    "      epochs=15,\n",
    "      shuffle=True,\n",
    "      callbacks=[Metrics(valid_data=(X_dev_svd, y_dev_1_hot)), checkpoint]\n",
    "      )\n",
    "  end_training_time = time.time()\n",
    "\n",
    "  print(f'\\nTraining time: {time.strftime(\"%H:%M:%S\", time.gmtime(end_training_time - start_training_time))} sec\\n')\n",
    "\n",
    "  return history, model"
   ]
  },
  {
   "cell_type": "markdown",
   "id": "ov15A_oRf5w8",
   "metadata": {
    "id": "ov15A_oRf5w8"
   },
   "source": [
    "## Hyperparameter Tuning"
   ]
  },
  {
   "cell_type": "code",
   "execution_count": 35,
   "id": "aF05twPzUTtY",
   "metadata": {
    "id": "aF05twPzUTtY"
   },
   "outputs": [],
   "source": [
    "hyperparameters = {\n",
    "    'learning_rate': [0.001, 0.01, 0.1],\n",
    "    'hidden_layers': [1, 2],\n",
    "    'hidden_layers_size': [64, 128],\n",
    "    'dropout_prob': [0.4, 0.5],\n",
    "    'batch_size': [1,64, 128]\n",
    "\n",
    "}"
   ]
  },
  {
   "cell_type": "code",
   "execution_count": null,
   "id": "lhVGZg40UQCR",
   "metadata": {
    "colab": {
     "base_uri": "https://localhost:8080/"
    },
    "id": "lhVGZg40UQCR",
    "outputId": "8a77594d-647f-42e4-cdcc-35de921d08e7"
   },
   "outputs": [
    {
     "name": "stdout",
     "output_type": "stream",
     "text": [
      "\n",
      "Training with hyperparameters: (0.001, 1, 64, 0.4, 1)\n"
     ]
    },
    {
     "name": "stderr",
     "output_type": "stream",
     "text": [
      "2024-02-14 12:13:06.061576: I external/local_xla/xla/stream_executor/cuda/cuda_executor.cc:901] successful NUMA node read from SysFS had negative value (-1), but there must be at least one NUMA node, so returning NUMA node zero. See more at https://github.com/torvalds/linux/blob/v6.0/Documentation/ABI/testing/sysfs-bus-pci#L344-L355\n",
      "2024-02-14 12:13:06.407915: I external/local_xla/xla/stream_executor/cuda/cuda_executor.cc:901] successful NUMA node read from SysFS had negative value (-1), but there must be at least one NUMA node, so returning NUMA node zero. See more at https://github.com/torvalds/linux/blob/v6.0/Documentation/ABI/testing/sysfs-bus-pci#L344-L355\n",
      "2024-02-14 12:13:06.408367: I external/local_xla/xla/stream_executor/cuda/cuda_executor.cc:901] successful NUMA node read from SysFS had negative value (-1), but there must be at least one NUMA node, so returning NUMA node zero. See more at https://github.com/torvalds/linux/blob/v6.0/Documentation/ABI/testing/sysfs-bus-pci#L344-L355\n",
      "2024-02-14 12:13:06.416894: I external/local_xla/xla/stream_executor/cuda/cuda_executor.cc:901] successful NUMA node read from SysFS had negative value (-1), but there must be at least one NUMA node, so returning NUMA node zero. See more at https://github.com/torvalds/linux/blob/v6.0/Documentation/ABI/testing/sysfs-bus-pci#L344-L355\n",
      "2024-02-14 12:13:06.417415: I external/local_xla/xla/stream_executor/cuda/cuda_executor.cc:901] successful NUMA node read from SysFS had negative value (-1), but there must be at least one NUMA node, so returning NUMA node zero. See more at https://github.com/torvalds/linux/blob/v6.0/Documentation/ABI/testing/sysfs-bus-pci#L344-L355\n",
      "2024-02-14 12:13:06.417991: I external/local_xla/xla/stream_executor/cuda/cuda_executor.cc:901] successful NUMA node read from SysFS had negative value (-1), but there must be at least one NUMA node, so returning NUMA node zero. See more at https://github.com/torvalds/linux/blob/v6.0/Documentation/ABI/testing/sysfs-bus-pci#L344-L355\n",
      "2024-02-14 12:13:06.531273: I external/local_xla/xla/stream_executor/cuda/cuda_executor.cc:901] successful NUMA node read from SysFS had negative value (-1), but there must be at least one NUMA node, so returning NUMA node zero. See more at https://github.com/torvalds/linux/blob/v6.0/Documentation/ABI/testing/sysfs-bus-pci#L344-L355\n",
      "2024-02-14 12:13:06.532208: I external/local_xla/xla/stream_executor/cuda/cuda_executor.cc:901] successful NUMA node read from SysFS had negative value (-1), but there must be at least one NUMA node, so returning NUMA node zero. See more at https://github.com/torvalds/linux/blob/v6.0/Documentation/ABI/testing/sysfs-bus-pci#L344-L355\n",
      "2024-02-14 12:13:06.532690: I external/local_xla/xla/stream_executor/cuda/cuda_executor.cc:901] successful NUMA node read from SysFS had negative value (-1), but there must be at least one NUMA node, so returning NUMA node zero. See more at https://github.com/torvalds/linux/blob/v6.0/Documentation/ABI/testing/sysfs-bus-pci#L344-L355\n",
      "2024-02-14 12:13:06.532848: I tensorflow/core/common_runtime/gpu/gpu_device.cc:1929] Created device /job:localhost/replica:0/task:0/device:GPU:0 with 3444 MB memory:  -> device: 0, name: NVIDIA GeForce GTX 960M, pci bus id: 0000:01:00.0, compute capability: 5.0\n"
     ]
    },
    {
     "name": "stdout",
     "output_type": "stream",
     "text": [
      "Epoch 1/15\n"
     ]
    },
    {
     "name": "stderr",
     "output_type": "stream",
     "text": [
      "2024-02-14 12:13:08.234219: I external/local_tsl/tsl/platform/default/subprocess.cc:304] Start cannot spawn child process: No such file or directory\n",
      "2024-02-14 12:13:09.973407: I external/local_xla/xla/service/service.cc:168] XLA service 0x7f34f0e48ba0 initialized for platform CUDA (this does not guarantee that XLA will be used). Devices:\n",
      "2024-02-14 12:13:09.973438: I external/local_xla/xla/service/service.cc:176]   StreamExecutor device (0): NVIDIA GeForce GTX 960M, Compute Capability 5.0\n",
      "2024-02-14 12:13:10.037036: I external/local_xla/xla/stream_executor/cuda/cuda_dnn.cc:454] Loaded cuDNN version 8904\n",
      "WARNING: All log messages before absl::InitializeLog() is called are written to STDERR\n",
      "I0000 00:00:1707905590.137369   44589 device_compiler.h:186] Compiled cluster using XLA!  This line is logged at most once for the lifetime of the process.\n"
     ]
    },
    {
     "name": "stdout",
     "output_type": "stream",
     "text": [
      "10/10 [==============================] - 0s 2ms/step - loss: 0.6944 - accuracy: 0.49\n",
      " — val_f1: 0.359577 — val_precision: 0.273878 — val_recall: 0.523333\n",
      "\n",
      "Epoch 1: val_accuracy improved from -inf to 0.55333, saving model to checkpoints/weights.hdf5\n",
      "1400/1400 [==============================] - 11s 5ms/step - loss: 0.6943 - accuracy: 0.4914 - val_loss: 0.6922 - val_accuracy: 0.5533 - val_f1: 0.3596 - val_recall: 0.5233 - val_precision: 0.2739\n",
      "Epoch 2/15\n",
      "  20/1400 [..............................] - ETA: 8s - loss: 0.6944 - accuracy: 0.5500"
     ]
    },
    {
     "name": "stderr",
     "output_type": "stream",
     "text": [
      "/home/dimits/anaconda3/envs/tf/lib/python3.9/site-packages/sklearn/metrics/_classification.py:1469: UndefinedMetricWarning: Precision is ill-defined and being set to 0.0 in labels with no predicted samples. Use `zero_division` parameter to control this behavior.\n",
      "  _warn_prf(average, modifier, msg_start, len(result))\n"
     ]
    },
    {
     "name": "stdout",
     "output_type": "stream",
     "text": [
      "10/10 [==============================] - 0s 2ms/step - loss: 0.6919 - accuracy: 0.54\n",
      " — val_f1: 0.359577 — val_precision: 0.273878 — val_recall: 0.523333\n",
      "\n",
      "Epoch 2: val_accuracy did not improve from 0.55333\n",
      "1400/1400 [==============================] - 7s 5ms/step - loss: 0.6918 - accuracy: 0.5414 - val_loss: 0.6920 - val_accuracy: 0.5167 - val_f1: 0.3596 - val_recall: 0.5233 - val_precision: 0.2739\n",
      "Epoch 3/15\n",
      "  38/1400 [..............................] - ETA: 5s - loss: 0.6874 - accuracy: 0.6579"
     ]
    },
    {
     "name": "stderr",
     "output_type": "stream",
     "text": [
      "/home/dimits/anaconda3/envs/tf/lib/python3.9/site-packages/sklearn/metrics/_classification.py:1469: UndefinedMetricWarning: Precision is ill-defined and being set to 0.0 in labels with no predicted samples. Use `zero_division` parameter to control this behavior.\n",
      "  _warn_prf(average, modifier, msg_start, len(result))\n"
     ]
    },
    {
     "name": "stdout",
     "output_type": "stream",
     "text": [
      "10/10 [==============================] - 0s 2ms/step - loss: 0.6918 - accuracy: 0.54\n",
      " — val_f1: 0.359577 — val_precision: 0.273878 — val_recall: 0.523333\n",
      "\n",
      "Epoch 3: val_accuracy did not improve from 0.55333\n",
      "1400/1400 [==============================] - 6s 4ms/step - loss: 0.6917 - accuracy: 0.5436 - val_loss: 0.6917 - val_accuracy: 0.4967 - val_f1: 0.3596 - val_recall: 0.5233 - val_precision: 0.2739\n",
      "Epoch 4/15\n",
      "  35/1400 [..............................] - ETA: 6s - loss: 0.6920 - accuracy: 0.5429"
     ]
    },
    {
     "name": "stderr",
     "output_type": "stream",
     "text": [
      "/home/dimits/anaconda3/envs/tf/lib/python3.9/site-packages/sklearn/metrics/_classification.py:1469: UndefinedMetricWarning: Precision is ill-defined and being set to 0.0 in labels with no predicted samples. Use `zero_division` parameter to control this behavior.\n",
      "  _warn_prf(average, modifier, msg_start, len(result))\n"
     ]
    },
    {
     "name": "stdout",
     "output_type": "stream",
     "text": [
      "10/10 [==============================] - 0s 2ms/step - loss: 0.6906 - accuracy: 0.54\n",
      " — val_f1: 0.359577 — val_precision: 0.273878 — val_recall: 0.523333\n",
      "\n",
      "Epoch 4: val_accuracy did not improve from 0.55333\n",
      "1400/1400 [==============================] - 7s 5ms/step - loss: 0.6906 - accuracy: 0.5400 - val_loss: 0.6910 - val_accuracy: 0.5067 - val_f1: 0.3596 - val_recall: 0.5233 - val_precision: 0.2739\n",
      "Epoch 5/15\n",
      "  29/1400 [..............................] - ETA: 7s - loss: 0.6864 - accuracy: 0.5862 "
     ]
    },
    {
     "name": "stderr",
     "output_type": "stream",
     "text": [
      "/home/dimits/anaconda3/envs/tf/lib/python3.9/site-packages/sklearn/metrics/_classification.py:1469: UndefinedMetricWarning: Precision is ill-defined and being set to 0.0 in labels with no predicted samples. Use `zero_division` parameter to control this behavior.\n",
      "  _warn_prf(average, modifier, msg_start, len(result))\n"
     ]
    },
    {
     "name": "stdout",
     "output_type": "stream",
     "text": [
      "10/10 [==============================] - 0s 2ms/step - loss: 0.6905 - accuracy: 0.55\n",
      " — val_f1: 0.359577 — val_precision: 0.273878 — val_recall: 0.523333\n",
      "\n",
      "Epoch 5: val_accuracy did not improve from 0.55333\n",
      "1400/1400 [==============================] - 7s 5ms/step - loss: 0.6905 - accuracy: 0.5521 - val_loss: 0.6900 - val_accuracy: 0.5300 - val_f1: 0.3596 - val_recall: 0.5233 - val_precision: 0.2739\n",
      "Epoch 6/15\n",
      "  38/1400 [..............................] - ETA: 5s - loss: 0.6885 - accuracy: 0.5526"
     ]
    },
    {
     "name": "stderr",
     "output_type": "stream",
     "text": [
      "/home/dimits/anaconda3/envs/tf/lib/python3.9/site-packages/sklearn/metrics/_classification.py:1469: UndefinedMetricWarning: Precision is ill-defined and being set to 0.0 in labels with no predicted samples. Use `zero_division` parameter to control this behavior.\n",
      "  _warn_prf(average, modifier, msg_start, len(result))\n"
     ]
    },
    {
     "name": "stdout",
     "output_type": "stream",
     "text": [
      "10/10 [==============================] - 0s 2ms/step - loss: 0.6898 - accuracy: 0.54\n",
      " — val_f1: 0.359577 — val_precision: 0.273878 — val_recall: 0.523333\n",
      "\n",
      "Epoch 6: val_accuracy did not improve from 0.55333\n",
      "1400/1400 [==============================] - 7s 5ms/step - loss: 0.6899 - accuracy: 0.5436 - val_loss: 0.6895 - val_accuracy: 0.5367 - val_f1: 0.3596 - val_recall: 0.5233 - val_precision: 0.2739\n",
      "Epoch 7/15\n",
      "  37/1400 [..............................] - ETA: 5s - loss: 0.6834 - accuracy: 0.5676"
     ]
    },
    {
     "name": "stderr",
     "output_type": "stream",
     "text": [
      "/home/dimits/anaconda3/envs/tf/lib/python3.9/site-packages/sklearn/metrics/_classification.py:1469: UndefinedMetricWarning: Precision is ill-defined and being set to 0.0 in labels with no predicted samples. Use `zero_division` parameter to control this behavior.\n",
      "  _warn_prf(average, modifier, msg_start, len(result))\n"
     ]
    },
    {
     "name": "stdout",
     "output_type": "stream",
     "text": [
      "10/10 [==============================] - 0s 2ms/step - loss: 0.6883 - accuracy: 0.57\n",
      " — val_f1: 0.359577 — val_precision: 0.273878 — val_recall: 0.523333\n",
      "\n",
      "Epoch 7: val_accuracy did not improve from 0.55333\n",
      "1400/1400 [==============================] - 6s 5ms/step - loss: 0.6881 - accuracy: 0.5736 - val_loss: 0.6889 - val_accuracy: 0.5000 - val_f1: 0.3596 - val_recall: 0.5233 - val_precision: 0.2739\n",
      "Epoch 8/15\n",
      "  38/1400 [..............................] - ETA: 5s - loss: 0.6930 - accuracy: 0.4737"
     ]
    },
    {
     "name": "stderr",
     "output_type": "stream",
     "text": [
      "/home/dimits/anaconda3/envs/tf/lib/python3.9/site-packages/sklearn/metrics/_classification.py:1469: UndefinedMetricWarning: Precision is ill-defined and being set to 0.0 in labels with no predicted samples. Use `zero_division` parameter to control this behavior.\n",
      "  _warn_prf(average, modifier, msg_start, len(result))\n"
     ]
    },
    {
     "name": "stdout",
     "output_type": "stream",
     "text": [
      "10/10 [==============================] - 0s 2ms/step - loss: 0.6884 - accuracy: 0.56\n",
      " — val_f1: 0.359577 — val_precision: 0.273878 — val_recall: 0.523333\n",
      "\n",
      "Epoch 8: val_accuracy did not improve from 0.55333\n",
      "1400/1400 [==============================] - 7s 5ms/step - loss: 0.6884 - accuracy: 0.5643 - val_loss: 0.6881 - val_accuracy: 0.4967 - val_f1: 0.3596 - val_recall: 0.5233 - val_precision: 0.2739\n",
      "Epoch 9/15\n",
      "  39/1400 [..............................] - ETA: 5s - loss: 0.6967 - accuracy: 0.4872"
     ]
    },
    {
     "name": "stderr",
     "output_type": "stream",
     "text": [
      "/home/dimits/anaconda3/envs/tf/lib/python3.9/site-packages/sklearn/metrics/_classification.py:1469: UndefinedMetricWarning: Precision is ill-defined and being set to 0.0 in labels with no predicted samples. Use `zero_division` parameter to control this behavior.\n",
      "  _warn_prf(average, modifier, msg_start, len(result))\n"
     ]
    },
    {
     "name": "stdout",
     "output_type": "stream",
     "text": [
      "10/10 [==============================] - 0s 2ms/step - loss: 0.6875 - accuracy: 0.56\n",
      " — val_f1: 0.359577 — val_precision: 0.273878 — val_recall: 0.523333\n",
      "\n",
      "Epoch 9: val_accuracy did not improve from 0.55333\n",
      "1400/1400 [==============================] - 6s 5ms/step - loss: 0.6875 - accuracy: 0.5686 - val_loss: 0.6873 - val_accuracy: 0.5033 - val_f1: 0.3596 - val_recall: 0.5233 - val_precision: 0.2739\n",
      "Epoch 10/15\n",
      "  42/1400 [..............................] - ETA: 5s - loss: 0.6818 - accuracy: 0.6190"
     ]
    },
    {
     "name": "stderr",
     "output_type": "stream",
     "text": [
      "/home/dimits/anaconda3/envs/tf/lib/python3.9/site-packages/sklearn/metrics/_classification.py:1469: UndefinedMetricWarning: Precision is ill-defined and being set to 0.0 in labels with no predicted samples. Use `zero_division` parameter to control this behavior.\n",
      "  _warn_prf(average, modifier, msg_start, len(result))\n"
     ]
    },
    {
     "name": "stdout",
     "output_type": "stream",
     "text": [
      "10/10 [==============================] - 0s 3ms/step - loss: 0.6853 - accuracy: 0.59\n",
      " — val_f1: 0.359577 — val_precision: 0.273878 — val_recall: 0.523333\n",
      "\n",
      "Epoch 10: val_accuracy improved from 0.55333 to 0.60000, saving model to checkpoints/weights.hdf5\n",
      "1400/1400 [==============================] - 6s 4ms/step - loss: 0.6852 - accuracy: 0.5921 - val_loss: 0.6854 - val_accuracy: 0.6000 - val_f1: 0.3596 - val_recall: 0.5233 - val_precision: 0.2739\n",
      "Epoch 11/15\n",
      "  23/1400 [..............................] - ETA: 6s - loss: 0.6836 - accuracy: 0.5652"
     ]
    },
    {
     "name": "stderr",
     "output_type": "stream",
     "text": [
      "/home/dimits/anaconda3/envs/tf/lib/python3.9/site-packages/sklearn/metrics/_classification.py:1469: UndefinedMetricWarning: Precision is ill-defined and being set to 0.0 in labels with no predicted samples. Use `zero_division` parameter to control this behavior.\n",
      "  _warn_prf(average, modifier, msg_start, len(result))\n"
     ]
    },
    {
     "name": "stdout",
     "output_type": "stream",
     "text": [
      "10/10 [==============================] - 0s 2ms/step - loss: 0.6861 - accuracy: 0.58\n",
      " — val_f1: 0.359577 — val_precision: 0.273878 — val_recall: 0.523333\n",
      "\n",
      "Epoch 11: val_accuracy did not improve from 0.60000\n",
      "1400/1400 [==============================] - 7s 5ms/step - loss: 0.6861 - accuracy: 0.5836 - val_loss: 0.6847 - val_accuracy: 0.5533 - val_f1: 0.3596 - val_recall: 0.5233 - val_precision: 0.2739\n",
      "Epoch 12/15\n",
      "  35/1400 [..............................] - ETA: 6s - loss: 0.7005 - accuracy: 0.4000"
     ]
    },
    {
     "name": "stderr",
     "output_type": "stream",
     "text": [
      "/home/dimits/anaconda3/envs/tf/lib/python3.9/site-packages/sklearn/metrics/_classification.py:1469: UndefinedMetricWarning: Precision is ill-defined and being set to 0.0 in labels with no predicted samples. Use `zero_division` parameter to control this behavior.\n",
      "  _warn_prf(average, modifier, msg_start, len(result))\n"
     ]
    },
    {
     "name": "stdout",
     "output_type": "stream",
     "text": [
      "10/10 [==============================] - 0s 4ms/step - loss: 0.6839 - accuracy: 0.60\n",
      " — val_f1: 0.359577 — val_precision: 0.273878 — val_recall: 0.523333\n",
      "\n",
      "Epoch 12: val_accuracy did not improve from 0.60000\n",
      "1400/1400 [==============================] - 10s 7ms/step - loss: 0.6839 - accuracy: 0.6014 - val_loss: 0.6838 - val_accuracy: 0.5500 - val_f1: 0.3596 - val_recall: 0.5233 - val_precision: 0.2739\n",
      "Epoch 13/15\n",
      "  31/1400 [..............................] - ETA: 7s - loss: 0.6744 - accuracy: 0.6774"
     ]
    },
    {
     "name": "stderr",
     "output_type": "stream",
     "text": [
      "/home/dimits/anaconda3/envs/tf/lib/python3.9/site-packages/sklearn/metrics/_classification.py:1469: UndefinedMetricWarning: Precision is ill-defined and being set to 0.0 in labels with no predicted samples. Use `zero_division` parameter to control this behavior.\n",
      "  _warn_prf(average, modifier, msg_start, len(result))\n"
     ]
    },
    {
     "name": "stdout",
     "output_type": "stream",
     "text": [
      " 334/1400 [======>.......................] - ETA: 5s - loss: 0.6844 - accuracy: 0.5868"
     ]
    }
   ],
   "source": [
    "best_dev_accuracy = -1\n",
    "best_hyperparameters = None\n",
    "\n",
    "hyperparameter_combinations = list(product(*hyperparameters.values()))\n",
    "for params in hyperparameter_combinations:\n",
    "    learning_rate, hidden_layers, hidden_layers_size, dropout_prob, batch_size = params\n",
    "\n",
    "    print(f\"\\nTraining with hyperparameters: {params}\")\n",
    "\n",
    "    history, model = MLP(256, hidden_layers, hidden_layers_size, dropout_prob, batch_size, learning_rate)\n",
    "\n",
    "\n",
    "    dev_loss, dev_accuracy = model.evaluate(X_dev_svd, y_dev_1_hot)             #evaluate model on the development set\n",
    "\n",
    "    if dev_accuracy > best_dev_accuracy:\n",
    "        best_dev_accuracy = dev_accuracy\n",
    "        best_hyperparameters = params\n",
    "    print(f\"Development Accuracy: {dev_accuracy}\")"
   ]
  },
  {
   "cell_type": "code",
   "execution_count": null,
   "id": "1ByJH7J51ZP-",
   "metadata": {
    "colab": {
     "base_uri": "https://localhost:8080/"
    },
    "id": "1ByJH7J51ZP-",
    "outputId": "f878e7f2-8732-4c55-bcb7-c0d83df8a670"
   },
   "outputs": [],
   "source": [
    "print(\"Best hyperpameters:\" , best_hyperparameters)\n",
    "print(\"Best development accuracy:\", best_dev_accuracy)\n",
    "\n",
    "\n",
    "learning_rate = best_hyperparameters[0]\n",
    "num_hid_layers = best_hyperparameters[1]\n",
    "hid_layers_size = best_hyperparameters[2]\n",
    "dropout_prob = best_hyperparameters[3]\n",
    "bs = best_hyperparameters[4]"
   ]
  },
  {
   "cell_type": "code",
   "execution_count": null,
   "id": "0HTu_rkOPdpq",
   "metadata": {
    "colab": {
     "base_uri": "https://localhost:8080/"
    },
    "id": "0HTu_rkOPdpq",
    "outputId": "ede30272-b38f-418e-9256-ada1bd23b370"
   },
   "outputs": [],
   "source": [
    "history, best_model = MLP(256, num_hid_layers, hid_layers_size, dropout_prob, bs, learning_rate )"
   ]
  },
  {
   "cell_type": "markdown",
   "id": "xHF01dC6Itrf",
   "metadata": {
    "id": "xHF01dC6Itrf"
   },
   "source": [
    "## Visualize Model's Training History"
   ]
  },
  {
   "cell_type": "code",
   "execution_count": null,
   "id": "KB2azVTtoHr4",
   "metadata": {
    "colab": {
     "base_uri": "https://localhost:8080/",
     "height": 927
    },
    "id": "KB2azVTtoHr4",
    "outputId": "1e7629b8-80e0-4f43-b5a4-757eae2367e4"
   },
   "outputs": [],
   "source": [
    "%matplotlib inline\n",
    "import matplotlib.pyplot as plt\n",
    "\n",
    "# summarize history for accuracy\n",
    "plt.plot(history.history['accuracy'])\n",
    "plt.plot(history.history['val_accuracy'])\n",
    "plt.title('model accuracy')\n",
    "plt.ylabel('accuracy')\n",
    "plt.xlabel('epoch')\n",
    "plt.legend(['train', 'dev'], loc='upper left')\n",
    "plt.show()\n",
    "\n",
    "# summarize history for loss\n",
    "plt.plot(history.history['loss'])\n",
    "plt.plot(history.history['val_loss'])\n",
    "plt.title('model loss')\n",
    "plt.ylabel('loss')\n",
    "plt.xlabel('epoch')\n",
    "plt.legend(['train', 'dev'], loc='upper right')\n",
    "plt.show()"
   ]
  },
  {
   "cell_type": "markdown",
   "id": "1FHH33IQgGY3",
   "metadata": {
    "id": "1FHH33IQgGY3"
   },
   "source": [
    "##Metrics (Precision, Recall, F1, AUC)"
   ]
  },
  {
   "cell_type": "code",
   "execution_count": null,
   "id": "ZnWrA6W-X7SP",
   "metadata": {
    "colab": {
     "base_uri": "https://localhost:8080/"
    },
    "id": "ZnWrA6W-X7SP",
    "outputId": "ccd0a569-7f70-4763-92fb-994049cdeef2"
   },
   "outputs": [],
   "source": [
    "from sklearn.metrics import precision_score, recall_score, f1_score, precision_recall_curve, auc\n",
    "import numpy as np\n",
    "\n",
    "\n",
    "\n",
    "train_probs = best_model.predict(X_train_svd)                       #Predict probs for training,dev and test\n",
    "dev_probs = best_model.predict(X_dev_svd)\n",
    "test_probs = best_model.predict(X_test_svd)\n",
    "\n",
    "\n",
    "train_preds = (train_probs > 0.5).astype(int)                                 #To get binary predictions\n",
    "dev_preds = (dev_probs > 0.5).astype(int)\n",
    "test_preds = (test_probs > 0.5).astype(int)\n",
    "\n",
    "def calculate_metrics(y_true, y_pred):\n",
    "    precision = precision_score(y_true, y_pred, average=None)\n",
    "    recall = recall_score(y_true, y_pred, average=None)\n",
    "    f1 = f1_score(y_true, y_pred, average=None)\n",
    "    return precision, recall, f1\n",
    "\n",
    "train_precision, train_recall, train_f1 = calculate_metrics(y_train, train_preds)\n",
    "dev_precision, dev_recall, dev_f1 = calculate_metrics(y_dev, dev_preds)\n",
    "test_precision, test_recall, test_f1 = calculate_metrics(y_test, test_preds)\n",
    "\n",
    "\n",
    "def calculate_pr_auc(y_true, y_probs):\n",
    "    pr_auc_scores = []\n",
    "\n",
    "    precision, recall, _ = precision_recall_curve(y_true, y_probs)\n",
    "    pr_auc_scores.append(auc(recall, precision))\n",
    "    return pr_auc_scores\n",
    "\n",
    "train_pr_auc = calculate_pr_auc(y_train, train_probs)\n",
    "dev_pr_auc = calculate_pr_auc(y_dev, dev_probs)\n",
    "test_pr_auc = calculate_pr_auc(y_test, test_probs)\n"
   ]
  },
  {
   "cell_type": "code",
   "execution_count": null,
   "id": "EOnt3pXgdPe3",
   "metadata": {
    "colab": {
     "base_uri": "https://localhost:8080/"
    },
    "id": "EOnt3pXgdPe3",
    "outputId": "a398084f-eb24-43b3-fbbf-7052ecae5df8"
   },
   "outputs": [],
   "source": [
    "for i in range(2):\n",
    "    print(\"Class \", z[i], \":   (Training)     (Development)      (Test)\")\n",
    "    print(f\"Precision    |  {train_precision[i]:.6f}   |    {dev_precision[i]:.6f}    |   {test_precision[i]:.6f}\")\n",
    "    print(f\"Recall       |  {train_recall[i]:.6f}   |    {dev_recall[i]:.6f}    |   {test_recall[i]:.6f}\")\n",
    "    print(f\"F1-score     |  {train_f1[i]:.6f}   |    {dev_f1[i]:.6f}    |   {test_f1[i]:.6f}\")\n",
    "    print(f\"PR AUC       |  {train_pr_auc[i-1]:.6f}   |    {dev_pr_auc[i-1]:.6f}    |   {test_pr_auc[i-1]:.6f}\")\n",
    "    print(\"-------------------------------------------------------------\")"
   ]
  },
  {
   "cell_type": "code",
   "execution_count": null,
   "id": "bhu7XewQh-2Q",
   "metadata": {
    "colab": {
     "base_uri": "https://localhost:8080/"
    },
    "id": "bhu7XewQh-2Q",
    "outputId": "b8d1570e-e926-4d1a-b55d-5e900c747ba2"
   },
   "outputs": [],
   "source": [
    "def calculate_macro_averaged_scores(y_true, y_pred, y_probs):\n",
    "\n",
    "    precision = precision_score(y_true, y_pred, average=None)\n",
    "    recall = recall_score(y_true, y_pred, average=None)\n",
    "    f1 = f1_score(y_true, y_pred, average=None)\n",
    "\n",
    "    def calculate_pr_auc(y_true, y_probs):\n",
    "        precision, recall, _ = precision_recall_curve(y_true, y_probs)\n",
    "        pr_auc = auc(recall, precision)\n",
    "        return pr_auc\n",
    "\n",
    "    pr_auc = calculate_pr_auc(y_true, y_probs)\n",
    "\n",
    "\n",
    "    macro_avg_precision = np.mean(precision)\n",
    "    macro_avg_recall = np.mean(recall)\n",
    "    macro_avg_f1 = np.mean(f1)\n",
    "    macro_avg_pr_auc = np.mean(pr_auc)\n",
    "\n",
    "    return macro_avg_precision, macro_avg_recall, macro_avg_f1, macro_avg_pr_auc\n",
    "\n",
    "train_macro_avg_precision, train_macro_avg_recall, train_macro_avg_f1, train_macro_avg_pr_auc = calculate_macro_averaged_scores(y_train, train_preds, train_probs)\n",
    "dev_macro_avg_precision, dev_macro_avg_recall, dev_macro_avg_f1, dev_macro_avg_pr_auc = calculate_macro_averaged_scores(y_dev, dev_preds, dev_probs)\n",
    "test_macro_avg_precision, test_macro_avg_recall, test_macro_avg_f1, test_macro_avg_pr_auc = calculate_macro_averaged_scores(y_test, test_preds, test_probs)\n",
    "\n",
    "\n",
    "print(\"Macro-averaged Scores for Training Subset:\")\n",
    "print(\"===========================================\")\n",
    "print(f\"Macro-averaged Precision: {train_macro_avg_precision:.6f}\")\n",
    "print(f\"Macro-averaged Recall: {train_macro_avg_recall:.6f}\")\n",
    "print(f\"Macro-averaged F1-score: {train_macro_avg_f1:.6f}\")\n",
    "print(f\"Macro-averaged PR AUC: {train_macro_avg_pr_auc:.6f}\")\n",
    "print()\n",
    "\n",
    "print(\"Macro-averaged Scores for Development Subset:\")\n",
    "print(\"===============================================\")\n",
    "print(f\"Macro-averaged Precision: {dev_macro_avg_precision:.6f}\")\n",
    "print(f\"Macro-averaged Recall: {dev_macro_avg_recall:.6f}\")\n",
    "print(f\"Macro-averaged F1-score: {dev_macro_avg_f1:.6f}\")\n",
    "print(f\"Macro-averaged PR AUC: {dev_macro_avg_pr_auc:.6f}\")\n",
    "print()\n",
    "\n",
    "print(\"Macro-averaged Scores for Test Subset:\")\n",
    "print(\"========================================\")\n",
    "print(f\"Macro-averaged Precision: {test_macro_avg_precision:.6f}\")\n",
    "print(f\"Macro-averaged Recall: {test_macro_avg_recall:.6f}\")\n",
    "print(f\"Macro-averaged F1-score: {test_macro_avg_f1:.6f}\")\n",
    "print(f\"Macro-averaged PR AUC: {test_macro_avg_pr_auc:.6f}\")"
   ]
  }
 ],
 "metadata": {
  "colab": {
   "provenance": []
  },
  "kernelspec": {
   "display_name": "Python 3 (ipykernel)",
   "language": "python",
   "name": "python3"
  },
  "language_info": {
   "codemirror_mode": {
    "name": "ipython",
    "version": 3
   },
   "file_extension": ".py",
   "mimetype": "text/x-python",
   "name": "python",
   "nbconvert_exporter": "python",
   "pygments_lexer": "ipython3",
   "version": "3.9.18"
  },
  "widgets": {
   "application/vnd.jupyter.widget-state+json": {
    "0dab64552a7e4750a493c0d3ef1032af": {
     "model_module": "@jupyter-widgets/base",
     "model_module_version": "1.2.0",
     "model_name": "LayoutModel",
     "state": {
      "_model_module": "@jupyter-widgets/base",
      "_model_module_version": "1.2.0",
      "_model_name": "LayoutModel",
      "_view_count": null,
      "_view_module": "@jupyter-widgets/base",
      "_view_module_version": "1.2.0",
      "_view_name": "LayoutView",
      "align_content": null,
      "align_items": null,
      "align_self": null,
      "border": null,
      "bottom": null,
      "display": null,
      "flex": null,
      "flex_flow": null,
      "grid_area": null,
      "grid_auto_columns": null,
      "grid_auto_flow": null,
      "grid_auto_rows": null,
      "grid_column": null,
      "grid_gap": null,
      "grid_row": null,
      "grid_template_areas": null,
      "grid_template_columns": null,
      "grid_template_rows": null,
      "height": null,
      "justify_content": null,
      "justify_items": null,
      "left": null,
      "margin": null,
      "max_height": null,
      "max_width": null,
      "min_height": null,
      "min_width": null,
      "object_fit": null,
      "object_position": null,
      "order": null,
      "overflow": null,
      "overflow_x": null,
      "overflow_y": null,
      "padding": null,
      "right": null,
      "top": null,
      "visibility": null,
      "width": null
     }
    },
    "3f863b17990d4068aa8c26abe1b71138": {
     "model_module": "@jupyter-widgets/base",
     "model_module_version": "1.2.0",
     "model_name": "LayoutModel",
     "state": {
      "_model_module": "@jupyter-widgets/base",
      "_model_module_version": "1.2.0",
      "_model_name": "LayoutModel",
      "_view_count": null,
      "_view_module": "@jupyter-widgets/base",
      "_view_module_version": "1.2.0",
      "_view_name": "LayoutView",
      "align_content": null,
      "align_items": null,
      "align_self": null,
      "border": null,
      "bottom": null,
      "display": null,
      "flex": null,
      "flex_flow": null,
      "grid_area": null,
      "grid_auto_columns": null,
      "grid_auto_flow": null,
      "grid_auto_rows": null,
      "grid_column": null,
      "grid_gap": null,
      "grid_row": null,
      "grid_template_areas": null,
      "grid_template_columns": null,
      "grid_template_rows": null,
      "height": null,
      "justify_content": null,
      "justify_items": null,
      "left": null,
      "margin": null,
      "max_height": null,
      "max_width": null,
      "min_height": null,
      "min_width": null,
      "object_fit": null,
      "object_position": null,
      "order": null,
      "overflow": null,
      "overflow_x": null,
      "overflow_y": null,
      "padding": null,
      "right": null,
      "top": null,
      "visibility": null,
      "width": null
     }
    },
    "4ca44ac30ca94cfe94c0706eb80331bd": {
     "model_module": "@jupyter-widgets/controls",
     "model_module_version": "1.5.0",
     "model_name": "DescriptionStyleModel",
     "state": {
      "_model_module": "@jupyter-widgets/controls",
      "_model_module_version": "1.5.0",
      "_model_name": "DescriptionStyleModel",
      "_view_count": null,
      "_view_module": "@jupyter-widgets/base",
      "_view_module_version": "1.2.0",
      "_view_name": "StyleView",
      "description_width": ""
     }
    },
    "54b2c37a1c93470f9051f1c373b42ede": {
     "model_module": "@jupyter-widgets/controls",
     "model_module_version": "1.5.0",
     "model_name": "ProgressStyleModel",
     "state": {
      "_model_module": "@jupyter-widgets/controls",
      "_model_module_version": "1.5.0",
      "_model_name": "ProgressStyleModel",
      "_view_count": null,
      "_view_module": "@jupyter-widgets/base",
      "_view_module_version": "1.2.0",
      "_view_name": "StyleView",
      "bar_color": null,
      "description_width": ""
     }
    },
    "5d15fe45547d45c4b6cc9b664924aa39": {
     "model_module": "@jupyter-widgets/controls",
     "model_module_version": "1.5.0",
     "model_name": "FloatProgressModel",
     "state": {
      "_dom_classes": [],
      "_model_module": "@jupyter-widgets/controls",
      "_model_module_version": "1.5.0",
      "_model_name": "FloatProgressModel",
      "_view_count": null,
      "_view_module": "@jupyter-widgets/controls",
      "_view_module_version": "1.5.0",
      "_view_name": "ProgressView",
      "bar_style": "success",
      "description": "",
      "description_tooltip": null,
      "layout": "IPY_MODEL_a4f9128b50fe432abcefb68ec5bab9f9",
      "max": 2000,
      "min": 0,
      "orientation": "horizontal",
      "style": "IPY_MODEL_54b2c37a1c93470f9051f1c373b42ede",
      "value": 2000
     }
    },
    "7f08a1824484455792e002f0660d5603": {
     "model_module": "@jupyter-widgets/controls",
     "model_module_version": "1.5.0",
     "model_name": "HTMLModel",
     "state": {
      "_dom_classes": [],
      "_model_module": "@jupyter-widgets/controls",
      "_model_module_version": "1.5.0",
      "_model_name": "HTMLModel",
      "_view_count": null,
      "_view_module": "@jupyter-widgets/controls",
      "_view_module_version": "1.5.0",
      "_view_name": "HTMLView",
      "description": "",
      "description_tooltip": null,
      "layout": "IPY_MODEL_cde303249cba45b6808fd3c81217b777",
      "placeholder": "​",
      "style": "IPY_MODEL_aeef2a393830476398b6a6b9bde7b2c9",
      "value": " 2000/2000 [00:22&lt;00:00, 102.63it/s]"
     }
    },
    "a4f9128b50fe432abcefb68ec5bab9f9": {
     "model_module": "@jupyter-widgets/base",
     "model_module_version": "1.2.0",
     "model_name": "LayoutModel",
     "state": {
      "_model_module": "@jupyter-widgets/base",
      "_model_module_version": "1.2.0",
      "_model_name": "LayoutModel",
      "_view_count": null,
      "_view_module": "@jupyter-widgets/base",
      "_view_module_version": "1.2.0",
      "_view_name": "LayoutView",
      "align_content": null,
      "align_items": null,
      "align_self": null,
      "border": null,
      "bottom": null,
      "display": null,
      "flex": null,
      "flex_flow": null,
      "grid_area": null,
      "grid_auto_columns": null,
      "grid_auto_flow": null,
      "grid_auto_rows": null,
      "grid_column": null,
      "grid_gap": null,
      "grid_row": null,
      "grid_template_areas": null,
      "grid_template_columns": null,
      "grid_template_rows": null,
      "height": null,
      "justify_content": null,
      "justify_items": null,
      "left": null,
      "margin": null,
      "max_height": null,
      "max_width": null,
      "min_height": null,
      "min_width": null,
      "object_fit": null,
      "object_position": null,
      "order": null,
      "overflow": null,
      "overflow_x": null,
      "overflow_y": null,
      "padding": null,
      "right": null,
      "top": null,
      "visibility": null,
      "width": null
     }
    },
    "aeef2a393830476398b6a6b9bde7b2c9": {
     "model_module": "@jupyter-widgets/controls",
     "model_module_version": "1.5.0",
     "model_name": "DescriptionStyleModel",
     "state": {
      "_model_module": "@jupyter-widgets/controls",
      "_model_module_version": "1.5.0",
      "_model_name": "DescriptionStyleModel",
      "_view_count": null,
      "_view_module": "@jupyter-widgets/base",
      "_view_module_version": "1.2.0",
      "_view_name": "StyleView",
      "description_width": ""
     }
    },
    "cde303249cba45b6808fd3c81217b777": {
     "model_module": "@jupyter-widgets/base",
     "model_module_version": "1.2.0",
     "model_name": "LayoutModel",
     "state": {
      "_model_module": "@jupyter-widgets/base",
      "_model_module_version": "1.2.0",
      "_model_name": "LayoutModel",
      "_view_count": null,
      "_view_module": "@jupyter-widgets/base",
      "_view_module_version": "1.2.0",
      "_view_name": "LayoutView",
      "align_content": null,
      "align_items": null,
      "align_self": null,
      "border": null,
      "bottom": null,
      "display": null,
      "flex": null,
      "flex_flow": null,
      "grid_area": null,
      "grid_auto_columns": null,
      "grid_auto_flow": null,
      "grid_auto_rows": null,
      "grid_column": null,
      "grid_gap": null,
      "grid_row": null,
      "grid_template_areas": null,
      "grid_template_columns": null,
      "grid_template_rows": null,
      "height": null,
      "justify_content": null,
      "justify_items": null,
      "left": null,
      "margin": null,
      "max_height": null,
      "max_width": null,
      "min_height": null,
      "min_width": null,
      "object_fit": null,
      "object_position": null,
      "order": null,
      "overflow": null,
      "overflow_x": null,
      "overflow_y": null,
      "padding": null,
      "right": null,
      "top": null,
      "visibility": null,
      "width": null
     }
    },
    "d2d7380c6e704837876fc2f30f42009c": {
     "model_module": "@jupyter-widgets/controls",
     "model_module_version": "1.5.0",
     "model_name": "HTMLModel",
     "state": {
      "_dom_classes": [],
      "_model_module": "@jupyter-widgets/controls",
      "_model_module_version": "1.5.0",
      "_model_name": "HTMLModel",
      "_view_count": null,
      "_view_module": "@jupyter-widgets/controls",
      "_view_module_version": "1.5.0",
      "_view_name": "HTMLView",
      "description": "",
      "description_tooltip": null,
      "layout": "IPY_MODEL_3f863b17990d4068aa8c26abe1b71138",
      "placeholder": "​",
      "style": "IPY_MODEL_4ca44ac30ca94cfe94c0706eb80331bd",
      "value": "100%"
     }
    },
    "e96a0b2a46fd473990de8c5f87b31a01": {
     "model_module": "@jupyter-widgets/controls",
     "model_module_version": "1.5.0",
     "model_name": "HBoxModel",
     "state": {
      "_dom_classes": [],
      "_model_module": "@jupyter-widgets/controls",
      "_model_module_version": "1.5.0",
      "_model_name": "HBoxModel",
      "_view_count": null,
      "_view_module": "@jupyter-widgets/controls",
      "_view_module_version": "1.5.0",
      "_view_name": "HBoxView",
      "box_style": "",
      "children": [
       "IPY_MODEL_d2d7380c6e704837876fc2f30f42009c",
       "IPY_MODEL_5d15fe45547d45c4b6cc9b664924aa39",
       "IPY_MODEL_7f08a1824484455792e002f0660d5603"
      ],
      "layout": "IPY_MODEL_0dab64552a7e4750a493c0d3ef1032af"
     }
    }
   }
  }
 },
 "nbformat": 4,
 "nbformat_minor": 5
}
