{
 "cells": [
  {
   "cell_type": "code",
   "execution_count": 1,
   "id": "93c92f42-338a-4b25-8f92-8c34b804f3b7",
   "metadata": {},
   "outputs": [],
   "source": [
    "import pandas as pd\n",
    "import numpy as np\n",
    "from tqdm.auto import tqdm\n",
    "\n",
    "import os\n",
    "\n",
    "\n",
    "os.environ['TF_CPP_MIN_LOG_LEVEL'] = '3'\n",
    "\n",
    "INPUT_DIR = \"input/UD_English-EWT\"\n",
    "OUTPUT_DIR = \"output\"\n",
    "INTERMEDIATE_DIR = \"intermediate\""
   ]
  },
  {
   "cell_type": "markdown",
   "id": "d323f46a-b3ce-448c-83da-5af0b0d9b5e4",
   "metadata": {},
   "source": [
    "## Dataset"
   ]
  },
  {
   "cell_type": "markdown",
   "id": "edeadf66-42aa-4c64-b6ae-00827e89a3d2",
   "metadata": {},
   "source": [
    "Acquiring and preprocessing our data with the goal of eventually acquiring a sufficient representation of our text is the most difficult and time-consuming task. We thus split it in distinct phases:\n",
    "\n",
    "* Original dataset acquisition and parsing\n",
    "* Qualitative analysis and preprocessing\n",
    "* Transformation for the NLP task\n",
    "\n",
    "Note that due to the relative custom code complexity, most of the code used in this section was developed and imported from python source files located in the `tasks` module. In-depth documentation and implementation details can be found in these files. "
   ]
  },
  {
   "cell_type": "markdown",
   "id": "bf29e779-4a69-4f90-8838-508041fcc644",
   "metadata": {},
   "source": [
    "### Acquisition\n",
    "\n",
    "We select the [English EWT-UD](https://universaldependencies.org/treebanks/en_ewt/index.html) tree, which is the largest currently supported collection for POS tagging tasks for the English task.\n",
    "\n",
    "This corpus contains 16622 sentences, 251492 tokens and 254820 syntactic words, as well as 926 types of words that contain both letters and punctuation, such as 's, n't, e-mail, Mr., ’s, etc). This is marketly a much higher occurence than its siblings, and therefore may lead to a slightly more difficult task.\n",
    "\n",
    "The dataset is made available in `conllu` format, which we parse using the recommended `conllu` python library (see tasks.preprocessing for more details). We create a dataframe for every word and its corresponding POS tag and link words belonging to the same sentences by a unique sentence ID. The data are already split to training, validation and test sets, thus our own sets correspond to the respective split files.\n",
    "\n",
    "We are interested in the UPOS (Universal Part of Speech) tags for English words. The only meaningful preprocessing at this stage thus would be converting the words to lowercase. We believe that the context of each word will carry enough information to distinguish its POS tag regardless of case."
   ]
  },
  {
   "cell_type": "code",
   "execution_count": 2,
   "id": "8e311453-7644-4555-aecc-d189929be3a2",
   "metadata": {},
   "outputs": [],
   "source": [
    "from tasks import common\n",
    "from tasks import preprocessing"
   ]
  },
  {
   "cell_type": "code",
   "execution_count": 3,
   "id": "8bd5591b-f01d-415a-86f2-1ac11370f8ec",
   "metadata": {},
   "outputs": [
    {
     "name": "stdout",
     "output_type": "stream",
     "text": [
      "Loading training dataset...\n",
      "\tReading data...\n",
      "\tParsing data...\n",
      "\tGetting words...\n"
     ]
    },
    {
     "data": {
      "application/vnd.jupyter.widget-view+json": {
       "model_id": "00ee915ef85b4a3d814e16a301e47760",
       "version_major": 2,
       "version_minor": 0
      },
      "text/plain": [
       "  0%|          | 0/12544 [00:00<?, ?it/s]"
      ]
     },
     "metadata": {},
     "output_type": "display_data"
    },
    {
     "name": "stdout",
     "output_type": "stream",
     "text": [
      "\tGetting POS tags...\n"
     ]
    },
    {
     "data": {
      "application/vnd.jupyter.widget-view+json": {
       "model_id": "c16795f13f9e4855b19407d3b67fe7de",
       "version_major": 2,
       "version_minor": 0
      },
      "text/plain": [
       "  0%|          | 0/12544 [00:00<?, ?it/s]"
      ]
     },
     "metadata": {},
     "output_type": "display_data"
    },
    {
     "name": "stdout",
     "output_type": "stream",
     "text": [
      "\tGetting Sentence ids...\n"
     ]
    },
    {
     "data": {
      "application/vnd.jupyter.widget-view+json": {
       "model_id": "f1c2b313dca141759336d7255a999f98",
       "version_major": 2,
       "version_minor": 0
      },
      "text/plain": [
       "  0%|          | 0/12544 [00:00<?, ?it/s]"
      ]
     },
     "metadata": {},
     "output_type": "display_data"
    },
    {
     "name": "stdout",
     "output_type": "stream",
     "text": [
      "Loading validation dataset...\n",
      "\tReading data...\n",
      "\tParsing data...\n",
      "\tGetting words...\n"
     ]
    },
    {
     "data": {
      "application/vnd.jupyter.widget-view+json": {
       "model_id": "cd22aecc0ee44ab892e38600f4eb0c7f",
       "version_major": 2,
       "version_minor": 0
      },
      "text/plain": [
       "  0%|          | 0/2001 [00:00<?, ?it/s]"
      ]
     },
     "metadata": {},
     "output_type": "display_data"
    },
    {
     "name": "stdout",
     "output_type": "stream",
     "text": [
      "\tGetting POS tags...\n"
     ]
    },
    {
     "data": {
      "application/vnd.jupyter.widget-view+json": {
       "model_id": "7ab1d7e47f3a4a8dbe7fa0fb40d54901",
       "version_major": 2,
       "version_minor": 0
      },
      "text/plain": [
       "  0%|          | 0/2001 [00:00<?, ?it/s]"
      ]
     },
     "metadata": {},
     "output_type": "display_data"
    },
    {
     "name": "stdout",
     "output_type": "stream",
     "text": [
      "\tGetting Sentence ids...\n"
     ]
    },
    {
     "data": {
      "application/vnd.jupyter.widget-view+json": {
       "model_id": "6a8ccff7c54842ce8ac009aa53725a4e",
       "version_major": 2,
       "version_minor": 0
      },
      "text/plain": [
       "  0%|          | 0/2001 [00:00<?, ?it/s]"
      ]
     },
     "metadata": {},
     "output_type": "display_data"
    },
    {
     "name": "stdout",
     "output_type": "stream",
     "text": [
      "Loading test dataset...\n",
      "\tReading data...\n",
      "\tParsing data...\n",
      "\tGetting words...\n"
     ]
    },
    {
     "data": {
      "application/vnd.jupyter.widget-view+json": {
       "model_id": "3b9c286b2b664bc7a7c04f6edc5612e4",
       "version_major": 2,
       "version_minor": 0
      },
      "text/plain": [
       "  0%|          | 0/2077 [00:00<?, ?it/s]"
      ]
     },
     "metadata": {},
     "output_type": "display_data"
    },
    {
     "name": "stdout",
     "output_type": "stream",
     "text": [
      "\tGetting POS tags...\n"
     ]
    },
    {
     "data": {
      "application/vnd.jupyter.widget-view+json": {
       "model_id": "3cf065280bd84916afcaf900c75f49ba",
       "version_major": 2,
       "version_minor": 0
      },
      "text/plain": [
       "  0%|          | 0/2077 [00:00<?, ?it/s]"
      ]
     },
     "metadata": {},
     "output_type": "display_data"
    },
    {
     "name": "stdout",
     "output_type": "stream",
     "text": [
      "\tGetting Sentence ids...\n"
     ]
    },
    {
     "data": {
      "application/vnd.jupyter.widget-view+json": {
       "model_id": "39ed8234032449a0947bc094b6c4d17d",
       "version_major": 2,
       "version_minor": 0
      },
      "text/plain": [
       "  0%|          | 0/2077 [00:00<?, ?it/s]"
      ]
     },
     "metadata": {},
     "output_type": "display_data"
    },
    {
     "name": "stdout",
     "output_type": "stream",
     "text": [
      "Training data shape: (207227, 3)\n",
      "Validation data shape: (25511, 3)\n",
      "Test data shape: (25450, 3)\n"
     ]
    }
   ],
   "source": [
    "print(\"Loading training dataset...\")\n",
    "train_df = preprocessing.conllu_to_pd(os.path.join(INPUT_DIR, \"en_ewt-ud-train.conllu\"))\n",
    "print(\"Loading validation dataset...\")\n",
    "val_df = preprocessing.conllu_to_pd(os.path.join(INPUT_DIR, \"en_ewt-ud-dev.conllu\"))\n",
    "print(\"Loading test dataset...\")\n",
    "test_df = preprocessing.conllu_to_pd(os.path.join(INPUT_DIR, \"en_ewt-ud-test.conllu\"))\n",
    "\n",
    "print(f\"Training data shape: {train_df.shape}\\nValidation data shape: {val_df.shape}\\nTest data shape: {test_df.shape}\")"
   ]
  },
  {
   "cell_type": "markdown",
   "id": "4e36b2e7-5341-4ebf-a6ed-cbcac5767e56",
   "metadata": {},
   "source": [
    "Below we can see a preview of our parsed training dataset. Our preprocessing exploits pandas's ordering scheme in order to make sure the words are inserted in the order they appear in the sentence. This ordering will prove important later."
   ]
  },
  {
   "cell_type": "code",
   "execution_count": 4,
   "id": "ad075a2f-3c50-45a7-adee-6efe3feed247",
   "metadata": {},
   "outputs": [
    {
     "data": {
      "text/html": [
       "<div>\n",
       "<style scoped>\n",
       "    .dataframe tbody tr th:only-of-type {\n",
       "        vertical-align: middle;\n",
       "    }\n",
       "\n",
       "    .dataframe tbody tr th {\n",
       "        vertical-align: top;\n",
       "    }\n",
       "\n",
       "    .dataframe thead th {\n",
       "        text-align: right;\n",
       "    }\n",
       "</style>\n",
       "<table border=\"1\" class=\"dataframe\">\n",
       "  <thead>\n",
       "    <tr style=\"text-align: right;\">\n",
       "      <th></th>\n",
       "      <th>words</th>\n",
       "      <th>pos</th>\n",
       "      <th>sent_id</th>\n",
       "    </tr>\n",
       "  </thead>\n",
       "  <tbody>\n",
       "    <tr>\n",
       "      <th>0</th>\n",
       "      <td>al</td>\n",
       "      <td>PROPN</td>\n",
       "      <td>weblog-juancole.com_juancole_20051126063000_EN...</td>\n",
       "    </tr>\n",
       "    <tr>\n",
       "      <th>1</th>\n",
       "      <td>-</td>\n",
       "      <td>PUNCT</td>\n",
       "      <td>weblog-juancole.com_juancole_20051126063000_EN...</td>\n",
       "    </tr>\n",
       "    <tr>\n",
       "      <th>2</th>\n",
       "      <td>zaman</td>\n",
       "      <td>PROPN</td>\n",
       "      <td>weblog-juancole.com_juancole_20051126063000_EN...</td>\n",
       "    </tr>\n",
       "    <tr>\n",
       "      <th>3</th>\n",
       "      <td>:</td>\n",
       "      <td>PUNCT</td>\n",
       "      <td>weblog-juancole.com_juancole_20051126063000_EN...</td>\n",
       "    </tr>\n",
       "    <tr>\n",
       "      <th>4</th>\n",
       "      <td>american</td>\n",
       "      <td>ADJ</td>\n",
       "      <td>weblog-juancole.com_juancole_20051126063000_EN...</td>\n",
       "    </tr>\n",
       "    <tr>\n",
       "      <th>...</th>\n",
       "      <td>...</td>\n",
       "      <td>...</td>\n",
       "      <td>...</td>\n",
       "    </tr>\n",
       "    <tr>\n",
       "      <th>207222</th>\n",
       "      <td>on</td>\n",
       "      <td>ADP</td>\n",
       "      <td>reviews-319816-0029</td>\n",
       "    </tr>\n",
       "    <tr>\n",
       "      <th>207223</th>\n",
       "      <td>my</td>\n",
       "      <td>PRON</td>\n",
       "      <td>reviews-319816-0029</td>\n",
       "    </tr>\n",
       "    <tr>\n",
       "      <th>207224</th>\n",
       "      <td>car</td>\n",
       "      <td>NOUN</td>\n",
       "      <td>reviews-319816-0029</td>\n",
       "    </tr>\n",
       "    <tr>\n",
       "      <th>207225</th>\n",
       "      <td>)</td>\n",
       "      <td>PUNCT</td>\n",
       "      <td>reviews-319816-0029</td>\n",
       "    </tr>\n",
       "    <tr>\n",
       "      <th>207226</th>\n",
       "      <td>.</td>\n",
       "      <td>PUNCT</td>\n",
       "      <td>reviews-319816-0029</td>\n",
       "    </tr>\n",
       "  </tbody>\n",
       "</table>\n",
       "<p>207227 rows × 3 columns</p>\n",
       "</div>"
      ],
      "text/plain": [
       "           words    pos                                            sent_id\n",
       "0             al  PROPN  weblog-juancole.com_juancole_20051126063000_EN...\n",
       "1              -  PUNCT  weblog-juancole.com_juancole_20051126063000_EN...\n",
       "2          zaman  PROPN  weblog-juancole.com_juancole_20051126063000_EN...\n",
       "3              :  PUNCT  weblog-juancole.com_juancole_20051126063000_EN...\n",
       "4       american    ADJ  weblog-juancole.com_juancole_20051126063000_EN...\n",
       "...          ...    ...                                                ...\n",
       "207222        on    ADP                                reviews-319816-0029\n",
       "207223        my   PRON                                reviews-319816-0029\n",
       "207224       car   NOUN                                reviews-319816-0029\n",
       "207225         )  PUNCT                                reviews-319816-0029\n",
       "207226         .  PUNCT                                reviews-319816-0029\n",
       "\n",
       "[207227 rows x 3 columns]"
      ]
     },
     "execution_count": 4,
     "metadata": {},
     "output_type": "execute_result"
    }
   ],
   "source": [
    "train_df"
   ]
  },
  {
   "cell_type": "markdown",
   "id": "d4ac4c5c-915c-4082-a432-ba5ea0ae627e",
   "metadata": {},
   "source": [
    "As mentioned above, our dataset features words connected with punctuation such as \"don't\". These are normally treated as two words, with the first being their intuitive POS tag (\"do\" - AUX) and the second as part of the first (\"n't\" - PART).\n",
    "\n",
    "This dataset contains both the full words and their split versions, with only the latter featuring valid POS tags. The former are instead marked by a pseudo-tag (here \"_\")."
   ]
  },
  {
   "cell_type": "code",
   "execution_count": 5,
   "id": "18e351d9-8dd9-4af6-943a-307b91631643",
   "metadata": {},
   "outputs": [
    {
     "data": {
      "text/html": [
       "<div>\n",
       "<style scoped>\n",
       "    .dataframe tbody tr th:only-of-type {\n",
       "        vertical-align: middle;\n",
       "    }\n",
       "\n",
       "    .dataframe tbody tr th {\n",
       "        vertical-align: top;\n",
       "    }\n",
       "\n",
       "    .dataframe thead th {\n",
       "        text-align: right;\n",
       "    }\n",
       "</style>\n",
       "<table border=\"1\" class=\"dataframe\">\n",
       "  <thead>\n",
       "    <tr style=\"text-align: right;\">\n",
       "      <th></th>\n",
       "      <th>words</th>\n",
       "      <th>pos</th>\n",
       "      <th>sent_id</th>\n",
       "    </tr>\n",
       "  </thead>\n",
       "  <tbody>\n",
       "    <tr>\n",
       "      <th>176</th>\n",
       "      <td>don't</td>\n",
       "      <td>_</td>\n",
       "      <td>weblog-juancole.com_juancole_20051126063000_EN...</td>\n",
       "    </tr>\n",
       "    <tr>\n",
       "      <th>704</th>\n",
       "      <td>won't</td>\n",
       "      <td>_</td>\n",
       "      <td>weblog-juancole.com_juancole_20051126063000_EN...</td>\n",
       "    </tr>\n",
       "    <tr>\n",
       "      <th>868</th>\n",
       "      <td>don't</td>\n",
       "      <td>_</td>\n",
       "      <td>weblog-blogspot.com_healingiraq_20040409053012...</td>\n",
       "    </tr>\n",
       "    <tr>\n",
       "      <th>1058</th>\n",
       "      <td>don't</td>\n",
       "      <td>_</td>\n",
       "      <td>weblog-blogspot.com_healingiraq_20040409053012...</td>\n",
       "    </tr>\n",
       "    <tr>\n",
       "      <th>1078</th>\n",
       "      <td>doesn't</td>\n",
       "      <td>_</td>\n",
       "      <td>weblog-blogspot.com_healingiraq_20040409053012...</td>\n",
       "    </tr>\n",
       "    <tr>\n",
       "      <th>...</th>\n",
       "      <td>...</td>\n",
       "      <td>...</td>\n",
       "      <td>...</td>\n",
       "    </tr>\n",
       "    <tr>\n",
       "      <th>207078</th>\n",
       "      <td>couldn't</td>\n",
       "      <td>_</td>\n",
       "      <td>reviews-319816-0025</td>\n",
       "    </tr>\n",
       "    <tr>\n",
       "      <th>207091</th>\n",
       "      <td>don't</td>\n",
       "      <td>_</td>\n",
       "      <td>reviews-319816-0025</td>\n",
       "    </tr>\n",
       "    <tr>\n",
       "      <th>207096</th>\n",
       "      <td>employees'</td>\n",
       "      <td>_</td>\n",
       "      <td>reviews-319816-0025</td>\n",
       "    </tr>\n",
       "    <tr>\n",
       "      <th>207164</th>\n",
       "      <td>i'm</td>\n",
       "      <td>_</td>\n",
       "      <td>reviews-319816-0027</td>\n",
       "    </tr>\n",
       "    <tr>\n",
       "      <th>207186</th>\n",
       "      <td>didn't</td>\n",
       "      <td>_</td>\n",
       "      <td>reviews-319816-0028</td>\n",
       "    </tr>\n",
       "  </tbody>\n",
       "</table>\n",
       "<p>2613 rows × 3 columns</p>\n",
       "</div>"
      ],
      "text/plain": [
       "             words pos                                            sent_id\n",
       "176          don't   _  weblog-juancole.com_juancole_20051126063000_EN...\n",
       "704          won't   _  weblog-juancole.com_juancole_20051126063000_EN...\n",
       "868          don't   _  weblog-blogspot.com_healingiraq_20040409053012...\n",
       "1058         don't   _  weblog-blogspot.com_healingiraq_20040409053012...\n",
       "1078       doesn't   _  weblog-blogspot.com_healingiraq_20040409053012...\n",
       "...            ...  ..                                                ...\n",
       "207078    couldn't   _                                reviews-319816-0025\n",
       "207091       don't   _                                reviews-319816-0025\n",
       "207096  employees'   _                                reviews-319816-0025\n",
       "207164         i'm   _                                reviews-319816-0027\n",
       "207186      didn't   _                                reviews-319816-0028\n",
       "\n",
       "[2613 rows x 3 columns]"
      ]
     },
     "execution_count": 5,
     "metadata": {},
     "output_type": "execute_result"
    }
   ],
   "source": [
    "invalid_idx = train_df.pos == \"_\"\n",
    "train_df[invalid_idx]"
   ]
  },
  {
   "cell_type": "code",
   "execution_count": 6,
   "id": "c0bd0b11-5b0e-4736-a9ad-023ed9a10845",
   "metadata": {},
   "outputs": [
    {
     "data": {
      "text/plain": [
       "\"don't won't doesn't haven't didn't others it's elena's women's children's i'm people's musharraf's sharon's hamas's right's cannot isn't one's let's reporter's he's that's pakistan's world's bush's military's sharif's can't couldn't\""
      ]
     },
     "execution_count": 6,
     "metadata": {},
     "output_type": "execute_result"
    }
   ],
   "source": [
    "\" \".join(train_df[invalid_idx].words.unique()[:30])"
   ]
  },
  {
   "cell_type": "markdown",
   "id": "f9a35ac2-8f7d-4d64-86a5-59acac7d01f2",
   "metadata": {},
   "source": [
    "Below we can see an example of a word being contained both times in the dataset, one in full with the pseudo-tag, and the other as split words with valid POS tags."
   ]
  },
  {
   "cell_type": "code",
   "execution_count": 7,
   "id": "26694c05-d5b6-433c-9e3e-a52901626d04",
   "metadata": {},
   "outputs": [
    {
     "data": {
      "text/html": [
       "<div>\n",
       "<style scoped>\n",
       "    .dataframe tbody tr th:only-of-type {\n",
       "        vertical-align: middle;\n",
       "    }\n",
       "\n",
       "    .dataframe tbody tr th {\n",
       "        vertical-align: top;\n",
       "    }\n",
       "\n",
       "    .dataframe thead th {\n",
       "        text-align: right;\n",
       "    }\n",
       "</style>\n",
       "<table border=\"1\" class=\"dataframe\">\n",
       "  <thead>\n",
       "    <tr style=\"text-align: right;\">\n",
       "      <th></th>\n",
       "      <th>words</th>\n",
       "      <th>pos</th>\n",
       "      <th>sent_id</th>\n",
       "    </tr>\n",
       "  </thead>\n",
       "  <tbody>\n",
       "    <tr>\n",
       "      <th>176</th>\n",
       "      <td>don't</td>\n",
       "      <td>_</td>\n",
       "      <td>weblog-juancole.com_juancole_20051126063000_EN...</td>\n",
       "    </tr>\n",
       "    <tr>\n",
       "      <th>177</th>\n",
       "      <td>do</td>\n",
       "      <td>AUX</td>\n",
       "      <td>weblog-juancole.com_juancole_20051126063000_EN...</td>\n",
       "    </tr>\n",
       "    <tr>\n",
       "      <th>178</th>\n",
       "      <td>n't</td>\n",
       "      <td>PART</td>\n",
       "      <td>weblog-juancole.com_juancole_20051126063000_EN...</td>\n",
       "    </tr>\n",
       "  </tbody>\n",
       "</table>\n",
       "</div>"
      ],
      "text/plain": [
       "     words   pos                                            sent_id\n",
       "176  don't     _  weblog-juancole.com_juancole_20051126063000_EN...\n",
       "177     do   AUX  weblog-juancole.com_juancole_20051126063000_EN...\n",
       "178    n't  PART  weblog-juancole.com_juancole_20051126063000_EN..."
      ]
     },
     "execution_count": 7,
     "metadata": {},
     "output_type": "execute_result"
    }
   ],
   "source": [
    "train_df.iloc[176:179]"
   ]
  },
  {
   "cell_type": "markdown",
   "id": "1af06a9a-3b24-44b4-8c1f-6b6c0b5d2de1",
   "metadata": {},
   "source": [
    "We thus remove the full words including the pseudo-tag from our datasets, ensuring that all target POS tags will be compliant with the UPOS scheme."
   ]
  },
  {
   "cell_type": "code",
   "execution_count": 8,
   "id": "9057815f-3182-4beb-95e4-9a3e76f12ecc",
   "metadata": {},
   "outputs": [],
   "source": [
    "train_df = train_df[~invalid_idx]\n",
    "val_df = val_df[val_df.pos != \"_\"]\n",
    "test_df = test_df[test_df.pos != \"_\"]"
   ]
  },
  {
   "cell_type": "markdown",
   "id": "9b0153fe-12dc-4c2d-b9f8-4d8155b64890",
   "metadata": {},
   "source": [
    "### Qualitative Analysis\n",
    "\n",
    "We analyze our dataset in two granualities: sentences and individual words. We begin by analyzing how many words are in each sentence, which will give us an idea on the size of context available for each word."
   ]
  },
  {
   "cell_type": "code",
   "execution_count": 9,
   "id": "7421b5b6-34b8-4ba7-b47d-788829e4b832",
   "metadata": {},
   "outputs": [],
   "source": [
    "def length_sentences(df: pd.DataFrame) -> float:\n",
    "    lengths = df.groupby([\"sent_id\"]).agg(lambda x: len(x))\n",
    "    return lengths.words\n",
    "\n",
    "\n",
    "train_length = length_sentences(train_df)\n",
    "val_length = length_sentences(val_df)\n",
    "test_length = length_sentences(test_df)"
   ]
  },
  {
   "cell_type": "code",
   "execution_count": 10,
   "id": "60f71d41-e868-4efb-b65e-51d5e2d4fa6d",
   "metadata": {},
   "outputs": [
    {
     "name": "stdout",
     "output_type": "stream",
     "text": [
      "Figured saved to output/ex_10_dataset_stats.png\n"
     ]
    },
    {
     "data": {
      "image/png": "[encoded data removed]",
      "text/plain": [
       "<Figure size 640x480 with 1 Axes>"
      ]
     },
     "metadata": {},
     "output_type": "display_data"
    }
   ],
   "source": [
    "import seaborn as sns\n",
    "import matplotlib.pyplot as plt\n",
    "\n",
    "\n",
    "stats_df = pd.DataFrame({\"words\": pd.concat([train_length, val_length, test_length], ignore_index=True),\n",
    "                        \"type\": len(train_length)*[\"train\"] +\n",
    "                         len(val_length)*[\"validation\"] + \n",
    "                         len(test_length)*[\"test\"]})\n",
    "\n",
    "sns.histplot(x=\"words\", \n",
    "             hue=\"type\", \n",
    "             data=stats_df, \n",
    "             multiple=\"stack\")\n",
    "\n",
    "plt.title(\"Number of sentences by word count\")\n",
    "common.save_plot(\"ex_10_dataset_stats.png\", OUTPUT_DIR)\n",
    "plt.show()"
   ]
  },
  {
   "cell_type": "markdown",
   "id": "2052acb3-5d04-4cd9-858c-bb5e6cfbedd5",
   "metadata": {},
   "source": [
    "We can also get some summary statistics about our individual data splits:"
   ]
  },
  {
   "cell_type": "code",
   "execution_count": 11,
   "id": "8974259c-988d-42f9-8c20-e6f3d8630dc6",
   "metadata": {},
   "outputs": [
    {
     "data": {
      "text/plain": [
       "count    12544.000000\n",
       "mean        16.311703\n",
       "std         12.404826\n",
       "min          1.000000\n",
       "25%          7.000000\n",
       "50%         14.000000\n",
       "75%         23.000000\n",
       "max        159.000000\n",
       "Name: words, dtype: float64"
      ]
     },
     "execution_count": 11,
     "metadata": {},
     "output_type": "execute_result"
    }
   ],
   "source": [
    "train_length.describe()"
   ]
  },
  {
   "cell_type": "code",
   "execution_count": 12,
   "id": "6d60dbc6-c0ac-4383-9771-6048bef7511f",
   "metadata": {},
   "outputs": [
    {
     "data": {
      "text/plain": [
       "count    2001.000000\n",
       "mean       12.569715\n",
       "std        10.419274\n",
       "min         1.000000\n",
       "25%         5.000000\n",
       "50%        10.000000\n",
       "75%        17.000000\n",
       "max        75.000000\n",
       "Name: words, dtype: float64"
      ]
     },
     "execution_count": 12,
     "metadata": {},
     "output_type": "execute_result"
    }
   ],
   "source": [
    "val_length.describe()"
   ]
  },
  {
   "cell_type": "code",
   "execution_count": 13,
   "id": "b3d0f8a3-0316-4605-80df-521bdd901846",
   "metadata": {},
   "outputs": [
    {
     "data": {
      "text/plain": [
       "count    2077.000000\n",
       "mean       12.082812\n",
       "std        10.607005\n",
       "min         1.000000\n",
       "25%         4.000000\n",
       "50%         9.000000\n",
       "75%        17.000000\n",
       "max        81.000000\n",
       "Name: words, dtype: float64"
      ]
     },
     "execution_count": 13,
     "metadata": {},
     "output_type": "execute_result"
    }
   ],
   "source": [
    "test_length.describe()"
   ]
  },
  {
   "cell_type": "markdown",
   "id": "1dfc63ac-c5c1-42cf-bb18-e66c4f4bf1c0",
   "metadata": {},
   "source": [
    "The total word count is also important since our model will fundementally operate on individual words and their immediate context:"
   ]
  },
  {
   "cell_type": "code",
   "execution_count": 14,
   "id": "ba1bb9a0-9d1f-4420-ac43-210a240cc8db",
   "metadata": {},
   "outputs": [
    {
     "name": "stdout",
     "output_type": "stream",
     "text": [
      "Vocabulary size: 16654\n"
     ]
    }
   ],
   "source": [
    "print(f\"Vocabulary size: {len(set(train_df.words))}\")"
   ]
  },
  {
   "cell_type": "code",
   "execution_count": 15,
   "id": "caa60374-bb18-438c-ac61-b5023a2f5288",
   "metadata": {},
   "outputs": [
    {
     "name": "stdout",
     "output_type": "stream",
     "text": [
      "Total word count:\n",
      "Training: 204614\n",
      "Validation: 25152\n",
      "Testing: 25096\n"
     ]
    }
   ],
   "source": [
    "print(f\"Total word count:\\nTraining: {train_df.shape[0]}\"\n",
    "      f\"\\nValidation: {val_df.shape[0]}\"\n",
    "      f\"\\nTesting: {test_df.shape[0]}\")"
   ]
  },
  {
   "cell_type": "code",
   "execution_count": 16,
   "id": "3d135f20-a410-4c1f-92d8-f6dbd71fd4d1",
   "metadata": {},
   "outputs": [
    {
     "name": "stdout",
     "output_type": "stream",
     "text": [
      "Total sentence count:\n",
      "Training: 12544\n",
      "Validation: 2001\n",
      "Testing: 2077\n"
     ]
    }
   ],
   "source": [
    "print(f\"Total sentence count:\\nTraining: {len(set(train_df.sent_id))}\"\n",
    "      f\"\\nValidation: {len(set(val_df.sent_id))}\"\n",
    "      f\"\\nTesting: {len(set(test_df.sent_id))}\")"
   ]
  },
  {
   "cell_type": "markdown",
   "id": "5509919e-aa79-45cd-85b9-43338c3a90f4",
   "metadata": {},
   "source": [
    "### Qualitative preprocessing\n",
    "\n",
    "From the figure above we can infer that there is a substantial amount of very small paragraphs. Since we do not desire to train our model on words with little to no immediate context, we can remove sentences with shorter than a critical length."
   ]
  },
  {
   "cell_type": "code",
   "execution_count": 17,
   "id": "7e882519-8919-4673-a326-8a3a3ab1d5ad",
   "metadata": {},
   "outputs": [],
   "source": [
    "def exclude_small_sentences(conllu_df: pd.DataFrame, min_len: int) -> pd.DataFrame:\n",
    "    assert 1 <= min_len\n",
    "\n",
    "    length_df = length_sentences(conllu_df)\n",
    "    valid_length_df = length_df[length_df >= min_len]\n",
    "    valid_ids = set(valid_length_df.index)\n",
    "    return conllu_df[conllu_df.sent_id.isin(valid_ids)]"
   ]
  },
  {
   "cell_type": "code",
   "execution_count": 18,
   "id": "17dffcf6-29a4-480f-b298-c463e1f70632",
   "metadata": {},
   "outputs": [
    {
     "data": {
      "text/html": [
       "<div>\n",
       "<style scoped>\n",
       "    .dataframe tbody tr th:only-of-type {\n",
       "        vertical-align: middle;\n",
       "    }\n",
       "\n",
       "    .dataframe tbody tr th {\n",
       "        vertical-align: top;\n",
       "    }\n",
       "\n",
       "    .dataframe thead th {\n",
       "        text-align: right;\n",
       "    }\n",
       "</style>\n",
       "<table border=\"1\" class=\"dataframe\">\n",
       "  <thead>\n",
       "    <tr style=\"text-align: right;\">\n",
       "      <th></th>\n",
       "      <th>words</th>\n",
       "      <th>pos</th>\n",
       "      <th>sent_id</th>\n",
       "    </tr>\n",
       "  </thead>\n",
       "  <tbody>\n",
       "    <tr>\n",
       "      <th>0</th>\n",
       "      <td>al</td>\n",
       "      <td>PROPN</td>\n",
       "      <td>weblog-juancole.com_juancole_20051126063000_EN...</td>\n",
       "    </tr>\n",
       "    <tr>\n",
       "      <th>1</th>\n",
       "      <td>-</td>\n",
       "      <td>PUNCT</td>\n",
       "      <td>weblog-juancole.com_juancole_20051126063000_EN...</td>\n",
       "    </tr>\n",
       "    <tr>\n",
       "      <th>2</th>\n",
       "      <td>zaman</td>\n",
       "      <td>PROPN</td>\n",
       "      <td>weblog-juancole.com_juancole_20051126063000_EN...</td>\n",
       "    </tr>\n",
       "    <tr>\n",
       "      <th>3</th>\n",
       "      <td>:</td>\n",
       "      <td>PUNCT</td>\n",
       "      <td>weblog-juancole.com_juancole_20051126063000_EN...</td>\n",
       "    </tr>\n",
       "    <tr>\n",
       "      <th>4</th>\n",
       "      <td>american</td>\n",
       "      <td>ADJ</td>\n",
       "      <td>weblog-juancole.com_juancole_20051126063000_EN...</td>\n",
       "    </tr>\n",
       "    <tr>\n",
       "      <th>...</th>\n",
       "      <td>...</td>\n",
       "      <td>...</td>\n",
       "      <td>...</td>\n",
       "    </tr>\n",
       "    <tr>\n",
       "      <th>207222</th>\n",
       "      <td>on</td>\n",
       "      <td>ADP</td>\n",
       "      <td>reviews-319816-0029</td>\n",
       "    </tr>\n",
       "    <tr>\n",
       "      <th>207223</th>\n",
       "      <td>my</td>\n",
       "      <td>PRON</td>\n",
       "      <td>reviews-319816-0029</td>\n",
       "    </tr>\n",
       "    <tr>\n",
       "      <th>207224</th>\n",
       "      <td>car</td>\n",
       "      <td>NOUN</td>\n",
       "      <td>reviews-319816-0029</td>\n",
       "    </tr>\n",
       "    <tr>\n",
       "      <th>207225</th>\n",
       "      <td>)</td>\n",
       "      <td>PUNCT</td>\n",
       "      <td>reviews-319816-0029</td>\n",
       "    </tr>\n",
       "    <tr>\n",
       "      <th>207226</th>\n",
       "      <td>.</td>\n",
       "      <td>PUNCT</td>\n",
       "      <td>reviews-319816-0029</td>\n",
       "    </tr>\n",
       "  </tbody>\n",
       "</table>\n",
       "<p>199895 rows × 3 columns</p>\n",
       "</div>"
      ],
      "text/plain": [
       "           words    pos                                            sent_id\n",
       "0             al  PROPN  weblog-juancole.com_juancole_20051126063000_EN...\n",
       "1              -  PUNCT  weblog-juancole.com_juancole_20051126063000_EN...\n",
       "2          zaman  PROPN  weblog-juancole.com_juancole_20051126063000_EN...\n",
       "3              :  PUNCT  weblog-juancole.com_juancole_20051126063000_EN...\n",
       "4       american    ADJ  weblog-juancole.com_juancole_20051126063000_EN...\n",
       "...          ...    ...                                                ...\n",
       "207222        on    ADP                                reviews-319816-0029\n",
       "207223        my   PRON                                reviews-319816-0029\n",
       "207224       car   NOUN                                reviews-319816-0029\n",
       "207225         )  PUNCT                                reviews-319816-0029\n",
       "207226         .  PUNCT                                reviews-319816-0029\n",
       "\n",
       "[199895 rows x 3 columns]"
      ]
     },
     "execution_count": 18,
     "metadata": {},
     "output_type": "execute_result"
    }
   ],
   "source": [
    "MIN_SENTENCE_LENGTH = 5\n",
    "\n",
    "train_df_filt = exclude_small_sentences(train_df, MIN_SENTENCE_LENGTH)\n",
    "val_df_filt = exclude_small_sentences(val_df, MIN_SENTENCE_LENGTH)\n",
    "test_df_filt = exclude_small_sentences(test_df, MIN_SENTENCE_LENGTH)\n",
    "\n",
    "train_df_filt"
   ]
  },
  {
   "cell_type": "markdown",
   "id": "f42b9523-bab7-4696-b747-f42fad9d9378",
   "metadata": {},
   "source": [
    "### Transforming the data\n",
    "\n",
    "For the final pre-processing step we need to acquire window embeddings for the words in our dataset. "
   ]
  },
  {
   "cell_type": "markdown",
   "id": "4f3e9988-1ac4-4f3d-8f07-23903909b044",
   "metadata": {},
   "source": [
    "### The embedding model\n",
    "\n",
    "We use a Word2Vec variant implemented in the `spacy` library called `en_core_web_md`. The model is suitable for our needs because of the similarities in domain (pre-trained on blogs, news and comments which fits our dataset). It's also the largest offered by spacy, with a total size of 1GB."
   ]
  },
  {
   "cell_type": "markdown",
   "id": "7a450722-dc65-4695-811e-6f75fd637640",
   "metadata": {},
   "source": [
    "Because of the model's size and the abundance of data in our dataset, we cache our computations into local `numpy` files, as the calculations can take up to an hour to complete."
   ]
  },
  {
   "cell_type": "code",
   "execution_count": 19,
   "id": "26f1c469-ac02-4474-a1f3-7430e87654b0",
   "metadata": {},
   "outputs": [],
   "source": [
    "from sklearn.preprocessing import LabelBinarizer\n",
    "import pickle\n",
    "\n",
    "\n",
    "def save_global_state(x_train: np.ndarray, x_valid: np.ndarray, x_test: np.ndarray,\n",
    "                      y_train: np.ndarray, y_valid: np.ndarray, y_test: np.ndarray,\n",
    "                      binarizer: LabelBinarizer) -> None:\n",
    "    np.save(os.path.join(INTERMEDIATE_DIR, \"x_train.npy\"), x_train)\n",
    "    np.save(os.path.join(INTERMEDIATE_DIR, \"x_valid.npy\"), x_valid)\n",
    "    np.save(os.path.join(INTERMEDIATE_DIR, \"x_test.npy\"), x_test)\n",
    "\n",
    "    np.save(os.path.join(INTERMEDIATE_DIR, \"y_train.npy\"), y_train)\n",
    "    np.save(os.path.join(INTERMEDIATE_DIR, \"y_valid.npy\"), y_valid)\n",
    "    np.save(os.path.join(INTERMEDIATE_DIR, \"y_test.npy\"), y_test)\n",
    "\n",
    "    with open(os.path.join(INTERMEDIATE_DIR, 'binarizer.pickle'), 'wb') as handle:\n",
    "        pickle.dump(binarizer, handle)\n",
    "\n",
    "    \n",
    "\n",
    "\n",
    "def load_global_state():\n",
    "    x_train = np.load(os.path.join(INTERMEDIATE_DIR, \"x_train.npy\"))\n",
    "    x_valid = np.load(os.path.join(INTERMEDIATE_DIR, \"x_valid.npy\"))\n",
    "    x_test = np.load(os.path.join(INTERMEDIATE_DIR, \"x_test.npy\"))\n",
    "\n",
    "    y_train = np.load(os.path.join(INTERMEDIATE_DIR, \"y_train.npy\"))\n",
    "    y_valid = np.load(os.path.join(INTERMEDIATE_DIR, \"y_valid.npy\"))\n",
    "    y_test = np.load(os.path.join(INTERMEDIATE_DIR, \"y_test.npy\"))\n",
    "\n",
    "    with open(os.path.join(INTERMEDIATE_DIR, 'binarizer.pickle'), 'rb') as handle:\n",
    "        binarizer = pickle.load(handle)\n",
    "    \n",
    "    return x_train, x_valid, x_test, y_train, y_valid, y_test, binarizer"
   ]
  },
  {
   "cell_type": "markdown",
   "id": "47b6981f-7fd9-4b8e-aff3-2219e091b140",
   "metadata": {},
   "source": [
    "### Window Embedding creation\n",
    "\n",
    "The custom code used for this task can be found in the `tasks.preprocessing` module. In short we perform the following operations:\n",
    "\n",
    "* For each word in a sentence, acquire a window of size $k$ (here 5). Include right and left padding for the $floor(k/2)$ first and last words of the sentence.\n",
    "* For each window acquire the target (POS tag) of the median word.\n",
    "* For each window up to a limit, acquire the window embedding by concantenating the word vectors of each word.\n",
    "\n",
    "We choose a padding embedding of all-zeros. Although the mathematical significance of this strategy is minimal (because of the bias term in the first dense layer always potentially yielding non-zero results to the activation function), it ensures the padding embedding is distinct from actual word embeddings. In any case, our classifier should learn to discard pad tokens by itself.\n",
    "\n",
    "The design of our input procedure ensures that no padding output token will at any circumstance occur, thus we need not create a pseudo-output token for it.\n",
    "\n",
    "Our final data is composed of 100,000 window embeddings, distributed in a 65-25-10%  train-validation-test split. We reserve a relatively large validation set because of the extensive hyper-parameter search which we perform later."
   ]
  },
  {
   "cell_type": "code",
   "execution_count": 20,
   "id": "da1285c3-5889-4e0d-9c72-35b0acabf91a",
   "metadata": {},
   "outputs": [
    {
     "name": "stdout",
     "output_type": "stream",
     "text": [
      "File ‘input/fasttext/cc.en.300.bin.gz’ already there; not retrieving.\n",
      "\n",
      "Skipping model file\n"
     ]
    }
   ],
   "source": [
    "!wget -nc -P input/fasttext https://dl.fbaipublicfiles.com/fasttext/vectors-crawl/cc.en.300.bin.gz\n",
    "\n",
    "![ -f \"input/fasttext/cc.en.300.bin.gz\" ] && echo \"Skipping model file\" || gzip --decompress --keep --force \"input/fasttext/cc.en.300.bin.gz\"   "
   ]
  },
  {
   "cell_type": "code",
   "execution_count": 21,
   "id": "7bd6edaa-2d4e-4897-b027-23a6dfee1621",
   "metadata": {},
   "outputs": [],
   "source": [
    "PAD_TOKEN = \"<PAD>\"\n",
    "\n",
    "\n",
    "def embed_func(word: str) -> np.ndarray:\n",
    "    if word == PAD_TOKEN:\n",
    "        return np.zeros(300)\n",
    "    else:\n",
    "        return fasttext_model.get_word_vector(word=word)"
   ]
  },
  {
   "cell_type": "code",
   "execution_count": 22,
   "id": "6c96b50d-985e-41c0-94ec-e1db29c31711",
   "metadata": {},
   "outputs": [],
   "source": [
    "WINDOW_SIZE = 5\n",
    "TRAINING_LIM = 150000\n",
    "VALID_LIM = 25000\n",
    "TEST_LIM = 10000\n",
    "SEED = 42"
   ]
  },
  {
   "cell_type": "code",
   "execution_count": 23,
   "id": "9c40a97a-eda4-4514-b062-2e4eb9b8c27c",
   "metadata": {},
   "outputs": [
    {
     "name": "stdout",
     "output_type": "stream",
     "text": [
      "Attempting to load intermediate calculations...\n",
      "Loaded cached calculations.\n"
     ]
    },
    {
     "data": {
      "text/plain": [
       "((150000, 1500),\n",
       " (24005, 1500),\n",
       " (10000, 1500),\n",
       " (150000, 17),\n",
       " (24005, 17),\n",
       " (10000, 17))"
      ]
     },
     "execution_count": 23,
     "metadata": {},
     "output_type": "execute_result"
    }
   ],
   "source": [
    "import fasttext\n",
    "from sklearn.preprocessing import LabelBinarizer\n",
    "\n",
    "\n",
    "try:\n",
    "    print(\"Attempting to load intermediate calculations...\")\n",
    "    x_train, x_valid, x_test, y_train, y_valid, y_test, lb = load_global_state()\n",
    "    print(\"Loaded cached calculations.\")\n",
    "except (FileNotFoundError, EOFError):\n",
    "    print(\"No intermediate files present, calculating from scratch.\")\n",
    "\n",
    "    fasttext_model = fasttext.load_model('input/fasttext/cc.en.300.bin')\n",
    "    lb = LabelBinarizer()\n",
    "\n",
    "    print(\"Processing training dataset...\")\n",
    "    x_train, y_train = preprocessing.preprocess(\n",
    "                            train_df_filt.sample(frac=1., random_state=SEED), \n",
    "                            WINDOW_SIZE, \n",
    "                            TRAINING_LIM,\n",
    "                            embed_func,\n",
    "                            lb,\n",
    "                            PAD_TOKEN,\n",
    "                            train_binarizer=True)\n",
    "    \n",
    "    print(\"Processing validation dataset...\")\n",
    "    x_valid, y_valid = preprocessing.preprocess(\n",
    "                            val_df_filt.sample(frac=1., random_state=SEED), \n",
    "                            WINDOW_SIZE,\n",
    "                            VALID_LIM,\n",
    "                            embed_func,\n",
    "                            lb,\n",
    "                            PAD_TOKEN)\n",
    "    \n",
    "    print(\"Processing test dataset...\")\n",
    "    x_test, y_test = preprocessing.preprocess(\n",
    "                            test_df_filt.sample(frac=1., random_state=SEED),\n",
    "                            WINDOW_SIZE,\n",
    "                            TEST_LIM,\n",
    "                            embed_func,\n",
    "                            lb,\n",
    "                            PAD_TOKEN)\n",
    "\n",
    "    print(\"Saving processed datasets...\")\n",
    "    save_global_state(x_train, x_valid, x_test, y_train, y_valid, y_test, lb)\n",
    "    # reclaim memory\n",
    "    del fasttext_model\n",
    "    \n",
    "    \n",
    "\n",
    "x_train.shape, x_valid.shape, x_test.shape, y_train.shape, y_valid.shape, y_test.shape,"
   ]
  },
  {
   "cell_type": "markdown",
   "id": "6db383d6-3ad1-43d3-a5d7-fa3e1d9a55aa",
   "metadata": {},
   "source": [
    "## Baseline Classifier\n",
    "\n",
    "We create our own classifier which classifies each token by the majority label associated with it. The classifier is defined as a subclass of sklearn's classifier superclass and thus can seamlessly use it in most sklearn-provided functions such as `classification_report()`."
   ]
  },
  {
   "cell_type": "code",
   "execution_count": 24,
   "id": "4f9a7ac1-84e4-455a-8afd-ddefcea93847",
   "metadata": {},
   "outputs": [],
   "source": [
    "base_train = train_df_filt.sample(frac=1., random_state=SEED)[:TRAINING_LIM]\n",
    "base_valid = val_df_filt.sample(frac=1., random_state=SEED)[:VALID_LIM]\n",
    "base_test = test_df_filt.sample(frac=1., random_state=SEED)[:TEST_LIM]\n",
    "\n",
    "x_base_train = base_train.words\n",
    "x_base_valid = base_valid.words\n",
    "x_base_test = base_test.words\n",
    "\n",
    "y_base_train = base_train.pos\n",
    "y_base_valid = base_valid.pos\n",
    "y_base_test = base_test.pos"
   ]
  },
  {
   "cell_type": "code",
   "execution_count": 25,
   "id": "93a5ba03-8b51-4658-9c3f-1b182650cc24",
   "metadata": {},
   "outputs": [
    {
     "data": {
      "text/html": [
       "<style>#sk-container-id-1 {color: black;}#sk-container-id-1 pre{padding: 0;}#sk-container-id-1 div.sk-toggleable {background-color: white;}#sk-container-id-1 label.sk-toggleable__label {cursor: pointer;display: block;width: 100%;margin-bottom: 0;padding: 0.3em;box-sizing: border-box;text-align: center;}#sk-container-id-1 label.sk-toggleable__label-arrow:before {content: \"▸\";float: left;margin-right: 0.25em;color: #696969;}#sk-container-id-1 label.sk-toggleable__label-arrow:hover:before {color: black;}#sk-container-id-1 div.sk-estimator:hover label.sk-toggleable__label-arrow:before {color: black;}#sk-container-id-1 div.sk-toggleable__content {max-height: 0;max-width: 0;overflow: hidden;text-align: left;background-color: #f0f8ff;}#sk-container-id-1 div.sk-toggleable__content pre {margin: 0.2em;color: black;border-radius: 0.25em;background-color: #f0f8ff;}#sk-container-id-1 input.sk-toggleable__control:checked~div.sk-toggleable__content {max-height: 200px;max-width: 100%;overflow: auto;}#sk-container-id-1 input.sk-toggleable__control:checked~label.sk-toggleable__label-arrow:before {content: \"▾\";}#sk-container-id-1 div.sk-estimator input.sk-toggleable__control:checked~label.sk-toggleable__label {background-color: #d4ebff;}#sk-container-id-1 div.sk-label input.sk-toggleable__control:checked~label.sk-toggleable__label {background-color: #d4ebff;}#sk-container-id-1 input.sk-hidden--visually {border: 0;clip: rect(1px 1px 1px 1px);clip: rect(1px, 1px, 1px, 1px);height: 1px;margin: -1px;overflow: hidden;padding: 0;position: absolute;width: 1px;}#sk-container-id-1 div.sk-estimator {font-family: monospace;background-color: #f0f8ff;border: 1px dotted black;border-radius: 0.25em;box-sizing: border-box;margin-bottom: 0.5em;}#sk-container-id-1 div.sk-estimator:hover {background-color: #d4ebff;}#sk-container-id-1 div.sk-parallel-item::after {content: \"\";width: 100%;border-bottom: 1px solid gray;flex-grow: 1;}#sk-container-id-1 div.sk-label:hover label.sk-toggleable__label {background-color: #d4ebff;}#sk-container-id-1 div.sk-serial::before {content: \"\";position: absolute;border-left: 1px solid gray;box-sizing: border-box;top: 0;bottom: 0;left: 50%;z-index: 0;}#sk-container-id-1 div.sk-serial {display: flex;flex-direction: column;align-items: center;background-color: white;padding-right: 0.2em;padding-left: 0.2em;position: relative;}#sk-container-id-1 div.sk-item {position: relative;z-index: 1;}#sk-container-id-1 div.sk-parallel {display: flex;align-items: stretch;justify-content: center;background-color: white;position: relative;}#sk-container-id-1 div.sk-item::before, #sk-container-id-1 div.sk-parallel-item::before {content: \"\";position: absolute;border-left: 1px solid gray;box-sizing: border-box;top: 0;bottom: 0;left: 50%;z-index: -1;}#sk-container-id-1 div.sk-parallel-item {display: flex;flex-direction: column;z-index: 1;position: relative;background-color: white;}#sk-container-id-1 div.sk-parallel-item:first-child::after {align-self: flex-end;width: 50%;}#sk-container-id-1 div.sk-parallel-item:last-child::after {align-self: flex-start;width: 50%;}#sk-container-id-1 div.sk-parallel-item:only-child::after {width: 0;}#sk-container-id-1 div.sk-dashed-wrapped {border: 1px dashed gray;margin: 0 0.4em 0.5em 0.4em;box-sizing: border-box;padding-bottom: 0.4em;background-color: white;}#sk-container-id-1 div.sk-label label {font-family: monospace;font-weight: bold;display: inline-block;line-height: 1.2em;}#sk-container-id-1 div.sk-label-container {text-align: center;}#sk-container-id-1 div.sk-container {/* jupyter's `normalize.less` sets `[hidden] { display: none; }` but bootstrap.min.css set `[hidden] { display: none !important; }` so we also need the `!important` here to be able to override the default hidden behavior on the sphinx rendered scikit-learn.org. See: https://github.com/scikit-learn/scikit-learn/issues/21755 */display: inline-block !important;position: relative;}#sk-container-id-1 div.sk-text-repr-fallback {display: none;}</style><div id=\"sk-container-id-1\" class=\"sk-top-container\"><div class=\"sk-text-repr-fallback\"><pre>BaselineLabelClassifier()</pre><b>In a Jupyter environment, please rerun this cell to show the HTML representation or trust the notebook. <br />On GitHub, the HTML representation is unable to render, please try loading this page with nbviewer.org.</b></div><div class=\"sk-container\" hidden><div class=\"sk-item\"><div class=\"sk-estimator sk-toggleable\"><input class=\"sk-toggleable__control sk-hidden--visually\" id=\"sk-estimator-id-1\" type=\"checkbox\" checked><label for=\"sk-estimator-id-1\" class=\"sk-toggleable__label sk-toggleable__label-arrow\">BaselineLabelClassifier</label><div class=\"sk-toggleable__content\"><pre>BaselineLabelClassifier()</pre></div></div></div></div></div>"
      ],
      "text/plain": [
       "BaselineLabelClassifier()"
      ]
     },
     "execution_count": 25,
     "metadata": {},
     "output_type": "execute_result"
    }
   ],
   "source": [
    "from tasks.models import BaselineLabelClassifier\n",
    "\n",
    "\n",
    "base_cls = BaselineLabelClassifier()\n",
    "base_cls.fit(X=x_base_train, y=y_base_train)"
   ]
  },
  {
   "cell_type": "markdown",
   "id": "9e57ba7c-69a7-4590-89aa-712fd3940a4c",
   "metadata": {},
   "source": [
    "We acquire training and test statistics which will serve as a baseline for our NLP model, quantifying how much of an improvement we reach over the simplest \"intelligent\" classification scheme possible for our task."
   ]
  },
  {
   "cell_type": "code",
   "execution_count": 26,
   "id": "aa5b34c9-6418-4f17-9d75-2503e8fbc9ce",
   "metadata": {},
   "outputs": [
    {
     "name": "stdout",
     "output_type": "stream",
     "text": [
      "              precision    recall  f1-score   support\n",
      "\n",
      "         ADJ       0.90      0.88      0.89      9619\n",
      "         ADP       0.91      0.82      0.86     13317\n",
      "         ADV       0.85      0.78      0.81      7492\n",
      "         AUX       0.85      0.93      0.89      9593\n",
      "       CCONJ       0.98      0.99      0.99      4988\n",
      "         DET       0.98      0.92      0.95     12305\n",
      "        INTJ       0.84      0.77      0.80       436\n",
      "        NOUN       0.89      0.90      0.90     25553\n",
      "         NUM       0.96      0.97      0.96      2831\n",
      "        PART       0.71      0.90      0.79      4273\n",
      "        PRON       0.88      0.98      0.93     13842\n",
      "       PROPN       0.87      0.87      0.87      8428\n",
      "       PUNCT       0.99      0.99      0.99     16936\n",
      "       SCONJ       0.63      0.48      0.54      2885\n",
      "         SYM       0.88      0.84      0.86       493\n",
      "        VERB       0.86      0.85      0.86     16691\n",
      "           X       0.60      0.63      0.61       318\n",
      "\n",
      "    accuracy                           0.90    150000\n",
      "   macro avg       0.86      0.85      0.85    150000\n",
      "weighted avg       0.90      0.90      0.89    150000\n",
      "\n"
     ]
    }
   ],
   "source": [
    "from sklearn.metrics import classification_report\n",
    "\n",
    "\n",
    "training_preds = base_cls.predict(x_base_train)\n",
    "print(classification_report(y_base_train, training_preds))"
   ]
  },
  {
   "cell_type": "code",
   "execution_count": 27,
   "id": "cad2c47b-4360-4fd0-9d31-cdc0c5f993b8",
   "metadata": {},
   "outputs": [
    {
     "name": "stdout",
     "output_type": "stream",
     "text": [
      "              precision    recall  f1-score   support\n",
      "\n",
      "         ADJ       0.91      0.78      0.84       736\n",
      "         ADP       0.91      0.82      0.86       881\n",
      "         ADV       0.84      0.80      0.82       469\n",
      "         AUX       0.86      0.92      0.89       658\n",
      "       CCONJ       0.98      1.00      0.99       308\n",
      "         DET       0.99      0.93      0.96       758\n",
      "        INTJ       0.92      0.73      0.81        33\n",
      "        NOUN       0.66      0.89      0.75      1600\n",
      "         NUM       0.89      0.65      0.75       209\n",
      "        PART       0.69      0.92      0.79       248\n",
      "        PRON       0.90      0.98      0.94       909\n",
      "       PROPN       0.83      0.49      0.61       711\n",
      "       PUNCT       0.99      0.98      0.99      1160\n",
      "       SCONJ       0.66      0.50      0.57       169\n",
      "         SYM       0.80      0.87      0.83        46\n",
      "        VERB       0.82      0.75      0.79      1072\n",
      "           X       0.14      0.03      0.05        33\n",
      "\n",
      "    accuracy                           0.84     10000\n",
      "   macro avg       0.81      0.77      0.78     10000\n",
      "weighted avg       0.85      0.84      0.84     10000\n",
      "\n"
     ]
    }
   ],
   "source": [
    "test_preds = base_cls.predict(x_base_test)\n",
    "print(classification_report(y_base_test, test_preds))"
   ]
  },
  {
   "cell_type": "markdown",
   "id": "953c4a07-0698-4688-a905-4715768c4f9a",
   "metadata": {},
   "source": [
    "Note how even a comparatively \"dumb\" majority classifier which simply memorizes the occurences of tag by word performs decently well with a 83% test F1-score. This makes intuitive sense, since many words such as \"the\" or \"a\" have a well-defined role in the English language which is invariant to context."
   ]
  },
  {
   "cell_type": "markdown",
   "id": "a23bf8f5-fc82-4f09-8185-f101794c2725",
   "metadata": {},
   "source": [
    "## MLP Classifier\n",
    "\n",
    "We now design a MLP classifier which takes as input the (possibly padded) window embedding of a word, and returns its POS tag as output."
   ]
  },
  {
   "cell_type": "code",
   "execution_count": 28,
   "id": "27a18ab4-a5ff-4bb8-b65f-efb23ab32e48",
   "metadata": {},
   "outputs": [],
   "source": [
    "import time\n",
    "import os"
   ]
  },
  {
   "cell_type": "code",
   "execution_count": 29,
   "id": "0196173f-6276-4c4b-8c7b-a5b4a907d55f",
   "metadata": {},
   "outputs": [],
   "source": [
    "import tensorflow as tf\n",
    "from tensorflow.keras.callbacks import ModelCheckpoint\n",
    "from tensorflow.keras.models import Sequential\n",
    "from tensorflow.keras.layers import Dense, Dropout\n",
    "from tensorflow.keras.optimizers import Adam\n",
    "from tensorflow.keras.metrics import CategoricalAccuracy"
   ]
  },
  {
   "cell_type": "code",
   "execution_count": 30,
   "id": "fffa0dc7-25c3-450a-90a9-39e11bdc6051",
   "metadata": {},
   "outputs": [
    {
     "name": "stdout",
     "output_type": "stream",
     "text": [
      "Executing with  /physical_device:GPU:0\n"
     ]
    }
   ],
   "source": [
    "gpus = tf.config.list_physical_devices('GPU')\n",
    "print(\"Executing with \", gpus[0].name if len(gpus) != 0 else \"CPU\")"
   ]
  },
  {
   "cell_type": "markdown",
   "id": "4b37aa2a-0811-4545-99dd-1e55bbd0fc8e",
   "metadata": {},
   "source": [
    "### Hyper-parameter tuning\n",
    "\n",
    "We will be using the `keras_tuner` library to automatically perform random search over various hyper-parameters of our model.\n",
    "\n",
    "The parameter search consists of:\n",
    "* The depth of the model (the number of layers)\n",
    "* The height of the model (the number of parameters by layer)\n",
    "* The learning rate\n",
    "\n",
    "The parameter search does NOT consist of:\n",
    "* Dropout rate, since dropout rarely changes the final result of a neural network, but rather tunes the tradeoff between training time and overfit avoidance\n",
    "* Activation functions, since they rarely significantly influence the model's performance\n",
    "\n",
    "With this scheme we hope to maximize the area and granuality of our search to the hyper-parameters that are most likely to significantly influence the final results.\n",
    "\n",
    "We implement early stopping and set a maximum iteration limit of $70$. We assume that if a model needs to go over that limit, it may be computationally inefficient, and thus less desirable compared to a slightly worse, but much more efficient model."
   ]
  },
  {
   "cell_type": "code",
   "execution_count": 31,
   "id": "14e6f294-4cac-48c1-9062-6ccf8f4c6163",
   "metadata": {},
   "outputs": [],
   "source": [
    "# code adapted from Foivos Charalampakos\n",
    "def search_mlp_model(hp, input_size: int, output_size: int, min_hid_size: int, max_hid_size: int):\n",
    "    model = Sequential()\n",
    "\n",
    "    layer_index = 0\n",
    "    for i in range(hp.Int(name='num_layers', min_value=1, max_value=4)):\n",
    "        if layer_index == 0:\n",
    "            # first layer\n",
    "            model.add(Dense(hp.Int(name='hidden_units_'+str(i),\n",
    "                                   min_value=min_hid_size,\n",
    "                                   max_value=max_hid_size,\n",
    "                                   step=64),\n",
    "                            activation=\"relu\",\n",
    "                            input_dim=input_size\n",
    "                           ))\n",
    "            model.add(Dropout(0.5))\n",
    "        else:\n",
    "            # subsequent layer\n",
    "            model.add(Dense(hp.Int(name='hidden_units_'+str(i),\n",
    "                                   min_value=min_hid_size,\n",
    "                                   max_value=max_hid_size,\n",
    "                                   step=64),\n",
    "                            activation=\"relu\"))\n",
    "            model.add(Dropout(0.5))\n",
    "\n",
    "        layer_index += 1\n",
    "\n",
    "    # Add last layer that produces the logits\n",
    "    model.add(Dense(output_size,  activation='softmax'))\n",
    "\n",
    "    # Tune the learning rate for the optimizer\n",
    "    # Choose an optimal value from 0.01, 0.001, or 0.0001\n",
    "    hp_learning_rate = hp.Choice('learning_rate', values=[1e-2, 1e-3, 1e-4])\n",
    "    model.compile(loss='categorical_crossentropy',\n",
    "                  optimizer=Adam(learning_rate=hp_learning_rate),\n",
    "                  metrics=[CategoricalAccuracy()])\n",
    "\n",
    "    return model"
   ]
  },
  {
   "cell_type": "markdown",
   "id": "5ac2d6f8-d7ed-4a38-be2c-6c07d2abff57",
   "metadata": {},
   "source": [
    "We use a relatively very large batch size to improve training times since this operation is very computationally heavy. We don't yet aim to create the best classifier, so slightly suboptimal weights are not a problem for the purposes of the hyperparameter search.\n",
    "\n",
    "Just like before, we cache our results in a dedicated directory, so we have to perform the search only once."
   ]
  },
  {
   "cell_type": "code",
   "execution_count": 32,
   "id": "84affae9-5449-41fc-9d63-766d2043b060",
   "metadata": {},
   "outputs": [
    {
     "name": "stdout",
     "output_type": "stream",
     "text": [
      "Reloading Tuner from KT_dir/KT_pos/tuner0.json\n",
      "Search space summary\n",
      "Default search space size: 6\n",
      "num_layers (Int)\n",
      "{'default': None, 'conditions': [], 'min_value': 1, 'max_value': 4, 'step': 1, 'sampling': 'linear'}\n",
      "hidden_units_0 (Int)\n",
      "{'default': None, 'conditions': [], 'min_value': 128, 'max_value': 2048, 'step': 64, 'sampling': 'linear'}\n",
      "learning_rate (Choice)\n",
      "{'default': 0.01, 'conditions': [], 'values': [0.01, 0.001, 0.0001], 'ordered': True}\n",
      "hidden_units_1 (Int)\n",
      "{'default': None, 'conditions': [], 'min_value': 128, 'max_value': 2048, 'step': 64, 'sampling': 'linear'}\n",
      "hidden_units_2 (Int)\n",
      "{'default': None, 'conditions': [], 'min_value': 128, 'max_value': 2048, 'step': 64, 'sampling': 'linear'}\n",
      "hidden_units_3 (Int)\n",
      "{'default': None, 'conditions': [], 'min_value': 128, 'max_value': 2048, 'step': 64, 'sampling': 'linear'}\n"
     ]
    }
   ],
   "source": [
    "import keras_tuner as kt\n",
    "from tensorflow.keras.callbacks import EarlyStopping\n",
    "\n",
    "\n",
    "tuner = kt.RandomSearch(lambda x: search_mlp_model(x,\n",
    "                                                    input_size=x_train.shape[1],\n",
    "                                                    output_size=y_train.shape[1],\n",
    "                                                    min_hid_size=128,\n",
    "                                                    max_hid_size=2048),\n",
    "                        objective=kt.Objective('val_categorical_accuracy',\n",
    "                                               direction='max'),\n",
    "                        max_trials=25,\n",
    "                        directory='KT_dir',\n",
    "                        project_name='KT_pos')\n",
    "\n",
    "# do not save weights to save time, just pick the best model\n",
    "early_stopping = EarlyStopping(monitor='val_loss', patience=10)\n",
    "tuner.search_space_summary()"
   ]
  },
  {
   "cell_type": "code",
   "execution_count": 33,
   "id": "fe9143f6-9f2f-4c27-8f05-b30bc42a06c7",
   "metadata": {},
   "outputs": [],
   "source": [
    "tuner.search(x_train,\n",
    "             y_train,\n",
    "             validation_data=(x_valid, y_valid), \n",
    "             epochs=50, \n",
    "             batch_size=128, # large batch size to fit more calculations\n",
    "             callbacks=[early_stopping])"
   ]
  },
  {
   "cell_type": "code",
   "execution_count": 34,
   "id": "075157ae-ab3d-497c-9d65-736f1d8cc839",
   "metadata": {
    "colab": {
     "base_uri": "https://localhost:8080/"
    },
    "id": "P_vBP4QDA6n4",
    "outputId": "da8cb75c-60d1-4c29-e640-7ce32ed0b7de"
   },
   "outputs": [
    {
     "name": "stdout",
     "output_type": "stream",
     "text": [
      "Model: \"sequential\"\n",
      "_________________________________________________________________\n",
      " Layer (type)                Output Shape              Param #   \n",
      "=================================================================\n",
      " dense (Dense)               (None, 192)               288192    \n",
      "                                                                 \n",
      " dropout (Dropout)           (None, 192)               0         \n",
      "                                                                 \n",
      " dense_1 (Dense)             (None, 320)               61760     \n",
      "                                                                 \n",
      " dropout_1 (Dropout)         (None, 320)               0         \n",
      "                                                                 \n",
      " dense_2 (Dense)             (None, 17)                5457      \n",
      "                                                                 \n",
      "=================================================================\n",
      "Total params: 355409 (1.36 MB)\n",
      "Trainable params: 355409 (1.36 MB)\n",
      "Non-trainable params: 0 (0.00 Byte)\n",
      "_________________________________________________________________\n"
     ]
    }
   ],
   "source": [
    "best_model = tuner.get_best_models(num_models=1)[0]\n",
    "best_model.summary()"
   ]
  },
  {
   "cell_type": "code",
   "execution_count": 35,
   "id": "3272e600-c94c-4289-805d-5f98889cf709",
   "metadata": {},
   "outputs": [
    {
     "data": {
      "text/plain": [
       "{'num_layers': 2,\n",
       " 'hidden_units_0': 192,\n",
       " 'learning_rate': 0.0001,\n",
       " 'hidden_units_1': 320,\n",
       " 'hidden_units_2': 192,\n",
       " 'hidden_units_3': 960}"
      ]
     },
     "execution_count": 35,
     "metadata": {},
     "output_type": "execute_result"
    }
   ],
   "source": [
    "optimal_parameters = tuner.get_best_hyperparameters()[0].values\n",
    "optimal_parameters"
   ]
  },
  {
   "cell_type": "markdown",
   "id": "b0fbff8b-1c3e-4de2-8437-3bced17747fb",
   "metadata": {},
   "source": [
    "### Model training\n",
    "\n",
    "We now re-train our model with a much smaller batch size and keep track of the training history and best weights by validation loss. \n",
    "\n",
    "Unfortunately, the different batch size means we can not rely on the hyper parameter search to get an estimation of training epoches. Thus, we rely on early-stopping on the validation data to ensure our model does not overfit as a result of training time. \n",
    "\n",
    "We use the categorical accuracy stopping criterion instead of loss. This may lead to [situations where validation loss increases, but so does accuracy](https://stats.stackexchange.com/questions/282160/how-is-it-possible-that-validation-loss-is-increasing-while-validation-accuracy). This represents a trade-off between our model being more confidently incorrect about already-misclassified instances, but better at edge cases where the classification is more ambiguous. We previously discussed how the strength of a context-aware classifier lies in these kinds of distinctions, which justifies our choice of favoring correct edge-case classifications in the expense of more confidently incorrect misclassifications."
   ]
  },
  {
   "cell_type": "code",
   "execution_count": 36,
   "id": "f535db68-b621-45ed-b116-e2a475aba73f",
   "metadata": {},
   "outputs": [
    {
     "name": "stdout",
     "output_type": "stream",
     "text": [
      "WARNING:tensorflow:Detecting that an object or model or tf.train.Checkpoint is being deleted with unrestored values. See the following logs for the specific values in question. To silence these warnings, use `status.expect_partial()`. See https://www.tensorflow.org/api_docs/python/tf/train/Checkpoint#restorefor details about the status object returned by the restore function.\n",
      "WARNING:tensorflow:Value in checkpoint could not be found in the restored object: (root).optimizer._variables.1\n",
      "WARNING:tensorflow:Value in checkpoint could not be found in the restored object: (root).optimizer._variables.2\n",
      "WARNING:tensorflow:Value in checkpoint could not be found in the restored object: (root).optimizer._variables.3\n",
      "WARNING:tensorflow:Value in checkpoint could not be found in the restored object: (root).optimizer._variables.4\n",
      "WARNING:tensorflow:Value in checkpoint could not be found in the restored object: (root).optimizer._variables.5\n",
      "WARNING:tensorflow:Value in checkpoint could not be found in the restored object: (root).optimizer._variables.6\n",
      "WARNING:tensorflow:Value in checkpoint could not be found in the restored object: (root).optimizer._variables.7\n",
      "WARNING:tensorflow:Value in checkpoint could not be found in the restored object: (root).optimizer._variables.8\n",
      "WARNING:tensorflow:Value in checkpoint could not be found in the restored object: (root).optimizer._variables.9\n",
      "WARNING:tensorflow:Value in checkpoint could not be found in the restored object: (root).optimizer._variables.10\n",
      "WARNING:tensorflow:Value in checkpoint could not be found in the restored object: (root).optimizer._variables.11\n",
      "WARNING:tensorflow:Value in checkpoint could not be found in the restored object: (root).optimizer._variables.12\n"
     ]
    }
   ],
   "source": [
    "best_model = tf.keras.models.clone_model(best_model)\n",
    "\n",
    "best_model.compile(loss='categorical_crossentropy',\n",
    "                  optimizer=Adam(learning_rate=optimal_parameters[\"learning_rate\"]),\n",
    "                  metrics=[CategoricalAccuracy()])"
   ]
  },
  {
   "cell_type": "code",
   "execution_count": 37,
   "id": "ee7f2f67-1ffb-4059-9ca0-d27b5db719ec",
   "metadata": {},
   "outputs": [
    {
     "name": "stdout",
     "output_type": "stream",
     "text": [
      "Epoch 1/50\n"
     ]
    },
    {
     "name": "stderr",
     "output_type": "stream",
     "text": [
      "WARNING: All log messages before absl::InitializeLog() is called are written to STDERR\n",
      "I0000 00:00:1707814603.951340    5990 device_compiler.h:186] Compiled cluster using XLA!  This line is logged at most once for the lifetime of the process.\n"
     ]
    },
    {
     "name": "stdout",
     "output_type": "stream",
     "text": [
      "9375/9375 [==============================] - 35s 3ms/step - loss: 1.0694 - categorical_accuracy: 0.6726 - val_loss: 0.5539 - val_categorical_accuracy: 0.8310\n",
      "Epoch 2/50\n",
      "9375/9375 [==============================] - 32s 3ms/step - loss: 0.5451 - categorical_accuracy: 0.8311 - val_loss: 0.4368 - val_categorical_accuracy: 0.8650\n",
      "Epoch 3/50\n",
      "9375/9375 [==============================] - 33s 3ms/step - loss: 0.4525 - categorical_accuracy: 0.8570 - val_loss: 0.3996 - val_categorical_accuracy: 0.8749\n",
      "Epoch 4/50\n",
      "9375/9375 [==============================] - 31s 3ms/step - loss: 0.4095 - categorical_accuracy: 0.8699 - val_loss: 0.3821 - val_categorical_accuracy: 0.8794\n",
      "Epoch 5/50\n",
      "9375/9375 [==============================] - 31s 3ms/step - loss: 0.3779 - categorical_accuracy: 0.8781 - val_loss: 0.3706 - val_categorical_accuracy: 0.8835\n",
      "Epoch 6/50\n",
      "9375/9375 [==============================] - 31s 3ms/step - loss: 0.3592 - categorical_accuracy: 0.8828 - val_loss: 0.3628 - val_categorical_accuracy: 0.8840\n",
      "Epoch 7/50\n",
      "9375/9375 [==============================] - 31s 3ms/step - loss: 0.3442 - categorical_accuracy: 0.8867 - val_loss: 0.3573 - val_categorical_accuracy: 0.8851\n",
      "Epoch 8/50\n",
      "9375/9375 [==============================] - 31s 3ms/step - loss: 0.3316 - categorical_accuracy: 0.8909 - val_loss: 0.3545 - val_categorical_accuracy: 0.8857\n",
      "Epoch 9/50\n",
      "9375/9375 [==============================] - 31s 3ms/step - loss: 0.3195 - categorical_accuracy: 0.8937 - val_loss: 0.3534 - val_categorical_accuracy: 0.8844\n",
      "Epoch 10/50\n",
      "9375/9375 [==============================] - 31s 3ms/step - loss: 0.3109 - categorical_accuracy: 0.8952 - val_loss: 0.3525 - val_categorical_accuracy: 0.8869\n",
      "Epoch 11/50\n",
      "9375/9375 [==============================] - 31s 3ms/step - loss: 0.3032 - categorical_accuracy: 0.8978 - val_loss: 0.3541 - val_categorical_accuracy: 0.8861\n",
      "Epoch 12/50\n",
      "9375/9375 [==============================] - 31s 3ms/step - loss: 0.2957 - categorical_accuracy: 0.8991 - val_loss: 0.3524 - val_categorical_accuracy: 0.8874\n",
      "Epoch 13/50\n",
      "9375/9375 [==============================] - 31s 3ms/step - loss: 0.2894 - categorical_accuracy: 0.9021 - val_loss: 0.3532 - val_categorical_accuracy: 0.8879\n",
      "Epoch 14/50\n",
      "9375/9375 [==============================] - 31s 3ms/step - loss: 0.2829 - categorical_accuracy: 0.9038 - val_loss: 0.3517 - val_categorical_accuracy: 0.8877\n",
      "Epoch 15/50\n",
      "9375/9375 [==============================] - 32s 3ms/step - loss: 0.2782 - categorical_accuracy: 0.9050 - val_loss: 0.3539 - val_categorical_accuracy: 0.8875\n",
      "Epoch 16/50\n",
      "9375/9375 [==============================] - 33s 4ms/step - loss: 0.2731 - categorical_accuracy: 0.9056 - val_loss: 0.3548 - val_categorical_accuracy: 0.8889\n",
      "Epoch 17/50\n",
      "9375/9375 [==============================] - 32s 3ms/step - loss: 0.2680 - categorical_accuracy: 0.9074 - val_loss: 0.3549 - val_categorical_accuracy: 0.8876\n",
      "Epoch 18/50\n",
      "9375/9375 [==============================] - 33s 3ms/step - loss: 0.2634 - categorical_accuracy: 0.9095 - val_loss: 0.3548 - val_categorical_accuracy: 0.8897\n",
      "Epoch 19/50\n",
      "9375/9375 [==============================] - 33s 4ms/step - loss: 0.2587 - categorical_accuracy: 0.9105 - val_loss: 0.3606 - val_categorical_accuracy: 0.8890\n",
      "Epoch 20/50\n",
      "9375/9375 [==============================] - 32s 3ms/step - loss: 0.2541 - categorical_accuracy: 0.9117 - val_loss: 0.3626 - val_categorical_accuracy: 0.8893\n",
      "Epoch 21/50\n",
      "9375/9375 [==============================] - 32s 3ms/step - loss: 0.2522 - categorical_accuracy: 0.9126 - val_loss: 0.3617 - val_categorical_accuracy: 0.8896\n",
      "Epoch 22/50\n",
      "9375/9375 [==============================] - 33s 4ms/step - loss: 0.2485 - categorical_accuracy: 0.9129 - val_loss: 0.3649 - val_categorical_accuracy: 0.8891\n",
      "Epoch 23/50\n",
      "9375/9375 [==============================] - 32s 3ms/step - loss: 0.2430 - categorical_accuracy: 0.9145 - val_loss: 0.3670 - val_categorical_accuracy: 0.8902\n",
      "Epoch 24/50\n",
      "9375/9375 [==============================] - 32s 3ms/step - loss: 0.2396 - categorical_accuracy: 0.9156 - val_loss: 0.3716 - val_categorical_accuracy: 0.8894\n",
      "Epoch 25/50\n",
      "9375/9375 [==============================] - 32s 3ms/step - loss: 0.2373 - categorical_accuracy: 0.9160 - val_loss: 0.3765 - val_categorical_accuracy: 0.8886\n",
      "Epoch 26/50\n",
      "9375/9375 [==============================] - 31s 3ms/step - loss: 0.2327 - categorical_accuracy: 0.9182 - val_loss: 0.3755 - val_categorical_accuracy: 0.8894\n",
      "Epoch 27/50\n",
      "9375/9375 [==============================] - 32s 3ms/step - loss: 0.2329 - categorical_accuracy: 0.9180 - val_loss: 0.3776 - val_categorical_accuracy: 0.8881\n",
      "Epoch 28/50\n",
      "9375/9375 [==============================] - 31s 3ms/step - loss: 0.2280 - categorical_accuracy: 0.9191 - val_loss: 0.3828 - val_categorical_accuracy: 0.8905\n",
      "Epoch 29/50\n",
      "9375/9375 [==============================] - 32s 3ms/step - loss: 0.2270 - categorical_accuracy: 0.9196 - val_loss: 0.3857 - val_categorical_accuracy: 0.8891\n",
      "Epoch 30/50\n",
      "9375/9375 [==============================] - 32s 3ms/step - loss: 0.2219 - categorical_accuracy: 0.9210 - val_loss: 0.3877 - val_categorical_accuracy: 0.8891\n",
      "Epoch 31/50\n",
      "9375/9375 [==============================] - 35s 4ms/step - loss: 0.2215 - categorical_accuracy: 0.9211 - val_loss: 0.3875 - val_categorical_accuracy: 0.8888\n",
      "Epoch 32/50\n",
      "9375/9375 [==============================] - 33s 4ms/step - loss: 0.2187 - categorical_accuracy: 0.9220 - val_loss: 0.3959 - val_categorical_accuracy: 0.8877\n",
      "Epoch 33/50\n",
      "9375/9375 [==============================] - 33s 4ms/step - loss: 0.2134 - categorical_accuracy: 0.9238 - val_loss: 0.3986 - val_categorical_accuracy: 0.8894\n",
      "Epoch 34/50\n",
      "9375/9375 [==============================] - 33s 4ms/step - loss: 0.2128 - categorical_accuracy: 0.9231 - val_loss: 0.3995 - val_categorical_accuracy: 0.8880\n",
      "Epoch 35/50\n",
      "9375/9375 [==============================] - 33s 3ms/step - loss: 0.2115 - categorical_accuracy: 0.9245 - val_loss: 0.3986 - val_categorical_accuracy: 0.8887\n",
      "Epoch 36/50\n",
      "9375/9375 [==============================] - 32s 3ms/step - loss: 0.2091 - categorical_accuracy: 0.9247 - val_loss: 0.4072 - val_categorical_accuracy: 0.8885\n",
      "Epoch 37/50\n",
      "9375/9375 [==============================] - 32s 3ms/step - loss: 0.2062 - categorical_accuracy: 0.9256 - val_loss: 0.4068 - val_categorical_accuracy: 0.8875\n",
      "Epoch 38/50\n",
      "9375/9375 [==============================] - 39s 4ms/step - loss: 0.2053 - categorical_accuracy: 0.9258 - val_loss: 0.4119 - val_categorical_accuracy: 0.8889\n"
     ]
    }
   ],
   "source": [
    "early_stopping_prod = EarlyStopping(monitor='val_categorical_accuracy',\n",
    "                                    patience=10, \n",
    "                                    restore_best_weights=True)\n",
    "\n",
    "history = best_model.fit(\n",
    "    x_train,\n",
    "    y_train,\n",
    "    validation_data=(x_valid, y_valid),\n",
    "    batch_size=16,\n",
    "    epochs=50,\n",
    "    shuffle=True,\n",
    "    callbacks=[early_stopping_prod]\n",
    "    )"
   ]
  },
  {
   "cell_type": "code",
   "execution_count": 38,
   "id": "14a0107c-fc85-4f46-91c0-4a76daed5e9a",
   "metadata": {},
   "outputs": [
    {
     "name": "stdout",
     "output_type": "stream",
     "text": [
      "Figured saved to output/ex_10_fit.png\n"
     ]
    },
    {
     "data": {
      "image/png": "[encoded data removed]",
      "text/plain": [
       "<Figure size 850x450 with 2 Axes>"
      ]
     },
     "metadata": {},
     "output_type": "display_data"
    }
   ],
   "source": [
    "fig, (ax1, ax2) = plt.subplots(1, 2)\n",
    "ax1.plot(history.history['categorical_accuracy'])\n",
    "ax1.plot(history.history['val_categorical_accuracy'])\n",
    "ax1.set_title('Model Accuracy')\n",
    "ax1.set_ylabel('Categorical Accuracy')\n",
    "ax1.set_xlabel('epoch')\n",
    "\n",
    "# summarize history for loss\n",
    "ax2.plot(history.history['loss'])\n",
    "ax2.plot(history.history['val_loss'])\n",
    "ax2.set_title('Model Loss')\n",
    "ax2.set_ylabel('loss')\n",
    "ax2.set_xlabel('epoch')\n",
    "\n",
    "fig.suptitle(\"MLP POS Tagger Training Statistics\")\n",
    "fig.set_size_inches(8.5, 4.5)\n",
    "\n",
    "plt.legend(['train', 'dev'], loc='upper right')\n",
    "plt.tight_layout()\n",
    "\n",
    "common.save_plot(\"ex_10_fit.png\", OUTPUT_DIR)\n",
    "plt.show()"
   ]
  },
  {
   "cell_type": "code",
   "execution_count": 39,
   "id": "ec6117b4-c90b-4696-a8d3-64eb683b4a33",
   "metadata": {},
   "outputs": [],
   "source": [
    "best_model.save(os.path.join(INTERMEDIATE_DIR, \"optimal_model.keras\"))"
   ]
  },
  {
   "cell_type": "markdown",
   "id": "f942772a-5aba-49f7-8cf0-4334fd772e21",
   "metadata": {},
   "source": [
    "## Results"
   ]
  },
  {
   "cell_type": "code",
   "execution_count": 40,
   "id": "d5236369-2081-4022-9b95-66777759c2b4",
   "metadata": {
    "scrolled": true
   },
   "outputs": [
    {
     "name": "stdout",
     "output_type": "stream",
     "text": [
      "4688/4688 [==============================] - 10s 2ms/step\n",
      "751/751 [==============================] - 2s 2ms/step\n",
      "313/313 [==============================] - 1s 3ms/step\n"
     ]
    }
   ],
   "source": [
    "mlp_res_df = common.stats_all_splits(best_model,\n",
    "                             lambda x: lb.inverse_transform(x),\n",
    "                             x_train,\n",
    "                             x_valid,\n",
    "                             x_test, \n",
    "                             y_train, \n",
    "                             y_valid, \n",
    "                             y_test)\n",
    "mlp_res_df[\"model\"] = \"MLP\""
   ]
  },
  {
   "cell_type": "code",
   "execution_count": 41,
   "id": "39363258-c943-4931-9af4-f0cf0e4eac2b",
   "metadata": {
    "scrolled": true
   },
   "outputs": [],
   "source": [
    "base_res_df = common.stats_all_splits(base_cls,\n",
    "                             lambda x: np.array(x),\n",
    "                             x_base_train,\n",
    "                             x_base_valid,\n",
    "                             x_base_test,\n",
    "                             y_base_train,\n",
    "                             y_base_valid,\n",
    "                             y_base_test)\n",
    "base_res_df[\"model\"] = \"Baseline\""
   ]
  },
  {
   "cell_type": "code",
   "execution_count": 42,
   "id": "fbc0248f-fdb7-4640-ac8e-45369e22d356",
   "metadata": {},
   "outputs": [
    {
     "data": {
      "text/html": [
       "<div>\n",
       "<style scoped>\n",
       "    .dataframe tbody tr th:only-of-type {\n",
       "        vertical-align: middle;\n",
       "    }\n",
       "\n",
       "    .dataframe tbody tr th {\n",
       "        vertical-align: top;\n",
       "    }\n",
       "\n",
       "    .dataframe thead th {\n",
       "        text-align: right;\n",
       "    }\n",
       "</style>\n",
       "<table border=\"1\" class=\"dataframe\">\n",
       "  <thead>\n",
       "    <tr style=\"text-align: right;\">\n",
       "      <th></th>\n",
       "      <th>tag</th>\n",
       "      <th>precision</th>\n",
       "      <th>recall</th>\n",
       "      <th>f1</th>\n",
       "    </tr>\n",
       "    <tr>\n",
       "      <th>model</th>\n",
       "      <th></th>\n",
       "      <th></th>\n",
       "      <th></th>\n",
       "      <th></th>\n",
       "    </tr>\n",
       "  </thead>\n",
       "  <tbody>\n",
       "    <tr>\n",
       "      <th>Baseline</th>\n",
       "      <td>ADJ</td>\n",
       "      <td>1.000000</td>\n",
       "      <td>0.880133</td>\n",
       "      <td>0.936246</td>\n",
       "    </tr>\n",
       "    <tr>\n",
       "      <th>Baseline</th>\n",
       "      <td>ADP</td>\n",
       "      <td>1.000000</td>\n",
       "      <td>0.815724</td>\n",
       "      <td>0.898511</td>\n",
       "    </tr>\n",
       "    <tr>\n",
       "      <th>Baseline</th>\n",
       "      <td>ADV</td>\n",
       "      <td>1.000000</td>\n",
       "      <td>0.775761</td>\n",
       "      <td>0.873722</td>\n",
       "    </tr>\n",
       "    <tr>\n",
       "      <th>Baseline</th>\n",
       "      <td>AUX</td>\n",
       "      <td>1.000000</td>\n",
       "      <td>0.929323</td>\n",
       "      <td>0.963367</td>\n",
       "    </tr>\n",
       "    <tr>\n",
       "      <th>Baseline</th>\n",
       "      <td>CCONJ</td>\n",
       "      <td>1.000000</td>\n",
       "      <td>0.994587</td>\n",
       "      <td>0.997286</td>\n",
       "    </tr>\n",
       "    <tr>\n",
       "      <th>Baseline</th>\n",
       "      <td>DET</td>\n",
       "      <td>1.000000</td>\n",
       "      <td>0.923283</td>\n",
       "      <td>0.960112</td>\n",
       "    </tr>\n",
       "    <tr>\n",
       "      <th>Baseline</th>\n",
       "      <td>INTJ</td>\n",
       "      <td>1.000000</td>\n",
       "      <td>0.772936</td>\n",
       "      <td>0.871928</td>\n",
       "    </tr>\n",
       "    <tr>\n",
       "      <th>Baseline</th>\n",
       "      <td>NOUN</td>\n",
       "      <td>1.000000</td>\n",
       "      <td>0.902790</td>\n",
       "      <td>0.948912</td>\n",
       "    </tr>\n",
       "    <tr>\n",
       "      <th>Baseline</th>\n",
       "      <td>NUM</td>\n",
       "      <td>1.000000</td>\n",
       "      <td>0.967856</td>\n",
       "      <td>0.983665</td>\n",
       "    </tr>\n",
       "    <tr>\n",
       "      <th>Baseline</th>\n",
       "      <td>PART</td>\n",
       "      <td>1.000000</td>\n",
       "      <td>0.896326</td>\n",
       "      <td>0.945329</td>\n",
       "    </tr>\n",
       "    <tr>\n",
       "      <th>Baseline</th>\n",
       "      <td>PRON</td>\n",
       "      <td>1.000000</td>\n",
       "      <td>0.982517</td>\n",
       "      <td>0.991181</td>\n",
       "    </tr>\n",
       "    <tr>\n",
       "      <th>Baseline</th>\n",
       "      <td>PROPN</td>\n",
       "      <td>1.000000</td>\n",
       "      <td>0.871025</td>\n",
       "      <td>0.931067</td>\n",
       "    </tr>\n",
       "    <tr>\n",
       "      <th>Baseline</th>\n",
       "      <td>PUNCT</td>\n",
       "      <td>1.000000</td>\n",
       "      <td>0.988309</td>\n",
       "      <td>0.994120</td>\n",
       "    </tr>\n",
       "    <tr>\n",
       "      <th>Baseline</th>\n",
       "      <td>SCONJ</td>\n",
       "      <td>1.000000</td>\n",
       "      <td>0.475563</td>\n",
       "      <td>0.644585</td>\n",
       "    </tr>\n",
       "    <tr>\n",
       "      <th>Baseline</th>\n",
       "      <td>SYM</td>\n",
       "      <td>1.000000</td>\n",
       "      <td>0.841785</td>\n",
       "      <td>0.914097</td>\n",
       "    </tr>\n",
       "    <tr>\n",
       "      <th>Baseline</th>\n",
       "      <td>VERB</td>\n",
       "      <td>1.000000</td>\n",
       "      <td>0.854293</td>\n",
       "      <td>0.921422</td>\n",
       "    </tr>\n",
       "    <tr>\n",
       "      <th>Baseline</th>\n",
       "      <td>X</td>\n",
       "      <td>1.000000</td>\n",
       "      <td>0.628931</td>\n",
       "      <td>0.772201</td>\n",
       "    </tr>\n",
       "    <tr>\n",
       "      <th>Baseline</th>\n",
       "      <td>MACRO</td>\n",
       "      <td>0.858497</td>\n",
       "      <td>0.853008</td>\n",
       "      <td>0.853723</td>\n",
       "    </tr>\n",
       "    <tr>\n",
       "      <th>MLP</th>\n",
       "      <td>ADJ</td>\n",
       "      <td>1.000000</td>\n",
       "      <td>0.950684</td>\n",
       "      <td>0.974719</td>\n",
       "    </tr>\n",
       "    <tr>\n",
       "      <th>MLP</th>\n",
       "      <td>ADP</td>\n",
       "      <td>1.000000</td>\n",
       "      <td>0.895182</td>\n",
       "      <td>0.944693</td>\n",
       "    </tr>\n",
       "    <tr>\n",
       "      <th>MLP</th>\n",
       "      <td>ADV</td>\n",
       "      <td>1.000000</td>\n",
       "      <td>0.881852</td>\n",
       "      <td>0.937217</td>\n",
       "    </tr>\n",
       "    <tr>\n",
       "      <th>MLP</th>\n",
       "      <td>AUX</td>\n",
       "      <td>1.000000</td>\n",
       "      <td>0.979099</td>\n",
       "      <td>0.989439</td>\n",
       "    </tr>\n",
       "    <tr>\n",
       "      <th>MLP</th>\n",
       "      <td>CCONJ</td>\n",
       "      <td>1.000000</td>\n",
       "      <td>0.997362</td>\n",
       "      <td>0.998679</td>\n",
       "    </tr>\n",
       "    <tr>\n",
       "      <th>MLP</th>\n",
       "      <td>DET</td>\n",
       "      <td>1.000000</td>\n",
       "      <td>0.983034</td>\n",
       "      <td>0.991445</td>\n",
       "    </tr>\n",
       "    <tr>\n",
       "      <th>MLP</th>\n",
       "      <td>INTJ</td>\n",
       "      <td>1.000000</td>\n",
       "      <td>0.851852</td>\n",
       "      <td>0.920000</td>\n",
       "    </tr>\n",
       "    <tr>\n",
       "      <th>MLP</th>\n",
       "      <td>NOUN</td>\n",
       "      <td>1.000000</td>\n",
       "      <td>0.957106</td>\n",
       "      <td>0.978083</td>\n",
       "    </tr>\n",
       "    <tr>\n",
       "      <th>MLP</th>\n",
       "      <td>NUM</td>\n",
       "      <td>1.000000</td>\n",
       "      <td>0.991516</td>\n",
       "      <td>0.995740</td>\n",
       "    </tr>\n",
       "    <tr>\n",
       "      <th>MLP</th>\n",
       "      <td>PART</td>\n",
       "      <td>1.000000</td>\n",
       "      <td>0.983808</td>\n",
       "      <td>0.991838</td>\n",
       "    </tr>\n",
       "    <tr>\n",
       "      <th>MLP</th>\n",
       "      <td>PRON</td>\n",
       "      <td>1.000000</td>\n",
       "      <td>0.977333</td>\n",
       "      <td>0.988537</td>\n",
       "    </tr>\n",
       "    <tr>\n",
       "      <th>MLP</th>\n",
       "      <td>PROPN</td>\n",
       "      <td>1.000000</td>\n",
       "      <td>0.881205</td>\n",
       "      <td>0.936851</td>\n",
       "    </tr>\n",
       "    <tr>\n",
       "      <th>MLP</th>\n",
       "      <td>PUNCT</td>\n",
       "      <td>1.000000</td>\n",
       "      <td>0.997162</td>\n",
       "      <td>0.998579</td>\n",
       "    </tr>\n",
       "    <tr>\n",
       "      <th>MLP</th>\n",
       "      <td>SCONJ</td>\n",
       "      <td>1.000000</td>\n",
       "      <td>0.702039</td>\n",
       "      <td>0.824939</td>\n",
       "    </tr>\n",
       "    <tr>\n",
       "      <th>MLP</th>\n",
       "      <td>SYM</td>\n",
       "      <td>1.000000</td>\n",
       "      <td>0.833002</td>\n",
       "      <td>0.908894</td>\n",
       "    </tr>\n",
       "    <tr>\n",
       "      <th>MLP</th>\n",
       "      <td>VERB</td>\n",
       "      <td>1.000000</td>\n",
       "      <td>0.917793</td>\n",
       "      <td>0.957134</td>\n",
       "    </tr>\n",
       "    <tr>\n",
       "      <th>MLP</th>\n",
       "      <td>X</td>\n",
       "      <td>1.000000</td>\n",
       "      <td>0.408451</td>\n",
       "      <td>0.580000</td>\n",
       "    </tr>\n",
       "    <tr>\n",
       "      <th>MLP</th>\n",
       "      <td>MACRO</td>\n",
       "      <td>0.934626</td>\n",
       "      <td>0.893440</td>\n",
       "      <td>0.906067</td>\n",
       "    </tr>\n",
       "  </tbody>\n",
       "</table>\n",
       "</div>"
      ],
      "text/plain": [
       "            tag  precision    recall        f1\n",
       "model                                         \n",
       "Baseline    ADJ   1.000000  0.880133  0.936246\n",
       "Baseline    ADP   1.000000  0.815724  0.898511\n",
       "Baseline    ADV   1.000000  0.775761  0.873722\n",
       "Baseline    AUX   1.000000  0.929323  0.963367\n",
       "Baseline  CCONJ   1.000000  0.994587  0.997286\n",
       "Baseline    DET   1.000000  0.923283  0.960112\n",
       "Baseline   INTJ   1.000000  0.772936  0.871928\n",
       "Baseline   NOUN   1.000000  0.902790  0.948912\n",
       "Baseline    NUM   1.000000  0.967856  0.983665\n",
       "Baseline   PART   1.000000  0.896326  0.945329\n",
       "Baseline   PRON   1.000000  0.982517  0.991181\n",
       "Baseline  PROPN   1.000000  0.871025  0.931067\n",
       "Baseline  PUNCT   1.000000  0.988309  0.994120\n",
       "Baseline  SCONJ   1.000000  0.475563  0.644585\n",
       "Baseline    SYM   1.000000  0.841785  0.914097\n",
       "Baseline   VERB   1.000000  0.854293  0.921422\n",
       "Baseline      X   1.000000  0.628931  0.772201\n",
       "Baseline  MACRO   0.858497  0.853008  0.853723\n",
       "MLP         ADJ   1.000000  0.950684  0.974719\n",
       "MLP         ADP   1.000000  0.895182  0.944693\n",
       "MLP         ADV   1.000000  0.881852  0.937217\n",
       "MLP         AUX   1.000000  0.979099  0.989439\n",
       "MLP       CCONJ   1.000000  0.997362  0.998679\n",
       "MLP         DET   1.000000  0.983034  0.991445\n",
       "MLP        INTJ   1.000000  0.851852  0.920000\n",
       "MLP        NOUN   1.000000  0.957106  0.978083\n",
       "MLP         NUM   1.000000  0.991516  0.995740\n",
       "MLP        PART   1.000000  0.983808  0.991838\n",
       "MLP        PRON   1.000000  0.977333  0.988537\n",
       "MLP       PROPN   1.000000  0.881205  0.936851\n",
       "MLP       PUNCT   1.000000  0.997162  0.998579\n",
       "MLP       SCONJ   1.000000  0.702039  0.824939\n",
       "MLP         SYM   1.000000  0.833002  0.908894\n",
       "MLP        VERB   1.000000  0.917793  0.957134\n",
       "MLP           X   1.000000  0.408451  0.580000\n",
       "MLP       MACRO   0.934626  0.893440  0.906067"
      ]
     },
     "execution_count": 42,
     "metadata": {},
     "output_type": "execute_result"
    }
   ],
   "source": [
    "final_df = pd.concat([base_res_df, mlp_res_df])\n",
    "final_df = final_df.set_index(\"model\")\n",
    "\n",
    "final_train_df = final_df[final_df.split == \"training\"]\n",
    "final_valid_df = final_df[final_df.split == \"validation\"]\n",
    "final_test_df = final_df [final_df.split == \"test\"]\n",
    "\n",
    "final_train_df = final_train_df.drop(\"split\", axis=1)\n",
    "final_valid_df = final_valid_df.drop(\"split\", axis=1)\n",
    "final_test_df = final_test_df.drop(\"split\", axis=1)\n",
    "\n",
    "final_train_df"
   ]
  },
  {
   "cell_type": "code",
   "execution_count": 43,
   "id": "de2c50e7-4a29-4ef0-a244-5187e9e29fd1",
   "metadata": {},
   "outputs": [],
   "source": [
    "def export_to_latex(df, name, col_format, caption=None):\n",
    "    \"\"\"\n",
    "    Export a pandas DataFrame to a LaTeX file.\n",
    "\n",
    "    :param df: The DataFrame to be exported.\n",
    "    :type df: pd.DataFrame\n",
    "\n",
    "    :param name: The name of the LaTeX file (excluding the '.tex' extension).\n",
    "    :type name: str\n",
    "\n",
    "    :param col_format: A string specifying the column formatting for the LaTeX table.\n",
    "    :type col_format: str\n",
    "\n",
    "    :param caption: The caption for the LaTeX table (optional).\n",
    "    :type caption: str, optional\n",
    "\n",
    "    :return: This function does not return anything.\n",
    "    \"\"\"\n",
    "    path = os.path.join(OUTPUT_DIR, name)\n",
    "    df.to_latex(buf=path,\n",
    "                index=True,\n",
    "                formatters={\"name\": str.upper},\n",
    "                float_format=\"{:.3f}\".format,\n",
    "                label=\"tab::\" + name.split(\".\")[0],\n",
    "                caption=caption,\n",
    "                escape=True,\n",
    "                bold_rows= True,\n",
    "               encoding=\"utf-8\",\n",
    "               column_format=col_format)\n",
    "    print(f\"Dataframe exported to {path}\")\n",
    "\n",
    "long_col_format = '|l|l|l|l|l|l|'"
   ]
  },
  {
   "cell_type": "code",
   "execution_count": 44,
   "id": "33f486f0-eaa6-47e2-a21a-66fe9632f966",
   "metadata": {},
   "outputs": [
    {
     "name": "stdout",
     "output_type": "stream",
     "text": [
      "Dataframe exported to output/ex_10_train.tex\n",
      "Dataframe exported to output/ex_10_valid.tex\n",
      "Dataframe exported to output/ex_10_test.tex\n"
     ]
    }
   ],
   "source": [
    "export_to_latex(final_train_df, \n",
    "                \"ex_10_train.tex\", \n",
    "                long_col_format,\n",
    "                \"Results on the training dataset.\")\n",
    "\n",
    "export_to_latex(final_valid_df, \n",
    "                \"ex_10_valid.tex\", \n",
    "                long_col_format,\n",
    "                \"Results on the validation dataset.\")\n",
    "\n",
    "export_to_latex(final_test_df, \n",
    "                \"ex_10_test.tex\", \n",
    "                long_col_format,\n",
    "                \"Results on the test dataset.\")"
   ]
  }
 ],
 "metadata": {
  "kernelspec": {
   "display_name": "Python 3 (ipykernel)",
   "language": "python",
   "name": "python3"
  },
  "language_info": {
   "codemirror_mode": {
    "name": "ipython",
    "version": 3
   },
   "file_extension": ".py",
   "mimetype": "text/x-python",
   "name": "python",
   "nbconvert_exporter": "python",
   "pygments_lexer": "ipython3",
   "version": "3.9.18"
  }
 },
 "nbformat": 4,
 "nbformat_minor": 5
}
