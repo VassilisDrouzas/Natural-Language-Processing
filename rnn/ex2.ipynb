{
 "cells": [
  {
   "cell_type": "code",
   "execution_count": 46,
   "metadata": {},
   "outputs": [],
   "source": [
    "from tasks import preprocessing, util\n",
    "\n",
    "import pandas as pd\n",
    "import numpy as np\n",
    "from tqdm.auto import tqdm\n",
    "\n",
    "import os"
   ]
  },
  {
   "cell_type": "code",
   "execution_count": 47,
   "metadata": {},
   "outputs": [],
   "source": [
    "os.environ['TF_CPP_MIN_LOG_LEVEL'] = '3'\n",
    "\n",
    "INPUT_DIR = \"input\"\n",
    "OUTPUT_DIR = \"output\"\n",
    "INTERMEDIATE_DIR = \"intermediate\""
   ]
  },
  {
   "cell_type": "markdown",
   "metadata": {},
   "source": [
    "## Dataset\n",
    "\n",
    "Acquiring and preprocessing our data with the goal of eventually acquiring a sufficient representation of our text is the most difficult and time-consuming task. We thus split it in distinct phases:\n",
    "\n",
    "* Original dataset acquisition and parsing\n",
    "* Qualitative analysis and preprocessing\n",
    "* Transformation for the NLP task\n",
    "\n",
    "Note that due to the relative custom code complexity, most of the code used in this section was developed and imported from python source files located in the `tasks` module. In-depth documentation and implementation details can be found in these files. "
   ]
  },
  {
   "cell_type": "code",
   "execution_count": 48,
   "metadata": {},
   "outputs": [
    {
     "name": "stdout",
     "output_type": "stream",
     "text": [
      "Loading training dataset...\n",
      "\tReading data...\n",
      "\tParsing data...\n",
      "\tGetting words...\n"
     ]
    },
    {
     "data": {
      "application/vnd.jupyter.widget-view+json": {
       "model_id": "154cfc3725b14372926981737af725a2",
       "version_major": 2,
       "version_minor": 0
      },
      "text/plain": [
       "  0%|          | 0/12544 [00:00<?, ?it/s]"
      ]
     },
     "metadata": {},
     "output_type": "display_data"
    },
    {
     "name": "stdout",
     "output_type": "stream",
     "text": [
      "\tGetting POS tags...\n"
     ]
    },
    {
     "data": {
      "application/vnd.jupyter.widget-view+json": {
       "model_id": "1a4d1107c74f44ce8246996d390e5d8d",
       "version_major": 2,
       "version_minor": 0
      },
      "text/plain": [
       "  0%|          | 0/12544 [00:00<?, ?it/s]"
      ]
     },
     "metadata": {},
     "output_type": "display_data"
    },
    {
     "name": "stdout",
     "output_type": "stream",
     "text": [
      "\tGetting Sentence ids...\n"
     ]
    },
    {
     "data": {
      "application/vnd.jupyter.widget-view+json": {
       "model_id": "ed715e67fa4843a89aeb40aa7d95eb2d",
       "version_major": 2,
       "version_minor": 0
      },
      "text/plain": [
       "  0%|          | 0/12544 [00:00<?, ?it/s]"
      ]
     },
     "metadata": {},
     "output_type": "display_data"
    },
    {
     "name": "stdout",
     "output_type": "stream",
     "text": [
      "Loading validation dataset...\n",
      "\tReading data...\n",
      "\tParsing data...\n",
      "\tGetting words...\n"
     ]
    },
    {
     "data": {
      "application/vnd.jupyter.widget-view+json": {
       "model_id": "d94510a629ab46358f626eb6f039a200",
       "version_major": 2,
       "version_minor": 0
      },
      "text/plain": [
       "  0%|          | 0/2001 [00:00<?, ?it/s]"
      ]
     },
     "metadata": {},
     "output_type": "display_data"
    },
    {
     "name": "stdout",
     "output_type": "stream",
     "text": [
      "\tGetting POS tags...\n"
     ]
    },
    {
     "data": {
      "application/vnd.jupyter.widget-view+json": {
       "model_id": "453f827bba4b4ebf9727c0f19b9a7528",
       "version_major": 2,
       "version_minor": 0
      },
      "text/plain": [
       "  0%|          | 0/2001 [00:00<?, ?it/s]"
      ]
     },
     "metadata": {},
     "output_type": "display_data"
    },
    {
     "name": "stdout",
     "output_type": "stream",
     "text": [
      "\tGetting Sentence ids...\n"
     ]
    },
    {
     "data": {
      "application/vnd.jupyter.widget-view+json": {
       "model_id": "ac7e15d2ed014ca6b0295634b3344d12",
       "version_major": 2,
       "version_minor": 0
      },
      "text/plain": [
       "  0%|          | 0/2001 [00:00<?, ?it/s]"
      ]
     },
     "metadata": {},
     "output_type": "display_data"
    },
    {
     "name": "stdout",
     "output_type": "stream",
     "text": [
      "Loading test dataset...\n",
      "\tReading data...\n",
      "\tParsing data...\n",
      "\tGetting words...\n"
     ]
    },
    {
     "data": {
      "application/vnd.jupyter.widget-view+json": {
       "model_id": "a0b8a1307e064e8d84535ede60c17ec0",
       "version_major": 2,
       "version_minor": 0
      },
      "text/plain": [
       "  0%|          | 0/2077 [00:00<?, ?it/s]"
      ]
     },
     "metadata": {},
     "output_type": "display_data"
    },
    {
     "name": "stdout",
     "output_type": "stream",
     "text": [
      "\tGetting POS tags...\n"
     ]
    },
    {
     "data": {
      "application/vnd.jupyter.widget-view+json": {
       "model_id": "763b369ccbbe4288b553b8375876feff",
       "version_major": 2,
       "version_minor": 0
      },
      "text/plain": [
       "  0%|          | 0/2077 [00:00<?, ?it/s]"
      ]
     },
     "metadata": {},
     "output_type": "display_data"
    },
    {
     "name": "stdout",
     "output_type": "stream",
     "text": [
      "\tGetting Sentence ids...\n"
     ]
    },
    {
     "data": {
      "application/vnd.jupyter.widget-view+json": {
       "model_id": "d605fb5dcf6a47ce916fc74063c7ac1a",
       "version_major": 2,
       "version_minor": 0
      },
      "text/plain": [
       "  0%|          | 0/2077 [00:00<?, ?it/s]"
      ]
     },
     "metadata": {},
     "output_type": "display_data"
    },
    {
     "name": "stdout",
     "output_type": "stream",
     "text": [
      "Training data shape: (207227, 3)\n",
      "Validation data shape: (25511, 3)\n",
      "Test data shape: {test_df.shape}\n"
     ]
    }
   ],
   "source": [
    "print(\"Loading training dataset...\")\n",
    "train_df = preprocessing.conllu_to_pd(\"input/UD_English-EWT/en_ewt-ud-train.conllu\")\n",
    "print(\"Loading validation dataset...\")\n",
    "val_df = preprocessing.conllu_to_pd(\"input/UD_English-EWT/en_ewt-ud-dev.conllu\")\n",
    "print(\"Loading test dataset...\")\n",
    "test_df = preprocessing.conllu_to_pd(\"input/UD_English-EWT/en_ewt-ud-test.conllu\")\n",
    "\n",
    "print(f\"Training data shape: {train_df.shape}\\nValidation data shape: {val_df.shape}\"\n",
    "      \"\\nTest data shape: {test_df.shape}\")"
   ]
  },
  {
   "cell_type": "markdown",
   "metadata": {},
   "source": [
    "Below we can see a preview of our parsed training dataset. Our preprocessing exploits pandas's ordering scheme in order to make sure the words are inserted in the order they appear in the sentence. This ordering will prove important later."
   ]
  },
  {
   "cell_type": "code",
   "execution_count": 49,
   "metadata": {},
   "outputs": [
    {
     "data": {
      "text/html": [
       "<div>\n",
       "<style scoped>\n",
       "    .dataframe tbody tr th:only-of-type {\n",
       "        vertical-align: middle;\n",
       "    }\n",
       "\n",
       "    .dataframe tbody tr th {\n",
       "        vertical-align: top;\n",
       "    }\n",
       "\n",
       "    .dataframe thead th {\n",
       "        text-align: right;\n",
       "    }\n",
       "</style>\n",
       "<table border=\"1\" class=\"dataframe\">\n",
       "  <thead>\n",
       "    <tr style=\"text-align: right;\">\n",
       "      <th></th>\n",
       "      <th>words</th>\n",
       "      <th>pos</th>\n",
       "      <th>sent_id</th>\n",
       "    </tr>\n",
       "  </thead>\n",
       "  <tbody>\n",
       "    <tr>\n",
       "      <th>0</th>\n",
       "      <td>al</td>\n",
       "      <td>PROPN</td>\n",
       "      <td>weblog-juancole.com_juancole_20051126063000_EN...</td>\n",
       "    </tr>\n",
       "    <tr>\n",
       "      <th>1</th>\n",
       "      <td>-</td>\n",
       "      <td>PUNCT</td>\n",
       "      <td>weblog-juancole.com_juancole_20051126063000_EN...</td>\n",
       "    </tr>\n",
       "    <tr>\n",
       "      <th>2</th>\n",
       "      <td>zaman</td>\n",
       "      <td>PROPN</td>\n",
       "      <td>weblog-juancole.com_juancole_20051126063000_EN...</td>\n",
       "    </tr>\n",
       "    <tr>\n",
       "      <th>3</th>\n",
       "      <td>:</td>\n",
       "      <td>PUNCT</td>\n",
       "      <td>weblog-juancole.com_juancole_20051126063000_EN...</td>\n",
       "    </tr>\n",
       "    <tr>\n",
       "      <th>4</th>\n",
       "      <td>american</td>\n",
       "      <td>ADJ</td>\n",
       "      <td>weblog-juancole.com_juancole_20051126063000_EN...</td>\n",
       "    </tr>\n",
       "    <tr>\n",
       "      <th>...</th>\n",
       "      <td>...</td>\n",
       "      <td>...</td>\n",
       "      <td>...</td>\n",
       "    </tr>\n",
       "    <tr>\n",
       "      <th>207222</th>\n",
       "      <td>on</td>\n",
       "      <td>ADP</td>\n",
       "      <td>reviews-319816-0029</td>\n",
       "    </tr>\n",
       "    <tr>\n",
       "      <th>207223</th>\n",
       "      <td>my</td>\n",
       "      <td>PRON</td>\n",
       "      <td>reviews-319816-0029</td>\n",
       "    </tr>\n",
       "    <tr>\n",
       "      <th>207224</th>\n",
       "      <td>car</td>\n",
       "      <td>NOUN</td>\n",
       "      <td>reviews-319816-0029</td>\n",
       "    </tr>\n",
       "    <tr>\n",
       "      <th>207225</th>\n",
       "      <td>)</td>\n",
       "      <td>PUNCT</td>\n",
       "      <td>reviews-319816-0029</td>\n",
       "    </tr>\n",
       "    <tr>\n",
       "      <th>207226</th>\n",
       "      <td>.</td>\n",
       "      <td>PUNCT</td>\n",
       "      <td>reviews-319816-0029</td>\n",
       "    </tr>\n",
       "  </tbody>\n",
       "</table>\n",
       "<p>207227 rows × 3 columns</p>\n",
       "</div>"
      ],
      "text/plain": [
       "           words    pos                                            sent_id\n",
       "0             al  PROPN  weblog-juancole.com_juancole_20051126063000_EN...\n",
       "1              -  PUNCT  weblog-juancole.com_juancole_20051126063000_EN...\n",
       "2          zaman  PROPN  weblog-juancole.com_juancole_20051126063000_EN...\n",
       "3              :  PUNCT  weblog-juancole.com_juancole_20051126063000_EN...\n",
       "4       american    ADJ  weblog-juancole.com_juancole_20051126063000_EN...\n",
       "...          ...    ...                                                ...\n",
       "207222        on    ADP                                reviews-319816-0029\n",
       "207223        my   PRON                                reviews-319816-0029\n",
       "207224       car   NOUN                                reviews-319816-0029\n",
       "207225         )  PUNCT                                reviews-319816-0029\n",
       "207226         .  PUNCT                                reviews-319816-0029\n",
       "\n",
       "[207227 rows x 3 columns]"
      ]
     },
     "execution_count": 49,
     "metadata": {},
     "output_type": "execute_result"
    }
   ],
   "source": [
    "train_df"
   ]
  },
  {
   "cell_type": "markdown",
   "metadata": {},
   "source": [
    "As mentioned above, our dataset features words connected with punctuation such as \"don't\". These are normally treated as two words, with the first being their intuitive POS tag (\"do\" - AUX) and the second as part of the first (\"n't\" - PART).\n",
    "\n",
    "This dataset contains both the full words and their split versions, with only the latter featuring valid POS tags. The former are instead marked by a pseudo-tag (here \"_\")."
   ]
  },
  {
   "cell_type": "code",
   "execution_count": 50,
   "metadata": {},
   "outputs": [
    {
     "data": {
      "text/html": [
       "<div>\n",
       "<style scoped>\n",
       "    .dataframe tbody tr th:only-of-type {\n",
       "        vertical-align: middle;\n",
       "    }\n",
       "\n",
       "    .dataframe tbody tr th {\n",
       "        vertical-align: top;\n",
       "    }\n",
       "\n",
       "    .dataframe thead th {\n",
       "        text-align: right;\n",
       "    }\n",
       "</style>\n",
       "<table border=\"1\" class=\"dataframe\">\n",
       "  <thead>\n",
       "    <tr style=\"text-align: right;\">\n",
       "      <th></th>\n",
       "      <th>words</th>\n",
       "      <th>pos</th>\n",
       "      <th>sent_id</th>\n",
       "    </tr>\n",
       "  </thead>\n",
       "  <tbody>\n",
       "    <tr>\n",
       "      <th>176</th>\n",
       "      <td>don't</td>\n",
       "      <td>_</td>\n",
       "      <td>weblog-juancole.com_juancole_20051126063000_EN...</td>\n",
       "    </tr>\n",
       "    <tr>\n",
       "      <th>704</th>\n",
       "      <td>won't</td>\n",
       "      <td>_</td>\n",
       "      <td>weblog-juancole.com_juancole_20051126063000_EN...</td>\n",
       "    </tr>\n",
       "    <tr>\n",
       "      <th>868</th>\n",
       "      <td>don't</td>\n",
       "      <td>_</td>\n",
       "      <td>weblog-blogspot.com_healingiraq_20040409053012...</td>\n",
       "    </tr>\n",
       "    <tr>\n",
       "      <th>1058</th>\n",
       "      <td>don't</td>\n",
       "      <td>_</td>\n",
       "      <td>weblog-blogspot.com_healingiraq_20040409053012...</td>\n",
       "    </tr>\n",
       "    <tr>\n",
       "      <th>1078</th>\n",
       "      <td>doesn't</td>\n",
       "      <td>_</td>\n",
       "      <td>weblog-blogspot.com_healingiraq_20040409053012...</td>\n",
       "    </tr>\n",
       "    <tr>\n",
       "      <th>...</th>\n",
       "      <td>...</td>\n",
       "      <td>...</td>\n",
       "      <td>...</td>\n",
       "    </tr>\n",
       "    <tr>\n",
       "      <th>207078</th>\n",
       "      <td>couldn't</td>\n",
       "      <td>_</td>\n",
       "      <td>reviews-319816-0025</td>\n",
       "    </tr>\n",
       "    <tr>\n",
       "      <th>207091</th>\n",
       "      <td>don't</td>\n",
       "      <td>_</td>\n",
       "      <td>reviews-319816-0025</td>\n",
       "    </tr>\n",
       "    <tr>\n",
       "      <th>207096</th>\n",
       "      <td>employees'</td>\n",
       "      <td>_</td>\n",
       "      <td>reviews-319816-0025</td>\n",
       "    </tr>\n",
       "    <tr>\n",
       "      <th>207164</th>\n",
       "      <td>i'm</td>\n",
       "      <td>_</td>\n",
       "      <td>reviews-319816-0027</td>\n",
       "    </tr>\n",
       "    <tr>\n",
       "      <th>207186</th>\n",
       "      <td>didn't</td>\n",
       "      <td>_</td>\n",
       "      <td>reviews-319816-0028</td>\n",
       "    </tr>\n",
       "  </tbody>\n",
       "</table>\n",
       "<p>2613 rows × 3 columns</p>\n",
       "</div>"
      ],
      "text/plain": [
       "             words pos                                            sent_id\n",
       "176          don't   _  weblog-juancole.com_juancole_20051126063000_EN...\n",
       "704          won't   _  weblog-juancole.com_juancole_20051126063000_EN...\n",
       "868          don't   _  weblog-blogspot.com_healingiraq_20040409053012...\n",
       "1058         don't   _  weblog-blogspot.com_healingiraq_20040409053012...\n",
       "1078       doesn't   _  weblog-blogspot.com_healingiraq_20040409053012...\n",
       "...            ...  ..                                                ...\n",
       "207078    couldn't   _                                reviews-319816-0025\n",
       "207091       don't   _                                reviews-319816-0025\n",
       "207096  employees'   _                                reviews-319816-0025\n",
       "207164         i'm   _                                reviews-319816-0027\n",
       "207186      didn't   _                                reviews-319816-0028\n",
       "\n",
       "[2613 rows x 3 columns]"
      ]
     },
     "execution_count": 50,
     "metadata": {},
     "output_type": "execute_result"
    }
   ],
   "source": [
    "invalid_idx = train_df.pos == \"_\"\n",
    "train_df[invalid_idx]"
   ]
  },
  {
   "cell_type": "code",
   "execution_count": 51,
   "metadata": {},
   "outputs": [
    {
     "data": {
      "text/plain": [
       "\"don't won't doesn't haven't didn't others it's elena's women's children's i'm people's musharraf's sharon's hamas's right's cannot isn't one's let's reporter's he's that's pakistan's world's bush's military's sharif's can't couldn't\""
      ]
     },
     "execution_count": 51,
     "metadata": {},
     "output_type": "execute_result"
    }
   ],
   "source": [
    "\" \".join(train_df[invalid_idx].words.unique()[:30])"
   ]
  },
  {
   "cell_type": "markdown",
   "metadata": {},
   "source": [
    "Below we can see an example of a word being contained both times in the dataset, one in full with the pseudo-tag, and the other as split words with valid POS tags."
   ]
  },
  {
   "cell_type": "code",
   "execution_count": 52,
   "metadata": {},
   "outputs": [
    {
     "data": {
      "text/html": [
       "<div>\n",
       "<style scoped>\n",
       "    .dataframe tbody tr th:only-of-type {\n",
       "        vertical-align: middle;\n",
       "    }\n",
       "\n",
       "    .dataframe tbody tr th {\n",
       "        vertical-align: top;\n",
       "    }\n",
       "\n",
       "    .dataframe thead th {\n",
       "        text-align: right;\n",
       "    }\n",
       "</style>\n",
       "<table border=\"1\" class=\"dataframe\">\n",
       "  <thead>\n",
       "    <tr style=\"text-align: right;\">\n",
       "      <th></th>\n",
       "      <th>words</th>\n",
       "      <th>pos</th>\n",
       "      <th>sent_id</th>\n",
       "    </tr>\n",
       "  </thead>\n",
       "  <tbody>\n",
       "    <tr>\n",
       "      <th>176</th>\n",
       "      <td>don't</td>\n",
       "      <td>_</td>\n",
       "      <td>weblog-juancole.com_juancole_20051126063000_EN...</td>\n",
       "    </tr>\n",
       "    <tr>\n",
       "      <th>177</th>\n",
       "      <td>do</td>\n",
       "      <td>AUX</td>\n",
       "      <td>weblog-juancole.com_juancole_20051126063000_EN...</td>\n",
       "    </tr>\n",
       "    <tr>\n",
       "      <th>178</th>\n",
       "      <td>n't</td>\n",
       "      <td>PART</td>\n",
       "      <td>weblog-juancole.com_juancole_20051126063000_EN...</td>\n",
       "    </tr>\n",
       "  </tbody>\n",
       "</table>\n",
       "</div>"
      ],
      "text/plain": [
       "     words   pos                                            sent_id\n",
       "176  don't     _  weblog-juancole.com_juancole_20051126063000_EN...\n",
       "177     do   AUX  weblog-juancole.com_juancole_20051126063000_EN...\n",
       "178    n't  PART  weblog-juancole.com_juancole_20051126063000_EN..."
      ]
     },
     "execution_count": 52,
     "metadata": {},
     "output_type": "execute_result"
    }
   ],
   "source": [
    "train_df.iloc[176:179]"
   ]
  },
  {
   "cell_type": "markdown",
   "metadata": {},
   "source": [
    "We thus remove the full words including the pseudo-tag from our datasets, ensuring that all target POS tags will be compliant with the UPOS scheme."
   ]
  },
  {
   "cell_type": "code",
   "execution_count": 53,
   "metadata": {},
   "outputs": [],
   "source": [
    "train_df = train_df[~invalid_idx]\n",
    "val_df = val_df[val_df.pos != \"_\"]\n",
    "test_df = test_df[test_df.pos != \"_\"]"
   ]
  },
  {
   "cell_type": "markdown",
   "metadata": {},
   "source": [
    "### Qualitative Analysis\n",
    "\n",
    "We analyze our dataset in two granualities: sentences and individual words. We begin by analyzing how many words are in each sentence, which will give us an idea on the size of context available for each word."
   ]
  },
  {
   "cell_type": "code",
   "execution_count": 54,
   "metadata": {},
   "outputs": [],
   "source": [
    "def length_sentences(df: pd.DataFrame) -> float:\n",
    "    lengths = df.groupby([\"sent_id\"]).agg(lambda x: len(x))\n",
    "    return lengths.words\n",
    "\n",
    "\n",
    "train_length = length_sentences(train_df)\n",
    "val_length = length_sentences(val_df)\n",
    "test_length = length_sentences(test_df)"
   ]
  },
  {
   "cell_type": "code",
   "execution_count": 55,
   "metadata": {},
   "outputs": [
    {
     "name": "stdout",
     "output_type": "stream",
     "text": [
      "Figured saved to output/ex_2_dataset_stats.png\n"
     ]
    },
    {
     "data": {
      "image/png": "[encoded data removed]",
      "text/plain": [
       "<Figure size 640x480 with 1 Axes>"
      ]
     },
     "metadata": {},
     "output_type": "display_data"
    }
   ],
   "source": [
    "import seaborn as sns\n",
    "import matplotlib.pyplot as plt\n",
    "\n",
    "\n",
    "stats_df = pd.DataFrame({\"words\": pd.concat([train_length, val_length, test_length], ignore_index=True),\n",
    "                        \"type\": len(train_length)*[\"train\"] +\n",
    "                         len(val_length)*[\"validation\"] + \n",
    "                         len(test_length)*[\"test\"]})\n",
    "\n",
    "sns.histplot(x=\"words\", \n",
    "             hue=\"type\", \n",
    "             data=stats_df, \n",
    "             multiple=\"stack\")\n",
    "\n",
    "plt.title(\"Number of sentences by word count\")\n",
    "util.save_plot(\"ex_2_dataset_stats.png\", OUTPUT_DIR)\n",
    "plt.show()"
   ]
  },
  {
   "cell_type": "code",
   "execution_count": 56,
   "metadata": {},
   "outputs": [
    {
     "data": {
      "text/plain": [
       "count    12544.000000\n",
       "mean        16.311703\n",
       "std         12.404826\n",
       "min          1.000000\n",
       "25%          7.000000\n",
       "50%         14.000000\n",
       "75%         23.000000\n",
       "max        159.000000\n",
       "Name: words, dtype: float64"
      ]
     },
     "execution_count": 56,
     "metadata": {},
     "output_type": "execute_result"
    }
   ],
   "source": [
    "train_length.describe()"
   ]
  },
  {
   "cell_type": "code",
   "execution_count": 57,
   "metadata": {},
   "outputs": [
    {
     "data": {
      "text/plain": [
       "count    2001.000000\n",
       "mean       12.569715\n",
       "std        10.419274\n",
       "min         1.000000\n",
       "25%         5.000000\n",
       "50%        10.000000\n",
       "75%        17.000000\n",
       "max        75.000000\n",
       "Name: words, dtype: float64"
      ]
     },
     "execution_count": 57,
     "metadata": {},
     "output_type": "execute_result"
    }
   ],
   "source": [
    "val_length.describe()"
   ]
  },
  {
   "cell_type": "code",
   "execution_count": 58,
   "metadata": {},
   "outputs": [
    {
     "data": {
      "text/plain": [
       "count    2077.000000\n",
       "mean       12.082812\n",
       "std        10.607005\n",
       "min         1.000000\n",
       "25%         4.000000\n",
       "50%         9.000000\n",
       "75%        17.000000\n",
       "max        81.000000\n",
       "Name: words, dtype: float64"
      ]
     },
     "execution_count": 58,
     "metadata": {},
     "output_type": "execute_result"
    }
   ],
   "source": [
    "test_length.describe()"
   ]
  },
  {
   "cell_type": "code",
   "execution_count": 59,
   "metadata": {},
   "outputs": [
    {
     "name": "stdout",
     "output_type": "stream",
     "text": [
      "Vocabulary size: 16654\n"
     ]
    }
   ],
   "source": [
    "vocab_size = len(set(train_df.words))\n",
    "print(f\"Vocabulary size: {vocab_size}\")"
   ]
  },
  {
   "cell_type": "code",
   "execution_count": 60,
   "metadata": {},
   "outputs": [
    {
     "name": "stdout",
     "output_type": "stream",
     "text": [
      "Total word count:\n",
      "Training: 204614\n",
      "Validation: 25152\n",
      "Testing: 25096\n"
     ]
    }
   ],
   "source": [
    "print(f\"Total word count:\\nTraining: {train_df.shape[0]}\"\n",
    "      f\"\\nValidation: {val_df.shape[0]}\"\n",
    "      f\"\\nTesting: {test_df.shape[0]}\")"
   ]
  },
  {
   "cell_type": "code",
   "execution_count": 61,
   "metadata": {},
   "outputs": [
    {
     "name": "stdout",
     "output_type": "stream",
     "text": [
      "Total sentence count:\n",
      "Training: 12544\n",
      "Validation: 2001\n",
      "Testing: 2077\n"
     ]
    }
   ],
   "source": [
    "print(f\"Total sentence count:\\nTraining: {len(set(train_df.sent_id))}\"\n",
    "      f\"\\nValidation: {len(set(val_df.sent_id))}\"\n",
    "      f\"\\nTesting: {len(set(test_df.sent_id))}\")"
   ]
  },
  {
   "cell_type": "markdown",
   "metadata": {},
   "source": [
    "## Baseline Model"
   ]
  },
  {
   "cell_type": "code",
   "execution_count": 62,
   "metadata": {},
   "outputs": [
    {
     "data": {
      "text/html": [
       "<style>#sk-container-id-2 {color: black;}#sk-container-id-2 pre{padding: 0;}#sk-container-id-2 div.sk-toggleable {background-color: white;}#sk-container-id-2 label.sk-toggleable__label {cursor: pointer;display: block;width: 100%;margin-bottom: 0;padding: 0.3em;box-sizing: border-box;text-align: center;}#sk-container-id-2 label.sk-toggleable__label-arrow:before {content: \"▸\";float: left;margin-right: 0.25em;color: #696969;}#sk-container-id-2 label.sk-toggleable__label-arrow:hover:before {color: black;}#sk-container-id-2 div.sk-estimator:hover label.sk-toggleable__label-arrow:before {color: black;}#sk-container-id-2 div.sk-toggleable__content {max-height: 0;max-width: 0;overflow: hidden;text-align: left;background-color: #f0f8ff;}#sk-container-id-2 div.sk-toggleable__content pre {margin: 0.2em;color: black;border-radius: 0.25em;background-color: #f0f8ff;}#sk-container-id-2 input.sk-toggleable__control:checked~div.sk-toggleable__content {max-height: 200px;max-width: 100%;overflow: auto;}#sk-container-id-2 input.sk-toggleable__control:checked~label.sk-toggleable__label-arrow:before {content: \"▾\";}#sk-container-id-2 div.sk-estimator input.sk-toggleable__control:checked~label.sk-toggleable__label {background-color: #d4ebff;}#sk-container-id-2 div.sk-label input.sk-toggleable__control:checked~label.sk-toggleable__label {background-color: #d4ebff;}#sk-container-id-2 input.sk-hidden--visually {border: 0;clip: rect(1px 1px 1px 1px);clip: rect(1px, 1px, 1px, 1px);height: 1px;margin: -1px;overflow: hidden;padding: 0;position: absolute;width: 1px;}#sk-container-id-2 div.sk-estimator {font-family: monospace;background-color: #f0f8ff;border: 1px dotted black;border-radius: 0.25em;box-sizing: border-box;margin-bottom: 0.5em;}#sk-container-id-2 div.sk-estimator:hover {background-color: #d4ebff;}#sk-container-id-2 div.sk-parallel-item::after {content: \"\";width: 100%;border-bottom: 1px solid gray;flex-grow: 1;}#sk-container-id-2 div.sk-label:hover label.sk-toggleable__label {background-color: #d4ebff;}#sk-container-id-2 div.sk-serial::before {content: \"\";position: absolute;border-left: 1px solid gray;box-sizing: border-box;top: 0;bottom: 0;left: 50%;z-index: 0;}#sk-container-id-2 div.sk-serial {display: flex;flex-direction: column;align-items: center;background-color: white;padding-right: 0.2em;padding-left: 0.2em;position: relative;}#sk-container-id-2 div.sk-item {position: relative;z-index: 1;}#sk-container-id-2 div.sk-parallel {display: flex;align-items: stretch;justify-content: center;background-color: white;position: relative;}#sk-container-id-2 div.sk-item::before, #sk-container-id-2 div.sk-parallel-item::before {content: \"\";position: absolute;border-left: 1px solid gray;box-sizing: border-box;top: 0;bottom: 0;left: 50%;z-index: -1;}#sk-container-id-2 div.sk-parallel-item {display: flex;flex-direction: column;z-index: 1;position: relative;background-color: white;}#sk-container-id-2 div.sk-parallel-item:first-child::after {align-self: flex-end;width: 50%;}#sk-container-id-2 div.sk-parallel-item:last-child::after {align-self: flex-start;width: 50%;}#sk-container-id-2 div.sk-parallel-item:only-child::after {width: 0;}#sk-container-id-2 div.sk-dashed-wrapped {border: 1px dashed gray;margin: 0 0.4em 0.5em 0.4em;box-sizing: border-box;padding-bottom: 0.4em;background-color: white;}#sk-container-id-2 div.sk-label label {font-family: monospace;font-weight: bold;display: inline-block;line-height: 1.2em;}#sk-container-id-2 div.sk-label-container {text-align: center;}#sk-container-id-2 div.sk-container {/* jupyter's `normalize.less` sets `[hidden] { display: none; }` but bootstrap.min.css set `[hidden] { display: none !important; }` so we also need the `!important` here to be able to override the default hidden behavior on the sphinx rendered scikit-learn.org. See: https://github.com/scikit-learn/scikit-learn/issues/21755 */display: inline-block !important;position: relative;}#sk-container-id-2 div.sk-text-repr-fallback {display: none;}</style><div id=\"sk-container-id-2\" class=\"sk-top-container\"><div class=\"sk-text-repr-fallback\"><pre>BaselineLabelClassifier()</pre><b>In a Jupyter environment, please rerun this cell to show the HTML representation or trust the notebook. <br />On GitHub, the HTML representation is unable to render, please try loading this page with nbviewer.org.</b></div><div class=\"sk-container\" hidden><div class=\"sk-item\"><div class=\"sk-estimator sk-toggleable\"><input class=\"sk-toggleable__control sk-hidden--visually\" id=\"sk-estimator-id-2\" type=\"checkbox\" checked><label for=\"sk-estimator-id-2\" class=\"sk-toggleable__label sk-toggleable__label-arrow\">BaselineLabelClassifier</label><div class=\"sk-toggleable__content\"><pre>BaselineLabelClassifier()</pre></div></div></div></div></div>"
      ],
      "text/plain": [
       "BaselineLabelClassifier()"
      ]
     },
     "execution_count": 62,
     "metadata": {},
     "output_type": "execute_result"
    }
   ],
   "source": [
    "from tasks.models import BaselineLabelClassifier\n",
    "\n",
    "\n",
    "x_base_train = train_df.words\n",
    "x_base_valid = val_df.words\n",
    "x_base_test = test_df.words\n",
    "\n",
    "y_base_train = train_df.pos\n",
    "y_base_valid = val_df.pos\n",
    "y_base_test = test_df.pos\n",
    "\n",
    "base_cls = BaselineLabelClassifier()\n",
    "base_cls.fit(X=x_base_train, y=y_base_train)"
   ]
  },
  {
   "cell_type": "code",
   "execution_count": 63,
   "metadata": {},
   "outputs": [
    {
     "name": "stdout",
     "output_type": "stream",
     "text": [
      "              precision    recall  f1-score   support\n",
      "\n",
      "         ADJ       0.88      0.89      0.89     13152\n",
      "         ADP       0.87      0.67      0.76     17795\n",
      "         ADV       0.61      0.83      0.71     10113\n",
      "         AUX       0.88      0.79      0.83     12828\n",
      "       CCONJ       0.98      0.99      0.99      6688\n",
      "         DET       0.96      0.95      0.95     16299\n",
      "        INTJ       0.68      0.87      0.76       693\n",
      "        NOUN       0.88      0.90      0.89     34813\n",
      "         NUM       0.99      0.89      0.94      4126\n",
      "        PART       0.71      0.89      0.79      5748\n",
      "        PRON       0.90      0.95      0.93     18642\n",
      "       PROPN       0.90      0.84      0.87     12325\n",
      "       PUNCT       0.99      0.99      0.99     23597\n",
      "       SCONJ       0.64      0.41      0.50      3839\n",
      "         SYM       0.88      0.83      0.85       721\n",
      "        VERB       0.83      0.89      0.86     22594\n",
      "           X       0.86      0.64      0.74       641\n",
      "\n",
      "    accuracy                           0.87    204614\n",
      "   macro avg       0.85      0.84      0.84    204614\n",
      "weighted avg       0.88      0.87      0.87    204614\n",
      "\n"
     ]
    }
   ],
   "source": [
    "from sklearn.metrics import classification_report\n",
    "\n",
    "\n",
    "training_preds = base_cls.predict(x_base_train)\n",
    "print(classification_report(y_base_train, training_preds))"
   ]
  },
  {
   "cell_type": "code",
   "execution_count": 64,
   "metadata": {},
   "outputs": [
    {
     "name": "stdout",
     "output_type": "stream",
     "text": [
      "              precision    recall  f1-score   support\n",
      "\n",
      "         ADJ       0.88      0.83      0.85      1787\n",
      "         ADP       0.89      0.67      0.76      2033\n",
      "         ADV       0.62      0.83      0.71      1178\n",
      "         AUX       0.89      0.78      0.83      1543\n",
      "       CCONJ       0.99      0.99      0.99       737\n",
      "         DET       0.96      0.95      0.95      1897\n",
      "        INTJ       0.70      0.72      0.71       120\n",
      "        NOUN       0.66      0.89      0.76      4137\n",
      "         NUM       0.96      0.54      0.69       542\n",
      "        PART       0.70      0.90      0.79       649\n",
      "        PRON       0.91      0.95      0.93      2162\n",
      "       PROPN       0.88      0.48      0.62      1980\n",
      "       PUNCT       1.00      0.98      0.99      3096\n",
      "       SCONJ       0.60      0.44      0.51       384\n",
      "         SYM       0.81      0.83      0.82       109\n",
      "        VERB       0.80      0.83      0.81      2606\n",
      "           X       0.00      0.00      0.00       136\n",
      "\n",
      "    accuracy                           0.82     25096\n",
      "   macro avg       0.78      0.74      0.75     25096\n",
      "weighted avg       0.84      0.82      0.82     25096\n",
      "\n"
     ]
    }
   ],
   "source": [
    "test_preds = base_cls.predict(x_base_test)\n",
    "print(classification_report(y_base_test, test_preds))"
   ]
  },
  {
   "cell_type": "markdown",
   "metadata": {},
   "source": [
    "## MLP Classifier"
   ]
  },
  {
   "cell_type": "markdown",
   "metadata": {},
   "source": [
    "The model we use is the pre-trained optimal model used in the previous assignment. We follow the same preprocessing and caching steps as in the previous assignment. Since the model is not trained again, we use only a subset of the original training data (25,000 windows) in order to save on scare main-memory resources. We consider this a representative sample for comparison with other classifiers due to the sample size (law of large numbers).\n"
   ]
  },
  {
   "cell_type": "code",
   "execution_count": 65,
   "metadata": {},
   "outputs": [],
   "source": [
    "def exclude_small_sentences(conllu_df: pd.DataFrame, min_len: int) -> pd.DataFrame:\n",
    "    assert 1 <= min_len\n",
    "\n",
    "    length_df = length_sentences(conllu_df)\n",
    "    valid_length_df = length_df[length_df >= min_len]\n",
    "    valid_ids = set(valid_length_df.index)\n",
    "    return conllu_df[conllu_df.sent_id.isin(valid_ids)]"
   ]
  },
  {
   "cell_type": "code",
   "execution_count": 66,
   "metadata": {},
   "outputs": [],
   "source": [
    "MIN_SENTENCE_LENGTH = 5\n",
    "WINDOW_SIZE = 5\n",
    "# training data are used exclusively for training accuracy, thus \n",
    "# we only need a small, representative sample\n",
    "TRAINING_LIM = 25000\n",
    "VALID_LIM = 25000\n",
    "TEST_LIM = 10000\n",
    "SEED = 42\n",
    "PAD_TOKEN = \"<PAD>\""
   ]
  },
  {
   "cell_type": "code",
   "execution_count": 67,
   "metadata": {},
   "outputs": [
    {
     "data": {
      "text/html": [
       "<div>\n",
       "<style scoped>\n",
       "    .dataframe tbody tr th:only-of-type {\n",
       "        vertical-align: middle;\n",
       "    }\n",
       "\n",
       "    .dataframe tbody tr th {\n",
       "        vertical-align: top;\n",
       "    }\n",
       "\n",
       "    .dataframe thead th {\n",
       "        text-align: right;\n",
       "    }\n",
       "</style>\n",
       "<table border=\"1\" class=\"dataframe\">\n",
       "  <thead>\n",
       "    <tr style=\"text-align: right;\">\n",
       "      <th></th>\n",
       "      <th>words</th>\n",
       "      <th>pos</th>\n",
       "      <th>sent_id</th>\n",
       "    </tr>\n",
       "  </thead>\n",
       "  <tbody>\n",
       "    <tr>\n",
       "      <th>0</th>\n",
       "      <td>al</td>\n",
       "      <td>PROPN</td>\n",
       "      <td>weblog-juancole.com_juancole_20051126063000_EN...</td>\n",
       "    </tr>\n",
       "    <tr>\n",
       "      <th>1</th>\n",
       "      <td>-</td>\n",
       "      <td>PUNCT</td>\n",
       "      <td>weblog-juancole.com_juancole_20051126063000_EN...</td>\n",
       "    </tr>\n",
       "    <tr>\n",
       "      <th>2</th>\n",
       "      <td>zaman</td>\n",
       "      <td>PROPN</td>\n",
       "      <td>weblog-juancole.com_juancole_20051126063000_EN...</td>\n",
       "    </tr>\n",
       "    <tr>\n",
       "      <th>3</th>\n",
       "      <td>:</td>\n",
       "      <td>PUNCT</td>\n",
       "      <td>weblog-juancole.com_juancole_20051126063000_EN...</td>\n",
       "    </tr>\n",
       "    <tr>\n",
       "      <th>4</th>\n",
       "      <td>american</td>\n",
       "      <td>ADJ</td>\n",
       "      <td>weblog-juancole.com_juancole_20051126063000_EN...</td>\n",
       "    </tr>\n",
       "    <tr>\n",
       "      <th>...</th>\n",
       "      <td>...</td>\n",
       "      <td>...</td>\n",
       "      <td>...</td>\n",
       "    </tr>\n",
       "    <tr>\n",
       "      <th>207222</th>\n",
       "      <td>on</td>\n",
       "      <td>ADP</td>\n",
       "      <td>reviews-319816-0029</td>\n",
       "    </tr>\n",
       "    <tr>\n",
       "      <th>207223</th>\n",
       "      <td>my</td>\n",
       "      <td>PRON</td>\n",
       "      <td>reviews-319816-0029</td>\n",
       "    </tr>\n",
       "    <tr>\n",
       "      <th>207224</th>\n",
       "      <td>car</td>\n",
       "      <td>NOUN</td>\n",
       "      <td>reviews-319816-0029</td>\n",
       "    </tr>\n",
       "    <tr>\n",
       "      <th>207225</th>\n",
       "      <td>)</td>\n",
       "      <td>PUNCT</td>\n",
       "      <td>reviews-319816-0029</td>\n",
       "    </tr>\n",
       "    <tr>\n",
       "      <th>207226</th>\n",
       "      <td>.</td>\n",
       "      <td>PUNCT</td>\n",
       "      <td>reviews-319816-0029</td>\n",
       "    </tr>\n",
       "  </tbody>\n",
       "</table>\n",
       "<p>199895 rows × 3 columns</p>\n",
       "</div>"
      ],
      "text/plain": [
       "           words    pos                                            sent_id\n",
       "0             al  PROPN  weblog-juancole.com_juancole_20051126063000_EN...\n",
       "1              -  PUNCT  weblog-juancole.com_juancole_20051126063000_EN...\n",
       "2          zaman  PROPN  weblog-juancole.com_juancole_20051126063000_EN...\n",
       "3              :  PUNCT  weblog-juancole.com_juancole_20051126063000_EN...\n",
       "4       american    ADJ  weblog-juancole.com_juancole_20051126063000_EN...\n",
       "...          ...    ...                                                ...\n",
       "207222        on    ADP                                reviews-319816-0029\n",
       "207223        my   PRON                                reviews-319816-0029\n",
       "207224       car   NOUN                                reviews-319816-0029\n",
       "207225         )  PUNCT                                reviews-319816-0029\n",
       "207226         .  PUNCT                                reviews-319816-0029\n",
       "\n",
       "[199895 rows x 3 columns]"
      ]
     },
     "execution_count": 67,
     "metadata": {},
     "output_type": "execute_result"
    }
   ],
   "source": [
    "train_df_filt = exclude_small_sentences(train_df, MIN_SENTENCE_LENGTH)\n",
    "val_df_filt = exclude_small_sentences(val_df, MIN_SENTENCE_LENGTH)\n",
    "test_df_filt = exclude_small_sentences(test_df, MIN_SENTENCE_LENGTH)\n",
    "\n",
    "train_df_filt"
   ]
  },
  {
   "cell_type": "code",
   "execution_count": 68,
   "metadata": {},
   "outputs": [],
   "source": [
    "import tensorflow as tf\n",
    "from tensorflow import keras\n",
    "\n",
    "from tensorflow.keras.layers import Input, Embedding, TextVectorization\n",
    "from tensorflow.keras.callbacks import EarlyStopping\n",
    "\n",
    "from sklearn.preprocessing import LabelBinarizer"
   ]
  },
  {
   "cell_type": "code",
   "execution_count": 69,
   "metadata": {},
   "outputs": [
    {
     "name": "stdout",
     "output_type": "stream",
     "text": [
      "File ‘input/fasttext/cc.en.300.bin.gz’ already there; not retrieving.\n",
      "\n",
      "Skipping model file\n"
     ]
    }
   ],
   "source": [
    "# download and unzip only if the download and unzipped files do not exist \n",
    "!wget -nc -P input/fasttext https://dl.fbaipublicfiles.com/fasttext/vectors-crawl/cc.en.300.bin.gz\n",
    "\n",
    "![ -f \"input/fasttext/cc.en.300.bin\" ] && echo \"Skipping model file\" || gzip --decompress --keep --force \"input/fasttext/cc.en.300.bin.gz\"   "
   ]
  },
  {
   "cell_type": "code",
   "execution_count": 70,
   "metadata": {},
   "outputs": [
    {
     "name": "stdout",
     "output_type": "stream",
     "text": [
      "Loading embedding model...\n"
     ]
    },
    {
     "name": "stderr",
     "output_type": "stream",
     "text": [
      "Warning : `load_model` does not return WordVectorModel or SupervisedModel any more, but a `FastText` object which is very similar.\n"
     ]
    }
   ],
   "source": [
    "import fasttext \n",
    "\n",
    "\n",
    "print(\"Loading embedding model...\")\n",
    "fasttext_model = fasttext.load_model('input/fasttext/cc.en.300.bin')"
   ]
  },
  {
   "cell_type": "code",
   "execution_count": 71,
   "metadata": {},
   "outputs": [
    {
     "name": "stdout",
     "output_type": "stream",
     "text": [
      "Attempting to load intermediate calculations...\n",
      "Loaded cached calculations.\n"
     ]
    }
   ],
   "source": [
    "(\n",
    "    x_train_mlp,\n",
    "    x_valid_mlp,\n",
    "    x_test_mlp,\n",
    "    y_train_mlp,\n",
    "    y_valid_mlp,\n",
    "    y_test_mlp,\n",
    "    lb_mlp,\n",
    ") = preprocessing.mlp_input(\n",
    "    train_df_filt,\n",
    "    val_df_filt,\n",
    "    test_df_filt,\n",
    "    embed_model=fasttext_model,\n",
    "    intermediate_dir=INTERMEDIATE_DIR,\n",
    "    train_lim=TRAINING_LIM,\n",
    "    val_lim=VALID_LIM,\n",
    "    test_lim=TEST_LIM,\n",
    "    window_size=WINDOW_SIZE,\n",
    "    seed=SEED,\n",
    "    pad_token=PAD_TOKEN,\n",
    ")"
   ]
  },
  {
   "cell_type": "code",
   "execution_count": 72,
   "metadata": {},
   "outputs": [
    {
     "name": "stdout",
     "output_type": "stream",
     "text": [
      "Model: \"sequential\"\n",
      "_________________________________________________________________\n",
      " Layer (type)                Output Shape              Param #   \n",
      "=================================================================\n",
      " dense (Dense)               (None, 320)               480320    \n",
      "                                                                 \n",
      " dropout (Dropout)           (None, 320)               0         \n",
      "                                                                 \n",
      " dense_1 (Dense)             (None, 17)                5457      \n",
      "                                                                 \n",
      "=================================================================\n",
      "Total params: 485777 (1.85 MB)\n",
      "Trainable params: 485777 (1.85 MB)\n",
      "Non-trainable params: 0 (0.00 Byte)\n",
      "_________________________________________________________________\n"
     ]
    }
   ],
   "source": [
    "mlp = keras.saving.load_model(os.path.join(INPUT_DIR, \"model.keras\"))\n",
    "mlp.summary()"
   ]
  },
  {
   "cell_type": "code",
   "execution_count": 73,
   "metadata": {},
   "outputs": [
    {
     "name": "stdout",
     "output_type": "stream",
     "text": [
      "782/782 [==============================] - 2s 2ms/step\n",
      "              precision    recall  f1-score   support\n",
      "\n",
      "         ADJ       0.91      0.93      0.92      1604\n",
      "         ADP       0.90      0.91      0.90      2278\n",
      "         ADV       0.93      0.86      0.89      1267\n",
      "         AUX       0.92      0.97      0.94      1515\n",
      "       CCONJ       0.99      0.99      0.99       833\n",
      "         DET       0.97      0.97      0.97      2066\n",
      "        INTJ       1.00      0.86      0.92        69\n",
      "        NOUN       0.91      0.94      0.93      4301\n",
      "         NUM       0.97      0.97      0.97       491\n",
      "        PART       0.80      0.95      0.87       713\n",
      "        PRON       0.97      0.97      0.97      2303\n",
      "       PROPN       0.93      0.83      0.88      1452\n",
      "       PUNCT       0.99      1.00      1.00      2808\n",
      "       SCONJ       0.78      0.70      0.74       442\n",
      "         SYM       0.88      0.85      0.87        87\n",
      "        VERB       0.93      0.89      0.91      2742\n",
      "           X       0.61      0.38      0.47        29\n",
      "\n",
      "    accuracy                           0.93     25000\n",
      "   macro avg       0.91      0.88      0.89     25000\n",
      "weighted avg       0.93      0.93      0.93     25000\n",
      "\n"
     ]
    }
   ],
   "source": [
    "print(\n",
    "    classification_report(\n",
    "        lb_mlp.inverse_transform(y_train_mlp),\n",
    "        lb_mlp.inverse_transform(mlp.predict(x_train_mlp)),\n",
    "    )\n",
    ")"
   ]
  },
  {
   "cell_type": "code",
   "execution_count": 74,
   "metadata": {},
   "outputs": [
    {
     "name": "stdout",
     "output_type": "stream",
     "text": [
      "313/313 [==============================] - 1s 2ms/step\n",
      "              precision    recall  f1-score   support\n",
      "\n",
      "         ADJ       0.88      0.89      0.88       686\n",
      "         ADP       0.87      0.90      0.89       823\n",
      "         ADV       0.87      0.80      0.83       460\n",
      "         AUX       0.91      0.94      0.93       636\n",
      "       CCONJ       0.99      0.99      0.99       325\n",
      "         DET       0.96      0.96      0.96       789\n",
      "        INTJ       1.00      0.53      0.70        30\n",
      "        NOUN       0.85      0.89      0.87      1684\n",
      "         NUM       0.87      0.88      0.87       211\n",
      "        PART       0.74      0.90      0.81       249\n",
      "        PRON       0.95      0.94      0.95       881\n",
      "       PROPN       0.87      0.78      0.82       732\n",
      "       PUNCT       0.99      0.99      0.99      1202\n",
      "       SCONJ       0.65      0.59      0.62       147\n",
      "         SYM       0.78      0.76      0.77        50\n",
      "        VERB       0.88      0.86      0.87      1076\n",
      "           X       0.33      0.21      0.26        19\n",
      "\n",
      "    accuracy                           0.90     10000\n",
      "   macro avg       0.85      0.81      0.82     10000\n",
      "weighted avg       0.90      0.90      0.90     10000\n",
      "\n"
     ]
    }
   ],
   "source": [
    "print(\n",
    "    classification_report(\n",
    "        lb_mlp.inverse_transform(y_test_mlp),\n",
    "        lb_mlp.inverse_transform(mlp.predict(x_test_mlp)),\n",
    "    )\n",
    ")"
   ]
  },
  {
   "cell_type": "markdown",
   "metadata": {},
   "source": [
    "## Creating the RNN model"
   ]
  },
  {
   "cell_type": "markdown",
   "metadata": {},
   "source": [
    "### Vectorization\n",
    "\n",
    "We will be using the `sklearn LabelBinarizer` class to produce one-hot vectors for the model's targets and tf's `TextVectorization` amd `Embedding` layers to convert the input strings to word embeddings."
   ]
  },
  {
   "cell_type": "code",
   "execution_count": 75,
   "metadata": {},
   "outputs": [],
   "source": [
    "rnn_lb = LabelBinarizer()\n",
    "\n",
    "y_train = rnn_lb.fit_transform(train_df.pos)\n",
    "y_valid = rnn_lb.transform(val_df.pos)\n",
    "y_test = rnn_lb.transform(test_df.pos)\n"
   ]
  },
  {
   "cell_type": "code",
   "execution_count": 76,
   "metadata": {},
   "outputs": [
    {
     "data": {
      "text/plain": [
       "39"
      ]
     },
     "execution_count": 76,
     "metadata": {},
     "output_type": "execute_result"
    }
   ],
   "source": [
    "MAX_SEQUENCE_LENGTH = int(np.quantile(train_length, 0.95))\n",
    "MAX_SEQUENCE_LENGTH"
   ]
  },
  {
   "cell_type": "code",
   "execution_count": 77,
   "metadata": {},
   "outputs": [],
   "source": [
    "MAX_WORDS = vocab_size\n",
    "EMBEDDING_DIM = 300"
   ]
  },
  {
   "cell_type": "code",
   "execution_count": 78,
   "metadata": {},
   "outputs": [
    {
     "name": "stdout",
     "output_type": "stream",
     "text": [
      "Setting up vectorizer...\n"
     ]
    }
   ],
   "source": [
    "vectorizer = TextVectorization(max_tokens=MAX_WORDS, output_mode='int', ngrams=1, \n",
    "              output_sequence_length=MAX_SEQUENCE_LENGTH)\n",
    "\n",
    "print(\"Setting up vectorizer...\")\n",
    "vectorizer.adapt(train_df.words.values)"
   ]
  },
  {
   "cell_type": "code",
   "execution_count": 79,
   "metadata": {},
   "outputs": [
    {
     "name": "stdout",
     "output_type": "stream",
     "text": [
      "Computing word embeddings...\n"
     ]
    },
    {
     "data": {
      "application/vnd.jupyter.widget-view+json": {
       "model_id": "8cdaff82f578409e87d186445a314a4c",
       "version_major": 2,
       "version_minor": 0
      },
      "text/plain": [
       "  0%|          | 0/16251 [00:00<?, ?it/s]"
      ]
     },
     "metadata": {},
     "output_type": "display_data"
    }
   ],
   "source": [
    "embedding_matrix = np.zeros(shape=(MAX_WORDS, 300))\n",
    "\n",
    "print(\"Computing word embeddings...\")\n",
    "for w2idx, _word in tqdm(enumerate(vectorizer.get_vocabulary()), \n",
    "                          total = len(vectorizer.get_vocabulary())):\n",
    "    # Skip PAD and UNK tokens\n",
    "    if w2idx < 2:\n",
    "      continue\n",
    "    embedding_matrix[w2idx] = fasttext_model.get_word_vector(_word)\n",
    "\n",
    "# reclaim memory\n",
    "del fasttext_model"
   ]
  },
  {
   "cell_type": "markdown",
   "metadata": {},
   "source": [
    "### Tuning\n",
    "\n",
    "We use the `keras_tuner` library to automatically perform random search over various hyper-parameters of our model.\n",
    "\n",
    "The parameter search consists of:\n",
    "* The number of bidirectional layers\n",
    "* Whether to use Layer Normalization or dropout\n",
    "* Whether to use variational (recurrent) dropout\n",
    "* The number of self-attention layers\n",
    "* The number of neurons in each self-attention layer\n",
    "* The learning rate\n",
    "\t\n",
    "\n",
    "The parameter search does NOT consist of:\n",
    "* Dropout rate, since dropout rarely changes the final result of a neural network, but rather tunes the trade-off between training time and overfit avoidance\n",
    "* Activation functions, since they rarely significantly influence the model's performance\n",
    "\n",
    "\n",
    "Layer Normalization and dropout are kept mutually exclusive because of research indicating that [the presence of both generally degrades performance during inference](https://arxiv.org/pdf/1801.05134.pdf). The article specifically mentions Batch Normalization, so we assume the same effect will most likely present itself using layer normalization on the grounds that both operate on the same principles.\n"
   ]
  },
  {
   "cell_type": "code",
   "execution_count": 80,
   "metadata": {},
   "outputs": [],
   "source": [
    "train_data = train_df.words.values\n",
    "val_data = val_df.words.values\n",
    "test_data = test_df.words.values"
   ]
  },
  {
   "cell_type": "code",
   "execution_count": 81,
   "metadata": {},
   "outputs": [
    {
     "name": "stdout",
     "output_type": "stream",
     "text": [
      "Executing with  /physical_device:GPU:0\n"
     ]
    }
   ],
   "source": [
    "gpus = tf.config.list_physical_devices('GPU')\n",
    "print(\"Executing with \", gpus[0].name if len(gpus) != 0 else \"CPU\")"
   ]
  },
  {
   "cell_type": "code",
   "execution_count": 82,
   "metadata": {},
   "outputs": [
    {
     "name": "stdout",
     "output_type": "stream",
     "text": [
      "Reloading Tuner from KT_dir/KT_pos/tuner0.json\n",
      "Search space summary\n",
      "Default search space size: 8\n",
      "use-layer-norm (Boolean)\n",
      "{'default': False, 'conditions': []}\n",
      "variational-dropout (Choice)\n",
      "{'default': 0.0, 'conditions': [], 'values': [0.0, 0.33], 'ordered': True}\n",
      "bidirectional-layers (Int)\n",
      "{'default': None, 'conditions': [], 'min_value': 1, 'max_value': 2, 'step': 1, 'sampling': 'linear'}\n",
      "self-attention-layers (Int)\n",
      "{'default': None, 'conditions': [], 'min_value': 1, 'max_value': 3, 'step': 1, 'sampling': 'linear'}\n",
      "self-attention-neurons-layer-0 (Int)\n",
      "{'default': None, 'conditions': [], 'min_value': 16, 'max_value': 512, 'step': 64, 'sampling': 'linear'}\n",
      "learning_rate (Choice)\n",
      "{'default': 0.01, 'conditions': [], 'values': [0.01, 0.001], 'ordered': True}\n",
      "self-attention-neurons-layer-1 (Int)\n",
      "{'default': None, 'conditions': [], 'min_value': 16, 'max_value': 512, 'step': 64, 'sampling': 'linear'}\n",
      "self-attention-neurons-layer-2 (Int)\n",
      "{'default': None, 'conditions': [], 'min_value': 16, 'max_value': 512, 'step': 64, 'sampling': 'linear'}\n"
     ]
    }
   ],
   "source": [
    "import keras_tuner as kt\n",
    "from tasks.tuning import tune_self_attention_gru\n",
    "\n",
    "\n",
    "def search_pos_rnn(hp: kt.HyperParameters):\n",
    "    input_layers = [\n",
    "        Input(shape=(1,), dtype=tf.string),\n",
    "        vectorizer,\n",
    "        Embedding(\n",
    "            MAX_WORDS,\n",
    "            EMBEDDING_DIM,\n",
    "            weights=[embedding_matrix],\n",
    "            input_length=MAX_SEQUENCE_LENGTH,\n",
    "            mask_zero=True,\n",
    "            trainable=False,\n",
    "        ),\n",
    "    ]\n",
    "\n",
    "    return tune_self_attention_gru(\n",
    "        hp,\n",
    "        input_layers=input_layers,\n",
    "        output_size=len(np.unique(train_df.pos)),\n",
    "        bidirect_num_min=1,\n",
    "        bidirect_num_max=2,\n",
    "        self_attention_num_min=1,\n",
    "        self_attention_num_max=2,\n",
    "        self_attention_neurons_min=16,\n",
    "        self_attention_neurons_max=512,\n",
    "        self_attention_neurons_step=64,\n",
    "        lr_values = [1e-2/2, 1e-3, 1e-4],\n",
    "        metrics=[\"categorical_accuracy\"],\n",
    "        loss=\"categorical_crossentropy\",\n",
    "    )\n",
    "\n",
    "\n",
    "tuner = kt.RandomSearch(\n",
    "    search_pos_rnn,\n",
    "    objective=kt.Objective(\"val_categorical_accuracy\", direction=\"max\"),\n",
    "    max_trials=16,\n",
    "    directory=\"KT_dir\",\n",
    "    project_name=\"KT_pos\",\n",
    ")\n",
    "\n",
    "tuner.search_space_summary()"
   ]
  },
  {
   "cell_type": "code",
   "execution_count": 83,
   "metadata": {},
   "outputs": [],
   "source": [
    "# do not save weights to save time, just pick the best model\n",
    "early_stopping = EarlyStopping(monitor='val_categorical_accuracy', patience=2)\n",
    "\n",
    "tuner.search(train_data,\n",
    "             y_train,\n",
    "             validation_data=(val_data, y_valid), \n",
    "             epochs=30, \n",
    "             batch_size=256, # large batch size to fit more calculations\n",
    "             shuffle=True,\n",
    "             callbacks=[early_stopping, util.Metrics(valid_data=(val_data, y_valid))])"
   ]
  },
  {
   "cell_type": "code",
   "execution_count": 84,
   "metadata": {},
   "outputs": [
    {
     "data": {
      "text/plain": [
       "[<keras_tuner.src.engine.hyperparameters.hyperparameters.HyperParameters at 0x7fd0d5a4eac0>]"
      ]
     },
     "execution_count": 84,
     "metadata": {},
     "output_type": "execute_result"
    }
   ],
   "source": [
    "tuner.get_best_hyperparameters()"
   ]
  },
  {
   "cell_type": "code",
   "execution_count": 85,
   "metadata": {},
   "outputs": [
    {
     "name": "stdout",
     "output_type": "stream",
     "text": [
      "WARNING:tensorflow:Detecting that an object or model or tf.train.Checkpoint is being deleted with unrestored values. See the following logs for the specific values in question. To silence these warnings, use `status.expect_partial()`. See https://www.tensorflow.org/api_docs/python/tf/train/Checkpoint#restorefor details about the status object returned by the restore function.\n",
      "WARNING:tensorflow:Value in checkpoint could not be found in the restored object: (root).optimizer._variables.1\n",
      "WARNING:tensorflow:Value in checkpoint could not be found in the restored object: (root).optimizer._variables.2\n",
      "WARNING:tensorflow:Value in checkpoint could not be found in the restored object: (root).optimizer._variables.3\n",
      "WARNING:tensorflow:Value in checkpoint could not be found in the restored object: (root).optimizer._variables.4\n",
      "WARNING:tensorflow:Value in checkpoint could not be found in the restored object: (root).optimizer._variables.5\n",
      "WARNING:tensorflow:Value in checkpoint could not be found in the restored object: (root).optimizer._variables.6\n",
      "WARNING:tensorflow:Value in checkpoint could not be found in the restored object: (root).optimizer._variables.7\n",
      "WARNING:tensorflow:Value in checkpoint could not be found in the restored object: (root).optimizer._variables.8\n",
      "WARNING:tensorflow:Value in checkpoint could not be found in the restored object: (root).optimizer._variables.9\n",
      "WARNING:tensorflow:Value in checkpoint could not be found in the restored object: (root).optimizer._variables.10\n",
      "WARNING:tensorflow:Value in checkpoint could not be found in the restored object: (root).optimizer._variables.11\n",
      "WARNING:tensorflow:Value in checkpoint could not be found in the restored object: (root).optimizer._variables.12\n",
      "WARNING:tensorflow:Value in checkpoint could not be found in the restored object: (root).optimizer._variables.13\n",
      "WARNING:tensorflow:Value in checkpoint could not be found in the restored object: (root).optimizer._variables.14\n",
      "WARNING:tensorflow:Value in checkpoint could not be found in the restored object: (root).optimizer._variables.15\n",
      "WARNING:tensorflow:Value in checkpoint could not be found in the restored object: (root).optimizer._variables.16\n",
      "WARNING:tensorflow:Value in checkpoint could not be found in the restored object: (root).optimizer._variables.17\n",
      "WARNING:tensorflow:Value in checkpoint could not be found in the restored object: (root).optimizer._variables.18\n",
      "WARNING:tensorflow:Value in checkpoint could not be found in the restored object: (root).optimizer._variables.19\n",
      "WARNING:tensorflow:Value in checkpoint could not be found in the restored object: (root).optimizer._variables.20\n",
      "WARNING:tensorflow:Value in checkpoint could not be found in the restored object: (root).optimizer._variables.21\n",
      "WARNING:tensorflow:Value in checkpoint could not be found in the restored object: (root).optimizer._variables.22\n",
      "WARNING:tensorflow:Value in checkpoint could not be found in the restored object: (root).optimizer._variables.23\n",
      "WARNING:tensorflow:Value in checkpoint could not be found in the restored object: (root).optimizer._variables.24\n",
      "WARNING:tensorflow:Value in checkpoint could not be found in the restored object: (root).optimizer._variables.25\n",
      "WARNING:tensorflow:Value in checkpoint could not be found in the restored object: (root).optimizer._variables.26\n",
      "WARNING:tensorflow:Value in checkpoint could not be found in the restored object: (root).optimizer._variables.27\n",
      "WARNING:tensorflow:Value in checkpoint could not be found in the restored object: (root).optimizer._variables.28\n",
      "WARNING:tensorflow:Value in checkpoint could not be found in the restored object: (root).optimizer._variables.29\n",
      "WARNING:tensorflow:Value in checkpoint could not be found in the restored object: (root).optimizer._variables.30\n",
      "WARNING:tensorflow:Value in checkpoint could not be found in the restored object: (root).optimizer._variables.31\n",
      "WARNING:tensorflow:Value in checkpoint could not be found in the restored object: (root).optimizer._variables.32\n",
      "Model: \"sequential\"\n",
      "_________________________________________________________________\n",
      " Layer (type)                Output Shape              Param #   \n",
      "=================================================================\n",
      " text_vectorization (TextVe  (None, 39)                0         \n",
      " ctorization)                                                    \n",
      "                                                                 \n",
      " embedding (Embedding)       (None, 39, 300)           4996200   \n",
      "                                                                 \n",
      " bidirectional (Bidirection  (None, 39, 600)           1083600   \n",
      " al)                                                             \n",
      "                                                                 \n",
      " dropout (Dropout)           (None, 39, 600)           0         \n",
      "                                                                 \n",
      " self_attention (SelfAttent  (None, 600)               284289    \n",
      " ion)                                                            \n",
      "                                                                 \n",
      " dense_4 (Dense)             (None, 17)                10217     \n",
      "                                                                 \n",
      "=================================================================\n",
      "Total params: 6374306 (24.32 MB)\n",
      "Trainable params: 1378106 (5.26 MB)\n",
      "Non-trainable params: 4996200 (19.06 MB)\n",
      "_________________________________________________________________\n"
     ]
    }
   ],
   "source": [
    "optimal_parameters = tuner.get_best_hyperparameters()[0].values\n",
    "\n",
    "best_model = tuner.get_best_models(num_models=1)[0]\n",
    "best_model.save(os.path.join(OUTPUT_DIR, \"rnn_model.keras\"))\n",
    "best_model.summary()"
   ]
  },
  {
   "cell_type": "code",
   "execution_count": 86,
   "metadata": {},
   "outputs": [
    {
     "name": "stdout",
     "output_type": "stream",
     "text": [
      "WARNING:tensorflow:Detecting that an object or model or tf.train.Checkpoint is being deleted with unrestored values. See the following logs for the specific values in question. To silence these warnings, use `status.expect_partial()`. See https://www.tensorflow.org/api_docs/python/tf/train/Checkpoint#restorefor details about the status object returned by the restore function.\n",
      "WARNING:tensorflow:Value in checkpoint could not be found in the restored object: (root).optimizer._variables.1\n",
      "WARNING:tensorflow:Value in checkpoint could not be found in the restored object: (root).optimizer._variables.2\n",
      "WARNING:tensorflow:Value in checkpoint could not be found in the restored object: (root).optimizer._variables.3\n",
      "WARNING:tensorflow:Value in checkpoint could not be found in the restored object: (root).optimizer._variables.4\n",
      "WARNING:tensorflow:Value in checkpoint could not be found in the restored object: (root).optimizer._variables.5\n",
      "WARNING:tensorflow:Value in checkpoint could not be found in the restored object: (root).optimizer._variables.6\n",
      "WARNING:tensorflow:Value in checkpoint could not be found in the restored object: (root).optimizer._variables.7\n",
      "WARNING:tensorflow:Value in checkpoint could not be found in the restored object: (root).optimizer._variables.8\n",
      "WARNING:tensorflow:Value in checkpoint could not be found in the restored object: (root).optimizer._variables.9\n",
      "WARNING:tensorflow:Value in checkpoint could not be found in the restored object: (root).optimizer._variables.10\n",
      "WARNING:tensorflow:Value in checkpoint could not be found in the restored object: (root).optimizer._variables.11\n",
      "WARNING:tensorflow:Value in checkpoint could not be found in the restored object: (root).optimizer._variables.12\n",
      "WARNING:tensorflow:Value in checkpoint could not be found in the restored object: (root).optimizer._variables.13\n",
      "WARNING:tensorflow:Value in checkpoint could not be found in the restored object: (root).optimizer._variables.14\n",
      "WARNING:tensorflow:Value in checkpoint could not be found in the restored object: (root).optimizer._variables.15\n",
      "WARNING:tensorflow:Value in checkpoint could not be found in the restored object: (root).optimizer._variables.16\n",
      "WARNING:tensorflow:Value in checkpoint could not be found in the restored object: (root).optimizer._variables.17\n",
      "WARNING:tensorflow:Value in checkpoint could not be found in the restored object: (root).optimizer._variables.18\n",
      "WARNING:tensorflow:Value in checkpoint could not be found in the restored object: (root).optimizer._variables.19\n",
      "WARNING:tensorflow:Value in checkpoint could not be found in the restored object: (root).optimizer._variables.20\n",
      "WARNING:tensorflow:Value in checkpoint could not be found in the restored object: (root).optimizer._variables.21\n",
      "WARNING:tensorflow:Value in checkpoint could not be found in the restored object: (root).optimizer._variables.22\n",
      "WARNING:tensorflow:Value in checkpoint could not be found in the restored object: (root).optimizer._variables.23\n",
      "WARNING:tensorflow:Value in checkpoint could not be found in the restored object: (root).optimizer._variables.24\n",
      "WARNING:tensorflow:Value in checkpoint could not be found in the restored object: (root).optimizer._variables.25\n",
      "WARNING:tensorflow:Value in checkpoint could not be found in the restored object: (root).optimizer._variables.26\n",
      "WARNING:tensorflow:Value in checkpoint could not be found in the restored object: (root).optimizer._variables.27\n",
      "WARNING:tensorflow:Value in checkpoint could not be found in the restored object: (root).optimizer._variables.28\n",
      "WARNING:tensorflow:Value in checkpoint could not be found in the restored object: (root).optimizer._variables.29\n",
      "WARNING:tensorflow:Value in checkpoint could not be found in the restored object: (root).optimizer._variables.30\n",
      "WARNING:tensorflow:Value in checkpoint could not be found in the restored object: (root).optimizer._variables.31\n",
      "WARNING:tensorflow:Value in checkpoint could not be found in the restored object: (root).optimizer._variables.32\n",
      "Epoch 1/80\n"
     ]
    },
    {
     "name": "stderr",
     "output_type": "stream",
     "text": [
      "2024-02-21 12:00:30.717642: W tensorflow/core/common_runtime/type_inference.cc:339] Type inference failed. This indicates an invalid graph that escaped type checking. Error message: INVALID_ARGUMENT: expected compatible input types, but input 1:\n",
      "type_id: TFT_OPTIONAL\n",
      "args {\n",
      "  type_id: TFT_PRODUCT\n",
      "  args {\n",
      "    type_id: TFT_TENSOR\n",
      "    args {\n",
      "      type_id: TFT_FLOAT\n",
      "    }\n",
      "  }\n",
      "}\n",
      " is neither a subtype nor a supertype of the combined inputs preceding it:\n",
      "type_id: TFT_OPTIONAL\n",
      "args {\n",
      "  type_id: TFT_PRODUCT\n",
      "  args {\n",
      "    type_id: TFT_TENSOR\n",
      "    args {\n",
      "      type_id: TFT_INT32\n",
      "    }\n",
      "  }\n",
      "}\n",
      "\n",
      "\tfor Tuple type infernce function 0\n",
      "\twhile inferring type of node 'cond_37/output/_20'\n",
      "2024-02-21 12:00:33.464427: I external/local_xla/xla/service/service.cc:168] XLA service 0x7fce28682310 initialized for platform CUDA (this does not guarantee that XLA will be used). Devices:\n",
      "2024-02-21 12:00:33.464504: I external/local_xla/xla/service/service.cc:176]   StreamExecutor device (0): NVIDIA GeForce GTX 960M, Compute Capability 5.0\n",
      "2024-02-21 12:00:33.545693: I tensorflow/compiler/mlir/tensorflow/utils/dump_mlir_util.cc:269] disabling MLIR crash reproducer, set env var `MLIR_CRASH_REPRODUCER_DIRECTORY` to enable.\n",
      "2024-02-21 12:00:33.718808: I external/local_xla/xla/stream_executor/cuda/cuda_dnn.cc:454] Loaded cuDNN version 8904\n",
      "WARNING: All log messages before absl::InitializeLog() is called are written to STDERR\n",
      "I0000 00:00:1708509633.907554   52641 device_compiler.h:186] Compiled cluster using XLA!  This line is logged at most once for the lifetime of the process.\n"
     ]
    },
    {
     "name": "stdout",
     "output_type": "stream",
     "text": [
      "786/786 [==============================] - 21s 23ms/step\n",
      " — val_f1: 0.840046 — val_precision: 0.853598 — val_recall: 0.846970\n",
      "800/800 [==============================] - 220s 256ms/step - loss: 0.8512 - categorical_accuracy: 0.8238 - val_loss: 0.7072 - val_categorical_accuracy: 0.8470 - val_f1: 0.8400 - val_recall: 0.8470 - val_precision: 0.8536\n",
      "Epoch 2/80\n",
      "786/786 [==============================] - 18s 22ms/step\n",
      " — val_f1: 0.839221 — val_precision: 0.857075 — val_recall: 0.848163\n",
      "800/800 [==============================] - 199s 249ms/step - loss: 0.5226 - categorical_accuracy: 0.8825 - val_loss: 0.5798 - val_categorical_accuracy: 0.8482 - val_f1: 0.8392 - val_recall: 0.8482 - val_precision: 0.8571\n",
      "Epoch 3/80\n",
      "786/786 [==============================] - 17s 22ms/step\n",
      " — val_f1: 0.846980 — val_precision: 0.861283 — val_recall: 0.854882\n",
      "800/800 [==============================] - 200s 250ms/step - loss: 0.4256 - categorical_accuracy: 0.8872 - val_loss: 0.5153 - val_categorical_accuracy: 0.8549 - val_f1: 0.8470 - val_recall: 0.8549 - val_precision: 0.8613\n",
      "Epoch 4/80\n",
      "786/786 [==============================] - 16s 20ms/step\n",
      " — val_f1: 0.849809 — val_precision: 0.865259 — val_recall: 0.856115\n",
      "800/800 [==============================] - 196s 245ms/step - loss: 0.3764 - categorical_accuracy: 0.8897 - val_loss: 0.4857 - val_categorical_accuracy: 0.8561 - val_f1: 0.8498 - val_recall: 0.8561 - val_precision: 0.8653\n",
      "Epoch 5/80\n",
      "786/786 [==============================] - 21s 27ms/step\n",
      " — val_f1: 0.850952 — val_precision: 0.866357 — val_recall: 0.857069\n",
      "800/800 [==============================] - 204s 255ms/step - loss: 0.3505 - categorical_accuracy: 0.8912 - val_loss: 0.4704 - val_categorical_accuracy: 0.8571 - val_f1: 0.8510 - val_recall: 0.8571 - val_precision: 0.8664\n",
      "Epoch 6/80\n",
      "786/786 [==============================] - 18s 23ms/step\n",
      " — val_f1: 0.851235 — val_precision: 0.867264 — val_recall: 0.857665\n",
      "800/800 [==============================] - 203s 254ms/step - loss: 0.3341 - categorical_accuracy: 0.8931 - val_loss: 0.4597 - val_categorical_accuracy: 0.8577 - val_f1: 0.8512 - val_recall: 0.8577 - val_precision: 0.8673\n",
      "Epoch 7/80\n",
      "786/786 [==============================] - 17s 22ms/step\n",
      " — val_f1: 0.849070 — val_precision: 0.862580 — val_recall: 0.854843\n",
      "800/800 [==============================] - 180s 225ms/step - loss: 0.3235 - categorical_accuracy: 0.8938 - val_loss: 0.4523 - val_categorical_accuracy: 0.8548 - val_f1: 0.8491 - val_recall: 0.8548 - val_precision: 0.8626\n",
      "Epoch 8/80\n",
      "786/786 [==============================] - 18s 22ms/step\n",
      " — val_f1: 0.849611 — val_precision: 0.867938 — val_recall: 0.856353\n",
      "800/800 [==============================] - 182s 227ms/step - loss: 0.3169 - categorical_accuracy: 0.8943 - val_loss: 0.4511 - val_categorical_accuracy: 0.8564 - val_f1: 0.8496 - val_recall: 0.8564 - val_precision: 0.8679\n",
      "Epoch 9/80\n",
      "786/786 [==============================] - 17s 22ms/step\n",
      " — val_f1: 0.852826 — val_precision: 0.871509 — val_recall: 0.859256\n",
      "800/800 [==============================] - 182s 227ms/step - loss: 0.3103 - categorical_accuracy: 0.8955 - val_loss: 0.4460 - val_categorical_accuracy: 0.8593 - val_f1: 0.8528 - val_recall: 0.8593 - val_precision: 0.8715\n",
      "Epoch 10/80\n",
      "786/786 [==============================] - 18s 23ms/step\n",
      " — val_f1: 0.851148 — val_precision: 0.870279 — val_recall: 0.858938\n",
      "800/800 [==============================] - 194s 242ms/step - loss: 0.3057 - categorical_accuracy: 0.8961 - val_loss: 0.4466 - val_categorical_accuracy: 0.8589 - val_f1: 0.8511 - val_recall: 0.8589 - val_precision: 0.8703\n",
      "Epoch 11/80\n",
      "786/786 [==============================] - 15s 20ms/step\n",
      " — val_f1: 0.851218 — val_precision: 0.868470 — val_recall: 0.857268\n",
      "800/800 [==============================] - 188s 235ms/step - loss: 0.3013 - categorical_accuracy: 0.8962 - val_loss: 0.4504 - val_categorical_accuracy: 0.8573 - val_f1: 0.8512 - val_recall: 0.8573 - val_precision: 0.8685\n",
      "Epoch 12/80\n",
      "786/786 [==============================] - 15s 19ms/step\n",
      " — val_f1: 0.854369 — val_precision: 0.867819 — val_recall: 0.860409\n",
      "800/800 [==============================] - 192s 240ms/step - loss: 0.2983 - categorical_accuracy: 0.8974 - val_loss: 0.4492 - val_categorical_accuracy: 0.8604 - val_f1: 0.8544 - val_recall: 0.8604 - val_precision: 0.8678\n",
      "Epoch 13/80\n",
      "786/786 [==============================] - 15s 19ms/step\n",
      " — val_f1: 0.851062 — val_precision: 0.869884 — val_recall: 0.858938\n",
      "800/800 [==============================] - 191s 239ms/step - loss: 0.2947 - categorical_accuracy: 0.8977 - val_loss: 0.4406 - val_categorical_accuracy: 0.8589 - val_f1: 0.8511 - val_recall: 0.8589 - val_precision: 0.8699\n",
      "Epoch 14/80\n",
      "786/786 [==============================] - 15s 20ms/step\n",
      " — val_f1: 0.853999 — val_precision: 0.869730 — val_recall: 0.859812\n",
      "800/800 [==============================] - 193s 241ms/step - loss: 0.2922 - categorical_accuracy: 0.8983 - val_loss: 0.4444 - val_categorical_accuracy: 0.8598 - val_f1: 0.8540 - val_recall: 0.8598 - val_precision: 0.8697\n",
      "Epoch 15/80\n",
      "786/786 [==============================] - 15s 20ms/step\n",
      " — val_f1: 0.854431 — val_precision: 0.871135 — val_recall: 0.860926\n",
      "800/800 [==============================] - 192s 240ms/step - loss: 0.2899 - categorical_accuracy: 0.8990 - val_loss: 0.4505 - val_categorical_accuracy: 0.8609 - val_f1: 0.8544 - val_recall: 0.8609 - val_precision: 0.8711\n",
      "Epoch 16/80\n",
      "786/786 [==============================] - 15s 20ms/step\n",
      " — val_f1: 0.851421 — val_precision: 0.866511 — val_recall: 0.858898\n",
      "800/800 [==============================] - 192s 240ms/step - loss: 0.2869 - categorical_accuracy: 0.9000 - val_loss: 0.4390 - val_categorical_accuracy: 0.8589 - val_f1: 0.8514 - val_recall: 0.8589 - val_precision: 0.8665\n",
      "Epoch 17/80\n",
      "786/786 [==============================] - 15s 20ms/step\n",
      " — val_f1: 0.854085 — val_precision: 0.872043 — val_recall: 0.861920\n",
      "800/800 [==============================] - 192s 240ms/step - loss: 0.2848 - categorical_accuracy: 0.8997 - val_loss: 0.4478 - val_categorical_accuracy: 0.8619 - val_f1: 0.8541 - val_recall: 0.8619 - val_precision: 0.8720\n",
      "Epoch 18/80\n",
      "786/786 [==============================] - 15s 19ms/step\n",
      " — val_f1: 0.850788 — val_precision: 0.867843 — val_recall: 0.859097\n",
      "800/800 [==============================] - 192s 240ms/step - loss: 0.2830 - categorical_accuracy: 0.9000 - val_loss: 0.4458 - val_categorical_accuracy: 0.8591 - val_f1: 0.8508 - val_recall: 0.8591 - val_precision: 0.8678\n",
      "Epoch 19/80\n",
      "786/786 [==============================] - 15s 20ms/step\n",
      " — val_f1: 0.850487 — val_precision: 0.868233 — val_recall: 0.858818\n",
      "800/800 [==============================] - 193s 241ms/step - loss: 0.2805 - categorical_accuracy: 0.9010 - val_loss: 0.4563 - val_categorical_accuracy: 0.8588 - val_f1: 0.8505 - val_recall: 0.8588 - val_precision: 0.8682\n",
      "Epoch 20/80\n",
      "786/786 [==============================] - 15s 19ms/step\n",
      " — val_f1: 0.852164 — val_precision: 0.866642 — val_recall: 0.858421\n",
      "800/800 [==============================] - 192s 240ms/step - loss: 0.2787 - categorical_accuracy: 0.9011 - val_loss: 0.4395 - val_categorical_accuracy: 0.8584 - val_f1: 0.8522 - val_recall: 0.8584 - val_precision: 0.8666\n",
      "Epoch 21/80\n",
      "786/786 [==============================] - 15s 19ms/step\n",
      " — val_f1: 0.852085 — val_precision: 0.869578 — val_recall: 0.857944\n",
      "800/800 [==============================] - 191s 239ms/step - loss: 0.2767 - categorical_accuracy: 0.9017 - val_loss: 0.4532 - val_categorical_accuracy: 0.8579 - val_f1: 0.8521 - val_recall: 0.8579 - val_precision: 0.8696\n",
      "Epoch 22/80\n",
      "786/786 [==============================] - 15s 19ms/step\n",
      " — val_f1: 0.854085 — val_precision: 0.872043 — val_recall: 0.861920\n",
      "800/800 [==============================] - 191s 238ms/step - loss: 0.2759 - categorical_accuracy: 0.9016 - val_loss: 0.4462 - val_categorical_accuracy: 0.8619 - val_f1: 0.8541 - val_recall: 0.8619 - val_precision: 0.8720\n"
     ]
    }
   ],
   "source": [
    "# save pretrained weights\n",
    "vect_layer_weights = best_model.get_layer(\"text_vectorization\").get_weights().copy()\n",
    "embed_layer_weights = best_model.get_layer(\"embedding\").get_weights().copy()\n",
    "\n",
    "# reset all model weights\n",
    "best_model = tf.keras.models.clone_model(best_model)\n",
    "\n",
    "# restore pretrained word embedding and vectorization layers\n",
    "best_model.get_layer(\"text_vectorization\").set_weights(vect_layer_weights)\n",
    "embed_layer_weights = best_model.get_layer(\"embedding\").set_weights(\n",
    "    embed_layer_weights\n",
    ")\n",
    "\n",
    "prod_early_stopping = EarlyStopping(\n",
    "    monitor=\"val_categorical_accuracy\", patience=5, restore_best_weights=True\n",
    ")\n",
    "\n",
    "# retrain re-initialized model now with history and more forgiving early stopping\n",
    "best_model.compile(\n",
    "    loss=\"categorical_crossentropy\",\n",
    "    optimizer=tf.keras.optimizers.Adam(\n",
    "        learning_rate=optimal_parameters[\"learning_rate\"]\n",
    "    ),\n",
    "    metrics=[\"categorical_accuracy\"],\n",
    ")\n",
    "\n",
    "history = best_model.fit(\n",
    "    train_data,\n",
    "    y_train,\n",
    "    validation_data=(val_data, y_valid),\n",
    "    batch_size=256,\n",
    "    epochs=80,\n",
    "    shuffle=True,\n",
    "    callbacks=[prod_early_stopping, util.Metrics(valid_data=(val_data, y_valid))],\n",
    ")"
   ]
  },
  {
   "cell_type": "code",
   "execution_count": 87,
   "metadata": {},
   "outputs": [
    {
     "name": "stdout",
     "output_type": "stream",
     "text": [
      "Figured saved to output/ex_2_fit.png\n"
     ]
    },
    {
     "data": {
      "image/png": "[encoded data removed]",
      "text/plain": [
       "<Figure size 850x450 with 2 Axes>"
      ]
     },
     "metadata": {},
     "output_type": "display_data"
    }
   ],
   "source": [
    "fig, (ax1, ax2) = plt.subplots(1, 2)\n",
    "ax1.plot(history.history['categorical_accuracy'])\n",
    "ax1.plot(history.history['val_categorical_accuracy'])\n",
    "ax1.set_title('Model Accuracy')\n",
    "ax1.set_ylabel('Categorical Accuracy')\n",
    "ax1.set_xlabel('epoch')\n",
    "\n",
    "# summarize history for loss\n",
    "ax2.plot(history.history['loss'])\n",
    "ax2.plot(history.history['val_loss'])\n",
    "ax2.set_title('Model Loss')\n",
    "ax2.set_ylabel('loss')\n",
    "ax2.set_xlabel('epoch')\n",
    "\n",
    "fig.suptitle(\"RNN POS Tagger Training Statistics\")\n",
    "fig.set_size_inches(8.5, 4.5)\n",
    "\n",
    "plt.legend(['train', 'dev'], loc='upper right')\n",
    "plt.tight_layout()\n",
    "\n",
    "util.save_plot(\"ex_2_fit.png\", OUTPUT_DIR)\n",
    "plt.show()"
   ]
  },
  {
   "cell_type": "markdown",
   "metadata": {},
   "source": [
    "## Results\n",
    "\n",
    "We will now calculate and export the results of our RNN, MLP and baseline classifiers on the training, validation and test sets. We will be using precision, recall and f1 scores as metrics. We **can not use PR-AUC scores**, since they are only defined for binary classification tasks."
   ]
  },
  {
   "cell_type": "code",
   "execution_count": 88,
   "metadata": {},
   "outputs": [],
   "source": [
    "base_res_df = util.stats_all_splits(base_cls,\n",
    "                             lambda x: np.array(x),\n",
    "                             x_base_train,\n",
    "                             x_base_valid,\n",
    "                             x_base_test,\n",
    "                             y_base_train,\n",
    "                             y_base_valid,\n",
    "                             y_base_test)\n",
    "base_res_df[\"model\"] = \"Baseline\""
   ]
  },
  {
   "cell_type": "code",
   "execution_count": 89,
   "metadata": {},
   "outputs": [
    {
     "name": "stdout",
     "output_type": "stream",
     "text": [
      "782/782 [==============================] - 1s 1ms/step\n",
      "751/751 [==============================] - 1s 1ms/step\n",
      "313/313 [==============================] - 0s 1ms/step\n"
     ]
    }
   ],
   "source": [
    "mlp_res_df = util.stats_all_splits(mlp,\n",
    "                             lambda x: lb_mlp.inverse_transform(x),\n",
    "                             x_train_mlp,\n",
    "                             x_valid_mlp,\n",
    "                             x_test_mlp, \n",
    "                             y_train_mlp, \n",
    "                             y_valid_mlp, \n",
    "                             y_test_mlp)\n",
    "mlp_res_df[\"model\"] = \"MLP\""
   ]
  },
  {
   "cell_type": "code",
   "execution_count": 90,
   "metadata": {},
   "outputs": [
    {
     "name": "stdout",
     "output_type": "stream",
     "text": [
      "6395/6395 [==============================] - 126s 19ms/step\n",
      "786/786 [==============================] - 15s 20ms/step\n",
      "785/785 [==============================] - 15s 19ms/step\n"
     ]
    }
   ],
   "source": [
    "rnn_res_df = util.stats_all_splits(best_model,\n",
    "                             lambda x: rnn_lb.inverse_transform(x),\n",
    "                             train_data,\n",
    "                             val_data,\n",
    "                             test_data, \n",
    "                             y_train, \n",
    "                             y_valid, \n",
    "                             y_test)\n",
    "rnn_res_df[\"model\"] = \"RNN\""
   ]
  },
  {
   "cell_type": "code",
   "execution_count": 91,
   "metadata": {},
   "outputs": [],
   "source": [
    "final_df = pd.concat([base_res_df, mlp_res_df, rnn_res_df])\n",
    "\n",
    "final_train_df = final_df[final_df.split == \"training\"]\n",
    "final_valid_df = final_df[final_df.split == \"validation\"]\n",
    "final_test_df = final_df[final_df.split == \"test\"]\n",
    "\n",
    "final_train_df = final_train_df.drop(\"split\", axis=1)\n",
    "final_valid_df = final_valid_df.drop(\"split\", axis=1)\n",
    "final_test_df = final_test_df.drop(\"split\", axis=1)\n",
    "\n",
    "final_train_df = final_train_df.pivot(\n",
    "    index=\"tag\", columns=\"model\", values=[\"precision\", \"recall\", \"f1\"]\n",
    ")\n",
    "\n",
    "final_valid_df = final_valid_df.pivot(\n",
    "    index=\"tag\", columns=\"model\", values=[\"precision\", \"recall\", \"f1\"]\n",
    ")\n",
    "\n",
    "final_test_df = final_test_df.pivot(\n",
    "    index=\"tag\", columns=\"model\", values=[\"precision\", \"recall\", \"f1\"]\n",
    ")"
   ]
  },
  {
   "cell_type": "code",
   "execution_count": 92,
   "metadata": {},
   "outputs": [
    {
     "data": {
      "text/html": [
       "<div>\n",
       "<style scoped>\n",
       "    .dataframe tbody tr th:only-of-type {\n",
       "        vertical-align: middle;\n",
       "    }\n",
       "\n",
       "    .dataframe tbody tr th {\n",
       "        vertical-align: top;\n",
       "    }\n",
       "\n",
       "    .dataframe thead tr th {\n",
       "        text-align: left;\n",
       "    }\n",
       "\n",
       "    .dataframe thead tr:last-of-type th {\n",
       "        text-align: right;\n",
       "    }\n",
       "</style>\n",
       "<table border=\"1\" class=\"dataframe\">\n",
       "  <thead>\n",
       "    <tr>\n",
       "      <th></th>\n",
       "      <th colspan=\"3\" halign=\"left\">precision</th>\n",
       "      <th colspan=\"3\" halign=\"left\">recall</th>\n",
       "      <th colspan=\"3\" halign=\"left\">f1</th>\n",
       "    </tr>\n",
       "    <tr>\n",
       "      <th>model</th>\n",
       "      <th>Baseline</th>\n",
       "      <th>MLP</th>\n",
       "      <th>RNN</th>\n",
       "      <th>Baseline</th>\n",
       "      <th>MLP</th>\n",
       "      <th>RNN</th>\n",
       "      <th>Baseline</th>\n",
       "      <th>MLP</th>\n",
       "      <th>RNN</th>\n",
       "    </tr>\n",
       "    <tr>\n",
       "      <th>tag</th>\n",
       "      <th></th>\n",
       "      <th></th>\n",
       "      <th></th>\n",
       "      <th></th>\n",
       "      <th></th>\n",
       "      <th></th>\n",
       "      <th></th>\n",
       "      <th></th>\n",
       "      <th></th>\n",
       "    </tr>\n",
       "  </thead>\n",
       "  <tbody>\n",
       "    <tr>\n",
       "      <th>ADJ</th>\n",
       "      <td>1.000000</td>\n",
       "      <td>1.000000</td>\n",
       "      <td>1.000000</td>\n",
       "      <td>0.892944</td>\n",
       "      <td>0.927057</td>\n",
       "      <td>0.918187</td>\n",
       "      <td>0.943445</td>\n",
       "      <td>0.962148</td>\n",
       "      <td>0.957349</td>\n",
       "    </tr>\n",
       "    <tr>\n",
       "      <th>ADP</th>\n",
       "      <td>1.000000</td>\n",
       "      <td>1.000000</td>\n",
       "      <td>1.000000</td>\n",
       "      <td>0.665187</td>\n",
       "      <td>0.909570</td>\n",
       "      <td>0.880247</td>\n",
       "      <td>0.798934</td>\n",
       "      <td>0.952644</td>\n",
       "      <td>0.936310</td>\n",
       "    </tr>\n",
       "    <tr>\n",
       "      <th>ADV</th>\n",
       "      <td>1.000000</td>\n",
       "      <td>1.000000</td>\n",
       "      <td>1.000000</td>\n",
       "      <td>0.829625</td>\n",
       "      <td>0.856354</td>\n",
       "      <td>0.771087</td>\n",
       "      <td>0.906880</td>\n",
       "      <td>0.922619</td>\n",
       "      <td>0.870750</td>\n",
       "    </tr>\n",
       "    <tr>\n",
       "      <th>AUX</th>\n",
       "      <td>1.000000</td>\n",
       "      <td>1.000000</td>\n",
       "      <td>1.000000</td>\n",
       "      <td>0.785080</td>\n",
       "      <td>0.968977</td>\n",
       "      <td>0.904038</td>\n",
       "      <td>0.879602</td>\n",
       "      <td>0.984244</td>\n",
       "      <td>0.949601</td>\n",
       "    </tr>\n",
       "    <tr>\n",
       "      <th>CCONJ</th>\n",
       "      <td>1.000000</td>\n",
       "      <td>1.000000</td>\n",
       "      <td>1.000000</td>\n",
       "      <td>0.992673</td>\n",
       "      <td>0.993998</td>\n",
       "      <td>0.981459</td>\n",
       "      <td>0.996323</td>\n",
       "      <td>0.996990</td>\n",
       "      <td>0.990643</td>\n",
       "    </tr>\n",
       "    <tr>\n",
       "      <th>DET</th>\n",
       "      <td>1.000000</td>\n",
       "      <td>1.000000</td>\n",
       "      <td>1.000000</td>\n",
       "      <td>0.950795</td>\n",
       "      <td>0.973863</td>\n",
       "      <td>0.976992</td>\n",
       "      <td>0.974777</td>\n",
       "      <td>0.986758</td>\n",
       "      <td>0.988362</td>\n",
       "    </tr>\n",
       "    <tr>\n",
       "      <th>INTJ</th>\n",
       "      <td>1.000000</td>\n",
       "      <td>1.000000</td>\n",
       "      <td>1.000000</td>\n",
       "      <td>0.865801</td>\n",
       "      <td>0.855072</td>\n",
       "      <td>0.731602</td>\n",
       "      <td>0.928074</td>\n",
       "      <td>0.921875</td>\n",
       "      <td>0.845000</td>\n",
       "    </tr>\n",
       "    <tr>\n",
       "      <th>MACRO</th>\n",
       "      <td>0.850334</td>\n",
       "      <td>0.905588</td>\n",
       "      <td>0.901069</td>\n",
       "      <td>0.835269</td>\n",
       "      <td>0.879980</td>\n",
       "      <td>0.790805</td>\n",
       "      <td>0.836866</td>\n",
       "      <td>0.889973</td>\n",
       "      <td>0.804327</td>\n",
       "    </tr>\n",
       "    <tr>\n",
       "      <th>NOUN</th>\n",
       "      <td>1.000000</td>\n",
       "      <td>1.000000</td>\n",
       "      <td>1.000000</td>\n",
       "      <td>0.896102</td>\n",
       "      <td>0.940246</td>\n",
       "      <td>0.913193</td>\n",
       "      <td>0.945204</td>\n",
       "      <td>0.969203</td>\n",
       "      <td>0.954627</td>\n",
       "    </tr>\n",
       "    <tr>\n",
       "      <th>NUM</th>\n",
       "      <td>1.000000</td>\n",
       "      <td>1.000000</td>\n",
       "      <td>1.000000</td>\n",
       "      <td>0.889966</td>\n",
       "      <td>0.965377</td>\n",
       "      <td>0.977945</td>\n",
       "      <td>0.941780</td>\n",
       "      <td>0.982383</td>\n",
       "      <td>0.988849</td>\n",
       "    </tr>\n",
       "    <tr>\n",
       "      <th>PART</th>\n",
       "      <td>1.000000</td>\n",
       "      <td>1.000000</td>\n",
       "      <td>1.000000</td>\n",
       "      <td>0.885525</td>\n",
       "      <td>0.953717</td>\n",
       "      <td>0.988866</td>\n",
       "      <td>0.939288</td>\n",
       "      <td>0.976310</td>\n",
       "      <td>0.994402</td>\n",
       "    </tr>\n",
       "    <tr>\n",
       "      <th>PRON</th>\n",
       "      <td>1.000000</td>\n",
       "      <td>1.000000</td>\n",
       "      <td>1.000000</td>\n",
       "      <td>0.949737</td>\n",
       "      <td>0.967000</td>\n",
       "      <td>0.958856</td>\n",
       "      <td>0.974221</td>\n",
       "      <td>0.983223</td>\n",
       "      <td>0.978996</td>\n",
       "    </tr>\n",
       "    <tr>\n",
       "      <th>PROPN</th>\n",
       "      <td>1.000000</td>\n",
       "      <td>1.000000</td>\n",
       "      <td>1.000000</td>\n",
       "      <td>0.839270</td>\n",
       "      <td>0.830579</td>\n",
       "      <td>0.813874</td>\n",
       "      <td>0.912612</td>\n",
       "      <td>0.907449</td>\n",
       "      <td>0.897388</td>\n",
       "    </tr>\n",
       "    <tr>\n",
       "      <th>PUNCT</th>\n",
       "      <td>1.000000</td>\n",
       "      <td>1.000000</td>\n",
       "      <td>1.000000</td>\n",
       "      <td>0.988431</td>\n",
       "      <td>0.995726</td>\n",
       "      <td>0.998898</td>\n",
       "      <td>0.994182</td>\n",
       "      <td>0.997859</td>\n",
       "      <td>0.999449</td>\n",
       "    </tr>\n",
       "    <tr>\n",
       "      <th>SCONJ</th>\n",
       "      <td>1.000000</td>\n",
       "      <td>1.000000</td>\n",
       "      <td>1.000000</td>\n",
       "      <td>0.414952</td>\n",
       "      <td>0.699095</td>\n",
       "      <td>0.357385</td>\n",
       "      <td>0.586524</td>\n",
       "      <td>0.822903</td>\n",
       "      <td>0.526578</td>\n",
       "    </tr>\n",
       "    <tr>\n",
       "      <th>SYM</th>\n",
       "      <td>1.000000</td>\n",
       "      <td>1.000000</td>\n",
       "      <td>1.000000</td>\n",
       "      <td>0.826630</td>\n",
       "      <td>0.850575</td>\n",
       "      <td>0.008322</td>\n",
       "      <td>0.905087</td>\n",
       "      <td>0.919255</td>\n",
       "      <td>0.016506</td>\n",
       "    </tr>\n",
       "    <tr>\n",
       "      <th>VERB</th>\n",
       "      <td>1.000000</td>\n",
       "      <td>1.000000</td>\n",
       "      <td>1.000000</td>\n",
       "      <td>0.887227</td>\n",
       "      <td>0.893144</td>\n",
       "      <td>0.885191</td>\n",
       "      <td>0.940244</td>\n",
       "      <td>0.943556</td>\n",
       "      <td>0.939099</td>\n",
       "    </tr>\n",
       "    <tr>\n",
       "      <th>X</th>\n",
       "      <td>1.000000</td>\n",
       "      <td>1.000000</td>\n",
       "      <td>1.000000</td>\n",
       "      <td>0.639626</td>\n",
       "      <td>0.379310</td>\n",
       "      <td>0.377535</td>\n",
       "      <td>0.780209</td>\n",
       "      <td>0.550000</td>\n",
       "      <td>0.548131</td>\n",
       "    </tr>\n",
       "  </tbody>\n",
       "</table>\n",
       "</div>"
      ],
      "text/plain": [
       "      precision                        recall                            f1  \\\n",
       "model  Baseline       MLP       RNN  Baseline       MLP       RNN  Baseline   \n",
       "tag                                                                           \n",
       "ADJ    1.000000  1.000000  1.000000  0.892944  0.927057  0.918187  0.943445   \n",
       "ADP    1.000000  1.000000  1.000000  0.665187  0.909570  0.880247  0.798934   \n",
       "ADV    1.000000  1.000000  1.000000  0.829625  0.856354  0.771087  0.906880   \n",
       "AUX    1.000000  1.000000  1.000000  0.785080  0.968977  0.904038  0.879602   \n",
       "CCONJ  1.000000  1.000000  1.000000  0.992673  0.993998  0.981459  0.996323   \n",
       "DET    1.000000  1.000000  1.000000  0.950795  0.973863  0.976992  0.974777   \n",
       "INTJ   1.000000  1.000000  1.000000  0.865801  0.855072  0.731602  0.928074   \n",
       "MACRO  0.850334  0.905588  0.901069  0.835269  0.879980  0.790805  0.836866   \n",
       "NOUN   1.000000  1.000000  1.000000  0.896102  0.940246  0.913193  0.945204   \n",
       "NUM    1.000000  1.000000  1.000000  0.889966  0.965377  0.977945  0.941780   \n",
       "PART   1.000000  1.000000  1.000000  0.885525  0.953717  0.988866  0.939288   \n",
       "PRON   1.000000  1.000000  1.000000  0.949737  0.967000  0.958856  0.974221   \n",
       "PROPN  1.000000  1.000000  1.000000  0.839270  0.830579  0.813874  0.912612   \n",
       "PUNCT  1.000000  1.000000  1.000000  0.988431  0.995726  0.998898  0.994182   \n",
       "SCONJ  1.000000  1.000000  1.000000  0.414952  0.699095  0.357385  0.586524   \n",
       "SYM    1.000000  1.000000  1.000000  0.826630  0.850575  0.008322  0.905087   \n",
       "VERB   1.000000  1.000000  1.000000  0.887227  0.893144  0.885191  0.940244   \n",
       "X      1.000000  1.000000  1.000000  0.639626  0.379310  0.377535  0.780209   \n",
       "\n",
       "                           \n",
       "model       MLP       RNN  \n",
       "tag                        \n",
       "ADJ    0.962148  0.957349  \n",
       "ADP    0.952644  0.936310  \n",
       "ADV    0.922619  0.870750  \n",
       "AUX    0.984244  0.949601  \n",
       "CCONJ  0.996990  0.990643  \n",
       "DET    0.986758  0.988362  \n",
       "INTJ   0.921875  0.845000  \n",
       "MACRO  0.889973  0.804327  \n",
       "NOUN   0.969203  0.954627  \n",
       "NUM    0.982383  0.988849  \n",
       "PART   0.976310  0.994402  \n",
       "PRON   0.983223  0.978996  \n",
       "PROPN  0.907449  0.897388  \n",
       "PUNCT  0.997859  0.999449  \n",
       "SCONJ  0.822903  0.526578  \n",
       "SYM    0.919255  0.016506  \n",
       "VERB   0.943556  0.939099  \n",
       "X      0.550000  0.548131  "
      ]
     },
     "execution_count": 92,
     "metadata": {},
     "output_type": "execute_result"
    }
   ],
   "source": [
    "final_train_df"
   ]
  },
  {
   "cell_type": "code",
   "execution_count": 95,
   "metadata": {},
   "outputs": [],
   "source": [
    "def export_to_latex(df: pd.DataFrame, name:str, caption:str=None, index:bool=False):\n",
    "    \"\"\"\n",
    "    Export a pandas DataFrame to a LaTeX file.\n",
    "\n",
    "    :param df: The DataFrame to be exported.\n",
    "    :type df: pd.DataFrame\n",
    "\n",
    "    :param name: The name of the LaTeX file (excluding the '.tex' extension).\n",
    "    :type name: str\n",
    "\n",
    "    :param col_format: A string specifying the column formatting for the LaTeX table.\n",
    "    :type col_format: str\n",
    "\n",
    "    :param caption: The caption for the LaTeX table (optional).\n",
    "    :type caption: str, optional\n",
    "\n",
    "    :return: This function does not return anything.\n",
    "    \"\"\"\n",
    "    path = os.path.join(OUTPUT_DIR, name)\n",
    "    long_col_format = '|l|'*(df.shape[1] + (1 if index else 0))\n",
    "\n",
    "    df.to_latex(buf=path,\n",
    "                index=index,\n",
    "                formatters={\"name\": str.upper},\n",
    "                float_format=\"{:.3f}\".format,\n",
    "                label=\"tab::\" + name.split(\".\")[0],\n",
    "                caption=caption,\n",
    "                escape=True,\n",
    "                bold_rows= True,\n",
    "               encoding=\"utf-8\",\n",
    "               column_format=long_col_format)\n",
    "    print(f\"Dataframe exported to {path}\")\n"
   ]
  },
  {
   "cell_type": "code",
   "execution_count": 96,
   "metadata": {},
   "outputs": [
    {
     "name": "stdout",
     "output_type": "stream",
     "text": [
      "Dataframe exported to output/ex_2_train.tex\n",
      "Dataframe exported to output/ex_2_valid.tex\n",
      "Dataframe exported to output/ex_2_test.tex\n"
     ]
    }
   ],
   "source": [
    "export_to_latex(\n",
    "    final_train_df, \"ex_2_train.tex\", \"Results on the training dataset.\", index=True\n",
    ")\n",
    "\n",
    "export_to_latex(\n",
    "    final_valid_df,\n",
    "    \"ex_2_valid.tex\",\n",
    "    \"Results on the validation dataset.\",\n",
    "    index=True,\n",
    ")\n",
    "\n",
    "export_to_latex(\n",
    "    final_test_df, \"ex_2_test.tex\", \"Results on the test dataset.\", index=True\n",
    ")"
   ]
  }
 ],
 "metadata": {
  "kernelspec": {
   "display_name": "tf",
   "language": "python",
   "name": "python3"
  },
  "language_info": {
   "codemirror_mode": {
    "name": "ipython",
    "version": 3
   },
   "file_extension": ".py",
   "mimetype": "text/x-python",
   "name": "python",
   "nbconvert_exporter": "python",
   "pygments_lexer": "ipython3",
   "version": "3.9.18"
  }
 },
 "nbformat": 4,
 "nbformat_minor": 2
}
