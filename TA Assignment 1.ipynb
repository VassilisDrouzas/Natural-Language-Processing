{
 "cells": [
  {
   "cell_type": "code",
   "execution_count": 1,
   "id": "01ed7675-bc34-4445-a578-b4fd5d45513c",
   "metadata": {},
   "outputs": [
    {
     "name": "stderr",
     "output_type": "stream",
     "text": [
      "C:\\Users\\Drogias\\AppData\\Local\\Packages\\PythonSoftwareFoundation.Python.3.11_qbz5n2kfra8p0\\LocalCache\\local-packages\\Python311\\site-packages\\tqdm\\auto.py:21: TqdmWarning: IProgress not found. Please update jupyter and ipywidgets. See https://ipywidgets.readthedocs.io/en/stable/user_install.html\n",
      "  from .autonotebook import tqdm as notebook_tqdm\n"
     ]
    }
   ],
   "source": [
    "import sys\n",
    "\n",
    "import numpy as np\n",
    "import pandas as pd\n",
    "import matplotlib.pyplot as plt\n",
    "import nltk\n",
    "from tqdm.auto import tqdm"
   ]
  },
  {
   "cell_type": "code",
   "execution_count": 2,
   "id": "d315b5c2-3afe-4170-ad94-cca1948c5e44",
   "metadata": {},
   "outputs": [],
   "source": [
    "from src.conditional_ngram_models import BigramSpellCorrector, TrigramSpellCorrector\n",
    "from src.ngram_models import *"
   ]
  },
  {
   "cell_type": "markdown",
   "id": "b655134f-bc80-4046-9fe8-d5d298ec60b6",
   "metadata": {},
   "source": [
    "## The Dataset"
   ]
  },
  {
   "cell_type": "code",
   "execution_count": 3,
   "id": "9a56cbc6-9a6e-4c56-a1c0-7bbfe138ffbc",
   "metadata": {},
   "outputs": [
    {
     "name": "stderr",
     "output_type": "stream",
     "text": [
      "[nltk_data] Downloading package movie_reviews to\n",
      "[nltk_data]     C:\\Users\\Drogias\\AppData\\Roaming\\nltk_data...\n",
      "[nltk_data]   Package movie_reviews is already up-to-date!\n",
      "[nltk_data] Downloading package gutenberg to\n",
      "[nltk_data]     C:\\Users\\Drogias\\AppData\\Roaming\\nltk_data...\n",
      "[nltk_data]   Package gutenberg is already up-to-date!\n"
     ]
    },
    {
     "data": {
      "text/plain": [
       "True"
      ]
     },
     "execution_count": 3,
     "metadata": {},
     "output_type": "execute_result"
    }
   ],
   "source": [
    "nltk.download('movie_reviews')\n",
    "nltk.download('gutenberg')"
   ]
  },
  {
   "cell_type": "code",
   "execution_count": 4,
   "id": "a31a6ea9-5cc9-458b-baf0-a8213aed9a5f",
   "metadata": {
    "tags": []
   },
   "outputs": [],
   "source": [
    "movie_corpus = nltk.corpus.movie_reviews.fileids()                                 #Get all the files"
   ]
  },
  {
   "cell_type": "code",
   "execution_count": 5,
   "id": "b5abadc8-dd65-4eda-8a50-e3fd3a5f266e",
   "metadata": {},
   "outputs": [
    {
     "data": {
      "text/plain": [
       "['austen-emma.txt',\n",
       " 'austen-persuasion.txt',\n",
       " 'austen-sense.txt',\n",
       " 'bible-kjv.txt',\n",
       " 'blake-poems.txt',\n",
       " 'bryant-stories.txt',\n",
       " 'burgess-busterbrown.txt',\n",
       " 'carroll-alice.txt',\n",
       " 'chesterton-ball.txt',\n",
       " 'chesterton-brown.txt',\n",
       " 'chesterton-thursday.txt',\n",
       " 'edgeworth-parents.txt',\n",
       " 'melville-moby_dick.txt',\n",
       " 'milton-paradise.txt',\n",
       " 'shakespeare-caesar.txt',\n",
       " 'shakespeare-hamlet.txt',\n",
       " 'shakespeare-macbeth.txt',\n",
       " 'whitman-leaves.txt']"
      ]
     },
     "execution_count": 5,
     "metadata": {},
     "output_type": "execute_result"
    }
   ],
   "source": [
    "gutenberg_corpus = nltk.corpus.gutenberg.fileids()                                 #Get all the files\n",
    "gutenberg_corpus"
   ]
  },
  {
   "cell_type": "code",
   "execution_count": 6,
   "id": "2cc32923-8f7e-4aa8-acc9-f63e4ef3ee5c",
   "metadata": {},
   "outputs": [],
   "source": [
    "filtered_gutenberg_corpus = [                        #We wish to keep only these from gutenberg corpus\n",
    "    'austen-emma.txt', \n",
    "    'austen-persuasion.txt', \n",
    "    'austen-sense.txt', \n",
    "    'burgess-busterbrown.txt', \n",
    "    'carroll-alice.txt', \n",
    "    'chesterton-ball.txt',\n",
    "    'chesterton-brown.txt' ]"
   ]
  },
  {
   "cell_type": "code",
   "execution_count": 7,
   "id": "127b373c-f5d3-4cc0-b30b-ad973e431d6c",
   "metadata": {},
   "outputs": [
    {
     "name": "stdout",
     "output_type": "stream",
     "text": [
      "Loading Gutenberg corpus...\n"
     ]
    },
    {
     "name": "stderr",
     "output_type": "stream",
     "text": [
      "100%|███████████████████████████████████████████████████████████████████████████████████| 7/7 [00:00<00:00, 874.91it/s]\n"
     ]
    },
    {
     "name": "stdout",
     "output_type": "stream",
     "text": [
      "Loading Movie Review corpus...\n"
     ]
    },
    {
     "name": "stderr",
     "output_type": "stream",
     "text": [
      "100%|█████████████████████████████████████████████████████████████████████████████| 2000/2000 [00:05<00:00, 395.44it/s]"
     ]
    },
    {
     "name": "stdout",
     "output_type": "stream",
     "text": [
      "[Emma by Jane Austen 1816]\n",
      "\n",
      "VOLUME I\n",
      "\n",
      "CHAPTER I\n",
      "\n",
      "\n",
      "Emma Woodhouse, handsome, clever, and rich, with a comfortable home\n",
      "and happy disposition, seemed to unite some of the best blessings\n",
      "of existence; and had lived nearly twenty-one years in the world\n",
      "with very little to distress or vex her.\n",
      "\n",
      "She was the youngest of the two daughters of a most affectionate,\n",
      "indulgent father; and had, in consequence of her sister's marriage,\n",
      "been mistress of his house from a very early period.  Her mother\n",
      "had died t\n"
     ]
    },
    {
     "name": "stderr",
     "output_type": "stream",
     "text": [
      "\n"
     ]
    }
   ],
   "source": [
    "combined_text = \"\"   \n",
    "\n",
    "print(\"Loading Gutenberg corpus...\")\n",
    "for file_id in tqdm(filtered_gutenberg_corpus):                                        # Combine the text from all files\n",
    "    combined_text += nltk.corpus.gutenberg.raw(file_id)\n",
    "\n",
    "print(\"Loading Movie Review corpus...\")\n",
    "for file_id in tqdm(movie_corpus):\n",
    "    combined_text += nltk.corpus.movie_reviews.raw(file_id)\n",
    "    \n",
    "print(combined_text[:500])"
   ]
  },
  {
   "cell_type": "markdown",
   "id": "619901af-5500-4696-9bb3-60ec2936c870",
   "metadata": {},
   "source": [
    "## Data Preprocessing"
   ]
  },
  {
   "cell_type": "code",
   "execution_count": 8,
   "id": "725faba3-6271-4869-a5eb-e286e53765cf",
   "metadata": {},
   "outputs": [],
   "source": [
    "import re\n",
    "\n",
    "\n",
    "def remove_special_chars(text):\n",
    "    text = text.replace('[', '')\n",
    "    text = text.replace(']', '')\n",
    "    text = text.replace('\\n', ' ')\n",
    "    text = re.sub(r'[^a-zA-z.?!\\']', ' ', text)                     #Remove these characters   \n",
    "\n",
    "    return text"
   ]
  },
  {
   "cell_type": "code",
   "execution_count": 9,
   "id": "c005d031-258c-4efe-b9ef-1c5c6ab41f06",
   "metadata": {},
   "outputs": [
    {
     "data": {
      "text/plain": [
       "\"Emma by Jane Austen       VOLUME I  CHAPTER I   Emma Woodhouse  handsome  clever  and rich  with a comfortable home and happy disposition  seemed to unite some of the best blessings of existence  and had lived nearly twenty one years in the world with very little to distress or vex her.  She was the youngest of the two daughters of a most affectionate  indulgent father  and had  in consequence of her sister's marriage  been mistress of his house from a very early period.  Her mother had died too\""
      ]
     },
     "execution_count": 9,
     "metadata": {},
     "output_type": "execute_result"
    }
   ],
   "source": [
    "combined_text = remove_special_chars(combined_text)\n",
    "combined_text[:500]"
   ]
  },
  {
   "cell_type": "code",
   "execution_count": 10,
   "id": "4960fe7b-0bda-4053-bbda-446f86f670c5",
   "metadata": {},
   "outputs": [],
   "source": [
    "def tokenize_sentences(text):\n",
    "    sentences = nltk.sent_tokenize(''.join(text))                  #Get the sentences\n",
    "    return sentences     "
   ]
  },
  {
   "cell_type": "code",
   "execution_count": 11,
   "id": "ecb8f4d2-7117-443e-9347-fe3a999b69e1",
   "metadata": {},
   "outputs": [
    {
     "name": "stdout",
     "output_type": "stream",
     "text": [
      "99864\n",
      "Her mother had died too long ago for her to have more than an indistinct remembrance of her caresses  and her place had been supplied by an excellent woman as governess  who had fallen little short of a mother in affection.\n",
      "certain moments are so preposterous that i nearly herniated myself in an attempt to stifle laughter .\n"
     ]
    }
   ],
   "source": [
    "sentences = tokenize_sentences(combined_text) \n",
    "print(len(sentences))    \n",
    "print(sentences[2])  \n",
    "print(sentences[57649])"
   ]
  },
  {
   "cell_type": "code",
   "execution_count": 12,
   "id": "1c043fa8-72e2-4d19-91b4-4dee2b48752c",
   "metadata": {},
   "outputs": [],
   "source": [
    "def tokenize_words(text):\n",
    "    words = nltk.word_tokenize(text)\n",
    "    return words"
   ]
  },
  {
   "cell_type": "code",
   "execution_count": 13,
   "id": "24a3554e-7c0f-4386-ba6c-5d05cad923af",
   "metadata": {},
   "outputs": [
    {
     "name": "stdout",
     "output_type": "stream",
     "text": [
      "2002260\n",
      "Austen\n",
      "be\n"
     ]
    }
   ],
   "source": [
    "words = tokenize_words(combined_text)\n",
    "print(len(words))\n",
    "print(words[3])\n",
    "print(words[-2])"
   ]
  },
  {
   "cell_type": "code",
   "execution_count": 14,
   "id": "bca21679-9920-4b79-9b76-d1fc04f7fa0e",
   "metadata": {},
   "outputs": [
    {
     "name": "stdout",
     "output_type": "stream",
     "text": [
      "Getting words from source texts...\n"
     ]
    },
    {
     "name": "stderr",
     "output_type": "stream",
     "text": [
      "100%|█████████████████████████████████████████████████████████████████████████| 99864/99864 [00:06<00:00, 16001.62it/s]\n"
     ]
    }
   ],
   "source": [
    "words_list = []                                    #list of all the words of sentences\n",
    "print(\"Getting words from source texts...\")\n",
    "for f in tqdm(sentences):\n",
    "    words_list.append(tokenize_words(f))                   "
   ]
  },
  {
   "cell_type": "code",
   "execution_count": 15,
   "id": "0d18854b-5dfd-40a1-98c0-8783c020d211",
   "metadata": {},
   "outputs": [
    {
     "name": "stdout",
     "output_type": "stream",
     "text": [
      "She\n",
      "was\n",
      "the\n",
      "youngest\n",
      "of\n",
      "the\n",
      "two\n",
      "daughters\n",
      "of\n",
      "a\n",
      "most\n",
      "affectionate\n",
      "indulgent\n",
      "father\n",
      "and\n",
      "had\n",
      "in\n",
      "consequence\n",
      "of\n",
      "her\n",
      "sister\n",
      "'s\n",
      "marriage\n",
      "been\n",
      "mistress\n",
      "of\n",
      "his\n",
      "house\n",
      "from\n",
      "a\n",
      "very\n",
      "early\n",
      "period\n",
      ".\n"
     ]
    }
   ],
   "source": [
    "for word in words_list[1]:                     # all the words of the second sentence\n",
    "    print(word) "
   ]
  },
  {
   "cell_type": "code",
   "execution_count": 16,
   "id": "cf8bd383-723b-4a60-b2c5-2fadf98cd9ee",
   "metadata": {},
   "outputs": [],
   "source": [
    "import random\n",
    "import math\n",
    "\n",
    "\n",
    "random.shuffle(words_list)\n",
    "train_len = math.floor(0.6 * len(words_list))                      #Training set length(60%)\n",
    "dev_len = math.floor(0.2 * len(words_list))                        #Development set length (20%)\n",
    "test_len = math.floor(0.2 * len(words_list))                       #Test set length (20%)\n",
    "\n",
    "training_set = []\n",
    "development_set = []\n",
    "test_set = []\n",
    "\n",
    "for content in words_list[0:train_len]:\n",
    "    training_set.append(content)\n",
    "    \n",
    "for content in words_list[train_len: train_len + dev_len]:\n",
    "    development_set.append(content)\n",
    "\n",
    "for content in words_list[train_len + dev_len:]:\n",
    "    test_set.append(content)"
   ]
  },
  {
   "cell_type": "code",
   "execution_count": 17,
   "id": "fa78d476-c0a1-4e89-801a-ac0a68228d32",
   "metadata": {},
   "outputs": [],
   "source": [
    "import itertools\n",
    "from collections import Counter\n",
    "\n",
    "from nltk.util import ngrams\n",
    "\n",
    "\n",
    "def _calc_ngrams(all_corpus: list[str], ngram: int) -> Counter:\n",
    "    \"\"\"\n",
    "    Process a tokenized sentence into a list of ngrams.\n",
    "    :param all_corpus: a list of all the corpus words\n",
    "    :param ngram: whether the ngrams will be unigrams, bigrams etc\n",
    "    :return: the counter of either unigram, bigram or trigram\n",
    "    \"\"\"\n",
    "    unigram_counter = Counter()\n",
    "    bigram_counter = Counter()\n",
    "    trigram_counter = Counter()\n",
    "     \n",
    "    \n",
    "\n",
    "    if ngram == 1 :\n",
    "        for sentence in all_corpus:\n",
    "             grams = [gram for gram in ngrams(sentence, ngram, pad_left=True, pad_right=True,\n",
    "                                    left_pad_symbol=START_TOKEN, right_pad_symbol=END_TOKEN)]\n",
    "             unigram_counter.update(grams)\n",
    "        return unigram_counter\n",
    "        \n",
    "    elif ngram == 2:\n",
    "        for sentence in all_corpus:\n",
    "             grams = [gram for gram in ngrams(sentence, ngram, pad_left=True, pad_right=True,\n",
    "                                    left_pad_symbol=START_TOKEN, right_pad_symbol=END_TOKEN)]\n",
    "             bigram_counter.update(grams)\n",
    "        return bigram_counter\n",
    "        \n",
    "    elif ngram == 3:\n",
    "        for sentence in all_corpus:\n",
    "             grams = [gram for gram in ngrams(sentence, ngram, pad_left=True, pad_right=True,\n",
    "                                    left_pad_symbol=START_TOKEN, right_pad_symbol=END_TOKEN)]\n",
    "             trigram_counter.update(grams)\n",
    "        return trigram_counter\n",
    "        \n",
    "    return 0"
   ]
  },
  {
   "cell_type": "markdown",
   "id": "07038cbd-a354-4c53-a6e5-a500aa51428c",
   "metadata": {},
   "source": [
    "## OOV words"
   ]
  },
  {
   "cell_type": "code",
   "execution_count": 18,
   "id": "bdb63759-ab30-4fcb-8caf-01f3e7b24719",
   "metadata": {},
   "outputs": [],
   "source": [
    "def replace_OOV_words_train(all_corpus):\n",
    "    unigram_counter = _calc_ngrams(all_corpus,1)\n",
    "    OOV_words = {}\n",
    "\n",
    "    for k, v in unigram_counter.items():\n",
    "        if v < 10:\n",
    "            key = k[0]\n",
    "            #Using the symbol UNKOWN_TOKEN else the model will think it's a word\n",
    "            OOV_words[key] = UNKNOWN_TOKEN                 #set the word to \"UNK\"\n",
    "\n",
    "    replaced_corpus = []                          #the original corpus having the OOV words replaced by 'UNK'\n",
    "    for sentence in all_corpus:\n",
    "        clean_sentence = []\n",
    "    \n",
    "        for word in sentence:\n",
    "            clean_sentence.append(OOV_words.get(word, word))\n",
    "    \n",
    "        replaced_corpus.append(clean_sentence)\n",
    "\n",
    "\n",
    "    vocabulary = []\n",
    "\n",
    "    for key in unigram_counter.keys():        #Iterate the unigram counter\n",
    "        word = key[0]                         #get the word\n",
    "        if word not in OOV_words:\n",
    "            vocabulary.append(word)\n",
    "\n",
    "    vocabulary = set(vocabulary)              #Keep unique words\n",
    "    return vocabulary, replaced_corpus, OOV_words"
   ]
  },
  {
   "cell_type": "code",
   "execution_count": 19,
   "id": "685392b7-6dbb-4121-a777-4d735b02e2b4",
   "metadata": {},
   "outputs": [],
   "source": [
    "def replace_OOV_words_test(all_corpus, vocabulary, oov_words):\n",
    "    \n",
    "    replaced_corpus = []\n",
    "    for sentence in all_corpus:\n",
    "        updated_sent = []\n",
    "\n",
    "        for word in sentence:\n",
    "            if (word not in vocabulary) or (word in oov_words):\n",
    "                updated_sent.append(UNKNOWN_TOKEN)\n",
    "            else:\n",
    "                updated_sent.append(word)\n",
    "                \n",
    "    replaced_corpus.append(updated_sent)\n",
    "    return replaced_corpus   "
   ]
  },
  {
   "cell_type": "code",
   "execution_count": 20,
   "id": "229f481f-b29a-46dd-a4f4-bd7ad0d4b577",
   "metadata": {},
   "outputs": [],
   "source": [
    "vocabulary, train_corpus, OOV_words = replace_OOV_words_train(training_set)\n",
    "development_set = replace_OOV_words_test(development_set, vocabulary, OOV_words)\n",
    "test_set = replace_OOV_words_test(test_set, vocabulary, OOV_words)"
   ]
  },
  {
   "cell_type": "code",
   "execution_count": 21,
   "id": "ad22a56e-a929-419f-bf47-364b79623ae9",
   "metadata": {},
   "outputs": [
    {
     "name": "stdout",
     "output_type": "stream",
     "text": [
      "Vocabulary length:  8302\n",
      "Unigram's 20 most common words:\n",
      "(('<UNK>',), 78567)\n",
      "(('the',), 59979)\n",
      "(('.',), 53515)\n",
      "(('and',), 31469)\n",
      "(('of',), 30052)\n",
      "(('a',), 29926)\n",
      "(('to',), 28795)\n",
      "(('in',), 18168)\n",
      "(('is',), 17922)\n",
      "(('it',), 13880)\n",
      "(('that',), 13531)\n",
      "((\"'s\",), 12979)\n",
      "(('as',), 9820)\n",
      "(('with',), 9361)\n",
      "(('he',), 8846)\n",
      "(('his',), 8656)\n",
      "(('for',), 8545)\n",
      "(('was',), 8111)\n",
      "(('but',), 7148)\n",
      "(('be',), 6820)\n",
      "\n",
      "\n",
      "Bigram's 20 most common words:\n",
      "(('.', '<end>'), 53287)\n",
      "(('<UNK>', '<UNK>'), 7845)\n",
      "(('of', 'the'), 6975)\n",
      "(('the', '<UNK>'), 6803)\n",
      "(('<UNK>', '.'), 6611)\n",
      "(('<UNK>', 'and'), 5156)\n",
      "(('<start>', 'the'), 4991)\n",
      "(('in', 'the'), 4692)\n",
      "(('a', '<UNK>'), 3794)\n",
      "(('<start>', '<UNK>'), 3567)\n",
      "(('?', '<end>'), 3533)\n",
      "(('and', '<UNK>'), 3409)\n",
      "(('<UNK>', 'of'), 3309)\n",
      "(('the', 'film'), 2789)\n",
      "(('to', 'be'), 2673)\n",
      "(('!', '<end>'), 2546)\n",
      "(('of', '<UNK>'), 2489)\n",
      "(('<UNK>', 'the'), 2408)\n",
      "(('to', 'the'), 2387)\n",
      "(('it', \"'s\"), 2282)\n",
      "\n",
      "\n",
      "Trigram's 20 most common words:\n",
      "(('.', '<end>', '<end>'), 53287)\n",
      "(('<UNK>', '.', '<end>'), 6577)\n",
      "(('<start>', '<start>', 'the'), 4991)\n",
      "(('<start>', '<start>', '<UNK>'), 3567)\n",
      "(('?', '<end>', '<end>'), 3533)\n",
      "(('!', '<end>', '<end>'), 2546)\n",
      "(('<start>', '<start>', '.'), 1961)\n",
      "(('<start>', '.', '<end>'), 1957)\n",
      "(('<start>', '<start>', 'it'), 1907)\n",
      "(('<start>', '<start>', 'I'), 1634)\n",
      "(('<start>', '<start>', 'i'), 1488)\n",
      "(('<start>', '<start>', 'and'), 1148)\n",
      "(('<UNK>', '<UNK>', '<UNK>'), 1141)\n",
      "(('<start>', '<start>', 'but'), 1128)\n",
      "(('<start>', '<start>', 'he'), 1085)\n",
      "(('<UNK>', 'and', '<UNK>'), 1062)\n",
      "(('the', '<UNK>', 'of'), 1045)\n",
      "(('<start>', '<start>', 'this'), 1007)\n",
      "(('<start>', '<start>', 'in'), 992)\n",
      "(('it', '.', '<end>'), 982)\n"
     ]
    }
   ],
   "source": [
    "vocab_len = len(vocabulary)\n",
    "print (\"Vocabulary length: \", vocab_len)\n",
    "\n",
    "print(\"Unigram's 20 most common words:\")\n",
    "unigram_top_20 = _calc_ngrams(train_corpus, 1).most_common(20)\n",
    "for gram in unigram_top_20:\n",
    "    print(gram)\n",
    "\n",
    "print(\"\\n\")\n",
    "print(\"Bigram's 20 most common words:\")\n",
    "bigram_top_20 = _calc_ngrams(train_corpus,2).most_common(20)\n",
    "for gram in bigram_top_20:\n",
    "    print(gram)\n",
    "\n",
    "\n",
    "print(\"\\n\")\n",
    "print(\"Trigram's 20 most common words:\")\n",
    "trigram_top_20 = _calc_ngrams(train_corpus,3).most_common(20)\n",
    "for gram in trigram_top_20:\n",
    "    print(gram)"
   ]
  },
  {
   "cell_type": "code",
   "execution_count": 22,
   "id": "c7017599-67e8-4594-b111-5ef739bb831f",
   "metadata": {},
   "outputs": [],
   "source": [
    "from nltk.tokenize import sent_tokenize, TweetTokenizer\n",
    "\n",
    "\n",
    "UNK_sentences = [sent_tokenize(' '.join(sentence)) for sentence in train_corpus]       #get the sentences that include UNK values\n",
    "tweet_wt = TweetTokenizer()\n",
    "tokenized = [tweet_wt.tokenize(' '.join(sentence)) for sentence in UNK_sentences[:50]]  # Get the first 50 sentences"
   ]
  },
  {
   "cell_type": "markdown",
   "id": "a2f8740d-4f21-49fc-abca-319b07e97926",
   "metadata": {},
   "source": [
    "##  Calculate bi-gram probability\n",
    "\n",
    "### $ P(w_2|w_1) = \\frac{C(w_1,w_2) + \\alpha}{C(w_1) + \\alpha \\cdot|V|} $\n",
    "\n",
    "* $ C(w_1,w_2) $ : bigram count\n",
    "* $ C(w_1) $ : unigram count\n",
    "* $ 0 \\leq\\alpha \\leq1 $ :  smoothing hyper-parameter\n",
    "* |V|: vocabulary size"
   ]
  },
  {
   "cell_type": "markdown",
   "id": "32c2fbe4-0a4b-4a7d-bb1b-5daad8b369c6",
   "metadata": {},
   "source": [
    "## Bi-gram LM Cross entropy & perplexity\n",
    "\n",
    "* $ CrossEntropy = -\\frac{1}{N}\\sum^{bigrams}{log_2(P(w_2|w_1))} $\n",
    " * N: Number of bigrams\n",
    "* $ Perplexity = 2^{H(p)} $"
   ]
  },
  {
   "cell_type": "markdown",
   "id": "ea916643-39d0-4b00-830d-e294299450fe",
   "metadata": {},
   "source": [
    "## Tri-gram LM Cross entropy & perplexity\n",
    "\n",
    "### $ P(w_3|w_1,w_2) = \\frac{C(w_1,w_2,w_3) + \\alpha}{C(w_1,w_2) + \\alpha \\cdot |V|} $\n",
    "\n",
    "* $ C(w_1,w_2,w_3) $ : trigram count\n",
    "* $ C(w_1,w_2) $ : bigram count\n",
    "* $ 0 \\leq\\alpha \\leq1 $ :  smoothing hyper-parameter\n",
    "* |V|: vocabulary size"
   ]
  },
  {
   "cell_type": "code",
   "execution_count": 23,
   "id": "97dd4ed9-b159-469c-8686-ce887789cc58",
   "metadata": {
    "tags": []
   },
   "outputs": [],
   "source": [
    "def cross_entropy(model: BaseNgramModel, dataset: list[list[str]]) -> float:\n",
    "    \"\"\"\n",
    "    Calculate the cross-entropy of a language model on a given dataset.\n",
    "    \n",
    "    Cross-entropy measures how well the language model predicts the given dataset.\n",
    "    Lower cross-entropy indicates better model performance.\n",
    "    \n",
    "    :param model: The n-gram language model for which cross-entropy is calculated.\n",
    "    :param dataset: The dataset as a list of tokenized sentences, where each sentence is a list of strings.\n",
    "    :return: The cross-entropy score as a float.\n",
    "             Lower values indicate better performance in predicting the dataset.\n",
    "    \"\"\"\n",
    "    # since la place smoothing is only involved during inference\n",
    "    # we don't need to refit the model\n",
    "    sum_prob = 0\n",
    "    word_count = 0\n",
    "    \n",
    "    for sentence in dataset:       \n",
    "        # since this is a full sentence we manually append the end token\n",
    "        sentence += [END_TOKEN]\n",
    "        \n",
    "        # take into account only the END_TOKEN since START token probs are not computed\n",
    "        word_count += len(sentence)\n",
    "        \n",
    "        # get sentence probability\n",
    "        sum_prob += bi_model.sentence_proba(sentence) \n",
    "    \n",
    "    # do we need to logarithmize this again?\n",
    "    return - sum_prob / word_count\n",
    "\n",
    "\n",
    "def perplexity(cross_entropy: float) -> float:\n",
    "    \"\"\"\n",
    "    Calculate perplexity from cross-entropy.\n",
    "    \n",
    "    Perplexity is a measure of how well the language model predicts the given dataset.\n",
    "    A model with a perplexity of k, has approximately a 1/k chance of correctly predicting the next word in a sentence.\n",
    "    \n",
    "    :param cross_entropy: The cross-entropy score calculated for a language model on a dataset.\n",
    "    :return: The perplexity score as a float.\n",
    "             Lower values indicate better performance in predicting the dataset.\n",
    "    \"\"\"\n",
    "    return 2**cross_entropy"
   ]
  },
  {
   "cell_type": "code",
   "execution_count": 24,
   "id": "25018b37-e7d2-443d-8b79-39c0d2e49fbd",
   "metadata": {},
   "outputs": [],
   "source": [
    "def plot_alpha_vs_entropy(alpha_values, entropy, best_index):\n",
    "    plt.figure(figsize=(10, 6))\n",
    "    plt.plot(alpha_values, entropy, marker='o', linestyle='-', color='b')\n",
    "    plt.title('Alpha vs Entropy')\n",
    "    plt.xlabel('Alpha Values')\n",
    "    plt.ylabel('Cross Entropy')\n",
    "    plt.grid(True)\n",
    "    \n",
    "    #highlighting the best alpha value\n",
    "    plt.scatter(alpha_values[best_index], entropy[best_index], color='r', marker='x', label='Best Alpha')\n",
    "    \n",
    "    plt.legend()\n",
    "    plt.show()"
   ]
  },
  {
   "cell_type": "code",
   "execution_count": 25,
   "id": "6e4809e1-9596-4e76-8094-0b4c241f57ca",
   "metadata": {
    "tags": []
   },
   "outputs": [],
   "source": [
    "def ngram_model_alpha_search(fitted_model: BaseNgramModel, \n",
    "                             alpha_values: np.ndarray, \n",
    "                             validation_dataset: list[list[str]]) -> float:\n",
    "    entropy_arr = np.full_like(alpha_values, np.inf)\n",
    "    \n",
    "    print(\"Beginning grid search for n-gram model...\")\n",
    "    for i in tqdm(range(len(alpha_values))):\n",
    "        fitted_model.alpha = alpha_values[i]\n",
    "        entropy_arr[i] = cross_entropy(fitted_model, validation_dataset)\n",
    "        \n",
    "       \n",
    "    best_index = np.argmin(entropy_arr)\n",
    "    plot_alpha_vs_entropy(alpha_values,entropy_arr, best_index) \n",
    "    return alpha_values[best_index]"
   ]
  },
  {
   "cell_type": "code",
   "execution_count": 26,
   "id": "4b3cc2dd-e3f0-4f93-80ee-bf3a8205383b",
   "metadata": {
    "tags": []
   },
   "outputs": [
    {
     "name": "stdout",
     "output_type": "stream",
     "text": [
      "Beginning grid search for n-gram model...\n"
     ]
    },
    {
     "name": "stderr",
     "output_type": "stream",
     "text": [
      "100%|████████████████████████████████████████████████████████████████████████████| 1000/1000 [00:00<00:00, 1945.09it/s]\n"
     ]
    },
    {
     "data": {
      "image/png": "[encoded data removed]",
      "text/plain": [
       "<Figure size 1000x600 with 1 Axes>"
      ]
     },
     "metadata": {},
     "output_type": "display_data"
    },
    {
     "name": "stdout",
     "output_type": "stream",
     "text": [
      "Optimal alpha (bigram model):  1e-10\n"
     ]
    }
   ],
   "source": [
    "bi_model = BigramModel(alpha=0.001)\n",
    "bi_model.fit(train_corpus)\n",
    "\n",
    "bi_opt_alpha = ngram_model_alpha_search(bi_model, np.logspace(-10, 0, 1000), development_set)\n",
    "print(\"Optimal alpha (bigram model): \", bi_opt_alpha)"
   ]
  },
  {
   "cell_type": "code",
   "execution_count": 27,
   "id": "871e5b71-306b-46f9-b96d-b2d2cb1d71d9",
   "metadata": {
    "tags": []
   },
   "outputs": [
    {
     "name": "stdout",
     "output_type": "stream",
     "text": [
      "Beginning grid search for n-gram model...\n"
     ]
    },
    {
     "name": "stderr",
     "output_type": "stream",
     "text": [
      "100%|█████████████████████████████████████████████████████████████████████████████| 1000/1000 [00:01<00:00, 657.22it/s]\n"
     ]
    },
    {
     "data": {
      "image/png": "[encoded data removed]",
      "text/plain": [
       "<Figure size 1000x600 with 1 Axes>"
      ]
     },
     "metadata": {},
     "output_type": "display_data"
    },
    {
     "name": "stdout",
     "output_type": "stream",
     "text": [
      "Optimal alpha (trigram model):  1e-10\n"
     ]
    }
   ],
   "source": [
    "tri_model = TrigramModel(alpha=0.001)\n",
    "tri_model.fit(train_corpus)\n",
    "\n",
    "tri_opt_alpha = ngram_model_alpha_search(tri_model, np.logspace(-10, 0, 1000), development_set)\n",
    "print(\"Optimal alpha (trigram model): \", tri_opt_alpha)"
   ]
  },
  {
   "cell_type": "code",
   "execution_count": 28,
   "id": "0a4cd8bc-96fc-472d-8fee-4339631b864c",
   "metadata": {
    "tags": []
   },
   "outputs": [
    {
     "name": "stdout",
     "output_type": "stream",
     "text": [
      "Beginning grid search for n-gram model...\n"
     ]
    },
    {
     "name": "stderr",
     "output_type": "stream",
     "text": [
      "100%|█████████████████████████████████████████████████████████████████████████████| 1000/1000 [00:02<00:00, 398.88it/s]\n"
     ]
    },
    {
     "data": {
      "image/png": "[encoded data removed]",
      "text/plain": [
       "<Figure size 1000x600 with 1 Axes>"
      ]
     },
     "metadata": {},
     "output_type": "display_data"
    },
    {
     "name": "stdout",
     "output_type": "stream",
     "text": [
      "Optimal alpha (linear interpolation model):  1e-10\n"
     ]
    }
   ],
   "source": [
    "li_model = LinearInterpolationModel(alpha=0.01, lamda=0.5)\n",
    "li_model.fit(train_corpus)\n",
    "li_opt_alpha = ngram_model_alpha_search(li_model, np.logspace(-10, 0, 1000), development_set)\n",
    "\n",
    "print(\"Optimal alpha (linear interpolation model): \", li_opt_alpha)"
   ]
  },
  {
   "cell_type": "code",
   "execution_count": 29,
   "id": "37cdf159-d133-4ee6-bb3c-5c048add6021",
   "metadata": {
    "tags": []
   },
   "outputs": [
    {
     "name": "stdout",
     "output_type": "stream",
     "text": [
      "Bi-gram model Cross Entropy: 10.14\n",
      "Bi-gram model Perplexity: 1130.991608\n"
     ]
    }
   ],
   "source": [
    "# since la place smoothing is only involved during inference\n",
    "# we don't need to refit the model\n",
    "bi_model.alpha = bi_opt_alpha\n",
    "\n",
    "bi_hc = cross_entropy(bi_model, test_set)\n",
    "print(f\"Bi-gram model Cross Entropy: {bi_hc:.2f}\", )\n",
    "print(f\"Bi-gram model Perplexity: {perplexity(bi_hc):2f}\")"
   ]
  },
  {
   "cell_type": "code",
   "execution_count": 30,
   "id": "09b19f63-ca45-4334-b56e-e32853839a7b",
   "metadata": {
    "tags": []
   },
   "outputs": [
    {
     "name": "stdout",
     "output_type": "stream",
     "text": [
      "Tri-gram model Cross Entropy: 11.49\n",
      "Tri-gram model Perplexity: 2869.05\n"
     ]
    }
   ],
   "source": [
    "tri_model.alpha = tri_opt_alpha\n",
    "\n",
    "tri_hc = cross_entropy(tri_model, test_set)\n",
    "print(f\"Tri-gram model Cross Entropy: {tri_hc:.2f}\")\n",
    "print(f\"Tri-gram model Perplexity: {perplexity(tri_hc):.2f}\")"
   ]
  },
  {
   "cell_type": "markdown",
   "id": "f53a8c72-e1a8-44dc-8338-266bbf419ee2",
   "metadata": {},
   "source": [
    "## Create a fake dataset"
   ]
  },
  {
   "cell_type": "code",
   "execution_count": 31,
   "id": "77aeef20-68b0-4167-b5d9-5946e2c47039",
   "metadata": {
    "tags": []
   },
   "outputs": [],
   "source": [
    "import random\n",
    "\n",
    "\n",
    "def corrupt_sentence(sentence, probability):\n",
    "    corrupted_sentence = \"\"\n",
    "    for char in sentence:\n",
    "        if char != ' ' and random.random() < probability:\n",
    "            \n",
    "            corrupted_sentence += get_similar_char(char)                 #replace with a similar character\n",
    "        else:\n",
    "            corrupted_sentence += char\n",
    "    return corrupted_sentence\n",
    "\n",
    "\n",
    "def get_similar_char(char):\n",
    "    \n",
    "    similar_chars = {\n",
    "        'a': 'e',\n",
    "        'b': 'p',\n",
    "        'c': 's',\n",
    "        'd': 'b',\n",
    "        'e': 'a',\n",
    "        'f': 't',\n",
    "        'g': 'j',\n",
    "        'h': 'n',\n",
    "        'i': 'l',\n",
    "        'j': 'g',\n",
    "        'k': 'x',\n",
    "        'l': 'i',\n",
    "        'm': 'n',\n",
    "        'n': 'm',\n",
    "        'o': 'u',\n",
    "        'p': 'b',\n",
    "        'q': 'g',\n",
    "        'r': 't',\n",
    "        's': 'c',\n",
    "        't': 'f',\n",
    "        'u': 'o',\n",
    "        'v': 'w',\n",
    "        'w': 'v',\n",
    "        'x': 'k',\n",
    "        'y': 'v',\n",
    "        'z': 's',\n",
    "    }\n",
    "    \n",
    "    return similar_chars.get(char, char)                            #return a randomly chosen character"
   ]
  },
  {
   "cell_type": "code",
   "execution_count": 32,
   "id": "38bb9497-b6b0-45f7-9189-c1135d1fb15f",
   "metadata": {},
   "outputs": [
    {
     "name": "stdout",
     "output_type": "stream",
     "text": [
      "Original: ['see for yourself .']\n",
      "Corrupted: ['see for yourself .']\n",
      "\n",
      "---\n",
      "\n",
      "Original: ['Elinor bowed her assent .']\n",
      "Corrupted: ['Elimor bowed her assent .']\n",
      "\n",
      "---\n",
      "\n",
      "Original: ['mike myers with his three roles acts as eddie murphy did in the nutty professor <UNK> himself completely in one of the roles .']\n",
      "Corrupted: ['mike myers with his three roles acfs as edbie morphy did ln the mutty professot <UNK> himself completaly in one of the rolas .']\n",
      "\n",
      "---\n",
      "\n",
      "Original: ['it never needlessly <UNK> in its seedy subject matter but it thankfully never resorts to <UNK> either .']\n",
      "Corrupted: ['lt never needlessly <UNK> in its seedy subject matter bot it thamkfolly never resorts to <UNK> aither .']\n",
      "\n",
      "---\n",
      "\n",
      "Original: ['laura baker <UNK> helgenberger <UNK> <UNK> her role with admirable conviction .']\n",
      "Corrupted: ['lauta baker <UNK> helgemberger <UNK> <UNK> her role with admirabla sonviction .']\n",
      "\n",
      "---\n",
      "\n"
     ]
    }
   ],
   "source": [
    "probability = 0.1                                        #probability of character replacement\n",
    "#UNK_sentences = [sent for sent in UNK_sentences if len(sent) > 3]\n",
    "corrupted_corpus = [[corrupt_sentence(word, probability) for word in sentence] for sentence in UNK_sentences]   #generate the corrupted corpus\n",
    "corrupted_tokenized = [tweet_wt.tokenize(sentence) for sentence_list in corrupted_corpus for sentence in sentence_list] #tokenize the corrupted sentences\n",
    "\n",
    "for original, corrupted in zip(UNK_sentences[:5], corrupted_corpus[:5]):\n",
    "    print(f\"Original: {original}\")\n",
    "    print(f\"Corrupted: {corrupted}\")\n",
    "    print(\"\\n---\\n\")"
   ]
  },
  {
   "cell_type": "markdown",
   "id": "33842648-1d5a-4c4f-ae15-63f4fee3310e",
   "metadata": {},
   "source": [
    "## Evaluating the models"
   ]
  },
  {
   "cell_type": "code",
   "execution_count": 33,
   "id": "ef2059fe-2d2d-4be3-a6f9-8c8c722a7eaa",
   "metadata": {},
   "outputs": [],
   "source": [
    "import jiwer\n",
    "\n",
    "\n",
    "def calculate_wer_cer(original_sentences, corrected_sentences):\n",
    "    wer_sum = 0\n",
    "    cer_sum = 0\n",
    "    total_sentences = len(original_sentences)\n",
    "\n",
    "    for original, corrected in zip(original_sentences, corrected_sentences):\n",
    "        wer = jiwer.wer(original, corrected)\n",
    "        \n",
    "        wer_sum += wer\n",
    "\n",
    "        \n",
    "        cer = jiwer.cer(original, corrected)\n",
    "        cer_sum += cer\n",
    "\n",
    "    \n",
    "    avg_wer = wer_sum / total_sentences\n",
    "    avg_cer = cer_sum / total_sentences\n",
    "\n",
    "    return avg_wer, avg_cer"
   ]
  },
  {
   "cell_type": "code",
   "execution_count": 34,
   "id": "b7ab573e-6740-42f7-b606-0e63a8e38a8f",
   "metadata": {
    "tags": []
   },
   "outputs": [],
   "source": [
    "# how many sentences to be used for the spell correct models\n",
    "to_correct_num = 15"
   ]
  },
  {
   "cell_type": "code",
   "execution_count": 35,
   "id": "61e757d5-352a-42b6-812a-fc4a1a86961b",
   "metadata": {},
   "outputs": [
    {
     "name": "stdout",
     "output_type": "stream",
     "text": [
      "Bigram model: Computing correct sentences for 15 sentences\n"
     ]
    },
    {
     "name": "stderr",
     "output_type": "stream",
     "text": [
      "100%|██████████████████████████████████████████████████████████████████████████████████| 15/15 [00:22<00:00,  1.52s/it]"
     ]
    },
    {
     "name": "stdout",
     "output_type": "stream",
     "text": [
      "Sample original sentence: ['Elinor bowed her assent .']\n",
      "\n",
      "\n",
      "Corrupted(wrong) sentence: ['Elimor bowed her assent .']\n",
      "\n",
      "\n",
      "Final bi-gram result (corrected sentence): Elinor bowed her assent .\n"
     ]
    },
    {
     "name": "stderr",
     "output_type": "stream",
     "text": [
      "\n"
     ]
    }
   ],
   "source": [
    "bi_corrected = []\n",
    "corrector = BigramSpellCorrector(bi_model, lamda=0.1)\n",
    "\n",
    "print(f\"Bigram model: Computing correct sentences for {to_correct_num} sentences\")\n",
    "for sent in tqdm(corrupted_tokenized[:to_correct_num]):\n",
    "    output_seq = corrector.spell_correct(original_tokenized_sentence=sent, beam_width = 3)  #give the corrupt sentences to spell correct\n",
    "    bi_corrected.append(output_seq)\n",
    "\n",
    "\n",
    "print('Sample original sentence:', UNK_sentences[1])\n",
    "print('\\n')\n",
    "print('Corrupted(wrong) sentence:', corrupted_corpus[1])\n",
    "print('\\n')\n",
    "print('Final bi-gram result (corrected sentence):', \" \".join(bi_corrected[1]))"
   ]
  },
  {
   "cell_type": "code",
   "execution_count": 36,
   "id": "6c91dad9-f343-4ec2-b53a-26b16d314ea5",
   "metadata": {},
   "outputs": [
    {
     "name": "stdout",
     "output_type": "stream",
     "text": [
      "Bigram Average Word Error Rate (WER): 0.200\n",
      "Bigram Average Character Error Rate (CER): 0.224\n"
     ]
    }
   ],
   "source": [
    "avg_wer, avg_cer = calculate_wer_cer(tokenized[:to_correct_num], bi_corrected)\n",
    "\n",
    "print(f\"Bigram Average Word Error Rate (WER): {avg_wer:.3f}\")\n",
    "print(f\"Bigram Average Character Error Rate (CER): {avg_cer:.3f}\")"
   ]
  },
  {
   "cell_type": "code",
   "execution_count": 37,
   "id": "48e1daee-9158-4f11-a053-685843e637bf",
   "metadata": {
    "tags": []
   },
   "outputs": [
    {
     "name": "stdout",
     "output_type": "stream",
     "text": [
      "Trigram model: Computing correct sentences for 15 sentences\n"
     ]
    },
    {
     "name": "stderr",
     "output_type": "stream",
     "text": [
      " 60%|█████████████████████████████████████████████████▊                                 | 9/15 [00:17<00:11,  1.90s/it]\n"
     ]
    },
    {
     "ename": "ValueError",
     "evalue": "Can not build sentence: No suitable next words found for sentence '['<start>', '<start>', 'will', 'finds', 'that', 'the', 'former', 'is', 'much', 'easier', 'than', 'the', 'latter', 'so', 'much', 'so', 'in', 'fact', 'that', 'he', 'gets', 'bored', 'with', 'it', 'and', 'grows', 'them', 'twice', 'the', 'makeup', 'on', '.', \"'\", '<end>', '<end>']''.",
     "output_type": "error",
     "traceback": [
      "\u001b[1;31m---------------------------------------------------------------------------\u001b[0m",
      "\u001b[1;31mValueError\u001b[0m                                Traceback (most recent call last)",
      "Cell \u001b[1;32mIn[37], line 6\u001b[0m\n\u001b[0;32m      4\u001b[0m \u001b[38;5;28mprint\u001b[39m(\u001b[38;5;124mf\u001b[39m\u001b[38;5;124m\"\u001b[39m\u001b[38;5;124mTrigram model: Computing correct sentences for \u001b[39m\u001b[38;5;132;01m{\u001b[39;00mto_correct_num\u001b[38;5;132;01m}\u001b[39;00m\u001b[38;5;124m sentences\u001b[39m\u001b[38;5;124m\"\u001b[39m)\n\u001b[0;32m      5\u001b[0m \u001b[38;5;28;01mfor\u001b[39;00m sent \u001b[38;5;129;01min\u001b[39;00m tqdm(corrupted_tokenized[:to_correct_num]):\n\u001b[1;32m----> 6\u001b[0m     output_seq \u001b[38;5;241m=\u001b[39m \u001b[43mcorrector\u001b[49m\u001b[38;5;241;43m.\u001b[39;49m\u001b[43mspell_correct\u001b[49m\u001b[43m(\u001b[49m\u001b[43moriginal_tokenized_sentence\u001b[49m\u001b[38;5;241;43m=\u001b[39;49m\u001b[43msent\u001b[49m\u001b[43m,\u001b[49m\u001b[43m \u001b[49m\u001b[43mbeam_width\u001b[49m\u001b[43m \u001b[49m\u001b[38;5;241;43m=\u001b[39;49m\u001b[43m \u001b[49m\u001b[38;5;241;43m3\u001b[39;49m\u001b[43m)\u001b[49m  \u001b[38;5;66;03m#give the corrupt sentences to spell correct\u001b[39;00m\n\u001b[0;32m      7\u001b[0m     tri_corrected\u001b[38;5;241m.\u001b[39mappend(output_seq)\n\u001b[0;32m      9\u001b[0m \u001b[38;5;28mprint\u001b[39m(\u001b[38;5;124m'\u001b[39m\u001b[38;5;124mSample original sentence:\u001b[39m\u001b[38;5;124m'\u001b[39m, UNK_sentences[\u001b[38;5;241m0\u001b[39m])\n",
      "File \u001b[1;32m~\\text_analytics\\src\\conditional_ngram_models.py:66\u001b[0m, in \u001b[0;36mBaseSpellCorrector.spell_correct\u001b[1;34m(self, original_tokenized_sentence, beam_width)\u001b[0m\n\u001b[0;32m     64\u001b[0m formatted_sentence \u001b[38;5;241m=\u001b[39m \u001b[38;5;28mself\u001b[39m\u001b[38;5;241m.\u001b[39mlanguage_model\u001b[38;5;241m.\u001b[39mformat_input(original_tokenized_sentence) \u001b[38;5;241m+\u001b[39m [END_TOKEN]\n\u001b[0;32m     65\u001b[0m decoder \u001b[38;5;241m=\u001b[39m SentenceBeamSearchDecoder(words_to_be_guessed, beam_width, candidate_fn, score_fn)\n\u001b[1;32m---> 66\u001b[0m response \u001b[38;5;241m=\u001b[39m \u001b[43mdecoder\u001b[49m\u001b[38;5;241;43m.\u001b[39;49m\u001b[43msearch\u001b[49m\u001b[43m(\u001b[49m\u001b[38;5;28;43mself\u001b[39;49m\u001b[38;5;241;43m.\u001b[39;49m\u001b[43m_initial_search_state\u001b[49m\u001b[43m(\u001b[49m\u001b[43m)\u001b[49m\u001b[43m,\u001b[49m\u001b[43m \u001b[49m\u001b[38;5;241;43m0.\u001b[39;49m\u001b[43m)\u001b[49m\n\u001b[0;32m     67\u001b[0m \u001b[38;5;66;03m# remove meta tokens\u001b[39;00m\n\u001b[0;32m     68\u001b[0m \u001b[38;5;28;01mreturn\u001b[39;00m [token \u001b[38;5;28;01mfor\u001b[39;00m token \u001b[38;5;129;01min\u001b[39;00m response \u001b[38;5;28;01mif\u001b[39;00m token \u001b[38;5;241m!=\u001b[39m START_TOKEN \u001b[38;5;129;01mand\u001b[39;00m token \u001b[38;5;241m!=\u001b[39m END_TOKEN]\n",
      "File \u001b[1;32m~\\text_analytics\\src\\beam_search.py:30\u001b[0m, in \u001b[0;36mSentenceBeamSearchDecoder.search\u001b[1;34m(self, initial_state, initial_state_score)\u001b[0m\n\u001b[0;32m     27\u001b[0m     candidates \u001b[38;5;241m=\u001b[39m new_candidates[:\u001b[38;5;28mself\u001b[39m\u001b[38;5;241m.\u001b[39mbeam_width]\n\u001b[0;32m     29\u001b[0m \u001b[38;5;28;01mif\u001b[39;00m \u001b[38;5;28mlen\u001b[39m(candidates) \u001b[38;5;241m==\u001b[39m \u001b[38;5;241m0\u001b[39m:\n\u001b[1;32m---> 30\u001b[0m     \u001b[38;5;28;01mraise\u001b[39;00m \u001b[38;5;167;01mValueError\u001b[39;00m(\u001b[38;5;124mf\u001b[39m\u001b[38;5;124m\"\u001b[39m\u001b[38;5;124mCan not build sentence: No suitable next words found for sentence \u001b[39m\u001b[38;5;124m'\u001b[39m\u001b[38;5;132;01m{\u001b[39;00mcandidate\u001b[38;5;132;01m}\u001b[39;00m\u001b[38;5;124m'\u001b[39m\u001b[38;5;124m'\u001b[39m\u001b[38;5;124m.\u001b[39m\u001b[38;5;124m\"\u001b[39m)\n\u001b[0;32m     32\u001b[0m best_sequence, best_prob \u001b[38;5;241m=\u001b[39m \u001b[38;5;28mmax\u001b[39m(candidates, key\u001b[38;5;241m=\u001b[39m\u001b[38;5;28;01mlambda\u001b[39;00m x: x[\u001b[38;5;241m1\u001b[39m])\n\u001b[0;32m     33\u001b[0m \u001b[38;5;28;01mreturn\u001b[39;00m best_sequence\n",
      "\u001b[1;31mValueError\u001b[0m: Can not build sentence: No suitable next words found for sentence '['<start>', '<start>', 'will', 'finds', 'that', 'the', 'former', 'is', 'much', 'easier', 'than', 'the', 'latter', 'so', 'much', 'so', 'in', 'fact', 'that', 'he', 'gets', 'bored', 'with', 'it', 'and', 'grows', 'them', 'twice', 'the', 'makeup', 'on', '.', \"'\", '<end>', '<end>']''."
     ]
    }
   ],
   "source": [
    "tri_corrected = []\n",
    "corrector = TrigramSpellCorrector(tri_model, lamda=0.1)\n",
    "\n",
    "print(f\"Trigram model: Computing correct sentences for {to_correct_num} sentences\")\n",
    "for sent in tqdm(corrupted_tokenized[:to_correct_num]):\n",
    "    output_seq = corrector.spell_correct(original_tokenized_sentence=sent, beam_width = 3)  #give the corrupt sentences to spell correct\n",
    "    tri_corrected.append(output_seq)\n",
    "    \n",
    "print('Sample original sentence:', UNK_sentences[0])\n",
    "print('\\n')\n",
    "print('Corrupted(wrong) sentence:', corrupted_corpus[0])\n",
    "print('\\n')\n",
    "print('Final tri-gram result (corrected sentences):', \" \".join(tri_corrected[0]))"
   ]
  },
  {
   "cell_type": "code",
   "execution_count": 38,
   "id": "2a504514-bf27-4961-8454-878237b0e941",
   "metadata": {
    "tags": []
   },
   "outputs": [
    {
     "name": "stdout",
     "output_type": "stream",
     "text": [
      "Trigram Average Word Error Rate (WER): 0.05549206349206349\n",
      "Trigram Average Character Error Rate (CER): 0.0515449491690643\n"
     ]
    }
   ],
   "source": [
    "avg_wer, avg_cer = calculate_wer_cer(tokenized, tri_corrected)\n",
    "\n",
    "\n",
    "print(f\"Trigram Average Word Error Rate (WER): {avg_wer}\")\n",
    "print(f\"Trigram Average Character Error Rate (CER): {avg_cer}\")"
   ]
  },
  {
   "cell_type": "code",
   "execution_count": null,
   "id": "0b0ed7a3-c607-456c-9992-ce7ee522e19a",
   "metadata": {},
   "outputs": [],
   "source": []
  }
 ],
 "metadata": {
  "kernelspec": {
   "display_name": "Python 3 (ipykernel)",
   "language": "python",
   "name": "python3"
  },
  "language_info": {
   "codemirror_mode": {
    "name": "ipython",
    "version": 3
   },
   "file_extension": ".py",
   "mimetype": "text/x-python",
   "name": "python",
   "nbconvert_exporter": "python",
   "pygments_lexer": "ipython3",
   "version": "3.11.7"
  }
 },
 "nbformat": 4,
 "nbformat_minor": 5
}
