{
 "cells": [
  {
   "cell_type": "code",
   "execution_count": 1,
   "id": "6543a2dd-779a-4643-a6bd-ffa5c1ac4f20",
   "metadata": {},
   "outputs": [
    {
     "name": "stderr",
     "output_type": "stream",
     "text": [
      "[nltk_data] Downloading package punkt to\n",
      "[nltk_data]     C:\\Users\\Drogias\\AppData\\Roaming\\nltk_data...\n",
      "[nltk_data]   Package punkt is already up-to-date!\n",
      "[nltk_data] Downloading package gutenberg to\n",
      "[nltk_data]     C:\\Users\\Drogias\\AppData\\Roaming\\nltk_data...\n",
      "[nltk_data]   Package gutenberg is already up-to-date!\n"
     ]
    },
    {
     "data": {
      "text/plain": [
       "True"
      ]
     },
     "execution_count": 1,
     "metadata": {},
     "output_type": "execute_result"
    }
   ],
   "source": [
    "import sys\n",
    "import numpy as np\n",
    "import pandas as pd\n",
    "import matplotlib.pyplot as plt\n",
    "import nltk\n",
    "\n",
    "nltk.download('punkt')\n",
    "nltk.download('gutenberg')"
   ]
  },
  {
   "cell_type": "code",
   "execution_count": 2,
   "id": "e6abedf4-87d7-4d30-b058-2a4a4f542aff",
   "metadata": {},
   "outputs": [],
   "source": [
    "from src.spell_correction import BigramSpellCorrector, TrigramSpellCorrector\n",
    "from src.autocomplete import BigramModel, START_TOKEN, END_TOKEN, UNKNOWN_TOKEN, TrigramModel, BaseNgramModel"
   ]
  },
  {
   "cell_type": "code",
   "execution_count": 3,
   "id": "9b74da53-b6ee-490f-8ebc-6256aea039b5",
   "metadata": {},
   "outputs": [
    {
     "data": {
      "text/plain": [
       "['austen-emma.txt',\n",
       " 'austen-persuasion.txt',\n",
       " 'austen-sense.txt',\n",
       " 'bible-kjv.txt',\n",
       " 'blake-poems.txt',\n",
       " 'bryant-stories.txt',\n",
       " 'burgess-busterbrown.txt',\n",
       " 'carroll-alice.txt',\n",
       " 'chesterton-ball.txt',\n",
       " 'chesterton-brown.txt',\n",
       " 'chesterton-thursday.txt',\n",
       " 'edgeworth-parents.txt',\n",
       " 'melville-moby_dick.txt',\n",
       " 'milton-paradise.txt',\n",
       " 'shakespeare-caesar.txt',\n",
       " 'shakespeare-hamlet.txt',\n",
       " 'shakespeare-macbeth.txt',\n",
       " 'whitman-leaves.txt']"
      ]
     },
     "execution_count": 3,
     "metadata": {},
     "output_type": "execute_result"
    }
   ],
   "source": [
    "gutenberg_corpus = nltk.corpus.gutenberg.fileids()                                 #Get all the files\n",
    "gutenberg_corpus"
   ]
  },
  {
   "cell_type": "code",
   "execution_count": 4,
   "id": "a4b16673-a350-459d-8fd3-0c3c990d9c3d",
   "metadata": {},
   "outputs": [
    {
     "name": "stdout",
     "output_type": "stream",
     "text": [
      "[Emma by Jane Austen 1816]\n",
      "\n",
      "VOLUME I\n",
      "\n",
      "CHAPTER I\n",
      "\n",
      "\n",
      "Emma Woodhouse, handsome, clever, and rich, with a comfortable home\n",
      "and happy disposition, seemed to unite some of the best blessings\n",
      "of existence; and had lived nearly twenty-one years in the world\n",
      "with very little to distress or vex her.\n",
      "\n",
      "She was the youngest of the two daughters of a most affectionate,\n",
      "indulgent father; and had, in consequence of her sister's marriage,\n",
      "been mistress of his house from a very early period.  Her mother\n",
      "had died t\n"
     ]
    }
   ],
   "source": [
    "combined_text = \"\"             \n",
    "for file_id in gutenberg_corpus:                                        # Combine the text from all files\n",
    "    combined_text += nltk.corpus.gutenberg.raw(file_id)\n",
    "\n",
    "print(combined_text[:500])"
   ]
  },
  {
   "cell_type": "code",
   "execution_count": 5,
   "id": "f9cd0930-d3ab-4bbc-82e8-71de27c63468",
   "metadata": {},
   "outputs": [],
   "source": [
    "combined_text = combined_text.lower()                              #Convert to lowercase"
   ]
  },
  {
   "cell_type": "code",
   "execution_count": 6,
   "id": "e9c6b392-464d-4c08-b16b-acaabbea6e78",
   "metadata": {},
   "outputs": [
    {
     "data": {
      "text/plain": [
       "\"[emma by jane austen 1816]\\n\\nvolume i\\n\\nchapter i\\n\\n\\nemma woodhouse, handsome, clever, and rich, with a comfortable home\\nand happy disposition, seemed to unite some of the best blessings\\nof existence; and had lived nearly twenty-one years in the world\\nwith very little to distress or vex her.\\n\\nshe was the youngest of the two daughters of a most affectionate,\\nindulgent father; and had, in consequence of her sister's marriage,\\nbeen mistress of his house from a very early period.  her mother\\nhad died t\""
      ]
     },
     "execution_count": 6,
     "metadata": {},
     "output_type": "execute_result"
    }
   ],
   "source": [
    "combined_text[:500]"
   ]
  },
  {
   "cell_type": "code",
   "execution_count": 7,
   "id": "4e4f3c82-7a8e-42d5-b04b-4160fe689891",
   "metadata": {},
   "outputs": [],
   "source": [
    "import re\n",
    "\n",
    "def remove_special_chars(text):\n",
    "   text = text.replace('[', '')\n",
    "   text = text.replace(']', '')\n",
    "   text = text.replace('\\n', ' ')\n",
    "   text = re.sub(r'[^a-zA-z.?!\\']', ' ', text)                     #Remove these characters   \n",
    "\n",
    "   return text"
   ]
  },
  {
   "cell_type": "code",
   "execution_count": 8,
   "id": "cb081710-1d7d-4c53-b85d-acd0a9528c18",
   "metadata": {},
   "outputs": [
    {
     "data": {
      "text/plain": [
       "\"emma by jane austen       volume i  chapter i   emma woodhouse  handsome  clever  and rich  with a comfortable home and happy disposition  seemed to unite some of the best blessings of existence  and had lived nearly twenty one years in the world with very little to distress or vex her.  she was the youngest of the two daughters of a most affectionate  indulgent father  and had  in consequence of her sister's marriage  been mistress of his house from a very early period.  her mother had died too\""
      ]
     },
     "execution_count": 8,
     "metadata": {},
     "output_type": "execute_result"
    }
   ],
   "source": [
    "combined_text = remove_special_chars(combined_text)\n",
    "combined_text[:500]"
   ]
  },
  {
   "cell_type": "code",
   "execution_count": 9,
   "id": "50f25b00-f68a-4ad1-893d-f4e27e93698f",
   "metadata": {},
   "outputs": [
    {
     "data": {
      "text/plain": [
       "2119883"
      ]
     },
     "execution_count": 9,
     "metadata": {},
     "output_type": "execute_result"
    }
   ],
   "source": [
    "len(combined_text.split())                     "
   ]
  },
  {
   "cell_type": "code",
   "execution_count": 10,
   "id": "f7fcb110-bdda-41dc-8850-fae413272efa",
   "metadata": {},
   "outputs": [
    {
     "data": {
      "text/plain": [
       "11793056"
      ]
     },
     "execution_count": 10,
     "metadata": {},
     "output_type": "execute_result"
    }
   ],
   "source": [
    "len(combined_text)                             # How many characters"
   ]
  },
  {
   "cell_type": "code",
   "execution_count": 11,
   "id": "e4da70b8-ff85-4fb0-b23f-df115f397805",
   "metadata": {},
   "outputs": [
    {
     "data": {
      "text/plain": [
       "\"n the sea  the universe  the stars there in the     heavens   urging slowly  surely forward  forming endless  and waiting ever more  forever more behind.       good bye my fancy!  good bye my fancy! farewell dear mate  dear love! i'm going away  i know not where  or to what fortune  or whether i may ever see you again  so good bye my fancy.  now for my last  let me look back a moment  the slower fainter ticking of the clock is in me  exit  nightfall  and soon the heart thud stopping.  long have we lived  joy'd  caress'd together  delightful!  now separation  good bye my fancy.  yet let me not be too hasty  long indeed have we lived  slept  filter'd  become really blended     into one  then if we die we die together   yes  we'll remain one   if we go anywhere we'll go together to meet what happens  may be we'll be better off and blither  and learn something  may be it is yourself now really ushering me to the true songs   who     knows?  may be it is you the mortal knob really undoing  turning  so now finally  good bye  and hail! my fancy.  \""
      ]
     },
     "execution_count": 11,
     "metadata": {},
     "output_type": "execute_result"
    }
   ],
   "source": [
    "combined_text[11792000:]"
   ]
  },
  {
   "cell_type": "code",
   "execution_count": 12,
   "id": "14d6b0a3-9064-49b3-a16d-d527cddefe6a",
   "metadata": {},
   "outputs": [],
   "source": [
    "def tokenize_sentences(text):\n",
    "    sentences = nltk.sent_tokenize(''.join(text))                  #Get the sentences\n",
    "    return sentences     "
   ]
  },
  {
   "cell_type": "code",
   "execution_count": 13,
   "id": "f90469b6-7286-4434-a88c-2668f0ccd4ac",
   "metadata": {},
   "outputs": [
    {
     "name": "stdout",
     "output_type": "stream",
     "text": [
      "96282\n",
      "her mother had died too long ago for her to have more than an indistinct remembrance of her caresses  and her place had been supplied by an excellent woman as governess  who had fallen little short of a mother in affection.\n",
      "i hardly understand you   replied the scientist  with a cold intensity of manner.\n"
     ]
    }
   ],
   "source": [
    "sentences = tokenize_sentences(combined_text) \n",
    "print(len(sentences))    \n",
    "print(sentences[2])  \n",
    "print(sentences[57649])"
   ]
  },
  {
   "cell_type": "code",
   "execution_count": 14,
   "id": "eaf01dde-77eb-44b7-a099-fffcab33cce6",
   "metadata": {},
   "outputs": [],
   "source": [
    "def tokenize_words(text):\n",
    "    words = nltk.word_tokenize(text)\n",
    "    return words"
   ]
  },
  {
   "cell_type": "code",
   "execution_count": 15,
   "id": "3036efe1-6ba2-4a96-9b1d-fae699e453d1",
   "metadata": {},
   "outputs": [
    {
     "name": "stdout",
     "output_type": "stream",
     "text": [
      "2235498\n",
      "austen\n",
      "fancy\n"
     ]
    }
   ],
   "source": [
    "words = tokenize_words(combined_text)\n",
    "print(len(words))\n",
    "print(words[3])\n",
    "print(words[-2])"
   ]
  },
  {
   "cell_type": "code",
   "execution_count": 16,
   "id": "f56cfa79-f981-43fb-b6c1-1cef34040840",
   "metadata": {},
   "outputs": [],
   "source": [
    "words_list = []                                    #list of all the words of sentences\n",
    "for f in sentences:\n",
    "    words_list.append(tokenize_words(f))                   "
   ]
  },
  {
   "cell_type": "code",
   "execution_count": 17,
   "id": "01930b98-39d1-4eec-9275-5b154687c41a",
   "metadata": {},
   "outputs": [
    {
     "data": {
      "text/plain": [
       "96282"
      ]
     },
     "execution_count": 17,
     "metadata": {},
     "output_type": "execute_result"
    }
   ],
   "source": [
    "len(words_list)"
   ]
  },
  {
   "cell_type": "code",
   "execution_count": 18,
   "id": "7ba378be-6fa5-440d-be37-b8ef51dfbab6",
   "metadata": {},
   "outputs": [
    {
     "name": "stdout",
     "output_type": "stream",
     "text": [
      "she\n",
      "was\n",
      "the\n",
      "youngest\n",
      "of\n",
      "the\n",
      "two\n",
      "daughters\n",
      "of\n",
      "a\n",
      "most\n",
      "affectionate\n",
      "indulgent\n",
      "father\n",
      "and\n",
      "had\n",
      "in\n",
      "consequence\n",
      "of\n",
      "her\n",
      "sister\n",
      "'s\n",
      "marriage\n",
      "been\n",
      "mistress\n",
      "of\n",
      "his\n",
      "house\n",
      "from\n",
      "a\n",
      "very\n",
      "early\n",
      "period\n",
      ".\n"
     ]
    }
   ],
   "source": [
    "for word in words_list[1]:                     # all the words of the second sentence\n",
    "    print(word) "
   ]
  },
  {
   "cell_type": "code",
   "execution_count": 19,
   "id": "013c921e-362d-40b9-aabb-474c4b489be1",
   "metadata": {},
   "outputs": [],
   "source": [
    "import random\n",
    "import math\n",
    "\n",
    "\n",
    "random.shuffle(words_list)\n",
    "train_len = math.floor(0.6 * len(words_list))                      #Training set length(60%)\n",
    "dev_len = math.floor(0.2 * len(words_list))                        #Development set length (20%)\n",
    "test_len = math.floor(0.2 * len(words_list))                       #Test set length (20%)\n",
    "\n",
    "training_set = []\n",
    "development_set = []\n",
    "test_set = []\n",
    "\n",
    "for content in words_list[0:train_len]:\n",
    "    training_set.append(content)\n",
    "    \n",
    "for content in words_list[train_len: train_len + dev_len]:\n",
    "    development_set.append(content)\n",
    "\n",
    "for content in words_list[train_len + dev_len:]:\n",
    "    test_set.append(content)"
   ]
  },
  {
   "cell_type": "code",
   "execution_count": 20,
   "id": "941fd203-6132-40db-a596-5b8ae9dd43ff",
   "metadata": {},
   "outputs": [],
   "source": [
    "import itertools\n",
    "from collections import Counter\n",
    "\n",
    "from nltk.util import ngrams\n",
    "\n",
    "\n",
    "def _calc_ngrams(all_corpus: list[str], ngram: int) -> Counter:\n",
    "    \"\"\"\n",
    "    Process a tokenized sentence into a list of ngrams.\n",
    "    :param all_corpus: a list of all the corpus words\n",
    "    :param ngram: whether the ngrams will be unigrams, bigrams etc\n",
    "    :return: the counter of either unigram, bigram or trigram\n",
    "    \"\"\"\n",
    "    unigram_counter = Counter()\n",
    "    bigram_counter = Counter()\n",
    "    trigram_counter = Counter()\n",
    "     \n",
    "    \n",
    "\n",
    "    if ngram == 1 :\n",
    "        for sentence in all_corpus:\n",
    "             grams = [gram for gram in ngrams(sentence, ngram, pad_left=True, pad_right=True,\n",
    "                                    left_pad_symbol=START_TOKEN, right_pad_symbol=END_TOKEN)]\n",
    "             unigram_counter.update(grams)\n",
    "        return unigram_counter\n",
    "        \n",
    "    elif ngram == 2:\n",
    "        for sentence in all_corpus:\n",
    "             grams = [gram for gram in ngrams(sentence, ngram, pad_left=True, pad_right=True,\n",
    "                                    left_pad_symbol=START_TOKEN, right_pad_symbol=END_TOKEN)]\n",
    "             bigram_counter.update(grams)\n",
    "        return bigram_counter\n",
    "        \n",
    "    elif ngram == 3:\n",
    "        for sentence in all_corpus:\n",
    "             grams = [gram for gram in ngrams(sentence, ngram, pad_left=True, pad_right=True,\n",
    "                                    left_pad_symbol=START_TOKEN, right_pad_symbol=END_TOKEN)]\n",
    "             trigram_counter.update(grams)\n",
    "        return trigram_counter\n",
    "        \n",
    "    return 0"
   ]
  },
  {
   "cell_type": "code",
   "execution_count": 21,
   "id": "3dd7c6b6-b1d5-44c1-9308-867c7eb13fa0",
   "metadata": {},
   "outputs": [],
   "source": [
    "def replace_OOV_words_train(all_corpus):\n",
    "    unigram_counter = _calc_ngrams(all_corpus,1)\n",
    "    OOV_words = {}\n",
    "\n",
    "    for k, v in unigram_counter.items():\n",
    "        if v < 10:\n",
    "            key = k[0]\n",
    "            # README: Use the symbol UNKOWN_TOKEN else the model will think it's a word\n",
    "            OOV_words[key] = UNKNOWN_TOKEN                 #set the word to \"UNK\"\n",
    "\n",
    "    replaced_corpus = []                          #the original corpus having the OOV words replaced by 'UNK'\n",
    "    for sentence in all_corpus:\n",
    "        clean_sentence = []\n",
    "    \n",
    "        for word in sentence:\n",
    "            clean_sentence.append(OOV_words.get(word, word))\n",
    "    \n",
    "        replaced_corpus.append(clean_sentence)\n",
    "\n",
    "\n",
    "    vocabulary = []\n",
    "\n",
    "    for key in unigram_counter.keys():        #Iterate the unigram counter\n",
    "        word = key[0]                         #get the word\n",
    "        if word not in OOV_words:\n",
    "            vocabulary.append(word)\n",
    "\n",
    "    vocabulary = set(vocabulary)              #Keep unique words\n",
    "    return vocabulary, replaced_corpus, OOV_words"
   ]
  },
  {
   "cell_type": "code",
   "execution_count": 22,
   "id": "92f61c51-81f4-4a80-81b1-769dbb9bd058",
   "metadata": {},
   "outputs": [],
   "source": [
    "vocabulary, train_corpus, OOV_words = replace_OOV_words_train(training_set)"
   ]
  },
  {
   "cell_type": "code",
   "execution_count": 23,
   "id": "323891dd-f0bc-4454-9d24-bac8427d276c",
   "metadata": {},
   "outputs": [],
   "source": [
    "def replace_OOV_words_test(all_corpus, vocabulary, oov_words):\n",
    "    \n",
    "    replaced_corpus = []\n",
    "    for sentence in all_corpus:\n",
    "        updated_sent = []\n",
    "\n",
    "        for word in sentence:\n",
    "            if (word not in vocabulary) or (word in oov_words):\n",
    "                updated_sent.append(UNKNOWN_TOKEN)\n",
    "            else:\n",
    "                updated_sent.append(word)\n",
    "                \n",
    "    replaced_corpus.append(updated_sent)\n",
    "    return replaced_corpus   "
   ]
  },
  {
   "cell_type": "code",
   "execution_count": 24,
   "id": "a0eab7ab-2171-43a8-90ef-ef49e5335b69",
   "metadata": {},
   "outputs": [],
   "source": [
    "development_set = replace_OOV_words_test(development_set, vocabulary, OOV_words)\n",
    "test_set = replace_OOV_words_test(test_set, vocabulary, OOV_words)"
   ]
  },
  {
   "cell_type": "code",
   "execution_count": 25,
   "id": "b5de1392-390e-47ed-8202-93ad4f1248e6",
   "metadata": {},
   "outputs": [
    {
     "name": "stdout",
     "output_type": "stream",
     "text": [
      "Vocabulary length:  7377\n",
      "Unigram's 20 most common words:\n",
      "(('the',), 80681)\n",
      "(('<UNK>',), 67852)\n",
      "(('and',), 57181)\n",
      "(('.',), 46272)\n",
      "(('of',), 42852)\n",
      "(('to',), 28725)\n",
      "(('a',), 20159)\n",
      "(('in',), 20120)\n",
      "(('i',), 18219)\n",
      "(('that',), 17258)\n",
      "(('he',), 15456)\n",
      "(('it',), 13237)\n",
      "(('his',), 12829)\n",
      "(('for',), 11628)\n",
      "(('was',), 11323)\n",
      "(('not',), 10906)\n",
      "(('with',), 10593)\n",
      "(('is',), 9958)\n",
      "(('you',), 9731)\n",
      "(('be',), 9613)\n",
      "\n",
      "\n",
      "Bigram's 20 most common words:\n",
      "(('.', '<end>'), 46022)\n",
      "(('of', 'the'), 11586)\n",
      "(('the', '<UNK>'), 8183)\n",
      "(('<start>', 'and'), 8024)\n",
      "(('<UNK>', 'and'), 6372)\n",
      "(('in', 'the'), 6178)\n",
      "(('?', '<end>'), 6138)\n",
      "(('and', 'the'), 5427)\n",
      "(('<UNK>', '<UNK>'), 5277)\n",
      "(('!', '<end>'), 5014)\n",
      "(('<UNK>', '.'), 4906)\n",
      "(('and', '<UNK>'), 4697)\n",
      "(('<UNK>', 'of'), 4202)\n",
      "(('the', 'lord'), 4199)\n",
      "(('<start>', 'i'), 3431)\n",
      "(('of', '<UNK>'), 3354)\n",
      "(('to', 'the'), 3274)\n",
      "(('<UNK>', 'the'), 3135)\n",
      "(('<start>', 'the'), 3071)\n",
      "(('a', '<UNK>'), 2472)\n",
      "\n",
      "\n",
      "Trigram's 20 most common words:\n",
      "(('.', '<end>', '<end>'), 46022)\n",
      "(('<start>', '<start>', 'and'), 8024)\n",
      "(('?', '<end>', '<end>'), 6138)\n",
      "(('!', '<end>', '<end>'), 5014)\n",
      "(('<UNK>', '.', '<end>'), 4876)\n",
      "(('<start>', '<start>', 'i'), 3431)\n",
      "(('<start>', '<start>', 'the'), 3071)\n",
      "(('<start>', '<start>', 'but'), 2411)\n",
      "(('<start>', '<start>', 'he'), 2091)\n",
      "(('<UNK>', 'and', '<UNK>'), 1723)\n",
      "(('the', '<UNK>', 'of'), 1537)\n",
      "(('<start>', '<start>', '<UNK>'), 1406)\n",
      "(('<start>', '<start>', 'for'), 1354)\n",
      "(('<start>', '<start>', 'it'), 1322)\n",
      "(('<start>', 'and', 'the'), 1310)\n",
      "(('<start>', '<start>', 'then'), 1132)\n",
      "(('of', 'the', 'lord'), 1085)\n",
      "(('of', 'the', '<UNK>'), 1013)\n",
      "(('<UNK>', 'of', 'the'), 1004)\n",
      "(('it', '.', '<end>'), 982)\n"
     ]
    }
   ],
   "source": [
    "vocab_len = len(vocabulary)\n",
    "print (\"Vocabulary length: \", vocab_len)\n",
    "\n",
    "print(\"Unigram's 20 most common words:\")\n",
    "unigram_top_20 = _calc_ngrams(train_corpus, 1).most_common(20)\n",
    "for gram in unigram_top_20:\n",
    "    print(gram)\n",
    "\n",
    "print(\"\\n\")\n",
    "print(\"Bigram's 20 most common words:\")\n",
    "bigram_top_20 = _calc_ngrams(train_corpus,2).most_common(20)\n",
    "for gram in bigram_top_20:\n",
    "    print(gram)\n",
    "\n",
    "\n",
    "print(\"\\n\")\n",
    "print(\"Trigram's 20 most common words:\")\n",
    "trigram_top_20 = _calc_ngrams(train_corpus,3).most_common(20)\n",
    "for gram in trigram_top_20:\n",
    "    print(gram)"
   ]
  },
  {
   "cell_type": "markdown",
   "id": "9361a4ed-2f57-4f4b-a61f-6227992bacf8",
   "metadata": {},
   "source": [
    "(ii). First step: Tune α (alpha)"
   ]
  },
  {
   "cell_type": "markdown",
   "id": "a2f8740d-4f21-49fc-abca-319b07e97926",
   "metadata": {},
   "source": [
    "##  Calculate bi-gram probability\n",
    "\n",
    "### $ P(w_2|w_1) = \\frac{C(w_1,w_2) + \\alpha}{C(w_1) + \\alpha \\cdot|V|} $\n",
    "\n",
    "* $ C(w_1,w_2) $ : bigram count\n",
    "* $ C(w_1) $ : unigram count\n",
    "* $ 0 \\leq\\alpha \\leq1 $ :  smoothing hyper-parameter\n",
    "* |V|: vocabulary size"
   ]
  },
  {
   "cell_type": "markdown",
   "id": "32c2fbe4-0a4b-4a7d-bb1b-5daad8b369c6",
   "metadata": {},
   "source": [
    "## Bi-gram LM Cross entropy & perplexity\n",
    "\n",
    "* $ CrossEntropy = -\\frac{1}{N}\\sum^{bigrams}{log_2(P(w_2|w_1))} $\n",
    " * N: Number of bigrams\n",
    "* $ Perplexity = 2^{H(p)} $"
   ]
  },
  {
   "cell_type": "markdown",
   "id": "ea916643-39d0-4b00-830d-e294299450fe",
   "metadata": {},
   "source": [
    "## Tri-gram LM Cross entropy & perplexity\n",
    "\n",
    "### $ P(w_3|w_1,w_2) = \\frac{C(w_1,w_2,w_3) + \\alpha}{C(w_1,w_2) + \\alpha \\cdot |V|} $\n",
    "\n",
    "* $ C(w_1,w_2,w_3) $ : trigram count\n",
    "* $ C(w_1,w_2) $ : bigram count\n",
    "* $ 0 \\leq\\alpha \\leq1 $ :  smoothing hyper-parameter\n",
    "* |V|: vocabulary size"
   ]
  },
  {
   "cell_type": "code",
   "execution_count": 26,
   "id": "97dd4ed9-b159-469c-8686-ce887789cc58",
   "metadata": {
    "tags": []
   },
   "outputs": [],
   "source": [
    "def cross_entropy(model: BaseNgramModel, dataset: list[list[str]]) -> float:\n",
    "    \"\"\"\n",
    "    Calculate the cross-entropy of a language model on a given dataset.\n",
    "    \n",
    "    Cross-entropy measures how well the language model predicts the given dataset.\n",
    "    Lower cross-entropy indicates better model performance.\n",
    "    \n",
    "    :param model: The n-gram language model for which cross-entropy is calculated.\n",
    "    :param dataset: The dataset as a list of tokenized sentences, where each sentence is a list of strings.\n",
    "    :return: The cross-entropy score as a float.\n",
    "             Lower values indicate better performance in predicting the dataset.\n",
    "    \"\"\"\n",
    "    # since la place smoothing is only involved during inference\n",
    "    # we don't need to refit the model\n",
    "    sum_prob = 0\n",
    "    word_count = 0\n",
    "    \n",
    "    for sentence in dataset:       \n",
    "        # since this is a full sentence we manually append the end token\n",
    "        sentence += [END_TOKEN]\n",
    "        \n",
    "        # take into account only the END_TOKEN since START token probs are not computed\n",
    "        word_count += len(sentence)\n",
    "        \n",
    "        # get sentence probability\n",
    "        sum_prob += bi_model.sentence_proba(sentence) \n",
    "    \n",
    "    # do we need to logarithmize this again?\n",
    "    return - sum_prob / word_count\n",
    "\n",
    "\n",
    "def perplexity(cross_entropy: float) -> float:\n",
    "    \"\"\"\n",
    "    Calculate perplexity from cross-entropy.\n",
    "    \n",
    "    Perplexity is a measure of how well the language model predicts the given dataset.\n",
    "    A model with a perplexity of k, has approximately a 1/k chance of correctly predicting the next word in a sentence.\n",
    "    \n",
    "    :param cross_entropy: The cross-entropy score calculated for a language model on a dataset.\n",
    "    :return: The perplexity score as a float.\n",
    "             Lower values indicate better performance in predicting the dataset.\n",
    "    \"\"\"\n",
    "    return 2**cross_entropy"
   ]
  },
  {
   "cell_type": "code",
   "execution_count": 27,
   "id": "25018b37-e7d2-443d-8b79-39c0d2e49fbd",
   "metadata": {},
   "outputs": [],
   "source": [
    "def plot_alpha_vs_entropy(alpha_values, entropy, best_index):\n",
    "    plt.figure(figsize=(10, 6))\n",
    "    plt.plot(alpha_values, entropy, marker='o', linestyle='-', color='b')\n",
    "    plt.title('Alpha vs Entropy')\n",
    "    plt.xlabel('Alpha Values')\n",
    "    plt.ylabel('Cross Entropy')\n",
    "    plt.grid(True)\n",
    "    \n",
    "    # Highlight the best alpha value\n",
    "    plt.scatter(alpha_values[best_index], entropy[best_index], color='r', marker='x', label='Best Alpha')\n",
    "    \n",
    "    plt.legend()\n",
    "    plt.show()\n"
   ]
  },
  {
   "cell_type": "code",
   "execution_count": 28,
   "id": "6e4809e1-9596-4e76-8094-0b4c241f57ca",
   "metadata": {
    "tags": []
   },
   "outputs": [],
   "source": [
    "def ngram_model_alpha_search(fitted_model: BaseNgramModel, \n",
    "                             alpha_values: np.ndarray, \n",
    "                             validation_dataset: list[list[str]]) -> float:\n",
    "    entropy_arr = np.full_like(alpha_values, np.inf)\n",
    "    \n",
    "    for i in range(len(alpha_values)):\n",
    "        fitted_model.alpha = alpha_values[i]\n",
    "        entropy_arr[i] = cross_entropy(fitted_model, validation_dataset)\n",
    "        \n",
    "       \n",
    "    best_index = np.argmin(entropy_arr)\n",
    "    plot_alpha_vs_entropy(alpha_values,entropy_arr, best_index) \n",
    "    return alpha_values[best_index]"
   ]
  },
  {
   "cell_type": "code",
   "execution_count": 30,
   "id": "4b3cc2dd-e3f0-4f93-80ee-bf3a8205383b",
   "metadata": {
    "tags": []
   },
   "outputs": [
    {
     "data": {
      "image/png": "[encoded data removed]",
      "text/plain": [
       "<Figure size 1000x600 with 1 Axes>"
      ]
     },
     "metadata": {},
     "output_type": "display_data"
    },
    {
     "name": "stdout",
     "output_type": "stream",
     "text": [
      "Optimal alpha (bigram model):  0.0001\n"
     ]
    }
   ],
   "source": [
    "bi_model = BigramModel(alpha=0.001)\n",
    "bi_model.fit(train_corpus)\n",
    "\n",
    "bi_opt_alpha = ngram_model_alpha_search(bi_model, np.linspace(0.0001, 1, 100), development_set)\n",
    "print(\"Optimal alpha (bigram model): \", bi_opt_alpha)"
   ]
  },
  {
   "cell_type": "code",
   "execution_count": 31,
   "id": "871e5b71-306b-46f9-b96d-b2d2cb1d71d9",
   "metadata": {
    "tags": []
   },
   "outputs": [
    {
     "data": {
      "image/png": "[encoded data removed]",
      "text/plain": [
       "<Figure size 1000x600 with 1 Axes>"
      ]
     },
     "metadata": {},
     "output_type": "display_data"
    },
    {
     "name": "stdout",
     "output_type": "stream",
     "text": [
      "Optimal alpha (trigram model):  0.0001\n"
     ]
    }
   ],
   "source": [
    "tri_model = TrigramModel(alpha=0.001)\n",
    "tri_model.fit(train_corpus)\n",
    "\n",
    "tri_opt_alpha = ngram_model_alpha_search(tri_model, np.linspace(0.0001, 1, 100), development_set)\n",
    "print(\"Optimal alpha (trigram model): \", tri_opt_alpha)"
   ]
  },
  {
   "cell_type": "code",
   "execution_count": 32,
   "id": "17f41bba-770b-40a2-8f26-85695431ab9c",
   "metadata": {
    "tags": []
   },
   "outputs": [
    {
     "name": "stdout",
     "output_type": "stream",
     "text": [
      "Bi-gram model Cross Entropy:  6.170078937070566\n",
      "Bi-gram model Perplexity:  72.00768281323423\n"
     ]
    }
   ],
   "source": [
    "bi_model = BigramModel(alpha = bi_opt_alpha)\n",
    "bi_model.fit(train_corpus)\n",
    "\n",
    "bi_hc = cross_entropy(bi_model, train_corpus)\n",
    "print(\"Bi-gram model Cross Entropy: \", bi_hc)\n",
    "print(\"Bi-gram model Perplexity: \", perplexity(bi_hc))"
   ]
  },
  {
   "cell_type": "code",
   "execution_count": 33,
   "id": "19423c60-91e1-42d6-98a2-2a902ae7a156",
   "metadata": {
    "tags": []
   },
   "outputs": [
    {
     "name": "stdout",
     "output_type": "stream",
     "text": [
      "Tri-gram model Cross Entropy:  7.07937207403061\n",
      "Tri-gram model Perplexity:  135.23943407715737\n"
     ]
    }
   ],
   "source": [
    "tri_model = TrigramModel(alpha = tri_opt_alpha)\n",
    "tri_model.fit(train_corpus)\n",
    "\n",
    "tri_hc = cross_entropy(tri_model, train_corpus)\n",
    "print(\"Tri-gram model Cross Entropy: \", tri_hc)\n",
    "print(\"Tri-gram model Perplexity: \", perplexity(tri_hc))"
   ]
  },
  {
   "cell_type": "markdown",
   "id": "8f62e2d9-1ea3-4935-9d0b-735e7c37c21e",
   "metadata": {},
   "source": [
    "Now, let's test the performance in the test set, after having defined the optimal alpha."
   ]
  },
  {
   "cell_type": "code",
   "execution_count": 34,
   "id": "1152d733-1df0-4cb2-8540-535f1179626d",
   "metadata": {},
   "outputs": [
    {
     "name": "stdout",
     "output_type": "stream",
     "text": [
      "Bi-gram model Cross Entropy: 9.87\n",
      "Bi-gram model Perplexity: 933.541601\n"
     ]
    }
   ],
   "source": [
    "# since la place smoothing is only involved during inference\n",
    "# we don't need to refit the model\n",
    "bi_model.alpha = bi_opt_alpha\n",
    "\n",
    "bi_hc = cross_entropy(bi_model, test_set)\n",
    "print(f\"Bi-gram model Cross Entropy: {bi_hc:.2f}\", )\n",
    "print(f\"Bi-gram model Perplexity: {perplexity(bi_hc):2f}\")"
   ]
  },
  {
   "cell_type": "code",
   "execution_count": 35,
   "id": "18ad5452-996f-4677-8fed-c06bb0c6361e",
   "metadata": {},
   "outputs": [
    {
     "name": "stdout",
     "output_type": "stream",
     "text": [
      "Tri-gram model Cross Entropy: 10.88\n",
      "Tri-gram model Perplexity: 1883.45\n"
     ]
    }
   ],
   "source": [
    "tri_model.alpha = tri_opt_alpha\n",
    "\n",
    "tri_hc = cross_entropy(tri_model, test_set)\n",
    "print(f\"Tri-gram model Cross Entropy: {tri_hc:.2f}\")\n",
    "print(f\"Tri-gram model Perplexity: {perplexity(tri_hc):.2f}\")"
   ]
  },
  {
   "cell_type": "code",
   "execution_count": 36,
   "id": "75603bb8-21ee-469b-bf12-85665e9094b1",
   "metadata": {},
   "outputs": [],
   "source": [
    "max_depth = 5\n",
    "beam_width = 3"
   ]
  },
  {
   "cell_type": "markdown",
   "id": "f53a8c72-e1a8-44dc-8338-266bbf419ee2",
   "metadata": {},
   "source": [
    "v. Create a fake dataset"
   ]
  },
  {
   "cell_type": "code",
   "execution_count": 38,
   "id": "dcf7846c-676f-42ed-8edb-5ef8cc6a557b",
   "metadata": {},
   "outputs": [],
   "source": [
    "from nltk.tokenize import sent_tokenize\n",
    "UNK_sentences = [sent_tokenize(' '.join(sentence)) for sentence in train_corpus]       #get the sentences that include UNK values"
   ]
  },
  {
   "cell_type": "code",
   "execution_count": 39,
   "id": "5489ff0f-2e72-4587-bdf6-e75e561b83fc",
   "metadata": {},
   "outputs": [
    {
     "name": "stdout",
     "output_type": "stream",
     "text": [
      "Original: ['and the lord said unto joshua this day have i rolled away the reproach of egypt from off you .', '<end> <end>']\n",
      "Corrupted: ['and the iotd ceid unfo joshua this bav hawa i tollad awey the reproesn of egypf trom off yoo .', '<emd> <emb>']\n",
      "\n",
      "---\n",
      "\n",
      "Original: ['then i entered the hotel and coming round the other side of him saw his face in the sunlight .', '<end> <end>']\n",
      "Corrupted: ['then i enfered tha hofel end conimj round tne otnet cide of hin sew nis faca in the sunlijht .', '<end> <enb>']\n",
      "\n",
      "---\n",
      "\n",
      "Original: ['and for an unclean person they shall take of the ashes of the burnt heifer of <UNK> for sin and running water shall be put thereto in a vessel and a clean person shall take <UNK> and dip it in the water and sprinkle it upon the tent and upon all the vessels and upon the persons that were there and upon him that touched a bone or one slain or one dead or a grave and the clean person shall sprinkle upon the unclean on the third day and on the seventh day and on the seventh day he shall <UNK> himself and wash his clothes and bathe himself in water and shall be clean at even .', '<end> <end>']\n",
      "Corrupted: ['end for am uncleam patsom tnay chall take of fhe ashes of the burnf heifer ot <UNK> for sin amd rumning watet chall be put theretu in a vessel amd a slean bercon shell take <UNK> amd dip it in tne water and sptimkle it ubon the tent end upon all the vassals end upon fhe persons thaf were fhere and upon nim that touched a bome or ome clain or one bead or a grave amb fhe sieen bersum chall cprlmkle opon the unclean on tne tnird dey and on tna sevamth dav and on tna seventh bay he cnall <UNK> himself and wash his clothas and batha hlmcelt im watet and chall pa clean at even .', '<emd> <emd>']\n",
      "\n",
      "---\n",
      "\n",
      "Original: ['now philip was of <UNK> the city of <UNK> and peter .', '<end> <end>']\n",
      "Corrupted: ['mow philip wac of <UNK> the clty ot <UNK> and peter .', '<and> <emb>']\n",
      "\n",
      "---\n",
      "\n",
      "Original: [\"now therefore if ye have done truly and sincerely in that ye have made abimelech king and if ye have dealt well with <UNK> and his house and have done unto him according to the deserving of his hands for my father fought for you and <UNK> his life far and delivered you out of the hand of midian and ye are risen up against my father 's house this day and have slain his sons threescore and ten persons upon one stone and have made abimelech the son of his maidservant king over the men of shechem because he is your brother if ye then have dealt truly and sincerely with <UNK> and with his house this day then rejoice ye in abimelech and let him also rejoice in you but if not let fire come out from abimelech and devour the men of shechem and the house of <UNK> and let fire come out from the men of shechem and from the house of <UNK> and devour abimelech .\", '<end> <end>']\n",
      "Corrupted: [\"now thetefote if ye hava bune truiy and slncarely in thet ye nave made abimelecn klng anb it ye heve dealf vell with <UNK> and his houca and nava duma unfo him according to tha dasarvlnj of hic hands for my fethar foughf tor voo amd <UNK> his ilfe tar end beiivatad yuu out of the hand uf midian anb ye ara risen up egeimst mv tatner 's houce fhis day and nava slain nis suns thraaccure anb ten persuns upun une sfone end heva mada abimelesh the sun ut his maidservant klng over tha mem of snechem becauce he ic your btofher if ye fnen hava dealt trulv and sincetaiy with <UNK> and witn nls housa fhis day than tejuise ye im ebimalach anb let him also regoice im yuu but lt mot iet fita cuna out fron ablmelech and devuur the mem of shechem and the house of <UNK> amd let fire come out from the nem ot shecnen and trom fha huuca uf <UNK> and devour abimelach .\", '<and> <amb>']\n",
      "\n",
      "---\n",
      "\n",
      "Original: ['that is he spoke with <UNK> and <UNK> rapidity but with no <UNK> and therefore with no emotion .', '<end> <end>']\n",
      "Corrupted: ['that ls ne spoke vifh <UNK> and <UNK> rapiditv put wlfh nu <UNK> end therefore wlth no emotiun .', '<emd> <end>']\n",
      "\n",
      "---\n",
      "\n",
      "Original: ['a <UNK> shall not enter into the congregation of the lord even to his tenth generation shall he not enter into the congregation of the lord .', '<end> <end>']\n",
      "Corrupted: ['a <UNK> shell not enter lntu the congregafiom of fhe lurd avan to his fenth generation chall ha mot emter lnto the songregefiun ot the lorb .', '<end> <end>']\n",
      "\n",
      "---\n",
      "\n",
      "Original: ['that he is <UNK> by you replied willoughby is certainly in his favour but as for the esteem of the others it is a reproach in itself .', '<end> <end>']\n",
      "Corrupted: ['thaf na ls <UNK> by vuo teplied willooghby is settainly in his favoor but ac for the ecteam ot tne ofhars lt is e reproech in itself .', '<emd> <amd>']\n",
      "\n",
      "---\n",
      "\n",
      "Original: ['he shall judge the poor of the people he shall save the children of the needy and shall break in pieces the <UNK> .', '<end> <end>']\n",
      "Corrupted: ['he snall jobga the poor ot the people he sheil cawe tha childten uf fhe meabv and snaii break in pieces the <UNK> .', '<enb> <end>']\n",
      "\n",
      "---\n",
      "\n",
      "Original: ['others gathered round and joined them weeping .', '<end> <end>']\n",
      "Corrupted: ['othats gathered round and juined tham weeplnj .', '<end> <emb>']\n",
      "\n",
      "---\n",
      "\n",
      "Original: ['thou hast made void the covenant of thy servant thou hast profaned his crown by casting it to the ground .', '<end> <end>']\n",
      "Corrupted: ['fhou hast mada void the cowenant of tny setwant thou hast ptofanad his sruwn bv cestlmg it to tha groumd .', '<end> <emd>']\n",
      "\n",
      "---\n",
      "\n",
      "Original: ['he turned the sea into dry land they went through the flood on foot there did we rejoice in him .', '<end> <end>']\n",
      "Corrupted: ['he furneb the sea intu drv land they wemt through the flood on foot thete dld we rejoica in him .', '<emb> <end>']\n",
      "\n",
      "---\n",
      "\n",
      "Original: ['ben before he ventured his last arrow <UNK> examined the string of his bow and as he pulled it to try its strength it <UNK> .', '<end> <end>']\n",
      "Corrupted: ['bem bafore ha venturad hls last atruw <UNK> examined the string of nic pow and es he pulled lt to try itc strangtn it <UNK> .', '<enb> <end>']\n",
      "\n",
      "---\n",
      "\n",
      "Original: ['therefore his people return hither and waters of a full cup are <UNK> out to them .', '<end> <end>']\n",
      "Corrupted: ['tnarefute his beople refurn nither and watets uf a full cup ere <UNK> out tu them .', '<end> <emd>']\n",
      "\n",
      "---\n",
      "\n",
      "Original: ['the <UNK> <UNK> .', '<end> <end>']\n",
      "Corrupted: ['fhe <UNK> <UNK> .', '<end> <amd>']\n",
      "\n",
      "---\n",
      "\n",
      "Original: ['the sun and moon stood still in their habitation at the light of thine arrows they went and at the shining of thy glittering spear .', '<end> <end>']\n",
      "Corrupted: ['fha son and moon sfuud sfili in tnelt hapltation at the lignt uf thine arruwc fney want and et the shlming uf fhv gllfterimg cpear .', '<end> <end>']\n",
      "\n",
      "---\n",
      "\n",
      "Original: ['as soon as my aunt gets well i shall go abroad said he .', '<end> <end>']\n",
      "Corrupted: ['as soon as mv aunf jets well i shell jo abroad said he .', '<amd> <end>']\n",
      "\n",
      "---\n",
      "\n",
      "Original: ['thank you willoughby .', '<end> <end>']\n",
      "Corrupted: ['tnenk yuu willooghpy .', '<end> <end>']\n",
      "\n",
      "---\n",
      "\n",
      "Original: ['the simple believeth every word but the prudent man looketh well to his going .', '<end> <end>']\n",
      "Corrupted: ['tne sinple peiieveth every wurd buf the ptudemf man looketh weli fo nis goinj .', '<and> <and>']\n",
      "\n",
      "---\n",
      "\n",
      "Original: ['bell rings .', '<end> <end>']\n",
      "Corrupted: ['pell tingc .', '<end> <end>']\n",
      "\n",
      "---\n",
      "\n",
      "Original: ['this was the fact .', '<end> <end>']\n",
      "Corrupted: ['thic wes tne facf .', '<end> <end>']\n",
      "\n",
      "---\n",
      "\n",
      "Original: ['and thou shalt put into the ark the testimony which i shall give thee .', '<end> <end>']\n",
      "Corrupted: ['amd thuu shalt put into tne erk fha testlnomy which i snell give thee .', '<end> <emd>']\n",
      "\n",
      "---\n",
      "\n",
      "Original: ['the mr. <UNK> were also in town and they were only waiting for november .', '<end> <end>']\n",
      "Corrupted: ['the mr. <UNK> weta aiso in tovn and they wera only waiting for movemper .', '<anb> <end>']\n",
      "\n",
      "---\n",
      "\n",
      "Original: ['by the <UNK> <UNK> through the <UNK> bare they have planted thorn trees for pleasure here and there .', '<end> <end>']\n",
      "Corrupted: ['bv tne <UNK> <UNK> thruugh the <UNK> bare tney hawe planfed thorn trees for pieasura hete end thete .', '<end> <end>']\n",
      "\n",
      "---\n",
      "\n",
      "Original: ['for if that which is done away was glorious much more that which remaineth is glorious .', '<end> <end>']\n",
      "Corrupted: ['tor if that which is done away vas jioriouc mucn nore that vhlch tenaineth is glutious .', '<and> <enb>']\n",
      "\n",
      "---\n",
      "\n",
      "Original: [\"in those extraordinary circumstances the press was <UNK> into <UNK> and <UNK> and the rest of this somewhat singular business can <UNK> be recorded from <UNK> of bruno 's trial .\", '<end> <end>']\n",
      "Corrupted: [\"in fhuce exfraordimary clrcomstencec tha precs was <UNK> into <UNK> and <UNK> end the rest uf tnis sonawnat sinjulat businecs cem <UNK> be tesurbeb fron <UNK> of bruno 's trlai .\", '<end> <emd>']\n",
      "\n",
      "---\n",
      "\n",
      "Original: ['<UNK> an armed head .', '<end> <end>']\n",
      "Corrupted: ['<UNK> an arned nead .', '<end> <and>']\n",
      "\n",
      "---\n",
      "\n",
      "Original: ['hast thou utterly rejected judah ?', '<end> <end>']\n",
      "Corrupted: ['nast tnuu uttetiy regested jodan ?', '<and> <end>']\n",
      "\n",
      "---\n",
      "\n",
      "Original: ['so haue i heard and do in part beleeue it .', '<end> <end>']\n",
      "Corrupted: ['so haue i heard and do in part peieeue it .', '<emd> <end>']\n",
      "\n",
      "---\n",
      "\n",
      "Original: ['the <UNK> would have been different .', '<end> <end>']\n",
      "Corrupted: ['the <UNK> wuuld nave been ditferent .', '<anb> <and>']\n",
      "\n",
      "---\n",
      "\n",
      "Original: ['howbeit in the business of the <UNK> of the princes of babylon who sent unto him to enquire of the wonder that was done in the land god left him to try him that he might know all that was in his heart .', '<end> <end>']\n",
      "Corrupted: ['howpalf in tne busimacs uf tne <UNK> uf fhe prlnces of babylom wno sent umto him fo enquire ot the vomdet tnat vas dome in tne iand god ieff him to try nlm fhat he mljht know all tnat wac in nis neert .', '<enb> <end>']\n",
      "\n",
      "---\n",
      "\n",
      "Original: ['then and then only under such a roof i might perhaps be as happy at <UNK> as i have been at barton .', '<end> <end>']\n",
      "Corrupted: ['then anb fhem only undet sucn a ruot l might perhabs ba as hapbv at <UNK> as i have baem af batton .', '<emd> <end>']\n",
      "\n",
      "---\n",
      "\n",
      "Original: ['and rachel said with great <UNK> have i <UNK> with my sister and i have prevailed and she called his name naphtali .', '<end> <end>']\n",
      "Corrupted: ['end rachei salb with jreaf <UNK> nava i <UNK> vith mv slsfet anb l nawa preveiled and sha celled hls nane maphtall .', '<enb> <end>']\n",
      "\n",
      "---\n",
      "\n",
      "Original: ['talb .', '<end> <end>']\n",
      "Corrupted: ['talb .', '<end> <end>']\n",
      "\n",
      "---\n",
      "\n",
      "Original: ['he had been introduced to sir walter and your sister before i was acquainted with him but i heard him speak of them for ever .', '<end> <end>']\n",
      "Corrupted: ['ha had baen imtroduced to cir velter anb yuur sister pafote i was ecquainfed vitn him but i heerd him speak uf tham for ewer .', '<end> <end>']\n",
      "\n",
      "---\n",
      "\n",
      "Original: ['the name of cassius <UNK> this corruption and <UNK> doth therefore hide his head cassi .', '<end> <end>']\n",
      "Corrupted: ['the neme of cassius <UNK> thls cotrupfiun and <UNK> dotn therafure hida nls head cessi .', '<end> <emd>']\n",
      "\n",
      "---\n",
      "\n",
      "Original: ['he demanded .', '<end> <end>']\n",
      "Corrupted: ['ne demendad .', '<end> <end>']\n",
      "\n",
      "---\n",
      "\n",
      "Original: ['mr. <UNK> the butler here interrupted the hurrying young gentleman in his <UNK> .', '<end> <end>']\n",
      "Corrupted: ['mr. <UNK> the putler nere lmfarruptab fne hurrying yuong gentleman in hlc <UNK> .', '<end> <emd>']\n",
      "\n",
      "---\n",
      "\n",
      "Original: ['answer me said the lady where did you see this basket ?', '<end> <end>']\n",
      "Corrupted: ['answer ma seid tha ledy where dib you see thic basxat ?', '<enb> <end>']\n",
      "\n",
      "---\n",
      "\n",
      "Original: ['he cried <UNK> the heavy charged <UNK> to the nearest seaman .', '<end> <end>']\n",
      "Corrupted: ['ha cried <UNK> the neavy chatged <UNK> to the neeresf seaman .', '<anb> <end>']\n",
      "\n",
      "---\n",
      "\n",
      "Original: ['clo .', '<end> <end>']\n",
      "Corrupted: ['clo .', '<emd> <end>']\n",
      "\n",
      "---\n",
      "\n",
      "Original: ['enough .', '<end> <end>']\n",
      "Corrupted: ['enough .', '<end> <end>']\n",
      "\n",
      "---\n",
      "\n",
      "Original: ['how shall you employ yourself when you grow old ?', '<end> <end>']\n",
      "Corrupted: ['how shall you employ yuorself when you gtuv old ?', '<anb> <anb>']\n",
      "\n",
      "---\n",
      "\n",
      "Original: ['it was as much as she could do lying down on one side to look through into the garden with one eye but to get through was more hopeless than ever she sat down and began to cry again .', '<end> <end>']\n",
      "Corrupted: ['lt was as nuch es she could du lying bown un one slde fo luuk through info the garden vlth one eye but tu get throojh was mote hobeiass than evat cha sat down anb begam tu cry ajain .', '<anb> <end>']\n",
      "\n",
      "---\n",
      "\n",
      "Original: ['i caught it especially for you .', '<end> <end>']\n",
      "Corrupted: ['i saoght it espesieily tor you .', '<end> <enb>']\n",
      "\n",
      "---\n",
      "\n",
      "Original: ['and they took them alive and slew them at the pit of the <UNK> house even two and forty men neither left he any of them .', '<end> <end>']\n",
      "Corrupted: ['and they fuox them aliwe and siaw them et the plt uf tne <UNK> houce even fwo amb fotty man neither leff ha anv uf tnem .', '<and> <end>']\n",
      "\n",
      "---\n",
      "\n",
      "Original: ['it <UNK> in ye <UNK> out at the serpent <UNK> eye .', '<end> <end>']\n",
      "Corrupted: ['it <UNK> ln ya <UNK> uut at the cerpemt <UNK> eye .', '<end> <end>']\n",
      "\n",
      "---\n",
      "\n",
      "Original: ['i then glanced round the room and besides the <UNK> and centre table could see no other furniture belonging to the place but a rude shelf the four walls and a <UNK> <UNK> <UNK> a man striking a whale .', '<end> <end>']\n",
      "Corrupted: ['l fhem jlanced round the room amd besidac the <UNK> and centre tabie could see no ofher futmltura beiunging to the blace but a rude snelt fhe four walls and a <UNK> <UNK> <UNK> e nam cfrlking e whaia .', '<emd> <end>']\n",
      "\n",
      "---\n",
      "\n",
      "Original: [\"mrs. jennings who had been inclined from the first to think marianne 's complaint more serious than elinor now looked very grave on mr. harris 's report and <UNK> charlotte 's fears and caution urged the necessity of her immediate removal with her infant and mr. palmer though <UNK> their apprehensions as idle found the anxiety and <UNK> of his wife too great to be <UNK> .\", '<end> <end>']\n",
      "Corrupted: [\"mrs. jennings whu nad been lmcilned from the firsf to think matiamme 's complaint mora carioos than allnor now looked very grave um mt. hatris 's rapott and <UNK> shatlutte 's taets and seutiun urged the necascity of her immediata temuvai wifn her infent and mr. paimer tnough <UNK> fheir apbrahensiuns as idle tuund tha anxiety and <UNK> of nis wlfa tou jreat tu be <UNK> .\", '<emd> <end>']\n",
      "\n",
      "---\n",
      "\n"
     ]
    }
   ],
   "source": [
    "import random\n",
    "\n",
    "def corrupt_sentence(sentence, probability):\n",
    "    corrupted_sentence = \"\"\n",
    "    for char in sentence:\n",
    "        if char != ' ' and random.random() < probability:\n",
    "            \n",
    "            corrupted_sentence += get_similar_char(char)                 #replace with a similar character\n",
    "        else:\n",
    "            corrupted_sentence += char\n",
    "    return corrupted_sentence\n",
    "\n",
    "def get_similar_char(char):\n",
    "    \n",
    "    # later on maybe use the nlpaug library here \n",
    "    similar_chars = {\n",
    "        'a': 'e',\n",
    "        'b': 'p',\n",
    "        'c': 's',\n",
    "        'd': 'b',\n",
    "        'e': 'a',\n",
    "        'f': 't',\n",
    "        'g': 'j',\n",
    "        'h': 'n',\n",
    "        'i': 'l',\n",
    "        'j': 'g',\n",
    "        'k': 'x',\n",
    "        'l': 'i',\n",
    "        'm': 'n',\n",
    "        'n': 'm',\n",
    "        'o': 'u',\n",
    "        'p': 'b',\n",
    "        'q': 'g',\n",
    "        'r': 't',\n",
    "        's': 'c',\n",
    "        't': 'f',\n",
    "        'u': 'o',\n",
    "        'v': 'w',\n",
    "        'w': 'v',\n",
    "        'x': 'k',\n",
    "        'y': 'v',\n",
    "        'z': 's',\n",
    "    }\n",
    "\n",
    "    \n",
    "    return similar_chars.get(char, char)                            #return a randomly chosen character\n",
    "\n",
    "'''\n",
    "test_corpus = [\"he plays football\",\n",
    "               \"he plais footbal\",\n",
    "               \"she enjoys good football\",\n",
    "               \"she plays good music\",\n",
    "               \"he prays to god\",\n",
    "               \"please buy me the other ball\",\n",
    "               \"he pleases the other players by playing good football\",\n",
    "               \"he plys god ftball\"]\n",
    "\n",
    "'''\n",
    "probability = 0.2                                        #probability of character replacement\n",
    "\n",
    "\n",
    "     \n",
    "corrupted_corpus = [[corrupt_sentence(word, probability) for word in sentence] for sentence in UNK_sentences[1:50]]   #generate the corrupted corpus\n",
    "\n",
    "for original, corrupted in zip(UNK_sentences[1:50], corrupted_corpus):\n",
    "    print(f\"Original: {original}\")\n",
    "    print(f\"Corrupted: {corrupted}\")\n",
    "    print(\"\\n---\\n\")\n"
   ]
  },
  {
   "cell_type": "code",
   "execution_count": 40,
   "id": "7bde09d0-4ad6-4a34-a17a-46e1a6e0bd34",
   "metadata": {},
   "outputs": [],
   "source": [
    "from nltk.tokenize import TweetTokenizer\n",
    "\n",
    "\n",
    "tweet_wt = TweetTokenizer()\n",
    "tokenized = [tweet_wt.tokenize(' '.join(sentence)) for sentence in UNK_sentences[:50]]  # Get the first 50 sentences\n",
    "\n",
    "model = BigramModel(alpha=0.01)\n",
    "model.fit(tokenized)                                # model is fitted with the correct and tokenized words\n",
    "\n",
    "corrupted_tokenized = [tweet_wt.tokenize(sentence) for sentence_list in corrupted_corpus for sentence in sentence_list] #tokenize the corrupted sentences"
   ]
  },
  {
   "cell_type": "code",
   "execution_count": 41,
   "id": "6779be16-f60e-4fbf-a336-c0e2dad91458",
   "metadata": {},
   "outputs": [
    {
     "name": "stdout",
     "output_type": "stream",
     "text": [
      "Original sentences: [['that is he spoke with <UNK> and <UNK> rapidity but with no <UNK> and therefore with no emotion .', '<end> <end>'], ['a <UNK> shall not enter into the congregation of the lord even to his tenth generation shall he not enter into the congregation of the lord .', '<end> <end>'], ['that he is <UNK> by you replied willoughby is certainly in his favour but as for the esteem of the others it is a reproach in itself .', '<end> <end>'], ['he shall judge the poor of the people he shall save the children of the needy and shall break in pieces the <UNK> .', '<end> <end>'], ['others gathered round and joined them weeping .', '<end> <end>']]\n",
      "\n",
      "\n",
      "Corrupted(wrong) sentences: [['that ls ne spoke vifh <UNK> and <UNK> rapiditv put wlfh nu <UNK> end therefore wlth no emotiun .', '<emd> <end>'], ['a <UNK> shell not enter lntu the congregafiom of fhe lurd avan to his fenth generation chall ha mot emter lnto the songregefiun ot the lorb .', '<end> <end>'], ['thaf na ls <UNK> by vuo teplied willooghby is settainly in his favoor but ac for the ecteam ot tne ofhars lt is e reproech in itself .', '<emd> <amd>'], ['he snall jobga the poor ot the people he sheil cawe tha childten uf fhe meabv and snaii break in pieces the <UNK> .', '<enb> <end>'], ['othats gathered round and juined tham weeplnj .', '<end> <emb>']]\n",
      "\n",
      "\n",
      "Final result (corrected sentences): [['<start>', 'now', 'philip', 'was', 'of', '<UNK>', '?', '<end>', '<end>', '<end>', '<end>', '<end>', '<end>', '<end>', '<end>', '<end>', '<end>', '<end>', '<end>', '<end>', '<end>'], ['<start>', 'thank', 'you', 'replied', 'willoughby', 'much', 'more', 'hopeless', 'than', 'elinor', 'now', 'looked', 'very', 'grave', 'and', 'the', 'lord', 'said', 'unto', 'joshua', 'this'], ['<start>', 'he', 'ventured', 'his', 'face', 'in', 'your', 'part', 'of', '<UNK>', '?', '<end>', '<end>', '<end>', '<end>', '<end>', '<end>', '<end>', '<end>', '<end>', '<end>'], ['<start>', 'thank', 'you', 'willoughby', 'much', 'more', 'hopeless', 'than', 'elinor', 'now', 'looked', 'very', 'grave', 'on', 'foot', 'there', 'did', 'we', 'rejoice', 'in', 'itself'], ['<start>', 'he', 'ventured', 'his', 'face', 'in', 'your', 'part', 'of', '<UNK>', '?', '<end>', '<end>', '<end>', '<end>', '<end>', '<end>', '<end>', '<end>', '<end>', '<end>']]\n"
     ]
    }
   ],
   "source": [
    "corrected = []\n",
    "corrector = BigramSpellCorrector(model, lamda1=0.5, lamda2=-0.5)\n",
    "for sent in corrupted_tokenized:\n",
    "  output_seq = corrector.spell_correct(original_tokenized_sentence=sent, max_depth = 20, beam_width = 3)  #give the corrupt sentences to spell correct\n",
    "  corrected.append(output_seq)\n",
    "    \n",
    "print('Original sentences:', UNK_sentences[6:11])\n",
    "print('\\n')\n",
    "print('Corrupted(wrong) sentences:', corrupted_corpus[5:10])\n",
    "print('\\n')\n",
    "print('Final result (corrected sentences):', corrected[5:10])"
   ]
  },
  {
   "cell_type": "code",
   "execution_count": 43,
   "id": "9aadeb1d-ed6d-4c29-9dbe-73cd4f88f7cd",
   "metadata": {
    "tags": []
   },
   "outputs": [
    {
     "name": "stdout",
     "output_type": "stream",
     "text": [
      "Original sentence ['is', 'mr', '.', 'willoughby', 'much', 'known', 'in', 'your', 'part', 'of', '<UNK>', '?', '<end>', '<end>']\n",
      "Original sentence:  ['is']\n",
      "Prediction:  certainly\n",
      "\n",
      "\n",
      "Original sentence:  ['is', 'mr']\n",
      "Prediction:  .\n",
      "\n",
      "\n",
      "Original sentence:  ['is', 'mr', '.']\n",
      "Prediction:  <end>\n",
      "\n",
      "\n",
      "Original sentence:  ['is', 'mr', '.', 'willoughby']\n",
      "Prediction:  much\n",
      "\n",
      "\n",
      "Original sentence:  ['is', 'mr', '.', 'willoughby', 'much']\n",
      "Prediction:  known\n",
      "\n",
      "\n",
      "Original sentence:  ['is', 'mr', '.', 'willoughby', 'much', 'known']\n",
      "Prediction:  in\n",
      "\n",
      "\n",
      "Original sentence:  ['is', 'mr', '.', 'willoughby', 'much', 'known', 'in']\n",
      "Prediction:  itself\n",
      "\n",
      "\n",
      "Original sentence:  ['is', 'mr', '.', 'willoughby', 'much', 'known', 'in', 'your']\n",
      "Prediction:  brother\n",
      "\n",
      "\n",
      "Original sentence:  ['is', 'mr', '.', 'willoughby', 'much', 'known', 'in', 'your', 'part']\n",
      "Prediction:  beleeue\n",
      "\n",
      "\n",
      "Original sentence:  ['is', 'mr', '.', 'willoughby', 'much', 'known', 'in', 'your', 'part', 'of']\n",
      "Prediction:  shechem\n",
      "\n",
      "\n",
      "Original sentence:  ['is', 'mr', '.', 'willoughby', 'much', 'known', 'in', 'your', 'part', 'of', '<UNK>']\n",
      "Prediction:  out\n",
      "\n",
      "\n",
      "Original sentence:  ['is', 'mr', '.', 'willoughby', 'much', 'known', 'in', 'your', 'part', 'of', '<UNK>', '?']\n",
      "Prediction:  <end>\n",
      "\n",
      "\n",
      "Original sentence ['and', 'the', 'lord', 'said', 'unto', 'joshua', 'this', 'day', 'have', 'i', 'rolled', 'away', 'the', 'reproach', 'of', 'egypt', 'from', 'off', 'you', '.', '<end>', '<end>']\n",
      "Original sentence:  ['and']\n",
      "Prediction:  sincerely\n",
      "\n",
      "\n",
      "Original sentence:  ['and', 'the']\n",
      "Prediction:  lord\n",
      "\n",
      "\n",
      "Original sentence:  ['and', 'the', 'lord']\n",
      "Prediction:  even\n",
      "\n",
      "\n",
      "Original sentence:  ['and', 'the', 'lord', 'said']\n",
      "Prediction:  unto\n",
      "\n",
      "\n",
      "Original sentence:  ['and', 'the', 'lord', 'said', 'unto']\n",
      "Prediction:  joshua\n",
      "\n",
      "\n",
      "Original sentence:  ['and', 'the', 'lord', 'said', 'unto', 'joshua']\n",
      "Prediction:  this\n",
      "\n",
      "\n",
      "Original sentence:  ['and', 'the', 'lord', 'said', 'unto', 'joshua', 'this']\n",
      "Prediction:  day\n",
      "\n",
      "\n",
      "Original sentence:  ['and', 'the', 'lord', 'said', 'unto', 'joshua', 'this', 'day']\n",
      "Prediction:  then\n",
      "\n",
      "\n",
      "Original sentence:  ['and', 'the', 'lord', 'said', 'unto', 'joshua', 'this', 'day', 'have']\n",
      "Prediction:  dealt\n",
      "\n",
      "\n",
      "Original sentence:  ['and', 'the', 'lord', 'said', 'unto', 'joshua', 'this', 'day', 'have', 'i']\n",
      "Prediction:  heard\n",
      "\n",
      "\n",
      "Original sentence:  ['and', 'the', 'lord', 'said', 'unto', 'joshua', 'this', 'day', 'have', 'i', 'rolled']\n",
      "Prediction:  away\n",
      "\n",
      "\n",
      "Original sentence:  ['and', 'the', 'lord', 'said', 'unto', 'joshua', 'this', 'day', 'have', 'i', 'rolled', 'away']\n",
      "Prediction:  was\n",
      "\n",
      "\n",
      "Original sentence:  ['and', 'the', 'lord', 'said', 'unto', 'joshua', 'this', 'day', 'have', 'i', 'rolled', 'away', 'the']\n",
      "Prediction:  lord\n",
      "\n",
      "\n",
      "Original sentence:  ['and', 'the', 'lord', 'said', 'unto', 'joshua', 'this', 'day', 'have', 'i', 'rolled', 'away', 'the', 'reproach']\n",
      "Prediction:  in\n",
      "\n",
      "\n",
      "Original sentence:  ['and', 'the', 'lord', 'said', 'unto', 'joshua', 'this', 'day', 'have', 'i', 'rolled', 'away', 'the', 'reproach', 'of']\n",
      "Prediction:  shechem\n",
      "\n",
      "\n",
      "Original sentence:  ['and', 'the', 'lord', 'said', 'unto', 'joshua', 'this', 'day', 'have', 'i', 'rolled', 'away', 'the', 'reproach', 'of', 'egypt']\n",
      "Prediction:  from\n",
      "\n",
      "\n",
      "Original sentence:  ['and', 'the', 'lord', 'said', 'unto', 'joshua', 'this', 'day', 'have', 'i', 'rolled', 'away', 'the', 'reproach', 'of', 'egypt', 'from']\n",
      "Prediction:  off\n",
      "\n",
      "\n",
      "Original sentence:  ['and', 'the', 'lord', 'said', 'unto', 'joshua', 'this', 'day', 'have', 'i', 'rolled', 'away', 'the', 'reproach', 'of', 'egypt', 'from', 'off']\n",
      "Prediction:  you\n",
      "\n",
      "\n",
      "Original sentence:  ['and', 'the', 'lord', 'said', 'unto', 'joshua', 'this', 'day', 'have', 'i', 'rolled', 'away', 'the', 'reproach', 'of', 'egypt', 'from', 'off', 'you']\n",
      "Prediction:  replied\n",
      "\n",
      "\n",
      "Original sentence:  ['and', 'the', 'lord', 'said', 'unto', 'joshua', 'this', 'day', 'have', 'i', 'rolled', 'away', 'the', 'reproach', 'of', 'egypt', 'from', 'off', 'you', '.']\n",
      "Prediction:  <end>\n",
      "\n",
      "\n",
      "Original sentence ['then', 'i', 'entered', 'the', 'hotel', 'and', 'coming', 'round', 'the', 'other', 'side', 'of', 'him', 'saw', 'his', 'face', 'in', 'the', 'sunlight', '.', '<end>', '<end>']\n",
      "Original sentence:  ['then']\n",
      "Prediction:  glanced\n",
      "\n",
      "\n",
      "Original sentence:  ['then', 'i']\n",
      "Prediction:  heard\n",
      "\n",
      "\n",
      "Original sentence:  ['then', 'i', 'entered']\n",
      "Prediction:  the\n",
      "\n",
      "\n",
      "Original sentence:  ['then', 'i', 'entered', 'the']\n",
      "Prediction:  lord\n",
      "\n",
      "\n",
      "Original sentence:  ['then', 'i', 'entered', 'the', 'hotel']\n",
      "Prediction:  and\n",
      "\n",
      "\n",
      "Original sentence:  ['then', 'i', 'entered', 'the', 'hotel', 'and']\n",
      "Prediction:  sincerely\n",
      "\n",
      "\n",
      "Original sentence:  ['then', 'i', 'entered', 'the', 'hotel', 'and', 'coming']\n",
      "Prediction:  round\n",
      "\n",
      "\n",
      "Original sentence:  ['then', 'i', 'entered', 'the', 'hotel', 'and', 'coming', 'round']\n",
      "Prediction:  the\n",
      "\n",
      "\n",
      "Original sentence:  ['then', 'i', 'entered', 'the', 'hotel', 'and', 'coming', 'round', 'the']\n",
      "Prediction:  lord\n",
      "\n",
      "\n",
      "Original sentence:  ['then', 'i', 'entered', 'the', 'hotel', 'and', 'coming', 'round', 'the', 'other']\n",
      "Prediction:  furniture\n",
      "\n",
      "\n",
      "Original sentence:  ['then', 'i', 'entered', 'the', 'hotel', 'and', 'coming', 'round', 'the', 'other', 'side']\n",
      "Prediction:  to\n",
      "\n",
      "\n",
      "Original sentence:  ['then', 'i', 'entered', 'the', 'hotel', 'and', 'coming', 'round', 'the', 'other', 'side', 'of']\n",
      "Prediction:  shechem\n",
      "\n",
      "\n",
      "Original sentence:  ['then', 'i', 'entered', 'the', 'hotel', 'and', 'coming', 'round', 'the', 'other', 'side', 'of', 'him']\n",
      "Prediction:  saw\n",
      "\n",
      "\n",
      "Original sentence:  ['then', 'i', 'entered', 'the', 'hotel', 'and', 'coming', 'round', 'the', 'other', 'side', 'of', 'him', 'saw']\n",
      "Prediction:  his\n",
      "\n",
      "\n",
      "Original sentence:  ['then', 'i', 'entered', 'the', 'hotel', 'and', 'coming', 'round', 'the', 'other', 'side', 'of', 'him', 'saw', 'his']\n",
      "Prediction:  house\n",
      "\n",
      "\n",
      "Original sentence:  ['then', 'i', 'entered', 'the', 'hotel', 'and', 'coming', 'round', 'the', 'other', 'side', 'of', 'him', 'saw', 'his', 'face']\n",
      "Prediction:  in\n",
      "\n",
      "\n",
      "Original sentence:  ['then', 'i', 'entered', 'the', 'hotel', 'and', 'coming', 'round', 'the', 'other', 'side', 'of', 'him', 'saw', 'his', 'face', 'in']\n",
      "Prediction:  itself\n",
      "\n",
      "\n",
      "Original sentence:  ['then', 'i', 'entered', 'the', 'hotel', 'and', 'coming', 'round', 'the', 'other', 'side', 'of', 'him', 'saw', 'his', 'face', 'in', 'the']\n",
      "Prediction:  lord\n",
      "\n",
      "\n",
      "Original sentence:  ['then', 'i', 'entered', 'the', 'hotel', 'and', 'coming', 'round', 'the', 'other', 'side', 'of', 'him', 'saw', 'his', 'face', 'in', 'the', 'sunlight']\n",
      "Prediction:  .\n",
      "\n",
      "\n",
      "Original sentence:  ['then', 'i', 'entered', 'the', 'hotel', 'and', 'coming', 'round', 'the', 'other', 'side', 'of', 'him', 'saw', 'his', 'face', 'in', 'the', 'sunlight', '.']\n",
      "Prediction:  <end>\n",
      "\n",
      "\n"
     ]
    }
   ],
   "source": [
    "# You need to give incomplete sentence for autocorrect. Right now it just predicts the end of the sentences after the '.'\n",
    "# Try a while loop until END_TOKEN is the output maybe\n",
    "\n",
    "#Check how the auto correction works\n",
    "predicted = []\n",
    "for sent in tokenized[:3]:\n",
    "    print(\"Original sentence\", sent)\n",
    "    for i, token in enumerate(sent):                     #try all possible combinations within the sentence\n",
    "        partial_sent = sent[:i+1]\n",
    "        if END_TOKEN in partial_sent:\n",
    "            break\n",
    "        pred = model.predict(tokenized_sentence = partial_sent)\n",
    "        print(\"Original sentence: \", partial_sent)\n",
    "        print(\"Prediction: \", pred)\n",
    "        predicted.append(pred)\n",
    "        print(\"\\n\")"
   ]
  },
  {
   "cell_type": "code",
   "execution_count": 44,
   "id": "e399e286-72a6-4202-9b68-a5ccd53ec5be",
   "metadata": {},
   "outputs": [],
   "source": [
    "from jiwer import cer, wer\n",
    "\n",
    "\n",
    "count = 0\n",
    "sum_cer = 0\n",
    "sum_wer = 0"
   ]
  },
  {
   "cell_type": "code",
   "execution_count": 45,
   "id": "ef2059fe-2d2d-4be3-a6f9-8c8c722a7eaa",
   "metadata": {},
   "outputs": [
    {
     "ename": "IndexError",
     "evalue": "list index out of range",
     "output_type": "error",
     "traceback": [
      "\u001b[1;31m---------------------------------------------------------------------------\u001b[0m",
      "\u001b[1;31mIndexError\u001b[0m                                Traceback (most recent call last)",
      "Cell \u001b[1;32mIn[45], line 3\u001b[0m\n\u001b[0;32m      1\u001b[0m \u001b[38;5;28;01mfor\u001b[39;00m corrected_sentence \u001b[38;5;129;01min\u001b[39;00m corrected:\n\u001b[0;32m      2\u001b[0m     \u001b[38;5;28;01mfor\u001b[39;00m i \u001b[38;5;129;01min\u001b[39;00m \u001b[38;5;28mrange\u001b[39m(\u001b[38;5;28mlen\u001b[39m(corrected_sentence)):\n\u001b[1;32m----> 3\u001b[0m         token_k \u001b[38;5;241m=\u001b[39m START_TOKEN \u001b[38;5;28;01mif\u001b[39;00m i \u001b[38;5;241m==\u001b[39m \u001b[38;5;241m0\u001b[39m \u001b[38;5;28;01melse\u001b[39;00m \u001b[43mtokenized\u001b[49m\u001b[43m[\u001b[49m\u001b[43mi\u001b[49m\u001b[43m]\u001b[49m\u001b[43m[\u001b[49m\u001b[43mi\u001b[49m\u001b[43m \u001b[49m\u001b[38;5;241;43m-\u001b[39;49m\u001b[43m \u001b[49m\u001b[38;5;241;43m1\u001b[39;49m\u001b[43m]\u001b[49m\n\u001b[0;32m      4\u001b[0m         token_j \u001b[38;5;241m=\u001b[39m corrected_sentence[i]\n\u001b[0;32m      5\u001b[0m         sum_cer \u001b[38;5;241m+\u001b[39m\u001b[38;5;241m=\u001b[39m cer(token_k, token_j)\n",
      "\u001b[1;31mIndexError\u001b[0m: list index out of range"
     ]
    }
   ],
   "source": [
    "for corrected_sentence in corrected:\n",
    "    for i in range(len(corrected_sentence)):\n",
    "        token_k = START_TOKEN if i == 0 else tokenized[i][i - 1]\n",
    "        token_j = corrected_sentence[i]\n",
    "        sum_cer += cer(token_k, token_j)\n",
    "        sum_wer += wer(token_k, token_j)\n",
    "        count += 1\n",
    "        \n",
    "avg_cer = sum_cer/count\n",
    "avg_wer = sum_wer/count\n",
    "\n",
    "print(f'Avg cer = {avg_cer}')\n",
    "print(f'Avg wer = {avg_wer}')"
   ]
  },
  {
   "cell_type": "code",
   "execution_count": null,
   "id": "c40890cc-c615-4a65-9f3a-d7ef513fdf66",
   "metadata": {},
   "outputs": [],
   "source": []
  }
 ],
 "metadata": {
  "kernelspec": {
   "display_name": "Python 3 (ipykernel)",
   "language": "python",
   "name": "python3"
  },
  "language_info": {
   "codemirror_mode": {
    "name": "ipython",
    "version": 3
   },
   "file_extension": ".py",
   "mimetype": "text/x-python",
   "name": "python",
   "nbconvert_exporter": "python",
   "pygments_lexer": "ipython3",
   "version": "3.11.7"
  }
 },
 "nbformat": 4,
 "nbformat_minor": 5
}
