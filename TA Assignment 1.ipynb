{
 "cells": [
  {
   "cell_type": "code",
   "execution_count": 1,
   "id": "8c99f414-0e9a-4fef-a6a1-b23b96b03245",
   "metadata": {},
   "outputs": [],
   "source": [
    "import sys\n",
    "sys.path.append('C:/Users/Drogias/text_analytics/src')  \n",
    "from src import  *"
   ]
  },
  {
   "cell_type": "code",
   "execution_count": 2,
   "id": "6543a2dd-779a-4643-a6bd-ffa5c1ac4f20",
   "metadata": {},
   "outputs": [
    {
     "name": "stderr",
     "output_type": "stream",
     "text": [
      "[nltk_data] Downloading package punkt to\n",
      "[nltk_data]     C:\\Users\\Drogias\\AppData\\Roaming\\nltk_data...\n",
      "[nltk_data]   Package punkt is already up-to-date!\n",
      "[nltk_data] Downloading package gutenberg to\n",
      "[nltk_data]     C:\\Users\\Drogias\\AppData\\Roaming\\nltk_data...\n",
      "[nltk_data]   Package gutenberg is already up-to-date!\n"
     ]
    },
    {
     "data": {
      "text/plain": [
       "True"
      ]
     },
     "execution_count": 2,
     "metadata": {},
     "output_type": "execute_result"
    }
   ],
   "source": [
    "import numpy as np\n",
    "import pandas as pd\n",
    "import matplotlib.pyplot as plt\n",
    "\n",
    "import nltk\n",
    "nltk.download('punkt')\n",
    "nltk.download('gutenberg')\n",
    "\n"
   ]
  },
  {
   "cell_type": "code",
   "execution_count": 3,
   "id": "9b74da53-b6ee-490f-8ebc-6256aea039b5",
   "metadata": {},
   "outputs": [
    {
     "data": {
      "text/plain": [
       "['austen-emma.txt',\n",
       " 'austen-persuasion.txt',\n",
       " 'austen-sense.txt',\n",
       " 'bible-kjv.txt',\n",
       " 'blake-poems.txt',\n",
       " 'bryant-stories.txt',\n",
       " 'burgess-busterbrown.txt',\n",
       " 'carroll-alice.txt',\n",
       " 'chesterton-ball.txt',\n",
       " 'chesterton-brown.txt',\n",
       " 'chesterton-thursday.txt',\n",
       " 'edgeworth-parents.txt',\n",
       " 'melville-moby_dick.txt',\n",
       " 'milton-paradise.txt',\n",
       " 'shakespeare-caesar.txt',\n",
       " 'shakespeare-hamlet.txt',\n",
       " 'shakespeare-macbeth.txt',\n",
       " 'whitman-leaves.txt']"
      ]
     },
     "execution_count": 3,
     "metadata": {},
     "output_type": "execute_result"
    }
   ],
   "source": [
    "gutenberg_corpus = nltk.corpus.gutenberg.fileids()                                 #Get all the files\n",
    "gutenberg_corpus"
   ]
  },
  {
   "cell_type": "code",
   "execution_count": 4,
   "id": "a4b16673-a350-459d-8fd3-0c3c990d9c3d",
   "metadata": {},
   "outputs": [
    {
     "name": "stdout",
     "output_type": "stream",
     "text": [
      "[Emma by Jane Austen 1816]\n",
      "\n",
      "VOLUME I\n",
      "\n",
      "CHAPTER I\n",
      "\n",
      "\n",
      "Emma Woodhouse, handsome, clever, and rich, with a comfortable home\n",
      "and happy disposition, seemed to unite some of the best blessings\n",
      "of existence; and had lived nearly twenty-one years in the world\n",
      "with very little to distress or vex her.\n",
      "\n",
      "She was the youngest of the two daughters of a most affectionate,\n",
      "indulgent father; and had, in consequence of her sister's marriage,\n",
      "been mistress of his house from a very early period.  Her mother\n",
      "had died t\n"
     ]
    }
   ],
   "source": [
    "combined_text = \"\"             \n",
    "for file_id in gutenberg_corpus:                                        # Combine the text from all files\n",
    "    combined_text += nltk.corpus.gutenberg.raw(file_id)\n",
    "\n",
    "print(combined_text[:500])"
   ]
  },
  {
   "cell_type": "code",
   "execution_count": 5,
   "id": "f9cd0930-d3ab-4bbc-82e8-71de27c63468",
   "metadata": {},
   "outputs": [],
   "source": [
    "combined_text = combined_text.lower()                              #Convert to lowercase"
   ]
  },
  {
   "cell_type": "code",
   "execution_count": 6,
   "id": "e9c6b392-464d-4c08-b16b-acaabbea6e78",
   "metadata": {},
   "outputs": [
    {
     "data": {
      "text/plain": [
       "\"[emma by jane austen 1816]\\n\\nvolume i\\n\\nchapter i\\n\\n\\nemma woodhouse, handsome, clever, and rich, with a comfortable home\\nand happy disposition, seemed to unite some of the best blessings\\nof existence; and had lived nearly twenty-one years in the world\\nwith very little to distress or vex her.\\n\\nshe was the youngest of the two daughters of a most affectionate,\\nindulgent father; and had, in consequence of her sister's marriage,\\nbeen mistress of his house from a very early period.  her mother\\nhad died t\""
      ]
     },
     "execution_count": 6,
     "metadata": {},
     "output_type": "execute_result"
    }
   ],
   "source": [
    "combined_text[:500]"
   ]
  },
  {
   "cell_type": "code",
   "execution_count": 7,
   "id": "4e4f3c82-7a8e-42d5-b04b-4160fe689891",
   "metadata": {},
   "outputs": [],
   "source": [
    "import re\n",
    "def remove_special_chars(text):\n",
    "   text = text.replace('[', '')\n",
    "   text = text.replace(']', '')\n",
    "   text = text.replace('\\n', ' ')\n",
    "   text = re.sub(r'[^a-zA-z.?!\\']', ' ', text)                     #Remove these characters   \n",
    "\n",
    "   return text"
   ]
  },
  {
   "cell_type": "code",
   "execution_count": 8,
   "id": "cb081710-1d7d-4c53-b85d-acd0a9528c18",
   "metadata": {},
   "outputs": [
    {
     "data": {
      "text/plain": [
       "\"emma by jane austen       volume i  chapter i   emma woodhouse  handsome  clever  and rich  with a comfortable home and happy disposition  seemed to unite some of the best blessings of existence  and had lived nearly twenty one years in the world with very little to distress or vex her.  she was the youngest of the two daughters of a most affectionate  indulgent father  and had  in consequence of her sister's marriage  been mistress of his house from a very early period.  her mother had died too\""
      ]
     },
     "execution_count": 8,
     "metadata": {},
     "output_type": "execute_result"
    }
   ],
   "source": [
    "combined_text = remove_special_chars(combined_text)\n",
    "combined_text[:500]"
   ]
  },
  {
   "cell_type": "code",
   "execution_count": 9,
   "id": "50f25b00-f68a-4ad1-893d-f4e27e93698f",
   "metadata": {},
   "outputs": [
    {
     "data": {
      "text/plain": [
       "2119883"
      ]
     },
     "execution_count": 9,
     "metadata": {},
     "output_type": "execute_result"
    }
   ],
   "source": [
    "len(combined_text.split())                     "
   ]
  },
  {
   "cell_type": "code",
   "execution_count": 10,
   "id": "f7fcb110-bdda-41dc-8850-fae413272efa",
   "metadata": {},
   "outputs": [
    {
     "data": {
      "text/plain": [
       "11793056"
      ]
     },
     "execution_count": 10,
     "metadata": {},
     "output_type": "execute_result"
    }
   ],
   "source": [
    "len(combined_text)                             # How many characters"
   ]
  },
  {
   "cell_type": "code",
   "execution_count": 11,
   "id": "e4da70b8-ff85-4fb0-b23f-df115f397805",
   "metadata": {},
   "outputs": [
    {
     "data": {
      "text/plain": [
       "\"n the sea  the universe  the stars there in the     heavens   urging slowly  surely forward  forming endless  and waiting ever more  forever more behind.       good bye my fancy!  good bye my fancy! farewell dear mate  dear love! i'm going away  i know not where  or to what fortune  or whether i may ever see you again  so good bye my fancy.  now for my last  let me look back a moment  the slower fainter ticking of the clock is in me  exit  nightfall  and soon the heart thud stopping.  long have we lived  joy'd  caress'd together  delightful!  now separation  good bye my fancy.  yet let me not be too hasty  long indeed have we lived  slept  filter'd  become really blended     into one  then if we die we die together   yes  we'll remain one   if we go anywhere we'll go together to meet what happens  may be we'll be better off and blither  and learn something  may be it is yourself now really ushering me to the true songs   who     knows?  may be it is you the mortal knob really undoing  turning  so now finally  good bye  and hail! my fancy.  \""
      ]
     },
     "execution_count": 11,
     "metadata": {},
     "output_type": "execute_result"
    }
   ],
   "source": [
    "combined_text[11792000:]"
   ]
  },
  {
   "cell_type": "code",
   "execution_count": 12,
   "id": "14d6b0a3-9064-49b3-a16d-d527cddefe6a",
   "metadata": {},
   "outputs": [],
   "source": [
    "def tokenize_sentences(text):\n",
    "    sentences = nltk.sent_tokenize(''.join(text))                  #Get the sentences\n",
    "    return sentences     "
   ]
  },
  {
   "cell_type": "code",
   "execution_count": 13,
   "id": "f90469b6-7286-4434-a88c-2668f0ccd4ac",
   "metadata": {},
   "outputs": [
    {
     "name": "stdout",
     "output_type": "stream",
     "text": [
      "96282\n",
      "her mother had died too long ago for her to have more than an indistinct remembrance of her caresses  and her place had been supplied by an excellent woman as governess  who had fallen little short of a mother in affection.\n",
      "i hardly understand you   replied the scientist  with a cold intensity of manner.\n"
     ]
    }
   ],
   "source": [
    "sentences = tokenize_sentences(combined_text) \n",
    "print(len(sentences))    \n",
    "print(sentences[2])  \n",
    "print(sentences[57649])"
   ]
  },
  {
   "cell_type": "code",
   "execution_count": 14,
   "id": "eaf01dde-77eb-44b7-a099-fffcab33cce6",
   "metadata": {},
   "outputs": [],
   "source": [
    "def tokenize_words(text):\n",
    "    words = nltk.word_tokenize(text)\n",
    "    return words"
   ]
  },
  {
   "cell_type": "code",
   "execution_count": 15,
   "id": "3036efe1-6ba2-4a96-9b1d-fae699e453d1",
   "metadata": {},
   "outputs": [
    {
     "name": "stdout",
     "output_type": "stream",
     "text": [
      "2235498\n",
      "austen\n",
      "fancy\n"
     ]
    }
   ],
   "source": [
    "words = tokenize_words(combined_text)\n",
    "print(len(words))\n",
    "print(words[3])\n",
    "print(words[-2])"
   ]
  },
  {
   "cell_type": "code",
   "execution_count": 16,
   "id": "f56cfa79-f981-43fb-b6c1-1cef34040840",
   "metadata": {},
   "outputs": [],
   "source": [
    "words_list = []                                    #list of all the words of sentences\n",
    "for f in sentences:\n",
    "    words_list.append(tokenize_words(f))                   "
   ]
  },
  {
   "cell_type": "code",
   "execution_count": 17,
   "id": "01930b98-39d1-4eec-9275-5b154687c41a",
   "metadata": {},
   "outputs": [
    {
     "data": {
      "text/plain": [
       "96282"
      ]
     },
     "execution_count": 17,
     "metadata": {},
     "output_type": "execute_result"
    }
   ],
   "source": [
    "len(words_list)"
   ]
  },
  {
   "cell_type": "code",
   "execution_count": 18,
   "id": "7ba378be-6fa5-440d-be37-b8ef51dfbab6",
   "metadata": {},
   "outputs": [
    {
     "name": "stdout",
     "output_type": "stream",
     "text": [
      "she\n",
      "was\n",
      "the\n",
      "youngest\n",
      "of\n",
      "the\n",
      "two\n",
      "daughters\n",
      "of\n",
      "a\n",
      "most\n",
      "affectionate\n",
      "indulgent\n",
      "father\n",
      "and\n",
      "had\n",
      "in\n",
      "consequence\n",
      "of\n",
      "her\n",
      "sister\n",
      "'s\n",
      "marriage\n",
      "been\n",
      "mistress\n",
      "of\n",
      "his\n",
      "house\n",
      "from\n",
      "a\n",
      "very\n",
      "early\n",
      "period\n",
      ".\n"
     ]
    }
   ],
   "source": [
    "for word in words_list[1]:                     # all the words of the second sentence\n",
    "    print(word) "
   ]
  },
  {
   "cell_type": "code",
   "execution_count": 19,
   "id": "013c921e-362d-40b9-aabb-474c4b489be1",
   "metadata": {},
   "outputs": [],
   "source": [
    "import random\n",
    "import math\n",
    "\n",
    "random.shuffle(words_list)\n",
    "train_len = math.floor(0.6 * len(words_list))                      #Training set length(60%)\n",
    "dev_len = math.floor(0.2 * len(words_list))                        #Development set length (20%)\n",
    "test_len = math.floor(0.2 * len(words_list))                       #Test set length (20%)\n",
    "\n",
    "training_set = []\n",
    "development_set = []\n",
    "test_set = []\n",
    "\n",
    "for content in words_list[0:train_len]:\n",
    "    training_set.append(content)\n",
    "    \n",
    "for content in words_list[train_len: train_len + dev_len]:\n",
    "    development_set.append(content)\n",
    "\n",
    "for content in words_list[train_len + dev_len:]:\n",
    "    test_set.append(content)"
   ]
  },
  {
   "cell_type": "code",
   "execution_count": 20,
   "id": "e9259881-ecfd-4686-88d4-af9ed594aede",
   "metadata": {},
   "outputs": [],
   "source": [
    "import itertools\n",
    "from abc import ABCMeta, abstractmethod\n",
    "from collections import Counter\n",
    "\n",
    "from nltk.util import ngrams\n",
    "\n",
    "START_TOKEN = \"<start>\"\n",
    "END_TOKEN = \"<end>\"\n",
    "\n",
    "\n",
    "class INgramModel:\n",
    "    \"\"\"\n",
    "    An interface for all N-gram models.\n",
    "    \"\"\"\n",
    "    __metaclass__ = ABCMeta\n",
    "\n",
    "    @abstractmethod\n",
    "    def fit(self, sentences_tokenized: list[list[str]]) -> None:\n",
    "        \"\"\"\n",
    "        Train the model on a tokenized selection of sentences.\n",
    "        :param sentences_tokenized: a list of all sentences. Each sentence is represented as a list of string tokens.\n",
    "        :return: None\n",
    "        \"\"\"\n",
    "        pass\n",
    "\n",
    "    @abstractmethod\n",
    "    def predict(self, tokenized_sentence: list[str]) -> str:\n",
    "        \"\"\"\n",
    "        Predict the next word in a given sentence. Uses n-gram probability with Laplace Smoothing.\n",
    "        :param tokenized_sentence: a list of string tokens\n",
    "        :raise Runtime Error: if the model has not been trained\n",
    "        :return: the most probable token\n",
    "        \"\"\"\n",
    "        return \"\"\n",
    "\n",
    "    @abstractmethod\n",
    "    def prediction_proba(self, tokenized_sentence: list[str], token: str) -> float:\n",
    "        \"\"\"\n",
    "        Get the model's probability for a specific token given a sentence.\n",
    "        :param tokenized_sentence: a list of string tokens\n",
    "        :param token: the token\n",
    "        :raise Runtime Error: if the model has not been trained\n",
    "        :return: the probability that the token is next\n",
    "        \"\"\"\n",
    "        return 0\n",
    "\n",
    "\n",
    "class BigramModel(INgramModel):\n",
    "    \"\"\"\n",
    "    A basic bigram model using Laplace Smoothing.\n",
    "    \"\"\"\n",
    "\n",
    "    def __init__(self, alpha: float):\n",
    "        \"\"\"\n",
    "        Create a bigram model.\n",
    "        :param alpha: the Laplace smoothing parameter. Must be between 0 and 1 (excluding 0)\n",
    "        \"\"\"\n",
    "        if alpha > 1.0 or alpha <= 0:\n",
    "            raise ValueError(f\"Alpha value must be between 0 (exclusive) and 1 (value given alpha={alpha})\")\n",
    "\n",
    "        self.vocab_len = 0\n",
    "        self.alpha = alpha\n",
    "        self.bigram_counter = Counter()\n",
    "        self.unigram_counter = Counter()\n",
    "\n",
    "    def fit(self, sentences_tokenized: list[list[str]]) -> None:\n",
    "        self.vocab_len = len(set(itertools.chain.from_iterable(sentences_tokenized)))\n",
    "\n",
    "        for sentence in sentences_tokenized:\n",
    "            formatted_sentence = [START_TOKEN] + sentence + [END_TOKEN]\n",
    "            self.unigram_counter.update(_process_ngrams(formatted_sentence, 1))\n",
    "            self.bigram_counter.update(_process_ngrams(formatted_sentence, 2))\n",
    "\n",
    "    def predict(self, tokenized_sentence: list[str]) -> str:\n",
    "        assert tokenized_sentence is not None\n",
    "\n",
    "        if self.vocab_len == 0:\n",
    "            raise RuntimeError(\"Model has not been trained.\")\n",
    "\n",
    "        max_prob = -1\n",
    "        max_token = None\n",
    "\n",
    "        for token in self.unigram_counter.keys():\n",
    "            prob = self.prediction_proba(tokenized_sentence, token)\n",
    "\n",
    "            if prob > max_prob:\n",
    "                max_prob = prob\n",
    "                max_token = token\n",
    "\n",
    "        return max_token\n",
    "\n",
    "    def prediction_proba(self, tokenized_sentence: list[str], token: str) -> float:\n",
    "        assert tokenized_sentence is not None\n",
    "\n",
    "        if self.vocab_len == 0:\n",
    "            raise RuntimeError(\"Model has not been trained.\")\n",
    "\n",
    "        formatted_sentence = [START_TOKEN] + [START_TOKEN] + tokenized_sentence\n",
    "\n",
    "        return ((self.bigram_counter[(formatted_sentence[-1], token)] + self.alpha) /\n",
    "                (self.unigram_counter[token] + self.alpha * self.vocab_len))\n",
    "\n",
    "\n",
    "class TrigramModel(INgramModel):\n",
    "    \"\"\"\n",
    "    A basic trigram model using Laplace Smoothing.\n",
    "    \"\"\"\n",
    "\n",
    "    def __init__(self, alpha: float):\n",
    "        \"\"\"\n",
    "        Create a trigram model.\n",
    "        :param alpha: the Laplace smoothing parameter. Must be between 0 and 1 (excluding 0)\n",
    "        \"\"\"\n",
    "        if alpha > 1.0 or alpha <= 0:\n",
    "            raise ValueError(f\"Alpha value must be between 0 (exclusive) and 1 (value given alpha={alpha})\")\n",
    "\n",
    "        self.vocab = {}\n",
    "        self.alpha = alpha\n",
    "        self.bigram_counter = Counter()\n",
    "        self.trigram_counter = Counter()\n",
    "\n",
    "    def fit(self, sentences_tokenized: list[list[str]]) -> None:\n",
    "        self.vocab = set(itertools.chain.from_iterable(sentences_tokenized))\n",
    "\n",
    "        for sentence in sentences_tokenized:\n",
    "            formatted_sentence = [START_TOKEN] + [START_TOKEN] + sentence + [END_TOKEN]\n",
    "            self.bigram_counter.update(_process_ngrams(formatted_sentence, 2))\n",
    "            self.trigram_counter.update(_process_ngrams(formatted_sentence, 3))\n",
    "\n",
    "    def predict(self, tokenized_sentence: list[str]) -> tuple[str, float]:\n",
    "        assert tokenized_sentence is not None\n",
    "\n",
    "        if self.vocab == {}:\n",
    "            raise RuntimeError(\"Model has not been trained.\")\n",
    "\n",
    "        max_prob = -1\n",
    "        max_token = None\n",
    "\n",
    "        for token in self.vocab:\n",
    "            prob = self.prediction_proba(tokenized_sentence, token)\n",
    "\n",
    "            if prob > max_prob:\n",
    "                max_prob = prob\n",
    "                max_token = token\n",
    "\n",
    "        return max_token\n",
    "\n",
    "    def prediction_proba(self, tokenized_sentence: list[str], token: str) -> float:\n",
    "        assert tokenized_sentence is not None\n",
    "\n",
    "        if self.vocab == {}:\n",
    "            raise RuntimeError(\"Model has not been trained.\")\n",
    "\n",
    "        formatted_sentence = [START_TOKEN] + [START_TOKEN] + tokenized_sentence\n",
    "        return ((self.trigram_counter[(formatted_sentence[-2], formatted_sentence[-1], token)] + self.alpha) /\n",
    "                (self.bigram_counter[(formatted_sentence[-1], token)] + self.alpha * len(self.vocab)))\n",
    "\n",
    "\n",
    "# I could generalize this to support combinations of unigrams, bigrams and trigrams, but we'll see\n",
    "class LinearInterpolationModel(INgramModel):\n",
    "    \"\"\"\n",
    "    A model using linear interpolation between a bigram and trigram model.\n",
    "    \"\"\"\n",
    "\n",
    "    def __init__(self, alpha: float, lamda: float):\n",
    "        \"\"\"\n",
    "        Create a linear interpolation model between a bigram and trigram model.\n",
    "        :param alpha: the Laplace smoothing parameter. Must be between 0 and 1 (excluding 0)\n",
    "        :param lamda: the interpolation parameter, where probability = lambda * (bigram probability)\n",
    "        + (1-lamda) * (trigram probability)\n",
    "        \"\"\"\n",
    "        if lamda > 1.0 or lamda <= 0:\n",
    "            raise ValueError(f\"Lamda value must be between 0 (exclusive) and 1 (value given alpha={lamda})\")\n",
    "\n",
    "        self.bigram_model = BigramModel(alpha)\n",
    "        self.trigram_model = TrigramModel(alpha)\n",
    "        self.lamda = lamda\n",
    "\n",
    "    def fit(self, sentences_tokenized: list[list[str]]) -> None:\n",
    "        self.bigram_model.fit(sentences_tokenized)\n",
    "        self.trigram_model.fit(sentences_tokenized)\n",
    "\n",
    "    def predict(self, tokenized_sentence: list[str]) -> tuple[str, float]:\n",
    "        if self.bigram_model.vocab_len == 0:\n",
    "            raise RuntimeError(\"Model has not been trained.\")\n",
    "\n",
    "        # no need for sentence checking here, the underlying classes will take care of it\n",
    "        max_prob = -1\n",
    "        max_token = None\n",
    "\n",
    "        for token in self.trigram_model.vocab:\n",
    "            prob = self.prediction_proba(tokenized_sentence, token)\n",
    "            if prob > max_prob:\n",
    "                max_prob = prob\n",
    "                max_token = token\n",
    "\n",
    "        return max_token\n",
    "\n",
    "    def prediction_proba(self, tokenized_sentence: list[str], token: str) -> float:\n",
    "        bigram_prob = self.bigram_model.prediction_proba(tokenized_sentence, token)\n",
    "        trigram_prob = self.trigram_model.prediction_proba(tokenized_sentence, token)\n",
    "        return self.lamda * bigram_prob + (1 - self.lamda) * trigram_prob\n",
    "\n",
    "\n",
    "def _calc_ngrams(all_corpus: list[str], ngram: int) -> Counter:\n",
    "    \"\"\"\n",
    "    Process a tokenized sentence into a list of ngrams.\n",
    "    :param all_corpus: a list of all the corpus words\n",
    "    :param ngram: whether the ngrams will be unigrams, bigrams etc\n",
    "    :return: the counter of either unigram, bigram or trigram\n",
    "    \"\"\"\n",
    "    unigram_counter = Counter()\n",
    "    bigram_counter = Counter()\n",
    "    trigram_counter = Counter()\n",
    "     \n",
    "    \n",
    "\n",
    "    if ngram == 1 :\n",
    "        for sentence in all_corpus:\n",
    "             grams = [gram for gram in ngrams(sentence, ngram, pad_left=True, pad_right=True,\n",
    "                                    left_pad_symbol=START_TOKEN, right_pad_symbol=END_TOKEN)]\n",
    "             unigram_counter.update(grams)\n",
    "        return unigram_counter\n",
    "        \n",
    "    elif ngram == 2:\n",
    "        for sentence in all_corpus:\n",
    "             grams = [gram for gram in ngrams(sentence, ngram, pad_left=True, pad_right=True,\n",
    "                                    left_pad_symbol=START_TOKEN, right_pad_symbol=END_TOKEN)]\n",
    "             bigram_counter.update(grams)\n",
    "        return bigram_counter\n",
    "        \n",
    "    elif ngram == 3:\n",
    "        for sentence in all_corpus:\n",
    "             grams = [gram for gram in ngrams(sentence, ngram, pad_left=True, pad_right=True,\n",
    "                                    left_pad_symbol=START_TOKEN, right_pad_symbol=END_TOKEN)]\n",
    "             trigram_counter.update(grams)\n",
    "        return trigram_counter\n",
    "        \n",
    "    return 0\n",
    "    \n",
    "        "
   ]
  },
  {
   "cell_type": "code",
   "execution_count": 21,
   "id": "3dd7c6b6-b1d5-44c1-9308-867c7eb13fa0",
   "metadata": {},
   "outputs": [],
   "source": [
    "def replace_OOV_words_train(all_corpus):\n",
    "    unigram_counter = _calc_ngrams(all_corpus,1)\n",
    "    OOV_words = {}\n",
    "\n",
    "    for k, v in unigram_counter.items():\n",
    "        if v < 10:\n",
    "            key = k[0]\n",
    "            OOV_words[key] = \"UNK\"                 #set the word to \"UNK\"\n",
    "\n",
    "    replaced_corpus = []                          #the original corpus having the OOV words replaced by 'UNK'\n",
    "    for sentence in all_corpus:\n",
    "        clean_sentence = []\n",
    "    \n",
    "        for word in sentence:\n",
    "            clean_sentence.append(OOV_words.get(word, word))\n",
    "    \n",
    "        replaced_corpus.append(clean_sentence)\n",
    "\n",
    "\n",
    "    vocabulary = []\n",
    "\n",
    "    for key in unigram_counter.keys():        #Iterate the unigram counter\n",
    "        word = key[0]                         #get the word\n",
    "        if word not in OOV_words:\n",
    "            vocabulary.append(word)\n",
    "\n",
    "    vocabulary = set(vocabulary)              #Keep unique words\n",
    "    return vocabulary, replaced_corpus, OOV_words\n",
    "    "
   ]
  },
  {
   "cell_type": "code",
   "execution_count": 22,
   "id": "92f61c51-81f4-4a80-81b1-769dbb9bd058",
   "metadata": {},
   "outputs": [],
   "source": [
    "vocabulary, new_corpus, OOV_words = replace_OOV_words_train(training_set)"
   ]
  },
  {
   "cell_type": "code",
   "execution_count": 23,
   "id": "323891dd-f0bc-4454-9d24-bac8427d276c",
   "metadata": {},
   "outputs": [],
   "source": [
    "def replace_OOV_words_test(all_corpus, vocabulary, oov_words):\n",
    "    \n",
    "    replaced_corpus = []\n",
    "    for sentence in all_corpus:\n",
    "        updated_sent = []\n",
    "\n",
    "        for word in sentence:\n",
    "            if (word not in vocabulary) or (word in oov_words):\n",
    "                updated_sent.append('UNK')\n",
    "            else:\n",
    "                updated_sent.append(word)\n",
    "                \n",
    "    replaced_corpus.append(updated_sent)\n",
    "    return replaced_corpus   "
   ]
  },
  {
   "cell_type": "code",
   "execution_count": 24,
   "id": "a0eab7ab-2171-43a8-90ef-ef49e5335b69",
   "metadata": {},
   "outputs": [],
   "source": [
    "development_set = replace_OOV_words_test(development_set, vocabulary, OOV_words)\n",
    "test_set = replace_OOV_words_test(test_set, vocabulary, OOV_words)"
   ]
  },
  {
   "cell_type": "code",
   "execution_count": 25,
   "id": "b5de1392-390e-47ed-8202-93ad4f1248e6",
   "metadata": {},
   "outputs": [
    {
     "name": "stdout",
     "output_type": "stream",
     "text": [
      "Vocabulary length:  7298\n",
      "Unigram's 20 most common words:\n",
      "(('the',), 79834)\n",
      "(('and',), 56945)\n",
      "(('.',), 46359)\n",
      "(('of',), 42462)\n",
      "(('to',), 28801)\n",
      "(('a',), 20396)\n",
      "(('in',), 19936)\n",
      "(('i',), 18107)\n",
      "(('that',), 17224)\n",
      "(('he',), 15452)\n",
      "(('it',), 13250)\n",
      "(('his',), 12790)\n",
      "(('for',), 11664)\n",
      "(('was',), 11304)\n",
      "(('not',), 10801)\n",
      "(('with',), 10599)\n",
      "(('is',), 9910)\n",
      "(('you',), 9820)\n",
      "(('be',), 9769)\n",
      "(('as',), 8830)\n",
      "\n",
      "\n",
      "Bigram's 20 most common words:\n",
      "(('.', '<end>'), 46119)\n",
      "(('of', 'the'), 11311)\n",
      "(('<start>', 'and'), 8100)\n",
      "(('?', '<end>'), 6062)\n",
      "(('in', 'the'), 6039)\n",
      "(('and', 'the'), 5420)\n",
      "(('!', '<end>'), 5000)\n",
      "(('the', 'lord'), 4210)\n",
      "(('<start>', 'i'), 3424)\n",
      "(('to', 'the'), 3228)\n",
      "(('<start>', 'the'), 3101)\n",
      "(('<start>', 'but'), 2420)\n",
      "(('all', 'the'), 2228)\n",
      "(('and', 'he'), 2142)\n",
      "(('<start>', 'he'), 2102)\n",
      "(('to', 'be'), 2063)\n",
      "(('for', 'the'), 1787)\n",
      "(('shall', 'be'), 1693)\n",
      "(('it', 'was'), 1646)\n",
      "(('on', 'the'), 1630)\n",
      "\n",
      "\n",
      "Trigram's 20 most common words:\n",
      "(('.', '<end>', '<end>'), 46119)\n",
      "(('<start>', '<start>', 'and'), 8100)\n",
      "(('?', '<end>', '<end>'), 6062)\n",
      "(('!', '<end>', '<end>'), 5000)\n",
      "(('<start>', '<start>', 'i'), 3424)\n",
      "(('<start>', '<start>', 'the'), 3101)\n",
      "(('<start>', '<start>', 'but'), 2420)\n",
      "(('<start>', '<start>', 'he'), 2102)\n",
      "(('<start>', '<start>', 'for'), 1356)\n",
      "(('<start>', '<start>', 'it'), 1346)\n",
      "(('<start>', 'and', 'the'), 1292)\n",
      "(('<start>', '<start>', 'then'), 1143)\n",
      "(('of', 'the', 'lord'), 1071)\n",
      "(('it', '.', '<end>'), 961)\n",
      "(('<start>', 'and', 'he'), 953)\n",
      "(('him', '.', '<end>'), 947)\n",
      "(('<start>', '<start>', 'she'), 939)\n",
      "(('<start>', '<start>', 'you'), 895)\n",
      "(('the', 'son', 'of'), 864)\n",
      "(('the', 'children', 'of'), 852)\n"
     ]
    }
   ],
   "source": [
    "vocab_len = len(vocabulary)\n",
    "print (\"Vocabulary length: \", vocab_len)\n",
    "\n",
    "print(\"Unigram's 20 most common words:\")\n",
    "unigram_top_20 = _calc_ngrams(training_set, 1).most_common(20)\n",
    "for gram in unigram_top_20:\n",
    "    print(gram)\n",
    "\n",
    "print(\"\\n\")\n",
    "print(\"Bigram's 20 most common words:\")\n",
    "bigram_top_20 = _calc_ngrams(training_set,2).most_common(20)\n",
    "for gram in bigram_top_20:\n",
    "    print(gram)\n",
    "\n",
    "\n",
    "print(\"\\n\")\n",
    "print(\"Trigram's 20 most common words:\")\n",
    "trigram_top_20 = _calc_ngrams(training_set,3).most_common(20)\n",
    "for gram in trigram_top_20:\n",
    "    print(gram)"
   ]
  },
  {
   "cell_type": "markdown",
   "id": "9361a4ed-2f57-4f4b-a61f-6227992bacf8",
   "metadata": {},
   "source": [
    "(ii). First step: Tune α (alpha)"
   ]
  },
  {
   "cell_type": "markdown",
   "id": "a2f8740d-4f21-49fc-abca-319b07e97926",
   "metadata": {},
   "source": [
    "##  Calculate bi-gram probability\n",
    "\n",
    "### $ P(w_2|w_1) = \\frac{C(w_1,w_2) + \\alpha}{C(w_1) + \\alpha \\cdot|V|} $\n",
    "\n",
    "* $ C(w_1,w_2) $ : bigram count\n",
    "* $ C(w_1) $ : unigram count\n",
    "* $ 0 \\leq\\alpha \\leq1 $ :  smoothing hyper-parameter\n",
    "* |V|: vocabulary size"
   ]
  },
  {
   "cell_type": "code",
   "execution_count": 26,
   "id": "aeb667ae-c698-44d6-9e4b-f8748d46c1ce",
   "metadata": {},
   "outputs": [],
   "source": [
    "#Find Bigram and trigram probabilities using Laplace and a-smoothing\n",
    "uni_counter = _calc_ngrams(training_set, 1)                     #Unigram counter\n",
    "bi_counter = _calc_ngrams(training_set, 2)                      #Bigram counter\n",
    "tri_counter = _calc_ngrams(training_set, 3)                     #Trigram counter\n",
    "def prob_bigram_model(w0,w1,alpha,vocabulary, uni_counter, bi_counter): \n",
    "    c_w = bi_counter[w0,w1]\n",
    "    c = uni_counter[w0]\n",
    "    prob = (c_w + alpha) / (c + alpha * len(vocabulary))                  #probability of bigram \n",
    "    return prob\n",
    "\n",
    "def prob_trigram_model(w0,w1,w2,alpha,vocabulary, bi_counter, tri_counter):\n",
    "    c_w = tri_counter[w0,w1,w2]\n",
    "    c = bi_counter[w0,w1]\n",
    "    prob = (c_w + alpha) / (c + alpha * len(vocabulary))                  #probability of trigram\n",
    "    return prob"
   ]
  },
  {
   "cell_type": "markdown",
   "id": "32c2fbe4-0a4b-4a7d-bb1b-5daad8b369c6",
   "metadata": {},
   "source": [
    "## Bi-gram LM Cross entropy & perplexity\n",
    "\n",
    "* $ CrossEntropy = -\\frac{1}{N}\\sum^{bigrams}{log_2(P(w_2|w_1))} $\n",
    " * N: Number of bigrams\n",
    "* $ Perplexity = 2^{H(p)} $"
   ]
  },
  {
   "cell_type": "code",
   "execution_count": 27,
   "id": "ab10c7fb-84d1-4305-a432-91ccca503e46",
   "metadata": {},
   "outputs": [
    {
     "name": "stdout",
     "output_type": "stream",
     "text": [
      "Best alpha after tuning:  0.001\n",
      "Cross Entropy: 9.901\n",
      "perplexity: 956.413\n"
     ]
    }
   ],
   "source": [
    "HC = []\n",
    "perplexity = []\n",
    "\n",
    "min_entropy = 10000\n",
    "min_index = 0\n",
    "alpha_values = np.linspace(0.001, 1)\n",
    "best_alpha_bigram = 0\n",
    "for i, alpha in enumerate(alpha_values):\n",
    "    sum_prob = 0\n",
    "    bi_count = 0\n",
    "    for sentence in development_set:\n",
    "        sentence = ['<s>']  + sentence + ['<e>']\n",
    "        for i in range(1, len(sentence)):\n",
    "            bi_prob = prob_bigram_model(sentence[i - 1] , sentence[i], alpha, vocabulary, uni_counter, bi_counter)\n",
    "            sum_prob += math.log2(bi_prob)\n",
    "            bi_count +=1\n",
    "        \n",
    "    HC.append(-sum_prob / bi_count)\n",
    "    perplexity.append(math.pow(2, -sum_prob / bi_count))\n",
    "    if ((-sum_prob / bi_count) < min_entropy ):\n",
    "        min_entropy = -sum_prob / bi_count\n",
    "        min_index = i\n",
    "        best_alpha_bigram = alpha\n",
    "\n",
    "print(\"Best alpha after tuning: \", best_alpha_bigram)\n",
    "print(\"Cross Entropy: {0:.3f}\".format(HC[min_index]))\n",
    "print(\"perplexity: {0:.3f}\".format(perplexity[min_index]))"
   ]
  },
  {
   "cell_type": "markdown",
   "id": "6e8ef72c-dbfc-4cec-bc1a-a77d0fe832cd",
   "metadata": {},
   "source": [
    "## Tri-gram LM Cross entropy & perplexity\n",
    "\n",
    "### $ P(w_3|w_1,w_2) = \\frac{C(w_1,w_2,w_3) + \\alpha}{C(w_1,w_2) + \\alpha \\cdot |V|} $\n",
    "\n",
    "* $ C(w_1,w_2,w_3) $ : trigram count\n",
    "* $ C(w_1,w_2) $ : bigram count\n",
    "* $ 0 \\leq\\alpha \\leq1 $ :  smoothing hyper-parameter\n",
    "* |V|: vocabulary size"
   ]
  },
  {
   "cell_type": "code",
   "execution_count": 28,
   "id": "6c799679-4840-4743-98a5-c99740090a54",
   "metadata": {},
   "outputs": [
    {
     "name": "stdout",
     "output_type": "stream",
     "text": [
      "Best alpha after tuning:  0.001\n",
      "Cross Entropy: 11.735\n",
      "perplexity: 3408.358\n"
     ]
    }
   ],
   "source": [
    "HC = []\n",
    "perplexity = []\n",
    "\n",
    "min_entropy = 10000\n",
    "min_index = 0\n",
    "alpha_values = np.linspace(0.001, 1)\n",
    "best_alpha_trigram = 0\n",
    "for i, alpha in enumerate(alpha_values):\n",
    "    sum_prob = 0\n",
    "    tri_count = 0\n",
    "    for sentence in development_set:\n",
    "        sentence = ['<s>']  + sentence + ['<e>']\n",
    "        for i in range(2, len(sentence)):\n",
    "            tri_prob = prob_trigram_model(sentence[i - 2] , sentence[i - 1], sentence[i], alpha, vocabulary, bi_counter, tri_counter)\n",
    "            sum_prob += math.log2(tri_prob)\n",
    "            tri_count +=1\n",
    "        \n",
    "    HC.append(-sum_prob / tri_count)\n",
    "    perplexity.append(math.pow(2, -sum_prob / tri_count))\n",
    "    if ((-sum_prob / tri_count) < min_entropy ):\n",
    "        min_entropy = -sum_prob / tri_count\n",
    "        min_index = i\n",
    "        best_alpha_trigram = alpha\n",
    "\n",
    "print(\"Best alpha after tuning: \", round(best_alpha_trigram,3))\n",
    "print(\"Cross Entropy: {0:.3f}\".format(HC[min_index]))\n",
    "print(\"perplexity: {0:.3f}\".format(perplexity[min_index]))"
   ]
  },
  {
   "cell_type": "markdown",
   "id": "8f62e2d9-1ea3-4935-9d0b-735e7c37c21e",
   "metadata": {},
   "source": [
    "Now, let's test the performance in the test set, after having defined the optimal alpha."
   ]
  },
  {
   "cell_type": "markdown",
   "id": "61544d78-1a77-4e8d-a0c8-a441fe4b667f",
   "metadata": {},
   "source": [
    "1. Bigram Model"
   ]
  },
  {
   "cell_type": "code",
   "execution_count": 29,
   "id": "d3b5b2f4-89b6-4df2-9fcd-6ed26d6abc85",
   "metadata": {},
   "outputs": [
    {
     "name": "stdout",
     "output_type": "stream",
     "text": [
      "Language Cross Entropy: 4.945\n",
      "Language perplexity: 30.802\n"
     ]
    }
   ],
   "source": [
    "lang_sequence = []\n",
    "for sentence in test_set:\n",
    "    lang_sequence += ['<s>']  + sentence + ['<e>']\n",
    "sum_prob = 0\n",
    "bi_count = 0\n",
    "for i in range(1, len(lang_sequence)):\n",
    "    if lang_sequence[i] != '<s>' :\n",
    "        bi_prob = prob_bigram_model(lang_sequence[i - 1] , lang_sequence[i], best_alpha_bigram, vocabulary, uni_counter, bi_counter)\n",
    "        sum_prob += math.log2(bi_prob)\n",
    "        bi_count +=1\n",
    "            \n",
    "HC = -sum_prob / bi_count\n",
    "perplexity = math.pow(2, -sum_prob / bi_count)\n",
    "    \n",
    "print(\"Language Cross Entropy: {0:.3f}\".format(HC))\n",
    "print(\"Language perplexity: {0:.3f}\".format(perplexity))"
   ]
  },
  {
   "cell_type": "markdown",
   "id": "913cbd2d-9423-4fe0-8848-2df57147c0bf",
   "metadata": {},
   "source": [
    "2. Trigram model"
   ]
  },
  {
   "cell_type": "code",
   "execution_count": 30,
   "id": "ac162230-bb55-4039-a474-5f7bba182f52",
   "metadata": {},
   "outputs": [
    {
     "name": "stdout",
     "output_type": "stream",
     "text": [
      "Language Cross Entropy: 13.113\n",
      "Language perplexity: 8857.399\n"
     ]
    }
   ],
   "source": [
    "lang_sequence = []\n",
    "for sentence in test_set:\n",
    "    lang_sequence += ['<s>']  + sentence + ['<e>']\n",
    "sum_prob = 0\n",
    "tri_count = 0\n",
    "for i in range(2, len(lang_sequence)):\n",
    "    if lang_sequence[i] != '<s>' :\n",
    "        tri_prob = prob_trigram_model(lang_sequence[i - 2] ,lang_sequence[i - 1], lang_sequence[i], best_alpha_trigram, vocabulary, bi_counter, tri_counter)\n",
    "        sum_prob += math.log2(tri_prob)\n",
    "        tri_count +=1\n",
    "            \n",
    "HC = -sum_prob / tri_count\n",
    "perplexity = math.pow(2, -sum_prob / tri_count)\n",
    "    \n",
    "print(\"Language Cross Entropy: {0:.3f}\".format(HC))\n",
    "print(\"Language perplexity: {0:.3f}\".format(perplexity))"
   ]
  },
  {
   "cell_type": "code",
   "execution_count": 43,
   "id": "75603bb8-21ee-469b-bf12-85665e9094b1",
   "metadata": {},
   "outputs": [],
   "source": [
    "max_depth = 5\n",
    "beam_width = 3\n",
    "\n",
    "from spell_correction import BigramSpellCorrector, TrigramSpellCorrector\n",
    "from autocomplete import *"
   ]
  },
  {
   "cell_type": "code",
   "execution_count": 53,
   "id": "9ff00628-45ae-472d-8b17-dd6d508af292",
   "metadata": {},
   "outputs": [
    {
     "name": "stdout",
     "output_type": "stream",
     "text": [
      "<class 'autocomplete.BigramModel'>\n"
     ]
    },
    {
     "ename": "ValueError",
     "evalue": "The Bigram spell corrector needs a bigram model to function properly.",
     "output_type": "error",
     "traceback": [
      "\u001b[1;31m---------------------------------------------------------------------------\u001b[0m",
      "\u001b[1;31mValueError\u001b[0m                                Traceback (most recent call last)",
      "Cell \u001b[1;32mIn[53], line 23\u001b[0m\n\u001b[0;32m     20\u001b[0m model\u001b[38;5;241m.\u001b[39mfit([])\n\u001b[0;32m     21\u001b[0m model\u001b[38;5;241m.\u001b[39mfit(tokenized)\n\u001b[1;32m---> 23\u001b[0m corrector \u001b[38;5;241m=\u001b[39m \u001b[43mBigramSpellCorrector\u001b[49m\u001b[43m(\u001b[49m\u001b[43mmodel\u001b[49m\u001b[43m,\u001b[49m\u001b[43m \u001b[49m\u001b[43mlamda1\u001b[49m\u001b[38;5;241;43m=\u001b[39;49m\u001b[38;5;241;43m0.1\u001b[39;49m\u001b[43m,\u001b[49m\u001b[43m \u001b[49m\u001b[43mlamda2\u001b[49m\u001b[38;5;241;43m=\u001b[39;49m\u001b[38;5;241;43m-\u001b[39;49m\u001b[38;5;241;43m0.1\u001b[39;49m\u001b[43m)\u001b[49m\n\u001b[0;32m     24\u001b[0m output_seq \u001b[38;5;241m=\u001b[39m corrector\u001b[38;5;241m.\u001b[39mspell_correct(original_tokenized_sentence\u001b[38;5;241m=\u001b[39msent, max_depth \u001b[38;5;241m=\u001b[39m \u001b[38;5;241m5\u001b[39m, beam_width \u001b[38;5;241m=\u001b[39m \u001b[38;5;241m3\u001b[39m)\n",
      "File \u001b[1;32mC:\\Users/Drogias/text_analytics/src\\spell_correction.py:103\u001b[0m, in \u001b[0;36mBigramSpellCorrector.__init__\u001b[1;34m(self, language_model, lamda1, lamda2, conditional_model)\u001b[0m\n\u001b[0;32m    100\u001b[0m \u001b[38;5;28msuper\u001b[39m()\u001b[38;5;241m.\u001b[39m\u001b[38;5;21m__init__\u001b[39m(language_model, lamda1, lamda2, conditional_model)\n\u001b[0;32m    102\u001b[0m \u001b[38;5;28;01mif\u001b[39;00m \u001b[38;5;129;01mnot\u001b[39;00m \u001b[38;5;28misinstance\u001b[39m(language_model, BigramModel):\n\u001b[1;32m--> 103\u001b[0m     \u001b[38;5;28;01mraise\u001b[39;00m \u001b[38;5;167;01mValueError\u001b[39;00m(\u001b[38;5;124m\"\u001b[39m\u001b[38;5;124mThe Bigram spell corrector needs a bigram model to function properly.\u001b[39m\u001b[38;5;124m\"\u001b[39m)\n",
      "\u001b[1;31mValueError\u001b[0m: The Bigram spell corrector needs a bigram model to function properly."
     ]
    }
   ],
   "source": [
    "from nltk.tokenize import TweetTokenizer\n",
    "original_sentence = \"I will go to he bech\"\n",
    "sent_tokenized = nltk.word_tokenize(original_sentence)\n",
    "#list = sent_tokenized.split()\n",
    "sent = [['<s>'] + sent_tokenized]\n",
    "\n",
    "test_corpus = [\"he plays football\",\n",
    "               \"he plays football\",\n",
    "               \"she enjoys good football\",\n",
    "               \"she plays good music\",\n",
    "               \"he prays to god\",\n",
    "               \"please buy me the other ball,\"\n",
    "               \"he pleases the other players by playing good football\"]\n",
    "\n",
    "tweet_wt = TweetTokenizer()\n",
    "tokenized = [tweet_wt.tokenize(sentence) for sentence in test_corpus]\n",
    "\n",
    "model = BigramModel(alpha=0.01)\n",
    "print(type(model))\n",
    "model.fit([])\n",
    "model.fit(tokenized)\n",
    "\n",
    "corrector = BigramSpellCorrector(model, lamda1=0.1, lamda2=-0.1)\n",
    "output_seq = corrector.spell_correct(original_tokenized_sentence=sent, max_depth = 5, beam_width = 3)\n"
   ]
  },
  {
   "cell_type": "code",
   "execution_count": null,
   "id": "268bf0d9-de75-4b02-a7f8-23dc0fdd64f7",
   "metadata": {},
   "outputs": [],
   "source": []
  }
 ],
 "metadata": {
  "kernelspec": {
   "display_name": "Python 3 (ipykernel)",
   "language": "python",
   "name": "python3"
  },
  "language_info": {
   "codemirror_mode": {
    "name": "ipython",
    "version": 3
   },
   "file_extension": ".py",
   "mimetype": "text/x-python",
   "name": "python",
   "nbconvert_exporter": "python",
   "pygments_lexer": "ipython3",
   "version": "3.11.7"
  }
 },
 "nbformat": 4,
 "nbformat_minor": 5
}
