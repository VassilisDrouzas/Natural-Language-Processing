{
 "cells": [
  {
   "cell_type": "code",
   "execution_count": 1,
   "id": "6543a2dd-779a-4643-a6bd-ffa5c1ac4f20",
   "metadata": {},
   "outputs": [
    {
     "name": "stderr",
     "output_type": "stream",
     "text": [
      "[nltk_data] Downloading package punkt to\n",
      "[nltk_data]     C:\\Users\\Drogias\\AppData\\Roaming\\nltk_data...\n",
      "[nltk_data]   Package punkt is already up-to-date!\n",
      "[nltk_data] Downloading package gutenberg to\n",
      "[nltk_data]     C:\\Users\\Drogias\\AppData\\Roaming\\nltk_data...\n",
      "[nltk_data]   Package gutenberg is already up-to-date!\n"
     ]
    },
    {
     "data": {
      "text/plain": [
       "True"
      ]
     },
     "execution_count": 1,
     "metadata": {},
     "output_type": "execute_result"
    }
   ],
   "source": [
    "import numpy as np\n",
    "import pandas as pd\n",
    "import matplotlib.pyplot as plt\n",
    "\n",
    "import nltk\n",
    "nltk.download('punkt')\n",
    "nltk.download('gutenberg')\n",
    "\n"
   ]
  },
  {
   "cell_type": "code",
   "execution_count": 2,
   "id": "9b74da53-b6ee-490f-8ebc-6256aea039b5",
   "metadata": {},
   "outputs": [
    {
     "data": {
      "text/plain": [
       "['austen-emma.txt',\n",
       " 'austen-persuasion.txt',\n",
       " 'austen-sense.txt',\n",
       " 'bible-kjv.txt',\n",
       " 'blake-poems.txt',\n",
       " 'bryant-stories.txt',\n",
       " 'burgess-busterbrown.txt',\n",
       " 'carroll-alice.txt',\n",
       " 'chesterton-ball.txt',\n",
       " 'chesterton-brown.txt',\n",
       " 'chesterton-thursday.txt',\n",
       " 'edgeworth-parents.txt',\n",
       " 'melville-moby_dick.txt',\n",
       " 'milton-paradise.txt',\n",
       " 'shakespeare-caesar.txt',\n",
       " 'shakespeare-hamlet.txt',\n",
       " 'shakespeare-macbeth.txt',\n",
       " 'whitman-leaves.txt']"
      ]
     },
     "execution_count": 2,
     "metadata": {},
     "output_type": "execute_result"
    }
   ],
   "source": [
    "gutenberg_corpus = nltk.corpus.gutenberg.fileids()                                 #Get all the files\n",
    "gutenberg_corpus"
   ]
  },
  {
   "cell_type": "code",
   "execution_count": 3,
   "id": "a4b16673-a350-459d-8fd3-0c3c990d9c3d",
   "metadata": {},
   "outputs": [
    {
     "name": "stdout",
     "output_type": "stream",
     "text": [
      "[Emma by Jane Austen 1816]\n",
      "\n",
      "VOLUME I\n",
      "\n",
      "CHAPTER I\n",
      "\n",
      "\n",
      "Emma Woodhouse, handsome, clever, and rich, with a comfortable home\n",
      "and happy disposition, seemed to unite some of the best blessings\n",
      "of existence; and had lived nearly twenty-one years in the world\n",
      "with very little to distress or vex her.\n",
      "\n",
      "She was the youngest of the two daughters of a most affectionate,\n",
      "indulgent father; and had, in consequence of her sister's marriage,\n",
      "been mistress of his house from a very early period.  Her mother\n",
      "had died t\n"
     ]
    }
   ],
   "source": [
    "combined_text = \"\"             \n",
    "for file_id in gutenberg_corpus:                                        # Combine the text from all files\n",
    "    combined_text += nltk.corpus.gutenberg.raw(file_id)\n",
    "\n",
    "print(combined_text[:500])"
   ]
  },
  {
   "cell_type": "code",
   "execution_count": 4,
   "id": "f9cd0930-d3ab-4bbc-82e8-71de27c63468",
   "metadata": {},
   "outputs": [],
   "source": [
    "combined_text = combined_text.lower()                              #Convert to lowercase"
   ]
  },
  {
   "cell_type": "code",
   "execution_count": 5,
   "id": "e9c6b392-464d-4c08-b16b-acaabbea6e78",
   "metadata": {},
   "outputs": [
    {
     "data": {
      "text/plain": [
       "\"[emma by jane austen 1816]\\n\\nvolume i\\n\\nchapter i\\n\\n\\nemma woodhouse, handsome, clever, and rich, with a comfortable home\\nand happy disposition, seemed to unite some of the best blessings\\nof existence; and had lived nearly twenty-one years in the world\\nwith very little to distress or vex her.\\n\\nshe was the youngest of the two daughters of a most affectionate,\\nindulgent father; and had, in consequence of her sister's marriage,\\nbeen mistress of his house from a very early period.  her mother\\nhad died t\""
      ]
     },
     "execution_count": 5,
     "metadata": {},
     "output_type": "execute_result"
    }
   ],
   "source": [
    "combined_text[:500]"
   ]
  },
  {
   "cell_type": "code",
   "execution_count": 6,
   "id": "4e4f3c82-7a8e-42d5-b04b-4160fe689891",
   "metadata": {},
   "outputs": [],
   "source": [
    "import re\n",
    "def remove_special_chars(text):\n",
    "   text = text.replace('[', '')\n",
    "   text = text.replace('[', '')\n",
    "   text = text.replace('\\n', ' ')\n",
    "   text = re.sub(r'[^a-zA-z.?!\\']', ' ', text)                     #Remove these characters   \n",
    "\n",
    "   return text"
   ]
  },
  {
   "cell_type": "code",
   "execution_count": 7,
   "id": "cb081710-1d7d-4c53-b85d-acd0a9528c18",
   "metadata": {},
   "outputs": [
    {
     "data": {
      "text/plain": [
       "\"emma by jane austen     ]  volume i  chapter i   emma woodhouse  handsome  clever  and rich  with a comfortable home and happy disposition  seemed to unite some of the best blessings of existence  and had lived nearly twenty one years in the world with very little to distress or vex her.  she was the youngest of the two daughters of a most affectionate  indulgent father  and had  in consequence of her sister's marriage  been mistress of his house from a very early period.  her mother had died to\""
      ]
     },
     "execution_count": 7,
     "metadata": {},
     "output_type": "execute_result"
    }
   ],
   "source": [
    "combined_text = remove_special_chars(combined_text)\n",
    "combined_text[:500]"
   ]
  },
  {
   "cell_type": "code",
   "execution_count": 8,
   "id": "50f25b00-f68a-4ad1-893d-f4e27e93698f",
   "metadata": {},
   "outputs": [
    {
     "data": {
      "text/plain": [
       "2119923"
      ]
     },
     "execution_count": 8,
     "metadata": {},
     "output_type": "execute_result"
    }
   ],
   "source": [
    "len(combined_text.split())                     "
   ]
  },
  {
   "cell_type": "code",
   "execution_count": 9,
   "id": "f7fcb110-bdda-41dc-8850-fae413272efa",
   "metadata": {},
   "outputs": [
    {
     "data": {
      "text/plain": [
       "11793187"
      ]
     },
     "execution_count": 9,
     "metadata": {},
     "output_type": "execute_result"
    }
   ],
   "source": [
    "len(combined_text)                             # How many characters"
   ]
  },
  {
   "cell_type": "code",
   "execution_count": 10,
   "id": "e4da70b8-ff85-4fb0-b23f-df115f397805",
   "metadata": {},
   "outputs": [
    {
     "data": {
      "text/plain": [
       "\"abes in wombs  latent  folded  compact  sleeping  billions of billions  and trillions of trillions of them waiting   on earth and in the sea  the universe  the stars there in the     heavens   urging slowly  surely forward  forming endless  and waiting ever more  forever more behind.       good bye my fancy!  good bye my fancy! farewell dear mate  dear love! i'm going away  i know not where  or to what fortune  or whether i may ever see you again  so good bye my fancy.  now for my last  let me look back a moment  the slower fainter ticking of the clock is in me  exit  nightfall  and soon the heart thud stopping.  long have we lived  joy'd  caress'd together  delightful!  now separation  good bye my fancy.  yet let me not be too hasty  long indeed have we lived  slept  filter'd  become really blended     into one  then if we die we die together   yes  we'll remain one   if we go anywhere we'll go together to meet what happens  may be we'll be better off and blither  and learn something  may be it is yourself now really ushering me to the true songs   who     knows?  may be it is you the mortal knob really undoing  turning  so now finally  good bye  and hail! my fancy.  \""
      ]
     },
     "execution_count": 10,
     "metadata": {},
     "output_type": "execute_result"
    }
   ],
   "source": [
    "combined_text[11792000:]"
   ]
  },
  {
   "cell_type": "code",
   "execution_count": 11,
   "id": "14d6b0a3-9064-49b3-a16d-d527cddefe6a",
   "metadata": {},
   "outputs": [],
   "source": [
    "def tokenize_sentences(text):\n",
    "    sentences = nltk.sent_tokenize(''.join(text))                  #Get the sentences\n",
    "    return sentences     "
   ]
  },
  {
   "cell_type": "code",
   "execution_count": 12,
   "id": "f90469b6-7286-4434-a88c-2668f0ccd4ac",
   "metadata": {},
   "outputs": [
    {
     "name": "stdout",
     "output_type": "stream",
     "text": [
      "96284\n",
      "her mother had died too long ago for her to have more than an indistinct remembrance of her caresses  and her place had been supplied by an excellent woman as governess  who had fallen little short of a mother in affection.\n",
      "pray excuse me if i am wrong.\n"
     ]
    }
   ],
   "source": [
    "sentences = tokenize_sentences(combined_text) \n",
    "print(len(sentences))    \n",
    "print(sentences[2])  \n",
    "print(sentences[57649])"
   ]
  },
  {
   "cell_type": "code",
   "execution_count": 13,
   "id": "eaf01dde-77eb-44b7-a099-fffcab33cce6",
   "metadata": {},
   "outputs": [],
   "source": [
    "def tokenize_words(text):\n",
    "    words = nltk.word_tokenize(text)\n",
    "    return words"
   ]
  },
  {
   "cell_type": "code",
   "execution_count": 14,
   "id": "3036efe1-6ba2-4a96-9b1d-fae699e453d1",
   "metadata": {},
   "outputs": [
    {
     "name": "stdout",
     "output_type": "stream",
     "text": [
      "2235633\n",
      "austen\n",
      "fancy\n"
     ]
    }
   ],
   "source": [
    "words = tokenize_words(combined_text)\n",
    "print(len(words))\n",
    "print(words[3])\n",
    "print(words[-2])"
   ]
  },
  {
   "cell_type": "code",
   "execution_count": 15,
   "id": "f56cfa79-f981-43fb-b6c1-1cef34040840",
   "metadata": {},
   "outputs": [],
   "source": [
    "words_list = [tokenize_words(f) for f in sentences]              # list of all the words"
   ]
  },
  {
   "cell_type": "code",
   "execution_count": 16,
   "id": "7ba378be-6fa5-440d-be37-b8ef51dfbab6",
   "metadata": {},
   "outputs": [
    {
     "name": "stdout",
     "output_type": "stream",
     "text": [
      "she\n",
      "was\n",
      "the\n",
      "youngest\n",
      "of\n",
      "the\n",
      "two\n",
      "daughters\n",
      "of\n",
      "a\n",
      "most\n",
      "affectionate\n",
      "indulgent\n",
      "father\n",
      "and\n",
      "had\n",
      "in\n",
      "consequence\n",
      "of\n",
      "her\n",
      "sister\n",
      "'s\n",
      "marriage\n",
      "been\n",
      "mistress\n",
      "of\n",
      "his\n",
      "house\n",
      "from\n",
      "a\n",
      "very\n",
      "early\n",
      "period\n",
      ".\n"
     ]
    }
   ],
   "source": [
    "for word in words_list[1]:\n",
    "    print(word)"
   ]
  },
  {
   "cell_type": "code",
   "execution_count": 17,
   "id": "013c921e-362d-40b9-aabb-474c4b489be1",
   "metadata": {},
   "outputs": [],
   "source": [
    "import random\n",
    "import math\n",
    "\n",
    "random.shuffle(words_list)\n",
    "train_len = math.floor(0.6 * len(words_list))                      #Training set length(60%)\n",
    "dev_len = math.floor(0.2 * len(words_list))                        #Development set length (20%)\n",
    "test_len = math.floor(0.2 * len(words_list))                       #Test set length (20%)\n",
    "\n",
    "training_set = []\n",
    "development_set = []\n",
    "test_set = []\n",
    "\n",
    "for content in words_list[0:train_len]:\n",
    "    training_set.append(content)\n",
    "    \n",
    "for content in words_list[train_len: train_len + dev_len]:\n",
    "    development_set.append(content)\n",
    "\n",
    "for content in words_list[train_len + dev_len:]:\n",
    "    test_set.append(content)"
   ]
  },
  {
   "cell_type": "code",
   "execution_count": 18,
   "id": "e9259881-ecfd-4686-88d4-af9ed594aede",
   "metadata": {},
   "outputs": [],
   "source": [
    "import itertools\n",
    "from abc import ABCMeta, abstractmethod\n",
    "from collections import Counter\n",
    "\n",
    "from nltk.util import ngrams\n",
    "\n",
    "START_TOKEN = \"<start>\"\n",
    "END_TOKEN = \"<end>\"\n",
    "\n",
    "\n",
    "class INgramModel:\n",
    "    \"\"\"\n",
    "    An interface for all N-gram models.\n",
    "    \"\"\"\n",
    "    __metaclass__ = ABCMeta\n",
    "\n",
    "    @abstractmethod\n",
    "    def fit(self, sentences_tokenized: list[list[str]]) -> None:\n",
    "        \"\"\"\n",
    "        Train the model on a tokenized selection of sentences.\n",
    "        :param sentences_tokenized: a list of all sentences. Each sentence is represented as a list of string tokens.\n",
    "        :return: None\n",
    "        \"\"\"\n",
    "        pass\n",
    "\n",
    "    @abstractmethod\n",
    "    def predict(self, tokenized_sentence: list[str]) -> str:\n",
    "        \"\"\"\n",
    "        Predict the next word in a given sentence. Uses n-gram probability with Laplace Smoothing.\n",
    "        :param tokenized_sentence: a list of string tokens\n",
    "        :raise Runtime Error: if the model has not been trained\n",
    "        :return: the most probable token\n",
    "        \"\"\"\n",
    "        return \"\"\n",
    "\n",
    "    @abstractmethod\n",
    "    def prediction_proba(self, tokenized_sentence: list[str], token: str) -> float:\n",
    "        \"\"\"\n",
    "        Get the model's probability for a specific token given a sentence.\n",
    "        :param tokenized_sentence: a list of string tokens\n",
    "        :param token: the token\n",
    "        :raise Runtime Error: if the model has not been trained\n",
    "        :return: the probability that the token is next\n",
    "        \"\"\"\n",
    "        return 0\n",
    "\n",
    "\n",
    "class BigramModel(INgramModel):\n",
    "    \"\"\"\n",
    "    A basic bigram model using Laplace Smoothing.\n",
    "    \"\"\"\n",
    "\n",
    "    def __init__(self, alpha: float):\n",
    "        \"\"\"\n",
    "        Create a bigram model.\n",
    "        :param alpha: the Laplace smoothing parameter. Must be between 0 and 1 (excluding 0)\n",
    "        \"\"\"\n",
    "        if alpha > 1.0 or alpha <= 0:\n",
    "            raise ValueError(f\"Alpha value must be between 0 (exclusive) and 1 (value given alpha={alpha})\")\n",
    "\n",
    "        self.vocab_len = 0\n",
    "        self.alpha = alpha\n",
    "        self.bigram_counter = Counter()\n",
    "        self.unigram_counter = Counter()\n",
    "\n",
    "    def fit(self, sentences_tokenized: list[list[str]]) -> None:\n",
    "        self.vocab_len = len(set(itertools.chain.from_iterable(sentences_tokenized)))\n",
    "\n",
    "        for sentence in sentences_tokenized:\n",
    "            formatted_sentence = [START_TOKEN] + sentence + [END_TOKEN]\n",
    "            self.unigram_counter.update(_process_ngrams(formatted_sentence, 1))\n",
    "            self.bigram_counter.update(_process_ngrams(formatted_sentence, 2))\n",
    "\n",
    "    def predict(self, tokenized_sentence: list[str]) -> str:\n",
    "        assert tokenized_sentence is not None\n",
    "\n",
    "        if self.vocab_len == 0:\n",
    "            raise RuntimeError(\"Model has not been trained.\")\n",
    "\n",
    "        max_prob = -1\n",
    "        max_token = None\n",
    "\n",
    "        for token in self.unigram_counter.keys():\n",
    "            prob = self.prediction_proba(tokenized_sentence, token)\n",
    "\n",
    "            if prob > max_prob:\n",
    "                max_prob = prob\n",
    "                max_token = token\n",
    "\n",
    "        return max_token\n",
    "\n",
    "    def prediction_proba(self, tokenized_sentence: list[str], token: str) -> float:\n",
    "        assert tokenized_sentence is not None\n",
    "\n",
    "        if self.vocab_len == 0:\n",
    "            raise RuntimeError(\"Model has not been trained.\")\n",
    "\n",
    "        formatted_sentence = [START_TOKEN] + [START_TOKEN] + tokenized_sentence\n",
    "\n",
    "        return ((self.bigram_counter[(formatted_sentence[-1], token)] + self.alpha) /\n",
    "                (self.unigram_counter[token] + self.alpha * self.vocab_len))\n",
    "\n",
    "\n",
    "class TrigramModel(INgramModel):\n",
    "    \"\"\"\n",
    "    A basic trigram model using Laplace Smoothing.\n",
    "    \"\"\"\n",
    "\n",
    "    def __init__(self, alpha: float):\n",
    "        \"\"\"\n",
    "        Create a trigram model.\n",
    "        :param alpha: the Laplace smoothing parameter. Must be between 0 and 1 (excluding 0)\n",
    "        \"\"\"\n",
    "        if alpha > 1.0 or alpha <= 0:\n",
    "            raise ValueError(f\"Alpha value must be between 0 (exclusive) and 1 (value given alpha={alpha})\")\n",
    "\n",
    "        self.vocab = {}\n",
    "        self.alpha = alpha\n",
    "        self.bigram_counter = Counter()\n",
    "        self.trigram_counter = Counter()\n",
    "\n",
    "    def fit(self, sentences_tokenized: list[list[str]]) -> None:\n",
    "        self.vocab = set(itertools.chain.from_iterable(sentences_tokenized))\n",
    "\n",
    "        for sentence in sentences_tokenized:\n",
    "            formatted_sentence = [START_TOKEN] + [START_TOKEN] + sentence + [END_TOKEN]\n",
    "            self.bigram_counter.update(_process_ngrams(formatted_sentence, 2))\n",
    "            self.trigram_counter.update(_process_ngrams(formatted_sentence, 3))\n",
    "\n",
    "    def predict(self, tokenized_sentence: list[str]) -> tuple[str, float]:\n",
    "        assert tokenized_sentence is not None\n",
    "\n",
    "        if self.vocab == {}:\n",
    "            raise RuntimeError(\"Model has not been trained.\")\n",
    "\n",
    "        max_prob = -1\n",
    "        max_token = None\n",
    "\n",
    "        for token in self.vocab:\n",
    "            prob = self.prediction_proba(tokenized_sentence, token)\n",
    "\n",
    "            if prob > max_prob:\n",
    "                max_prob = prob\n",
    "                max_token = token\n",
    "\n",
    "        return max_token\n",
    "\n",
    "    def prediction_proba(self, tokenized_sentence: list[str], token: str) -> float:\n",
    "        assert tokenized_sentence is not None\n",
    "\n",
    "        if self.vocab == {}:\n",
    "            raise RuntimeError(\"Model has not been trained.\")\n",
    "\n",
    "        formatted_sentence = [START_TOKEN] + [START_TOKEN] + tokenized_sentence\n",
    "        return ((self.trigram_counter[(formatted_sentence[-2], formatted_sentence[-1], token)] + self.alpha) /\n",
    "                (self.bigram_counter[(formatted_sentence[-1], token)] + self.alpha * len(self.vocab)))\n",
    "\n",
    "\n",
    "# I could generalize this to support combinations of unigrams, bigrams and trigrams, but we'll see\n",
    "class LinearInterpolationModel(INgramModel):\n",
    "    \"\"\"\n",
    "    A model using linear interpolation between a bigram and trigram model.\n",
    "    \"\"\"\n",
    "\n",
    "    def __init__(self, alpha: float, lamda: float):\n",
    "        \"\"\"\n",
    "        Create a linear interpolation model between a bigram and trigram model.\n",
    "        :param alpha: the Laplace smoothing parameter. Must be between 0 and 1 (excluding 0)\n",
    "        :param lamda: the interpolation parameter, where probability = lambda * (bigram probability)\n",
    "        + (1-lamda) * (trigram probability)\n",
    "        \"\"\"\n",
    "        if lamda > 1.0 or lamda <= 0:\n",
    "            raise ValueError(f\"Lamda value must be between 0 (exclusive) and 1 (value given alpha={lamda})\")\n",
    "\n",
    "        self.bigram_model = BigramModel(alpha)\n",
    "        self.trigram_model = TrigramModel(alpha)\n",
    "        self.lamda = lamda\n",
    "\n",
    "    def fit(self, sentences_tokenized: list[list[str]]) -> None:\n",
    "        self.bigram_model.fit(sentences_tokenized)\n",
    "        self.trigram_model.fit(sentences_tokenized)\n",
    "\n",
    "    def predict(self, tokenized_sentence: list[str]) -> tuple[str, float]:\n",
    "        if self.bigram_model.vocab_len == 0:\n",
    "            raise RuntimeError(\"Model has not been trained.\")\n",
    "\n",
    "        # no need for sentence checking here, the underlying classes will take care of it\n",
    "        max_prob = -1\n",
    "        max_token = None\n",
    "\n",
    "        for token in self.trigram_model.vocab:\n",
    "            prob = self.prediction_proba(tokenized_sentence, token)\n",
    "            if prob > max_prob:\n",
    "                max_prob = prob\n",
    "                max_token = token\n",
    "\n",
    "        return max_token\n",
    "\n",
    "    def prediction_proba(self, tokenized_sentence: list[str], token: str) -> float:\n",
    "        bigram_prob = self.bigram_model.prediction_proba(tokenized_sentence, token)\n",
    "        trigram_prob = self.trigram_model.prediction_proba(tokenized_sentence, token)\n",
    "        return self.lamda * bigram_prob + (1 - self.lamda) * trigram_prob\n",
    "\n",
    "\n",
    "def _calc_ngrams(all_corpus: list[str], ngram: int) -> Counter:\n",
    "    \"\"\"\n",
    "    Process a tokenized sentence into a list of ngrams.\n",
    "    :param all_corpus: a list of all the corpus words\n",
    "    :param ngram: whether the ngrams will be unigrams, bigrams etc\n",
    "    :return: the counter of either unigram, bigram or trigram\n",
    "    \"\"\"\n",
    "    unigram_counter = Counter()\n",
    "    bigram_counter = Counter()\n",
    "    trigram_counter = Counter()\n",
    "     \n",
    "    \n",
    "\n",
    "    if ngram == 1 :\n",
    "        for sentence in all_corpus:\n",
    "             grams = [gram for gram in ngrams(sentence, ngram, pad_left=True, pad_right=True,\n",
    "                                    left_pad_symbol=START_TOKEN, right_pad_symbol=END_TOKEN)]\n",
    "             unigram_counter.update(grams)\n",
    "        return unigram_counter\n",
    "        \n",
    "    elif ngram == 2:\n",
    "        for sentence in all_corpus:\n",
    "             grams = [gram for gram in ngrams(sentence, ngram, pad_left=True, pad_right=True,\n",
    "                                    left_pad_symbol=START_TOKEN, right_pad_symbol=END_TOKEN)]\n",
    "             bigram_counter.update(grams)\n",
    "        return bigram_counter\n",
    "        \n",
    "    elif ngram == 3:\n",
    "        for sentence in all_corpus:\n",
    "             grams = [gram for gram in ngrams(sentence, ngram, pad_left=True, pad_right=True,\n",
    "                                    left_pad_symbol=START_TOKEN, right_pad_symbol=END_TOKEN)]\n",
    "             trigram_counter.update(grams)\n",
    "        return trigram_counter\n",
    "        \n",
    "    return 0\n",
    "    \n",
    "        "
   ]
  },
  {
   "cell_type": "code",
   "execution_count": 19,
   "id": "3dd7c6b6-b1d5-44c1-9308-867c7eb13fa0",
   "metadata": {},
   "outputs": [],
   "source": [
    "def replace_OOV_words_train(all_corpus):\n",
    "    unigram_counter = _calc_ngrams(all_corpus,1)\n",
    "    OOV_words = {}\n",
    "\n",
    "    for k, v in unigram_counter.items():\n",
    "        if v < 10:\n",
    "            key = k[0]\n",
    "            OOV_words[key] = \"UNK\"\n",
    "\n",
    "    replaced_corpus = []                          #the original corpus having the OOV words replaced by 'UNK'\n",
    "    for sentence in all_corpus:\n",
    "        clean_sentence = []\n",
    "    \n",
    "        for n in sentence:\n",
    "            clean_sentence.append(OOV_words.get(n, n))\n",
    "    \n",
    "        replaced_corpus.append(clean_sentence)\n",
    "\n",
    "\n",
    "    vocabulary = []\n",
    "\n",
    "    for key in unigram_counter.keys():        #Iterate the unigram counter\n",
    "        word = key[0]                         #get the word\n",
    "        if word not in OOV_words:\n",
    "            vocabulary.append(word)\n",
    "\n",
    "    vocabulary = set(vocabulary)              #Keep unique words\n",
    "    return vocabulary, replaced_corpus, OOV_words\n",
    "    "
   ]
  },
  {
   "cell_type": "code",
   "execution_count": 20,
   "id": "92f61c51-81f4-4a80-81b1-769dbb9bd058",
   "metadata": {},
   "outputs": [],
   "source": [
    "vocabulary, new_corpus, OOV_words = replace_OOV_words_train(training_set)"
   ]
  },
  {
   "cell_type": "code",
   "execution_count": 21,
   "id": "323891dd-f0bc-4454-9d24-bac8427d276c",
   "metadata": {},
   "outputs": [],
   "source": [
    "def replace_OOV_words_test(all_corpus, vocabulary, oov_words):\n",
    "    \n",
    "    replaced_corpus = []\n",
    "    for sentence in all_corpus:\n",
    "        updated_sent = []\n",
    "\n",
    "        for word in sentence:\n",
    "            if (word not in vocabulary) or (word in oov_words):\n",
    "                updated_sent.append('UNK')\n",
    "            else:\n",
    "                updated_sent.append(word)\n",
    "                \n",
    "    replaced_corpus.append(updated_sent)\n",
    "    return replaced_corpus   "
   ]
  },
  {
   "cell_type": "code",
   "execution_count": 22,
   "id": "a0eab7ab-2171-43a8-90ef-ef49e5335b69",
   "metadata": {},
   "outputs": [],
   "source": [
    "development_set = replace_OOV_words_test(development_set, vocabulary, OOV_words)\n",
    "test_set = replace_OOV_words_test(test_set, vocabulary, OOV_words)"
   ]
  },
  {
   "cell_type": "code",
   "execution_count": null,
   "id": "fcc0a58a-62bd-474c-86d7-a5dcaa0ae99b",
   "metadata": {},
   "outputs": [],
   "source": []
  }
 ],
 "metadata": {
  "kernelspec": {
   "display_name": "Python 3 (ipykernel)",
   "language": "python",
   "name": "python3"
  },
  "language_info": {
   "codemirror_mode": {
    "name": "ipython",
    "version": 3
   },
   "file_extension": ".py",
   "mimetype": "text/x-python",
   "name": "python",
   "nbconvert_exporter": "python",
   "pygments_lexer": "ipython3",
   "version": "3.11.7"
  }
 },
 "nbformat": 4,
 "nbformat_minor": 5
}
