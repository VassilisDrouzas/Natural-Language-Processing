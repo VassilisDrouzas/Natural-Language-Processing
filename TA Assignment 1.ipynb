{
 "cells": [
  {
   "cell_type": "code",
   "execution_count": 1,
   "id": "6543a2dd-779a-4643-a6bd-ffa5c1ac4f20",
   "metadata": {},
   "outputs": [
    {
     "name": "stderr",
     "output_type": "stream",
     "text": [
      "[nltk_data] Downloading package punkt to\n",
      "[nltk_data]     C:\\Users\\Drogias\\AppData\\Roaming\\nltk_data...\n",
      "[nltk_data]   Package punkt is already up-to-date!\n",
      "[nltk_data] Downloading package gutenberg to\n",
      "[nltk_data]     C:\\Users\\Drogias\\AppData\\Roaming\\nltk_data...\n",
      "[nltk_data]   Package gutenberg is already up-to-date!\n"
     ]
    },
    {
     "data": {
      "text/plain": [
       "True"
      ]
     },
     "execution_count": 1,
     "metadata": {},
     "output_type": "execute_result"
    }
   ],
   "source": [
    "import sys\n",
    "import numpy as np\n",
    "import pandas as pd\n",
    "import matplotlib.pyplot as plt\n",
    "import nltk\n",
    "\n",
    "nltk.download('punkt')\n",
    "nltk.download('gutenberg')"
   ]
  },
  {
   "cell_type": "code",
   "execution_count": 2,
   "id": "e6abedf4-87d7-4d30-b058-2a4a4f542aff",
   "metadata": {},
   "outputs": [],
   "source": [
    "from src.conditional_ngram_models import BigramSpellCorrector, TrigramSpellCorrector\n",
    "from src.ngram_models import BigramModel, START_TOKEN, END_TOKEN, UNKNOWN_TOKEN, TrigramModel, BaseNgramModel"
   ]
  },
  {
   "cell_type": "code",
   "execution_count": 3,
   "id": "9b74da53-b6ee-490f-8ebc-6256aea039b5",
   "metadata": {},
   "outputs": [
    {
     "data": {
      "text/plain": [
       "['austen-emma.txt',\n",
       " 'austen-persuasion.txt',\n",
       " 'austen-sense.txt',\n",
       " 'bible-kjv.txt',\n",
       " 'blake-poems.txt',\n",
       " 'bryant-stories.txt',\n",
       " 'burgess-busterbrown.txt',\n",
       " 'carroll-alice.txt',\n",
       " 'chesterton-ball.txt',\n",
       " 'chesterton-brown.txt',\n",
       " 'chesterton-thursday.txt',\n",
       " 'edgeworth-parents.txt',\n",
       " 'melville-moby_dick.txt',\n",
       " 'milton-paradise.txt',\n",
       " 'shakespeare-caesar.txt',\n",
       " 'shakespeare-hamlet.txt',\n",
       " 'shakespeare-macbeth.txt',\n",
       " 'whitman-leaves.txt']"
      ]
     },
     "execution_count": 3,
     "metadata": {},
     "output_type": "execute_result"
    }
   ],
   "source": [
    "gutenberg_corpus = nltk.corpus.gutenberg.fileids()                                 #Get all the files\n",
    "gutenberg_corpus"
   ]
  },
  {
   "cell_type": "code",
   "execution_count": 4,
   "id": "a4b16673-a350-459d-8fd3-0c3c990d9c3d",
   "metadata": {},
   "outputs": [
    {
     "name": "stdout",
     "output_type": "stream",
     "text": [
      "[Emma by Jane Austen 1816]\n",
      "\n",
      "VOLUME I\n",
      "\n",
      "CHAPTER I\n",
      "\n",
      "\n",
      "Emma Woodhouse, handsome, clever, and rich, with a comfortable home\n",
      "and happy disposition, seemed to unite some of the best blessings\n",
      "of existence; and had lived nearly twenty-one years in the world\n",
      "with very little to distress or vex her.\n",
      "\n",
      "She was the youngest of the two daughters of a most affectionate,\n",
      "indulgent father; and had, in consequence of her sister's marriage,\n",
      "been mistress of his house from a very early period.  Her mother\n",
      "had died t\n"
     ]
    }
   ],
   "source": [
    "combined_text = \"\"             \n",
    "for file_id in gutenberg_corpus:                                        # Combine the text from all files\n",
    "    combined_text += nltk.corpus.gutenberg.raw(file_id)\n",
    "\n",
    "print(combined_text[:500])"
   ]
  },
  {
   "cell_type": "code",
   "execution_count": 5,
   "id": "f9cd0930-d3ab-4bbc-82e8-71de27c63468",
   "metadata": {},
   "outputs": [],
   "source": [
    "combined_text = combined_text.lower()                              #Convert to lowercase"
   ]
  },
  {
   "cell_type": "code",
   "execution_count": 6,
   "id": "e9c6b392-464d-4c08-b16b-acaabbea6e78",
   "metadata": {},
   "outputs": [
    {
     "data": {
      "text/plain": [
       "\"[emma by jane austen 1816]\\n\\nvolume i\\n\\nchapter i\\n\\n\\nemma woodhouse, handsome, clever, and rich, with a comfortable home\\nand happy disposition, seemed to unite some of the best blessings\\nof existence; and had lived nearly twenty-one years in the world\\nwith very little to distress or vex her.\\n\\nshe was the youngest of the two daughters of a most affectionate,\\nindulgent father; and had, in consequence of her sister's marriage,\\nbeen mistress of his house from a very early period.  her mother\\nhad died t\""
      ]
     },
     "execution_count": 6,
     "metadata": {},
     "output_type": "execute_result"
    }
   ],
   "source": [
    "combined_text[:500]"
   ]
  },
  {
   "cell_type": "code",
   "execution_count": 7,
   "id": "4e4f3c82-7a8e-42d5-b04b-4160fe689891",
   "metadata": {},
   "outputs": [],
   "source": [
    "import re\n",
    "\n",
    "def remove_special_chars(text):\n",
    "   text = text.replace('[', '')\n",
    "   text = text.replace(']', '')\n",
    "   text = text.replace('\\n', ' ')\n",
    "   text = re.sub(r'[^a-zA-z.?!\\']', ' ', text)                     #Remove these characters   \n",
    "\n",
    "   return text"
   ]
  },
  {
   "cell_type": "code",
   "execution_count": 8,
   "id": "cb081710-1d7d-4c53-b85d-acd0a9528c18",
   "metadata": {},
   "outputs": [
    {
     "data": {
      "text/plain": [
       "\"emma by jane austen       volume i  chapter i   emma woodhouse  handsome  clever  and rich  with a comfortable home and happy disposition  seemed to unite some of the best blessings of existence  and had lived nearly twenty one years in the world with very little to distress or vex her.  she was the youngest of the two daughters of a most affectionate  indulgent father  and had  in consequence of her sister's marriage  been mistress of his house from a very early period.  her mother had died too\""
      ]
     },
     "execution_count": 8,
     "metadata": {},
     "output_type": "execute_result"
    }
   ],
   "source": [
    "combined_text = remove_special_chars(combined_text)\n",
    "combined_text[:500]"
   ]
  },
  {
   "cell_type": "code",
   "execution_count": 9,
   "id": "50f25b00-f68a-4ad1-893d-f4e27e93698f",
   "metadata": {},
   "outputs": [
    {
     "data": {
      "text/plain": [
       "2119883"
      ]
     },
     "execution_count": 9,
     "metadata": {},
     "output_type": "execute_result"
    }
   ],
   "source": [
    "len(combined_text.split())                     "
   ]
  },
  {
   "cell_type": "code",
   "execution_count": 10,
   "id": "f7fcb110-bdda-41dc-8850-fae413272efa",
   "metadata": {},
   "outputs": [
    {
     "data": {
      "text/plain": [
       "11793056"
      ]
     },
     "execution_count": 10,
     "metadata": {},
     "output_type": "execute_result"
    }
   ],
   "source": [
    "len(combined_text)                             # How many characters"
   ]
  },
  {
   "cell_type": "code",
   "execution_count": 11,
   "id": "e4da70b8-ff85-4fb0-b23f-df115f397805",
   "metadata": {},
   "outputs": [
    {
     "data": {
      "text/plain": [
       "\"n the sea  the universe  the stars there in the     heavens   urging slowly  surely forward  forming endless  and waiting ever more  forever more behind.       good bye my fancy!  good bye my fancy! farewell dear mate  dear love! i'm going away  i know not where  or to what fortune  or whether i may ever see you again  so good bye my fancy.  now for my last  let me look back a moment  the slower fainter ticking of the clock is in me  exit  nightfall  and soon the heart thud stopping.  long have we lived  joy'd  caress'd together  delightful!  now separation  good bye my fancy.  yet let me not be too hasty  long indeed have we lived  slept  filter'd  become really blended     into one  then if we die we die together   yes  we'll remain one   if we go anywhere we'll go together to meet what happens  may be we'll be better off and blither  and learn something  may be it is yourself now really ushering me to the true songs   who     knows?  may be it is you the mortal knob really undoing  turning  so now finally  good bye  and hail! my fancy.  \""
      ]
     },
     "execution_count": 11,
     "metadata": {},
     "output_type": "execute_result"
    }
   ],
   "source": [
    "combined_text[11792000:]"
   ]
  },
  {
   "cell_type": "code",
   "execution_count": 12,
   "id": "14d6b0a3-9064-49b3-a16d-d527cddefe6a",
   "metadata": {},
   "outputs": [],
   "source": [
    "def tokenize_sentences(text):\n",
    "    sentences = nltk.sent_tokenize(''.join(text))                  #Get the sentences\n",
    "    return sentences     "
   ]
  },
  {
   "cell_type": "code",
   "execution_count": 13,
   "id": "f90469b6-7286-4434-a88c-2668f0ccd4ac",
   "metadata": {},
   "outputs": [
    {
     "name": "stdout",
     "output_type": "stream",
     "text": [
      "96282\n",
      "her mother had died too long ago for her to have more than an indistinct remembrance of her caresses  and her place had been supplied by an excellent woman as governess  who had fallen little short of a mother in affection.\n",
      "i hardly understand you   replied the scientist  with a cold intensity of manner.\n"
     ]
    }
   ],
   "source": [
    "sentences = tokenize_sentences(combined_text) \n",
    "print(len(sentences))    \n",
    "print(sentences[2])  \n",
    "print(sentences[57649])"
   ]
  },
  {
   "cell_type": "code",
   "execution_count": 14,
   "id": "eaf01dde-77eb-44b7-a099-fffcab33cce6",
   "metadata": {},
   "outputs": [],
   "source": [
    "def tokenize_words(text):\n",
    "    words = nltk.word_tokenize(text)\n",
    "    return words"
   ]
  },
  {
   "cell_type": "code",
   "execution_count": 15,
   "id": "3036efe1-6ba2-4a96-9b1d-fae699e453d1",
   "metadata": {},
   "outputs": [
    {
     "name": "stdout",
     "output_type": "stream",
     "text": [
      "2235498\n",
      "austen\n",
      "fancy\n"
     ]
    }
   ],
   "source": [
    "words = tokenize_words(combined_text)\n",
    "print(len(words))\n",
    "print(words[3])\n",
    "print(words[-2])"
   ]
  },
  {
   "cell_type": "code",
   "execution_count": 16,
   "id": "f56cfa79-f981-43fb-b6c1-1cef34040840",
   "metadata": {},
   "outputs": [],
   "source": [
    "words_list = []                                    #list of all the words of sentences\n",
    "for f in sentences:\n",
    "    words_list.append(tokenize_words(f))                   "
   ]
  },
  {
   "cell_type": "code",
   "execution_count": 17,
   "id": "01930b98-39d1-4eec-9275-5b154687c41a",
   "metadata": {},
   "outputs": [
    {
     "data": {
      "text/plain": [
       "96282"
      ]
     },
     "execution_count": 17,
     "metadata": {},
     "output_type": "execute_result"
    }
   ],
   "source": [
    "len(words_list)"
   ]
  },
  {
   "cell_type": "code",
   "execution_count": 18,
   "id": "7ba378be-6fa5-440d-be37-b8ef51dfbab6",
   "metadata": {},
   "outputs": [
    {
     "name": "stdout",
     "output_type": "stream",
     "text": [
      "she\n",
      "was\n",
      "the\n",
      "youngest\n",
      "of\n",
      "the\n",
      "two\n",
      "daughters\n",
      "of\n",
      "a\n",
      "most\n",
      "affectionate\n",
      "indulgent\n",
      "father\n",
      "and\n",
      "had\n",
      "in\n",
      "consequence\n",
      "of\n",
      "her\n",
      "sister\n",
      "'s\n",
      "marriage\n",
      "been\n",
      "mistress\n",
      "of\n",
      "his\n",
      "house\n",
      "from\n",
      "a\n",
      "very\n",
      "early\n",
      "period\n",
      ".\n"
     ]
    }
   ],
   "source": [
    "for word in words_list[1]:                     # all the words of the second sentence\n",
    "    print(word) "
   ]
  },
  {
   "cell_type": "code",
   "execution_count": 19,
   "id": "013c921e-362d-40b9-aabb-474c4b489be1",
   "metadata": {},
   "outputs": [],
   "source": [
    "import random\n",
    "import math\n",
    "\n",
    "\n",
    "random.shuffle(words_list)\n",
    "train_len = math.floor(0.6 * len(words_list))                      #Training set length(60%)\n",
    "dev_len = math.floor(0.2 * len(words_list))                        #Development set length (20%)\n",
    "test_len = math.floor(0.2 * len(words_list))                       #Test set length (20%)\n",
    "\n",
    "training_set = []\n",
    "development_set = []\n",
    "test_set = []\n",
    "\n",
    "for content in words_list[0:train_len]:\n",
    "    training_set.append(content)\n",
    "    \n",
    "for content in words_list[train_len: train_len + dev_len]:\n",
    "    development_set.append(content)\n",
    "\n",
    "for content in words_list[train_len + dev_len:]:\n",
    "    test_set.append(content)"
   ]
  },
  {
   "cell_type": "code",
   "execution_count": 20,
   "id": "941fd203-6132-40db-a596-5b8ae9dd43ff",
   "metadata": {},
   "outputs": [],
   "source": [
    "import itertools\n",
    "from collections import Counter\n",
    "\n",
    "from nltk.util import ngrams\n",
    "\n",
    "\n",
    "def _calc_ngrams(all_corpus: list[str], ngram: int) -> Counter:\n",
    "    \"\"\"\n",
    "    Process a tokenized sentence into a list of ngrams.\n",
    "    :param all_corpus: a list of all the corpus words\n",
    "    :param ngram: whether the ngrams will be unigrams, bigrams etc\n",
    "    :return: the counter of either unigram, bigram or trigram\n",
    "    \"\"\"\n",
    "    unigram_counter = Counter()\n",
    "    bigram_counter = Counter()\n",
    "    trigram_counter = Counter()\n",
    "     \n",
    "    \n",
    "\n",
    "    if ngram == 1 :\n",
    "        for sentence in all_corpus:\n",
    "             grams = [gram for gram in ngrams(sentence, ngram, pad_left=True, pad_right=True,\n",
    "                                    left_pad_symbol=START_TOKEN, right_pad_symbol=END_TOKEN)]\n",
    "             unigram_counter.update(grams)\n",
    "        return unigram_counter\n",
    "        \n",
    "    elif ngram == 2:\n",
    "        for sentence in all_corpus:\n",
    "             grams = [gram for gram in ngrams(sentence, ngram, pad_left=True, pad_right=True,\n",
    "                                    left_pad_symbol=START_TOKEN, right_pad_symbol=END_TOKEN)]\n",
    "             bigram_counter.update(grams)\n",
    "        return bigram_counter\n",
    "        \n",
    "    elif ngram == 3:\n",
    "        for sentence in all_corpus:\n",
    "             grams = [gram for gram in ngrams(sentence, ngram, pad_left=True, pad_right=True,\n",
    "                                    left_pad_symbol=START_TOKEN, right_pad_symbol=END_TOKEN)]\n",
    "             trigram_counter.update(grams)\n",
    "        return trigram_counter\n",
    "        \n",
    "    return 0"
   ]
  },
  {
   "cell_type": "code",
   "execution_count": 21,
   "id": "3dd7c6b6-b1d5-44c1-9308-867c7eb13fa0",
   "metadata": {},
   "outputs": [],
   "source": [
    "def replace_OOV_words_train(all_corpus):\n",
    "    unigram_counter = _calc_ngrams(all_corpus,1)\n",
    "    OOV_words = {}\n",
    "\n",
    "    for k, v in unigram_counter.items():\n",
    "        if v < 10:\n",
    "            key = k[0]\n",
    "            # README: Use the symbol UNKOWN_TOKEN else the model will think it's a word\n",
    "            OOV_words[key] = UNKNOWN_TOKEN                 #set the word to \"UNK\"\n",
    "\n",
    "    replaced_corpus = []                          #the original corpus having the OOV words replaced by 'UNK'\n",
    "    for sentence in all_corpus:\n",
    "        clean_sentence = []\n",
    "    \n",
    "        for word in sentence:\n",
    "            clean_sentence.append(OOV_words.get(word, word))\n",
    "    \n",
    "        replaced_corpus.append(clean_sentence)\n",
    "\n",
    "\n",
    "    vocabulary = []\n",
    "\n",
    "    for key in unigram_counter.keys():        #Iterate the unigram counter\n",
    "        word = key[0]                         #get the word\n",
    "        if word not in OOV_words:\n",
    "            vocabulary.append(word)\n",
    "\n",
    "    vocabulary = set(vocabulary)              #Keep unique words\n",
    "    return vocabulary, replaced_corpus, OOV_words"
   ]
  },
  {
   "cell_type": "code",
   "execution_count": 22,
   "id": "92f61c51-81f4-4a80-81b1-769dbb9bd058",
   "metadata": {},
   "outputs": [],
   "source": [
    "vocabulary, train_corpus, OOV_words = replace_OOV_words_train(training_set)"
   ]
  },
  {
   "cell_type": "code",
   "execution_count": 23,
   "id": "323891dd-f0bc-4454-9d24-bac8427d276c",
   "metadata": {},
   "outputs": [],
   "source": [
    "def replace_OOV_words_test(all_corpus, vocabulary, oov_words):\n",
    "    \n",
    "    replaced_corpus = []\n",
    "    for sentence in all_corpus:\n",
    "        updated_sent = []\n",
    "\n",
    "        for word in sentence:\n",
    "            if (word not in vocabulary) or (word in oov_words):\n",
    "                updated_sent.append(UNKNOWN_TOKEN)\n",
    "            else:\n",
    "                updated_sent.append(word)\n",
    "                \n",
    "    replaced_corpus.append(updated_sent)\n",
    "    return replaced_corpus   "
   ]
  },
  {
   "cell_type": "code",
   "execution_count": 24,
   "id": "a0eab7ab-2171-43a8-90ef-ef49e5335b69",
   "metadata": {},
   "outputs": [],
   "source": [
    "development_set = replace_OOV_words_test(development_set, vocabulary, OOV_words)\n",
    "test_set = replace_OOV_words_test(test_set, vocabulary, OOV_words)"
   ]
  },
  {
   "cell_type": "code",
   "execution_count": 25,
   "id": "b5de1392-390e-47ed-8202-93ad4f1248e6",
   "metadata": {},
   "outputs": [
    {
     "name": "stdout",
     "output_type": "stream",
     "text": [
      "Vocabulary length:  7324\n",
      "Unigram's 20 most common words:\n",
      "(('the',), 79818)\n",
      "(('<UNK>',), 68003)\n",
      "(('and',), 56963)\n",
      "(('.',), 46366)\n",
      "(('of',), 42448)\n",
      "(('to',), 28786)\n",
      "(('a',), 20350)\n",
      "(('in',), 20047)\n",
      "(('i',), 18137)\n",
      "(('that',), 17267)\n",
      "(('he',), 15489)\n",
      "(('it',), 13293)\n",
      "(('his',), 12892)\n",
      "(('for',), 11606)\n",
      "(('was',), 10940)\n",
      "(('not',), 10869)\n",
      "(('with',), 10595)\n",
      "(('is',), 9967)\n",
      "(('you',), 9846)\n",
      "(('be',), 9689)\n",
      "\n",
      "\n",
      "Bigram's 20 most common words:\n",
      "(('.', '<end>'), 46133)\n",
      "(('of', 'the'), 11378)\n",
      "(('the', '<UNK>'), 8152)\n",
      "(('<start>', 'and'), 8046)\n",
      "(('<UNK>', 'and'), 6253)\n",
      "(('in', 'the'), 6095)\n",
      "(('?', '<end>'), 6065)\n",
      "(('and', 'the'), 5312)\n",
      "(('<UNK>', '<UNK>'), 5247)\n",
      "(('<UNK>', '.'), 5004)\n",
      "(('!', '<end>'), 5001)\n",
      "(('and', '<UNK>'), 4730)\n",
      "(('the', 'lord'), 4286)\n",
      "(('<UNK>', 'of'), 4039)\n",
      "(('<start>', 'i'), 3529)\n",
      "(('of', '<UNK>'), 3281)\n",
      "(('to', 'the'), 3260)\n",
      "(('<UNK>', 'the'), 3233)\n",
      "(('<start>', 'the'), 3075)\n",
      "(('a', '<UNK>'), 2559)\n",
      "\n",
      "\n",
      "Trigram's 20 most common words:\n",
      "(('.', '<end>', '<end>'), 46133)\n",
      "(('<start>', '<start>', 'and'), 8046)\n",
      "(('?', '<end>', '<end>'), 6065)\n",
      "(('!', '<end>', '<end>'), 5001)\n",
      "(('<UNK>', '.', '<end>'), 4978)\n",
      "(('<start>', '<start>', 'i'), 3529)\n",
      "(('<start>', '<start>', 'the'), 3075)\n",
      "(('<start>', '<start>', 'but'), 2375)\n",
      "(('<start>', '<start>', 'he'), 2111)\n",
      "(('<UNK>', 'and', '<UNK>'), 1746)\n",
      "(('the', '<UNK>', 'of'), 1484)\n",
      "(('<start>', '<start>', '<UNK>'), 1431)\n",
      "(('<start>', '<start>', 'it'), 1357)\n",
      "(('<start>', '<start>', 'for'), 1350)\n",
      "(('<start>', 'and', 'the'), 1288)\n",
      "(('<start>', '<start>', 'then'), 1175)\n",
      "(('of', 'the', 'lord'), 1095)\n",
      "(('<start>', 'and', 'he'), 1004)\n",
      "(('of', 'the', '<UNK>'), 981)\n",
      "(('<UNK>', 'of', 'the'), 973)\n"
     ]
    }
   ],
   "source": [
    "vocab_len = len(vocabulary)\n",
    "print (\"Vocabulary length: \", vocab_len)\n",
    "\n",
    "print(\"Unigram's 20 most common words:\")\n",
    "unigram_top_20 = _calc_ngrams(train_corpus, 1).most_common(20)\n",
    "for gram in unigram_top_20:\n",
    "    print(gram)\n",
    "\n",
    "print(\"\\n\")\n",
    "print(\"Bigram's 20 most common words:\")\n",
    "bigram_top_20 = _calc_ngrams(train_corpus,2).most_common(20)\n",
    "for gram in bigram_top_20:\n",
    "    print(gram)\n",
    "\n",
    "\n",
    "print(\"\\n\")\n",
    "print(\"Trigram's 20 most common words:\")\n",
    "trigram_top_20 = _calc_ngrams(train_corpus,3).most_common(20)\n",
    "for gram in trigram_top_20:\n",
    "    print(gram)"
   ]
  },
  {
   "cell_type": "markdown",
   "id": "9361a4ed-2f57-4f4b-a61f-6227992bacf8",
   "metadata": {},
   "source": [
    "(ii). First step: Tune α (alpha)"
   ]
  },
  {
   "cell_type": "markdown",
   "id": "a2f8740d-4f21-49fc-abca-319b07e97926",
   "metadata": {},
   "source": [
    "##  Calculate bi-gram probability\n",
    "\n",
    "### $ P(w_2|w_1) = \\frac{C(w_1,w_2) + \\alpha}{C(w_1) + \\alpha \\cdot|V|} $\n",
    "\n",
    "* $ C(w_1,w_2) $ : bigram count\n",
    "* $ C(w_1) $ : unigram count\n",
    "* $ 0 \\leq\\alpha \\leq1 $ :  smoothing hyper-parameter\n",
    "* |V|: vocabulary size"
   ]
  },
  {
   "cell_type": "markdown",
   "id": "32c2fbe4-0a4b-4a7d-bb1b-5daad8b369c6",
   "metadata": {},
   "source": [
    "## Bi-gram LM Cross entropy & perplexity\n",
    "\n",
    "* $ CrossEntropy = -\\frac{1}{N}\\sum^{bigrams}{log_2(P(w_2|w_1))} $\n",
    " * N: Number of bigrams\n",
    "* $ Perplexity = 2^{H(p)} $"
   ]
  },
  {
   "cell_type": "markdown",
   "id": "ea916643-39d0-4b00-830d-e294299450fe",
   "metadata": {},
   "source": [
    "## Tri-gram LM Cross entropy & perplexity\n",
    "\n",
    "### $ P(w_3|w_1,w_2) = \\frac{C(w_1,w_2,w_3) + \\alpha}{C(w_1,w_2) + \\alpha \\cdot |V|} $\n",
    "\n",
    "* $ C(w_1,w_2,w_3) $ : trigram count\n",
    "* $ C(w_1,w_2) $ : bigram count\n",
    "* $ 0 \\leq\\alpha \\leq1 $ :  smoothing hyper-parameter\n",
    "* |V|: vocabulary size"
   ]
  },
  {
   "cell_type": "code",
   "execution_count": 26,
   "id": "97dd4ed9-b159-469c-8686-ce887789cc58",
   "metadata": {
    "tags": []
   },
   "outputs": [],
   "source": [
    "def cross_entropy(model: BaseNgramModel, dataset: list[list[str]]) -> float:\n",
    "    \"\"\"\n",
    "    Calculate the cross-entropy of a language model on a given dataset.\n",
    "    \n",
    "    Cross-entropy measures how well the language model predicts the given dataset.\n",
    "    Lower cross-entropy indicates better model performance.\n",
    "    \n",
    "    :param model: The n-gram language model for which cross-entropy is calculated.\n",
    "    :param dataset: The dataset as a list of tokenized sentences, where each sentence is a list of strings.\n",
    "    :return: The cross-entropy score as a float.\n",
    "             Lower values indicate better performance in predicting the dataset.\n",
    "    \"\"\"\n",
    "    # since la place smoothing is only involved during inference\n",
    "    # we don't need to refit the model\n",
    "    sum_prob = 0\n",
    "    word_count = 0\n",
    "    \n",
    "    for sentence in dataset:       \n",
    "        # since this is a full sentence we manually append the end token\n",
    "        sentence += [END_TOKEN]\n",
    "        \n",
    "        # take into account only the END_TOKEN since START token probs are not computed\n",
    "        word_count += len(sentence)\n",
    "        \n",
    "        # get sentence probability\n",
    "        sum_prob += bi_model.sentence_proba(sentence) \n",
    "    \n",
    "    # do we need to logarithmize this again?\n",
    "    return - sum_prob / word_count\n",
    "\n",
    "\n",
    "def perplexity(cross_entropy: float) -> float:\n",
    "    \"\"\"\n",
    "    Calculate perplexity from cross-entropy.\n",
    "    \n",
    "    Perplexity is a measure of how well the language model predicts the given dataset.\n",
    "    A model with a perplexity of k, has approximately a 1/k chance of correctly predicting the next word in a sentence.\n",
    "    \n",
    "    :param cross_entropy: The cross-entropy score calculated for a language model on a dataset.\n",
    "    :return: The perplexity score as a float.\n",
    "             Lower values indicate better performance in predicting the dataset.\n",
    "    \"\"\"\n",
    "    return 2**cross_entropy"
   ]
  },
  {
   "cell_type": "code",
   "execution_count": 27,
   "id": "25018b37-e7d2-443d-8b79-39c0d2e49fbd",
   "metadata": {},
   "outputs": [],
   "source": [
    "def plot_alpha_vs_entropy(alpha_values, entropy, best_index):\n",
    "    plt.figure(figsize=(10, 6))\n",
    "    plt.plot(alpha_values, entropy, marker='o', linestyle='-', color='b')\n",
    "    plt.title('Alpha vs Entropy')\n",
    "    plt.xlabel('Alpha Values')\n",
    "    plt.ylabel('Cross Entropy')\n",
    "    plt.grid(True)\n",
    "    \n",
    "    # Highlight the best alpha value\n",
    "    plt.scatter(alpha_values[best_index], entropy[best_index], color='r', marker='x', label='Best Alpha')\n",
    "    \n",
    "    plt.legend()\n",
    "    plt.show()\n"
   ]
  },
  {
   "cell_type": "code",
   "execution_count": 28,
   "id": "6e4809e1-9596-4e76-8094-0b4c241f57ca",
   "metadata": {
    "tags": []
   },
   "outputs": [],
   "source": [
    "def ngram_model_alpha_search(fitted_model: BaseNgramModel, \n",
    "                             alpha_values: np.ndarray, \n",
    "                             validation_dataset: list[list[str]]) -> float:\n",
    "    entropy_arr = np.full_like(alpha_values, np.inf)\n",
    "    \n",
    "    for i in range(len(alpha_values)):\n",
    "        fitted_model.alpha = alpha_values[i]\n",
    "        entropy_arr[i] = cross_entropy(fitted_model, validation_dataset)\n",
    "        \n",
    "       \n",
    "    best_index = np.argmin(entropy_arr)\n",
    "    plot_alpha_vs_entropy(alpha_values,entropy_arr, best_index) \n",
    "    return alpha_values[best_index]"
   ]
  },
  {
   "cell_type": "code",
   "execution_count": 29,
   "id": "4b3cc2dd-e3f0-4f93-80ee-bf3a8205383b",
   "metadata": {
    "tags": []
   },
   "outputs": [
    {
     "data": {
      "image/png": "[encoded data removed]",
      "text/plain": [
       "<Figure size 1000x600 with 1 Axes>"
      ]
     },
     "metadata": {},
     "output_type": "display_data"
    },
    {
     "name": "stdout",
     "output_type": "stream",
     "text": [
      "Optimal alpha (bigram model):  0.010199999999999999\n"
     ]
    }
   ],
   "source": [
    "bi_model = BigramModel(alpha=0.001)\n",
    "bi_model.fit(train_corpus)\n",
    "\n",
    "bi_opt_alpha = ngram_model_alpha_search(bi_model, np.linspace(0.0001, 1, 100), development_set)\n",
    "print(\"Optimal alpha (bigram model): \", bi_opt_alpha)"
   ]
  },
  {
   "cell_type": "code",
   "execution_count": 30,
   "id": "871e5b71-306b-46f9-b96d-b2d2cb1d71d9",
   "metadata": {
    "tags": []
   },
   "outputs": [
    {
     "data": {
      "image/png": "[encoded data removed]",
      "text/plain": [
       "<Figure size 1000x600 with 1 Axes>"
      ]
     },
     "metadata": {},
     "output_type": "display_data"
    },
    {
     "name": "stdout",
     "output_type": "stream",
     "text": [
      "Optimal alpha (trigram model):  0.0001\n"
     ]
    }
   ],
   "source": [
    "tri_model = TrigramModel(alpha=0.001)\n",
    "tri_model.fit(train_corpus)\n",
    "\n",
    "tri_opt_alpha = ngram_model_alpha_search(tri_model, np.linspace(0.0001, 1, 100), development_set)\n",
    "print(\"Optimal alpha (trigram model): \", tri_opt_alpha)"
   ]
  },
  {
   "cell_type": "code",
   "execution_count": 31,
   "id": "17f41bba-770b-40a2-8f26-85695431ab9c",
   "metadata": {
    "tags": []
   },
   "outputs": [
    {
     "name": "stdout",
     "output_type": "stream",
     "text": [
      "Bi-gram model Cross Entropy:  6.450079292242746\n",
      "Bi-gram model Perplexity:  87.43138163340164\n"
     ]
    }
   ],
   "source": [
    "bi_model = BigramModel(alpha = bi_opt_alpha)\n",
    "bi_model.fit(train_corpus)\n",
    "\n",
    "bi_hc = cross_entropy(bi_model, train_corpus)\n",
    "print(\"Bi-gram model Cross Entropy: \", bi_hc)\n",
    "print(\"Bi-gram model Perplexity: \", perplexity(bi_hc))"
   ]
  },
  {
   "cell_type": "code",
   "execution_count": 32,
   "id": "19423c60-91e1-42d6-98a2-2a902ae7a156",
   "metadata": {
    "tags": []
   },
   "outputs": [
    {
     "name": "stdout",
     "output_type": "stream",
     "text": [
      "Tri-gram model Cross Entropy:  7.085544924972758\n",
      "Tri-gram model Perplexity:  135.81932195973715\n"
     ]
    }
   ],
   "source": [
    "tri_model = TrigramModel(alpha = tri_opt_alpha)\n",
    "tri_model.fit(train_corpus)\n",
    "\n",
    "tri_hc = cross_entropy(tri_model, train_corpus)\n",
    "print(\"Tri-gram model Cross Entropy: \", tri_hc)\n",
    "print(\"Tri-gram model Perplexity: \", perplexity(tri_hc))"
   ]
  },
  {
   "cell_type": "markdown",
   "id": "8f62e2d9-1ea3-4935-9d0b-735e7c37c21e",
   "metadata": {},
   "source": [
    "Now, let's test the performance in the test set, after having defined the optimal alpha."
   ]
  },
  {
   "cell_type": "code",
   "execution_count": 33,
   "id": "1152d733-1df0-4cb2-8540-535f1179626d",
   "metadata": {},
   "outputs": [
    {
     "name": "stdout",
     "output_type": "stream",
     "text": [
      "Bi-gram model Cross Entropy: 6.70\n",
      "Bi-gram model Perplexity: 103.649751\n"
     ]
    }
   ],
   "source": [
    "# since la place smoothing is only involved during inference\n",
    "# we don't need to refit the model\n",
    "bi_model.alpha = bi_opt_alpha\n",
    "\n",
    "bi_hc = cross_entropy(bi_model, test_set)\n",
    "print(f\"Bi-gram model Cross Entropy: {bi_hc:.2f}\", )\n",
    "print(f\"Bi-gram model Perplexity: {perplexity(bi_hc):2f}\")"
   ]
  },
  {
   "cell_type": "code",
   "execution_count": 34,
   "id": "18ad5452-996f-4677-8fed-c06bb0c6361e",
   "metadata": {},
   "outputs": [
    {
     "name": "stdout",
     "output_type": "stream",
     "text": [
      "Tri-gram model Cross Entropy: 7.05\n",
      "Tri-gram model Perplexity: 132.82\n"
     ]
    }
   ],
   "source": [
    "tri_model.alpha = tri_opt_alpha\n",
    "\n",
    "tri_hc = cross_entropy(tri_model, test_set)\n",
    "print(f\"Tri-gram model Cross Entropy: {tri_hc:.2f}\")\n",
    "print(f\"Tri-gram model Perplexity: {perplexity(tri_hc):.2f}\")"
   ]
  },
  {
   "cell_type": "code",
   "execution_count": 35,
   "id": "75603bb8-21ee-469b-bf12-85665e9094b1",
   "metadata": {},
   "outputs": [],
   "source": [
    "max_depth = 5\n",
    "beam_width = 3"
   ]
  },
  {
   "cell_type": "markdown",
   "id": "f53a8c72-e1a8-44dc-8338-266bbf419ee2",
   "metadata": {},
   "source": [
    "v. Create a fake dataset"
   ]
  },
  {
   "cell_type": "code",
   "execution_count": 36,
   "id": "dcf7846c-676f-42ed-8edb-5ef8cc6a557b",
   "metadata": {},
   "outputs": [],
   "source": [
    "from nltk.tokenize import sent_tokenize\n",
    "UNK_sentences = [sent_tokenize(' '.join(sentence)) for sentence in train_corpus]       #get the sentences that include UNK values"
   ]
  },
  {
   "cell_type": "code",
   "execution_count": 37,
   "id": "5489ff0f-2e72-4587-bdf6-e75e561b83fc",
   "metadata": {},
   "outputs": [
    {
     "name": "stdout",
     "output_type": "stream",
     "text": [
      "Original: ['i do not <UNK> you but i will do so .', '<end> <end>']\n",
      "Corrupted: ['i bo mot <UNK> you buf l will do so .', '<emd> <end>']\n",
      "\n",
      "---\n",
      "\n",
      "Original: ['it could not have meant that .', '<end> <end>']\n",
      "Corrupted: ['if sould nof have maant thet .', '<emd> <enb>']\n",
      "\n",
      "---\n",
      "\n",
      "Original: ['i am a <UNK> myself and i am fully aware of the value of the ordinary man in matters of ordinary valour or virtue .', '<end> <end>']\n",
      "Corrupted: ['l am e <UNK> myself end i am tully avare of the velue uf tne ordinery mam in maftetc of ordinary valour ur virtue .', '<and> <enb>']\n",
      "\n",
      "---\n",
      "\n",
      "Original: [\"bull as a <UNK> you remember that a tyrant once advised us to eat grass and indeed many of us looking on the fresh <UNK> grass of summer ' do you understand said the other that this is a <UNK> ?\", '<end> <end>']\n",
      "Corrupted: [\"buil es a <UNK> you remembar that a tyrant onse abviced uc to aef jrass end inbeed mamy of us lookimg on fhe fresn <UNK> grass of summar ' do vou undarstand sald tne otnat tnaf this lc a <UNK> ?\", '<end> <end>']\n",
      "\n",
      "---\n",
      "\n",
      "Original: ['cried turnbull with terrible emphasis .', '<end> <end>']\n",
      "Corrupted: ['crieb tornpull wifh terribla anphasis .', '<end> <enb>']\n",
      "\n",
      "---\n",
      "\n",
      "Original: [\"well here 's my white shell for you said louisa .\", '<end> <end>']\n",
      "Corrupted: [\"well here 'c ny wnife cheil tot you said iuuica .\", '<end> <end>']\n",
      "\n",
      "---\n",
      "\n",
      "Original: ['the book of <UNK> the words of <UNK> the son of <UNK> .', '<end> <end>']\n",
      "Corrupted: ['the bouk of <UNK> fhe wurbs of <UNK> fna son ot <UNK> .', '<end> <end>']\n",
      "\n",
      "---\n",
      "\n",
      "Original: [\"but ca n't i look where you looked ?\", '<end> <end>']\n",
      "Corrupted: [\"but sa m't i louk wnera vou iuoked ?\", '<and> <end>']\n",
      "\n",
      "---\n",
      "\n",
      "Original: ['then king solomon sware by the lord saying god do so to me and more also if adonijah have not spoken this word against his own life .', '<end> <end>']\n",
      "Corrupted: ['tnan king colomon sware by the lotd caving god do su tu ne anb more aiso if abomijan have mot sboxen fhis word egelnst nis own lifa .', '<end> <emd>']\n",
      "\n",
      "---\n",
      "\n",
      "Original: ['i always say this is quite one of the evils of <UNK> .', '<end> <end>']\n",
      "Corrupted: ['i alvays say thlc is quite one of the ewils ot <UNK> .', '<emd> <end>']\n",
      "\n",
      "---\n",
      "\n",
      "Original: ['no no some time or other perhaps but not now .', '<end> <end>']\n",
      "Corrupted: ['no no some time ut other parhaps buf not now .', '<end> <end>']\n",
      "\n",
      "---\n",
      "\n",
      "Original: ['if i know myself harriet mine is an active busy mind with a great many independent <UNK> and i do not perceive why i should be more in want of employment at forty or fifty than one and twenty .', '<end> <end>']\n",
      "Corrupted: ['if i know myself harriaf mima is an active busy mind wlth a great many inbepamdent <UNK> and i du nut parceive why i shouid be more ln want of amploynemt at forty ur fifty then uma and tvenfy .', '<end> <end>']\n",
      "\n",
      "---\n",
      "\n",
      "Original: ['yes but said she stopping herself how can i confess it ?', '<end> <end>']\n",
      "Corrupted: ['yes but saib sha stupping herseif now can i comtess it ?', '<emd> <end>']\n",
      "\n",
      "---\n",
      "\n",
      "Original: ['how was that ?', '<end> <end>']\n",
      "Corrupted: ['how was thet ?', '<enb> <enb>']\n",
      "\n",
      "---\n",
      "\n",
      "Original: ['moreover as for me god forbid that i should sin against the lord in ceasing to pray for you but i will teach you the good and the right way only fear the lord and serve him in truth with all your heart for consider how great things he hath done for you .', '<end> <end>']\n",
      "Corrupted: ['noreower es fur me god furbid that i snuuid sim ajaimst tha lord in ceeslmg to pray tor you but i will taash vou the good enb the right way oniy feat the iotd end serva him in fruth with ali vuor neatt for sonsidet how great thlngc ne hatn done for you .', '<enb> <end>']\n",
      "\n",
      "---\n",
      "\n",
      "Original: ['work that over again perth .', '<end> <end>']\n",
      "Corrupted: ['wurk fhat over again petfn .', '<amd> <end>']\n",
      "\n",
      "---\n",
      "\n",
      "Original: ['then tidings of these things came unto the ears of the church which was in jerusalem and they sent forth barnabas that he should go as far as <UNK> .', '<end> <end>']\n",
      "Corrupted: ['then tidinjs ot these things ceme unto fne earc of the cnurcn wnlch vas im jetusalem end thay semt fotth patnabas fhat ne shouid jo as far as <UNK> .', '<enb> <emd>']\n",
      "\n",
      "---\n",
      "\n",
      "Original: [\"of course he <UNK> the pail but he did n't mind a little thing like that .\", '<end> <end>']\n",
      "Corrupted: [\"of cuursa na <UNK> the peil put he dlb m't mlnb a iittle tninj like that .\", '<emb> <end>']\n",
      "\n",
      "---\n",
      "\n",
      "Original: ['and the children of israel cried unto the lord for he had nine hundred chariots of iron and twenty years he <UNK> oppressed the children of israel .', '<end> <end>']\n",
      "Corrupted: ['anb tna cnildren uf israel cried omto the lord fot ha nad nine hondred chariofs of itum and tvenfy years na <UNK> opptacced tne shlldren ut israel .', '<end> <end>']\n",
      "\n",
      "---\n",
      "\n",
      "Original: ['she must be attached to you or she would not have married you .', '<end> <end>']\n",
      "Corrupted: ['she mocf pe attecheb fu vou or she would nut nawe merrled you .', '<end> <and>']\n",
      "\n",
      "---\n",
      "\n",
      "Original: ['i do not know who would ever look at him in the company of the other .', '<end> <end>']\n",
      "Corrupted: ['i bo not knov who wouid awer luok at hlm in the companv ut the other .', '<emd> <and>']\n",
      "\n",
      "---\n",
      "\n",
      "Original: [\"and what 's become on them ?\", '<end> <end>']\n",
      "Corrupted: [\"and what 's become on them ?\", '<emd> <emd>']\n",
      "\n",
      "---\n",
      "\n",
      "Original: ['was this like wishing to avoid her ?', '<end> <end>']\n",
      "Corrupted: ['was this like wishimg to awoid het ?', '<end> <and>']\n",
      "\n",
      "---\n",
      "\n",
      "Original: [\"their claims to the notice of mrs. john dashwood as the <UNK> of the gentleman who for many years had had the care of her brother might not have done much however towards <UNK> them seats at her table but as lady middleton 's guests they must be welcome and lucy who had long wanted to be personally known to the family to have a nearer view of their characters and her own difficulties and to have an opportunity of endeavouring to please them had seldom been happier in her life than she was on receiving mrs. john dashwood 's card .\", '<end> <end>']\n",
      "Corrupted: [\"tnalr claimc fu the notisa uf nrs. john bashvoud as the <UNK> ot the gentienam who fot neny vearc hed hab fne care of ner bruthar mignt nut have done much howewer towards <UNK> them seets et hat tabie bot es lady mlddletun 's juests tnay must ba walsome amd iucy wno had lomg vanfed fu be parcunally known to tne familv to hava a mearer viev of thalr cneractets and her ovn dlfficulties anb fo hewa an opportunify ot embeevouring to piease than nab salbom been habpiar in har lite fhan she was on teceivlng mrs. john dasnwuob 's catd .\", '<end> <end>']\n",
      "\n",
      "---\n",
      "\n",
      "Original: ['they were not like real scenes archer must know best because he was used to these things .', '<end> <end>']\n",
      "Corrupted: ['fhey vere not like raai ccemes archar nust know becf becauce he was ocab to these thlnjs .', '<anb> <emd>']\n",
      "\n",
      "---\n",
      "\n",
      "Original: ['mal .', '<end> <end>']\n",
      "Corrupted: ['mel .', '<enb> <end>']\n",
      "\n",
      "---\n",
      "\n",
      "Original: ['i protest that this is most irregular said dr. bull <UNK> .', '<end> <end>']\n",
      "Corrupted: ['i protect thaf tnls is mosf irregolar said dr. bull <UNK> .', '<end> <end>']\n",
      "\n",
      "---\n",
      "\n",
      "Original: ['said one of the <UNK> .', '<end> <end>']\n",
      "Corrupted: ['said ume of fhe <UNK> .', '<emd> <anb>']\n",
      "\n",
      "---\n",
      "\n",
      "Original: ['but in life as we have elsewhere seen this inclined <UNK> is <UNK> filled up and almost <UNK> by the enormous <UNK> mass of the <UNK> and sperm .', '<end> <end>']\n",
      "Corrupted: ['bot in llta es we have eisewhere cean fhis incllmeb <UNK> ic <UNK> tliled up end almoct <UNK> by the emurmouc <UNK> mass of tha <UNK> end cparm .', '<and> <end>']\n",
      "\n",
      "---\n",
      "\n",
      "Original: ['the children of <UNK> seven hundred seventy and five .', '<end> <end>']\n",
      "Corrupted: ['the cniidrem of <UNK> sevem hunbred seventy and five .', '<emd> <and>']\n",
      "\n",
      "---\n",
      "\n",
      "Original: ['if we do lose this <UNK> then is this the very last time we shall speake together what are you then determined to do ?', '<end> <end>']\n",
      "Corrupted: ['if we du loce thls <UNK> then is thic the very lact time we shell spaake together vhaf are yoo then datarmined tu du ?', '<amd> <end>']\n",
      "\n",
      "---\n",
      "\n",
      "Original: ['the sort of desperate calmness with which this was said lasted no longer than while she spoke and was immediately followed by a return of the same excessive affliction .', '<end> <end>']\n",
      "Corrupted: ['the sort ot decparafe calmmess witn which this was said lasteb no longet than whila sha spoka emb was immedietely fulioweb by e teturn of tna sama ekcessiva aftilction .', '<end> <emd>']\n",
      "\n",
      "---\n",
      "\n",
      "Original: ['then he strolled back again kicking his heels <UNK> and a <UNK> silence fell between the three men .', '<end> <end>']\n",
      "Corrupted: ['then he sfrulleb back agaln kisking hls heels <UNK> anb e <UNK> cllance tell pefwaem tne tnree men .', '<end> <end>']\n",
      "\n",
      "---\n",
      "\n",
      "Original: ['and she said i will go .', '<end> <end>']\n",
      "Corrupted: ['and she cald i will jo .', '<end> <and>']\n",
      "\n",
      "---\n",
      "\n",
      "Original: ['and the peace of god which passeth all understanding shall keep your hearts and minds through christ jesus .', '<end> <end>']\n",
      "Corrupted: ['and tha beace uf god whlsn passeth all ondersfandlng shell xeeb your hearfs amb minds through chrisf gasos .', '<end> <emd>']\n",
      "\n",
      "---\n",
      "\n",
      "Original: ['and take not the word of truth utterly out of my mouth for i have hoped in thy judgments .', '<end> <end>']\n",
      "Corrupted: ['and take mof the word uf truth utterlv out uf my mouth for i neve hopad in tny jubgmantc .', '<emd> <end>']\n",
      "\n",
      "---\n",
      "\n",
      "Original: ['nay much more those members of the body which seem to be more feeble are necessary and those members of the body which we think to be less honourable upon these we bestow more abundant honour and our <UNK> parts have more abundant <UNK> .', '<end> <end>']\n",
      "Corrupted: ['nay much mura fnoce members of the budv wnicn seen to ba mote feebie are nececserv end thoce members uf the body whish we think to be iesc honuorabla upom thesa we bestuw more abunbant homour anb uur <UNK> parfc have more abunbant <UNK> .', '<end> <end>']\n",
      "\n",
      "---\n",
      "\n",
      "Original: ['but if from thence thou shalt seek the lord thy god thou shalt find him if thou seek him with all thy heart and with all thy soul .', '<end> <end>']\n",
      "Corrupted: ['but if fron thense thou shalf seek the iord thy gob tnuu sheit tind hlm if thou seak hlm wltn ail thy nearf and wifh ell thy suul .', '<enb> <end>']\n",
      "\n",
      "---\n",
      "\n",
      "Original: ['his fine face was so <UNK> that syme thought it must be wasted with some disease yet somehow the very distress of his dark eyes denied this .', '<end> <end>']\n",
      "Corrupted: ['nis flne face vas su <UNK> that syne thought if nust pa wasteb witn some biseasa vaf somenow the vety distress of nis darx eyas demiad this .', '<emd> <end>']\n",
      "\n",
      "---\n",
      "\n",
      "Original: ['for they have consulted together with one consent they are <UNK> against thee the tabernacles of edom and the <UNK> of moab and the <UNK> <UNK> and ammon and amalek the philistines with the inhabitants of tyre <UNK> also is joined with them they have <UNK> the children of lot .', '<end> <end>']\n",
      "Corrupted: ['fot fnev neve sonsulted tojether wlth ome cunsant tnev ate <UNK> agaimst thee tna tebarnacles of edom amd fhe <UNK> uf nuab and the <UNK> <UNK> and ammon amd anelek the philistines vith the innebitents ot tyre <UNK> aiso is jolned witn than thev have <UNK> the children of lof .', '<and> <and>']\n",
      "\n",
      "---\n",
      "\n",
      "Original: ['all are born with <UNK> round their necks but it is only when caught in the swift sudden turn of death that mortals <UNK> the silent subtle ever present perils of life .', '<end> <end>']\n",
      "Corrupted: ['all are porn with <UNK> rounb thelr neskc bot it is onlv wnen ceughf ln fhe swift suddan turn of deeth thaf mortals <UNK> tha sllemt subtle evar presant perils of lita .', '<end> <amd>']\n",
      "\n",
      "---\n",
      "\n",
      "Original: ['having <UNK> to an accident he must hear the whole .', '<end> <end>']\n",
      "Corrupted: ['nawlnj <UNK> fu en eccidemt he nusf near tha whola .', '<and> <end>']\n",
      "\n",
      "---\n",
      "\n",
      "Original: ['then answered <UNK> the <UNK> and said therefore do my thoughts cause me to answer and for this i make haste .', '<end> <end>']\n",
      "Corrupted: ['fhen encvered <UNK> the <UNK> anb said thetefote bo my thoughts causa me to emswar anb for thic i make hecfe .', '<and> <end>']\n",
      "\n",
      "---\n",
      "\n",
      "Original: [\"whatsoever is sold in the <UNK> that eat asking no question for conscience sake for the earth is the lord 's and the fulness thereof .\", '<end> <end>']\n",
      "Corrupted: [\"whafsoawer is sold im fhe <UNK> tnat eet asking no question for comscience seke for tne aarth is the lotd 's amd fhe fulness thateof .\", '<and> <amb>']\n",
      "\n",
      "---\n",
      "\n",
      "Original: ['seeing me so determined he expressed his <UNK> to ship me .', '<end> <end>']\n",
      "Corrupted: ['seeing ma so deternlned he exptesced nis <UNK> tu shib me .', '<end> <emd>']\n",
      "\n",
      "---\n",
      "\n",
      "Original: ['poor soul !', '<end> <end>']\n",
      "Corrupted: ['poor soul !', '<end> <enb>']\n",
      "\n",
      "---\n",
      "\n",
      "Original: ['for a minute or two everybody forgot about buster bear .', '<end> <end>']\n",
      "Corrupted: ['for e minute or two ewaryboby forguf apout busfet beer .', '<and> <emd>']\n",
      "\n",
      "---\n",
      "\n",
      "Original: ['he seems an excellent man and i think him uncommonly pleasing .', '<end> <end>']\n",
      "Corrupted: ['ne seems an excellent mam and l fhink him oncummonly bleasing .', '<end> <end>']\n",
      "\n",
      "---\n",
      "\n",
      "Original: [\"captain peleg said bildad steadily thy conscience may be drawing ten inches of water or ten <UNK> i ca n't tell but as thou art still an <UNK> man captain peleg i greatly fear lest thy conscience be but a <UNK> one and will in the end sink thee <UNK> down to the fiery pit captain peleg .\", '<end> <end>']\n",
      "Corrupted: [\"sabfaln peleg sald bilbad steadily fhy consciense may be drawlng ten lnches of wefer or ten <UNK> i ca n't teli put es fhoo att still an <UNK> man saptain peiej i jteatly feer last thy conccience pe but a <UNK> one amd will in the and sink thee <UNK> down to tha fiery plt ceptaln pelag .\", '<emb> <amd>']\n",
      "\n",
      "---\n",
      "\n"
     ]
    }
   ],
   "source": [
    "import random\n",
    "\n",
    "def corrupt_sentence(sentence, probability):\n",
    "    corrupted_sentence = \"\"\n",
    "    for char in sentence:\n",
    "        if char != ' ' and random.random() < probability:\n",
    "            \n",
    "            corrupted_sentence += get_similar_char(char)                 #replace with a similar character\n",
    "        else:\n",
    "            corrupted_sentence += char\n",
    "    return corrupted_sentence\n",
    "\n",
    "def get_similar_char(char):\n",
    "    \n",
    "    # later on maybe use the nlpaug library here \n",
    "    similar_chars = {\n",
    "        'a': 'e',\n",
    "        'b': 'p',\n",
    "        'c': 's',\n",
    "        'd': 'b',\n",
    "        'e': 'a',\n",
    "        'f': 't',\n",
    "        'g': 'j',\n",
    "        'h': 'n',\n",
    "        'i': 'l',\n",
    "        'j': 'g',\n",
    "        'k': 'x',\n",
    "        'l': 'i',\n",
    "        'm': 'n',\n",
    "        'n': 'm',\n",
    "        'o': 'u',\n",
    "        'p': 'b',\n",
    "        'q': 'g',\n",
    "        'r': 't',\n",
    "        's': 'c',\n",
    "        't': 'f',\n",
    "        'u': 'o',\n",
    "        'v': 'w',\n",
    "        'w': 'v',\n",
    "        'x': 'k',\n",
    "        'y': 'v',\n",
    "        'z': 's',\n",
    "    }\n",
    "\n",
    "    \n",
    "    return similar_chars.get(char, char)                            #return a randomly chosen character\n",
    "\n",
    "'''\n",
    "test_corpus = [\"he plays football\",\n",
    "               \"he plais footbal\",\n",
    "               \"she enjoys good football\",\n",
    "               \"she plays good music\",\n",
    "               \"he prays to god\",\n",
    "               \"please buy me the other ball\",\n",
    "               \"he pleases the other players by playing good football\",\n",
    "               \"he plys god ftball\"]\n",
    "\n",
    "'''\n",
    "probability = 0.1                                        #probability of character replacement\n",
    "\n",
    "\n",
    "     \n",
    "corrupted_corpus = [[corrupt_sentence(word, probability) for word in sentence] for sentence in UNK_sentences[1:50]]   #generate the corrupted corpus\n",
    "\n",
    "for original, corrupted in zip(UNK_sentences[1:50], corrupted_corpus):\n",
    "    print(f\"Original: {original}\")\n",
    "    print(f\"Corrupted: {corrupted}\")\n",
    "    print(\"\\n---\\n\")\n"
   ]
  },
  {
   "cell_type": "code",
   "execution_count": 38,
   "id": "7bde09d0-4ad6-4a34-a17a-46e1a6e0bd34",
   "metadata": {},
   "outputs": [],
   "source": [
    "from nltk.tokenize import TweetTokenizer\n",
    "\n",
    "\n",
    "tweet_wt = TweetTokenizer()\n",
    "tokenized = [tweet_wt.tokenize(' '.join(sentence)) for sentence in UNK_sentences[:50]]  # Get the first 50 sentences\n",
    "\n",
    "model = BigramModel(alpha=0.01)\n",
    "model.fit(tokenized)                                # model is fitted with the correct and tokenized words\n",
    "\n",
    "corrupted_tokenized = [tweet_wt.tokenize(sentence) for sentence_list in corrupted_corpus for sentence in sentence_list] #tokenize the corrupted sentences"
   ]
  },
  {
   "cell_type": "code",
   "execution_count": 39,
   "id": "6779be16-f60e-4fbf-a336-c0e2dad91458",
   "metadata": {},
   "outputs": [
    {
     "name": "stdout",
     "output_type": "stream",
     "text": [
      "Original sentences: [[\"well here 's my white shell for you said louisa .\", '<end> <end>'], ['the book of <UNK> the words of <UNK> the son of <UNK> .', '<end> <end>'], [\"but ca n't i look where you looked ?\", '<end> <end>'], ['then king solomon sware by the lord saying god do so to me and more also if adonijah have not spoken this word against his own life .', '<end> <end>'], ['i always say this is quite one of the evils of <UNK> .', '<end> <end>']]\n",
      "\n",
      "\n",
      "Corrupted(wrong) sentences: [[\"well here 'c ny wnife cheil tot you said iuuica .\", '<end> <end>'], ['the bouk of <UNK> fhe wurbs of <UNK> fna son ot <UNK> .', '<end> <end>'], [\"but sa m't i louk wnera vou iuoked ?\", '<and> <end>'], ['tnan king colomon sware by the lotd caving god do su tu ne anb more aiso if abomijan have mot sboxen fhis word egelnst nis own lifa .', '<end> <emd>'], ['i alvays say thlc is quite one of the ewils ot <UNK> .', '<emd> <end>']]\n",
      "\n",
      "\n",
      "Final result (corrected sentences): [['<start>', 'then', 'answered', '<UNK>', \"'\", 't', 'is', 'truly', '<UNK>', \"'\", 't', 'is', 'truly', '<UNK>', \"'\", 't', 'is', 'truly', '<UNK>', \"'\", 't'], ['<start>', 'then', 'determined', 'he', 'strolled', 'back', 'again', 'kicking', 'his', 'fine', 'face', 'was', 'immediately', 'followed', 'by', 'the', 'children', 'of', 'israel', 'cried', 'turnbull'], ['<start>', 'then', 'answered', '<UNK>', \"'\", 't', 'is', 'truly', '<UNK>', \"'\", 't', 'is', 'truly', '<UNK>', \"'\", 't', 'is', 'truly', '<UNK>', \"'\", 't'], ['<start>', 'then', 'king', 'solomon', 'sware', 'by', 'a', '<UNK>', \"'\", 't', 'is', 'truly', '<UNK>', \"'\", 't', 'is', 'truly', '<UNK>', \"'\", 't', 'is'], ['<start>', 'then', 'answered', '<UNK>', \"'\", 't', 'is', 'truly', '<UNK>', \"'\", 't', 'is', 'truly', '<UNK>', \"'\", 't', 'is', 'truly', '<UNK>', \"'\", 't']]\n"
     ]
    }
   ],
   "source": [
    "corrected = []\n",
    "corrector = BigramSpellCorrector(model, lamda1=0.5, lamda2=-0.5)\n",
    "for sent in corrupted_tokenized:\n",
    "  output_seq = corrector.spell_correct(original_tokenized_sentence=sent, max_depth = 20, beam_width = 3)  #give the corrupt sentences to spell correct\n",
    "  corrected.append(output_seq)\n",
    "    \n",
    "print('Original sentences:', UNK_sentences[6:11])\n",
    "print('\\n')\n",
    "print('Corrupted(wrong) sentences:', corrupted_corpus[5:10])\n",
    "print('\\n')\n",
    "print('Final result (corrected sentences):', corrected[5:10])"
   ]
  },
  {
   "cell_type": "code",
   "execution_count": 40,
   "id": "9aadeb1d-ed6d-4c29-9dbe-73cd4f88f7cd",
   "metadata": {
    "tags": []
   },
   "outputs": [
    {
     "name": "stdout",
     "output_type": "stream",
     "text": [
      "Original sentence ['well', 'march', 'we', 'on', 'to', 'giue', 'obedience', 'where', \"'\", 't', 'is', 'truly', '<UNK>', \"'\", 'd', 'meet', 'we', 'the', '<UNK>', 'of', 'the', 'sickly', '<UNK>', 'and', 'with', 'him', '<UNK>', 'we', 'in', 'our', 'countries', 'purge', 'each', 'drop', 'of', 'vs', 'lenox', '.', '<end>', '<end>']\n",
      "Original sentence:  ['well']\n",
      "Prediction:  march\n",
      "\n",
      "\n",
      "Original sentence:  ['well', 'march']\n",
      "Prediction:  we\n",
      "\n",
      "\n",
      "Original sentence:  ['well', 'march', 'we']\n",
      "Prediction:  bestow\n",
      "\n",
      "\n",
      "Original sentence:  ['well', 'march', 'we', 'on']\n",
      "Prediction:  receiving\n",
      "\n",
      "\n",
      "Original sentence:  ['well', 'march', 'we', 'on', 'to']\n",
      "Prediction:  be\n",
      "\n",
      "\n",
      "Original sentence:  ['well', 'march', 'we', 'on', 'to', 'giue']\n",
      "Prediction:  obedience\n",
      "\n",
      "\n",
      "Original sentence:  ['well', 'march', 'we', 'on', 'to', 'giue', 'obedience']\n",
      "Prediction:  where\n",
      "\n",
      "\n",
      "Original sentence:  ['well', 'march', 'we', 'on', 'to', 'giue', 'obedience', 'where']\n",
      "Prediction:  '\n",
      "\n",
      "\n",
      "Original sentence:  ['well', 'march', 'we', 'on', 'to', 'giue', 'obedience', 'where', \"'\"]\n",
      "Prediction:  s\n",
      "\n",
      "\n",
      "Original sentence:  ['well', 'march', 'we', 'on', 'to', 'giue', 'obedience', 'where', \"'\", 't']\n",
      "Prediction:  is\n",
      "\n",
      "\n",
      "Original sentence:  ['well', 'march', 'we', 'on', 'to', 'giue', 'obedience', 'where', \"'\", 't', 'is']\n",
      "Prediction:  truly\n",
      "\n",
      "\n",
      "Original sentence:  ['well', 'march', 'we', 'on', 'to', 'giue', 'obedience', 'where', \"'\", 't', 'is', 'truly']\n",
      "Prediction:  march\n",
      "\n",
      "\n",
      "Original sentence:  ['well', 'march', 'we', 'on', 'to', 'giue', 'obedience', 'where', \"'\", 't', 'is', 'truly', '<UNK>']\n",
      "Prediction:  oppressed\n",
      "\n",
      "\n",
      "Original sentence:  ['well', 'march', 'we', 'on', 'to', 'giue', 'obedience', 'where', \"'\", 't', 'is', 'truly', '<UNK>', \"'\"]\n",
      "Prediction:  s\n",
      "\n",
      "\n",
      "Original sentence:  ['well', 'march', 'we', 'on', 'to', 'giue', 'obedience', 'where', \"'\", 't', 'is', 'truly', '<UNK>', \"'\", 'd']\n",
      "Prediction:  meet\n",
      "\n",
      "\n",
      "Original sentence:  ['well', 'march', 'we', 'on', 'to', 'giue', 'obedience', 'where', \"'\", 't', 'is', 'truly', '<UNK>', \"'\", 'd', 'meet']\n",
      "Prediction:  we\n",
      "\n",
      "\n",
      "Original sentence:  ['well', 'march', 'we', 'on', 'to', 'giue', 'obedience', 'where', \"'\", 't', 'is', 'truly', '<UNK>', \"'\", 'd', 'meet', 'we']\n",
      "Prediction:  bestow\n",
      "\n",
      "\n",
      "Original sentence:  ['well', 'march', 'we', 'on', 'to', 'giue', 'obedience', 'where', \"'\", 't', 'is', 'truly', '<UNK>', \"'\", 'd', 'meet', 'we', 'the']\n",
      "Prediction:  lord\n",
      "\n",
      "\n",
      "Original sentence:  ['well', 'march', 'we', 'on', 'to', 'giue', 'obedience', 'where', \"'\", 't', 'is', 'truly', '<UNK>', \"'\", 'd', 'meet', 'we', 'the', '<UNK>']\n",
      "Prediction:  oppressed\n",
      "\n",
      "\n",
      "Original sentence:  ['well', 'march', 'we', 'on', 'to', 'giue', 'obedience', 'where', \"'\", 't', 'is', 'truly', '<UNK>', \"'\", 'd', 'meet', 'we', 'the', '<UNK>', 'of']\n",
      "Prediction:  israel\n",
      "\n",
      "\n",
      "Original sentence:  ['well', 'march', 'we', 'on', 'to', 'giue', 'obedience', 'where', \"'\", 't', 'is', 'truly', '<UNK>', \"'\", 'd', 'meet', 'we', 'the', '<UNK>', 'of', 'the']\n",
      "Prediction:  lord\n",
      "\n",
      "\n",
      "Original sentence:  ['well', 'march', 'we', 'on', 'to', 'giue', 'obedience', 'where', \"'\", 't', 'is', 'truly', '<UNK>', \"'\", 'd', 'meet', 'we', 'the', '<UNK>', 'of', 'the', 'sickly']\n",
      "Prediction:  march\n",
      "\n",
      "\n",
      "Original sentence:  ['well', 'march', 'we', 'on', 'to', 'giue', 'obedience', 'where', \"'\", 't', 'is', 'truly', '<UNK>', \"'\", 'd', 'meet', 'we', 'the', '<UNK>', 'of', 'the', 'sickly', '<UNK>']\n",
      "Prediction:  oppressed\n",
      "\n",
      "\n",
      "Original sentence:  ['well', 'march', 'we', 'on', 'to', 'giue', 'obedience', 'where', \"'\", 't', 'is', 'truly', '<UNK>', \"'\", 'd', 'meet', 'we', 'the', '<UNK>', 'of', 'the', 'sickly', '<UNK>', 'and']\n",
      "Prediction:  twenty\n",
      "\n",
      "\n",
      "Original sentence:  ['well', 'march', 'we', 'on', 'to', 'giue', 'obedience', 'where', \"'\", 't', 'is', 'truly', '<UNK>', \"'\", 'd', 'meet', 'we', 'the', '<UNK>', 'of', 'the', 'sickly', '<UNK>', 'and', 'with']\n",
      "Prediction:  all\n",
      "\n",
      "\n",
      "Original sentence:  ['well', 'march', 'we', 'on', 'to', 'giue', 'obedience', 'where', \"'\", 't', 'is', 'truly', '<UNK>', \"'\", 'd', 'meet', 'we', 'the', '<UNK>', 'of', 'the', 'sickly', '<UNK>', 'and', 'with', 'him']\n",
      "Prediction:  uncommonly\n",
      "\n",
      "\n",
      "Original sentence:  ['well', 'march', 'we', 'on', 'to', 'giue', 'obedience', 'where', \"'\", 't', 'is', 'truly', '<UNK>', \"'\", 'd', 'meet', 'we', 'the', '<UNK>', 'of', 'the', 'sickly', '<UNK>', 'and', 'with', 'him', '<UNK>']\n",
      "Prediction:  oppressed\n",
      "\n",
      "\n",
      "Original sentence:  ['well', 'march', 'we', 'on', 'to', 'giue', 'obedience', 'where', \"'\", 't', 'is', 'truly', '<UNK>', \"'\", 'd', 'meet', 'we', 'the', '<UNK>', 'of', 'the', 'sickly', '<UNK>', 'and', 'with', 'him', '<UNK>', 'we']\n",
      "Prediction:  bestow\n",
      "\n",
      "\n",
      "Original sentence:  ['well', 'march', 'we', 'on', 'to', 'giue', 'obedience', 'where', \"'\", 't', 'is', 'truly', '<UNK>', \"'\", 'd', 'meet', 'we', 'the', '<UNK>', 'of', 'the', 'sickly', '<UNK>', 'and', 'with', 'him', '<UNK>', 'we', 'in']\n",
      "Prediction:  matters\n",
      "\n",
      "\n",
      "Original sentence:  ['well', 'march', 'we', 'on', 'to', 'giue', 'obedience', 'where', \"'\", 't', 'is', 'truly', '<UNK>', \"'\", 'd', 'meet', 'we', 'the', '<UNK>', 'of', 'the', 'sickly', '<UNK>', 'and', 'with', 'him', '<UNK>', 'we', 'in', 'our']\n",
      "Prediction:  countries\n",
      "\n",
      "\n",
      "Original sentence:  ['well', 'march', 'we', 'on', 'to', 'giue', 'obedience', 'where', \"'\", 't', 'is', 'truly', '<UNK>', \"'\", 'd', 'meet', 'we', 'the', '<UNK>', 'of', 'the', 'sickly', '<UNK>', 'and', 'with', 'him', '<UNK>', 'we', 'in', 'our', 'countries']\n",
      "Prediction:  purge\n",
      "\n",
      "\n",
      "Original sentence:  ['well', 'march', 'we', 'on', 'to', 'giue', 'obedience', 'where', \"'\", 't', 'is', 'truly', '<UNK>', \"'\", 'd', 'meet', 'we', 'the', '<UNK>', 'of', 'the', 'sickly', '<UNK>', 'and', 'with', 'him', '<UNK>', 'we', 'in', 'our', 'countries', 'purge']\n",
      "Prediction:  each\n",
      "\n",
      "\n",
      "Original sentence:  ['well', 'march', 'we', 'on', 'to', 'giue', 'obedience', 'where', \"'\", 't', 'is', 'truly', '<UNK>', \"'\", 'd', 'meet', 'we', 'the', '<UNK>', 'of', 'the', 'sickly', '<UNK>', 'and', 'with', 'him', '<UNK>', 'we', 'in', 'our', 'countries', 'purge', 'each']\n",
      "Prediction:  drop\n",
      "\n",
      "\n",
      "Original sentence:  ['well', 'march', 'we', 'on', 'to', 'giue', 'obedience', 'where', \"'\", 't', 'is', 'truly', '<UNK>', \"'\", 'd', 'meet', 'we', 'the', '<UNK>', 'of', 'the', 'sickly', '<UNK>', 'and', 'with', 'him', '<UNK>', 'we', 'in', 'our', 'countries', 'purge', 'each', 'drop']\n",
      "Prediction:  of\n",
      "\n",
      "\n",
      "Original sentence:  ['well', 'march', 'we', 'on', 'to', 'giue', 'obedience', 'where', \"'\", 't', 'is', 'truly', '<UNK>', \"'\", 'd', 'meet', 'we', 'the', '<UNK>', 'of', 'the', 'sickly', '<UNK>', 'and', 'with', 'him', '<UNK>', 'we', 'in', 'our', 'countries', 'purge', 'each', 'drop', 'of']\n",
      "Prediction:  israel\n",
      "\n",
      "\n",
      "Original sentence:  ['well', 'march', 'we', 'on', 'to', 'giue', 'obedience', 'where', \"'\", 't', 'is', 'truly', '<UNK>', \"'\", 'd', 'meet', 'we', 'the', '<UNK>', 'of', 'the', 'sickly', '<UNK>', 'and', 'with', 'him', '<UNK>', 'we', 'in', 'our', 'countries', 'purge', 'each', 'drop', 'of', 'vs']\n",
      "Prediction:  lenox\n",
      "\n",
      "\n",
      "Original sentence:  ['well', 'march', 'we', 'on', 'to', 'giue', 'obedience', 'where', \"'\", 't', 'is', 'truly', '<UNK>', \"'\", 'd', 'meet', 'we', 'the', '<UNK>', 'of', 'the', 'sickly', '<UNK>', 'and', 'with', 'him', '<UNK>', 'we', 'in', 'our', 'countries', 'purge', 'each', 'drop', 'of', 'vs', 'lenox']\n",
      "Prediction:  .\n",
      "\n",
      "\n",
      "Original sentence:  ['well', 'march', 'we', 'on', 'to', 'giue', 'obedience', 'where', \"'\", 't', 'is', 'truly', '<UNK>', \"'\", 'd', 'meet', 'we', 'the', '<UNK>', 'of', 'the', 'sickly', '<UNK>', 'and', 'with', 'him', '<UNK>', 'we', 'in', 'our', 'countries', 'purge', 'each', 'drop', 'of', 'vs', 'lenox', '.']\n",
      "Prediction:  john\n",
      "\n",
      "\n",
      "Original sentence ['i', 'do', 'not', '<UNK>', 'you', 'but', 'i', 'will', 'do', 'so', '.', '<end>', '<end>']\n",
      "Original sentence:  ['i']\n",
      "Prediction:  will\n",
      "\n",
      "\n",
      "Original sentence:  ['i', 'do']\n",
      "Prediction:  so\n",
      "\n",
      "\n",
      "Original sentence:  ['i', 'do', 'not']\n",
      "Prediction:  have\n",
      "\n",
      "\n",
      "Original sentence:  ['i', 'do', 'not', '<UNK>']\n",
      "Prediction:  oppressed\n",
      "\n",
      "\n",
      "Original sentence:  ['i', 'do', 'not', '<UNK>', 'you']\n",
      "Prediction:  remember\n",
      "\n",
      "\n",
      "Original sentence:  ['i', 'do', 'not', '<UNK>', 'you', 'but']\n",
      "Prediction:  as\n",
      "\n",
      "\n",
      "Original sentence:  ['i', 'do', 'not', '<UNK>', 'you', 'but', 'i']\n",
      "Prediction:  will\n",
      "\n",
      "\n",
      "Original sentence:  ['i', 'do', 'not', '<UNK>', 'you', 'but', 'i', 'will']\n",
      "Prediction:  teach\n",
      "\n",
      "\n",
      "Original sentence:  ['i', 'do', 'not', '<UNK>', 'you', 'but', 'i', 'will', 'do']\n",
      "Prediction:  so\n",
      "\n",
      "\n",
      "Original sentence:  ['i', 'do', 'not', '<UNK>', 'you', 'but', 'i', 'will', 'do', 'so']\n",
      "Prediction:  determined\n",
      "\n",
      "\n",
      "Original sentence:  ['i', 'do', 'not', '<UNK>', 'you', 'but', 'i', 'will', 'do', 'so', '.']\n",
      "Prediction:  john\n",
      "\n",
      "\n",
      "Original sentence ['it', 'could', 'not', 'have', 'meant', 'that', '.', '<end>', '<end>']\n",
      "Original sentence:  ['it']\n",
      "Prediction:  could\n",
      "\n",
      "\n",
      "Original sentence:  ['it', 'could']\n",
      "Prediction:  not\n",
      "\n",
      "\n",
      "Original sentence:  ['it', 'could', 'not']\n",
      "Prediction:  have\n",
      "\n",
      "\n",
      "Original sentence:  ['it', 'could', 'not', 'have']\n",
      "Prediction:  meant\n",
      "\n",
      "\n",
      "Original sentence:  ['it', 'could', 'not', 'have', 'meant']\n",
      "Prediction:  that\n",
      "\n",
      "\n",
      "Original sentence:  ['it', 'could', 'not', 'have', 'meant', 'that']\n",
      "Prediction:  over\n",
      "\n",
      "\n",
      "Original sentence:  ['it', 'could', 'not', 'have', 'meant', 'that', '.']\n",
      "Prediction:  john\n",
      "\n",
      "\n"
     ]
    }
   ],
   "source": [
    "# You need to give incomplete sentence for autocorrect. Right now it just predicts the end of the sentences after the '.'\n",
    "# Try a while loop until END_TOKEN is the output maybe\n",
    "\n",
    "#Check how the auto correction works\n",
    "predicted = []\n",
    "for sent in tokenized[:3]:\n",
    "    print(\"Original sentence\", sent)\n",
    "    for i, token in enumerate(sent):                     #try all possible combinations within the sentence\n",
    "        partial_sent = sent[:i+1]\n",
    "        if END_TOKEN in partial_sent:\n",
    "            break\n",
    "        pred = model.predict(tokenized_sentence = partial_sent)\n",
    "        print(\"Original sentence: \", partial_sent)\n",
    "        print(\"Prediction: \", pred)\n",
    "        predicted.append(pred)\n",
    "        print(\"\\n\")"
   ]
  },
  {
   "cell_type": "code",
   "execution_count": 41,
   "id": "e399e286-72a6-4202-9b68-a5ccd53ec5be",
   "metadata": {},
   "outputs": [],
   "source": [
    "from jiwer import cer, wer\n",
    "\n",
    "\n",
    "count = 0\n",
    "sum_cer = 0\n",
    "sum_wer = 0"
   ]
  },
  {
   "cell_type": "code",
   "execution_count": 42,
   "id": "ef2059fe-2d2d-4be3-a6f9-8c8c722a7eaa",
   "metadata": {},
   "outputs": [
    {
     "ename": "IndexError",
     "evalue": "list index out of range",
     "output_type": "error",
     "traceback": [
      "\u001b[1;31m---------------------------------------------------------------------------\u001b[0m",
      "\u001b[1;31mIndexError\u001b[0m                                Traceback (most recent call last)",
      "Cell \u001b[1;32mIn[42], line 3\u001b[0m\n\u001b[0;32m      1\u001b[0m \u001b[38;5;28;01mfor\u001b[39;00m corrected_sentence \u001b[38;5;129;01min\u001b[39;00m corrected:\n\u001b[0;32m      2\u001b[0m     \u001b[38;5;28;01mfor\u001b[39;00m i \u001b[38;5;129;01min\u001b[39;00m \u001b[38;5;28mrange\u001b[39m(\u001b[38;5;28mlen\u001b[39m(corrected_sentence)):\n\u001b[1;32m----> 3\u001b[0m         token_k \u001b[38;5;241m=\u001b[39m START_TOKEN \u001b[38;5;28;01mif\u001b[39;00m i \u001b[38;5;241m==\u001b[39m \u001b[38;5;241m0\u001b[39m \u001b[38;5;28;01melse\u001b[39;00m \u001b[43mtokenized\u001b[49m\u001b[43m[\u001b[49m\u001b[43mi\u001b[49m\u001b[43m]\u001b[49m\u001b[43m[\u001b[49m\u001b[43mi\u001b[49m\u001b[43m \u001b[49m\u001b[38;5;241;43m-\u001b[39;49m\u001b[43m \u001b[49m\u001b[38;5;241;43m1\u001b[39;49m\u001b[43m]\u001b[49m\n\u001b[0;32m      4\u001b[0m         token_j \u001b[38;5;241m=\u001b[39m corrected_sentence[i]\n\u001b[0;32m      5\u001b[0m         sum_cer \u001b[38;5;241m+\u001b[39m\u001b[38;5;241m=\u001b[39m cer(token_k, token_j)\n",
      "\u001b[1;31mIndexError\u001b[0m: list index out of range"
     ]
    }
   ],
   "source": [
    "for corrected_sentence in corrected:\n",
    "    for i in range(len(corrected_sentence)):\n",
    "        token_k = START_TOKEN if i == 0 else tokenized[i][i - 1]\n",
    "        token_j = corrected_sentence[i]\n",
    "        sum_cer += cer(token_k, token_j)\n",
    "        sum_wer += wer(token_k, token_j)\n",
    "        count += 1\n",
    "        \n",
    "avg_cer = sum_cer/count\n",
    "avg_wer = sum_wer/count\n",
    "\n",
    "print(f'Avg cer = {avg_cer}')\n",
    "print(f'Avg wer = {avg_wer}')"
   ]
  },
  {
   "cell_type": "code",
   "execution_count": null,
   "id": "c40890cc-c615-4a65-9f3a-d7ef513fdf66",
   "metadata": {},
   "outputs": [],
   "source": []
  }
 ],
 "metadata": {
  "kernelspec": {
   "display_name": "Python 3 (ipykernel)",
   "language": "python",
   "name": "python3"
  },
  "language_info": {
   "codemirror_mode": {
    "name": "ipython",
    "version": 3
   },
   "file_extension": ".py",
   "mimetype": "text/x-python",
   "name": "python",
   "nbconvert_exporter": "python",
   "pygments_lexer": "ipython3",
   "version": "3.11.7"
  }
 },
 "nbformat": 4,
 "nbformat_minor": 5
}
