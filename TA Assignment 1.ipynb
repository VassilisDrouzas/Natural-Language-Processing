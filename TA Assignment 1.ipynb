{
 "cells": [
  {
   "cell_type": "code",
   "execution_count": 1,
   "id": "01ed7675-bc34-4445-a578-b4fd5d45513c",
   "metadata": {},
   "outputs": [],
   "source": [
    "import sys\n",
    "\n",
    "import numpy as np\n",
    "import pandas as pd\n",
    "import matplotlib.pyplot as plt\n",
    "import nltk\n",
    "from tqdm.auto import tqdm"
   ]
  },
  {
   "cell_type": "code",
   "execution_count": 2,
   "id": "d315b5c2-3afe-4170-ad94-cca1948c5e44",
   "metadata": {},
   "outputs": [],
   "source": [
    "from src.conditional_ngram_models import BigramSpellCorrector, TrigramSpellCorrector\n",
    "from src.ngram_models import BigramModel, START_TOKEN, END_TOKEN, UNKNOWN_TOKEN, TrigramModel, BaseNgramModel"
   ]
  },
  {
   "cell_type": "markdown",
   "id": "b655134f-bc80-4046-9fe8-d5d298ec60b6",
   "metadata": {},
   "source": [
    "## The Dataset"
   ]
  },
  {
   "cell_type": "code",
   "execution_count": 3,
   "id": "fb5ecebd-9c1c-4672-9ec0-7308ea508eb6",
   "metadata": {},
   "outputs": [
    {
     "name": "stderr",
     "output_type": "stream",
     "text": [
      "[nltk_data] Downloading package punkt to /home/dimits/nltk_data...\n",
      "[nltk_data]   Package punkt is already up-to-date!\n",
      "[nltk_data] Downloading package gutenberg to /home/dimits/nltk_data...\n",
      "[nltk_data]   Package gutenberg is already up-to-date!\n"
     ]
    },
    {
     "data": {
      "text/plain": [
       "True"
      ]
     },
     "execution_count": 3,
     "metadata": {},
     "output_type": "execute_result"
    }
   ],
   "source": [
    "nltk.download('punkt')\n",
    "nltk.download('gutenberg')"
   ]
  },
  {
   "cell_type": "code",
   "execution_count": 4,
   "id": "af8eef38-fb5c-4381-82ae-c86f265d4602",
   "metadata": {},
   "outputs": [
    {
     "data": {
      "text/plain": [
       "['austen-emma.txt',\n",
       " 'austen-persuasion.txt',\n",
       " 'austen-sense.txt',\n",
       " 'bible-kjv.txt',\n",
       " 'blake-poems.txt',\n",
       " 'bryant-stories.txt',\n",
       " 'burgess-busterbrown.txt',\n",
       " 'carroll-alice.txt',\n",
       " 'chesterton-ball.txt',\n",
       " 'chesterton-brown.txt',\n",
       " 'chesterton-thursday.txt',\n",
       " 'edgeworth-parents.txt',\n",
       " 'melville-moby_dick.txt',\n",
       " 'milton-paradise.txt',\n",
       " 'shakespeare-caesar.txt',\n",
       " 'shakespeare-hamlet.txt',\n",
       " 'shakespeare-macbeth.txt',\n",
       " 'whitman-leaves.txt']"
      ]
     },
     "execution_count": 4,
     "metadata": {},
     "output_type": "execute_result"
    }
   ],
   "source": [
    "gutenberg_corpus = nltk.corpus.gutenberg.fileids()                                 #Get all the files\n",
    "gutenberg_corpus"
   ]
  },
  {
   "cell_type": "code",
   "execution_count": 5,
   "id": "7f82c5f7-7376-4784-b981-4556c1ca0361",
   "metadata": {},
   "outputs": [
    {
     "name": "stdout",
     "output_type": "stream",
     "text": [
      "[Emma by Jane Austen 1816]\n",
      "\n",
      "VOLUME I\n",
      "\n",
      "CHAPTER I\n",
      "\n",
      "\n",
      "Emma Woodhouse, handsome, clever, and rich, with a comfortable home\n",
      "and happy disposition, seemed to unite some of the best blessings\n",
      "of existence; and had lived nearly twenty-one years in the world\n",
      "with very little to distress or vex her.\n",
      "\n",
      "She was the youngest of the two daughters of a most affectionate,\n",
      "indulgent father; and had, in consequence of her sister's marriage,\n",
      "been mistress of his house from a very early period.  Her mother\n",
      "had died t\n"
     ]
    }
   ],
   "source": [
    "combined_text = \"\"             \n",
    "for file_id in gutenberg_corpus:                                        # Combine the text from all files\n",
    "    combined_text += nltk.corpus.gutenberg.raw(file_id)\n",
    "\n",
    "print(combined_text[:500])"
   ]
  },
  {
   "cell_type": "code",
   "execution_count": 6,
   "id": "c889ab06-be55-4f9e-8cf2-26f518e70ee4",
   "metadata": {},
   "outputs": [],
   "source": [
    "combined_text = combined_text.lower()                              #Convert to lowercase"
   ]
  },
  {
   "cell_type": "code",
   "execution_count": 7,
   "id": "4f9db54b-ec60-46b3-8c22-beae2206c806",
   "metadata": {},
   "outputs": [
    {
     "data": {
      "text/plain": [
       "\"[emma by jane austen 1816]\\n\\nvolume i\\n\\nchapter i\\n\\n\\nemma woodhouse, handsome, clever, and rich, with a comfortable home\\nand happy disposition, seemed to unite some of the best blessings\\nof existence; and had lived nearly twenty-one years in the world\\nwith very little to distress or vex her.\\n\\nshe was the youngest of the two daughters of a most affectionate,\\nindulgent father; and had, in consequence of her sister's marriage,\\nbeen mistress of his house from a very early period.  her mother\\nhad died t\""
      ]
     },
     "execution_count": 7,
     "metadata": {},
     "output_type": "execute_result"
    }
   ],
   "source": [
    "combined_text[:500]"
   ]
  },
  {
   "cell_type": "code",
   "execution_count": 8,
   "id": "d70dabb1-ed94-4496-a308-18a8725c3ae3",
   "metadata": {},
   "outputs": [],
   "source": [
    "import re\n",
    "\n",
    "def remove_special_chars(text):\n",
    "   text = text.replace('[', '')\n",
    "   text = text.replace(']', '')\n",
    "   text = text.replace('\\n', ' ')\n",
    "   text = re.sub(r'[^a-zA-z.?!\\']', ' ', text)                     #Remove these characters   \n",
    "\n",
    "   return text"
   ]
  },
  {
   "cell_type": "code",
   "execution_count": 9,
   "id": "6c910b34-94e1-4552-a535-66684c6986fc",
   "metadata": {},
   "outputs": [
    {
     "data": {
      "text/plain": [
       "\"emma by jane austen       volume i  chapter i   emma woodhouse  handsome  clever  and rich  with a comfortable home and happy disposition  seemed to unite some of the best blessings of existence  and had lived nearly twenty one years in the world with very little to distress or vex her.  she was the youngest of the two daughters of a most affectionate  indulgent father  and had  in consequence of her sister's marriage  been mistress of his house from a very early period.  her mother had died too\""
      ]
     },
     "execution_count": 9,
     "metadata": {},
     "output_type": "execute_result"
    }
   ],
   "source": [
    "combined_text = remove_special_chars(combined_text)\n",
    "combined_text[:500]"
   ]
  },
  {
   "cell_type": "code",
   "execution_count": 10,
   "id": "e62450e3-c3f0-46ab-b992-e5f6bdcab5e3",
   "metadata": {},
   "outputs": [
    {
     "data": {
      "text/plain": [
       "2119883"
      ]
     },
     "execution_count": 10,
     "metadata": {},
     "output_type": "execute_result"
    }
   ],
   "source": [
    "len(combined_text.split())                     "
   ]
  },
  {
   "cell_type": "code",
   "execution_count": 11,
   "id": "23ceff29-bba4-45cc-b78c-e968aba8d1b7",
   "metadata": {},
   "outputs": [
    {
     "data": {
      "text/plain": [
       "11793056"
      ]
     },
     "execution_count": 11,
     "metadata": {},
     "output_type": "execute_result"
    }
   ],
   "source": [
    "len(combined_text)                             # How many characters"
   ]
  },
  {
   "cell_type": "code",
   "execution_count": 12,
   "id": "98d96739-d295-4fa1-ac08-6ecffd4cf886",
   "metadata": {},
   "outputs": [
    {
     "data": {
      "text/plain": [
       "\"n the sea  the universe  the stars there in the     heavens   urging slowly  surely forward  forming endless  and waiting ever more  forever more behind.       good bye my fancy!  good bye my fancy! farewell dear mate  dear love! i'm going away  i know not where  or to what fortune  or whether i may ever see you again  so good bye my fancy.  now for my last  let me look back a moment  the slower fainter ticking of the clock is in me  exit  nightfall  and soon the heart thud stopping.  long have we lived  joy'd  caress'd together  delightful!  now separation  good bye my fancy.  yet let me not be too hasty  long indeed have we lived  slept  filter'd  become really blended     into one  then if we die we die together   yes  we'll remain one   if we go anywhere we'll go together to meet what happens  may be we'll be better off and blither  and learn something  may be it is yourself now really ushering me to the true songs   who     knows?  may be it is you the mortal knob really undoing  turning  so now finally  good bye  and hail! my fancy.  \""
      ]
     },
     "execution_count": 12,
     "metadata": {},
     "output_type": "execute_result"
    }
   ],
   "source": [
    "combined_text[11792000:]"
   ]
  },
  {
   "cell_type": "code",
   "execution_count": 13,
   "id": "4960fe7b-0bda-4053-bbda-446f86f670c5",
   "metadata": {},
   "outputs": [],
   "source": [
    "def tokenize_sentences(text):\n",
    "    sentences = nltk.sent_tokenize(''.join(text))                  #Get the sentences\n",
    "    return sentences     "
   ]
  },
  {
   "cell_type": "code",
   "execution_count": 14,
   "id": "ecb8f4d2-7117-443e-9347-fe3a999b69e1",
   "metadata": {},
   "outputs": [
    {
     "name": "stdout",
     "output_type": "stream",
     "text": [
      "96282\n",
      "her mother had died too long ago for her to have more than an indistinct remembrance of her caresses  and her place had been supplied by an excellent woman as governess  who had fallen little short of a mother in affection.\n",
      "i hardly understand you   replied the scientist  with a cold intensity of manner.\n"
     ]
    }
   ],
   "source": [
    "sentences = tokenize_sentences(combined_text) \n",
    "print(len(sentences))    \n",
    "print(sentences[2])  \n",
    "print(sentences[57649])"
   ]
  },
  {
   "cell_type": "code",
   "execution_count": 15,
   "id": "1c043fa8-72e2-4d19-91b4-4dee2b48752c",
   "metadata": {},
   "outputs": [],
   "source": [
    "def tokenize_words(text):\n",
    "    words = nltk.word_tokenize(text)\n",
    "    return words"
   ]
  },
  {
   "cell_type": "code",
   "execution_count": 16,
   "id": "24a3554e-7c0f-4386-ba6c-5d05cad923af",
   "metadata": {},
   "outputs": [
    {
     "name": "stdout",
     "output_type": "stream",
     "text": [
      "2235498\n",
      "austen\n",
      "fancy\n"
     ]
    }
   ],
   "source": [
    "words = tokenize_words(combined_text)\n",
    "print(len(words))\n",
    "print(words[3])\n",
    "print(words[-2])"
   ]
  },
  {
   "cell_type": "code",
   "execution_count": 17,
   "id": "bca21679-9920-4b79-9b76-d1fc04f7fa0e",
   "metadata": {},
   "outputs": [],
   "source": [
    "words_list = []                                    #list of all the words of sentences\n",
    "for f in sentences:\n",
    "    words_list.append(tokenize_words(f))                   "
   ]
  },
  {
   "cell_type": "code",
   "execution_count": 18,
   "id": "b03939de-09f3-4a84-9478-6ebcd4215a0c",
   "metadata": {},
   "outputs": [
    {
     "data": {
      "text/plain": [
       "96282"
      ]
     },
     "execution_count": 18,
     "metadata": {},
     "output_type": "execute_result"
    }
   ],
   "source": [
    "len(words_list)"
   ]
  },
  {
   "cell_type": "code",
   "execution_count": 19,
   "id": "0d18854b-5dfd-40a1-98c0-8783c020d211",
   "metadata": {},
   "outputs": [
    {
     "name": "stdout",
     "output_type": "stream",
     "text": [
      "she\n",
      "was\n",
      "the\n",
      "youngest\n",
      "of\n",
      "the\n",
      "two\n",
      "daughters\n",
      "of\n",
      "a\n",
      "most\n",
      "affectionate\n",
      "indulgent\n",
      "father\n",
      "and\n",
      "had\n",
      "in\n",
      "consequence\n",
      "of\n",
      "her\n",
      "sister\n",
      "'s\n",
      "marriage\n",
      "been\n",
      "mistress\n",
      "of\n",
      "his\n",
      "house\n",
      "from\n",
      "a\n",
      "very\n",
      "early\n",
      "period\n",
      ".\n"
     ]
    }
   ],
   "source": [
    "for word in words_list[1]:                     # all the words of the second sentence\n",
    "    print(word) "
   ]
  },
  {
   "cell_type": "code",
   "execution_count": 20,
   "id": "cf8bd383-723b-4a60-b2c5-2fadf98cd9ee",
   "metadata": {},
   "outputs": [],
   "source": [
    "import random\n",
    "import math\n",
    "\n",
    "\n",
    "random.shuffle(words_list)\n",
    "train_len = math.floor(0.6 * len(words_list))                      #Training set length(60%)\n",
    "dev_len = math.floor(0.2 * len(words_list))                        #Development set length (20%)\n",
    "test_len = math.floor(0.2 * len(words_list))                       #Test set length (20%)\n",
    "\n",
    "training_set = []\n",
    "development_set = []\n",
    "test_set = []\n",
    "\n",
    "for content in words_list[0:train_len]:\n",
    "    training_set.append(content)\n",
    "    \n",
    "for content in words_list[train_len: train_len + dev_len]:\n",
    "    development_set.append(content)\n",
    "\n",
    "for content in words_list[train_len + dev_len:]:\n",
    "    test_set.append(content)"
   ]
  },
  {
   "cell_type": "code",
   "execution_count": 21,
   "id": "fa78d476-c0a1-4e89-801a-ac0a68228d32",
   "metadata": {},
   "outputs": [],
   "source": [
    "import itertools\n",
    "from collections import Counter\n",
    "\n",
    "from nltk.util import ngrams\n",
    "\n",
    "\n",
    "def _calc_ngrams(all_corpus: list[str], ngram: int) -> Counter:\n",
    "    \"\"\"\n",
    "    Process a tokenized sentence into a list of ngrams.\n",
    "    :param all_corpus: a list of all the corpus words\n",
    "    :param ngram: whether the ngrams will be unigrams, bigrams etc\n",
    "    :return: the counter of either unigram, bigram or trigram\n",
    "    \"\"\"\n",
    "    unigram_counter = Counter()\n",
    "    bigram_counter = Counter()\n",
    "    trigram_counter = Counter()\n",
    "     \n",
    "    \n",
    "\n",
    "    if ngram == 1 :\n",
    "        for sentence in all_corpus:\n",
    "             grams = [gram for gram in ngrams(sentence, ngram, pad_left=True, pad_right=True,\n",
    "                                    left_pad_symbol=START_TOKEN, right_pad_symbol=END_TOKEN)]\n",
    "             unigram_counter.update(grams)\n",
    "        return unigram_counter\n",
    "        \n",
    "    elif ngram == 2:\n",
    "        for sentence in all_corpus:\n",
    "             grams = [gram for gram in ngrams(sentence, ngram, pad_left=True, pad_right=True,\n",
    "                                    left_pad_symbol=START_TOKEN, right_pad_symbol=END_TOKEN)]\n",
    "             bigram_counter.update(grams)\n",
    "        return bigram_counter\n",
    "        \n",
    "    elif ngram == 3:\n",
    "        for sentence in all_corpus:\n",
    "             grams = [gram for gram in ngrams(sentence, ngram, pad_left=True, pad_right=True,\n",
    "                                    left_pad_symbol=START_TOKEN, right_pad_symbol=END_TOKEN)]\n",
    "             trigram_counter.update(grams)\n",
    "        return trigram_counter\n",
    "        \n",
    "    return 0"
   ]
  },
  {
   "cell_type": "code",
   "execution_count": 22,
   "id": "bdb63759-ab30-4fcb-8caf-01f3e7b24719",
   "metadata": {},
   "outputs": [],
   "source": [
    "def replace_OOV_words_train(all_corpus):\n",
    "    unigram_counter = _calc_ngrams(all_corpus,1)\n",
    "    OOV_words = {}\n",
    "\n",
    "    for k, v in unigram_counter.items():\n",
    "        if v < 10:\n",
    "            key = k[0]\n",
    "            # README: Use the symbol UNKOWN_TOKEN else the model will think it's a word\n",
    "            OOV_words[key] = UNKNOWN_TOKEN                 #set the word to \"UNK\"\n",
    "\n",
    "    replaced_corpus = []                          #the original corpus having the OOV words replaced by 'UNK'\n",
    "    for sentence in all_corpus:\n",
    "        clean_sentence = []\n",
    "    \n",
    "        for word in sentence:\n",
    "            clean_sentence.append(OOV_words.get(word, word))\n",
    "    \n",
    "        replaced_corpus.append(clean_sentence)\n",
    "\n",
    "\n",
    "    vocabulary = []\n",
    "\n",
    "    for key in unigram_counter.keys():        #Iterate the unigram counter\n",
    "        word = key[0]                         #get the word\n",
    "        if word not in OOV_words:\n",
    "            vocabulary.append(word)\n",
    "\n",
    "    vocabulary = set(vocabulary)              #Keep unique words\n",
    "    return vocabulary, replaced_corpus, OOV_words"
   ]
  },
  {
   "cell_type": "code",
   "execution_count": 23,
   "id": "685392b7-6dbb-4121-a777-4d735b02e2b4",
   "metadata": {},
   "outputs": [],
   "source": [
    "def replace_OOV_words_test(all_corpus, vocabulary, oov_words):\n",
    "    \n",
    "    replaced_corpus = []\n",
    "    for sentence in all_corpus:\n",
    "        updated_sent = []\n",
    "\n",
    "        for word in sentence:\n",
    "            if (word not in vocabulary) or (word in oov_words):\n",
    "                updated_sent.append(UNKNOWN_TOKEN)\n",
    "            else:\n",
    "                updated_sent.append(word)\n",
    "                \n",
    "    replaced_corpus.append(updated_sent)\n",
    "    return replaced_corpus   "
   ]
  },
  {
   "cell_type": "code",
   "execution_count": 24,
   "id": "229f481f-b29a-46dd-a4f4-bd7ad0d4b577",
   "metadata": {},
   "outputs": [],
   "source": [
    "vocabulary, train_corpus, OOV_words = replace_OOV_words_train(training_set)\n",
    "development_set = replace_OOV_words_test(development_set, vocabulary, OOV_words)\n",
    "test_set = replace_OOV_words_test(test_set, vocabulary, OOV_words)"
   ]
  },
  {
   "cell_type": "code",
   "execution_count": 25,
   "id": "ad22a56e-a929-419f-bf47-364b79623ae9",
   "metadata": {},
   "outputs": [
    {
     "name": "stdout",
     "output_type": "stream",
     "text": [
      "Vocabulary length:  7294\n",
      "Unigram's 20 most common words:\n",
      "(('the',), 79479)\n",
      "(('<UNK>',), 67906)\n",
      "(('and',), 56850)\n",
      "(('.',), 46375)\n",
      "(('of',), 42289)\n",
      "(('to',), 28495)\n",
      "(('a',), 20353)\n",
      "(('in',), 20135)\n",
      "(('i',), 18231)\n",
      "(('that',), 17036)\n",
      "(('he',), 15405)\n",
      "(('it',), 13376)\n",
      "(('his',), 12832)\n",
      "(('for',), 11561)\n",
      "(('was',), 11210)\n",
      "(('not',), 10783)\n",
      "(('with',), 10529)\n",
      "(('is',), 9939)\n",
      "(('you',), 9838)\n",
      "(('be',), 9656)\n",
      "\n",
      "\n",
      "Bigram's 20 most common words:\n",
      "(('.', '<end>'), 46129)\n",
      "(('of', 'the'), 11193)\n",
      "(('the', '<UNK>'), 8029)\n",
      "(('<start>', 'and'), 8021)\n",
      "(('<UNK>', 'and'), 6283)\n",
      "(('in', 'the'), 6155)\n",
      "(('?', '<end>'), 6007)\n",
      "(('and', 'the'), 5301)\n",
      "(('<UNK>', '<UNK>'), 5245)\n",
      "(('!', '<end>'), 5049)\n",
      "(('<UNK>', '.'), 4916)\n",
      "(('and', '<UNK>'), 4784)\n",
      "(('the', 'lord'), 4192)\n",
      "(('<UNK>', 'of'), 4125)\n",
      "(('<start>', 'i'), 3502)\n",
      "(('of', '<UNK>'), 3308)\n",
      "(('to', 'the'), 3236)\n",
      "(('<start>', 'the'), 3149)\n",
      "(('<UNK>', 'the'), 3078)\n",
      "(('a', '<UNK>'), 2635)\n",
      "\n",
      "\n",
      "Trigram's 20 most common words:\n",
      "(('.', '<end>', '<end>'), 46129)\n",
      "(('<start>', '<start>', 'and'), 8021)\n",
      "(('?', '<end>', '<end>'), 6007)\n",
      "(('!', '<end>', '<end>'), 5049)\n",
      "(('<UNK>', '.', '<end>'), 4882)\n",
      "(('<start>', '<start>', 'i'), 3502)\n",
      "(('<start>', '<start>', 'the'), 3149)\n",
      "(('<start>', '<start>', 'but'), 2368)\n",
      "(('<start>', '<start>', 'he'), 2074)\n",
      "(('<UNK>', 'and', '<UNK>'), 1764)\n",
      "(('the', '<UNK>', 'of'), 1479)\n",
      "(('<start>', '<start>', '<UNK>'), 1365)\n",
      "(('<start>', '<start>', 'for'), 1340)\n",
      "(('<start>', 'and', 'the'), 1284)\n",
      "(('<start>', '<start>', 'it'), 1276)\n",
      "(('<start>', '<start>', 'then'), 1143)\n",
      "(('of', 'the', 'lord'), 1058)\n",
      "(('<UNK>', 'of', 'the'), 971)\n",
      "(('<start>', '<start>', 'she'), 968)\n",
      "(('of', 'the', '<UNK>'), 965)\n"
     ]
    }
   ],
   "source": [
    "vocab_len = len(vocabulary)\n",
    "print (\"Vocabulary length: \", vocab_len)\n",
    "\n",
    "print(\"Unigram's 20 most common words:\")\n",
    "unigram_top_20 = _calc_ngrams(train_corpus, 1).most_common(20)\n",
    "for gram in unigram_top_20:\n",
    "    print(gram)\n",
    "\n",
    "print(\"\\n\")\n",
    "print(\"Bigram's 20 most common words:\")\n",
    "bigram_top_20 = _calc_ngrams(train_corpus,2).most_common(20)\n",
    "for gram in bigram_top_20:\n",
    "    print(gram)\n",
    "\n",
    "\n",
    "print(\"\\n\")\n",
    "print(\"Trigram's 20 most common words:\")\n",
    "trigram_top_20 = _calc_ngrams(train_corpus,3).most_common(20)\n",
    "for gram in trigram_top_20:\n",
    "    print(gram)"
   ]
  },
  {
   "cell_type": "code",
   "execution_count": 26,
   "id": "c7017599-67e8-4594-b111-5ef739bb831f",
   "metadata": {},
   "outputs": [],
   "source": [
    "from nltk.tokenize import sent_tokenize, TweetTokenizer\n",
    "\n",
    "\n",
    "UNK_sentences = [sent_tokenize(' '.join(sentence)) for sentence in train_corpus]       #get the sentences that include UNK values\n",
    "tweet_wt = TweetTokenizer()\n",
    "tokenized = [tweet_wt.tokenize(' '.join(sentence)) for sentence in UNK_sentences[:50]]  # Get the first 50 sentences"
   ]
  },
  {
   "cell_type": "markdown",
   "id": "a2f8740d-4f21-49fc-abca-319b07e97926",
   "metadata": {},
   "source": [
    "##  Calculate bi-gram probability\n",
    "\n",
    "### $ P(w_2|w_1) = \\frac{C(w_1,w_2) + \\alpha}{C(w_1) + \\alpha \\cdot|V|} $\n",
    "\n",
    "* $ C(w_1,w_2) $ : bigram count\n",
    "* $ C(w_1) $ : unigram count\n",
    "* $ 0 \\leq\\alpha \\leq1 $ :  smoothing hyper-parameter\n",
    "* |V|: vocabulary size"
   ]
  },
  {
   "cell_type": "markdown",
   "id": "32c2fbe4-0a4b-4a7d-bb1b-5daad8b369c6",
   "metadata": {},
   "source": [
    "## Bi-gram LM Cross entropy & perplexity\n",
    "\n",
    "* $ CrossEntropy = -\\frac{1}{N}\\sum^{bigrams}{log_2(P(w_2|w_1))} $\n",
    " * N: Number of bigrams\n",
    "* $ Perplexity = 2^{H(p)} $"
   ]
  },
  {
   "cell_type": "markdown",
   "id": "ea916643-39d0-4b00-830d-e294299450fe",
   "metadata": {},
   "source": [
    "## Tri-gram LM Cross entropy & perplexity\n",
    "\n",
    "### $ P(w_3|w_1,w_2) = \\frac{C(w_1,w_2,w_3) + \\alpha}{C(w_1,w_2) + \\alpha \\cdot |V|} $\n",
    "\n",
    "* $ C(w_1,w_2,w_3) $ : trigram count\n",
    "* $ C(w_1,w_2) $ : bigram count\n",
    "* $ 0 \\leq\\alpha \\leq1 $ :  smoothing hyper-parameter\n",
    "* |V|: vocabulary size"
   ]
  },
  {
   "cell_type": "code",
   "execution_count": 27,
   "id": "97dd4ed9-b159-469c-8686-ce887789cc58",
   "metadata": {
    "tags": []
   },
   "outputs": [],
   "source": [
    "def cross_entropy(model: BaseNgramModel, dataset: list[list[str]]) -> float:\n",
    "    \"\"\"\n",
    "    Calculate the cross-entropy of a language model on a given dataset.\n",
    "    \n",
    "    Cross-entropy measures how well the language model predicts the given dataset.\n",
    "    Lower cross-entropy indicates better model performance.\n",
    "    \n",
    "    :param model: The n-gram language model for which cross-entropy is calculated.\n",
    "    :param dataset: The dataset as a list of tokenized sentences, where each sentence is a list of strings.\n",
    "    :return: The cross-entropy score as a float.\n",
    "             Lower values indicate better performance in predicting the dataset.\n",
    "    \"\"\"\n",
    "    # since la place smoothing is only involved during inference\n",
    "    # we don't need to refit the model\n",
    "    sum_prob = 0\n",
    "    word_count = 0\n",
    "    \n",
    "    for sentence in dataset:       \n",
    "        # since this is a full sentence we manually append the end token\n",
    "        sentence += [END_TOKEN]\n",
    "        \n",
    "        # take into account only the END_TOKEN since START token probs are not computed\n",
    "        word_count += len(sentence)\n",
    "        \n",
    "        # get sentence probability\n",
    "        sum_prob += bi_model.sentence_proba(sentence) \n",
    "    \n",
    "    # do we need to logarithmize this again?\n",
    "    return - sum_prob / word_count\n",
    "\n",
    "\n",
    "def perplexity(cross_entropy: float) -> float:\n",
    "    \"\"\"\n",
    "    Calculate perplexity from cross-entropy.\n",
    "    \n",
    "    Perplexity is a measure of how well the language model predicts the given dataset.\n",
    "    A model with a perplexity of k, has approximately a 1/k chance of correctly predicting the next word in a sentence.\n",
    "    \n",
    "    :param cross_entropy: The cross-entropy score calculated for a language model on a dataset.\n",
    "    :return: The perplexity score as a float.\n",
    "             Lower values indicate better performance in predicting the dataset.\n",
    "    \"\"\"\n",
    "    return 2**cross_entropy"
   ]
  },
  {
   "cell_type": "code",
   "execution_count": 28,
   "id": "25018b37-e7d2-443d-8b79-39c0d2e49fbd",
   "metadata": {},
   "outputs": [],
   "source": [
    "def plot_alpha_vs_entropy(alpha_values, entropy, best_index):\n",
    "    plt.figure(figsize=(10, 6))\n",
    "    plt.plot(alpha_values, entropy, marker='o', linestyle='-', color='b')\n",
    "    plt.title('Alpha vs Entropy')\n",
    "    plt.xlabel('Alpha Values')\n",
    "    plt.ylabel('Cross Entropy')\n",
    "    plt.grid(True)\n",
    "    \n",
    "    # Highlight the best alpha value\n",
    "    plt.scatter(alpha_values[best_index], entropy[best_index], color='r', marker='x', label='Best Alpha')\n",
    "    \n",
    "    plt.legend()\n",
    "    plt.show()\n"
   ]
  },
  {
   "cell_type": "code",
   "execution_count": 29,
   "id": "6e4809e1-9596-4e76-8094-0b4c241f57ca",
   "metadata": {
    "tags": []
   },
   "outputs": [],
   "source": [
    "def ngram_model_alpha_search(fitted_model: BaseNgramModel, \n",
    "                             alpha_values: np.ndarray, \n",
    "                             validation_dataset: list[list[str]]) -> float:\n",
    "    entropy_arr = np.full_like(alpha_values, np.inf)\n",
    "    \n",
    "    for i in range(len(alpha_values)):\n",
    "        fitted_model.alpha = alpha_values[i]\n",
    "        entropy_arr[i] = cross_entropy(fitted_model, validation_dataset)\n",
    "        \n",
    "       \n",
    "    best_index = np.argmin(entropy_arr)\n",
    "    plot_alpha_vs_entropy(alpha_values,entropy_arr, best_index) \n",
    "    return alpha_values[best_index]"
   ]
  },
  {
   "cell_type": "code",
   "execution_count": 30,
   "id": "4b3cc2dd-e3f0-4f93-80ee-bf3a8205383b",
   "metadata": {
    "tags": []
   },
   "outputs": [
    {
     "data": {
      "image/png": "[encoded data removed]",
      "text/plain": [
       "<Figure size 1000x600 with 1 Axes>"
      ]
     },
     "metadata": {},
     "output_type": "display_data"
    },
    {
     "name": "stdout",
     "output_type": "stream",
     "text": [
      "Optimal alpha (bigram model):  0.0001\n"
     ]
    }
   ],
   "source": [
    "bi_model = BigramModel(alpha=0.001)\n",
    "bi_model.fit(train_corpus)\n",
    "\n",
    "bi_opt_alpha = ngram_model_alpha_search(bi_model, np.linspace(0.0001, 1, 100), development_set)\n",
    "print(\"Optimal alpha (bigram model): \", bi_opt_alpha)"
   ]
  },
  {
   "cell_type": "code",
   "execution_count": 31,
   "id": "871e5b71-306b-46f9-b96d-b2d2cb1d71d9",
   "metadata": {
    "tags": []
   },
   "outputs": [
    {
     "data": {
      "image/png": "[encoded data removed]",
      "text/plain": [
       "<Figure size 1000x600 with 1 Axes>"
      ]
     },
     "metadata": {},
     "output_type": "display_data"
    },
    {
     "name": "stdout",
     "output_type": "stream",
     "text": [
      "Optimal alpha (trigram model):  0.0001\n"
     ]
    }
   ],
   "source": [
    "tri_model = TrigramModel(alpha=0.001)\n",
    "tri_model.fit(train_corpus)\n",
    "\n",
    "tri_opt_alpha = ngram_model_alpha_search(tri_model, np.linspace(0.0001, 1, 100), development_set)\n",
    "print(\"Optimal alpha (trigram model): \", tri_opt_alpha)"
   ]
  },
  {
   "cell_type": "code",
   "execution_count": 32,
   "id": "bd0f5c19-607d-41c1-a214-d039c2ebb65e",
   "metadata": {
    "tags": []
   },
   "outputs": [
    {
     "data": {
      "image/png": "[encoded data removed]",
      "text/plain": [
       "<Figure size 1000x600 with 1 Axes>"
      ]
     },
     "metadata": {},
     "output_type": "display_data"
    },
    {
     "name": "stdout",
     "output_type": "stream",
     "text": [
      "Optimal Bi-gram alpha:  1.0\n"
     ]
    }
   ],
   "source": [
    "bi_model = BigramModel(alpha=0.001)\n",
    "bi_model.fit(train_corpus)\n",
    "\n",
    "bi_opt_alpha = ngram_model_alpha_search(bi_model, np.linspace(0.001, 1, 100), development_set)\n",
    "print(\"Optimal Bi-gram alpha: \", bi_opt_alpha)"
   ]
  },
  {
   "cell_type": "code",
   "execution_count": 33,
   "id": "758fc771-67f7-4e7e-9f10-3d1c46a2d0ab",
   "metadata": {
    "tags": []
   },
   "outputs": [
    {
     "data": {
      "image/png": "[encoded data removed]",
      "text/plain": [
       "<Figure size 1000x600 with 1 Axes>"
      ]
     },
     "metadata": {},
     "output_type": "display_data"
    },
    {
     "name": "stdout",
     "output_type": "stream",
     "text": [
      "Optimal Tri-gram alpha:  0.001\n"
     ]
    }
   ],
   "source": [
    "tri_model = TrigramModel(alpha=0.001)\n",
    "tri_model.fit(train_corpus)\n",
    "\n",
    "tri_opt_alpha = ngram_model_alpha_search(tri_model, np.linspace(0.001, 1, 100), development_set)\n",
    "print(\"Optimal Tri-gram alpha: \", tri_opt_alpha)"
   ]
  },
  {
   "cell_type": "markdown",
   "id": "9ab60e00-1a9a-4968-9652-cd7ab6b83526",
   "metadata": {},
   "source": [
    "Now, let's test the performance in the test set, after having defined the optimal alpha."
   ]
  },
  {
   "cell_type": "code",
   "execution_count": 34,
   "id": "37cdf159-d133-4ee6-bb3c-5c048add6021",
   "metadata": {
    "tags": []
   },
   "outputs": [
    {
     "name": "stdout",
     "output_type": "stream",
     "text": [
      "Bi-gram model Cross Entropy: 7.73\n",
      "Bi-gram model Perplexity: 212.026395\n"
     ]
    }
   ],
   "source": [
    "# since la place smoothing is only involved during inference\n",
    "# we don't need to refit the model\n",
    "bi_model.alpha = bi_opt_alpha\n",
    "\n",
    "bi_hc = cross_entropy(bi_model, test_set)\n",
    "print(f\"Bi-gram model Cross Entropy: {bi_hc:.2f}\", )\n",
    "print(f\"Bi-gram model Perplexity: {perplexity(bi_hc):2f}\")"
   ]
  },
  {
   "cell_type": "code",
   "execution_count": 35,
   "id": "09b19f63-ca45-4334-b56e-e32853839a7b",
   "metadata": {
    "tags": []
   },
   "outputs": [
    {
     "name": "stdout",
     "output_type": "stream",
     "text": [
      "Tri-gram model Cross Entropy: 7.96\n",
      "Tri-gram model Perplexity: 249.72\n"
     ]
    }
   ],
   "source": [
    "tri_model.alpha = tri_opt_alpha\n",
    "\n",
    "tri_hc = cross_entropy(tri_model, test_set)\n",
    "print(f\"Tri-gram model Cross Entropy: {tri_hc:.2f}\")\n",
    "print(f\"Tri-gram model Perplexity: {perplexity(tri_hc):.2f}\")"
   ]
  },
  {
   "cell_type": "code",
   "execution_count": 36,
   "id": "75603bb8-21ee-469b-bf12-85665e9094b1",
   "metadata": {},
   "outputs": [],
   "source": [
    "max_depth = 5\n",
    "beam_width = 3"
   ]
  },
  {
   "cell_type": "markdown",
   "id": "f53a8c72-e1a8-44dc-8338-266bbf419ee2",
   "metadata": {},
   "source": [
    "v. Create a fake dataset"
   ]
  },
  {
   "cell_type": "code",
   "execution_count": 37,
   "id": "77aeef20-68b0-4167-b5d9-5946e2c47039",
   "metadata": {
    "tags": []
   },
   "outputs": [],
   "source": [
    "import random\n",
    "\n",
    "\n",
    "def corrupt_sentence(sentence, probability):\n",
    "    corrupted_sentence = \"\"\n",
    "    for char in sentence:\n",
    "        if char != ' ' and random.random() < probability:\n",
    "            \n",
    "            corrupted_sentence += get_similar_char(char)                 #replace with a similar character\n",
    "        else:\n",
    "            corrupted_sentence += char\n",
    "    return corrupted_sentence\n",
    "\n",
    "\n",
    "def get_similar_char(char):\n",
    "    # later on maybe use the nlpaug library here \n",
    "    similar_chars = {\n",
    "        'a': 'e',\n",
    "        'b': 'p',\n",
    "        'c': 's',\n",
    "        'd': 'b',\n",
    "        'e': 'a',\n",
    "        'f': 't',\n",
    "        'g': 'j',\n",
    "        'h': 'n',\n",
    "        'i': 'l',\n",
    "        'j': 'g',\n",
    "        'k': 'x',\n",
    "        'l': 'i',\n",
    "        'm': 'n',\n",
    "        'n': 'm',\n",
    "        'o': 'u',\n",
    "        'p': 'b',\n",
    "        'q': 'g',\n",
    "        'r': 't',\n",
    "        's': 'c',\n",
    "        't': 'f',\n",
    "        'u': 'o',\n",
    "        'v': 'w',\n",
    "        'w': 'v',\n",
    "        'x': 'k',\n",
    "        'y': 'v',\n",
    "        'z': 's',\n",
    "    }\n",
    "    \n",
    "    return similar_chars.get(char, char)                            #return a randomly chosen character"
   ]
  },
  {
   "cell_type": "code",
   "execution_count": 38,
   "id": "38bb9497-b6b0-45f7-9189-c1135d1fb15f",
   "metadata": {},
   "outputs": [
    {
     "name": "stdout",
     "output_type": "stream",
     "text": [
      "Original: ['he went away again the second time and prayed saying o my father if this cup may not pass away from me except i drink it thy will be done .']\n",
      "Corrupted: ['he want eway again the cecomd time end ptayed caving o my fethar if thic cop mav not pacs away from me excapf i drink it tny wili ba done .']\n",
      "\n",
      "---\n",
      "\n",
      "Original: ['proceed pray to the point .']\n",
      "Corrupted: ['prosead ptey to the poimt .']\n",
      "\n",
      "---\n",
      "\n",
      "Original: [\"emma 's eyes were instantly withdrawn and she sat silently <UNK> in a fixed attitude for a few minutes .\"]\n",
      "Corrupted: [\"emme 's eves wera imsfanfly vithbrevn anb sne saf silantly <UNK> in a fixed attitobe fur a few nlmotes .\"]\n",
      "\n",
      "---\n",
      "\n",
      "Original: ['then suddenly he went forward at the <UNK> with his whole living weight .']\n",
      "Corrupted: ['then suddenly he wemt furwerd et tha <UNK> vlfh his vnole iiving veight .']\n",
      "\n",
      "---\n",
      "\n",
      "Original: ['he <UNK> it in an instant seized the boat knife and <UNK> the letter on it sent it thus loaded back into the ship .']\n",
      "Corrupted: ['ne <UNK> it in an inctant caizad the boat kmife amb <UNK> fhe lafter on lf cemt lt thus loaded back into the chip .']\n",
      "\n",
      "---\n",
      "\n"
     ]
    }
   ],
   "source": [
    "probability = 0.2                                        #probability of character replacement\n",
    "corrupted_corpus = [[corrupt_sentence(word, probability) for word in sentence] for sentence in UNK_sentences]   #generate the corrupted corpus\n",
    "corrupted_tokenized = [tweet_wt.tokenize(sentence) for sentence_list in corrupted_corpus for sentence in sentence_list] #tokenize the corrupted sentences\n",
    "\n",
    "for original, corrupted in zip(UNK_sentences[:5], corrupted_corpus[:5]):\n",
    "    print(f\"Original: {original}\")\n",
    "    print(f\"Corrupted: {corrupted}\")\n",
    "    print(\"\\n---\\n\")"
   ]
  },
  {
   "cell_type": "code",
   "execution_count": 39,
   "id": "ef2059fe-2d2d-4be3-a6f9-8c8c722a7eaa",
   "metadata": {},
   "outputs": [],
   "source": [
    "import jiwer\n",
    "\n",
    "\n",
    "def calculate_wer_cer(original_sentences, corrected_sentences):\n",
    "    wer_sum = 0\n",
    "    cer_sum = 0\n",
    "    total_sentences = len(original_sentences)\n",
    "\n",
    "    for original, corrected in zip(original_sentences, corrected_sentences):\n",
    "        wer = jiwer.wer(original, corrected)\n",
    "        \n",
    "        wer_sum += wer\n",
    "\n",
    "        \n",
    "        cer = jiwer.cer(original, corrected)\n",
    "        cer_sum += cer\n",
    "\n",
    "    \n",
    "    avg_wer = wer_sum / total_sentences\n",
    "    avg_cer = cer_sum / total_sentences\n",
    "\n",
    "    return avg_wer, avg_cer"
   ]
  },
  {
   "cell_type": "code",
   "execution_count": null,
   "id": "b7ab573e-6740-42f7-b606-0e63a8e38a8f",
   "metadata": {},
   "outputs": [],
   "source": [
    "to_correct_num = 50"
   ]
  },
  {
   "cell_type": "code",
   "execution_count": 45,
   "id": "61e757d5-352a-42b6-812a-fc4a1a86961b",
   "metadata": {},
   "outputs": [
    {
     "data": {
      "application/vnd.jupyter.widget-view+json": {
       "model_id": "c889ebc5ba3444ada59e5822620add71",
       "version_major": 2,
       "version_minor": 0
      },
      "text/plain": [
       "  0%|          | 0/50 [00:00<?, ?it/s]"
      ]
     },
     "metadata": {},
     "output_type": "display_data"
    },
    {
     "name": "stdout",
     "output_type": "stream",
     "text": [
      "Sample original sentence: ['he went away again the second time and prayed saying o my father if this cup may not pass away from me except i drink it thy will be done .']\n",
      "\n",
      "\n",
      "Corrupted(wrong) sentence: ['he want eway again the cecomd time end ptayed caving o my fethar if thic cop mav not pacs away from me excapf i drink it tny wili ba done .']\n",
      "\n",
      "\n",
      "Final bi-gram result (corrected sentence): he went away again the second time and prayed saying o my father if this cup may not pass away from me and i drink it thy will be done .\n"
     ]
    }
   ],
   "source": [
    "bi_corrected = []\n",
    "corrector = BigramSpellCorrector(bi_model, lamda=0.1)\n",
    "\n",
    "print(f\"Trigram model: Computing correct sentences for {to_correct_num} sentences\")\n",
    "for sent in tqdm(corrupted_tokenized[:to_correct_num]):\n",
    "    output_seq = corrector.spell_correct(original_tokenized_sentence=sent, beam_width = 3)  #give the corrupt sentences to spell correct\n",
    "    bi_corrected.append(output_seq)\n",
    "\n",
    "# made one print so it is visualized better\n",
    "print('Sample original sentence:', UNK_sentences[0])\n",
    "print('\\n')\n",
    "print('Corrupted(wrong) sentence:', corrupted_corpus[0])\n",
    "print('\\n')\n",
    "print('Final bi-gram result (corrected sentence):', \" \".join(bi_corrected[0]))"
   ]
  },
  {
   "cell_type": "code",
   "execution_count": 46,
   "id": "6c91dad9-f343-4ec2-b53a-26b16d314ea5",
   "metadata": {},
   "outputs": [
    {
     "name": "stdout",
     "output_type": "stream",
     "text": [
      "Bigram Average Word Error Rate (WER): 0.235\n",
      "Bigram Average Character Error Rate (CER): 0.219\n"
     ]
    }
   ],
   "source": [
    "avg_wer, avg_cer = calculate_wer_cer(tokenized, bi_corrected)\n",
    "\n",
    "print(f\"Bigram Average Word Error Rate (WER): {avg_wer:.3f}\")\n",
    "print(f\"Bigram Average Character Error Rate (CER): {avg_cer:.3f}\")"
   ]
  },
  {
   "cell_type": "code",
   "execution_count": 44,
   "id": "48e1daee-9158-4f11-a053-685843e637bf",
   "metadata": {
    "tags": []
   },
   "outputs": [
    {
     "data": {
      "application/vnd.jupyter.widget-view+json": {
       "model_id": "5526a843e9934b43b9741ff776058425",
       "version_major": 2,
       "version_minor": 0
      },
      "text/plain": [
       "  0%|          | 0/50 [00:00<?, ?it/s]"
      ]
     },
     "metadata": {},
     "output_type": "display_data"
    },
    {
     "name": "stdout",
     "output_type": "stream",
     "text": [
      "Sample original sentence: ['he went away again the second time and prayed saying o my father if this cup may not pass away from me except i drink it thy will be done .']\n",
      "\n",
      "\n",
      "Corrupted(wrong) sentence: ['he want eway again the cecomd time end ptayed caving o my fethar if thic cop mav not pacs away from me excapf i drink it tny wili ba done .']\n",
      "\n",
      "\n",
      "Final tri-gram result (corrected sentences): he went away again the second time and prayed saying o my father if this cup may not pass away from me except i drink it thy will be done .\n"
     ]
    }
   ],
   "source": [
    "tri_corrected = []\n",
    "corrector = TrigramSpellCorrector(tri_model, lamda=0.1)\n",
    "\n",
    "print(f\"Trigram model: Computing correct sentences for {to_correct_num} sentences\")\n",
    "for sent in tqdm(corrupted_tokenized[:50]):\n",
    "    output_seq = corrector.spell_correct(original_tokenized_sentence=sent, beam_width = 3)  #give the corrupt sentences to spell correct\n",
    "    tri_corrected.append(output_seq)\n",
    "    \n",
    "print('Sample original sentence:', UNK_sentences[0])\n",
    "print('\\n')\n",
    "print('Corrupted(wrong) sentence:', corrupted_corpus[0])\n",
    "print('\\n')\n",
    "print('Final tri-gram result (corrected sentences):', \" \".join(tri_corrected[0]))"
   ]
  },
  {
   "cell_type": "code",
   "execution_count": 48,
   "id": "2a504514-bf27-4961-8454-878237b0e941",
   "metadata": {
    "tags": []
   },
   "outputs": [
    {
     "name": "stdout",
     "output_type": "stream",
     "text": [
      "Trigram Average Word Error Rate (WER): 0.4961258149340309\n",
      "Trigram Average Character Error Rate (CER): 0.43185510698611895\n"
     ]
    }
   ],
   "source": [
    "avg_wer, avg_cer = calculate_wer_cer(tokenized, tri_corrected)\n",
    "\n",
    "# im looking into this\n",
    "print(f\"Trigram Average Word Error Rate (WER): {avg_wer}\")\n",
    "print(f\"Trigram Average Character Error Rate (CER): {avg_cer}\")"
   ]
  }
 ],
 "metadata": {
  "kernelspec": {
   "display_name": "Python 3 (ipykernel)",
   "language": "python",
   "name": "python3"
  },
  "language_info": {
   "codemirror_mode": {
    "name": "ipython",
    "version": 3
   },
   "file_extension": ".py",
   "mimetype": "text/x-python",
   "name": "python",
   "nbconvert_exporter": "python",
   "pygments_lexer": "ipython3",
   "version": "3.11.7"
  }
 },
 "nbformat": 4,
 "nbformat_minor": 5
}
