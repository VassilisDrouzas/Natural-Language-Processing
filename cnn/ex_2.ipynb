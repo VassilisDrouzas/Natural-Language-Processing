{
 "cells": [
  {
   "cell_type": "markdown",
   "metadata": {},
   "source": [
    "### MSc in Data Science, AUEB\n",
    "## Text Analytics, Assignment 4\n",
    "### Exercise 2"
   ]
  },
  {
   "cell_type": "code",
   "execution_count": 1,
   "metadata": {
    "colab": {
     "base_uri": "https://localhost:8080/"
    },
    "id": "1NVNKZTtNT4j",
    "outputId": "c9156ea1-8a78-4210-b8a8-d00d8259a859"
   },
   "outputs": [
    {
     "name": "stdout",
     "output_type": "stream",
     "text": [
      "Requirement already satisfied: tensorflow in /usr/local/lib/python3.10/dist-packages (2.15.0.post1)\n",
      "Requirement already satisfied: absl-py>=1.0.0 in /usr/local/lib/python3.10/dist-packages (from tensorflow) (1.4.0)\n",
      "Requirement already satisfied: astunparse>=1.6.0 in /usr/local/lib/python3.10/dist-packages (from tensorflow) (1.6.3)\n",
      "Requirement already satisfied: flatbuffers>=23.5.26 in /usr/local/lib/python3.10/dist-packages (from tensorflow) (23.5.26)\n",
      "Requirement already satisfied: gast!=0.5.0,!=0.5.1,!=0.5.2,>=0.2.1 in /usr/local/lib/python3.10/dist-packages (from tensorflow) (0.5.4)\n",
      "Requirement already satisfied: google-pasta>=0.1.1 in /usr/local/lib/python3.10/dist-packages (from tensorflow) (0.2.0)\n",
      "Requirement already satisfied: h5py>=2.9.0 in /usr/local/lib/python3.10/dist-packages (from tensorflow) (3.9.0)\n",
      "Requirement already satisfied: libclang>=13.0.0 in /usr/local/lib/python3.10/dist-packages (from tensorflow) (16.0.6)\n",
      "Requirement already satisfied: ml-dtypes~=0.2.0 in /usr/local/lib/python3.10/dist-packages (from tensorflow) (0.2.0)\n",
      "Requirement already satisfied: numpy<2.0.0,>=1.23.5 in /usr/local/lib/python3.10/dist-packages (from tensorflow) (1.25.2)\n",
      "Requirement already satisfied: opt-einsum>=2.3.2 in /usr/local/lib/python3.10/dist-packages (from tensorflow) (3.3.0)\n",
      "Requirement already satisfied: packaging in /usr/local/lib/python3.10/dist-packages (from tensorflow) (23.2)\n",
      "Requirement already satisfied: protobuf!=4.21.0,!=4.21.1,!=4.21.2,!=4.21.3,!=4.21.4,!=4.21.5,<5.0.0dev,>=3.20.3 in /usr/local/lib/python3.10/dist-packages (from tensorflow) (3.20.3)\n",
      "Requirement already satisfied: setuptools in /usr/local/lib/python3.10/dist-packages (from tensorflow) (67.7.2)\n",
      "Requirement already satisfied: six>=1.12.0 in /usr/local/lib/python3.10/dist-packages (from tensorflow) (1.16.0)\n",
      "Requirement already satisfied: termcolor>=1.1.0 in /usr/local/lib/python3.10/dist-packages (from tensorflow) (2.4.0)\n",
      "Requirement already satisfied: typing-extensions>=3.6.6 in /usr/local/lib/python3.10/dist-packages (from tensorflow) (4.9.0)\n",
      "Requirement already satisfied: wrapt<1.15,>=1.11.0 in /usr/local/lib/python3.10/dist-packages (from tensorflow) (1.14.1)\n",
      "Requirement already satisfied: tensorflow-io-gcs-filesystem>=0.23.1 in /usr/local/lib/python3.10/dist-packages (from tensorflow) (0.36.0)\n",
      "Requirement already satisfied: grpcio<2.0,>=1.24.3 in /usr/local/lib/python3.10/dist-packages (from tensorflow) (1.60.1)\n",
      "Requirement already satisfied: tensorboard<2.16,>=2.15 in /usr/local/lib/python3.10/dist-packages (from tensorflow) (2.15.2)\n",
      "Requirement already satisfied: tensorflow-estimator<2.16,>=2.15.0 in /usr/local/lib/python3.10/dist-packages (from tensorflow) (2.15.0)\n",
      "Requirement already satisfied: keras<2.16,>=2.15.0 in /usr/local/lib/python3.10/dist-packages (from tensorflow) (2.15.0)\n",
      "Requirement already satisfied: wheel<1.0,>=0.23.0 in /usr/local/lib/python3.10/dist-packages (from astunparse>=1.6.0->tensorflow) (0.42.0)\n",
      "Requirement already satisfied: google-auth<3,>=1.6.3 in /usr/local/lib/python3.10/dist-packages (from tensorboard<2.16,>=2.15->tensorflow) (2.27.0)\n",
      "Requirement already satisfied: google-auth-oauthlib<2,>=0.5 in /usr/local/lib/python3.10/dist-packages (from tensorboard<2.16,>=2.15->tensorflow) (1.2.0)\n",
      "Requirement already satisfied: markdown>=2.6.8 in /usr/local/lib/python3.10/dist-packages (from tensorboard<2.16,>=2.15->tensorflow) (3.5.2)\n",
      "Requirement already satisfied: requests<3,>=2.21.0 in /usr/local/lib/python3.10/dist-packages (from tensorboard<2.16,>=2.15->tensorflow) (2.31.0)\n",
      "Requirement already satisfied: tensorboard-data-server<0.8.0,>=0.7.0 in /usr/local/lib/python3.10/dist-packages (from tensorboard<2.16,>=2.15->tensorflow) (0.7.2)\n",
      "Requirement already satisfied: werkzeug>=1.0.1 in /usr/local/lib/python3.10/dist-packages (from tensorboard<2.16,>=2.15->tensorflow) (3.0.1)\n",
      "Requirement already satisfied: cachetools<6.0,>=2.0.0 in /usr/local/lib/python3.10/dist-packages (from google-auth<3,>=1.6.3->tensorboard<2.16,>=2.15->tensorflow) (5.3.2)\n",
      "Requirement already satisfied: pyasn1-modules>=0.2.1 in /usr/local/lib/python3.10/dist-packages (from google-auth<3,>=1.6.3->tensorboard<2.16,>=2.15->tensorflow) (0.3.0)\n",
      "Requirement already satisfied: rsa<5,>=3.1.4 in /usr/local/lib/python3.10/dist-packages (from google-auth<3,>=1.6.3->tensorboard<2.16,>=2.15->tensorflow) (4.9)\n",
      "Requirement already satisfied: requests-oauthlib>=0.7.0 in /usr/local/lib/python3.10/dist-packages (from google-auth-oauthlib<2,>=0.5->tensorboard<2.16,>=2.15->tensorflow) (1.3.1)\n",
      "Requirement already satisfied: charset-normalizer<4,>=2 in /usr/local/lib/python3.10/dist-packages (from requests<3,>=2.21.0->tensorboard<2.16,>=2.15->tensorflow) (3.3.2)\n",
      "Requirement already satisfied: idna<4,>=2.5 in /usr/local/lib/python3.10/dist-packages (from requests<3,>=2.21.0->tensorboard<2.16,>=2.15->tensorflow) (3.6)\n",
      "Requirement already satisfied: urllib3<3,>=1.21.1 in /usr/local/lib/python3.10/dist-packages (from requests<3,>=2.21.0->tensorboard<2.16,>=2.15->tensorflow) (2.0.7)\n",
      "Requirement already satisfied: certifi>=2017.4.17 in /usr/local/lib/python3.10/dist-packages (from requests<3,>=2.21.0->tensorboard<2.16,>=2.15->tensorflow) (2024.2.2)\n",
      "Requirement already satisfied: MarkupSafe>=2.1.1 in /usr/local/lib/python3.10/dist-packages (from werkzeug>=1.0.1->tensorboard<2.16,>=2.15->tensorflow) (2.1.5)\n",
      "Requirement already satisfied: pyasn1<0.6.0,>=0.4.6 in /usr/local/lib/python3.10/dist-packages (from pyasn1-modules>=0.2.1->google-auth<3,>=1.6.3->tensorboard<2.16,>=2.15->tensorflow) (0.5.1)\n",
      "Requirement already satisfied: oauthlib>=3.0.0 in /usr/local/lib/python3.10/dist-packages (from requests-oauthlib>=0.7.0->google-auth-oauthlib<2,>=0.5->tensorboard<2.16,>=2.15->tensorflow) (3.2.2)\n"
     ]
    }
   ],
   "source": [
    "!pip install --upgrade tensorflow"
   ]
  },
  {
   "cell_type": "code",
   "execution_count": 2,
   "metadata": {
    "colab": {
     "base_uri": "https://localhost:8080/"
    },
    "id": "ceIQwhwxOO7m",
    "outputId": "4226e1aa-b865-45c4-f092-31bae290a718"
   },
   "outputs": [
    {
     "name": "stdout",
     "output_type": "stream",
     "text": [
      "Requirement already satisfied: fasttext in /usr/local/lib/python3.10/dist-packages (0.9.2)\n",
      "Requirement already satisfied: pybind11>=2.2 in /usr/local/lib/python3.10/dist-packages (from fasttext) (2.11.1)\n",
      "Requirement already satisfied: setuptools>=0.7.0 in /usr/local/lib/python3.10/dist-packages (from fasttext) (67.7.2)\n",
      "Requirement already satisfied: numpy in /usr/local/lib/python3.10/dist-packages (from fasttext) (1.25.2)\n"
     ]
    }
   ],
   "source": [
    "!pip install -U fasttext"
   ]
  },
  {
   "cell_type": "code",
   "execution_count": 3,
   "metadata": {
    "colab": {
     "base_uri": "https://localhost:8080/"
    },
    "id": "KMBp-AzgOQ7e",
    "outputId": "119fa454-cec9-4bb8-aadb-fc9a687f9681"
   },
   "outputs": [
    {
     "name": "stdout",
     "output_type": "stream",
     "text": [
      "Thu Feb 29 17:29:35 2024       \n",
      "+---------------------------------------------------------------------------------------+\n",
      "| NVIDIA-SMI 535.104.05             Driver Version: 535.104.05   CUDA Version: 12.2     |\n",
      "|-----------------------------------------+----------------------+----------------------+\n",
      "| GPU  Name                 Persistence-M | Bus-Id        Disp.A | Volatile Uncorr. ECC |\n",
      "| Fan  Temp   Perf          Pwr:Usage/Cap |         Memory-Usage | GPU-Util  Compute M. |\n",
      "|                                         |                      |               MIG M. |\n",
      "|=========================================+======================+======================|\n",
      "|   0  Tesla T4                       Off | 00000000:00:04.0 Off |                    0 |\n",
      "| N/A   43C    P8               9W /  70W |      0MiB / 15360MiB |      0%      Default |\n",
      "|                                         |                      |                  N/A |\n",
      "+-----------------------------------------+----------------------+----------------------+\n",
      "                                                                                         \n",
      "+---------------------------------------------------------------------------------------+\n",
      "| Processes:                                                                            |\n",
      "|  GPU   GI   CI        PID   Type   Process name                            GPU Memory |\n",
      "|        ID   ID                                                             Usage      |\n",
      "|=======================================================================================|\n",
      "|  No running processes found                                                           |\n",
      "+---------------------------------------------------------------------------------------+\n"
     ]
    }
   ],
   "source": [
    "!nvidia-smi"
   ]
  },
  {
   "cell_type": "markdown",
   "metadata": {
    "id": "_1zek02KqgwC"
   },
   "source": [
    "##Load the dataset"
   ]
  },
  {
   "cell_type": "code",
   "execution_count": 4,
   "metadata": {
    "colab": {
     "base_uri": "https://localhost:8080/"
    },
    "id": "y3RPf8mOqiSF",
    "outputId": "4d08e1da-164c-4ced-d443-fa64ab5f19ab"
   },
   "outputs": [
    {
     "name": "stdout",
     "output_type": "stream",
     "text": [
      "--2024-02-29 17:29:36--  https://www.cs.cornell.edu/people/pabo/movie-review-data/review_polarity.tar.gz\n",
      "Resolving www.cs.cornell.edu (www.cs.cornell.edu)... 132.236.207.36\n",
      "Connecting to www.cs.cornell.edu (www.cs.cornell.edu)|132.236.207.36|:443... connected.\n",
      "HTTP request sent, awaiting response... 200 OK\n",
      "Length: 3127238 (3.0M) [application/x-gzip]\n",
      "Saving to: ‘review_polarity.tar.gz.1’\n",
      "\n",
      "review_polarity.tar 100%[===================>]   2.98M  11.1MB/s    in 0.3s    \n",
      "\n",
      "2024-02-29 17:29:36 (11.1 MB/s) - ‘review_polarity.tar.gz.1’ saved [3127238/3127238]\n",
      "\n"
     ]
    }
   ],
   "source": [
    "!wget https://www.cs.cornell.edu/people/pabo/movie-review-data/review_polarity.tar.gz\n",
    "!tar xzf review_polarity.tar.gz"
   ]
  },
  {
   "cell_type": "code",
   "execution_count": 5,
   "metadata": {
    "id": "WUnQDQIyOwCW"
   },
   "outputs": [],
   "source": [
    "import os\n",
    "from sklearn.datasets import load_files\n",
    "\n",
    "\n",
    "dataset_path = 'txt_sentoken'\n",
    "movie_reviews = load_files(container_path = dataset_path, encoding = 'utf-8')\n",
    "\n",
    "\n",
    "x = movie_reviews.data            #the data\n",
    "y = movie_reviews.target          #the labels\n",
    "z = movie_reviews.target_names    #the names of labels"
   ]
  },
  {
   "cell_type": "code",
   "execution_count": 6,
   "metadata": {
    "colab": {
     "base_uri": "https://localhost:8080/"
    },
    "id": "q3-f89wiOxue",
    "outputId": "d7a1ce06-60ec-4760-fd4e-58da63de727a"
   },
   "outputs": [
    {
     "data": {
      "text/plain": [
       "[\"arnold schwarzenegger has been an icon for action enthusiasts , since the late 80's , but lately his films have been very sloppy and the one-liners are getting worse . \\nit's hard seeing arnold as mr . freeze in batman and robin , especially when he says tons of ice jokes , but hey he got 15 million , what's it matter to him ? \\nonce again arnold has signed to do another expensive blockbuster , that can't compare with the likes of the terminator series , true lies and even eraser . \\nin this so called dark thriller , the devil ( gabriel byrne ) has come upon earth , to impregnate a woman ( robin tunney ) which happens every 1000 years , and basically destroy the world , but apparently god has chosen one man , and that one man is jericho cane ( arnold himself ) . \\nwith the help of a trusty sidekick ( kevin pollack ) , they will stop at nothing to let the devil take over the world ! \\nparts of this are actually so absurd , that they would fit right in with dogma . \\nyes , the film is that weak , but it's better than the other blockbuster right now ( sleepy hollow ) , but it makes the world is not enough look like a 4 star film . \\nanyway , this definitely doesn't seem like an arnold movie . \\nit just wasn't the type of film you can see him doing . \\nsure he gave us a few chuckles with his well known one-liners , but he seemed confused as to where his character and the film was going . \\nit's understandable , especially when the ending had to be changed according to some sources . \\naside form that , he still walked through it , much like he has in the past few films . \\ni'm sorry to say this arnold but maybe these are the end of your action days . \\nspeaking of action , where was it in this film ? \\nthere was hardly any explosions or fights . \\nthe devil made a few places explode , but arnold wasn't kicking some devil butt . \\nthe ending was changed to make it more spiritual , which undoubtedly ruined the film . \\ni was at least hoping for a cool ending if nothing else occurred , but once again i was let down . \\ni also don't know why the film took so long and cost so much . \\nthere was really no super affects at all , unless you consider an invisible devil , who was in it for 5 minutes tops , worth the overpriced budget . \\nthe budget should have gone into a better script , where at least audiences could be somewhat entertained instead of facing boredom . \\nit's pitiful to see how scripts like these get bought and made into a movie . \\ndo they even read these things anymore ? \\nit sure doesn't seem like it . \\nthankfully gabriel's performance gave some light to this poor film . \\nwhen he walks down the street searching for robin tunney , you can't help but feel that he looked like a devil . \\nthe guy is creepy looking anyway ! \\nwhen it's all over , you're just glad it's the end of the movie . \\ndon't bother to see this , if you're expecting a solid action flick , because it's neither solid nor does it have action . \\nit's just another movie that we are suckered in to seeing , due to a strategic marketing campaign . \\nsave your money and see the world is not enough for an entertaining experience . \\n\"]"
      ]
     },
     "execution_count": 6,
     "metadata": {},
     "output_type": "execute_result"
    }
   ],
   "source": [
    "x[:1]"
   ]
  },
  {
   "cell_type": "code",
   "execution_count": 7,
   "metadata": {
    "colab": {
     "base_uri": "https://localhost:8080/"
    },
    "id": "vhwZFwkDOyQx",
    "outputId": "057d9b4d-2de9-4f73-ab7a-bdc2f3be8792"
   },
   "outputs": [
    {
     "data": {
      "text/plain": [
       "array([0, 1, 1, ..., 1, 0, 0])"
      ]
     },
     "execution_count": 7,
     "metadata": {},
     "output_type": "execute_result"
    }
   ],
   "source": [
    "y"
   ]
  },
  {
   "cell_type": "code",
   "execution_count": 8,
   "metadata": {
    "colab": {
     "base_uri": "https://localhost:8080/"
    },
    "id": "Z0ajwfEXO1fY",
    "outputId": "ba3f001a-d9b6-4559-8925-8f3ac00709de"
   },
   "outputs": [
    {
     "data": {
      "text/plain": [
       "['neg', 'pos']"
      ]
     },
     "execution_count": 8,
     "metadata": {},
     "output_type": "execute_result"
    }
   ],
   "source": [
    "z"
   ]
  },
  {
   "cell_type": "code",
   "execution_count": 9,
   "metadata": {
    "id": "XP9tOEVzO4kd"
   },
   "outputs": [],
   "source": [
    "def average_doc_length(corpus):\n",
    "    ''' Takes as input a whole corpus\n",
    "      Returns the average number of words and chars per document '''\n",
    "\n",
    "    document_word_lengths = [len(doc.split()) for doc in corpus]                            #length of each doc (in words)\n",
    "    average_doc_length_words = sum(document_word_lengths) / len(document_word_lengths)      #average doc length (in words)\n",
    "\n",
    "    document_char_lengths = [len(doc) for doc in corpus]                                    #length of each doc (in characters)\n",
    "    average_doc_length_chars = sum(document_char_lengths) / len(document_char_lengths)      #average doc length (in characters)\n",
    "\n",
    "    return average_doc_length_words, average_doc_length_chars"
   ]
  },
  {
   "cell_type": "code",
   "execution_count": 10,
   "metadata": {
    "colab": {
     "base_uri": "https://localhost:8080/"
    },
    "id": "fgrYsGSUO7A1",
    "outputId": "1d2ea3df-1f89-4c68-d2e3-49273e71876f"
   },
   "outputs": [
    {
     "name": "stdout",
     "output_type": "stream",
     "text": [
      "---Before preprocessing---\n",
      "Average Document Length (in words): 746.3405\n",
      "Average Document Length (in characters): 3893.002\n"
     ]
    }
   ],
   "source": [
    "print(\"---Before preprocessing---\")\n",
    "avg_length_words, avg_length_chars = average_doc_length(x)\n",
    "print(\"Average Document Length (in words):\", avg_length_words)\n",
    "print(\"Average Document Length (in characters):\", avg_length_chars)"
   ]
  },
  {
   "cell_type": "markdown",
   "metadata": {
    "id": "iEXCg_jGO9dF"
   },
   "source": [
    "##Pre-processing"
   ]
  },
  {
   "cell_type": "markdown",
   "metadata": {
    "id": "32uR83Y5PCQi"
   },
   "source": [
    "The english stopwords is a package of 179 words that in general, would not help in a sentiment analysis problem. But, since they include terms that are negative, removing them could prove harmful for our case.\n",
    "\n",
    "e.g. imagine the phrase \"I didn't like the film\" to end up \"like film\".\n",
    "\n",
    "So, the plan is to remove all the stop words that include negative meaning before the preprocessing."
   ]
  },
  {
   "cell_type": "code",
   "execution_count": 11,
   "metadata": {
    "colab": {
     "base_uri": "https://localhost:8080/"
    },
    "id": "ae-7DPsxO_Vh",
    "outputId": "de31bf9b-0f27-4845-9590-9f7aeab0134a"
   },
   "outputs": [
    {
     "name": "stderr",
     "output_type": "stream",
     "text": [
      "[nltk_data] Downloading package stopwords to /root/nltk_data...\n",
      "[nltk_data]   Package stopwords is already up-to-date!\n"
     ]
    },
    {
     "data": {
      "text/plain": [
       "['i',\n",
       " 'me',\n",
       " 'my',\n",
       " 'myself',\n",
       " 'we',\n",
       " 'our',\n",
       " 'ours',\n",
       " 'ourselves',\n",
       " 'you',\n",
       " \"you're\",\n",
       " \"you've\",\n",
       " \"you'll\",\n",
       " \"you'd\",\n",
       " 'your',\n",
       " 'yours',\n",
       " 'yourself',\n",
       " 'yourselves',\n",
       " 'he',\n",
       " 'him',\n",
       " 'his',\n",
       " 'himself',\n",
       " 'she',\n",
       " \"she's\",\n",
       " 'her',\n",
       " 'hers',\n",
       " 'herself',\n",
       " 'it',\n",
       " \"it's\",\n",
       " 'its',\n",
       " 'itself',\n",
       " 'they',\n",
       " 'them',\n",
       " 'their',\n",
       " 'theirs',\n",
       " 'themselves',\n",
       " 'what',\n",
       " 'which',\n",
       " 'who',\n",
       " 'whom',\n",
       " 'this',\n",
       " 'that',\n",
       " \"that'll\",\n",
       " 'these',\n",
       " 'those',\n",
       " 'am',\n",
       " 'is',\n",
       " 'are',\n",
       " 'was',\n",
       " 'were',\n",
       " 'be',\n",
       " 'been',\n",
       " 'being',\n",
       " 'have',\n",
       " 'has',\n",
       " 'had',\n",
       " 'having',\n",
       " 'do',\n",
       " 'does',\n",
       " 'did',\n",
       " 'doing',\n",
       " 'a',\n",
       " 'an',\n",
       " 'the',\n",
       " 'and',\n",
       " 'but',\n",
       " 'if',\n",
       " 'or',\n",
       " 'because',\n",
       " 'as',\n",
       " 'until',\n",
       " 'while',\n",
       " 'of',\n",
       " 'at',\n",
       " 'by',\n",
       " 'for',\n",
       " 'with',\n",
       " 'about',\n",
       " 'against',\n",
       " 'between',\n",
       " 'into',\n",
       " 'through',\n",
       " 'during',\n",
       " 'before',\n",
       " 'after',\n",
       " 'above',\n",
       " 'below',\n",
       " 'to',\n",
       " 'from',\n",
       " 'up',\n",
       " 'down',\n",
       " 'in',\n",
       " 'out',\n",
       " 'on',\n",
       " 'off',\n",
       " 'over',\n",
       " 'under',\n",
       " 'again',\n",
       " 'further',\n",
       " 'then',\n",
       " 'once',\n",
       " 'here',\n",
       " 'there',\n",
       " 'when',\n",
       " 'where',\n",
       " 'why',\n",
       " 'how',\n",
       " 'all',\n",
       " 'any',\n",
       " 'both',\n",
       " 'each',\n",
       " 'few',\n",
       " 'more',\n",
       " 'most',\n",
       " 'other',\n",
       " 'some',\n",
       " 'such',\n",
       " 'no',\n",
       " 'nor',\n",
       " 'not',\n",
       " 'only',\n",
       " 'own',\n",
       " 'same',\n",
       " 'so',\n",
       " 'than',\n",
       " 'too',\n",
       " 'very',\n",
       " 's',\n",
       " 't',\n",
       " 'can',\n",
       " 'will',\n",
       " 'just',\n",
       " 'don',\n",
       " \"don't\",\n",
       " 'should',\n",
       " \"should've\",\n",
       " 'now',\n",
       " 'd',\n",
       " 'll',\n",
       " 'm',\n",
       " 'o',\n",
       " 're',\n",
       " 've',\n",
       " 'y',\n",
       " 'ain',\n",
       " 'aren',\n",
       " \"aren't\",\n",
       " 'couldn',\n",
       " \"couldn't\",\n",
       " 'didn',\n",
       " \"didn't\",\n",
       " 'doesn',\n",
       " \"doesn't\",\n",
       " 'hadn',\n",
       " \"hadn't\",\n",
       " 'hasn',\n",
       " \"hasn't\",\n",
       " 'haven',\n",
       " \"haven't\",\n",
       " 'isn',\n",
       " \"isn't\",\n",
       " 'ma',\n",
       " 'mightn',\n",
       " \"mightn't\",\n",
       " 'mustn',\n",
       " \"mustn't\",\n",
       " 'needn',\n",
       " \"needn't\",\n",
       " 'shan',\n",
       " \"shan't\",\n",
       " 'shouldn',\n",
       " \"shouldn't\",\n",
       " 'wasn',\n",
       " \"wasn't\",\n",
       " 'weren',\n",
       " \"weren't\",\n",
       " 'won',\n",
       " \"won't\",\n",
       " 'wouldn',\n",
       " \"wouldn't\"]"
      ]
     },
     "execution_count": 11,
     "metadata": {},
     "output_type": "execute_result"
    }
   ],
   "source": [
    "import nltk\n",
    "nltk.download('stopwords')\n",
    "from nltk.corpus import stopwords\n",
    "\n",
    "stopwords.words('english')"
   ]
  },
  {
   "cell_type": "markdown",
   "metadata": {
    "id": "N8MG7fLMPI-L"
   },
   "source": [
    "From these words, we will decide which ones to keep because in fact they have a meaningful impact in our sentiment analysis problem, as we stated earlier."
   ]
  },
  {
   "cell_type": "code",
   "execution_count": 12,
   "metadata": {
    "colab": {
     "base_uri": "https://localhost:8080/"
    },
    "id": "HQILCV19PHd8",
    "outputId": "b9553361-af96-4e36-d826-abd2ef3a7ed9"
   },
   "outputs": [
    {
     "data": {
      "text/plain": [
       "['not',\n",
       " \"don't\",\n",
       " \"aren't\",\n",
       " \"couldn't\",\n",
       " \"didn't\",\n",
       " \"doesn't\",\n",
       " \"hadn't\",\n",
       " \"hasn't\",\n",
       " \"shouldn't\",\n",
       " \"haven't\",\n",
       " \"wasn't\",\n",
       " \"weren't\",\n",
       " \"isn't\",\n",
       " 'doesn']"
      ]
     },
     "execution_count": 12,
     "metadata": {},
     "output_type": "execute_result"
    }
   ],
   "source": [
    "set_stop_words = set(stopwords.words('english'))\n",
    "\n",
    "to_keep_words = ['not', \"don't\", \"aren't\", \"couldn't\", \"didn't\", \"doesn't\", \"hadn't\", \"hasn't\" , \"shouldn't\", \"haven't\", \"wasn't\", \"weren't\",  \"isn't\", \"doesn\"]\n",
    "to_keep_words"
   ]
  },
  {
   "cell_type": "code",
   "execution_count": 13,
   "metadata": {
    "colab": {
     "base_uri": "https://localhost:8080/"
    },
    "id": "ltZwF-DXPOem",
    "outputId": "97d3663e-2ae0-4558-cbcd-f010a96c8e1c"
   },
   "outputs": [
    {
     "name": "stdout",
     "output_type": "stream",
     "text": [
      "179\n",
      "14\n",
      "165\n"
     ]
    }
   ],
   "source": [
    "stopwords_updated = set(stopwords.words('english')) - set(to_keep_words)\n",
    "print(len(stopwords.words('english')))\n",
    "print(len(to_keep_words))\n",
    "print(len(stopwords_updated))"
   ]
  },
  {
   "cell_type": "code",
   "execution_count": 14,
   "metadata": {
    "colab": {
     "base_uri": "https://localhost:8080/"
    },
    "id": "2wdlmAeCPPH8",
    "outputId": "3043369d-5b28-4a22-9700-a762d9880677"
   },
   "outputs": [
    {
     "name": "stderr",
     "output_type": "stream",
     "text": [
      "[nltk_data] Downloading package wordnet to /root/nltk_data...\n",
      "[nltk_data]   Package wordnet is already up-to-date!\n"
     ]
    }
   ],
   "source": [
    "from nltk.stem import WordNetLemmatizer\n",
    "import re\n",
    "from tqdm.auto import tqdm\n",
    "import string\n",
    "nltk.download('wordnet')\n",
    "\n",
    "def pre_process_text(text):\n",
    "    ''' Function to preprocess text.\n",
    "     input: initial text\n",
    "     output: processed text\n",
    "     Performs pre-processing methods:\n",
    "        1. Combination to a single document.\n",
    "        2. Convertion to lowercase.\n",
    "        3. Lemmatization and stop words extraction\n",
    "        4. Punctuation removal\n",
    "        5. Number removal\n",
    "        6. Single characters removal\n",
    "        7. Converting multiple spaces to single ones\n",
    "        '''\n",
    "    lemmatizer = WordNetLemmatizer()\n",
    "    all_docs = []\n",
    "\n",
    "    single_char = re.compile(r'\\s+[a-z]\\s+')                                          #6. Remove single characters\n",
    "    multiple_space= re.compile(r'\\s+')                                                 #7. Replace multiple space with a single one\n",
    "\n",
    "    stopwords_updated = set(stopwords.words('english')) - set(to_keep_words)\n",
    "    for document in tqdm(x):\n",
    "\n",
    "        combined_text = ' '.join(text)            #1.Combine in one single document\n",
    "\n",
    "        combined_text = combined_text.lower()    #2. Convert to lowercase\n",
    "        combined_text = [lemmatizer.lemmatize(word) for word in document.split() if word not in stopwords_updated]  # 3.Lemmatize and remove stop words\n",
    "\n",
    "\n",
    "        combined_text = ' '.join(combined_text)\n",
    "\n",
    "        combined_text = ''.join([char for char in combined_text if char not in string.punctuation])   #4.remove punctuation\n",
    "        combined_text = ''.join([char for char in combined_text if not char.isdigit()])     #5.remove numbers\n",
    "\n",
    "        res = single_char.sub(combined_text, '')\n",
    "        res2 = multiple_space.sub(combined_text, ' ')\n",
    "        all_docs.append(combined_text)\n",
    "\n",
    "    return all_docs"
   ]
  },
  {
   "cell_type": "code",
   "execution_count": 15,
   "metadata": {
    "colab": {
     "base_uri": "https://localhost:8080/",
     "height": 292,
     "referenced_widgets": [
      "2591cf08f6f845b29e601dcbea12ac57",
      "c8222aed5c1444abbf8fd294a35f50f1",
      "dba54674320f43a7b0a84feca359311e",
      "379b6a1935e8442fae21cdadf7c8907c",
      "11f233c780c64a3d9272c4c16b0ec4ee",
      "386e0d98b5754ff5848f12eb602a5821",
      "3041fd0039f24083a1572e836d21dc75",
      "b397bb2d8ed34c87b8f77408ee5372f2",
      "fa50732a13b840aba734b0a4a7869fd3",
      "e76f0b3e6561404791973d9fe0dfa4ba",
      "013780b8220d46b789a0563c722ddde9"
     ]
    },
    "id": "XkG6UH2sPTGF",
    "outputId": "666692f9-50d7-4f76-dd57-466a7e6d1000"
   },
   "outputs": [
    {
     "data": {
      "application/vnd.jupyter.widget-view+json": {
       "model_id": "2591cf08f6f845b29e601dcbea12ac57",
       "version_major": 2,
       "version_minor": 0
      },
      "text/plain": [
       "  0%|          | 0/2000 [00:00<?, ?it/s]"
      ]
     },
     "metadata": {},
     "output_type": "display_data"
    },
    {
     "data": {
      "text/plain": [
       "['arnold schwarzenegger icon action enthusiast  since late s  lately film sloppy oneliner getting worse  hard seeing arnold mr  freeze batman robin  especially say ton ice joke  hey got  million  whats matter  arnold signed another expensive blockbuster  cant compare like terminator series  true lie even eraser  called dark thriller  devil  gabriel byrne  come upon earth  impregnate woman  robin tunney  happens every  year  basically destroy world  apparently god chosen one man  one man jericho cane  arnold   help trusty sidekick  kevin pollack   stop nothing let devil take world  part actually absurd  would fit right dogma  yes  film weak  better blockbuster right  sleepy hollow   make world not enough look like  star film  anyway  definitely doesnt seem like arnold movie  wasnt type film see  sure gave u chuckle well known oneliner  seemed confused character film going  understandable  especially ending changed according source  aside form  still walked  much like past film  im sorry say arnold maybe end action day  speaking action  film  hardly explosion fight  devil made place explode  arnold wasnt kicking devil butt  ending changed make spiritual  undoubtedly ruined film  least hoping cool ending nothing else occurred  let  also dont know film took long cost much  really super affect  unless consider invisible devil   minute top  worth overpriced budget  budget gone better script  least audience could somewhat entertained instead facing boredom  pitiful see script like get bought made movie  even read thing anymore  sure doesnt seem like  thankfully gabriels performance gave light poor film  walk street searching robin tunney  cant help feel looked like devil  guy creepy looking anyway   glad end movie  dont bother see  expecting solid action flick  neither solid action  another movie suckered seeing  due strategic marketing campaign  save money see world not enough entertaining experience ']"
      ]
     },
     "execution_count": 15,
     "metadata": {},
     "output_type": "execute_result"
    }
   ],
   "source": [
    "processed_text = pre_process_text(x)\n",
    "\n",
    "processed_text[:1]"
   ]
  },
  {
   "cell_type": "markdown",
   "metadata": {
    "id": "pxywz7BzGG-K"
   },
   "source": [
    "## Data Augmentation"
   ]
  },
  {
   "cell_type": "markdown",
   "metadata": {},
   "source": [
    "Our dataset consists of 2000 reviews, as we stated earlier. The size can be considered rather small and classification algorithms may be led to overfitting.\n",
    "\n",
    "One measure we may take to face this is augmenting the text data. This involves generating new data points by making minor modifications on the existing ones. Here we will use the technique of synonym replacement"
   ]
  },
  {
   "cell_type": "markdown",
   "metadata": {},
   "source": [
    "**Process**: We split the input sentence into words. For each word, we retrieve synonyms from the 'synsets' function of WordNet. If we find synonyms, we randomly select one and we extract the canonical form of it (lemmatization). Finally, we replace the original word with the lemma if they are different."
   ]
  },
  {
   "cell_type": "code",
   "execution_count": 31,
   "metadata": {
    "colab": {
     "base_uri": "https://localhost:8080/"
    },
    "id": "hj7DKi0P6NzL",
    "outputId": "34306784-5295-40cb-c7eb-0df58421dca1"
   },
   "outputs": [
    {
     "name": "stderr",
     "output_type": "stream",
     "text": [
      "[nltk_data] Downloading package wordnet to /root/nltk_data...\n",
      "[nltk_data]   Package wordnet is already up-to-date!\n"
     ]
    },
    {
     "name": "stdout",
     "output_type": "stream",
     "text": [
      "Original data size: 2000\n",
      "Augmented data size: 4000\n",
      "4000\n"
     ]
    }
   ],
   "source": [
    "import nltk\n",
    "from nltk.corpus import wordnet\n",
    "import random\n",
    "\n",
    "\n",
    "nltk.download('wordnet')\n",
    "\n",
    "\n",
    "def synonym_replacement(sentence):\n",
    "    words = sentence.split()\n",
    "    new_words = words.copy()\n",
    "    for i in range(len(words)):\n",
    "        syns = wordnet.synsets(words[i])\n",
    "        if syns:\n",
    "            syn = random.choice(syns)\n",
    "            lemma = syn.lemmas()[0].name()\n",
    "            new_words[i] = lemma if lemma != words[i] else new_words[i]\n",
    "    return ' '.join(new_words)\n",
    "\n",
    "\n",
    "augmented_text = []\n",
    "augmented_y = []\n",
    "\n",
    "for i in range(len(processed_text)):\n",
    "    original_sentence = processed_text[i]\n",
    "    augmented_sentence = synonym_replacement(original_sentence)\n",
    "    augmented_text.append(augmented_sentence)\n",
    "    augmented_y.append(y[i])                        #Append the label for the augmented example\n",
    "    augmented_text.append(original_sentence)        #Add original sentence as well\n",
    "    augmented_y.append(y[i])                        #Append the label for the original example\n",
    "\n",
    "\n",
    "z_augmented = z + z\n",
    "\n",
    "print(\"Original data size:\", len(processed_text))\n",
    "print(\"Augmented data size:\", len(augmented_text))\n",
    "print(len(augmented_y))\n",
    "\n",
    "\n"
   ]
  },
  {
   "cell_type": "markdown",
   "metadata": {
    "id": "c-Aicg4APXGP"
   },
   "source": [
    "## Splitting into training set (70%), development set (15%) and test set (15%)"
   ]
  },
  {
   "cell_type": "code",
   "execution_count": 32,
   "metadata": {
    "id": "7Zx7S0qoPc4_"
   },
   "outputs": [],
   "source": [
    "from sklearn.model_selection import train_test_split\n",
    "\n",
    "X_train, X_temp, y_train, y_temp = train_test_split(augmented_text, augmented_y, test_size=0.3, random_state=17)\n",
    "X_dev, X_test, y_dev, y_test = train_test_split(X_temp, y_temp, test_size=0.5, random_state=25)\n",
    "\n",
    "training_text = ' '.join(X_train)                    #Flatten into a single string\n",
    "development_text = ' '.join(X_dev)\n",
    "test_text = ' '.join(X_test)\n",
    "\n",
    "training_words = training_text.split()\n",
    "development_words = development_text.split()\n",
    "test_words = test_text.split()\n",
    "\n",
    "training_vocab = set(training_words)\n",
    "development_vocab = set(development_words)\n",
    "test_vocab = set(test_words)"
   ]
  },
  {
   "cell_type": "code",
   "execution_count": 33,
   "metadata": {
    "colab": {
     "base_uri": "https://localhost:8080/"
    },
    "id": "Bpi9h7UKPhH7",
    "outputId": "39bb9991-8360-4737-d03a-b2ca9be723c1"
   },
   "outputs": [
    {
     "name": "stdout",
     "output_type": "stream",
     "text": [
      "Training set size (in documents):  2800\n",
      "Development set size (in documents):  600\n",
      "Test set size (in documents):  600\n",
      "Full size (sanity check):  4000\n",
      "---------------------------------\n",
      "Training vocabulary size (in words):  46103\n",
      "Development vocabulary size (in words):  25136\n",
      "Test vocabulary size (in words):  25410\n",
      "Full vocabulary size (in words):  96649\n"
     ]
    }
   ],
   "source": [
    "print(\"Training set size (in documents): \", len(y_train))\n",
    "print(\"Development set size (in documents): \", len(y_dev))\n",
    "print(\"Test set size (in documents): \", len(y_test))\n",
    "print(\"Full size (sanity check): \", len(y_train) + len(y_dev) + len(y_test))\n",
    "print(\"---------------------------------\")\n",
    "print(\"Training vocabulary size (in words): \" , len(training_vocab))\n",
    "print(\"Development vocabulary size (in words): \", len(development_vocab))\n",
    "print(\"Test vocabulary size (in words): \", len(test_vocab))\n",
    "print(\"Full vocabulary size (in words): \", len(training_vocab) + len(development_vocab) + len(test_vocab))"
   ]
  },
  {
   "cell_type": "code",
   "execution_count": 34,
   "metadata": {
    "colab": {
     "base_uri": "https://localhost:8080/"
    },
    "id": "lJBrIAYbPirj",
    "outputId": "056c8b71-2eb0-4a2e-fa28-6b4541bf933e"
   },
   "outputs": [
    {
     "name": "stdout",
     "output_type": "stream",
     "text": [
      "{'‘re', 'then', 'other', 'yourself', 'quite', 'here', 'though', 'beyond', 'mostly', 'where', 'whereupon', 'least', 'from', 'hereby', 'anyone', 'much', 'nevertheless', 'too', 'them', 'became', 'really', 'part', 'been', 'through', 'upon', 'anything', 'will', 'across', 'ca', 'anywhere', 'fifteen', 'thence', 'being', 'no', 'his', 'three', 'neither', 'last', 'after', 'seemed', 'who', 'hundred', 'every', 'some', 'bottom', \"'ve\", 'these', 'always', 'move', '’d', 'when', 'about', 'beforehand', 'nobody', 'while', 'up', 'the', 'down', 'what', 'fifty', 'used', 'any', 'twelve', 'should', 'me', 'else', 'you', 'this', 'noone', 'could', 'but', 'keep', '’s', 'ours', 'done', 'seem', 'yours', 'per', 're', 'forty', 'herself', 'none', 'show', 'hers', 'unless', 'former', 'call', 'sometimes', 'one', 'than', 'even', 'that', 'their', 'almost', 'has', 'seeming', 'beside', 'does', 'yet', 'whereas', 'at', 'six', 'hence', 'around', 'on', 'same', 'front', 'nine', 'herein', 'give', '‘ve', 'us', 'do', 'thereafter', 'only', 'by', 'among', 'seems', 'still', 'whom', '’m', 'becoming', 'either', 'she', 'very', 'as', 'cannot', 'already', 'anyway', 'thru', 'is', 'due', 'becomes', 'often', 'well', 'besides', \"n't\", 'several', 'another', 'him', 'made', 'along', 'throughout', 'otherwise', 'within', 'please', 'ten', 'back', 'own', 'might', 'latterly', 'whether', \"'s\", 'above', '‘ll', 'of', 'everyone', 'whoever', 'two', 'first', 'off', 'empty', 'had', 'whereafter', 'if', 'they', 'take', \"'d\", 'four', '‘s', 'sometime', 'wherever', 'perhaps', 'whatever', 'it', 'latter', 'others', 'anyhow', 'make', 'however', 'itself', 'onto', 'amount', 'full', 'next', 'her', '‘d', 'just', 'may', 'be', 'yourselves', 'we', 'except', 'n’t', 'more', 'enough', 'go', \"'ll\", 'somewhere', 'n‘t', 'thereupon', 'rather', 'serious', 'were', 'or', 'both', 'everywhere', 'everything', 'toward', 'ever', 'whenever', 'therein', 'many', 'whole', 'sixty', 'third', 'below', 'regarding', 'i', 'there', 'its', 'whither', 'alone', 'formerly', 'with', 'into', '’ll', 'during', 'afterwards', 'together', 'hereupon', 'something', 'so', 'name', 'various', 'eight', 'thereby', 'never', 'must', 'eleven', '’ve', 'meanwhile', 'hereafter', 'nor', 'thus', 'was', 'behind', 'without', 'and', 'top', 'see', 'further', 'whose', 'each', 'therefore', 'out', 'nowhere', 'side', 'become', 'against', 'to', 'those', 'wherein', 'now', 'myself', 'using', 'all', 'a', 'put', 'get', 'did', 'namely', '‘m', 'in', 'mine', 'he', \"'re\", 'your', 'since', 'which', 'can', 'my', 'five', '’re', 'also', 'how', 'doing', 'themselves', 'why', 'twenty', 'once', 'whereby', 'amongst', 'until', 'somehow', 'ourselves', 'for', 'indeed', 'are', 'towards', 'over', 'moreover', \"'m\", 'under', 'nothing', 'because', 'have', 'such', 'someone', 'would', 'not', 'am', 'our', 'although', 'an', 'few', 'before', 'via', 'elsewhere', 'say', 'most', 'less', 'himself', 'whence', 'again', 'between'}\n",
      "326\n"
     ]
    },
    {
     "data": {
      "text/plain": [
       "['not',\n",
       " \"don't\",\n",
       " \"aren't\",\n",
       " \"couldn't\",\n",
       " \"didn't\",\n",
       " \"doesn't\",\n",
       " \"hadn't\",\n",
       " \"hasn't\",\n",
       " \"shouldn't\",\n",
       " \"haven't\",\n",
       " \"wasn't\",\n",
       " \"weren't\",\n",
       " \"isn't\",\n",
       " 'doesn',\n",
       " \"n't\",\n",
       " 'not',\n",
       " 'no']"
      ]
     },
     "execution_count": 34,
     "metadata": {},
     "output_type": "execute_result"
    }
   ],
   "source": [
    "import spacy\n",
    "from spacy.lang.en.stop_words import STOP_WORDS\n",
    "\n",
    "print(STOP_WORDS)\n",
    "print(len(STOP_WORDS))\n",
    "extra_to_keep = [\"n't\", \"not\", \"no\"]\n",
    "for i in range(len(extra_to_keep)):\n",
    "  to_keep_words.append(extra_to_keep[i])\n",
    "\n",
    "to_keep_words"
   ]
  },
  {
   "cell_type": "code",
   "execution_count": 35,
   "metadata": {
    "colab": {
     "base_uri": "https://localhost:8080/"
    },
    "id": "Wy6dgVcqPmHt",
    "outputId": "586852a7-7274-42b2-c349-a14b943e1c34"
   },
   "outputs": [
    {
     "name": "stdout",
     "output_type": "stream",
     "text": [
      "323\n"
     ]
    }
   ],
   "source": [
    "stop_words_updated = STOP_WORDS - set(to_keep_words)\n",
    "print(len(stop_words_updated))"
   ]
  },
  {
   "cell_type": "code",
   "execution_count": 36,
   "metadata": {
    "colab": {
     "base_uri": "https://localhost:8080/"
    },
    "id": "UvXcZWZ0Pns6",
    "outputId": "9a26ce30-6eb4-4e1a-a78c-8be4106e5251"
   },
   "outputs": [
    {
     "data": {
      "text/plain": [
       "<spacy.pipeline.sentencizer.Sentencizer at 0x7e88a6f69b40>"
      ]
     },
     "execution_count": 36,
     "metadata": {},
     "output_type": "execute_result"
    }
   ],
   "source": [
    "nlp = spacy.load('en_core_web_sm',disable=[\"tagger\", \"parser\",\"ner\"])\n",
    "nlp.add_pipe('sentencizer')"
   ]
  },
  {
   "cell_type": "markdown",
   "metadata": {
    "id": "sC00zugMPpEd"
   },
   "source": [
    "## Use spaCy for sentence splitting & tokenization"
   ]
  },
  {
   "cell_type": "code",
   "execution_count": 37,
   "metadata": {
    "id": "40EbjJmEPsuh"
   },
   "outputs": [],
   "source": [
    "def tokenize_sent(x):\n",
    "\n",
    "  X_tokenized = []\n",
    "  for idx in tqdm(range(len(x))):\n",
    "    doc = nlp(x[idx])\n",
    "    tokens = []\n",
    "    for sent in doc.sents:\n",
    "      for tok in sent:\n",
    "        if '\\n' in tok.text or \"\\t\" in tok.text or \"--\" in tok.text or \"*\" in tok.text or tok.text.lower() in stop_words_updated or tok.text in string.punctuation or all(x in string.punctuation for x in tok.text):\n",
    "          continue\n",
    "        if tok.text.strip():\n",
    "          tokens.append(tok.text.replace('\"',\"'\").strip().lower())\n",
    "    X_tokenized.append(tokens)\n",
    "  return X_tokenized"
   ]
  },
  {
   "cell_type": "code",
   "execution_count": 38,
   "metadata": {
    "colab": {
     "base_uri": "https://localhost:8080/",
     "height": 168,
     "referenced_widgets": [
      "49bca4162afb4095b27e6c6ea80ecb15",
      "f09a7d781a374d78a6ec8fb8ca0b3c56",
      "e28f37d0667345e586f69f5745caa1c2",
      "07999654d5ec4ea1943241476ed5c1f3",
      "7be396fc8bb149a1a6214f40403f3c84",
      "b40f6a0b1dbb4444b66878f2304584a7",
      "6b4b37c2c0ef47bc816e246cd336a4ae",
      "8612be4741ce444998745cc63fdf38e9",
      "33d03a815ac64c2ab2acde74854493e5",
      "c1c93269e42b46b4941636c3e483713f",
      "e85c46e7ba5f40f7ac8e02af62d0b480",
      "cc66c7ba7fbb4ecf93dbb7453bc71f97",
      "0b199aced4834b84a22f8bb57104d011",
      "43dcbeabd0d44a138913f804e063a556",
      "1bb0e900845243b2ad0be14d2804c516",
      "d733adfa27db4ebc8c4e70c34b1f6b77",
      "f2244db97e374944b75e07cde1adced6",
      "beda64c3be1e4ec89652db8a6fb15a28",
      "6dbe3ef1acde4f5f9466a3e33e574d93",
      "641027e253254db7bc2e1f0619d8f8cd",
      "05bf805a86464be4aa034563ca5f6f61",
      "f2124ec835c141fdac35fa7605bcbedc",
      "cbd542bb993a4beeabfa40ed0ff925fe",
      "a853ecb20e4b4980a263de1101ff41e4",
      "4194abcdc95a452b9475cfb43d9ebd48",
      "213f9f020d804841b58ffb6ed676a1a9",
      "289ea59b57f849f5a859e99b4cd5cc7f",
      "981b71d0a712406aabec4fcad406ed0f",
      "95d3dae82d034807a30c3a090e9842c1",
      "afe2cf12855349a6a88e7a487fe5bfea",
      "36c925fe759a4513877bd2c1fd11c0a4",
      "3818a97628cf44b29b91126b9d57d487",
      "fddf58b66f004df29f3b63cf50cb620c"
     ]
    },
    "id": "7qzPcEbLPuk1",
    "outputId": "5c4334a2-ed17-47b6-df86-4d1aaa592ae0"
   },
   "outputs": [
    {
     "data": {
      "application/vnd.jupyter.widget-view+json": {
       "model_id": "49bca4162afb4095b27e6c6ea80ecb15",
       "version_major": 2,
       "version_minor": 0
      },
      "text/plain": [
       "  0%|          | 0/2800 [00:00<?, ?it/s]"
      ]
     },
     "metadata": {},
     "output_type": "display_data"
    },
    {
     "name": "stderr",
     "output_type": "stream",
     "text": [
      "/usr/local/lib/python3.10/dist-packages/spacy/pipeline/lemmatizer.py:211: UserWarning: [W108] The rule-based lemmatizer did not find POS annotation for one or more tokens. Check that your pipeline includes components that assign token.pos, typically 'tagger'+'attribute_ruler' or 'morphologizer'.\n",
      "  warnings.warn(Warnings.W108)\n"
     ]
    },
    {
     "data": {
      "application/vnd.jupyter.widget-view+json": {
       "model_id": "cc66c7ba7fbb4ecf93dbb7453bc71f97",
       "version_major": 2,
       "version_minor": 0
      },
      "text/plain": [
       "  0%|          | 0/600 [00:00<?, ?it/s]"
      ]
     },
     "metadata": {},
     "output_type": "display_data"
    },
    {
     "data": {
      "application/vnd.jupyter.widget-view+json": {
       "model_id": "cbd542bb993a4beeabfa40ed0ff925fe",
       "version_major": 2,
       "version_minor": 0
      },
      "text/plain": [
       "  0%|          | 0/600 [00:00<?, ?it/s]"
      ]
     },
     "metadata": {},
     "output_type": "display_data"
    }
   ],
   "source": [
    "X_train_tokenized = tokenize_sent(X_train)\n",
    "X_dev_tokenized = tokenize_sent(X_dev)\n",
    "X_test_tokenized = tokenize_sent(X_test)"
   ]
  },
  {
   "cell_type": "code",
   "execution_count": 39,
   "metadata": {
    "colab": {
     "base_uri": "https://localhost:8080/"
    },
    "id": "N9c6-JgRPwFT",
    "outputId": "03150ea4-5750-40af-82bd-a429a815d30e"
   },
   "outputs": [
    {
     "name": "stdout",
     "output_type": "stream",
     "text": [
      "Average word length before tokenization: 2587.9364285714287\n",
      "Average word length after tokenization: 314.12142857142857\n"
     ]
    }
   ],
   "source": [
    "import numpy as np\n",
    "\n",
    "print(\"Average word length before tokenization:\", np.mean([len(x) for x in X_train]))\n",
    "print(\"Average word length after tokenization:\", np.mean([len(x) for x in X_train_tokenized]))"
   ]
  },
  {
   "cell_type": "code",
   "execution_count": 40,
   "metadata": {
    "colab": {
     "base_uri": "https://localhost:8080/"
    },
    "id": "U5x7lEu0Pxt_",
    "outputId": "2974a778-a38b-43e4-b7ad-237fc4fd8ee6"
   },
   "outputs": [
    {
     "name": "stdout",
     "output_type": "stream",
     "text": [
      "Mean of sequence length on training set: 314.12142857142857\n",
      "Standard deviation of sequence length on training set: 135.9988218361333\n",
      "-----------------------------------------------------------\n",
      "Mean of sequence length on development set: 313.7183333333333\n",
      "Standard deviation of sequence length on development set: 133.6330385691436\n",
      "-----------------------------------------------------------\n",
      "Mean of sequence length on test set: 321.41833333333335\n",
      "Standard deviation of sequence length on test set: 138.53394288244147\n"
     ]
    }
   ],
   "source": [
    "\n",
    "\n",
    "# Get mean and std of sequence length\n",
    "train_mean = np.mean([len(x) for x in X_train_tokenized])\n",
    "train_std = np.std([len(x) for x in X_train_tokenized])\n",
    "print(\"Mean of sequence length on training set:\", train_mean)\n",
    "print(\"Standard deviation of sequence length on training set:\", train_std)\n",
    "\n",
    "print(\"-----------------------------------------------------------\")\n",
    "\n",
    "dev_mean = np.mean([len(x) for x in X_dev_tokenized])\n",
    "dev_std = np.std([len(x) for x in X_dev_tokenized])\n",
    "print(\"Mean of sequence length on development set:\", dev_mean)\n",
    "print(\"Standard deviation of sequence length on development set:\", dev_std)\n",
    "\n",
    "print(\"-----------------------------------------------------------\")\n",
    "\n",
    "test_mean = np.mean([len(x) for x in X_test_tokenized])\n",
    "test_std = np.std([len(x) for x in X_test_tokenized])\n",
    "print(\"Mean of sequence length on test set:\", test_mean)\n",
    "print(\"Standard deviation of sequence length on test set:\", test_std)"
   ]
  },
  {
   "cell_type": "code",
   "execution_count": 41,
   "metadata": {
    "colab": {
     "base_uri": "https://localhost:8080/"
    },
    "id": "8frBtX7CPz_E",
    "outputId": "c6a25b33-4b72-4a75-9e64-2427db926684"
   },
   "outputs": [
    {
     "name": "stdout",
     "output_type": "stream",
     "text": [
      "flubber second full exemplar claim liveliness movie remake adaptation hysterically adequate circulate Disney kind film whitethorn slenderly harbor bantam child anyone else feel entrust boring dense fabulously lifeless could film cinematic charming rather dead water shame could great film hypothetically hateful flubber credibly know remake Disney classical never saw absent mind professor well absent mind professor play fred mcmurray produce erratic substance know flubber know fly rubber Modern one keep basic plot appear add bunch else wish absentmindedness part proffessor villain several showstopping here_and_now like boastfully rumba flubber elaborate frame-up none actually make effective rather make bad BASIC diagram revolve about college professor Philip brainerd robin Williams make draw fortune invention deplorably absent apt fact helium forget wedding college President_of_the_United_States sara denim Reynolds indie actress marcia gay harden deuce fourth_dimension forget begin doesnt warrant kind mental treatment anyhow wedding day third_gear one fabricate flubber not bounce everything like super ball speed besides change form wish stranger water form expiate Philip impression invention in_full gain salvage college terror shut millionaire tycoonvillain Chester hoenicker raymond J barry ironically adequate college terror Son wheaton thinking dead fail plot eddy hoenickers lout identify smith wesson hour_angle hour_angle great smell humor film play clancy brown Ted levine needed pay check identify hard way try steal hoenicker need cause he malefic enough subplot involve Philip try acquire back sara World_Health_Organization angry thoroughly rationality seduce basically Philip belloq Wilson croft Christopher mcdonald play hysterically suaveyetunsuave asswhole another subplot Philip daytimer automaton weebo voice oneandonly jodi benson fall love yuckityyuck whats pathetic film dull dont necessitate cynical college student able attend right film another long line cheap try make flying buck Disney basically become ottoman dad movie diligence halfassedly remixing authoritative nonclassics distribution general public deplorably feed early release jungle hobo_camp adaptation truly atrocious French film United_Nations indien dans lanthanum ville yea better original not much Disney bad shape Warner brother right creatively Rush ship film distribution Disney forget give film little thing call charming scene dance flubber fly car basketball team pretty much suck fly about thanks cautiously placed flubber elaborate end fail amaze delight even cause citizenry laugh model entire film stone front chuckle possibly twice shaking headway bad joke could truly joke scene Philip accede incorrectly classroom startle teach chemistry didnt think doesnt help protagonist basically unfunny even actually respectable Philip not lovable absent apt professory in_truth dumb man play robin Williams Williams bright amusing actor all_right brilliant actor general helium pass little occasionally get hyper something time act deplorable time helium not bad presuppose think homo World_Health_Organization forget marry thrice possibly amusing andor goodly like Disney normally enjoy film not inspire live military_action recent movie save Hercules good not great bad lackluster theyve pathetic hobo_camp hobo_camp probably worst film learn last year flubber S probably moment need possibly create something Modern arrive writer write something thats universally entertain film like rear bunker Mary poppins film bouncy action latter case desegregate even calm watch theyre not written charming child fun adult whats agonizing necessitate child film insult annoy every turn idol couldnt act something else edie mcclurg\n",
      "['flubber', 'second', 'exemplar', 'claim', 'liveliness', 'movie', 'remake', 'adaptation', 'hysterically', 'adequate', 'circulate', 'disney', 'kind', 'film', 'whitethorn', 'slenderly', 'harbor', 'bantam', 'child', 'feel', 'entrust', 'boring', 'dense', 'fabulously', 'lifeless', 'film', 'cinematic', 'charming', 'dead', 'water', 'shame', 'great', 'film', 'hypothetically', 'hateful', 'flubber', 'credibly', 'know', 'remake', 'disney', 'classical', 'saw', 'absent', 'mind', 'professor', 'absent', 'mind', 'professor', 'play', 'fred', 'mcmurray', 'produce', 'erratic', 'substance', 'know', 'flubber', 'know', 'fly', 'rubber', 'modern', 'basic', 'plot', 'appear', 'add', 'bunch', 'wish', 'absentmindedness', 'proffessor', 'villain', 'showstopping', 'here_and_now', 'like', 'boastfully', 'rumba', 'flubber', 'elaborate', 'frame', 'actually', 'effective', 'bad', 'basic', 'diagram', 'revolve', 'college', 'professor', 'philip', 'brainerd', 'robin', 'williams', 'draw', 'fortune', 'invention', 'deplorably', 'absent', 'apt', 'fact', 'helium', 'forget', 'wedding', 'college', 'president_of_the_united_states', 'sara', 'denim', 'reynolds', 'indie', 'actress', 'marcia', 'gay', 'harden', 'deuce', 'fourth_dimension', 'forget', 'begin', 'nt', 'warrant', 'kind', 'mental', 'treatment', 'wedding', 'day', 'third_gear', 'fabricate', 'flubber', 'not', 'bounce', 'like', 'super', 'ball', 'speed', 'change', 'form', 'wish', 'stranger', 'water', 'form', 'expiate', 'philip', 'impression', 'invention', 'in_full', 'gain', 'salvage', 'college', 'terror', 'shut', 'millionaire', 'tycoonvillain', 'chester', 'hoenicker', 'raymond', 'j', 'barry', 'ironically', 'adequate', 'college', 'terror', 'son', 'wheaton', 'thinking', 'dead', 'fail', 'plot', 'eddy', 'hoenickers', 'lout', 'identify', 'smith', 'wesson', 'hour_angle', 'hour_angle', 'great', 'smell', 'humor', 'film', 'play', 'clancy', 'brown', 'ted', 'levine', 'needed', 'pay', 'check', 'identify', 'hard', 'way', 'try', 'steal', 'hoenicker', 'need', 'cause', 'malefic', 'subplot', 'involve', 'philip', 'try', 'acquire', 'sara', 'world_health_organization', 'angry', 'thoroughly', 'rationality', 'seduce', 'basically', 'philip', 'belloq', 'wilson', 'croft', 'christopher', 'mcdonald', 'play', 'hysterically', 'suaveyetunsuave', 'asswhole', 'subplot', 'philip', 'daytimer', 'automaton', 'weebo', 'voice', 'oneandonly', 'jodi', 'benson', 'fall', 'love', 'yuckityyuck', 's', 'pathetic', 'film', 'dull', 'nt', 'necessitate', 'cynical', 'college', 'student', 'able', 'attend', 'right', 'film', 'long', 'line', 'cheap', 'try', 'flying', 'buck', 'disney', 'basically', 'ottoman', 'dad', 'movie', 'diligence', 'halfassedly', 'remixing', 'authoritative', 'nonclassics', 'distribution', 'general', 'public', 'deplorably', 'feed', 'early', 'release', 'jungle', 'hobo_camp', 'adaptation', 'truly', 'atrocious', 'french', 'film', 'united_nations', 'indien', 'dans', 'lanthanum', 'ville', 'yea', 'better', 'original', 'not', 'disney', 'bad', 'shape', 'warner', 'brother', 'right', 'creatively', 'rush', 'ship', 'film', 'distribution', 'disney', 'forget', 'film', 'little', 'thing', 'charming', 'scene', 'dance', 'flubber', 'fly', 'car', 'basketball', 'team', 'pretty', 'suck', 'fly', 'thanks', 'cautiously', 'placed', 'flubber', 'elaborate', 'end', 'fail', 'amaze', 'delight', 'cause', 'citizenry', 'laugh', 'model', 'entire', 'film', 'stone', 'chuckle', 'possibly', 'twice', 'shaking', 'headway', 'bad', 'joke', 'truly', 'joke', 'scene', 'philip', 'accede', 'incorrectly', 'classroom', 'startle', 'teach', 'chemistry', 'nt', 'think', 'nt', 'help', 'protagonist', 'basically', 'unfunny', 'actually', 'respectable', 'philip', 'not', 'lovable', 'absent', 'apt', 'professory', 'in_truth', 'dumb', 'man', 'play', 'robin', 'williams', 'williams', 'bright', 'amusing', 'actor', 'all_right', 'brilliant', 'actor', 'general', 'helium', 'pass', 'little', 'occasionally', 'hyper', 'time', 'act', 'deplorable', 'time', 'helium', 'not', 'bad', 'presuppose', 'think', 'homo', 'world_health_organization', 'forget', 'marry', 'thrice', 'possibly', 'amusing', 'andor', 'goodly', 'like', 'disney', 'normally', 'enjoy', 'film', 'not', 'inspire', 'live', 'military_action', 'recent', 'movie', 'save', 'hercules', 'good', 'not', 'great', 'bad', 'lackluster', 've', 'pathetic', 'hobo_camp', 'hobo_camp', 'probably', 'worst', 'film', 'learn', 'year', 'flubber', 's', 'probably', 'moment', 'need', 'possibly', 'create', 'modern', 'arrive', 'writer', 'write', 's', 'universally', 'entertain', 'film', 'like', 'rear', 'bunker', 'mary', 'poppins', 'film', 'bouncy', 'action', 'case', 'desegregate', 'calm', 'watch', 'not', 'written', 'charming', 'child', 'fun', 'adult', 's', 'agonizing', 'necessitate', 'child', 'film', 'insult', 'annoy', 'turn', 'idol', 'nt', 'act', 'edie', 'mcclurg']\n"
     ]
    }
   ],
   "source": [
    "print(X_train[0])\n",
    "print(X_train_tokenized[0])"
   ]
  },
  {
   "cell_type": "markdown",
   "metadata": {
    "id": "ModGFgBwP3HW"
   },
   "source": [
    "## Tokenize, convert text (sequence of words) to sequence of indexes and PAD the sequences"
   ]
  },
  {
   "cell_type": "code",
   "execution_count": 42,
   "metadata": {
    "id": "udHYGuBiP1nD"
   },
   "outputs": [],
   "source": [
    "from tensorflow.keras.preprocessing.text import Tokenizer\n",
    "from tensorflow.keras.preprocessing.sequence import pad_sequences\n",
    "import math\n",
    "\n",
    "MAX_WORDS = 100000\n",
    "MAX_SEQUENCE_LENGTH =  math.ceil(train_mean + train_std)\n",
    "EMBEDDING_DIM = 300\n",
    "\n",
    "tokenizer = Tokenizer(num_words = MAX_WORDS, oov_token ='UNK')\n",
    "tokenizer.fit_on_texts([\" \".join(x) for x in X_train_tokenized])\n",
    "\n",
    "word_idx = tokenizer.word_index"
   ]
  },
  {
   "cell_type": "code",
   "execution_count": 43,
   "metadata": {
    "colab": {
     "base_uri": "https://localhost:8080/"
    },
    "id": "aYfgKQFyP7fj",
    "outputId": "448f4061-4846-46b0-e26a-61b328fcf2da"
   },
   "outputs": [
    {
     "name": "stdout",
     "output_type": "stream",
     "text": [
      "Number of unique words in the word index:  43009\n"
     ]
    }
   ],
   "source": [
    "print(\"Number of unique words in the word index: \", len(word_idx))"
   ]
  },
  {
   "cell_type": "code",
   "execution_count": 44,
   "metadata": {
    "id": "xhTm-2a_P9E3"
   },
   "outputs": [],
   "source": [
    "train_sequences = tokenizer.texts_to_sequences([\" \".join(x) for x in X_train_tokenized])\n",
    "dev_sequences = tokenizer.texts_to_sequences([\" \".join(x) for x in X_dev_tokenized])\n",
    "test_sequences = tokenizer.texts_to_sequences([\" \".join(x) for x in X_test_tokenized])\n",
    "\n",
    "train_pad = pad_sequences(train_sequences, maxlen = MAX_SEQUENCE_LENGTH, padding ='post')\n",
    "dev_pad = pad_sequences(dev_sequences, maxlen = MAX_SEQUENCE_LENGTH, padding ='post')\n",
    "test_pad = pad_sequences(test_sequences, maxlen = MAX_SEQUENCE_LENGTH, padding ='post')"
   ]
  },
  {
   "cell_type": "code",
   "execution_count": 45,
   "metadata": {
    "colab": {
     "base_uri": "https://localhost:8080/"
    },
    "id": "XxUvBfz3P-wX",
    "outputId": "aa5d5678-2d80-46b4-ea62-3d9fed911db0"
   },
   "outputs": [
    {
     "name": "stdout",
     "output_type": "stream",
     "text": [
      "[2491, 119, 3917, 641, 1163, 3, 1100, 851, 7378, 395, 9229, 331, 73, 2, 447, 2746, 1511, 3678, 53, 50, 3605, 426, 2389, 2390, 2747, 2, 818, 1039, 199, 482, 1536, 41, 2, 13735, 4091, 2491, 758, 14, 1100, 331, 1297, 745, 3190, 131, 782, 3190, 131, 782, 18, 2670, 22606, 530, 8015, 1372, 14, 2491, 14, 819, 5775, 604, 843, 23, 109, 357, 524, 139, 16801, 22607, 343, 12717, 1665, 539, 1666, 7, 3679, 22608, 2491, 2179, 602, 36, 325, 16, 843, 1076, 6840, 783, 782, 2798, 22609, 554, 436, 236, 1177, 4200, 5153, 3190, 2463, 45, 283, 457, 1002, 783, 784, 90, 182, 527, 826, 3918, 5010, 3919, 6362, 429, 8398, 1030, 11756, 225, 912, 1055, 457, 61, 5, 7093, 73, 1178, 2594, 1002, 38, 3836, 764, 8399, 2491, 4, 5776, 7, 4627, 1283, 2079, 210, 327, 139, 1468, 482, 327, 9781, 2798, 561, 4200, 137, 2931, 695, 3532, 783, 1684, 3751, 2565, 22610, 9782, 13736, 4886, 1238, 1752, 3026, 395, 783, 1684, 141, 22611, 1122, 199, 307, 23, 10345, 22612, 7676, 739, 437, 16802, 82, 1553, 82, 1553, 41, 2391, 230, 2, 18, 16803, 1077, 1608, 9230, 1484, 409, 1010, 739, 124, 13, 58, 770, 13736, 133, 292, 3084, 765, 534, 2798, 58, 3464, 3918, 33, 619, 509, 1242, 1003, 3191, 1845, 354, 2798, 16804, 1829, 6841, 921, 5947, 18, 7378, 22613, 19602, 765, 2798, 22614, 2629, 13737, 243, 22615, 15173, 8794, 84, 30, 22616, 8, 994, 2, 797, 5, 552, 2799, 783, 890, 220, 671, 51, 2, 60, 70, 1243, 58, 1512, 2210, 331, 354, 32312, 1141, 3, 4887, 22617, 22618, 2149, 22619, 5154, 594, 827, 5153, 2049, 202, 545, 2050, 8795, 687, 851, 185, 803, 833, 2, 527, 6566, 13738, 9231, 3533, 11757, 2332, 77, 71, 4, 331, 16, 1373, 2392, 153, 51, 9783, 1090, 364, 2, 5154, 331, 457, 2, 22, 15, 1039, 11, 740, 2491, 819, 179, 1513, 170, 136, 2301, 819, 1256, 6567, 3465, 2491, 2179, 17, 307, 2492, 1308, 292, 939, 110, 688, 221, 2, 766, 2711, 114, 1629, 8796, 15174, 16, 188, 185, 188, 11, 2798, 8016, 5287, 12718, 2150, 1284, 852, 5, 25, 5, 118, 1155, 354, 1374, 36, 5155, 2798, 4, 3351, 3190, 2463, 22620, 137, 178, 771, 26, 18, 554, 436, 436, 785, 253, 27, 1630, 51, 603, 27, 594, 283, 1270, 22, 940, 9232, 9, 59, 3534, 9, 283, 4, 16, 2016, 25, 759, 33, 619, 509, 457, 683, 22621, 114, 253, 4515, 8017, 7, 331, 676, 375, 2, 4, 2363, 317, 535, 32, 834, 3, 265, 6568, 10, 4, 41, 16, 3837, 86, 994, 8795, 687, 8795, 687, 147, 531, 2, 234, 24, 2491, 8, 147, 48, 133, 114, 249, 604, 555, 274, 218, 8, 8797, 897, 2, 7, 1537, 13739, 750, 16805, 2, 6146, 32, 161, 5948, 2017, 43, 4, 464, 1039, 53, 111, 422, 8, 6842, 552, 53, 2, 2671, 1949, 54, 3352, 5, 59, 15175, 15176]\n",
      "------------------------------\n",
      "[13735  4091  2491   758    14  1100   331  1297   745  3190   131   782\n",
      "  3190   131   782    18  2670 22606   530  8015  1372    14  2491    14\n",
      "   819  5775   604   843    23   109   357   524   139 16801 22607   343\n",
      " 12717  1665   539  1666     7  3679 22608  2491  2179   602    36   325\n",
      "    16   843  1076  6840   783   782  2798 22609   554   436   236  1177\n",
      "  4200  5153  3190  2463    45   283   457  1002   783   784    90   182\n",
      "   527   826  3918  5010  3919  6362   429  8398  1030 11756   225   912\n",
      "  1055   457    61     5  7093    73  1178  2594  1002    38  3836   764\n",
      "  8399  2491     4  5776     7  4627  1283  2079   210   327   139  1468\n",
      "   482   327  9781  2798   561  4200   137  2931   695  3532   783  1684\n",
      "  3751  2565 22610  9782 13736  4886  1238  1752  3026   395   783  1684\n",
      "   141 22611  1122   199   307    23 10345 22612  7676   739   437 16802\n",
      "    82  1553    82  1553    41  2391   230     2    18 16803  1077  1608\n",
      "  9230  1484   409  1010   739   124    13    58   770 13736   133   292\n",
      "  3084   765   534  2798    58  3464  3918    33   619   509  1242  1003\n",
      "  3191  1845   354  2798 16804  1829  6841   921  5947    18  7378 22613\n",
      " 19602   765  2798 22614  2629 13737   243 22615 15173  8794    84    30\n",
      " 22616     8   994     2   797     5   552  2799   783   890   220   671\n",
      "    51     2    60    70  1243    58  1512  2210   331   354 32312  1141\n",
      "     3  4887 22617 22618  2149 22619  5154   594   827  5153  2049   202\n",
      "   545  2050  8795   687   851   185   803   833     2   527  6566 13738\n",
      "  9231  3533 11757  2332    77    71     4   331    16  1373  2392   153\n",
      "    51  9783  1090   364     2  5154   331   457     2    22    15  1039\n",
      "    11   740  2491   819   179  1513   170   136  2301   819  1256  6567\n",
      "  3465  2491  2179    17   307  2492  1308   292   939   110   688   221\n",
      "     2   766  2711   114  1629  8796 15174    16   188   185   188    11\n",
      "  2798  8016  5287 12718  2150  1284   852     5    25     5   118  1155\n",
      "   354  1374    36  5155  2798     4  3351  3190  2463 22620   137   178\n",
      "   771    26    18   554   436   436   785   253    27  1630    51   603\n",
      "    27   594   283  1270    22   940  9232     9    59  3534     9   283\n",
      "     4    16  2016    25   759    33   619   509   457   683 22621   114\n",
      "   253  4515  8017     7   331   676   375     2     4  2363   317   535\n",
      "    32   834     3   265  6568    10     4    41    16  3837    86   994\n",
      "  8795   687  8795   687   147   531     2   234    24  2491     8   147\n",
      "    48   133   114   249   604   555   274   218     8  8797   897     2\n",
      "     7  1537 13739   750 16805     2  6146    32   161  5948  2017    43\n",
      "     4   464  1039    53   111   422     8  6842   552    53     2  2671\n",
      "  1949    54  3352     5    59 15175 15176]\n"
     ]
    }
   ],
   "source": [
    "print(train_sequences[0])\n",
    "print(\"------------------------------\")\n",
    "print(train_pad[0])"
   ]
  },
  {
   "cell_type": "markdown",
   "metadata": {
    "id": "UiS0PrpKrduy"
   },
   "source": [
    "## Download and unzip fasttext binary model for word embeddings"
   ]
  },
  {
   "cell_type": "code",
   "execution_count": 46,
   "metadata": {
    "colab": {
     "base_uri": "https://localhost:8080/"
    },
    "id": "HHaP5nMQrhPm",
    "outputId": "0193b596-e811-4a64-effc-f955fa497d3b"
   },
   "outputs": [
    {
     "name": "stdout",
     "output_type": "stream",
     "text": [
      "--2024-02-29 17:53:09--  https://dl.fbaipublicfiles.com/fasttext/vectors-crawl/cc.en.300.bin.gz\n",
      "Resolving dl.fbaipublicfiles.com (dl.fbaipublicfiles.com)... 3.162.163.34, 3.162.163.11, 3.162.163.51, ...\n",
      "Connecting to dl.fbaipublicfiles.com (dl.fbaipublicfiles.com)|3.162.163.34|:443... connected.\n",
      "HTTP request sent, awaiting response... 200 OK\n",
      "Length: 4503593528 (4.2G) [application/octet-stream]\n",
      "Saving to: ‘cc.en.300.bin.gz’\n",
      "\n",
      "cc.en.300.bin.gz    100%[===================>]   4.19G   245MB/s    in 20s     \n",
      "\n",
      "2024-02-29 17:53:30 (211 MB/s) - ‘cc.en.300.bin.gz’ saved [4503593528/4503593528]\n",
      "\n",
      "gzip: cc.en.300.bin already exists; do you wish to overwrite (y or n)? ^C\n"
     ]
    }
   ],
   "source": [
    "!wget https://dl.fbaipublicfiles.com/fasttext/vectors-crawl/cc.en.300.bin.gz\n",
    "!gzip -d cc.en.300.bin.gz"
   ]
  },
  {
   "cell_type": "markdown",
   "metadata": {
    "id": "HsPmiupqTddm"
   },
   "source": [
    "## Create embedding matrix"
   ]
  },
  {
   "cell_type": "markdown",
   "metadata": {
    "id": "sh9ZNnBnacJi"
   },
   "source": [
    "**Process**: The loop iterates over the word_index dictionary, which contains word-to-index mappings generated by the tokenizer. For each word in the word_index, it checks if the index is within the limit of *MAX_WORDS*. If so, it retrieves the corresponding word vector from the FastText model using *fasttext_model.get_word_vector(word=key)* and assigns it to the corresponding row in the embedding_matrix."
   ]
  },
  {
   "cell_type": "code",
   "execution_count": 47,
   "metadata": {
    "colab": {
     "base_uri": "https://localhost:8080/"
    },
    "id": "JdWqV34RQA2i",
    "outputId": "bb206de2-d8da-4522-8578-fc529aa33cf3"
   },
   "outputs": [
    {
     "name": "stdout",
     "output_type": "stream",
     "text": [
      "Loading embeddings model..\n"
     ]
    },
    {
     "name": "stderr",
     "output_type": "stream",
     "text": [
      "Warning : `load_model` does not return WordVectorModel or SupervisedModel any more, but a `FastText` object which is very similar.\n"
     ]
    }
   ],
   "source": [
    "import fasttext\n",
    "\n",
    "print(\"Loading embeddings model..\")\n",
    "fasttext_model = fasttext.load_model('cc.en.300.bin')\n",
    "embedding_matrix = np.zeros(shape=((MAX_WORDS + 2), 300))          # +2 because we have reserved indices for padding and out-of-vocabulary tokens\n",
    "\n",
    "for key, value in word_idx.items():\n",
    "    if value <= MAX_WORDS:\n",
    "        embedding_matrix[value] = fasttext_model.get_word_vector(word=key)            #create embedding matrix\n",
    "\n",
    "del fasttext_model      #save memory"
   ]
  },
  {
   "cell_type": "code",
   "execution_count": 48,
   "metadata": {
    "id": "G6ZfK_OvThtb"
   },
   "outputs": [],
   "source": [
    "import tensorflow as tf\n",
    "\n",
    "class Metrics(tf.keras.callbacks.Callback):\n",
    "\n",
    "    def __init__(self, valid_data):\n",
    "        super(Metrics, self).__init__()\n",
    "        self.validation_data = valid_data\n",
    "\n",
    "    def on_epoch_end(self, epoch, logs=None):\n",
    "        logs = logs or {}\n",
    "        val_predict = np.argmax(self.model.predict(self.validation_data[0]), -1)\n",
    "        val_targ = self.validation_data[1]\n",
    "        if len(val_targ.shape) == 2 and val_targ.shape[1] != 1:\n",
    "            val_targ = np.argmax(val_targ, -1)\n",
    "        val_targ = tf.cast(val_targ,dtype=tf.float32)\n",
    "        _val_f1 = f1_score(val_targ, val_predict,average=\"weighted\")\n",
    "        _val_recall = recall_score(val_targ, val_predict,average=\"weighted\")\n",
    "        _val_precision = precision_score(val_targ, val_predict,average=\"weighted\")\n",
    "        logs['val_f1'] = _val_f1\n",
    "        logs['val_recall'] = _val_recall\n",
    "        logs['val_precision'] = _val_precision\n",
    "        print(\" — val_f1: %f — val_precision: %f — val_recall: %f\" % (_val_f1, _val_precision, _val_recall))\n",
    "        return"
   ]
  },
  {
   "cell_type": "markdown",
   "metadata": {
    "id": "sPn4OU3CU52h"
   },
   "source": [
    "## Create one-hot vectors"
   ]
  },
  {
   "cell_type": "code",
   "execution_count": 49,
   "metadata": {
    "id": "QD30IVwQU7zW"
   },
   "outputs": [],
   "source": [
    "y_train = tf.keras.utils.to_categorical(y_train, num_classes=2)\n",
    "y_dev = tf.keras.utils.to_categorical(y_dev, num_classes=2)\n",
    "y_test = tf.keras.utils.to_categorical(y_test, num_classes=2)"
   ]
  },
  {
   "cell_type": "markdown",
   "metadata": {
    "id": "dmHI_QhwvCeV"
   },
   "source": [
    "## Stacked CNNs followed by Max-Pooling"
   ]
  },
  {
   "cell_type": "code",
   "execution_count": 50,
   "metadata": {
    "id": "mI_ZGC6Btakb"
   },
   "outputs": [],
   "source": [
    "import tensorflow.keras.backend as K\n",
    "\n",
    "def recall(y_true, y_pred):\n",
    "\n",
    "    \"\"\"\n",
    "    Recall metric.\n",
    "    Only computes a batch-wise average of recall.\n",
    "    Computes the recall, a metric for multi-label classification of\n",
    "    how many relevant items are selected.\n",
    "    \"\"\"\n",
    "    true_positives = K.sum(K.round(K.clip(y_true * y_pred, 0, 1)))\n",
    "    possible_positives = K.sum(K.round(K.clip(y_true, 0, 1)))\n",
    "    recall = true_positives / (possible_positives + K.epsilon())\n",
    "    return recall\n",
    "\n",
    "\n",
    "def precision(y_true, y_pred):\n",
    "\n",
    "    \"\"\"\n",
    "    Precision metric.\n",
    "    Only computes a batch-wise average of precision.\n",
    "    Computes the precision, a metric for multi-label classification of\n",
    "    how many selected items are relevant.\n",
    "    Source\n",
    "    ------\n",
    "    https://github.com/fchollet/keras/issues/5400#issuecomment-314747992\n",
    "    \"\"\"\n",
    "    true_positives = K.sum(K.round(K.clip(y_true * y_pred, 0, 1)))\n",
    "    predicted_positives = K.sum(K.round(K.clip(y_pred, 0, 1)))\n",
    "    precision = true_positives / (predicted_positives + K.epsilon())\n",
    "    return precision\n",
    "\n",
    "\n",
    "def f1(y_true, y_pred):\n",
    "\n",
    "    \"\"\"Calculate the F1 score.\"\"\"\n",
    "    p = precision(y_true, y_pred)\n",
    "    r = recall(y_true, y_pred)\n",
    "    return 2 * ((p * r) / (p + r))\n",
    "\n",
    "\n",
    "def accuracy(y_true, y_pred):\n",
    "    return K.mean(K.equal(y_true, K.round(y_pred)), axis = 1)"
   ]
  },
  {
   "cell_type": "code",
   "execution_count": 51,
   "metadata": {
    "id": "1aKo8wpnX4TE"
   },
   "outputs": [],
   "source": [
    "def build_model(hp):\n",
    "\n",
    "  N_CLASSES = 2\n",
    "  DENSE = 64\n",
    "  learning_rate = hp.Choice('learning_rate', values=[1e-3, 1e-2, 1e-1])\n",
    "  dropout_rate = hp.Float('dropout_rate', min_value=0.2, max_value=0.5, step=0.05)\n",
    "  num_conv_layers = hp.Int('num_conv_layers', min_value = 1, max_value = 5, step = 1)\n",
    "  kernel_size = hp.Int('kernel_size', min_value = 1, max_value = 4, step = 1)\n",
    "\n",
    "  model = tf.keras.Sequential()\n",
    "\n",
    "  model.add(tf.keras.Input(shape = (MAX_SEQUENCE_LENGTH,), dtype = \"int32\"))\n",
    "\n",
    "  model.add(tf.keras.layers.Embedding(input_dim = MAX_WORDS,\n",
    "                                      output_dim = EMBEDDING_DIM,\n",
    "                                      input_length = MAX_SEQUENCE_LENGTH,\n",
    "                                      trainable = False))\n",
    "\n",
    "  model.add(tf.keras.layers.Dropout(dropout_rate))\n",
    "\n",
    "  for i in range(1, num_conv_layers + 1):\n",
    "    model.add(tf.keras.layers.Conv1D(filters = EMBEDDING_DIM,\n",
    "                                     kernel_size = kernel_size,\n",
    "                                     activation = 'relu',\n",
    "                                     padding = 'same'))\n",
    "\n",
    "  model.add(tf.keras.layers.GlobalMaxPooling1D())\n",
    "\n",
    "  model.add(tf.keras.layers.Dropout(dropout_rate))\n",
    "\n",
    "  model.add(tf.keras.layers.Dense(DENSE, activation = 'relu'))\n",
    "\n",
    "  model.add(tf.keras.layers.Dense(N_CLASSES, activation='sigmoid'))\n",
    "\n",
    "  print(model.summary())\n",
    "\n",
    "  model.compile(loss = 'binary_crossentropy',\n",
    "                optimizer = tf.keras.optimizers.Adam(learning_rate = learning_rate),\n",
    "                metrics = [precision, recall, f1, accuracy, 'binary_accuracy'])\n",
    "\n",
    "\n",
    "\n",
    "  return model\n",
    "#metrics = [precision, recall, f1, accuracy, tf.keras.metrics.AUC()]"
   ]
  },
  {
   "cell_type": "code",
   "execution_count": 52,
   "metadata": {
    "colab": {
     "base_uri": "https://localhost:8080/"
    },
    "id": "viK8tLgVnXLW",
    "outputId": "e87f6913-1deb-4dd9-aaa9-17969abb53ca"
   },
   "outputs": [
    {
     "name": "stdout",
     "output_type": "stream",
     "text": [
      "Requirement already satisfied: keras-tuner in /usr/local/lib/python3.10/dist-packages (1.4.6)\n",
      "Requirement already satisfied: keras in /usr/local/lib/python3.10/dist-packages (from keras-tuner) (2.15.0)\n",
      "Requirement already satisfied: packaging in /usr/local/lib/python3.10/dist-packages (from keras-tuner) (23.2)\n",
      "Requirement already satisfied: requests in /usr/local/lib/python3.10/dist-packages (from keras-tuner) (2.31.0)\n",
      "Requirement already satisfied: kt-legacy in /usr/local/lib/python3.10/dist-packages (from keras-tuner) (1.0.5)\n",
      "Requirement already satisfied: charset-normalizer<4,>=2 in /usr/local/lib/python3.10/dist-packages (from requests->keras-tuner) (3.3.2)\n",
      "Requirement already satisfied: idna<4,>=2.5 in /usr/local/lib/python3.10/dist-packages (from requests->keras-tuner) (3.6)\n",
      "Requirement already satisfied: urllib3<3,>=1.21.1 in /usr/local/lib/python3.10/dist-packages (from requests->keras-tuner) (2.0.7)\n",
      "Requirement already satisfied: certifi>=2017.4.17 in /usr/local/lib/python3.10/dist-packages (from requests->keras-tuner) (2024.2.2)\n"
     ]
    }
   ],
   "source": [
    "!pip install keras-tuner"
   ]
  },
  {
   "cell_type": "code",
   "execution_count": 56,
   "metadata": {
    "colab": {
     "base_uri": "https://localhost:8080/"
    },
    "id": "B8RqGzLElvQh",
    "outputId": "b3d1a790-7739-47cf-ad54-1b480ea28f16"
   },
   "outputs": [
    {
     "name": "stdout",
     "output_type": "stream",
     "text": [
      "Trial 10 Complete [00h 03m 24s]\n",
      "val_binary_accuracy: 0.6800000071525574\n",
      "\n",
      "Best val_binary_accuracy So Far: 0.8416666388511658\n",
      "Total elapsed time: 00h 20m 42s\n"
     ]
    }
   ],
   "source": [
    "from keras_tuner.tuners import RandomSearch\n",
    "import keras_tuner as kt\n",
    "tuner = RandomSearch(\n",
    "    build_model,\n",
    "    objective=kt.Objective('val_binary_accuracy', direction='max'),\n",
    "    max_trials=7,\n",
    "    executions_per_trial=1,\n",
    "    directory='keras_tuner_logs',\n",
    "    project_name='hyperparameter_tuning_cnn'\n",
    ")\n",
    "\n",
    "\n",
    "tuner.search(\n",
    "    train_pad,\n",
    "    y_train,\n",
    "    validation_data=(dev_pad, y_dev),\n",
    "    batch_size=256,\n",
    "    epochs=30,\n",
    "    shuffle=True,\n",
    "    callbacks=[\n",
    "        tf.keras.callbacks.EarlyStopping(monitor='val_binary_accuracy', patience=20, restore_best_weights=True)\n",
    "    ]\n",
    ")\n",
    "\n",
    "\n",
    "best_hp = tuner.get_best_hyperparameters(num_trials=1)[0]"
   ]
  },
  {
   "cell_type": "code",
   "execution_count": 57,
   "metadata": {
    "colab": {
     "base_uri": "https://localhost:8080/"
    },
    "id": "b79JTHkanR5m",
    "outputId": "ed54040b-03ba-41b5-eb4f-1f533069ba2f"
   },
   "outputs": [
    {
     "name": "stdout",
     "output_type": "stream",
     "text": [
      "Best hyperparameters:\n",
      "Kernel Size: 1\n",
      "Dropout Rate: 0.35000000000000003\n",
      "Number of convolution layers: 1\n",
      "Learning rate:  0.001\n"
     ]
    }
   ],
   "source": [
    "best_kernel_size = best_hp.get('kernel_size')\n",
    "best_dropout_rate = best_hp.get('dropout_rate')\n",
    "best_learning_rate = best_hp.get('learning_rate')\n",
    "best_num_conv_layers = best_hp.get('num_conv_layers')\n",
    "\n",
    "print(\"Best hyperparameters:\")\n",
    "print(\"Kernel Size:\", best_kernel_size)\n",
    "print(\"Dropout Rate:\", best_dropout_rate)\n",
    "print(\"Number of convolution layers:\", best_num_conv_layers)\n",
    "print(\"Learning rate: \", best_learning_rate)"
   ]
  },
  {
   "cell_type": "code",
   "execution_count": 58,
   "metadata": {
    "colab": {
     "base_uri": "https://localhost:8080/"
    },
    "id": "F0B1hEsFnQ5N",
    "outputId": "a6ddd656-e8ed-450d-84fa-6a9b970a43eb"
   },
   "outputs": [
    {
     "name": "stdout",
     "output_type": "stream",
     "text": [
      "Model: \"sequential_1\"\n",
      "_________________________________________________________________\n",
      " Layer (type)                Output Shape              Param #   \n",
      "=================================================================\n",
      " embedding_1 (Embedding)     (None, 451, 300)          30000000  \n",
      "                                                                 \n",
      " dropout_2 (Dropout)         (None, 451, 300)          0         \n",
      "                                                                 \n",
      " conv1d_5 (Conv1D)           (None, 451, 300)          90300     \n",
      "                                                                 \n",
      " global_max_pooling1d_1 (Gl  (None, 300)               0         \n",
      " obalMaxPooling1D)                                               \n",
      "                                                                 \n",
      " dropout_3 (Dropout)         (None, 300)               0         \n",
      "                                                                 \n",
      " dense_2 (Dense)             (None, 64)                19264     \n",
      "                                                                 \n",
      " dense_3 (Dense)             (None, 2)                 130       \n",
      "                                                                 \n",
      "=================================================================\n",
      "Total params: 30109694 (114.86 MB)\n",
      "Trainable params: 109694 (428.49 KB)\n",
      "Non-trainable params: 30000000 (114.44 MB)\n",
      "_________________________________________________________________\n",
      "None\n",
      "Epoch 1/30\n",
      "11/11 [==============================] - 2s 106ms/step - loss: 0.6941 - precision: 0.5092 - recall: 0.5315 - f1: 0.5178 - accuracy: 0.5116 - binary_accuracy: 0.5116 - val_loss: 0.6951 - val_precision: 0.4960 - val_recall: 0.4960 - val_f1: 0.4960 - val_accuracy: 0.4917 - val_binary_accuracy: 0.4917\n",
      "Epoch 2/30\n",
      "11/11 [==============================] - 1s 57ms/step - loss: 0.6925 - precision: 0.5177 - recall: 0.4848 - f1: 0.4935 - accuracy: 0.5154 - binary_accuracy: 0.5154 - val_loss: 0.6901 - val_precision: 0.5223 - val_recall: 0.9807 - val_f1: 0.6816 - val_accuracy: 0.5408 - val_binary_accuracy: 0.5408\n",
      "Epoch 3/30\n",
      "11/11 [==============================] - 0s 44ms/step - loss: 0.6904 - precision: 0.5208 - recall: 0.5424 - f1: 0.5300 - accuracy: 0.5227 - binary_accuracy: 0.5227 - val_loss: 0.6891 - val_precision: 0.4960 - val_recall: 0.4960 - val_f1: 0.4960 - val_accuracy: 0.4917 - val_binary_accuracy: 0.4917\n",
      "Epoch 4/30\n",
      "11/11 [==============================] - 1s 56ms/step - loss: 0.6861 - precision: 0.5714 - recall: 0.4924 - f1: 0.5276 - accuracy: 0.5621 - binary_accuracy: 0.5621 - val_loss: 0.6834 - val_precision: 0.5888 - val_recall: 0.5851 - val_f1: 0.5869 - val_accuracy: 0.5875 - val_binary_accuracy: 0.5875\n",
      "Epoch 5/30\n",
      "11/11 [==============================] - 1s 65ms/step - loss: 0.6815 - precision: 0.5823 - recall: 0.5858 - f1: 0.5835 - accuracy: 0.5821 - binary_accuracy: 0.5821 - val_loss: 0.6757 - val_precision: 0.7063 - val_recall: 0.6237 - val_f1: 0.6624 - val_accuracy: 0.6808 - val_binary_accuracy: 0.6808\n",
      "Epoch 6/30\n",
      "11/11 [==============================] - 1s 64ms/step - loss: 0.6745 - precision: 0.5984 - recall: 0.5817 - f1: 0.5897 - accuracy: 0.5954 - binary_accuracy: 0.5954 - val_loss: 0.6647 - val_precision: 0.7419 - val_recall: 0.6712 - val_f1: 0.7047 - val_accuracy: 0.7150 - val_binary_accuracy: 0.7150\n",
      "Epoch 7/30\n",
      "11/11 [==============================] - 1s 61ms/step - loss: 0.6626 - precision: 0.6319 - recall: 0.6263 - f1: 0.6288 - accuracy: 0.6309 - binary_accuracy: 0.6309 - val_loss: 0.6492 - val_precision: 0.7269 - val_recall: 0.7472 - val_f1: 0.7368 - val_accuracy: 0.7300 - val_binary_accuracy: 0.7300\n",
      "Epoch 8/30\n",
      "11/11 [==============================] - 1s 58ms/step - loss: 0.6465 - precision: 0.6456 - recall: 0.6434 - f1: 0.6442 - accuracy: 0.6450 - binary_accuracy: 0.6450 - val_loss: 0.6295 - val_precision: 0.7449 - val_recall: 0.7151 - val_f1: 0.7297 - val_accuracy: 0.7325 - val_binary_accuracy: 0.7325\n",
      "Epoch 9/30\n",
      "11/11 [==============================] - 0s 44ms/step - loss: 0.6287 - precision: 0.6714 - recall: 0.6702 - f1: 0.6706 - accuracy: 0.6714 - binary_accuracy: 0.6714 - val_loss: 0.6096 - val_precision: 0.7306 - val_recall: 0.7099 - val_f1: 0.7200 - val_accuracy: 0.7167 - val_binary_accuracy: 0.7167\n",
      "Epoch 10/30\n",
      "11/11 [==============================] - 0s 42ms/step - loss: 0.6102 - precision: 0.6731 - recall: 0.6779 - f1: 0.6753 - accuracy: 0.6743 - binary_accuracy: 0.6743 - val_loss: 0.5970 - val_precision: 0.7167 - val_recall: 0.6993 - val_f1: 0.7079 - val_accuracy: 0.7025 - val_binary_accuracy: 0.7025\n",
      "Epoch 11/30\n",
      "11/11 [==============================] - 0s 44ms/step - loss: 0.5975 - precision: 0.6881 - recall: 0.6883 - f1: 0.6875 - accuracy: 0.6873 - binary_accuracy: 0.6873 - val_loss: 0.5789 - val_precision: 0.7195 - val_recall: 0.7460 - val_f1: 0.7324 - val_accuracy: 0.7192 - val_binary_accuracy: 0.7192\n",
      "Epoch 12/30\n",
      "11/11 [==============================] - 1s 57ms/step - loss: 0.5832 - precision: 0.6994 - recall: 0.6797 - f1: 0.6889 - accuracy: 0.6936 - binary_accuracy: 0.6936 - val_loss: 0.5557 - val_precision: 0.7391 - val_recall: 0.7911 - val_f1: 0.7642 - val_accuracy: 0.7508 - val_binary_accuracy: 0.7508\n",
      "Epoch 13/30\n",
      "11/11 [==============================] - 1s 56ms/step - loss: 0.5668 - precision: 0.7023 - recall: 0.7112 - f1: 0.7060 - accuracy: 0.7036 - binary_accuracy: 0.7036 - val_loss: 0.5396 - val_precision: 0.7862 - val_recall: 0.7509 - val_f1: 0.7681 - val_accuracy: 0.7675 - val_binary_accuracy: 0.7675\n",
      "Epoch 14/30\n",
      "11/11 [==============================] - 1s 59ms/step - loss: 0.5469 - precision: 0.7253 - recall: 0.7339 - f1: 0.7294 - accuracy: 0.7282 - binary_accuracy: 0.7282 - val_loss: 0.5268 - val_precision: 0.7812 - val_recall: 0.7821 - val_f1: 0.7816 - val_accuracy: 0.7775 - val_binary_accuracy: 0.7775\n",
      "Epoch 15/30\n",
      "11/11 [==============================] - 1s 57ms/step - loss: 0.5343 - precision: 0.7372 - recall: 0.7259 - f1: 0.7315 - accuracy: 0.7334 - binary_accuracy: 0.7334 - val_loss: 0.5094 - val_precision: 0.7950 - val_recall: 0.8001 - val_f1: 0.7975 - val_accuracy: 0.7908 - val_binary_accuracy: 0.7908\n",
      "Epoch 16/30\n",
      "11/11 [==============================] - 1s 57ms/step - loss: 0.5127 - precision: 0.7521 - recall: 0.7514 - f1: 0.7517 - accuracy: 0.7518 - binary_accuracy: 0.7518 - val_loss: 0.4948 - val_precision: 0.8010 - val_recall: 0.7937 - val_f1: 0.7973 - val_accuracy: 0.7942 - val_binary_accuracy: 0.7942\n",
      "Epoch 17/30\n",
      "11/11 [==============================] - 1s 56ms/step - loss: 0.4906 - precision: 0.7666 - recall: 0.7734 - f1: 0.7700 - accuracy: 0.7691 - binary_accuracy: 0.7691 - val_loss: 0.4786 - val_precision: 0.8068 - val_recall: 0.8015 - val_f1: 0.8041 - val_accuracy: 0.8008 - val_binary_accuracy: 0.8008\n",
      "Epoch 18/30\n",
      "11/11 [==============================] - 1s 56ms/step - loss: 0.4846 - precision: 0.7729 - recall: 0.7640 - f1: 0.7684 - accuracy: 0.7696 - binary_accuracy: 0.7696 - val_loss: 0.4659 - val_precision: 0.8161 - val_recall: 0.8130 - val_f1: 0.8146 - val_accuracy: 0.8108 - val_binary_accuracy: 0.8108\n",
      "Epoch 19/30\n",
      "11/11 [==============================] - 0s 42ms/step - loss: 0.4684 - precision: 0.7895 - recall: 0.7901 - f1: 0.7898 - accuracy: 0.7895 - binary_accuracy: 0.7895 - val_loss: 0.4669 - val_precision: 0.7829 - val_recall: 0.7749 - val_f1: 0.7789 - val_accuracy: 0.7900 - val_binary_accuracy: 0.7900\n",
      "Epoch 20/30\n",
      "11/11 [==============================] - 0s 44ms/step - loss: 0.4477 - precision: 0.7920 - recall: 0.7937 - f1: 0.7928 - accuracy: 0.7929 - binary_accuracy: 0.7929 - val_loss: 0.4510 - val_precision: 0.7993 - val_recall: 0.7889 - val_f1: 0.7941 - val_accuracy: 0.8033 - val_binary_accuracy: 0.8033\n",
      "Epoch 21/30\n",
      "11/11 [==============================] - 1s 57ms/step - loss: 0.4288 - precision: 0.7981 - recall: 0.7994 - f1: 0.7987 - accuracy: 0.7984 - binary_accuracy: 0.7984 - val_loss: 0.4329 - val_precision: 0.8141 - val_recall: 0.8069 - val_f1: 0.8105 - val_accuracy: 0.8158 - val_binary_accuracy: 0.8158\n",
      "Epoch 22/30\n",
      "11/11 [==============================] - 1s 57ms/step - loss: 0.4184 - precision: 0.8063 - recall: 0.8067 - f1: 0.8065 - accuracy: 0.8062 - binary_accuracy: 0.8062 - val_loss: 0.4236 - val_precision: 0.8273 - val_recall: 0.8272 - val_f1: 0.8272 - val_accuracy: 0.8250 - val_binary_accuracy: 0.8250\n",
      "Epoch 23/30\n",
      "11/11 [==============================] - 1s 59ms/step - loss: 0.4075 - precision: 0.8253 - recall: 0.8234 - f1: 0.8244 - accuracy: 0.8243 - binary_accuracy: 0.8243 - val_loss: 0.4145 - val_precision: 0.8288 - val_recall: 0.8298 - val_f1: 0.8293 - val_accuracy: 0.8275 - val_binary_accuracy: 0.8275\n",
      "Epoch 24/30\n",
      "11/11 [==============================] - 0s 44ms/step - loss: 0.3899 - precision: 0.8271 - recall: 0.8239 - f1: 0.8255 - accuracy: 0.8259 - binary_accuracy: 0.8259 - val_loss: 0.4070 - val_precision: 0.8179 - val_recall: 0.8198 - val_f1: 0.8189 - val_accuracy: 0.8267 - val_binary_accuracy: 0.8267\n",
      "Epoch 25/30\n",
      "11/11 [==============================] - 1s 62ms/step - loss: 0.3751 - precision: 0.8304 - recall: 0.8344 - f1: 0.8324 - accuracy: 0.8318 - binary_accuracy: 0.8318 - val_loss: 0.3968 - val_precision: 0.8292 - val_recall: 0.8261 - val_f1: 0.8277 - val_accuracy: 0.8292 - val_binary_accuracy: 0.8292\n",
      "Epoch 26/30\n",
      "11/11 [==============================] - 1s 64ms/step - loss: 0.3749 - precision: 0.8347 - recall: 0.8344 - f1: 0.8346 - accuracy: 0.8345 - binary_accuracy: 0.8345 - val_loss: 0.3899 - val_precision: 0.8259 - val_recall: 0.8237 - val_f1: 0.8248 - val_accuracy: 0.8333 - val_binary_accuracy: 0.8333\n",
      "Epoch 27/30\n",
      "11/11 [==============================] - 1s 63ms/step - loss: 0.3724 - precision: 0.8363 - recall: 0.8390 - f1: 0.8377 - accuracy: 0.8373 - binary_accuracy: 0.8373 - val_loss: 0.3845 - val_precision: 0.8386 - val_recall: 0.8428 - val_f1: 0.8407 - val_accuracy: 0.8417 - val_binary_accuracy: 0.8417\n",
      "Epoch 28/30\n",
      "11/11 [==============================] - 0s 43ms/step - loss: 0.3529 - precision: 0.8483 - recall: 0.8472 - f1: 0.8477 - accuracy: 0.8479 - binary_accuracy: 0.8479 - val_loss: 0.3753 - val_precision: 0.8346 - val_recall: 0.8313 - val_f1: 0.8329 - val_accuracy: 0.8375 - val_binary_accuracy: 0.8375\n",
      "Epoch 29/30\n",
      "11/11 [==============================] - 1s 59ms/step - loss: 0.3258 - precision: 0.8648 - recall: 0.8660 - f1: 0.8654 - accuracy: 0.8654 - binary_accuracy: 0.8654 - val_loss: 0.3714 - val_precision: 0.8404 - val_recall: 0.8404 - val_f1: 0.8404 - val_accuracy: 0.8467 - val_binary_accuracy: 0.8467\n",
      "Epoch 30/30\n",
      "11/11 [==============================] - 1s 57ms/step - loss: 0.3292 - precision: 0.8503 - recall: 0.8514 - f1: 0.8509 - accuracy: 0.8507 - binary_accuracy: 0.8507 - val_loss: 0.3662 - val_precision: 0.8428 - val_recall: 0.8417 - val_f1: 0.8423 - val_accuracy: 0.8492 - val_binary_accuracy: 0.8492\n"
     ]
    }
   ],
   "source": [
    "best_model = tuner.hypermodel.build(best_hp)       #build model with the best hyperparameters\n",
    "\n",
    "history = best_model.fit(\n",
    "    train_pad,\n",
    "    y_train,\n",
    "    validation_data=(dev_pad, y_dev),\n",
    "    batch_size=256,\n",
    "    epochs=30,\n",
    "    shuffle=True,\n",
    "    callbacks=[\n",
    "        tf.keras.callbacks.EarlyStopping(monitor='val_binary_accuracy', patience=20, restore_best_weights=True)\n",
    "    ]\n",
    ")"
   ]
  },
  {
   "cell_type": "markdown",
   "metadata": {
    "id": "xCWpPeFxo_0T"
   },
   "source": [
    "##Visualize Model's Training History"
   ]
  },
  {
   "cell_type": "code",
   "execution_count": 59,
   "metadata": {
    "colab": {
     "base_uri": "https://localhost:8080/",
     "height": 927
    },
    "id": "0R_Fz0V7pAxz",
    "outputId": "b19c6391-33d0-4243-b2a8-c517144cf602"
   },
   "outputs": [
    {
     "data": {
      "image/png": "[encoded data removed]",
      "text/plain": [
       "<Figure size 640x480 with 1 Axes>"
      ]
     },
     "metadata": {},
     "output_type": "display_data"
    },
    {
     "data": {
      "image/png": "[encoded data removed]",
      "text/plain": [
       "<Figure size 640x480 with 1 Axes>"
      ]
     },
     "metadata": {},
     "output_type": "display_data"
    }
   ],
   "source": [
    "%matplotlib inline\n",
    "import matplotlib.pyplot as plt\n",
    "\n",
    "# summarize history for accuracy\n",
    "plt.plot(history.history['binary_accuracy'])\n",
    "plt.plot(history.history['val_binary_accuracy'])\n",
    "plt.title('model accuracy')\n",
    "plt.ylabel('accuracy')\n",
    "plt.xlabel('epoch')\n",
    "plt.legend(['train', 'dev'], loc='upper left')\n",
    "plt.show()\n",
    "\n",
    "# summarize history for loss\n",
    "plt.plot(history.history['loss'])\n",
    "plt.plot(history.history['val_loss'])\n",
    "plt.title('model loss')\n",
    "plt.ylabel('loss')\n",
    "plt.xlabel('epoch')\n",
    "plt.legend(['train', 'dev'], loc='upper right')\n",
    "plt.show()"
   ]
  },
  {
   "cell_type": "markdown",
   "metadata": {
    "id": "X5t8A8JTpCrH"
   },
   "source": [
    "## Metrics - Classification Report"
   ]
  },
  {
   "cell_type": "code",
   "execution_count": 61,
   "metadata": {
    "id": "NVigp-H2pEsT"
   },
   "outputs": [],
   "source": [
    "from sklearn.metrics import roc_auc_score\n",
    "\n",
    "def calculate_auc_scores(model, data, labels):\n",
    "    predictions = np.argmax(model.predict(data, verbose=0), -1)\n",
    "    true_labels = np.argmax(labels, -1)\n",
    "    auc_scores = []\n",
    "    for class_index in range(labels.shape[1]):\n",
    "        class_true = (true_labels == class_index).astype(int)\n",
    "        class_probs = model.predict(data, verbose=0)[:, class_index]\n",
    "        roc_auc = roc_auc_score(class_true, class_probs)\n",
    "        auc_scores.append(roc_auc)\n",
    "    macro_auc = np.mean(auc_scores)\n",
    "    return auc_scores, macro_auc"
   ]
  },
  {
   "cell_type": "code",
   "execution_count": 62,
   "metadata": {
    "colab": {
     "base_uri": "https://localhost:8080/"
    },
    "id": "XnmnkBbhpGya",
    "outputId": "8429ecd7-2f10-4c13-b7a8-6a093b610b4a"
   },
   "outputs": [
    {
     "name": "stdout",
     "output_type": "stream",
     "text": [
      "Classification report - Training set\n",
      "------------------------\n",
      "              precision    recall  f1-score   support\n",
      "\n",
      "           0       0.92      0.95      0.93      1376\n",
      "           1       0.95      0.92      0.93      1424\n",
      "\n",
      "    accuracy                           0.93      2800\n",
      "   macro avg       0.93      0.93      0.93      2800\n",
      "weighted avg       0.93      0.93      0.93      2800\n",
      "\n"
     ]
    }
   ],
   "source": [
    "from sklearn.metrics import classification_report\n",
    "\n",
    "\n",
    "predictions_train = np.argmax(best_model.predict(train_pad, verbose=0), -1)\n",
    "y_train_ = np.argmax(y_train, -1)\n",
    "print('Classification report - Training set')\n",
    "print('------------------------')\n",
    "print(classification_report(y_train_, predictions_train))"
   ]
  },
  {
   "cell_type": "code",
   "execution_count": 63,
   "metadata": {
    "colab": {
     "base_uri": "https://localhost:8080/"
    },
    "id": "wBG4cWvTpaU6",
    "outputId": "35dddca5-e980-401b-cc04-5326184816e5"
   },
   "outputs": [
    {
     "name": "stdout",
     "output_type": "stream",
     "text": [
      "Classification report - Development set\n",
      "------------------------\n",
      "              precision    recall  f1-score   support\n",
      "\n",
      "           0       0.84      0.87      0.86       305\n",
      "           1       0.86      0.83      0.85       295\n",
      "\n",
      "    accuracy                           0.85       600\n",
      "   macro avg       0.85      0.85      0.85       600\n",
      "weighted avg       0.85      0.85      0.85       600\n",
      "\n"
     ]
    }
   ],
   "source": [
    "predictions_dev = np.argmax(best_model.predict(dev_pad, verbose=0), -1)\n",
    "y_dev_ = np.argmax(y_dev, -1)\n",
    "print('Classification report - Development set')\n",
    "print('------------------------')\n",
    "print(classification_report(y_dev_, predictions_dev))"
   ]
  },
  {
   "cell_type": "code",
   "execution_count": 64,
   "metadata": {
    "colab": {
     "base_uri": "https://localhost:8080/"
    },
    "id": "I5HVO820pIlU",
    "outputId": "e78e1b91-923e-48de-d739-45acf58933a0"
   },
   "outputs": [
    {
     "name": "stdout",
     "output_type": "stream",
     "text": [
      "Classification report - Test set\n",
      "---------------------------\n",
      "              precision    recall  f1-score   support\n",
      "\n",
      "           0       0.86      0.87      0.86       319\n",
      "           1       0.85      0.84      0.84       281\n",
      "\n",
      "    accuracy                           0.85       600\n",
      "   macro avg       0.85      0.85      0.85       600\n",
      "weighted avg       0.85      0.85      0.85       600\n",
      "\n"
     ]
    }
   ],
   "source": [
    "predictions_test = np.argmax(best_model.predict(test_pad, verbose=0), -1)\n",
    "y_test_ = np.argmax(y_test, -1)\n",
    "print('Classification report - Test set')\n",
    "print('---------------------------')\n",
    "print(classification_report(y_test_, predictions_test))"
   ]
  },
  {
   "cell_type": "code",
   "execution_count": 65,
   "metadata": {
    "colab": {
     "base_uri": "https://localhost:8080/"
    },
    "id": "1vPiPGeXpb1e",
    "outputId": "3069dea8-aed4-4a92-8c4d-87827d464312"
   },
   "outputs": [
    {
     "name": "stdout",
     "output_type": "stream",
     "text": [
      "Train AUC Scores:\n",
      "Class 0: 0.9821753739874576\n",
      "Class 1: 0.9827321702704468\n",
      "Train Macro AUC: 0.9824537721289521\n",
      "\n",
      "Dev AUC Scores:\n",
      "Class 0: 0.9181661572659071\n",
      "Class 1: 0.918488469019172\n",
      "Dev Macro AUC: 0.9183273131425396\n",
      "\n",
      "Test AUC Scores:\n",
      "Class 0: 0.9187184149756246\n",
      "Class 1: 0.9194770133535627\n",
      "Test Macro AUC: 0.9190977141645936\n"
     ]
    }
   ],
   "source": [
    "train_auc_scores, train_macro_auc = calculate_auc_scores(best_model, train_pad, y_train)\n",
    "dev_auc_scores, dev_macro_auc = calculate_auc_scores(best_model, dev_pad, y_dev)\n",
    "test_auc_scores, test_macro_auc = calculate_auc_scores(best_model, test_pad, y_test)\n",
    "\n",
    "print(\"Train AUC Scores:\")\n",
    "for class_index, auc_score in enumerate(train_auc_scores):\n",
    "    print(f\"Class {class_index}: {auc_score}\")\n",
    "print(f\"Train Macro AUC: {train_macro_auc}\")\n",
    "\n",
    "print(\"\\nDev AUC Scores:\")\n",
    "for class_index, auc_score in enumerate(dev_auc_scores):\n",
    "    print(f\"Class {class_index}: {auc_score}\")\n",
    "print(f\"Dev Macro AUC: {dev_macro_auc}\")\n",
    "\n",
    "print(\"\\nTest AUC Scores:\")\n",
    "for class_index, auc_score in enumerate(test_auc_scores):\n",
    "    print(f\"Class {class_index}: {auc_score}\")\n",
    "print(f\"Test Macro AUC: {test_macro_auc}\")"
   ]
  }
 ],
 "metadata": {
  "accelerator": "GPU",
  "colab": {
   "gpuType": "T4",
   "provenance": []
  },
  "kernelspec": {
   "display_name": "Python 3 (ipykernel)",
   "language": "python",
   "name": "python3"
  },
  "language_info": {
   "codemirror_mode": {
    "name": "ipython",
    "version": 3
   },
   "file_extension": ".py",
   "mimetype": "text/x-python",
   "name": "python",
   "nbconvert_exporter": "python",
   "pygments_lexer": "ipython3",
   "version": "3.12.1"
  },
  "widgets": {
   "application/vnd.jupyter.widget-state+json": {
    "013780b8220d46b789a0563c722ddde9": {
     "model_module": "@jupyter-widgets/controls",
     "model_module_version": "1.5.0",
     "model_name": "DescriptionStyleModel",
     "state": {
      "_model_module": "@jupyter-widgets/controls",
      "_model_module_version": "1.5.0",
      "_model_name": "DescriptionStyleModel",
      "_view_count": null,
      "_view_module": "@jupyter-widgets/base",
      "_view_module_version": "1.2.0",
      "_view_name": "StyleView",
      "description_width": ""
     }
    },
    "05bf805a86464be4aa034563ca5f6f61": {
     "model_module": "@jupyter-widgets/base",
     "model_module_version": "1.2.0",
     "model_name": "LayoutModel",
     "state": {
      "_model_module": "@jupyter-widgets/base",
      "_model_module_version": "1.2.0",
      "_model_name": "LayoutModel",
      "_view_count": null,
      "_view_module": "@jupyter-widgets/base",
      "_view_module_version": "1.2.0",
      "_view_name": "LayoutView",
      "align_content": null,
      "align_items": null,
      "align_self": null,
      "border": null,
      "bottom": null,
      "display": null,
      "flex": null,
      "flex_flow": null,
      "grid_area": null,
      "grid_auto_columns": null,
      "grid_auto_flow": null,
      "grid_auto_rows": null,
      "grid_column": null,
      "grid_gap": null,
      "grid_row": null,
      "grid_template_areas": null,
      "grid_template_columns": null,
      "grid_template_rows": null,
      "height": null,
      "justify_content": null,
      "justify_items": null,
      "left": null,
      "margin": null,
      "max_height": null,
      "max_width": null,
      "min_height": null,
      "min_width": null,
      "object_fit": null,
      "object_position": null,
      "order": null,
      "overflow": null,
      "overflow_x": null,
      "overflow_y": null,
      "padding": null,
      "right": null,
      "top": null,
      "visibility": null,
      "width": null
     }
    },
    "07999654d5ec4ea1943241476ed5c1f3": {
     "model_module": "@jupyter-widgets/controls",
     "model_module_version": "1.5.0",
     "model_name": "HTMLModel",
     "state": {
      "_dom_classes": [],
      "_model_module": "@jupyter-widgets/controls",
      "_model_module_version": "1.5.0",
      "_model_name": "HTMLModel",
      "_view_count": null,
      "_view_module": "@jupyter-widgets/controls",
      "_view_module_version": "1.5.0",
      "_view_name": "HTMLView",
      "description": "",
      "description_tooltip": null,
      "layout": "IPY_MODEL_c1c93269e42b46b4941636c3e483713f",
      "placeholder": "​",
      "style": "IPY_MODEL_e85c46e7ba5f40f7ac8e02af62d0b480",
      "value": " 2800/2800 [01:08&lt;00:00, 34.57it/s]"
     }
    },
    "0b199aced4834b84a22f8bb57104d011": {
     "model_module": "@jupyter-widgets/controls",
     "model_module_version": "1.5.0",
     "model_name": "HTMLModel",
     "state": {
      "_dom_classes": [],
      "_model_module": "@jupyter-widgets/controls",
      "_model_module_version": "1.5.0",
      "_model_name": "HTMLModel",
      "_view_count": null,
      "_view_module": "@jupyter-widgets/controls",
      "_view_module_version": "1.5.0",
      "_view_name": "HTMLView",
      "description": "",
      "description_tooltip": null,
      "layout": "IPY_MODEL_f2244db97e374944b75e07cde1adced6",
      "placeholder": "​",
      "style": "IPY_MODEL_beda64c3be1e4ec89652db8a6fb15a28",
      "value": "100%"
     }
    },
    "11f233c780c64a3d9272c4c16b0ec4ee": {
     "model_module": "@jupyter-widgets/base",
     "model_module_version": "1.2.0",
     "model_name": "LayoutModel",
     "state": {
      "_model_module": "@jupyter-widgets/base",
      "_model_module_version": "1.2.0",
      "_model_name": "LayoutModel",
      "_view_count": null,
      "_view_module": "@jupyter-widgets/base",
      "_view_module_version": "1.2.0",
      "_view_name": "LayoutView",
      "align_content": null,
      "align_items": null,
      "align_self": null,
      "border": null,
      "bottom": null,
      "display": null,
      "flex": null,
      "flex_flow": null,
      "grid_area": null,
      "grid_auto_columns": null,
      "grid_auto_flow": null,
      "grid_auto_rows": null,
      "grid_column": null,
      "grid_gap": null,
      "grid_row": null,
      "grid_template_areas": null,
      "grid_template_columns": null,
      "grid_template_rows": null,
      "height": null,
      "justify_content": null,
      "justify_items": null,
      "left": null,
      "margin": null,
      "max_height": null,
      "max_width": null,
      "min_height": null,
      "min_width": null,
      "object_fit": null,
      "object_position": null,
      "order": null,
      "overflow": null,
      "overflow_x": null,
      "overflow_y": null,
      "padding": null,
      "right": null,
      "top": null,
      "visibility": null,
      "width": null
     }
    },
    "1bb0e900845243b2ad0be14d2804c516": {
     "model_module": "@jupyter-widgets/controls",
     "model_module_version": "1.5.0",
     "model_name": "HTMLModel",
     "state": {
      "_dom_classes": [],
      "_model_module": "@jupyter-widgets/controls",
      "_model_module_version": "1.5.0",
      "_model_name": "HTMLModel",
      "_view_count": null,
      "_view_module": "@jupyter-widgets/controls",
      "_view_module_version": "1.5.0",
      "_view_name": "HTMLView",
      "description": "",
      "description_tooltip": null,
      "layout": "IPY_MODEL_05bf805a86464be4aa034563ca5f6f61",
      "placeholder": "​",
      "style": "IPY_MODEL_f2124ec835c141fdac35fa7605bcbedc",
      "value": " 600/600 [00:14&lt;00:00, 43.21it/s]"
     }
    },
    "213f9f020d804841b58ffb6ed676a1a9": {
     "model_module": "@jupyter-widgets/controls",
     "model_module_version": "1.5.0",
     "model_name": "HTMLModel",
     "state": {
      "_dom_classes": [],
      "_model_module": "@jupyter-widgets/controls",
      "_model_module_version": "1.5.0",
      "_model_name": "HTMLModel",
      "_view_count": null,
      "_view_module": "@jupyter-widgets/controls",
      "_view_module_version": "1.5.0",
      "_view_name": "HTMLView",
      "description": "",
      "description_tooltip": null,
      "layout": "IPY_MODEL_3818a97628cf44b29b91126b9d57d487",
      "placeholder": "​",
      "style": "IPY_MODEL_fddf58b66f004df29f3b63cf50cb620c",
      "value": " 600/600 [00:14&lt;00:00, 43.32it/s]"
     }
    },
    "2591cf08f6f845b29e601dcbea12ac57": {
     "model_module": "@jupyter-widgets/controls",
     "model_module_version": "1.5.0",
     "model_name": "HBoxModel",
     "state": {
      "_dom_classes": [],
      "_model_module": "@jupyter-widgets/controls",
      "_model_module_version": "1.5.0",
      "_model_name": "HBoxModel",
      "_view_count": null,
      "_view_module": "@jupyter-widgets/controls",
      "_view_module_version": "1.5.0",
      "_view_name": "HBoxView",
      "box_style": "",
      "children": [
       "IPY_MODEL_c8222aed5c1444abbf8fd294a35f50f1",
       "IPY_MODEL_dba54674320f43a7b0a84feca359311e",
       "IPY_MODEL_379b6a1935e8442fae21cdadf7c8907c"
      ],
      "layout": "IPY_MODEL_11f233c780c64a3d9272c4c16b0ec4ee"
     }
    },
    "289ea59b57f849f5a859e99b4cd5cc7f": {
     "model_module": "@jupyter-widgets/base",
     "model_module_version": "1.2.0",
     "model_name": "LayoutModel",
     "state": {
      "_model_module": "@jupyter-widgets/base",
      "_model_module_version": "1.2.0",
      "_model_name": "LayoutModel",
      "_view_count": null,
      "_view_module": "@jupyter-widgets/base",
      "_view_module_version": "1.2.0",
      "_view_name": "LayoutView",
      "align_content": null,
      "align_items": null,
      "align_self": null,
      "border": null,
      "bottom": null,
      "display": null,
      "flex": null,
      "flex_flow": null,
      "grid_area": null,
      "grid_auto_columns": null,
      "grid_auto_flow": null,
      "grid_auto_rows": null,
      "grid_column": null,
      "grid_gap": null,
      "grid_row": null,
      "grid_template_areas": null,
      "grid_template_columns": null,
      "grid_template_rows": null,
      "height": null,
      "justify_content": null,
      "justify_items": null,
      "left": null,
      "margin": null,
      "max_height": null,
      "max_width": null,
      "min_height": null,
      "min_width": null,
      "object_fit": null,
      "object_position": null,
      "order": null,
      "overflow": null,
      "overflow_x": null,
      "overflow_y": null,
      "padding": null,
      "right": null,
      "top": null,
      "visibility": null,
      "width": null
     }
    },
    "3041fd0039f24083a1572e836d21dc75": {
     "model_module": "@jupyter-widgets/controls",
     "model_module_version": "1.5.0",
     "model_name": "DescriptionStyleModel",
     "state": {
      "_model_module": "@jupyter-widgets/controls",
      "_model_module_version": "1.5.0",
      "_model_name": "DescriptionStyleModel",
      "_view_count": null,
      "_view_module": "@jupyter-widgets/base",
      "_view_module_version": "1.2.0",
      "_view_name": "StyleView",
      "description_width": ""
     }
    },
    "33d03a815ac64c2ab2acde74854493e5": {
     "model_module": "@jupyter-widgets/controls",
     "model_module_version": "1.5.0",
     "model_name": "ProgressStyleModel",
     "state": {
      "_model_module": "@jupyter-widgets/controls",
      "_model_module_version": "1.5.0",
      "_model_name": "ProgressStyleModel",
      "_view_count": null,
      "_view_module": "@jupyter-widgets/base",
      "_view_module_version": "1.2.0",
      "_view_name": "StyleView",
      "bar_color": null,
      "description_width": ""
     }
    },
    "36c925fe759a4513877bd2c1fd11c0a4": {
     "model_module": "@jupyter-widgets/controls",
     "model_module_version": "1.5.0",
     "model_name": "ProgressStyleModel",
     "state": {
      "_model_module": "@jupyter-widgets/controls",
      "_model_module_version": "1.5.0",
      "_model_name": "ProgressStyleModel",
      "_view_count": null,
      "_view_module": "@jupyter-widgets/base",
      "_view_module_version": "1.2.0",
      "_view_name": "StyleView",
      "bar_color": null,
      "description_width": ""
     }
    },
    "379b6a1935e8442fae21cdadf7c8907c": {
     "model_module": "@jupyter-widgets/controls",
     "model_module_version": "1.5.0",
     "model_name": "HTMLModel",
     "state": {
      "_dom_classes": [],
      "_model_module": "@jupyter-widgets/controls",
      "_model_module_version": "1.5.0",
      "_model_name": "HTMLModel",
      "_view_count": null,
      "_view_module": "@jupyter-widgets/controls",
      "_view_module_version": "1.5.0",
      "_view_name": "HTMLView",
      "description": "",
      "description_tooltip": null,
      "layout": "IPY_MODEL_e76f0b3e6561404791973d9fe0dfa4ba",
      "placeholder": "​",
      "style": "IPY_MODEL_013780b8220d46b789a0563c722ddde9",
      "value": " 2000/2000 [00:47&lt;00:00, 70.64it/s]"
     }
    },
    "3818a97628cf44b29b91126b9d57d487": {
     "model_module": "@jupyter-widgets/base",
     "model_module_version": "1.2.0",
     "model_name": "LayoutModel",
     "state": {
      "_model_module": "@jupyter-widgets/base",
      "_model_module_version": "1.2.0",
      "_model_name": "LayoutModel",
      "_view_count": null,
      "_view_module": "@jupyter-widgets/base",
      "_view_module_version": "1.2.0",
      "_view_name": "LayoutView",
      "align_content": null,
      "align_items": null,
      "align_self": null,
      "border": null,
      "bottom": null,
      "display": null,
      "flex": null,
      "flex_flow": null,
      "grid_area": null,
      "grid_auto_columns": null,
      "grid_auto_flow": null,
      "grid_auto_rows": null,
      "grid_column": null,
      "grid_gap": null,
      "grid_row": null,
      "grid_template_areas": null,
      "grid_template_columns": null,
      "grid_template_rows": null,
      "height": null,
      "justify_content": null,
      "justify_items": null,
      "left": null,
      "margin": null,
      "max_height": null,
      "max_width": null,
      "min_height": null,
      "min_width": null,
      "object_fit": null,
      "object_position": null,
      "order": null,
      "overflow": null,
      "overflow_x": null,
      "overflow_y": null,
      "padding": null,
      "right": null,
      "top": null,
      "visibility": null,
      "width": null
     }
    },
    "386e0d98b5754ff5848f12eb602a5821": {
     "model_module": "@jupyter-widgets/base",
     "model_module_version": "1.2.0",
     "model_name": "LayoutModel",
     "state": {
      "_model_module": "@jupyter-widgets/base",
      "_model_module_version": "1.2.0",
      "_model_name": "LayoutModel",
      "_view_count": null,
      "_view_module": "@jupyter-widgets/base",
      "_view_module_version": "1.2.0",
      "_view_name": "LayoutView",
      "align_content": null,
      "align_items": null,
      "align_self": null,
      "border": null,
      "bottom": null,
      "display": null,
      "flex": null,
      "flex_flow": null,
      "grid_area": null,
      "grid_auto_columns": null,
      "grid_auto_flow": null,
      "grid_auto_rows": null,
      "grid_column": null,
      "grid_gap": null,
      "grid_row": null,
      "grid_template_areas": null,
      "grid_template_columns": null,
      "grid_template_rows": null,
      "height": null,
      "justify_content": null,
      "justify_items": null,
      "left": null,
      "margin": null,
      "max_height": null,
      "max_width": null,
      "min_height": null,
      "min_width": null,
      "object_fit": null,
      "object_position": null,
      "order": null,
      "overflow": null,
      "overflow_x": null,
      "overflow_y": null,
      "padding": null,
      "right": null,
      "top": null,
      "visibility": null,
      "width": null
     }
    },
    "4194abcdc95a452b9475cfb43d9ebd48": {
     "model_module": "@jupyter-widgets/controls",
     "model_module_version": "1.5.0",
     "model_name": "FloatProgressModel",
     "state": {
      "_dom_classes": [],
      "_model_module": "@jupyter-widgets/controls",
      "_model_module_version": "1.5.0",
      "_model_name": "FloatProgressModel",
      "_view_count": null,
      "_view_module": "@jupyter-widgets/controls",
      "_view_module_version": "1.5.0",
      "_view_name": "ProgressView",
      "bar_style": "success",
      "description": "",
      "description_tooltip": null,
      "layout": "IPY_MODEL_afe2cf12855349a6a88e7a487fe5bfea",
      "max": 600,
      "min": 0,
      "orientation": "horizontal",
      "style": "IPY_MODEL_36c925fe759a4513877bd2c1fd11c0a4",
      "value": 600
     }
    },
    "43dcbeabd0d44a138913f804e063a556": {
     "model_module": "@jupyter-widgets/controls",
     "model_module_version": "1.5.0",
     "model_name": "FloatProgressModel",
     "state": {
      "_dom_classes": [],
      "_model_module": "@jupyter-widgets/controls",
      "_model_module_version": "1.5.0",
      "_model_name": "FloatProgressModel",
      "_view_count": null,
      "_view_module": "@jupyter-widgets/controls",
      "_view_module_version": "1.5.0",
      "_view_name": "ProgressView",
      "bar_style": "success",
      "description": "",
      "description_tooltip": null,
      "layout": "IPY_MODEL_6dbe3ef1acde4f5f9466a3e33e574d93",
      "max": 600,
      "min": 0,
      "orientation": "horizontal",
      "style": "IPY_MODEL_641027e253254db7bc2e1f0619d8f8cd",
      "value": 600
     }
    },
    "49bca4162afb4095b27e6c6ea80ecb15": {
     "model_module": "@jupyter-widgets/controls",
     "model_module_version": "1.5.0",
     "model_name": "HBoxModel",
     "state": {
      "_dom_classes": [],
      "_model_module": "@jupyter-widgets/controls",
      "_model_module_version": "1.5.0",
      "_model_name": "HBoxModel",
      "_view_count": null,
      "_view_module": "@jupyter-widgets/controls",
      "_view_module_version": "1.5.0",
      "_view_name": "HBoxView",
      "box_style": "",
      "children": [
       "IPY_MODEL_f09a7d781a374d78a6ec8fb8ca0b3c56",
       "IPY_MODEL_e28f37d0667345e586f69f5745caa1c2",
       "IPY_MODEL_07999654d5ec4ea1943241476ed5c1f3"
      ],
      "layout": "IPY_MODEL_7be396fc8bb149a1a6214f40403f3c84"
     }
    },
    "641027e253254db7bc2e1f0619d8f8cd": {
     "model_module": "@jupyter-widgets/controls",
     "model_module_version": "1.5.0",
     "model_name": "ProgressStyleModel",
     "state": {
      "_model_module": "@jupyter-widgets/controls",
      "_model_module_version": "1.5.0",
      "_model_name": "ProgressStyleModel",
      "_view_count": null,
      "_view_module": "@jupyter-widgets/base",
      "_view_module_version": "1.2.0",
      "_view_name": "StyleView",
      "bar_color": null,
      "description_width": ""
     }
    },
    "6b4b37c2c0ef47bc816e246cd336a4ae": {
     "model_module": "@jupyter-widgets/controls",
     "model_module_version": "1.5.0",
     "model_name": "DescriptionStyleModel",
     "state": {
      "_model_module": "@jupyter-widgets/controls",
      "_model_module_version": "1.5.0",
      "_model_name": "DescriptionStyleModel",
      "_view_count": null,
      "_view_module": "@jupyter-widgets/base",
      "_view_module_version": "1.2.0",
      "_view_name": "StyleView",
      "description_width": ""
     }
    },
    "6dbe3ef1acde4f5f9466a3e33e574d93": {
     "model_module": "@jupyter-widgets/base",
     "model_module_version": "1.2.0",
     "model_name": "LayoutModel",
     "state": {
      "_model_module": "@jupyter-widgets/base",
      "_model_module_version": "1.2.0",
      "_model_name": "LayoutModel",
      "_view_count": null,
      "_view_module": "@jupyter-widgets/base",
      "_view_module_version": "1.2.0",
      "_view_name": "LayoutView",
      "align_content": null,
      "align_items": null,
      "align_self": null,
      "border": null,
      "bottom": null,
      "display": null,
      "flex": null,
      "flex_flow": null,
      "grid_area": null,
      "grid_auto_columns": null,
      "grid_auto_flow": null,
      "grid_auto_rows": null,
      "grid_column": null,
      "grid_gap": null,
      "grid_row": null,
      "grid_template_areas": null,
      "grid_template_columns": null,
      "grid_template_rows": null,
      "height": null,
      "justify_content": null,
      "justify_items": null,
      "left": null,
      "margin": null,
      "max_height": null,
      "max_width": null,
      "min_height": null,
      "min_width": null,
      "object_fit": null,
      "object_position": null,
      "order": null,
      "overflow": null,
      "overflow_x": null,
      "overflow_y": null,
      "padding": null,
      "right": null,
      "top": null,
      "visibility": null,
      "width": null
     }
    },
    "7be396fc8bb149a1a6214f40403f3c84": {
     "model_module": "@jupyter-widgets/base",
     "model_module_version": "1.2.0",
     "model_name": "LayoutModel",
     "state": {
      "_model_module": "@jupyter-widgets/base",
      "_model_module_version": "1.2.0",
      "_model_name": "LayoutModel",
      "_view_count": null,
      "_view_module": "@jupyter-widgets/base",
      "_view_module_version": "1.2.0",
      "_view_name": "LayoutView",
      "align_content": null,
      "align_items": null,
      "align_self": null,
      "border": null,
      "bottom": null,
      "display": null,
      "flex": null,
      "flex_flow": null,
      "grid_area": null,
      "grid_auto_columns": null,
      "grid_auto_flow": null,
      "grid_auto_rows": null,
      "grid_column": null,
      "grid_gap": null,
      "grid_row": null,
      "grid_template_areas": null,
      "grid_template_columns": null,
      "grid_template_rows": null,
      "height": null,
      "justify_content": null,
      "justify_items": null,
      "left": null,
      "margin": null,
      "max_height": null,
      "max_width": null,
      "min_height": null,
      "min_width": null,
      "object_fit": null,
      "object_position": null,
      "order": null,
      "overflow": null,
      "overflow_x": null,
      "overflow_y": null,
      "padding": null,
      "right": null,
      "top": null,
      "visibility": null,
      "width": null
     }
    },
    "8612be4741ce444998745cc63fdf38e9": {
     "model_module": "@jupyter-widgets/base",
     "model_module_version": "1.2.0",
     "model_name": "LayoutModel",
     "state": {
      "_model_module": "@jupyter-widgets/base",
      "_model_module_version": "1.2.0",
      "_model_name": "LayoutModel",
      "_view_count": null,
      "_view_module": "@jupyter-widgets/base",
      "_view_module_version": "1.2.0",
      "_view_name": "LayoutView",
      "align_content": null,
      "align_items": null,
      "align_self": null,
      "border": null,
      "bottom": null,
      "display": null,
      "flex": null,
      "flex_flow": null,
      "grid_area": null,
      "grid_auto_columns": null,
      "grid_auto_flow": null,
      "grid_auto_rows": null,
      "grid_column": null,
      "grid_gap": null,
      "grid_row": null,
      "grid_template_areas": null,
      "grid_template_columns": null,
      "grid_template_rows": null,
      "height": null,
      "justify_content": null,
      "justify_items": null,
      "left": null,
      "margin": null,
      "max_height": null,
      "max_width": null,
      "min_height": null,
      "min_width": null,
      "object_fit": null,
      "object_position": null,
      "order": null,
      "overflow": null,
      "overflow_x": null,
      "overflow_y": null,
      "padding": null,
      "right": null,
      "top": null,
      "visibility": null,
      "width": null
     }
    },
    "95d3dae82d034807a30c3a090e9842c1": {
     "model_module": "@jupyter-widgets/controls",
     "model_module_version": "1.5.0",
     "model_name": "DescriptionStyleModel",
     "state": {
      "_model_module": "@jupyter-widgets/controls",
      "_model_module_version": "1.5.0",
      "_model_name": "DescriptionStyleModel",
      "_view_count": null,
      "_view_module": "@jupyter-widgets/base",
      "_view_module_version": "1.2.0",
      "_view_name": "StyleView",
      "description_width": ""
     }
    },
    "981b71d0a712406aabec4fcad406ed0f": {
     "model_module": "@jupyter-widgets/base",
     "model_module_version": "1.2.0",
     "model_name": "LayoutModel",
     "state": {
      "_model_module": "@jupyter-widgets/base",
      "_model_module_version": "1.2.0",
      "_model_name": "LayoutModel",
      "_view_count": null,
      "_view_module": "@jupyter-widgets/base",
      "_view_module_version": "1.2.0",
      "_view_name": "LayoutView",
      "align_content": null,
      "align_items": null,
      "align_self": null,
      "border": null,
      "bottom": null,
      "display": null,
      "flex": null,
      "flex_flow": null,
      "grid_area": null,
      "grid_auto_columns": null,
      "grid_auto_flow": null,
      "grid_auto_rows": null,
      "grid_column": null,
      "grid_gap": null,
      "grid_row": null,
      "grid_template_areas": null,
      "grid_template_columns": null,
      "grid_template_rows": null,
      "height": null,
      "justify_content": null,
      "justify_items": null,
      "left": null,
      "margin": null,
      "max_height": null,
      "max_width": null,
      "min_height": null,
      "min_width": null,
      "object_fit": null,
      "object_position": null,
      "order": null,
      "overflow": null,
      "overflow_x": null,
      "overflow_y": null,
      "padding": null,
      "right": null,
      "top": null,
      "visibility": null,
      "width": null
     }
    },
    "a853ecb20e4b4980a263de1101ff41e4": {
     "model_module": "@jupyter-widgets/controls",
     "model_module_version": "1.5.0",
     "model_name": "HTMLModel",
     "state": {
      "_dom_classes": [],
      "_model_module": "@jupyter-widgets/controls",
      "_model_module_version": "1.5.0",
      "_model_name": "HTMLModel",
      "_view_count": null,
      "_view_module": "@jupyter-widgets/controls",
      "_view_module_version": "1.5.0",
      "_view_name": "HTMLView",
      "description": "",
      "description_tooltip": null,
      "layout": "IPY_MODEL_981b71d0a712406aabec4fcad406ed0f",
      "placeholder": "​",
      "style": "IPY_MODEL_95d3dae82d034807a30c3a090e9842c1",
      "value": "100%"
     }
    },
    "afe2cf12855349a6a88e7a487fe5bfea": {
     "model_module": "@jupyter-widgets/base",
     "model_module_version": "1.2.0",
     "model_name": "LayoutModel",
     "state": {
      "_model_module": "@jupyter-widgets/base",
      "_model_module_version": "1.2.0",
      "_model_name": "LayoutModel",
      "_view_count": null,
      "_view_module": "@jupyter-widgets/base",
      "_view_module_version": "1.2.0",
      "_view_name": "LayoutView",
      "align_content": null,
      "align_items": null,
      "align_self": null,
      "border": null,
      "bottom": null,
      "display": null,
      "flex": null,
      "flex_flow": null,
      "grid_area": null,
      "grid_auto_columns": null,
      "grid_auto_flow": null,
      "grid_auto_rows": null,
      "grid_column": null,
      "grid_gap": null,
      "grid_row": null,
      "grid_template_areas": null,
      "grid_template_columns": null,
      "grid_template_rows": null,
      "height": null,
      "justify_content": null,
      "justify_items": null,
      "left": null,
      "margin": null,
      "max_height": null,
      "max_width": null,
      "min_height": null,
      "min_width": null,
      "object_fit": null,
      "object_position": null,
      "order": null,
      "overflow": null,
      "overflow_x": null,
      "overflow_y": null,
      "padding": null,
      "right": null,
      "top": null,
      "visibility": null,
      "width": null
     }
    },
    "b397bb2d8ed34c87b8f77408ee5372f2": {
     "model_module": "@jupyter-widgets/base",
     "model_module_version": "1.2.0",
     "model_name": "LayoutModel",
     "state": {
      "_model_module": "@jupyter-widgets/base",
      "_model_module_version": "1.2.0",
      "_model_name": "LayoutModel",
      "_view_count": null,
      "_view_module": "@jupyter-widgets/base",
      "_view_module_version": "1.2.0",
      "_view_name": "LayoutView",
      "align_content": null,
      "align_items": null,
      "align_self": null,
      "border": null,
      "bottom": null,
      "display": null,
      "flex": null,
      "flex_flow": null,
      "grid_area": null,
      "grid_auto_columns": null,
      "grid_auto_flow": null,
      "grid_auto_rows": null,
      "grid_column": null,
      "grid_gap": null,
      "grid_row": null,
      "grid_template_areas": null,
      "grid_template_columns": null,
      "grid_template_rows": null,
      "height": null,
      "justify_content": null,
      "justify_items": null,
      "left": null,
      "margin": null,
      "max_height": null,
      "max_width": null,
      "min_height": null,
      "min_width": null,
      "object_fit": null,
      "object_position": null,
      "order": null,
      "overflow": null,
      "overflow_x": null,
      "overflow_y": null,
      "padding": null,
      "right": null,
      "top": null,
      "visibility": null,
      "width": null
     }
    },
    "b40f6a0b1dbb4444b66878f2304584a7": {
     "model_module": "@jupyter-widgets/base",
     "model_module_version": "1.2.0",
     "model_name": "LayoutModel",
     "state": {
      "_model_module": "@jupyter-widgets/base",
      "_model_module_version": "1.2.0",
      "_model_name": "LayoutModel",
      "_view_count": null,
      "_view_module": "@jupyter-widgets/base",
      "_view_module_version": "1.2.0",
      "_view_name": "LayoutView",
      "align_content": null,
      "align_items": null,
      "align_self": null,
      "border": null,
      "bottom": null,
      "display": null,
      "flex": null,
      "flex_flow": null,
      "grid_area": null,
      "grid_auto_columns": null,
      "grid_auto_flow": null,
      "grid_auto_rows": null,
      "grid_column": null,
      "grid_gap": null,
      "grid_row": null,
      "grid_template_areas": null,
      "grid_template_columns": null,
      "grid_template_rows": null,
      "height": null,
      "justify_content": null,
      "justify_items": null,
      "left": null,
      "margin": null,
      "max_height": null,
      "max_width": null,
      "min_height": null,
      "min_width": null,
      "object_fit": null,
      "object_position": null,
      "order": null,
      "overflow": null,
      "overflow_x": null,
      "overflow_y": null,
      "padding": null,
      "right": null,
      "top": null,
      "visibility": null,
      "width": null
     }
    },
    "beda64c3be1e4ec89652db8a6fb15a28": {
     "model_module": "@jupyter-widgets/controls",
     "model_module_version": "1.5.0",
     "model_name": "DescriptionStyleModel",
     "state": {
      "_model_module": "@jupyter-widgets/controls",
      "_model_module_version": "1.5.0",
      "_model_name": "DescriptionStyleModel",
      "_view_count": null,
      "_view_module": "@jupyter-widgets/base",
      "_view_module_version": "1.2.0",
      "_view_name": "StyleView",
      "description_width": ""
     }
    },
    "c1c93269e42b46b4941636c3e483713f": {
     "model_module": "@jupyter-widgets/base",
     "model_module_version": "1.2.0",
     "model_name": "LayoutModel",
     "state": {
      "_model_module": "@jupyter-widgets/base",
      "_model_module_version": "1.2.0",
      "_model_name": "LayoutModel",
      "_view_count": null,
      "_view_module": "@jupyter-widgets/base",
      "_view_module_version": "1.2.0",
      "_view_name": "LayoutView",
      "align_content": null,
      "align_items": null,
      "align_self": null,
      "border": null,
      "bottom": null,
      "display": null,
      "flex": null,
      "flex_flow": null,
      "grid_area": null,
      "grid_auto_columns": null,
      "grid_auto_flow": null,
      "grid_auto_rows": null,
      "grid_column": null,
      "grid_gap": null,
      "grid_row": null,
      "grid_template_areas": null,
      "grid_template_columns": null,
      "grid_template_rows": null,
      "height": null,
      "justify_content": null,
      "justify_items": null,
      "left": null,
      "margin": null,
      "max_height": null,
      "max_width": null,
      "min_height": null,
      "min_width": null,
      "object_fit": null,
      "object_position": null,
      "order": null,
      "overflow": null,
      "overflow_x": null,
      "overflow_y": null,
      "padding": null,
      "right": null,
      "top": null,
      "visibility": null,
      "width": null
     }
    },
    "c8222aed5c1444abbf8fd294a35f50f1": {
     "model_module": "@jupyter-widgets/controls",
     "model_module_version": "1.5.0",
     "model_name": "HTMLModel",
     "state": {
      "_dom_classes": [],
      "_model_module": "@jupyter-widgets/controls",
      "_model_module_version": "1.5.0",
      "_model_name": "HTMLModel",
      "_view_count": null,
      "_view_module": "@jupyter-widgets/controls",
      "_view_module_version": "1.5.0",
      "_view_name": "HTMLView",
      "description": "",
      "description_tooltip": null,
      "layout": "IPY_MODEL_386e0d98b5754ff5848f12eb602a5821",
      "placeholder": "​",
      "style": "IPY_MODEL_3041fd0039f24083a1572e836d21dc75",
      "value": "100%"
     }
    },
    "cbd542bb993a4beeabfa40ed0ff925fe": {
     "model_module": "@jupyter-widgets/controls",
     "model_module_version": "1.5.0",
     "model_name": "HBoxModel",
     "state": {
      "_dom_classes": [],
      "_model_module": "@jupyter-widgets/controls",
      "_model_module_version": "1.5.0",
      "_model_name": "HBoxModel",
      "_view_count": null,
      "_view_module": "@jupyter-widgets/controls",
      "_view_module_version": "1.5.0",
      "_view_name": "HBoxView",
      "box_style": "",
      "children": [
       "IPY_MODEL_a853ecb20e4b4980a263de1101ff41e4",
       "IPY_MODEL_4194abcdc95a452b9475cfb43d9ebd48",
       "IPY_MODEL_213f9f020d804841b58ffb6ed676a1a9"
      ],
      "layout": "IPY_MODEL_289ea59b57f849f5a859e99b4cd5cc7f"
     }
    },
    "cc66c7ba7fbb4ecf93dbb7453bc71f97": {
     "model_module": "@jupyter-widgets/controls",
     "model_module_version": "1.5.0",
     "model_name": "HBoxModel",
     "state": {
      "_dom_classes": [],
      "_model_module": "@jupyter-widgets/controls",
      "_model_module_version": "1.5.0",
      "_model_name": "HBoxModel",
      "_view_count": null,
      "_view_module": "@jupyter-widgets/controls",
      "_view_module_version": "1.5.0",
      "_view_name": "HBoxView",
      "box_style": "",
      "children": [
       "IPY_MODEL_0b199aced4834b84a22f8bb57104d011",
       "IPY_MODEL_43dcbeabd0d44a138913f804e063a556",
       "IPY_MODEL_1bb0e900845243b2ad0be14d2804c516"
      ],
      "layout": "IPY_MODEL_d733adfa27db4ebc8c4e70c34b1f6b77"
     }
    },
    "d733adfa27db4ebc8c4e70c34b1f6b77": {
     "model_module": "@jupyter-widgets/base",
     "model_module_version": "1.2.0",
     "model_name": "LayoutModel",
     "state": {
      "_model_module": "@jupyter-widgets/base",
      "_model_module_version": "1.2.0",
      "_model_name": "LayoutModel",
      "_view_count": null,
      "_view_module": "@jupyter-widgets/base",
      "_view_module_version": "1.2.0",
      "_view_name": "LayoutView",
      "align_content": null,
      "align_items": null,
      "align_self": null,
      "border": null,
      "bottom": null,
      "display": null,
      "flex": null,
      "flex_flow": null,
      "grid_area": null,
      "grid_auto_columns": null,
      "grid_auto_flow": null,
      "grid_auto_rows": null,
      "grid_column": null,
      "grid_gap": null,
      "grid_row": null,
      "grid_template_areas": null,
      "grid_template_columns": null,
      "grid_template_rows": null,
      "height": null,
      "justify_content": null,
      "justify_items": null,
      "left": null,
      "margin": null,
      "max_height": null,
      "max_width": null,
      "min_height": null,
      "min_width": null,
      "object_fit": null,
      "object_position": null,
      "order": null,
      "overflow": null,
      "overflow_x": null,
      "overflow_y": null,
      "padding": null,
      "right": null,
      "top": null,
      "visibility": null,
      "width": null
     }
    },
    "dba54674320f43a7b0a84feca359311e": {
     "model_module": "@jupyter-widgets/controls",
     "model_module_version": "1.5.0",
     "model_name": "FloatProgressModel",
     "state": {
      "_dom_classes": [],
      "_model_module": "@jupyter-widgets/controls",
      "_model_module_version": "1.5.0",
      "_model_name": "FloatProgressModel",
      "_view_count": null,
      "_view_module": "@jupyter-widgets/controls",
      "_view_module_version": "1.5.0",
      "_view_name": "ProgressView",
      "bar_style": "success",
      "description": "",
      "description_tooltip": null,
      "layout": "IPY_MODEL_b397bb2d8ed34c87b8f77408ee5372f2",
      "max": 2000,
      "min": 0,
      "orientation": "horizontal",
      "style": "IPY_MODEL_fa50732a13b840aba734b0a4a7869fd3",
      "value": 2000
     }
    },
    "e28f37d0667345e586f69f5745caa1c2": {
     "model_module": "@jupyter-widgets/controls",
     "model_module_version": "1.5.0",
     "model_name": "FloatProgressModel",
     "state": {
      "_dom_classes": [],
      "_model_module": "@jupyter-widgets/controls",
      "_model_module_version": "1.5.0",
      "_model_name": "FloatProgressModel",
      "_view_count": null,
      "_view_module": "@jupyter-widgets/controls",
      "_view_module_version": "1.5.0",
      "_view_name": "ProgressView",
      "bar_style": "success",
      "description": "",
      "description_tooltip": null,
      "layout": "IPY_MODEL_8612be4741ce444998745cc63fdf38e9",
      "max": 2800,
      "min": 0,
      "orientation": "horizontal",
      "style": "IPY_MODEL_33d03a815ac64c2ab2acde74854493e5",
      "value": 2800
     }
    },
    "e76f0b3e6561404791973d9fe0dfa4ba": {
     "model_module": "@jupyter-widgets/base",
     "model_module_version": "1.2.0",
     "model_name": "LayoutModel",
     "state": {
      "_model_module": "@jupyter-widgets/base",
      "_model_module_version": "1.2.0",
      "_model_name": "LayoutModel",
      "_view_count": null,
      "_view_module": "@jupyter-widgets/base",
      "_view_module_version": "1.2.0",
      "_view_name": "LayoutView",
      "align_content": null,
      "align_items": null,
      "align_self": null,
      "border": null,
      "bottom": null,
      "display": null,
      "flex": null,
      "flex_flow": null,
      "grid_area": null,
      "grid_auto_columns": null,
      "grid_auto_flow": null,
      "grid_auto_rows": null,
      "grid_column": null,
      "grid_gap": null,
      "grid_row": null,
      "grid_template_areas": null,
      "grid_template_columns": null,
      "grid_template_rows": null,
      "height": null,
      "justify_content": null,
      "justify_items": null,
      "left": null,
      "margin": null,
      "max_height": null,
      "max_width": null,
      "min_height": null,
      "min_width": null,
      "object_fit": null,
      "object_position": null,
      "order": null,
      "overflow": null,
      "overflow_x": null,
      "overflow_y": null,
      "padding": null,
      "right": null,
      "top": null,
      "visibility": null,
      "width": null
     }
    },
    "e85c46e7ba5f40f7ac8e02af62d0b480": {
     "model_module": "@jupyter-widgets/controls",
     "model_module_version": "1.5.0",
     "model_name": "DescriptionStyleModel",
     "state": {
      "_model_module": "@jupyter-widgets/controls",
      "_model_module_version": "1.5.0",
      "_model_name": "DescriptionStyleModel",
      "_view_count": null,
      "_view_module": "@jupyter-widgets/base",
      "_view_module_version": "1.2.0",
      "_view_name": "StyleView",
      "description_width": ""
     }
    },
    "f09a7d781a374d78a6ec8fb8ca0b3c56": {
     "model_module": "@jupyter-widgets/controls",
     "model_module_version": "1.5.0",
     "model_name": "HTMLModel",
     "state": {
      "_dom_classes": [],
      "_model_module": "@jupyter-widgets/controls",
      "_model_module_version": "1.5.0",
      "_model_name": "HTMLModel",
      "_view_count": null,
      "_view_module": "@jupyter-widgets/controls",
      "_view_module_version": "1.5.0",
      "_view_name": "HTMLView",
      "description": "",
      "description_tooltip": null,
      "layout": "IPY_MODEL_b40f6a0b1dbb4444b66878f2304584a7",
      "placeholder": "​",
      "style": "IPY_MODEL_6b4b37c2c0ef47bc816e246cd336a4ae",
      "value": "100%"
     }
    },
    "f2124ec835c141fdac35fa7605bcbedc": {
     "model_module": "@jupyter-widgets/controls",
     "model_module_version": "1.5.0",
     "model_name": "DescriptionStyleModel",
     "state": {
      "_model_module": "@jupyter-widgets/controls",
      "_model_module_version": "1.5.0",
      "_model_name": "DescriptionStyleModel",
      "_view_count": null,
      "_view_module": "@jupyter-widgets/base",
      "_view_module_version": "1.2.0",
      "_view_name": "StyleView",
      "description_width": ""
     }
    },
    "f2244db97e374944b75e07cde1adced6": {
     "model_module": "@jupyter-widgets/base",
     "model_module_version": "1.2.0",
     "model_name": "LayoutModel",
     "state": {
      "_model_module": "@jupyter-widgets/base",
      "_model_module_version": "1.2.0",
      "_model_name": "LayoutModel",
      "_view_count": null,
      "_view_module": "@jupyter-widgets/base",
      "_view_module_version": "1.2.0",
      "_view_name": "LayoutView",
      "align_content": null,
      "align_items": null,
      "align_self": null,
      "border": null,
      "bottom": null,
      "display": null,
      "flex": null,
      "flex_flow": null,
      "grid_area": null,
      "grid_auto_columns": null,
      "grid_auto_flow": null,
      "grid_auto_rows": null,
      "grid_column": null,
      "grid_gap": null,
      "grid_row": null,
      "grid_template_areas": null,
      "grid_template_columns": null,
      "grid_template_rows": null,
      "height": null,
      "justify_content": null,
      "justify_items": null,
      "left": null,
      "margin": null,
      "max_height": null,
      "max_width": null,
      "min_height": null,
      "min_width": null,
      "object_fit": null,
      "object_position": null,
      "order": null,
      "overflow": null,
      "overflow_x": null,
      "overflow_y": null,
      "padding": null,
      "right": null,
      "top": null,
      "visibility": null,
      "width": null
     }
    },
    "fa50732a13b840aba734b0a4a7869fd3": {
     "model_module": "@jupyter-widgets/controls",
     "model_module_version": "1.5.0",
     "model_name": "ProgressStyleModel",
     "state": {
      "_model_module": "@jupyter-widgets/controls",
      "_model_module_version": "1.5.0",
      "_model_name": "ProgressStyleModel",
      "_view_count": null,
      "_view_module": "@jupyter-widgets/base",
      "_view_module_version": "1.2.0",
      "_view_name": "StyleView",
      "bar_color": null,
      "description_width": ""
     }
    },
    "fddf58b66f004df29f3b63cf50cb620c": {
     "model_module": "@jupyter-widgets/controls",
     "model_module_version": "1.5.0",
     "model_name": "DescriptionStyleModel",
     "state": {
      "_model_module": "@jupyter-widgets/controls",
      "_model_module_version": "1.5.0",
      "_model_name": "DescriptionStyleModel",
      "_view_count": null,
      "_view_module": "@jupyter-widgets/base",
      "_view_module_version": "1.2.0",
      "_view_name": "StyleView",
      "description_width": ""
     }
    }
   }
  }
 },
 "nbformat": 4,
 "nbformat_minor": 4
}
